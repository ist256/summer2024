{
 "cells": [
  {
   "cell_type": "markdown",
   "metadata": {},
   "source": [
    "# Homework: People Enslaved on Plantations in St. Lucia, 1815.\n",
    "\n",
    "Dr. Murphy from the Maxwell school and I collaborated on a research project to build a searchable database of enslaved individuals from St. Lucia. The data came from a British census of the Caribbean island in 1815. Great Britain had recently secured the island in 1814 from the French following the Treaty of Paris ending the Napoleonic Wars. \n",
    "\n",
    "This project posed unique challenges as the census data were scanned pages of hand-written census data in French. The unique nature of the data made it difficult to automate so we used student volunteers to read the page and translate then transcribe the data into a spreadsheet, so we could then build the dataset. Here is an example of one of these pages:\n",
    "\n",
    "[https://imgur.com/a/usMqX1c](https://imgur.com/a/usMqX1c)\n",
    "\n",
    "The impact of the project was significant. Before our work there was no searchable registry of individuals from this census. Our dataset, to be published to the Journal of Slavery and Data Preservation,  https://jsdp.enslaved.org, will be searchable by name as well as other characteristics. We are hoping people will use the dataset to help learn about the history of St. Lucia and make connections in their genealogical histories. \n",
    "\n",
    "Dr. Murphy and I appeared on the 'Cuse Conversations podcast in 2023. If you're intereted in our work, give it a listen.\n",
    "\n",
    "https://podcasters.spotify.com/pod/show/cuseconversations/episodes/Reconstructing-the-Lives-and-Genealogies-of-Enslaved-People-Maxwell--iSchool-Faculty-Partner-on-Searchable-Database-e2187me/a-a9in78h\n",
    "\n",
    "## The Assignment\n",
    "\n",
    "For this assignment, you will use an abridged version of this dataset. It consists of two parts:\n",
    "\n",
    "- `https://raw.githubusercontent.com/mafudge/datasets/master/st-lucia/St-Lucia-1815-Plantation-Only.csv` This dataset contains a list of plantations from the registry. One row is a plantation. The plantation a summary of the number of people enslaved on the plantation, but does not include any details as to who they individuals are.\n",
    "- `https://raw.githubusercontent.com/mafudge/datasets/master/st-lucia/parishes.csv` geocoded districts of St. Lucia in 1815  which you can use to display a map.\n",
    "\n",
    "The goal for this assignment is to practice data exploration and then build a data product. \n",
    "\n",
    "- **You Code 2.1** Data Exploration. You will complete a series of code challenges similar to the lab and smallgroup. Unlike your project, you will be given questions to answer, and need to write Python code to answer them.\n",
    "- **You Code 2.2** Data Product. You will build a data story based on your data exploration. Again this will be a guided process.  You will hold off on completing the problem analysis until this section.\n"
   ]
  },
  {
   "cell_type": "markdown",
   "metadata": {
    "label": "problem_analysis_cell"
   },
   "source": [
    "## Part 1: Problem Analysis\n",
    "\n",
    "You will complete a problem analysis for the data product to tell a story in 2.2. **Since we are using data exploration in 2.1, do not attempt this step until step 2.2**\n",
    "\n",
    "\n",
    "### 1.1 Program Outputs\n",
    "\n",
    "Describe your program outputs in the cell below. \n"
   ]
  },
  {
   "cell_type": "markdown",
   "metadata": {
    "editable": true,
    "label": "analysis_output_cell",
    "slideshow": {
     "slide_type": ""
    },
    "tags": []
   },
   "source": []
  },
  {
   "cell_type": "markdown",
   "metadata": {},
   "source": [
    "### 1.2 Program Inputs\n",
    "\n",
    "List out the program inputs in the cell below.\n"
   ]
  },
  {
   "cell_type": "markdown",
   "metadata": {
    "editable": true,
    "label": "analysis_input_cell",
    "slideshow": {
     "slide_type": ""
    },
    "tags": []
   },
   "source": []
  },
  {
   "cell_type": "markdown",
   "metadata": {},
   "source": [
    "### 1.3 The Plan (Algorithm)\n",
    "\n",
    "Explain, as specifically as you can, without writing code, how the program works from input to output. Be detailed with your plan as you will need to turn it into code. \n"
   ]
  },
  {
   "cell_type": "markdown",
   "metadata": {
    "label": "analysis_plan_cell",
    "tags": []
   },
   "source": []
  },
  {
   "cell_type": "markdown",
   "metadata": {},
   "source": [
    "## Part 2: Code Solution\n",
    "\n",
    "You may write your code in several cells, but place the complete, final working copy of your code solution within this single cell below. Only the within this cell will be considered your solution. Any imports or user-defined functions should be copied into this cell. "
   ]
  },
  {
   "cell_type": "code",
   "execution_count": null,
   "metadata": {
    "label": "code_solution_cell",
    "tags": []
   },
   "outputs": [],
   "source": [
    "import pandas as pd\n",
    "import seaborn as sns\n",
    "import folium\n",
    "from IPython.display import display\n",
    "from ipywidgets import interact_manual"
   ]
  },
  {
   "cell_type": "code",
   "execution_count": null,
   "metadata": {
    "tags": []
   },
   "outputs": [],
   "source": [
    "plantation_url = \"https://raw.githubusercontent.com/mafudge/datasets/master/st-lucia/St-Lucia-1815-Plantation-Only.csv\"\n",
    "parishes_url = \"https://raw.githubusercontent.com/mafudge/datasets/master/st-lucia/parishes.csv\"\n",
    "\n",
    "# Load the datasets, We need to use a special text encoding for the accents.\n",
    "plantations = pd.read_csv(plantation_url, encoding=\"ISO-8859-1\")\n",
    "parishes = pd.read_csv(parishes_url, encoding=\"ISO-8859-1\")\n",
    "\n",
    "# Combine the datasets together on Parish so that we have GPS coordinates for them\n",
    "df = pd.merge(left=plantations, right=parishes, how=\"inner\", left_on=\"Location (Parish)\", right_on=\"Parish\")\n",
    "\n",
    "# Add a count column to make our visualizations easier to produce, similar to labs and small group\n",
    "df['count'] = 1\n",
    "\n",
    "# take a peek at the columns\n",
    "df.sample()"
   ]
  },
  {
   "cell_type": "markdown",
   "metadata": {},
   "source": [
    "### You Code 2.1: Data Explorations\n",
    "\n",
    "Before we build a data story, we must figure out which story we want to tell. This is generally accomplished by exploring and visualizing the dataset.\n",
    "\n",
    "    2.1.a. Data Set Information: Number of plantations in dataset? Number of columns?\n",
    "    2.1.b  Number of enslaved peoples in dataset?\n",
    "    2.1.c  Plot the count of plantations by district/parish\n",
    "    2.1.d  Plot the count of plantations by plantation owner's sex\n",
    "    2.1.e  Plot of total number of enslaved peoples by location/parish\n",
    "    2.1.f  Filter out plantations with unknown main production (?)\n",
    "    2.1.g  Plot of counts of plantations by production, excluding the unknowns. `Coffee`, `Sugar`, etc...\n",
    "\n",
    "For each of the following, output using the `display()` function, or directly to the cell output. **Make sure your bar charts are legible.** Proceed to swap the x/y axis if necessary.\n",
    "\n",
    "**There are not automated code checks for 2.1. Your work will be graded manually.**"
   ]
  },
  {
   "cell_type": "code",
   "execution_count": null,
   "metadata": {
    "code_cell_type": "write_code",
    "editable": true,
    "label": "2.1.a",
    "slideshow": {
     "slide_type": ""
    },
    "solution": [],
    "tags": [],
    "tests": [
     {
      "input-stream": "\n",
      "kind": "runcode",
      "search-output": [
       ""
      ]
     }
    ]
   },
   "outputs": [],
   "source": [
    "# SOLUTION CELL 2.1.a. Data Set Information: Number of plantations in dataset? Number of columns?\n"
   ]
  },
  {
   "cell_type": "code",
   "execution_count": null,
   "metadata": {
    "code_cell_type": "write_code",
    "editable": true,
    "label": "2.1.b",
    "slideshow": {
     "slide_type": ""
    },
    "solution": [],
    "tags": [],
    "tests": [
     {
      "input-stream": "\n",
      "kind": "runcode",
      "search-output": [
       ""
      ]
     }
    ]
   },
   "outputs": [],
   "source": [
    "# SOLUTION CELL 2.1.b  Number of enslaved peoples in dataset?\n"
   ]
  },
  {
   "cell_type": "code",
   "execution_count": null,
   "metadata": {
    "code_cell_type": "write_code",
    "editable": true,
    "label": "2.1.c",
    "slideshow": {
     "slide_type": ""
    },
    "solution": [],
    "tags": [],
    "tests": [
     {
      "input-stream": "\n",
      "kind": "runcode",
      "search-output": [
       ""
      ]
     }
    ]
   },
   "outputs": [],
   "source": [
    "# SOLUTION CELL 2.1.c  Plot the count of plantations by district/parish\n"
   ]
  },
  {
   "cell_type": "code",
   "execution_count": null,
   "metadata": {
    "code_cell_type": "write_code",
    "editable": true,
    "label": "2.1.d",
    "slideshow": {
     "slide_type": ""
    },
    "solution": [],
    "tags": [],
    "tests": [
     {
      "input-stream": "\n",
      "kind": "runcode",
      "search-output": [
       ""
      ]
     }
    ]
   },
   "outputs": [],
   "source": [
    "# SOLUTION CELL 2.1.d  Plot the count of plantations by plantation owner's sex\n"
   ]
  },
  {
   "cell_type": "code",
   "execution_count": null,
   "metadata": {
    "code_cell_type": "write_code",
    "editable": true,
    "label": "2.1.e",
    "slideshow": {
     "slide_type": ""
    },
    "solution": [],
    "tags": [],
    "tests": [
     {
      "input-stream": "\n",
      "kind": "runcode",
      "search-output": [
       ""
      ]
     }
    ]
   },
   "outputs": [],
   "source": [
    "# SOLUTION CELL 2.1.e  Plot of total number of enslaved peoples by location/parish\n"
   ]
  },
  {
   "cell_type": "code",
   "execution_count": null,
   "metadata": {
    "code_cell_type": "write_code",
    "editable": true,
    "label": "2.1.f",
    "slideshow": {
     "slide_type": ""
    },
    "solution": [],
    "tags": [],
    "tests": [
     {
      "input-stream": "\n",
      "kind": "runcode",
      "search-output": [
       ""
      ]
     }
    ]
   },
   "outputs": [],
   "source": [
    "# SOLUTION CELL 2.1.f  Filter out plantations with unknown main production (?)\n"
   ]
  },
  {
   "cell_type": "code",
   "execution_count": null,
   "metadata": {
    "code_cell_type": "write_code",
    "editable": true,
    "label": "2.1.g",
    "slideshow": {
     "slide_type": ""
    },
    "solution": [],
    "tags": [],
    "tests": [
     {
      "input-stream": "\n",
      "kind": "runcode",
      "search-output": [
       ""
      ]
     }
    ]
   },
   "outputs": [],
   "source": [
    "# SOLUTION CELL 2.1.g  Plot of counts of plantations by production, excluding the unknowns. `Coffee`, `Sugar`, etc...\n"
   ]
  },
  {
   "cell_type": "markdown",
   "metadata": {},
   "source": [
    "### You Code 2.2: Data Product\n",
    "\n",
    "The last Plot is interesting. Let's use it in our data story. We want to help the user of our program undersand which goods were produced on St. Lucia plantations and the where on the island they were produced. \n",
    "\n",
    "The user types in a production such as `Coffee`, `Sugar`, `Cassava`, `Cacao`, etc... Note these are individual productions, I don't want to see Coffee,Cassava as a choice. \n",
    "\n",
    "Then the appliction displays:\n",
    "\n",
    "- A chart counting the number of plantations in each parsh that produces the product\n",
    "- A map of St. Lucia with a pin in each parish that produces the products. The marker popup should show the parish name\n",
    "\n",
    "Details of the process:\n",
    "\n",
    "- filter out the ? from the Main production\n",
    "- filter out the columns to only what you need: `Main Production`, `Parish`, `count`, `Lat`, `Lon`\n",
    "- based on the input, use `find()` to filtered the input production value. We did something similar in a previous assignment, lab or small group.\n",
    "- with the filtered dataframe display counts of plantations by parish\n",
    "- with the filtered dataframe display the pins on a map\n",
    "\n",
    "\n",
    "Here's a video of the final data product in action:\n",
    "\n",
    "[https:////imgur.com/a/4N2C9ad](https://imgur.com/a/4N2C9ad)\n",
    "\n",
    "\n",
    "\n",
    "**There are not automated code checks for 2.2. Your work will be graded manually.**\n"
   ]
  },
  {
   "cell_type": "code",
   "execution_count": null,
   "metadata": {
    "code_cell_type": "write_code",
    "editable": true,
    "label": "2.2",
    "slideshow": {
     "slide_type": ""
    },
    "solution": [],
    "tags": [],
    "tests": [
     {
      "input-stream": "\n",
      "kind": "runcode",
      "search-output": [
       ""
      ]
     }
    ]
   },
   "outputs": [],
   "source": [
    "# SOLUTION CELL 2.2\n",
    "import pandas as pd\n",
    "import seaborn as sns\n",
    "import folium\n",
    "\n"
   ]
  },
  {
   "cell_type": "markdown",
   "metadata": {
    "label": "homework_questions_cell"
   },
   "source": [
    "## Part 3: Metacognition\n",
    "\n",
    "These questions are designed to prompt you to reflect on your learning. Reflection is part of the assignment grade so please take time to answer the questions thoughtfully.\n",
    "\n",
    "#### 3.1 List at least 3 things you learned this week and/or throughout the process of completing this assignment?"
   ]
  },
  {
   "cell_type": "markdown",
   "metadata": {
    "label": "learned_cell"
   },
   "source": []
  },
  {
   "cell_type": "markdown",
   "metadata": {},
   "source": [
    "#### 3.2 What were the challenges or roadblocks (if any) you encountered on the way to completing it?"
   ]
  },
  {
   "cell_type": "markdown",
   "metadata": {
    "label": "challenges_cell"
   },
   "source": []
  },
  {
   "cell_type": "markdown",
   "metadata": {},
   "source": [
    "#### 3.3 Were you prepared for this assignment? What can you do to be better prepared?"
   ]
  },
  {
   "cell_type": "markdown",
   "metadata": {
    "label": "prepared_cell"
   },
   "source": []
  },
  {
   "cell_type": "markdown",
   "metadata": {},
   "source": [
    "#### 3.4 Did someone (or something such as AI) help you? Did You help someone? Provide details. "
   ]
  },
  {
   "cell_type": "markdown",
   "metadata": {
    "label": "help_cell"
   },
   "source": []
  },
  {
   "cell_type": "markdown",
   "metadata": {},
   "source": [
    "#### 3.5  Now that you have completed the assignment rate your comfort level with this week’s material. This should be an honest assessment of your ability: \n",
    "\n",
    "**1** ==> I don't understand this at all yet and need extra help. If you choose this please try to articulate that which you do not understand to the best of your ability in the questions and comments section below.  \n",
    "**2** ==> I can do this with help or guidance from other people or resources. If you choose this level, please indicate HOW this person helped you in the questions and comments section below.   \n",
    "**3** ==> I can do this on my own without any help.   \n",
    "**4** ==> I can do this on my own and can explain/teach how to do it to others.\n",
    "\n",
    "`ENTER A NUMBER 1-4 IN THE CELL BELOW`"
   ]
  },
  {
   "cell_type": "markdown",
   "metadata": {
    "label": "comfort_cell"
   },
   "source": []
  },
  {
   "cell_type": "markdown",
   "metadata": {
    "label": ""
   },
   "source": [
    "## Part 4: Turning it in\n",
    "\n",
    "FIRST AND FOREMOST: **Save Your work!** Yes, it auto-saves, but you should get in the habit of saving before submitting. From the menu, choose File --> Save Notebook. Or you can use the shortcut keys `CTRL+S`\n",
    "\n",
    "### Homework Check\n",
    "\n",
    "Check your homework before submitting. Look for errors and incomplete parts which might cost you a better grade."
   ]
  },
  {
   "cell_type": "code",
   "execution_count": null,
   "metadata": {
    "tags": []
   },
   "outputs": [],
   "source": [
    "from casstools.notebook_tools import NotebookFile\n",
    "NotebookFile().check_homework()"
   ]
  },
  {
   "cell_type": "markdown",
   "metadata": {
    "label": ""
   },
   "source": [
    "### Homework Submission\n",
    "\n",
    "Run this code and follow the instructions to turn in your homework."
   ]
  },
  {
   "cell_type": "code",
   "execution_count": null,
   "metadata": {},
   "outputs": [],
   "source": [
    "from casstools.assignment import Assignment\n",
    "Assignment().submit()"
   ]
  },
  {
   "cell_type": "code",
   "execution_count": null,
   "metadata": {},
   "outputs": [],
   "source": []
  }
 ],
 "metadata": {
  "anaconda-cloud": {},
  "celltoolbar": "Edit Metadata",
  "kernelspec": {
   "display_name": "Python 3 (ipykernel)",
   "language": "python",
   "name": "python3"
  },
  "language_info": {
   "codemirror_mode": {
    "name": "ipython",
    "version": 3
   },
   "file_extension": ".py",
   "mimetype": "text/x-python",
   "name": "python",
   "nbconvert_exporter": "python",
   "pygments_lexer": "ipython3",
   "version": "3.11.7"
  },
  "toc": {
   "base_numbering": 1,
   "nav_menu": {},
   "number_sections": false,
   "sideBar": false,
   "skip_h1_title": false,
   "title_cell": "Table of Contents",
   "title_sidebar": "Contents",
   "toc_cell": false,
   "toc_position": {},
   "toc_section_display": false,
   "toc_window_display": false
  },
  "varInspector": {
   "cols": {
    "lenName": 16,
    "lenType": 16,
    "lenVar": 40
   },
   "kernels_config": {
    "python": {
     "delete_cmd_postfix": "",
     "delete_cmd_prefix": "del ",
     "library": "var_list.py",
     "varRefreshCmd": "print(var_dic_list())"
    },
    "r": {
     "delete_cmd_postfix": ") ",
     "delete_cmd_prefix": "rm(",
     "library": "var_list.r",
     "varRefreshCmd": "cat(var_dic_list()) "
    }
   },
   "types_to_exclude": [
    "module",
    "function",
    "builtin_function_or_method",
    "instance",
    "_Feature"
   ],
   "window_display": false
  }
 },
 "nbformat": 4,
 "nbformat_minor": 4
}
