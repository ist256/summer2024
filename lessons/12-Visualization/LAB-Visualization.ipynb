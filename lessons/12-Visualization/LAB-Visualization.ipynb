{
 "cells": [
  {
   "cell_type": "markdown",
   "metadata": {},
   "source": [
    "# In-Class Coding Lab: Data Visualization\n",
    "\n",
    "The goals of this lab are to help you understand:\n",
    "\n",
    " - The value of visualization: A picture is worth 1,000 words!\n",
    " - The various ways to visualize information\n",
    " - The basic requirements for any visualization\n",
    " - How to plot complex visualizations such as multi-series charts and maps\n",
    " - Visualization Tools:\n",
    "     - Matplolib\n",
    "     - Plot.ly\n",
    "     - Folium Maps\n",
    "     "
   ]
  },
  {
   "cell_type": "code",
   "execution_count": null,
   "metadata": {
    "code_cell_type": "run_code",
    "tags": []
   },
   "outputs": [],
   "source": [
    "import pandas as pd\n",
    "import seaborn as sns\n",
    "import folium\n",
    "\n",
    "import warnings\n",
    "from IPython.display import display\n",
    "from ipywidgets import interact_manual\n",
    "import matplotlib.pyplot as plt\n",
    "warnings.filterwarnings('ignore')\n",
    "\n",
    "%matplotlib inline"
   ]
  },
  {
   "cell_type": "markdown",
   "metadata": {},
   "source": [
    "## The movie goers data set\n",
    "\n",
    "For this lab, we will use the movie goers data set. This data set is a survey demographic survey of people who go to the movies. Let's reload the data and setup our `age_group` feature of `Youth`, `Adult` and `Senior`. We will also create a measure column, `count` because this dataset has no definitive measures such as the price someone paid to see the movie."
   ]
  },
  {
   "cell_type": "code",
   "execution_count": null,
   "metadata": {
    "code_cell_type": "run_code",
    "tags": []
   },
   "outputs": [],
   "source": [
    "goers = pd.read_csv('https://raw.githubusercontent.com/mafudge/datasets/master/ist256/13-visualization/moviegoers.csv')\n",
    "goers['age_group'] = ''\n",
    "goers['age_group'][goers['age'] <=18] = 'Youth'\n",
    "goers['age_group'][(goers['age'] >=19) & (goers['age'] <=55)] = 'Adult'\n",
    "goers['age_group'][goers['age'] >=56] = 'Senior'\n",
    "goers['count'] = 1\n",
    "goers.sample(5)"
   ]
  },
  {
   "cell_type": "markdown",
   "metadata": {},
   "source": [
    "## Visualizing Data\n",
    "\n",
    "There are many ways your can visualize information. Which one is the most appropriate? It depends on the data, of course. \n",
    "\n",
    "- **Counting Categorial data** belongs in *charts like bar charts*.\n",
    "- **Counting Numerical data** is best suited for *histograms*.\n",
    "- **Timeseries data and continuous data** belongs in *line charts*.\n",
    "- **A comparision of two continuous values** is best suited for a *scatter plot*. \n",
    "- **Geographical data** is best displauyed on *maps*.\n",
    "\n",
    "Let's use this knowledge to plot some data in the `goers` `DataFrame`!\n",
    "\n",
    "## Males or Females?\n",
    "\n",
    "The first thing we might want to visualize is a count of gender in the dataset. A `barplot()` is well suited for this task as it displays data as a portion of a whole. \n",
    "\n",
    "To create a bar chart we place the category, `gender` on the x-axis, the value to count `count` on the y-axis, and we set the `estimator='sum'` since we want to add up the values.\n"
   ]
  },
  {
   "cell_type": "code",
   "execution_count": null,
   "metadata": {
    "code_cell_type": "run_code",
    "tags": []
   },
   "outputs": [],
   "source": [
    "sns.barplot(data=goers, x=\"gender\", y=\"count\", estimator=\"sum\")"
   ]
  },
  {
   "cell_type": "markdown",
   "metadata": {},
   "source": [
    "Genders are out of balance!\n",
    "\n",
    "Here's the same information without the plot:"
   ]
  },
  {
   "cell_type": "code",
   "execution_count": null,
   "metadata": {
    "code_cell_type": "run_code",
    "tags": []
   },
   "outputs": [],
   "source": [
    "goers['gender'].value_counts()"
   ]
  },
  {
   "cell_type": "markdown",
   "metadata": {},
   "source": [
    "### 1.1 You Code\n",
    "\n",
    "Create a bar chart for the `age_group` series. We want to `sum` up the `count`. like we did in the previous example. Which group has the most movie goers?\n"
   ]
  },
  {
   "cell_type": "code",
   "execution_count": null,
   "metadata": {
    "code_cell_type": "write_code",
    "label": "1.1",
    "solution": [
     "sns.barplot(data=goers, x='age_group', y='count', estimator='sum')"
    ],
    "tags": []
   },
   "outputs": [],
   "source": [
    "#todo write code here\n"
   ]
  },
  {
   "cell_type": "markdown",
   "metadata": {},
   "source": [
    "## Looking at occupations\n",
    "\n",
    "Check out this plot of occupations. Very busy"
   ]
  },
  {
   "cell_type": "code",
   "execution_count": null,
   "metadata": {
    "code_cell_type": "run_code",
    "tags": []
   },
   "outputs": [],
   "source": [
    "sns.barplot(data=goers, x=\"occupation\", y=\"count\", estimator=\"sum\")"
   ]
  },
  {
   "cell_type": "markdown",
   "metadata": {},
   "source": [
    "**The solution is to swap the X and Y.**\n",
    "\n",
    "This rotates the plot on its side which is easier to read! Common for bar charts with long label names and many categories.\n",
    "\n",
    "Also we add a splash of color with the `hue=` argument."
   ]
  },
  {
   "cell_type": "code",
   "execution_count": null,
   "metadata": {
    "code_cell_type": "run_code",
    "tags": []
   },
   "outputs": [],
   "source": [
    "sns.barplot(data=goers, y=\"occupation\", x=\"count\", estimator=\"sum\", hue=\"occupation\")"
   ]
  },
  {
   "cell_type": "markdown",
   "metadata": {},
   "source": [
    "Ahh. that's much better. So much easier to understand! \n",
    "\n",
    "Lots of students going to the movies. Looks like I need to assign more homework!\n",
    "\n",
    "### 1.2 You Code\n",
    "\n",
    "create a `barplot()` similar to the example above but break the occupations up by gender.Each gender should be listed next to the occupation. Are they female doctors in the dataset?"
   ]
  },
  {
   "cell_type": "code",
   "execution_count": null,
   "metadata": {
    "code_cell_type": "write_code",
    "label": "1.2",
    "solution": [
     "sns.barplot(data=goers, y='occupation', x='count', estimator='sum', hue='gender')"
    ],
    "tags": []
   },
   "outputs": [],
   "source": [
    "# todo write code here\n"
   ]
  },
  {
   "cell_type": "markdown",
   "metadata": {},
   "source": [
    "## Origin of the Histogram\n",
    "\n",
    "Bar charts are not suitable for continuous values. For example, let's create a bar chart for ages: "
   ]
  },
  {
   "cell_type": "code",
   "execution_count": null,
   "metadata": {
    "code_cell_type": "run_code",
    "tags": []
   },
   "outputs": [],
   "source": [
    "sns.barplot(data=goers, x=\"age\", y=\"count\", estimator=\"sum\", hue=\"age\")"
   ]
  },
  {
   "cell_type": "markdown",
   "metadata": {},
   "source": [
    "Not helpful. Why?\n",
    "\n",
    "1. too many categories. Theres a bar for each age\n",
    "2. age is a continuous variable not a categorical variable. In plain English, this means there's a relationship between one age and the next.  20 < 21 < 22. This relationship is not represented in a bar chart, which only displays categories of data.\n",
    "\n",
    "## ...Call in the Histogram!\n",
    "\n",
    "What we want is a **historgram**, which takes a continuous variable and loads counts into \"bins\". Let's try it:"
   ]
  },
  {
   "cell_type": "code",
   "execution_count": null,
   "metadata": {
    "code_cell_type": "run_code",
    "tags": []
   },
   "outputs": [],
   "source": [
    "sns.histplot(data=goers, x=\"age\")"
   ]
  },
  {
   "cell_type": "markdown",
   "metadata": {},
   "source": [
    "The `histplot()` peforms automatic binning. Let's add a second dimension to the hisogram to overay `Gender`. From the output you can see how there are many more Male movie goers in all the age groups."
   ]
  },
  {
   "cell_type": "code",
   "execution_count": null,
   "metadata": {
    "code_cell_type": "run_code",
    "tags": []
   },
   "outputs": [],
   "source": [
    "sns.histplot(data=goers, x=\"age\", hue=\"gender\")"
   ]
  },
  {
   "cell_type": "markdown",
   "metadata": {},
   "source": [
    "### 1.3 You Code\n",
    "\n",
    "Write a one-liner to make a histogram of Movie goeer ages by age group. At first glance this might seem like a silly thing to do but the visual is actually quite interresting, and you can clearly see which part of the data distributions are `Adult`, `Senior` and `Youth`."
   ]
  },
  {
   "cell_type": "code",
   "execution_count": null,
   "metadata": {
    "code_cell_type": "write_code",
    "label": "1.3",
    "solution": [
     "sns.histplot(data=goers, x='age', hue='age_group')\n"
    ],
    "tags": []
   },
   "outputs": [],
   "source": [
    "# todo write code here\n"
   ]
  },
  {
   "cell_type": "markdown",
   "metadata": {},
   "source": [
    "## Interactive Data Products\n",
    "\n",
    "After exploring your data, you might decide on a compelling data product. For example:\n",
    "\n",
    "I'd like to allow a user to compare age distributions (like in 1.3) but for two occupations. So for example the user selects `student` and `scientist` and then it outputs two `histplots()` similar to 1.3 but filtered to only those selections. Let's build that now.\n",
    "\n",
    "### Dedupe the occupation\n",
    "\n",
    "this code dedupes the occupation"
   ]
  },
  {
   "cell_type": "code",
   "execution_count": null,
   "metadata": {
    "code_cell_type": "run_code",
    "tags": []
   },
   "outputs": [],
   "source": [
    "occupations = sorted(list(goers['occupation'].dropna().unique()))\n",
    "occupations"
   ]
  },
  {
   "cell_type": "markdown",
   "metadata": {},
   "source": [
    "### Build the input widgets\n",
    "\n",
    "\n",
    "Next let's build the input widgets. This code sample creates the input widgets from the `occupations` list. It then filters each occupation and displays two random rows `sample()` from each filtered dataframe."
   ]
  },
  {
   "cell_type": "code",
   "execution_count": null,
   "metadata": {
    "code_cell_type": "run_code",
    "tags": []
   },
   "outputs": [],
   "source": [
    "occupations = sorted(list(goers['occupation'].dropna().unique()))\n",
    "@interact_manual(occupation1=occupations, occupation2=occupations)\n",
    "def onclick(occupation1, occupation2):\n",
    "    occdf1 = goers[goers['occupation']==occupation1]\n",
    "    occdf2 = goers[goers['occupation']==occupation2]\n",
    "    display(occdf1.sample(2))\n",
    "    display(occdf2.sample(2))\n"
   ]
  },
  {
   "cell_type": "markdown",
   "metadata": {},
   "source": [
    "### 1.4 You Code\n",
    "\n",
    "Write the complete program. Most of the code has been written for you. All you need to do is put in the proper `data=` `x=` and `hue=` arguments for the two hist plots. \n"
   ]
  },
  {
   "cell_type": "code",
   "execution_count": null,
   "metadata": {
    "code_cell_type": "debug_code",
    "label": "1.4",
    "solution": [],
    "tags": []
   },
   "outputs": [],
   "source": [
    "# todo: write code here\n",
    "occupations = sorted(list(goers['occupation'].dropna().unique()))\n",
    "@interact_manual(occupation1=occupations, occupation2=occupations)\n",
    "def onclick(occupation1, occupation2):\n",
    "    occdf1 = goers[goers['occupation']==occupation1]\n",
    "    occdf2 = goers[goers['occupation']==occupation2]\n",
    "    fig, (ax1, ax2) = plt.subplots(ncols=2, sharey=False)\n",
    "    sns.histplot(data=??, x=??, hue=??, ax=ax1)\n",
    "    sns.histplot(data=??, x=??, hue=??, ax=ax2)\n",
    "    ax1.title.set_text(occupation1)\n",
    "    ax2.title.set_text(occupation2)\n",
    "\n"
   ]
  },
  {
   "cell_type": "markdown",
   "metadata": {},
   "source": [
    "## Folium for Mapping\n",
    "\n",
    "Folium is a Python module wrapper for [Leaflet.js](http://leafletjs.com/), which uses [Open Street Maps](https://www.openstreetmap.us/). These are two, popular open source mapping libraries. Unlike Google maps API, its 100% free!\n",
    "\n",
    "You can use Folium to render maps in Python and put data on the maps. Here's how easy it is to bring up a map:\n"
   ]
  },
  {
   "cell_type": "code",
   "execution_count": null,
   "metadata": {
    "code_cell_type": "run_code",
    "scrolled": true,
    "tags": []
   },
   "outputs": [],
   "source": [
    "CENTER_US = (39.8333333,-98.585522)\n",
    "movie_map = folium.Map(location=CENTER_US, zoom_start=4)\n",
    "display(movie_map)"
   ]
  },
  {
   "cell_type": "markdown",
   "metadata": {},
   "source": [
    "You can zoom right down to the street level and get amazing detail. T\n",
    "\n",
    "### Mapping the \"executive\" movie goers.\n",
    "\n",
    "Let's take one category of movie goers and map their whereabouts. We will first need to import a data set to give us a lat/lng for the `zip_code` we have in the dataframe. We could look this up with Google's geolookup API, but that's too slow as we will be making 100's of requests. It's better to have them stored already and merge them with `goers`!\n",
    "\n",
    "Let's import the zipcode database into a Pandas DataFrame, then merge it with the `goers` DataFrame:"
   ]
  },
  {
   "cell_type": "code",
   "execution_count": null,
   "metadata": {
    "code_cell_type": "run_code",
    "tags": []
   },
   "outputs": [],
   "source": [
    "zipcodes = pd.read_csv('https://raw.githubusercontent.com/mafudge/datasets/master/zipcodes/free-zipcode-database-Primary.csv', dtype = {'Zipcode' :object})\n",
    "data = goers.merge(zipcodes,  how ='inner', left_on='zip_code', right_on='Zipcode')\n",
    "execs = data[ data['occupation'] == 'executive']\n",
    "execs.sample(3)"
   ]
  },
  {
   "cell_type": "markdown",
   "metadata": {},
   "source": [
    "### 1.5 You Code: Mapping Executives\n",
    "\n",
    "Similar to WMC2 and the assigned reading from thsi week, loop over the `execs` dataframe  and add them to the map as a marker. The algorithm\n",
    "\n",
    "\n",
    "    for each row in execs dataframe\n",
    "        dd = the row's Lat/Long\n",
    "        text = a string of the row's  age, gender, occupation, city and state\n",
    "        make a marker at location dd with popup text\n",
    "        add the marker to movie_map\n",
    "        \n",
    "    display movie_map"
   ]
  },
  {
   "cell_type": "code",
   "execution_count": null,
   "metadata": {
    "code_cell_type": "write_code",
    "label": "1.5",
    "solution": [
     "for index,row in execs.iterrows():\n",
     "    dd = (row['Lat'], row['Long'])\n",
     "    text = str(row['age']) + ' ' + row['gender'] + ' ' + row['occupation'] + ' ' + row['City'] + ' ' + row['State']\n",
     "    marker = folium.Marker(location=dd, popup = text)\n",
     "    marker.add_to(movie_map)\n",
     "display(movie_map)\n"
    ],
    "tags": []
   },
   "outputs": [],
   "source": [
    "## todo write code here!\n"
   ]
  },
  {
   "cell_type": "markdown",
   "metadata": {},
   "source": [
    "# Metacognition"
   ]
  },
  {
   "cell_type": "markdown",
   "metadata": {},
   "source": [
    "\n",
    "### Rate your comfort level with this week's material so far.   \n",
    "\n",
    "**1** ==> I don't understand this at all yet and need extra help. If you choose this please try to articulate that which you do not understand to the best of your ability in the questions and comments section below.  \n",
    "**2** ==> I can do this with help or guidance from other people or resources. If you choose this level, please indicate HOW this person helped you in the questions and comments section below.   \n",
    "**3** ==> I can do this on my own without any help.   \n",
    "**4** ==> I can do this on my own and can explain/teach how to do it to others.\n",
    "\n",
    "`ENTER A NUMBER 1-4 IN THE CELL BELOW`"
   ]
  },
  {
   "cell_type": "markdown",
   "metadata": {
    "label": "comfort_cell",
    "tags": []
   },
   "source": []
  },
  {
   "cell_type": "markdown",
   "metadata": {
    "tags": []
   },
   "source": [
    "###  Questions And Comments \n",
    "\n",
    "Record any questions or comments you have about this lab that you would like to discuss in your recitation. It is expected you will have questions if you  complete this assignment.  Learning how to articulate what you do not understand is an important skill of critical thinking. Write your questions below so that you remember to ask them in your recitation. We expect you will take responsilbity for your learning and ask questions in class.\n",
    "\n",
    "`ENTER YOUR QUESTIONS/COMMENTS IN THE CELL BELOW`  \n"
   ]
  },
  {
   "cell_type": "markdown",
   "metadata": {
    "label": "question_cell",
    "tags": []
   },
   "source": []
  },
  {
   "cell_type": "markdown",
   "metadata": {},
   "source": [
    "## Turn it In\n",
    "\n",
    "FIRST AND FOREMOST: **Save Your work!** Yes, it auto-saves, but you should get in the habit of saving before submitting. From the menu, choose File --> Save Notebook. Or you can use the shortcut keys `CTRL+S`\n",
    "\n",
    "### First: Lab Check\n",
    "\n",
    "Check your lab before submitting. Look for errors and incomplete parts which might cost you a better grade"
   ]
  },
  {
   "cell_type": "code",
   "execution_count": null,
   "metadata": {
    "tags": []
   },
   "outputs": [],
   "source": [
    "from casstools.notebook_tools import NotebookFile\n",
    "NotebookFile().check_lab()"
   ]
  },
  {
   "cell_type": "markdown",
   "metadata": {},
   "source": [
    "### Second: Lab Submission\n",
    "\n",
    "Run this code and follow the instructions to turn in your lab. "
   ]
  },
  {
   "cell_type": "code",
   "execution_count": null,
   "metadata": {
    "tags": []
   },
   "outputs": [],
   "source": [
    "from casstools.assignment import Assignment\n",
    "Assignment().submit()"
   ]
  },
  {
   "cell_type": "code",
   "execution_count": null,
   "metadata": {
    "tags": []
   },
   "outputs": [],
   "source": []
  },
  {
   "cell_type": "code",
   "execution_count": null,
   "metadata": {},
   "outputs": [],
   "source": []
  }
 ],
 "metadata": {
  "anaconda-cloud": {},
  "kernelspec": {
   "display_name": "Python 3 (ipykernel)",
   "language": "python",
   "name": "python3"
  },
  "language_info": {
   "codemirror_mode": {
    "name": "ipython",
    "version": 3
   },
   "file_extension": ".py",
   "mimetype": "text/x-python",
   "name": "python",
   "nbconvert_exporter": "python",
   "pygments_lexer": "ipython3",
   "version": "3.11.7"
  },
  "toc": {
   "base_numbering": 1,
   "nav_menu": {},
   "number_sections": false,
   "sideBar": false,
   "skip_h1_title": false,
   "title_cell": "Table of Contents",
   "title_sidebar": "Contents",
   "toc_cell": false,
   "toc_position": {},
   "toc_section_display": false,
   "toc_window_display": false
  }
 },
 "nbformat": 4,
 "nbformat_minor": 4
}
