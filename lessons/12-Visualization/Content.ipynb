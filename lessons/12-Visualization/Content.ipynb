{
 "cells": [
  {
   "cell_type": "markdown",
   "id": "141c36fd-bd86-42dc-8a60-95d83719d3e9",
   "metadata": {},
   "source": [
    "## Lesson 12: Data Visualizations\n",
    "\n",
    "### Overview\n",
    "\n",
    "In this lesson we learn:\n",
    "\n",
    "- What is a visualization \n",
    "- The compoents of a visualization\n",
    "- Which visual to use for which task\n",
    "- The `Seaborn` library for graphs\n",
    "- The `Folium` library for maps\n",
    "\n",
    "### Required Before Large Group\n",
    "\n",
    "- READ: [Fudge: Data Visualizations](DataVisualization.ipynb)\n",
    "\n",
    "\n",
    "### Additional Resources\n",
    "\n",
    "- READ: [Folium: Getting Started](https://python-visualization.github.io/folium/latest/getting_started.html) A good tour of the complete Folium feature set with examples.\n",
    "- READ: [Seaborn: Tutorial](https://seaborn.pydata.org/tutorial/introduction.html)\n",
    "- No more lab walk throughs or homework advice yet as content was re-written this semester.\n"
   ]
  },
  {
   "cell_type": "code",
   "execution_count": null,
   "id": "7f5fbf82-2580-49cf-8f7a-a815d7bea90c",
   "metadata": {},
   "outputs": [],
   "source": []
  }
 ],
 "metadata": {
  "kernelspec": {
   "display_name": "Python 3 (ipykernel)",
   "language": "python",
   "name": "python3"
  },
  "language_info": {
   "codemirror_mode": {
    "name": "ipython",
    "version": 3
   },
   "file_extension": ".py",
   "mimetype": "text/x-python",
   "name": "python",
   "nbconvert_exporter": "python",
   "pygments_lexer": "ipython3",
   "version": "3.11.7"
  }
 },
 "nbformat": 4,
 "nbformat_minor": 5
}
