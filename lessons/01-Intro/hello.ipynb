{
 "cells": [
  {
   "cell_type": "code",
   "execution_count": 1,
   "id": "dea7c138-f4b2-4a38-acd4-41c8a7dbb1b0",
   "metadata": {
    "tags": []
   },
   "outputs": [
    {
     "name": "stdout",
     "output_type": "stream",
     "text": [
      "Hello\n"
     ]
    }
   ],
   "source": [
    "print(\"Hello\")"
   ]
  },
  {
   "cell_type": "code",
   "execution_count": 2,
   "id": "c8645d2e-8a10-43f2-9638-0082658a745d",
   "metadata": {
    "tags": []
   },
   "outputs": [
    {
     "name": "stdout",
     "output_type": "stream",
     "text": [
      "Hello Tommy\n"
     ]
    }
   ],
   "source": [
    "x = \"Tommy\"\n",
    "print(\"Hello\", x)"
   ]
  },
  {
   "cell_type": "code",
   "execution_count": null,
   "id": "9daae646-2434-48ca-9505-ff5f1116a616",
   "metadata": {
    "tags": []
   },
   "outputs": [],
   "source": [
    "y = input(\"Enter your name\")\n",
    "print(\"hello\", y)"
   ]
  },
  {
   "cell_type": "code",
   "execution_count": null,
   "id": "c8df035f-0ccf-4c00-9c77-f9beac4da84d",
   "metadata": {
    "tags": []
   },
   "outputs": [],
   "source": [
    "print(x)"
   ]
  },
  {
   "cell_type": "code",
   "execution_count": null,
   "id": "d70142d3-f9f9-44b0-83c4-b7bdd7e7c1eb",
   "metadata": {},
   "outputs": [],
   "source": []
  }
 ],
 "metadata": {
  "kernelspec": {
   "display_name": "Python 3 (ipykernel)",
   "language": "python",
   "name": "python3"
  },
  "language_info": {
   "codemirror_mode": {
    "name": "ipython",
    "version": 3
   },
   "file_extension": ".py",
   "mimetype": "text/x-python",
   "name": "python",
   "nbconvert_exporter": "python",
   "pygments_lexer": "ipython3",
   "version": "3.11.7"
  }
 },
 "nbformat": 4,
 "nbformat_minor": 5
}
