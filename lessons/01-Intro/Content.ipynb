{
 "cells": [
  {
   "cell_type": "markdown",
   "id": "1daad976-c580-4f98-a1e3-9db2c9c33ac9",
   "metadata": {
    "editable": true,
    "slideshow": {
     "slide_type": ""
    },
    "tags": []
   },
   "source": [
    "## Lesson 01: Introduction \n",
    "\n",
    "### Overview\n",
    "\n",
    "This lesson we learn:\n",
    "\n",
    "- What is Python? What are the advantages / disadvantages of the language? How does it compare with other programming languages?\n",
    "- The Jupyter Notebook environment.  How to execute programs from the Jupyter environment.\n",
    "- Python programming language basics. Print, Assignment and Input statements.\n",
    "- Writing simple programs in Python following the Input / Process / Output model.\n",
    "\n",
    "### Required Before Large Group\n",
    "\n",
    "- READ: [Severance Ch 1: Introduction](https://books.trinket.io/pfe/01-intro.html)\n",
    "- READ: [How to think like a programmer - Lessons in problem solving](https://medium.freecodecamp.org/how-to-think-like-a-programmer-lessons-in-problem-solving-d1d8bf1de7d2)\n",
    "- VIDEO: [Quick Introduction to Jupyter Notebook, by Michael Fudge](https://youtu.be/jZ952vChhuI)\n",
    "\n",
    "### Additional Resources\n",
    "\n",
    "\n",
    "- VIDEO: Python for Everybody: [Ch1 Part 1](https://youtu.be/fvhNadKjE8g) | [Part 2](https://youtu.be/VQZTZsXk8sA)  | [Part 3](https://youtu.be/LLzFNlCjTSo) | [Part 4](https://youtu.be/gsry2SYOFCw), by Charles Severance\n",
    "- VIDEO: [\"TEDxSMU: You Should Learn to Program\", by Christian Genco](https://www.youtube.com/watch?v=xfBWk4nw440)\n",
    "- VIDEO: [\"TEDxCERN: The poetry of programming\", by Linda Liukas](https://www.youtube.com/watch?v=-jRREn6ifEQ)\n",
    "- VIDEO: [Lab 01  Walk Through, by Michael Fudge](https://youtu.be/jUXoz-rKWEQ)\n",
    "- VIDEO: [Homework Advice 01, by Michael Fudge](https://youtu.be/QLsMdSw3HU8)\n",
    "\n"
   ]
  },
  {
   "cell_type": "raw",
   "id": "39f034c9-ba2e-4b85-8cac-a6e25fcc0506",
   "metadata": {},
   "source": []
  }
 ],
 "metadata": {
  "kernelspec": {
   "display_name": "Python 3 (ipykernel)",
   "language": "python",
   "name": "python3"
  },
  "language_info": {
   "codemirror_mode": {
    "name": "ipython",
    "version": 3
   },
   "file_extension": ".py",
   "mimetype": "text/x-python",
   "name": "python",
   "nbconvert_exporter": "python",
   "pygments_lexer": "ipython3",
   "version": "3.11.7"
  }
 },
 "nbformat": 4,
 "nbformat_minor": 5
}
