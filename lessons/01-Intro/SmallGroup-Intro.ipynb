{
 "cells": [
  {
   "cell_type": "markdown",
   "metadata": {
    "editable": true,
    "slideshow": {
     "slide_type": ""
    },
    "tags": []
   },
   "source": [
    "# Small Group Activity: Student Profile Card\n",
    "\n",
    "## The Problem\n",
    "\n",
    "Write a program which gathers student data such as name, email, gpa and major then prints out a student profile card with a layout EXACTLY like this:\n",
    "\n",
    "### Sample Output:\n",
    "\n",
    "```\n",
    "===== STUDENT PROFILE =====\n",
    "NAME  : Michael Fudge\n",
    "EMAIL : mafudge@syr.edu\n",
    "GPA   : 4.0\n",
    "MAJOR : Information Studies\n",
    "```\n",
    "\n",
    "Of course your actual output of name, email, GPA and major, will vary based on the inputs, which is the point of programming in the first place! "
   ]
  },
  {
   "cell_type": "markdown",
   "metadata": {
    "editable": true,
    "slideshow": {
     "slide_type": ""
    },
    "tags": []
   },
   "source": [
    "## Problem Analysis: \"Thinking About The Problem\"\n",
    "\n",
    "Remember, from large group:\n",
    "\n",
    "1. Understand what is being asked. You cannot solve what you don't understand!\n",
    "2. Plan. This can be as simple as given inputs X how do I achieve output Y?\n",
    "3. Simplify. If the problem is too complex divide it up into a smaller one.\n",
    "4. Re-Assess/Research problems too complex to solve. What about it is complex or unsolvable?\n",
    "5. Practice the path to success is littered with failure. Embrace the fail. It makes you better."
   ]
  },
  {
   "cell_type": "markdown",
   "metadata": {},
   "source": [
    "## Problem Solving Approach: Work Backwards \n",
    "\n",
    "The **work-backwards** approach to problem solving is often used in science and mathematics. It works well when we have an idea of the program's output but are unclear how to start the program. It can be used in this case because we expect out of the program itself is clearly understood. \n",
    "\n",
    "The approach is as follows:\n",
    "\n",
    "1. start with the output\n",
    "2. figure out which variables are used in the output (what part of the output changes versus stays the same - the changing parts use variables)\n",
    "3. keep working backwards until the variables become inputs."
   ]
  },
  {
   "cell_type": "markdown",
   "metadata": {},
   "source": [
    "### PROMPT 1: Start with the output\n",
    "\n",
    "Write Python code to print the example output under the problem section exactly as shown:"
   ]
  },
  {
   "cell_type": "markdown",
   "metadata": {},
   "source": [
    "```\n",
    "===== STUDENT PROFILE =====\n",
    "NAME  : Michael Fudge\n",
    "EMAIL : mafudge@syr.edu\n",
    "GPA   : 4.0\n",
    "MAJOR : Information Studies\n",
    "```"
   ]
  },
  {
   "cell_type": "code",
   "execution_count": 1,
   "metadata": {
    "scrolled": true
   },
   "outputs": [
    {
     "name": "stdout",
     "output_type": "stream",
     "text": [
      "\n",
      "===== STUDENT PROFILE =====\n",
      "NAME  : Michael Fudge\n",
      "EMAIL : mafudge@syr.edu\n",
      "GPA   : 4.0\n",
      "MAJOR : Information Studies\n",
      "\n"
     ]
    }
   ],
   "source": [
    "# Code here, several print statements\n",
    "print(\"\"\"\n",
    "===== STUDENT PROFILE =====\n",
    "NAME  : Michael Fudge\n",
    "EMAIL : mafudge@syr.edu\n",
    "GPA   : 4.0\n",
    "MAJOR : Information Studies\n",
    "\"\"\")\n"
   ]
  },
  {
   "cell_type": "code",
   "execution_count": null,
   "metadata": {
    "tags": []
   },
   "outputs": [],
   "source": [
    "# use a multi-line print\n"
   ]
  },
  {
   "cell_type": "markdown",
   "metadata": {},
   "source": [
    "### PROMPT 2: Which aspects of the output should change?\n",
    "\n",
    "Which aspects of the output should change and therefore be written using variables? Write a Python assignment statement for each variable assigning it the **exact** value from the output.\n"
   ]
  },
  {
   "cell_type": "code",
   "execution_count": 4,
   "metadata": {},
   "outputs": [
    {
     "name": "stdout",
     "output_type": "stream",
     "text": [
      "Isabelle Gunnering igunner@gmail.com 3.75 High Finance\n"
     ]
    }
   ],
   "source": [
    "# Code here\n",
    "# variable assignments\n",
    "name = \"Isabelle Gunnering\"\n",
    "email = \"igunner@gmail.com\"\n",
    "gpa = 3.75\n",
    "major = \"High Finance\"\n",
    "\n",
    "print(name, email, gpa, major)"
   ]
  },
  {
   "cell_type": "markdown",
   "metadata": {},
   "source": [
    "### PROMPT 3: Re-write the code from prompt 1 to use your variables\n",
    "\n",
    "Now we re-write the code from prompt 1 but use variables instead. Try using f-strings as they provide the best formatting options."
   ]
  },
  {
   "cell_type": "code",
   "execution_count": 5,
   "metadata": {},
   "outputs": [
    {
     "name": "stdout",
     "output_type": "stream",
     "text": [
      "\n",
      "===== STUDENT PROFILE =====\n",
      "NAME  : Isabelle Gunnering\n",
      "EMAIL : igunner@gmail.com\n",
      "GPA   : 3.75\n",
      "MAJOR : High Finance\n",
      "\n"
     ]
    }
   ],
   "source": [
    "#code here\n",
    "# multi-line print from above with f-string interpolation\n",
    "\n",
    "print(f\"\"\"\n",
    "===== STUDENT PROFILE =====\n",
    "NAME  : {name}\n",
    "EMAIL : {email}\n",
    "GPA   : {gpa}\n",
    "MAJOR : {major}\n",
    "\"\"\")"
   ]
  },
  {
   "cell_type": "code",
   "execution_count": null,
   "metadata": {},
   "outputs": [],
   "source": []
  },
  {
   "cell_type": "markdown",
   "metadata": {},
   "source": [
    "### PROMPT 4: What transformations are required to get the variables from input to output?\n",
    "\n",
    "Are there any transformations required of the variables from input to output? For example, you might input first name and last name separarely, then combine them to full name."
   ]
  },
  {
   "cell_type": "code",
   "execution_count": 6,
   "metadata": {},
   "outputs": [
    {
     "name": "stdout",
     "output_type": "stream",
     "text": [
      "\n",
      "===== STUDENT PROFILE =====\n",
      "NAME  : Isabelle Gunnering\n",
      "EMAIL : igunner@gmail.com\n",
      "GPA   : 3.75\n",
      "MAJOR : High Finance\n",
      "\n"
     ]
    }
   ],
   "source": [
    "# Code here\n",
    "\n",
    "name = \"Isabelle Gunnering\"\n",
    "email = \"igunner@gmail.com\"\n",
    "gpa = 3.75\n",
    "major = \"High Finance\"\n",
    "print(f\"\"\"\n",
    "===== STUDENT PROFILE =====\n",
    "NAME  : {name}\n",
    "EMAIL : {email}\n",
    "GPA   : {gpa}\n",
    "MAJOR : {major}\n",
    "\"\"\")"
   ]
  },
  {
   "cell_type": "markdown",
   "metadata": {},
   "source": [
    "### PROMPT 5: Finalize the inputs\n",
    "\n",
    "combine prompts 3 and 4 into a single program, replace the initialized variables with Python inputs and prompts, to complete the program!"
   ]
  },
  {
   "cell_type": "code",
   "execution_count": 7,
   "metadata": {},
   "outputs": [
    {
     "name": "stdout",
     "output_type": "stream",
     "text": [
      "Card Builder 2024\n"
     ]
    },
    {
     "name": "stdin",
     "output_type": "stream",
     "text": [
      "What name do you want on the card? Tony Baroni\n",
      "Email? tbaroni@syr.edu\n",
      "Gpa? 4.0\n",
      "Major? Science\n"
     ]
    },
    {
     "name": "stdout",
     "output_type": "stream",
     "text": [
      "\n",
      "===== STUDENT PROFILE =====\n",
      "NAME  : Tony Baroni\n",
      "EMAIL : tbaroni@syr.edu\n",
      "GPA   : 4.0\n",
      "MAJOR : Science\n",
      "\n"
     ]
    }
   ],
   "source": [
    "# Code here... now its written!\n",
    "print(\"Card Builder 2024\")\n",
    "name = input(\"What name do you want on the card?\")\n",
    "email = input(\"Email?\")\n",
    "gpa = input(\"Gpa?\")\n",
    "major = input(\"Major?\")\n",
    "print(f\"\"\"\n",
    "===== STUDENT PROFILE =====\n",
    "NAME  : {name}\n",
    "EMAIL : {email}\n",
    "GPA   : {gpa}\n",
    "MAJOR : {major}\n",
    "\"\"\")"
   ]
  },
  {
   "cell_type": "code",
   "execution_count": null,
   "metadata": {
    "tags": []
   },
   "outputs": [
    {
     "name": "stdout",
     "output_type": "stream",
     "text": [
      "✅ TIMESTAMP  : 2024-01-24 15:31\n",
      "✅ COURSE     : ist256\n",
      "✅ TERM       : spring2024\n",
      "✅ USER       : mafudge@syr.edu\n",
      "✅ STUDENT    : True\n",
      "✅ PATH       : ist256/spring2024/lessons/01-Intro/SmallGroup-Intro.ipynb\n",
      "✅ ASSIGNMENT : SmallGroup-Intro.ipynb\n",
      "✅ POINTS     : 3\n",
      "✅ DUE DATE   : 2024-01-24 23:59\n",
      "✅ LATE       : False\n",
      "✅ STATUS     : Re-Submission\n",
      "\n"
     ]
    },
    {
     "name": "stdin",
     "output_type": "stream",
     "text": [
      "❓ Submit Again? [y/n] ❓  y\n"
     ]
    }
   ],
   "source": [
    "# run this code to turn in your work!\n",
    "from casstools.assignment import Assignment\n",
    "Assignment().submit()"
   ]
  },
  {
   "cell_type": "code",
   "execution_count": null,
   "metadata": {},
   "outputs": [],
   "source": []
  }
 ],
 "metadata": {
  "anaconda-cloud": {},
  "kernelspec": {
   "display_name": "Python 3 (ipykernel)",
   "language": "python",
   "name": "python3"
  },
  "language_info": {
   "codemirror_mode": {
    "name": "ipython",
    "version": 3
   },
   "file_extension": ".py",
   "mimetype": "text/x-python",
   "name": "python",
   "nbconvert_exporter": "python",
   "pygments_lexer": "ipython3",
   "version": "3.11.7"
  },
  "toc": {
   "base_numbering": 1,
   "nav_menu": {},
   "number_sections": false,
   "sideBar": false,
   "skip_h1_title": false,
   "title_cell": "Table of Contents",
   "title_sidebar": "Contents",
   "toc_cell": false,
   "toc_position": {},
   "toc_section_display": false,
   "toc_window_display": false
  },
  "varInspector": {
   "cols": {
    "lenName": 16,
    "lenType": 16,
    "lenVar": 40
   },
   "kernels_config": {
    "python": {
     "delete_cmd_postfix": "",
     "delete_cmd_prefix": "del ",
     "library": "var_list.py",
     "varRefreshCmd": "print(var_dic_list())"
    },
    "r": {
     "delete_cmd_postfix": ") ",
     "delete_cmd_prefix": "rm(",
     "library": "var_list.r",
     "varRefreshCmd": "cat(var_dic_list()) "
    }
   },
   "position": {
    "height": "144.854px",
    "left": "2077.43px",
    "right": "20px",
    "top": "100px",
    "width": "350px"
   },
   "types_to_exclude": [
    "module",
    "function",
    "builtin_function_or_method",
    "instance",
    "_Feature"
   ],
   "window_display": true
  }
 },
 "nbformat": 4,
 "nbformat_minor": 4
}
