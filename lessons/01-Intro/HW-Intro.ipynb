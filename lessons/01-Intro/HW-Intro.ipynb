{
 "cells": [
  {
   "cell_type": "markdown",
   "metadata": {
    "editable": true,
    "slideshow": {
     "slide_type": ""
    },
    "tags": []
   },
   "source": [
    "# Homework: Mad Libs!\n",
    "\n",
    "## The Problem\n",
    "\n",
    "Write a Python program which creates your own unique Mad-Libs! story. This is very similar to the example we did in large group only now you will devise and program your own unique story. \n",
    "\n",
    "### Understanding the problem\n",
    "\n",
    "You cannot code that which you do not understand!\n",
    "\n",
    "If you are not familar with a Mad-Libs! stories, check out:\n",
    "http://www.madlibs.com and http://www.madtakes.com\n",
    "\n",
    "### Requirements: \n",
    "\n",
    "Your story should take at least 5 inputs, and should include at least 2 sentences. It should be your own story and it should make sense!\n",
    "ter."
   ]
  },
  {
   "cell_type": "markdown",
   "metadata": {
    "editable": true,
    "label": "problem_analysis_cell",
    "slideshow": {
     "slide_type": ""
    },
    "tags": []
   },
   "source": [
    "## Part 1: Problem Analysis\n",
    "\n",
    "Once again we use the \"working backwards approach\"\n",
    "\n",
    "### 1.1 Program Outputs\n",
    "\n",
    "Write out your story in the cell below, place `{}` around the variables (things that will change in your mad-libs story). Make sure you have **at least 5 variables** and at **least two sentences in your story.**\n"
   ]
  },
  {
   "cell_type": "markdown",
   "metadata": {
    "editable": true,
    "label": "analysis_output_cell",
    "slideshow": {
     "slide_type": ""
    },
    "tags": []
   },
   "source": []
  },
  {
   "cell_type": "markdown",
   "metadata": {},
   "source": [
    "### 1.2 Program Inputs\n",
    "\n",
    "List out the program inputs in the cell below. What will you allow the person using your mad-lib to type as they create the story? There should be the same number of inputs as variables in your story.\n"
   ]
  },
  {
   "cell_type": "markdown",
   "metadata": {
    "editable": true,
    "label": "analysis_input_cell",
    "slideshow": {
     "slide_type": ""
    },
    "tags": []
   },
   "source": []
  },
  {
   "cell_type": "markdown",
   "metadata": {},
   "source": [
    "### 1.3 The Plan (Algorithm)\n",
    "\n",
    "Explain, as specifically as you can, without writing code, how the program works from input to output. Be detailed with your plan as you will need to turn it into code. \n"
   ]
  },
  {
   "cell_type": "markdown",
   "metadata": {
    "label": "analysis_plan_cell"
   },
   "source": []
  },
  {
   "cell_type": "markdown",
   "metadata": {},
   "source": [
    "## Part 2: Code Solution\n",
    "\n",
    "You may write your code in several cells, but place the complete, final working copy of your code solution within the `You Code` cell *in this case, labeled 2.1* Everything required to make the code work should be in this cell, as this is the cell that will get evaluated. "
   ]
  },
  {
   "cell_type": "code",
   "execution_count": null,
   "metadata": {},
   "outputs": [],
   "source": []
  },
  {
   "cell_type": "code",
   "execution_count": null,
   "metadata": {},
   "outputs": [],
   "source": []
  },
  {
   "cell_type": "code",
   "execution_count": null,
   "metadata": {},
   "outputs": [],
   "source": []
  },
  {
   "cell_type": "code",
   "execution_count": null,
   "metadata": {},
   "outputs": [],
   "source": []
  },
  {
   "cell_type": "code",
   "execution_count": null,
   "metadata": {},
   "outputs": [],
   "source": []
  },
  {
   "cell_type": "markdown",
   "metadata": {},
   "source": [
    "### 2.1 You Code\n",
    "\n",
    "Place your working code in the cell below. Execution of this one cell is all that should be necessary to execute the code correctly."
   ]
  },
  {
   "cell_type": "code",
   "execution_count": 4,
   "metadata": {
    "code_cell_type": "write_code",
    "editable": true,
    "label": "2.1",
    "slideshow": {
     "slide_type": ""
    },
    "solution": [],
    "tags": []
   },
   "outputs": [],
   "source": [
    "# Place solution to the homework here\n"
   ]
  },
  {
   "cell_type": "markdown",
   "metadata": {
    "label": "homework_questions_cell"
   },
   "source": [
    "## Part 3: Metacognition\n",
    "\n",
    "These questions are designed to prompt you to reflect on your learning. Reflection is part of the assignment grade so please take time to answer the questions thoughtfully.\n",
    "\n",
    "#### 3.1 List at least 3 things you learned this week and/or throughout the process of completing this assignment?"
   ]
  },
  {
   "cell_type": "markdown",
   "metadata": {
    "label": "learned_cell"
   },
   "source": []
  },
  {
   "cell_type": "markdown",
   "metadata": {},
   "source": [
    "#### 3.2 What were the challenges or roadblocks (if any) you encountered on the way to completing it?"
   ]
  },
  {
   "cell_type": "markdown",
   "metadata": {
    "label": "challenges_cell"
   },
   "source": []
  },
  {
   "cell_type": "markdown",
   "metadata": {},
   "source": [
    "#### 3.3 Were you prepared for this assignment? What can you do to be better prepared?"
   ]
  },
  {
   "cell_type": "markdown",
   "metadata": {
    "label": "prepared_cell"
   },
   "source": []
  },
  {
   "cell_type": "markdown",
   "metadata": {},
   "source": [
    "#### 3.4 Did someone (or something such as AI) help you? Did You help someone? Provide details. "
   ]
  },
  {
   "cell_type": "markdown",
   "metadata": {
    "label": "help_cell"
   },
   "source": []
  },
  {
   "cell_type": "markdown",
   "metadata": {},
   "source": [
    "#### 3.5  Now that you have completed the assignment rate your comfort level with this week’s material. This should be an honest assessment of your ability: \n",
    "\n",
    "**1** ==> I don't understand this at all yet and need extra help. If you choose this please try to articulate that which you do not understand to the best of your ability in the questions and comments section below.  \n",
    "**2** ==> I can do this with help or guidance from other people or resources. If you choose this level, please indicate HOW this person helped you in the questions and comments section below.   \n",
    "**3** ==> I can do this on my own without any help.   \n",
    "**4** ==> I can do this on my own and can explain/teach how to do it to others.\n",
    "\n",
    "`ENTER A NUMBER 1-4 IN THE CELL BELOW`"
   ]
  },
  {
   "cell_type": "markdown",
   "metadata": {
    "label": "comfort_cell"
   },
   "source": []
  },
  {
   "cell_type": "markdown",
   "metadata": {
    "label": ""
   },
   "source": [
    "## Part 4: Turning it in\n",
    "\n",
    "FIRST AND FOREMOST: **Save Your work!** Yes, it auto-saves, but you should get in the habit of saving before submitting. From the menu, choose File --> Save Notebook. Or you can use the shortcut keys `CTRL+S`\n",
    "\n",
    "### Homework Check\n",
    "\n",
    "Check your homework before submitting. Look for errors and incomplete parts which might cost you a better grade."
   ]
  },
  {
   "cell_type": "code",
   "execution_count": 3,
   "metadata": {},
   "outputs": [
    {
     "name": "stdout",
     "output_type": "stream",
     "text": [
      "❌ Problem Analysis 1.1 Program Outputs cell is blank. Thoughtful completion of this section factors into your grade.\n",
      "❌ Problem Analysis 1.2 Program Inputs cell is blank. Thoughtful completion of this section factors into your grade.\n",
      "❌ Problem Analysis 1.3 The Plan (Algorithm) cell is blank. Thoughtful completion of this section factors into your grade.\n",
      "❌ Metacognition 3.1 cell is blank. Thoughtful completion of this section factors into your grade.\n",
      "❌ Metacognition 3.2 cell is blank. Thoughtful completion of this section factors into your grade.\n",
      "❌ Metacognition 3.3 cell is blank. Thoughtful completion of this section factors into your grade.\n",
      "❌ Metacognition 3.4 cell is blank. Thoughtful completion of this section factors into your grade.\n",
      "❌ Metacognition 3.5 Comfort level is blank.\n",
      "❌ 2.1 does not have a code solution.\n"
     ]
    }
   ],
   "source": [
    "from casstools.notebook_tools import NotebookFile\n",
    "NotebookFile().check_homework()"
   ]
  },
  {
   "cell_type": "markdown",
   "metadata": {
    "label": ""
   },
   "source": [
    "### Homework Submission\n",
    "\n",
    "Run this code and follow the instructions to turn in your homework."
   ]
  },
  {
   "cell_type": "code",
   "execution_count": 2,
   "metadata": {},
   "outputs": [
    {
     "name": "stdout",
     "output_type": "stream",
     "text": [
      "✅ TIMESTAMP  : 2024-01-14 20:26\n",
      "✅ COURSE     : ist256\n",
      "✅ TERM       : spring2024\n",
      "✅ USER       : mafudge@syr.edu\n",
      "✅ STUDENT    : True\n",
      "✅ PATH       : ist256/spring2024/lessons/01-Intro/HW-Intro.ipynb\n",
      "✅ ASSIGNMENT : HW-Intro.ipynb\n",
      "✅ POINTS     : 3\n",
      "✅ DUE DATE   : 2024-01-26 23:59\n",
      "✅ LATE       : False\n",
      "✅ STATUS     : New Submission\n",
      "\n"
     ]
    },
    {
     "name": "stdin",
     "output_type": "stream",
     "text": [
      "❓ Submit? [y/n] ❓  n\n"
     ]
    },
    {
     "name": "stdout",
     "output_type": "stream",
     "text": [
      "👎 Submission Cancelled\n"
     ]
    }
   ],
   "source": [
    "from casstools.assignment import Assignment\n",
    "Assignment().submit()"
   ]
  },
  {
   "cell_type": "code",
   "execution_count": null,
   "metadata": {},
   "outputs": [],
   "source": []
  }
 ],
 "metadata": {
  "anaconda-cloud": {},
  "celltoolbar": "Edit Metadata",
  "kernelspec": {
   "display_name": "Python 3 (ipykernel)",
   "language": "python",
   "name": "python3"
  },
  "language_info": {
   "codemirror_mode": {
    "name": "ipython",
    "version": 3
   },
   "file_extension": ".py",
   "mimetype": "text/x-python",
   "name": "python",
   "nbconvert_exporter": "python",
   "pygments_lexer": "ipython3",
   "version": "3.11.7"
  },
  "toc": {
   "base_numbering": 1,
   "nav_menu": {},
   "number_sections": false,
   "sideBar": false,
   "skip_h1_title": false,
   "title_cell": "Table of Contents",
   "title_sidebar": "Contents",
   "toc_cell": false,
   "toc_position": {},
   "toc_section_display": false,
   "toc_window_display": false
  },
  "varInspector": {
   "cols": {
    "lenName": 16,
    "lenType": 16,
    "lenVar": 40
   },
   "kernels_config": {
    "python": {
     "delete_cmd_postfix": "",
     "delete_cmd_prefix": "del ",
     "library": "var_list.py",
     "varRefreshCmd": "print(var_dic_list())"
    },
    "r": {
     "delete_cmd_postfix": ") ",
     "delete_cmd_prefix": "rm(",
     "library": "var_list.r",
     "varRefreshCmd": "cat(var_dic_list()) "
    }
   },
   "types_to_exclude": [
    "module",
    "function",
    "builtin_function_or_method",
    "instance",
    "_Feature"
   ],
   "window_display": false
  }
 },
 "nbformat": 4,
 "nbformat_minor": 4
}
