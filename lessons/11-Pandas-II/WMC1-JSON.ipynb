{
 "cells": [
  {
   "cell_type": "markdown",
   "metadata": {},
   "source": [
    "# Watch Me Code 1: Pandas Basics\n",
    "\n",
    "Using \"orders.json\" to understand different ways to read JSON in pandas.\n",
    "\n",
    "- Inspect Orders JSON\n",
    "- `read_json()`\n",
    "- `json_normalize()`\n",
    "- `json_normalize()` with `record_path`\n",
    "\n"
   ]
  },
  {
   "cell_type": "code",
   "execution_count": 1,
   "metadata": {
    "tags": []
   },
   "outputs": [],
   "source": [
    "import pandas as pd"
   ]
  },
  {
   "cell_type": "code",
   "execution_count": 8,
   "metadata": {},
   "outputs": [
    {
     "data": {
      "text/plain": [
       "0     Apple\n",
       "1    Banana\n",
       "2    Cherry\n",
       "3    Orange\n",
       "Name: Fruit, dtype: object"
      ]
     },
     "execution_count": 8,
     "metadata": {},
     "output_type": "execute_result"
    }
   ],
   "source": [
    "fruits = pd.Series(['Apple', 'Banana', 'Cherry', 'Orange', 'Pear'], name = \"Fruit\")\n",
    "fruits"
   ]
  },
  {
   "cell_type": "code",
   "execution_count": 3,
   "metadata": {},
   "outputs": [
    {
     "name": "stdout",
     "output_type": "stream",
     "text": [
      "  % Total    % Received % Xferd  Average Speed   Time    Time     Time  Current\n",
      "                                 Dload  Upload   Total   Spent    Left  Speed\n",
      "100   672  100   672    0     0   3741      0 --:--:-- --:--:-- --:--:--  3754\n"
     ]
    }
   ],
   "source": [
    "!curl  https://raw.githubusercontent.com/mafudge/datasets/master/json-samples/orders.json -o orders.json"
   ]
  },
  {
   "cell_type": "markdown",
   "metadata": {},
   "source": [
    "```\n",
    "[\n",
    "    {\n",
    "        \"Customer\" : { \"FirstName\" : \"Abby\", \"LastName\" : \"Kuss\"}, \n",
    "        \"Items\" : [\n",
    "            { \"Name\" : \"T-Shirt\", \"Price\" : 10.0, \"Quantity\" : 3},\n",
    "            { \"Name\" : \"Jacket\", \"Price\" : 20.0, \"Quantity\" : 1}\n",
    "        ]\n",
    "    },\n",
    "    {\n",
    "        \"Customer\" : { \"FirstName\" : \"Bette\", \"LastName\" : \"Alott\"}, \n",
    "        \"Items\" : [\n",
    "            { \"Name\" : \"Shoes\", \"Price\" : 25.0, \"Quantity\" : 1}, \n",
    "            { \"Name\" : \"Jacket\", \"Price\" : 20.0, \"Quantity\" : 1}\n",
    "        ]\n",
    "    },\n",
    "    {\n",
    "        \"Customer\" : { \"FirstName\" : \"Chris\", \"LastName\" : \"Peanugget\"}, \n",
    "        \"Items\" : [\n",
    "            { \"Name\" : \"T-Shirt\", \"Price\" : 10.0, \"Quantity\" : 1}\n",
    "        ]\n",
    "    }\n",
    "]\n",
    "```"
   ]
  },
  {
   "cell_type": "code",
   "execution_count": 5,
   "metadata": {},
   "outputs": [
    {
     "data": {
      "text/html": [
       "<div>\n",
       "<style scoped>\n",
       "    .dataframe tbody tr th:only-of-type {\n",
       "        vertical-align: middle;\n",
       "    }\n",
       "\n",
       "    .dataframe tbody tr th {\n",
       "        vertical-align: top;\n",
       "    }\n",
       "\n",
       "    .dataframe thead th {\n",
       "        text-align: right;\n",
       "    }\n",
       "</style>\n",
       "<table border=\"1\" class=\"dataframe\">\n",
       "  <thead>\n",
       "    <tr style=\"text-align: right;\">\n",
       "      <th></th>\n",
       "      <th>Customer</th>\n",
       "      <th>Items</th>\n",
       "    </tr>\n",
       "  </thead>\n",
       "  <tbody>\n",
       "    <tr>\n",
       "      <th>0</th>\n",
       "      <td>{'FirstName': 'Abby', 'LastName': 'Kuss'}</td>\n",
       "      <td>[{'Name': 'T-Shirt', 'Price': 10.0, 'Quantity'...</td>\n",
       "    </tr>\n",
       "    <tr>\n",
       "      <th>1</th>\n",
       "      <td>{'FirstName': 'Bette', 'LastName': 'Alott'}</td>\n",
       "      <td>[{'Name': 'Shoes', 'Price': 25.0, 'Quantity': ...</td>\n",
       "    </tr>\n",
       "    <tr>\n",
       "      <th>2</th>\n",
       "      <td>{'FirstName': 'Chris', 'LastName': 'Peanugget'}</td>\n",
       "      <td>[{'Name': 'T-Shirt', 'Price': 10.0, 'Quantity'...</td>\n",
       "    </tr>\n",
       "  </tbody>\n",
       "</table>\n",
       "</div>"
      ],
      "text/plain": [
       "                                          Customer  \\\n",
       "0        {'FirstName': 'Abby', 'LastName': 'Kuss'}   \n",
       "1      {'FirstName': 'Bette', 'LastName': 'Alott'}   \n",
       "2  {'FirstName': 'Chris', 'LastName': 'Peanugget'}   \n",
       "\n",
       "                                               Items  \n",
       "0  [{'Name': 'T-Shirt', 'Price': 10.0, 'Quantity'...  \n",
       "1  [{'Name': 'Shoes', 'Price': 25.0, 'Quantity': ...  \n",
       "2  [{'Name': 'T-Shirt', 'Price': 10.0, 'Quantity'...  "
      ]
     },
     "execution_count": 5,
     "metadata": {},
     "output_type": "execute_result"
    }
   ],
   "source": [
    "# read_json does not process the depth of nested json\n",
    "df = pd.read_json(\"orders.json\")\n",
    "df"
   ]
  },
  {
   "cell_type": "code",
   "execution_count": 8,
   "metadata": {},
   "outputs": [
    {
     "data": {
      "text/html": [
       "<div>\n",
       "<style scoped>\n",
       "    .dataframe tbody tr th:only-of-type {\n",
       "        vertical-align: middle;\n",
       "    }\n",
       "\n",
       "    .dataframe tbody tr th {\n",
       "        vertical-align: top;\n",
       "    }\n",
       "\n",
       "    .dataframe thead th {\n",
       "        text-align: right;\n",
       "    }\n",
       "</style>\n",
       "<table border=\"1\" class=\"dataframe\">\n",
       "  <thead>\n",
       "    <tr style=\"text-align: right;\">\n",
       "      <th></th>\n",
       "      <th>Items</th>\n",
       "      <th>Customer.FirstName</th>\n",
       "      <th>Customer.LastName</th>\n",
       "    </tr>\n",
       "  </thead>\n",
       "  <tbody>\n",
       "    <tr>\n",
       "      <th>0</th>\n",
       "      <td>[{'Name': 'T-Shirt', 'Price': 10.0, 'Quantity'...</td>\n",
       "      <td>Abby</td>\n",
       "      <td>Kuss</td>\n",
       "    </tr>\n",
       "    <tr>\n",
       "      <th>1</th>\n",
       "      <td>[{'Name': 'Shoes', 'Price': 25.0, 'Quantity': ...</td>\n",
       "      <td>Bette</td>\n",
       "      <td>Alott</td>\n",
       "    </tr>\n",
       "    <tr>\n",
       "      <th>2</th>\n",
       "      <td>[{'Name': 'T-Shirt', 'Price': 10.0, 'Quantity'...</td>\n",
       "      <td>Chris</td>\n",
       "      <td>Peanugget</td>\n",
       "    </tr>\n",
       "  </tbody>\n",
       "</table>\n",
       "</div>"
      ],
      "text/plain": [
       "                                               Items Customer.FirstName  \\\n",
       "0  [{'Name': 'T-Shirt', 'Price': 10.0, 'Quantity'...               Abby   \n",
       "1  [{'Name': 'Shoes', 'Price': 25.0, 'Quantity': ...              Bette   \n",
       "2  [{'Name': 'T-Shirt', 'Price': 10.0, 'Quantity'...              Chris   \n",
       "\n",
       "  Customer.LastName  \n",
       "0              Kuss  \n",
       "1             Alott  \n",
       "2         Peanugget  "
      ]
     },
     "execution_count": 8,
     "metadata": {},
     "output_type": "execute_result"
    }
   ],
   "source": [
    "# json normalize will break up nested dict but cannot handle list\n",
    "# json normalize cannot read a file directly\n",
    "import json\n",
    "with open (\"orders.json\",\"r\") as f:\n",
    "    data = json.load(f)\n",
    "df = pd.json_normalize(data)\n",
    "df\n"
   ]
  },
  {
   "cell_type": "code",
   "execution_count": 9,
   "metadata": {},
   "outputs": [
    {
     "data": {
      "text/html": [
       "<div>\n",
       "<style scoped>\n",
       "    .dataframe tbody tr th:only-of-type {\n",
       "        vertical-align: middle;\n",
       "    }\n",
       "\n",
       "    .dataframe tbody tr th {\n",
       "        vertical-align: top;\n",
       "    }\n",
       "\n",
       "    .dataframe thead th {\n",
       "        text-align: right;\n",
       "    }\n",
       "</style>\n",
       "<table border=\"1\" class=\"dataframe\">\n",
       "  <thead>\n",
       "    <tr style=\"text-align: right;\">\n",
       "      <th></th>\n",
       "      <th>Name</th>\n",
       "      <th>Price</th>\n",
       "      <th>Quantity</th>\n",
       "    </tr>\n",
       "  </thead>\n",
       "  <tbody>\n",
       "    <tr>\n",
       "      <th>0</th>\n",
       "      <td>T-Shirt</td>\n",
       "      <td>10.0</td>\n",
       "      <td>3</td>\n",
       "    </tr>\n",
       "    <tr>\n",
       "      <th>1</th>\n",
       "      <td>Jacket</td>\n",
       "      <td>20.0</td>\n",
       "      <td>1</td>\n",
       "    </tr>\n",
       "    <tr>\n",
       "      <th>2</th>\n",
       "      <td>Shoes</td>\n",
       "      <td>25.0</td>\n",
       "      <td>1</td>\n",
       "    </tr>\n",
       "    <tr>\n",
       "      <th>3</th>\n",
       "      <td>Jacket</td>\n",
       "      <td>20.0</td>\n",
       "      <td>1</td>\n",
       "    </tr>\n",
       "    <tr>\n",
       "      <th>4</th>\n",
       "      <td>T-Shirt</td>\n",
       "      <td>10.0</td>\n",
       "      <td>1</td>\n",
       "    </tr>\n",
       "  </tbody>\n",
       "</table>\n",
       "</div>"
      ],
      "text/plain": [
       "      Name  Price  Quantity\n",
       "0  T-Shirt   10.0         3\n",
       "1   Jacket   20.0         1\n",
       "2    Shoes   25.0         1\n",
       "3   Jacket   20.0         1\n",
       "4  T-Shirt   10.0         1"
      ]
     },
     "execution_count": 9,
     "metadata": {},
     "output_type": "execute_result"
    }
   ],
   "source": [
    "# by setting the `record_path` to the Items key it gets better\n",
    "# only thing is we lose the parent data in customer\n",
    "df = pd.json_normalize(data, record_path=\"Items\")\n",
    "df"
   ]
  },
  {
   "cell_type": "code",
   "execution_count": 11,
   "metadata": {},
   "outputs": [
    {
     "data": {
      "text/html": [
       "<div>\n",
       "<style scoped>\n",
       "    .dataframe tbody tr th:only-of-type {\n",
       "        vertical-align: middle;\n",
       "    }\n",
       "\n",
       "    .dataframe tbody tr th {\n",
       "        vertical-align: top;\n",
       "    }\n",
       "\n",
       "    .dataframe thead th {\n",
       "        text-align: right;\n",
       "    }\n",
       "</style>\n",
       "<table border=\"1\" class=\"dataframe\">\n",
       "  <thead>\n",
       "    <tr style=\"text-align: right;\">\n",
       "      <th></th>\n",
       "      <th>Name</th>\n",
       "      <th>Price</th>\n",
       "      <th>Quantity</th>\n",
       "      <th>Customer.FirstName</th>\n",
       "      <th>Customer.LastName</th>\n",
       "    </tr>\n",
       "  </thead>\n",
       "  <tbody>\n",
       "    <tr>\n",
       "      <th>0</th>\n",
       "      <td>T-Shirt</td>\n",
       "      <td>10.0</td>\n",
       "      <td>3</td>\n",
       "      <td>Abby</td>\n",
       "      <td>Kuss</td>\n",
       "    </tr>\n",
       "    <tr>\n",
       "      <th>1</th>\n",
       "      <td>Jacket</td>\n",
       "      <td>20.0</td>\n",
       "      <td>1</td>\n",
       "      <td>Abby</td>\n",
       "      <td>Kuss</td>\n",
       "    </tr>\n",
       "    <tr>\n",
       "      <th>2</th>\n",
       "      <td>Shoes</td>\n",
       "      <td>25.0</td>\n",
       "      <td>1</td>\n",
       "      <td>Bette</td>\n",
       "      <td>Alott</td>\n",
       "    </tr>\n",
       "    <tr>\n",
       "      <th>3</th>\n",
       "      <td>Jacket</td>\n",
       "      <td>20.0</td>\n",
       "      <td>1</td>\n",
       "      <td>Bette</td>\n",
       "      <td>Alott</td>\n",
       "    </tr>\n",
       "    <tr>\n",
       "      <th>4</th>\n",
       "      <td>T-Shirt</td>\n",
       "      <td>10.0</td>\n",
       "      <td>1</td>\n",
       "      <td>Chris</td>\n",
       "      <td>Peanugget</td>\n",
       "    </tr>\n",
       "  </tbody>\n",
       "</table>\n",
       "</div>"
      ],
      "text/plain": [
       "      Name  Price  Quantity Customer.FirstName Customer.LastName\n",
       "0  T-Shirt   10.0         3               Abby              Kuss\n",
       "1   Jacket   20.0         1               Abby              Kuss\n",
       "2    Shoes   25.0         1              Bette             Alott\n",
       "3   Jacket   20.0         1              Bette             Alott\n",
       "4  T-Shirt   10.0         1              Chris         Peanugget"
      ]
     },
     "execution_count": 11,
     "metadata": {},
     "output_type": "execute_result"
    }
   ],
   "source": [
    "#final solution includes everything and \n",
    "# uses the meta argument to specify paths to the parent data\n",
    "\n",
    "df = pd.json_normalize(data, record_path=\"Items\", \n",
    "                       meta=[[\"Customer\",\"FirstName\"],[\"Customer\",\"LastName\"]])\n",
    "df"
   ]
  },
  {
   "cell_type": "code",
   "execution_count": 12,
   "metadata": {
    "tags": []
   },
   "outputs": [],
   "source": [
    "x = [ \n",
    "  {\"a\" : {\"b\": 1}, \"c\" : [10,11]},\n",
    "  {\"a\" : {\"b\": 2}, \"c\" : [21,22,23]}\n",
    "]"
   ]
  },
  {
   "cell_type": "code",
   "execution_count": 14,
   "metadata": {
    "tags": []
   },
   "outputs": [
    {
     "data": {
      "text/html": [
       "<div>\n",
       "<style scoped>\n",
       "    .dataframe tbody tr th:only-of-type {\n",
       "        vertical-align: middle;\n",
       "    }\n",
       "\n",
       "    .dataframe tbody tr th {\n",
       "        vertical-align: top;\n",
       "    }\n",
       "\n",
       "    .dataframe thead th {\n",
       "        text-align: right;\n",
       "    }\n",
       "</style>\n",
       "<table border=\"1\" class=\"dataframe\">\n",
       "  <thead>\n",
       "    <tr style=\"text-align: right;\">\n",
       "      <th></th>\n",
       "      <th>c</th>\n",
       "      <th>a.b</th>\n",
       "    </tr>\n",
       "  </thead>\n",
       "  <tbody>\n",
       "    <tr>\n",
       "      <th>0</th>\n",
       "      <td>[10, 11]</td>\n",
       "      <td>1</td>\n",
       "    </tr>\n",
       "    <tr>\n",
       "      <th>1</th>\n",
       "      <td>[21, 22, 23]</td>\n",
       "      <td>2</td>\n",
       "    </tr>\n",
       "  </tbody>\n",
       "</table>\n",
       "</div>"
      ],
      "text/plain": [
       "              c  a.b\n",
       "0      [10, 11]    1\n",
       "1  [21, 22, 23]    2"
      ]
     },
     "execution_count": 14,
     "metadata": {},
     "output_type": "execute_result"
    }
   ],
   "source": [
    "pd.json_normalize(x)"
   ]
  },
  {
   "cell_type": "code",
   "execution_count": 15,
   "metadata": {
    "tags": []
   },
   "outputs": [
    {
     "data": {
      "text/html": [
       "<div>\n",
       "<style scoped>\n",
       "    .dataframe tbody tr th:only-of-type {\n",
       "        vertical-align: middle;\n",
       "    }\n",
       "\n",
       "    .dataframe tbody tr th {\n",
       "        vertical-align: top;\n",
       "    }\n",
       "\n",
       "    .dataframe thead th {\n",
       "        text-align: right;\n",
       "    }\n",
       "</style>\n",
       "<table border=\"1\" class=\"dataframe\">\n",
       "  <thead>\n",
       "    <tr style=\"text-align: right;\">\n",
       "      <th></th>\n",
       "      <th>0</th>\n",
       "    </tr>\n",
       "  </thead>\n",
       "  <tbody>\n",
       "    <tr>\n",
       "      <th>0</th>\n",
       "      <td>10</td>\n",
       "    </tr>\n",
       "    <tr>\n",
       "      <th>1</th>\n",
       "      <td>11</td>\n",
       "    </tr>\n",
       "    <tr>\n",
       "      <th>2</th>\n",
       "      <td>21</td>\n",
       "    </tr>\n",
       "    <tr>\n",
       "      <th>3</th>\n",
       "      <td>22</td>\n",
       "    </tr>\n",
       "    <tr>\n",
       "      <th>4</th>\n",
       "      <td>23</td>\n",
       "    </tr>\n",
       "  </tbody>\n",
       "</table>\n",
       "</div>"
      ],
      "text/plain": [
       "    0\n",
       "0  10\n",
       "1  11\n",
       "2  21\n",
       "3  22\n",
       "4  23"
      ]
     },
     "execution_count": 15,
     "metadata": {},
     "output_type": "execute_result"
    }
   ],
   "source": [
    "pd.json_normalize(x, record_path=\"c\")"
   ]
  },
  {
   "cell_type": "code",
   "execution_count": null,
   "metadata": {},
   "outputs": [],
   "source": []
  }
 ],
 "metadata": {
  "anaconda-cloud": {},
  "kernelspec": {
   "display_name": "Python 3 (ipykernel)",
   "language": "python",
   "name": "python3"
  },
  "language_info": {
   "codemirror_mode": {
    "name": "ipython",
    "version": 3
   },
   "file_extension": ".py",
   "mimetype": "text/x-python",
   "name": "python",
   "nbconvert_exporter": "python",
   "pygments_lexer": "ipython3",
   "version": "3.11.7"
  },
  "toc": {
   "base_numbering": 1,
   "nav_menu": {},
   "number_sections": false,
   "sideBar": false,
   "skip_h1_title": false,
   "title_cell": "Table of Contents",
   "title_sidebar": "Contents",
   "toc_cell": false,
   "toc_position": {},
   "toc_section_display": false,
   "toc_window_display": false
  }
 },
 "nbformat": 4,
 "nbformat_minor": 4
}
