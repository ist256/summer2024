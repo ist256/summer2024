{
 "cells": [
  {
   "cell_type": "markdown",
   "metadata": {},
   "source": [
    "# Now You Code In Class: \n",
    "\n",
    "## Tricks of The Pandas Masters Volume II\n",
    "\n",
    "Once again, we will try something a bit different for our Activity - A series of Pandas coding challenges!\n",
    "\n",
    "Datasets we will use:\n",
    "\n",
    "- Reddit Data: https://raw.githubusercontent.com/mafudge/datasets/master/json-samples/reddit.json\n",
    "- Episodes of the HBO series \"The Wire\": https://raw.githubusercontent.com/mafudge/datasets/master/tv-shows/the-wire.json\n"
   ]
  },
  {
   "cell_type": "code",
   "execution_count": 3,
   "metadata": {},
   "outputs": [],
   "source": [
    "import pandas as pd\n",
    "import warnings\n",
    "\n",
    "pd.set_option('display.max_colwidth', None)\n",
    "warnings.filterwarnings('ignore')"
   ]
  },
  {
   "cell_type": "markdown",
   "metadata": {},
   "source": [
    "## Deserializing json\n",
    "\n",
    "the following function takes a URL as input and returns deserialized json as output.\n"
   ]
  },
  {
   "cell_type": "code",
   "execution_count": 4,
   "metadata": {
    "tags": []
   },
   "outputs": [],
   "source": [
    "def get_json(url: str):\n",
    "    import requests\n",
    "    response = requests.get(url)\n",
    "    response.raise_for_status()\n",
    "    return response.json()\n"
   ]
  },
  {
   "cell_type": "markdown",
   "metadata": {},
   "source": [
    "This example deserializes reddit news and then finds the key where the articles are and displays the first artcle."
   ]
  },
  {
   "cell_type": "code",
   "execution_count": 7,
   "metadata": {
    "tags": []
   },
   "outputs": [
    {
     "data": {
      "text/plain": [
       "{'kind': 't3',\n",
       " 'data': {'domain': 'wdrb.com',\n",
       "  'banned_by': None,\n",
       "  'media_embed': {},\n",
       "  'subreddit': 'news',\n",
       "  'selftext_html': None,\n",
       "  'selftext': '',\n",
       "  'likes': None,\n",
       "  'suggested_sort': None,\n",
       "  'user_reports': [],\n",
       "  'secure_media': None,\n",
       "  'link_flair_text': None,\n",
       "  'id': '4bn12d',\n",
       "  'from_kind': None,\n",
       "  'gilded': 0,\n",
       "  'archived': False,\n",
       "  'clicked': False,\n",
       "  'report_reasons': None,\n",
       "  'author': 'homeboy422',\n",
       "  'media': None,\n",
       "  'score': 1,\n",
       "  'approved_by': None,\n",
       "  'over_18': False,\n",
       "  'hidden': False,\n",
       "  'num_comments': 1,\n",
       "  'thumbnail': '',\n",
       "  'subreddit_id': 't5_2qh3l',\n",
       "  'hide_score': False,\n",
       "  'edited': False,\n",
       "  'link_flair_css_class': None,\n",
       "  'author_flair_css_class': None,\n",
       "  'downs': 0,\n",
       "  'secure_media_embed': {},\n",
       "  'saved': False,\n",
       "  'removal_reason': None,\n",
       "  'stickied': False,\n",
       "  'from': None,\n",
       "  'is_self': False,\n",
       "  'from_id': None,\n",
       "  'permalink': '/r/news/comments/4bn12d/man_arrested_for_stealing_suv_told_police_he/',\n",
       "  'locked': False,\n",
       "  'name': 't3_4bn12d',\n",
       "  'created': 1458776802.0,\n",
       "  'url': 'http://www.wdrb.com/story/31546565/man-arrested-for-stealing-suv-told-police-he-needed-it-for-job-interview',\n",
       "  'author_flair_text': None,\n",
       "  'quarantine': False,\n",
       "  'title': 'Man arrested for stealing SUV told police he needed it for job interview',\n",
       "  'created_utc': 1458748002.0,\n",
       "  'distinguished': None,\n",
       "  'mod_reports': [],\n",
       "  'visited': False,\n",
       "  'num_reports': None,\n",
       "  'ups': 1}}"
      ]
     },
     "execution_count": 7,
     "metadata": {},
     "output_type": "execute_result"
    }
   ],
   "source": [
    "reddit = get_json(\"https://raw.githubusercontent.com/mafudge/datasets/master/json-samples/reddit.json\")\n",
    "articles = reddit[\"data\"][\"children\"]\n",
    "articles[0]"
   ]
  },
  {
   "cell_type": "code",
   "execution_count": 12,
   "metadata": {},
   "outputs": [],
   "source": [
    "# PROMPT 1 read in episodes of \"The Wire\" find the episodes key, and show the first episode.\n",
    "thewire = get_json(\"https://raw.githubusercontent.com/mafudge/datasets/master/tv-shows/the-wire.json\")\n",
    "episodes = thewire[\"_embedded\"]['episodes']"
   ]
  },
  {
   "cell_type": "code",
   "execution_count": 13,
   "metadata": {
    "tags": []
   },
   "outputs": [
    {
     "data": {
      "text/plain": [
       "{'id': 12912,\n",
       " 'url': 'https://www.tvmaze.com/episodes/12912/the-wire-1x06-the-wire',\n",
       " 'name': 'The Wire',\n",
       " 'season': 1,\n",
       " 'number': 6,\n",
       " 'type': 'regular',\n",
       " 'airdate': '2002-07-07',\n",
       " 'airtime': '21:00',\n",
       " 'airstamp': '2002-07-08T01:00:00+00:00',\n",
       " 'runtime': 60,\n",
       " 'rating': {'average': 8.5},\n",
       " 'image': {'medium': 'https://static.tvmaze.com/uploads/images/medium_landscape/94/236933.jpg',\n",
       "  'original': 'https://static.tvmaze.com/uploads/images/original_untouched/94/236933.jpg'},\n",
       " 'summary': '<p><i>\"...and all the pieces matter.\" - Freamon</i><br />Brandon\\'s bloodied body is discovered in the pit. Wallace gets even more unsettled about the situation after Avon rewards him for his part in Brandon\\'s murder. The detail gets a wiretap running. Daniels clashes with homicide MajorWilliam Rawlsover their approach to the evidence they have gathered thus far.</p>',\n",
       " '_links': {'self': {'href': 'https://api.tvmaze.com/episodes/12912'}}}"
      ]
     },
     "execution_count": 13,
     "metadata": {},
     "output_type": "execute_result"
    }
   ],
   "source": [
    "episodes[5]"
   ]
  },
  {
   "cell_type": "markdown",
   "metadata": {},
   "source": [
    "## Creaating dataframe\n",
    "\n",
    "In this example we use`json_normalize()` to display the articles in a dataframe"
   ]
  },
  {
   "cell_type": "code",
   "execution_count": 16,
   "metadata": {},
   "outputs": [
    {
     "data": {
      "text/html": [
       "<div>\n",
       "<style scoped>\n",
       "    .dataframe tbody tr th:only-of-type {\n",
       "        vertical-align: middle;\n",
       "    }\n",
       "\n",
       "    .dataframe tbody tr th {\n",
       "        vertical-align: top;\n",
       "    }\n",
       "\n",
       "    .dataframe thead th {\n",
       "        text-align: right;\n",
       "    }\n",
       "</style>\n",
       "<table border=\"1\" class=\"dataframe\">\n",
       "  <thead>\n",
       "    <tr style=\"text-align: right;\">\n",
       "      <th></th>\n",
       "      <th>kind</th>\n",
       "      <th>data.domain</th>\n",
       "      <th>data.banned_by</th>\n",
       "      <th>data.subreddit</th>\n",
       "      <th>data.selftext_html</th>\n",
       "      <th>data.selftext</th>\n",
       "      <th>data.likes</th>\n",
       "      <th>data.suggested_sort</th>\n",
       "      <th>data.user_reports</th>\n",
       "      <th>data.secure_media</th>\n",
       "      <th>...</th>\n",
       "      <th>data.url</th>\n",
       "      <th>data.author_flair_text</th>\n",
       "      <th>data.quarantine</th>\n",
       "      <th>data.title</th>\n",
       "      <th>data.created_utc</th>\n",
       "      <th>data.distinguished</th>\n",
       "      <th>data.mod_reports</th>\n",
       "      <th>data.visited</th>\n",
       "      <th>data.num_reports</th>\n",
       "      <th>data.ups</th>\n",
       "    </tr>\n",
       "  </thead>\n",
       "  <tbody>\n",
       "    <tr>\n",
       "      <th>0</th>\n",
       "      <td>t3</td>\n",
       "      <td>wdrb.com</td>\n",
       "      <td>None</td>\n",
       "      <td>news</td>\n",
       "      <td>None</td>\n",
       "      <td></td>\n",
       "      <td>None</td>\n",
       "      <td>None</td>\n",
       "      <td>[]</td>\n",
       "      <td>None</td>\n",
       "      <td>...</td>\n",
       "      <td>http://www.wdrb.com/story/31546565/man-arrested-for-stealing-suv-told-police-he-needed-it-for-job-interview</td>\n",
       "      <td>None</td>\n",
       "      <td>False</td>\n",
       "      <td>Man arrested for stealing SUV told police he needed it for job interview</td>\n",
       "      <td>1.458748e+09</td>\n",
       "      <td>None</td>\n",
       "      <td>[]</td>\n",
       "      <td>False</td>\n",
       "      <td>None</td>\n",
       "      <td>1</td>\n",
       "    </tr>\n",
       "  </tbody>\n",
       "</table>\n",
       "<p>1 rows × 51 columns</p>\n",
       "</div>"
      ],
      "text/plain": [
       "  kind data.domain data.banned_by data.subreddit data.selftext_html  \\\n",
       "0   t3    wdrb.com           None           news               None   \n",
       "\n",
       "  data.selftext data.likes data.suggested_sort data.user_reports  \\\n",
       "0                     None                None                []   \n",
       "\n",
       "  data.secure_media  ...  \\\n",
       "0              None  ...   \n",
       "\n",
       "                                                                                                      data.url  \\\n",
       "0  http://www.wdrb.com/story/31546565/man-arrested-for-stealing-suv-told-police-he-needed-it-for-job-interview   \n",
       "\n",
       "  data.author_flair_text data.quarantine  \\\n",
       "0                   None           False   \n",
       "\n",
       "                                                                 data.title  \\\n",
       "0  Man arrested for stealing SUV told police he needed it for job interview   \n",
       "\n",
       "   data.created_utc  data.distinguished data.mod_reports data.visited  \\\n",
       "0      1.458748e+09                None               []        False   \n",
       "\n",
       "  data.num_reports  data.ups  \n",
       "0             None         1  \n",
       "\n",
       "[1 rows x 51 columns]"
      ]
     },
     "execution_count": 16,
     "metadata": {},
     "output_type": "execute_result"
    }
   ],
   "source": [
    "art_df = pd.json_normalize(articles) #articles is a list of dict!\n",
    "art_df.head(1)"
   ]
  },
  {
   "cell_type": "code",
   "execution_count": 17,
   "metadata": {},
   "outputs": [
    {
     "data": {
      "text/html": [
       "<div>\n",
       "<style scoped>\n",
       "    .dataframe tbody tr th:only-of-type {\n",
       "        vertical-align: middle;\n",
       "    }\n",
       "\n",
       "    .dataframe tbody tr th {\n",
       "        vertical-align: top;\n",
       "    }\n",
       "\n",
       "    .dataframe thead th {\n",
       "        text-align: right;\n",
       "    }\n",
       "</style>\n",
       "<table border=\"1\" class=\"dataframe\">\n",
       "  <thead>\n",
       "    <tr style=\"text-align: right;\">\n",
       "      <th></th>\n",
       "      <th>id</th>\n",
       "      <th>url</th>\n",
       "      <th>name</th>\n",
       "      <th>season</th>\n",
       "      <th>number</th>\n",
       "      <th>type</th>\n",
       "      <th>airdate</th>\n",
       "      <th>airtime</th>\n",
       "      <th>airstamp</th>\n",
       "      <th>runtime</th>\n",
       "      <th>summary</th>\n",
       "      <th>rating.average</th>\n",
       "      <th>image.medium</th>\n",
       "      <th>image.original</th>\n",
       "      <th>_links.self.href</th>\n",
       "    </tr>\n",
       "  </thead>\n",
       "  <tbody>\n",
       "    <tr>\n",
       "      <th>0</th>\n",
       "      <td>12907</td>\n",
       "      <td>https://www.tvmaze.com/episodes/12907/the-wire-1x01-the-target</td>\n",
       "      <td>The Target</td>\n",
       "      <td>1</td>\n",
       "      <td>1</td>\n",
       "      <td>regular</td>\n",
       "      <td>2002-06-02</td>\n",
       "      <td>21:00</td>\n",
       "      <td>2002-06-03T01:00:00+00:00</td>\n",
       "      <td>60</td>\n",
       "      <td>&lt;p&gt;Homicide detective Jimmy McNulty observes the murder trial of a mid-level drug dealer, D'Angelo Barksdale, and sees the prosecution's star witness recant her testimony. McNulty recognises drug king-pin Stringer Bell in the court room and believes he has manipulated the proceedings, so he circumvents the chain-of-command by talking to the judge, Daniel Phelan, who then places pressure on the police department to investigate the Barksdale drug-dealing organization, which, McNulty claims, has gotten away with ten murders in the last year. D'Angelo is welcomed home by his uncle, Barksdale patriarch, Avon, who is frustrated with him for placing himself in a situation where the police could charge him. Nevertheless, Avon allows him to return to work, but in what D'Angelo sees as a demotion, he is moved to a low-rise housing project known as \"the pit.\" Meanwhile, homeless drug addict Bubbles, acts as mentor to another addict, Johnny Weeks, in an ill-conceived scam with severe consequences.&lt;/p&gt;</td>\n",
       "      <td>7.8</td>\n",
       "      <td>https://static.tvmaze.com/uploads/images/medium_landscape/94/236937.jpg</td>\n",
       "      <td>https://static.tvmaze.com/uploads/images/original_untouched/94/236937.jpg</td>\n",
       "      <td>https://api.tvmaze.com/episodes/12907</td>\n",
       "    </tr>\n",
       "  </tbody>\n",
       "</table>\n",
       "</div>"
      ],
      "text/plain": [
       "      id                                                             url  \\\n",
       "0  12907  https://www.tvmaze.com/episodes/12907/the-wire-1x01-the-target   \n",
       "\n",
       "         name  season  number     type     airdate airtime  \\\n",
       "0  The Target       1       1  regular  2002-06-02   21:00   \n",
       "\n",
       "                    airstamp  runtime  \\\n",
       "0  2002-06-03T01:00:00+00:00       60   \n",
       "\n",
       "                                                                                                                                                                                                                                                                                                                                                                                                                                                                                                                                                                                                                                                                                                                                                                                                                                                                                                                                                                                                                                        summary  \\\n",
       "0  <p>Homicide detective Jimmy McNulty observes the murder trial of a mid-level drug dealer, D'Angelo Barksdale, and sees the prosecution's star witness recant her testimony. McNulty recognises drug king-pin Stringer Bell in the court room and believes he has manipulated the proceedings, so he circumvents the chain-of-command by talking to the judge, Daniel Phelan, who then places pressure on the police department to investigate the Barksdale drug-dealing organization, which, McNulty claims, has gotten away with ten murders in the last year. D'Angelo is welcomed home by his uncle, Barksdale patriarch, Avon, who is frustrated with him for placing himself in a situation where the police could charge him. Nevertheless, Avon allows him to return to work, but in what D'Angelo sees as a demotion, he is moved to a low-rise housing project known as \"the pit.\" Meanwhile, homeless drug addict Bubbles, acts as mentor to another addict, Johnny Weeks, in an ill-conceived scam with severe consequences.</p>   \n",
       "\n",
       "   rating.average  \\\n",
       "0             7.8   \n",
       "\n",
       "                                                              image.medium  \\\n",
       "0  https://static.tvmaze.com/uploads/images/medium_landscape/94/236937.jpg   \n",
       "\n",
       "                                                              image.original  \\\n",
       "0  https://static.tvmaze.com/uploads/images/original_untouched/94/236937.jpg   \n",
       "\n",
       "                        _links.self.href  \n",
       "0  https://api.tvmaze.com/episodes/12907  "
      ]
     },
     "execution_count": 17,
     "metadata": {},
     "output_type": "execute_result"
    }
   ],
   "source": [
    "# PROMPT 2 display the episodes as a dataframe\n",
    "epdf = pd.json_normalize(episodes)\n",
    "epdf.head(1)"
   ]
  },
  {
   "cell_type": "markdown",
   "metadata": {},
   "source": [
    "## A Text Sentiment Web Service\n",
    "\n",
    "The following function uses the http://text-processing.com service to calculate the sentiment for any input text. The result is a dict with probabilities and overall sentiment. For example:\n",
    "\n",
    "INPUT: `\"very nice\"`\n",
    "\n",
    "OUTPUT: \n",
    "```\n",
    "{\n",
    "    'probability': {\n",
    "        'neg': 0.28997418956645504,\n",
    "        'neutral': 0.13591527211268692,\n",
    "        'pos': 0.710025810433545\n",
    "    },\n",
    "    'label': 'pos'\n",
    "}\n"
   ]
  },
  {
   "cell_type": "code",
   "execution_count": 25,
   "metadata": {},
   "outputs": [
    {
     "data": {
      "text/plain": [
       "'Positive'"
      ]
     },
     "execution_count": 25,
     "metadata": {},
     "output_type": "execute_result"
    }
   ],
   "source": [
    "def get_text_sentiment(text: str) -> dict:\n",
    "    import requests\n",
    "    response = requests.post(\n",
    "        \"http://text-processing.com/api/sentiment/\", \n",
    "        data={\"text\": text},\n",
    "        headers={\"User-Agent\": \"Mozillia/5.0\"}\n",
    "    )\n",
    "    response.raise_for_status()\n",
    "    return response.json()\n",
    "\n",
    "def get_text_sentiment(text: str) -> dict:\n",
    "    import random\n",
    "    return random.choice([\"Positive\", \"Negative\", \"Neutral\"])\n",
    "\n",
    "\n",
    "sentiment = get_text_sentiment(\"very nice\")\n",
    "sentiment"
   ]
  },
  {
   "cell_type": "code",
   "execution_count": 23,
   "metadata": {
    "tags": []
   },
   "outputs": [],
   "source": [
    "# PROMPT 3: get the sentiment of the text below and print the label only\n"
   ]
  },
  {
   "cell_type": "markdown",
   "metadata": {},
   "source": [
    "## Using a lambda with `apply()`\n",
    "\n",
    "The following example creates a new Series in the dataframe called `\"title_sentiment\"` which calculates the sentiment of the reddit news title."
   ]
  },
  {
   "cell_type": "code",
   "execution_count": 29,
   "metadata": {},
   "outputs": [
    {
     "data": {
      "text/html": [
       "<div>\n",
       "<style scoped>\n",
       "    .dataframe tbody tr th:only-of-type {\n",
       "        vertical-align: middle;\n",
       "    }\n",
       "\n",
       "    .dataframe tbody tr th {\n",
       "        vertical-align: top;\n",
       "    }\n",
       "\n",
       "    .dataframe thead th {\n",
       "        text-align: right;\n",
       "    }\n",
       "</style>\n",
       "<table border=\"1\" class=\"dataframe\">\n",
       "  <thead>\n",
       "    <tr style=\"text-align: right;\">\n",
       "      <th></th>\n",
       "      <th>data.title</th>\n",
       "      <th>title_sentiment</th>\n",
       "    </tr>\n",
       "  </thead>\n",
       "  <tbody>\n",
       "    <tr>\n",
       "      <th>0</th>\n",
       "      <td>Man arrested for stealing SUV told police he needed it for job interview</td>\n",
       "      <td>Neutral</td>\n",
       "    </tr>\n",
       "    <tr>\n",
       "      <th>1</th>\n",
       "      <td>Zika outbreak needs $4 million: WHO</td>\n",
       "      <td>Neutral</td>\n",
       "    </tr>\n",
       "    <tr>\n",
       "      <th>2</th>\n",
       "      <td>Austin police to fire officer who shot, killed nude teen</td>\n",
       "      <td>Positive</td>\n",
       "    </tr>\n",
       "    <tr>\n",
       "      <th>3</th>\n",
       "      <td>Hubble Unveils Monster Stars</td>\n",
       "      <td>Neutral</td>\n",
       "    </tr>\n",
       "    <tr>\n",
       "      <th>4</th>\n",
       "      <td>ISIS application forms surface in intelligence haul on terror group's recruits</td>\n",
       "      <td>Negative</td>\n",
       "    </tr>\n",
       "  </tbody>\n",
       "</table>\n",
       "</div>"
      ],
      "text/plain": [
       "                                                                       data.title  \\\n",
       "0        Man arrested for stealing SUV told police he needed it for job interview   \n",
       "1                                             Zika outbreak needs $4 million: WHO   \n",
       "2                        Austin police to fire officer who shot, killed nude teen   \n",
       "3                                                    Hubble Unveils Monster Stars   \n",
       "4  ISIS application forms surface in intelligence haul on terror group's recruits   \n",
       "\n",
       "  title_sentiment  \n",
       "0         Neutral  \n",
       "1         Neutral  \n",
       "2        Positive  \n",
       "3         Neutral  \n",
       "4        Negative  "
      ]
     },
     "execution_count": 29,
     "metadata": {},
     "output_type": "execute_result"
    }
   ],
   "source": [
    "art_df[\"title_sentiment\"] = art_df.apply(lambda row: get_text_sentiment(row[\"data.title\"]), axis=1)\n",
    "art_df[[\"data.title\", \"title_sentiment\"]].head()"
   ]
  },
  {
   "cell_type": "code",
   "execution_count": 31,
   "metadata": {
    "tags": []
   },
   "outputs": [
    {
     "data": {
      "text/html": [
       "<div>\n",
       "<style scoped>\n",
       "    .dataframe tbody tr th:only-of-type {\n",
       "        vertical-align: middle;\n",
       "    }\n",
       "\n",
       "    .dataframe tbody tr th {\n",
       "        vertical-align: top;\n",
       "    }\n",
       "\n",
       "    .dataframe thead th {\n",
       "        text-align: right;\n",
       "    }\n",
       "</style>\n",
       "<table border=\"1\" class=\"dataframe\">\n",
       "  <thead>\n",
       "    <tr style=\"text-align: right;\">\n",
       "      <th></th>\n",
       "      <th>id</th>\n",
       "      <th>url</th>\n",
       "      <th>name</th>\n",
       "      <th>season</th>\n",
       "      <th>number</th>\n",
       "      <th>type</th>\n",
       "      <th>airdate</th>\n",
       "      <th>airtime</th>\n",
       "      <th>airstamp</th>\n",
       "      <th>runtime</th>\n",
       "      <th>summary</th>\n",
       "      <th>rating.average</th>\n",
       "      <th>image.medium</th>\n",
       "      <th>image.original</th>\n",
       "      <th>_links.self.href</th>\n",
       "      <th>summary_sentiment</th>\n",
       "    </tr>\n",
       "  </thead>\n",
       "  <tbody>\n",
       "    <tr>\n",
       "      <th>0</th>\n",
       "      <td>12907</td>\n",
       "      <td>https://www.tvmaze.com/episodes/12907/the-wire-1x01-the-target</td>\n",
       "      <td>The Target</td>\n",
       "      <td>1</td>\n",
       "      <td>1</td>\n",
       "      <td>regular</td>\n",
       "      <td>2002-06-02</td>\n",
       "      <td>21:00</td>\n",
       "      <td>2002-06-03T01:00:00+00:00</td>\n",
       "      <td>60</td>\n",
       "      <td>&lt;p&gt;Homicide detective Jimmy McNulty observes the murder trial of a mid-level drug dealer, D'Angelo Barksdale, and sees the prosecution's star witness recant her testimony. McNulty recognises drug king-pin Stringer Bell in the court room and believes he has manipulated the proceedings, so he circumvents the chain-of-command by talking to the judge, Daniel Phelan, who then places pressure on the police department to investigate the Barksdale drug-dealing organization, which, McNulty claims, has gotten away with ten murders in the last year. D'Angelo is welcomed home by his uncle, Barksdale patriarch, Avon, who is frustrated with him for placing himself in a situation where the police could charge him. Nevertheless, Avon allows him to return to work, but in what D'Angelo sees as a demotion, he is moved to a low-rise housing project known as \"the pit.\" Meanwhile, homeless drug addict Bubbles, acts as mentor to another addict, Johnny Weeks, in an ill-conceived scam with severe consequences.&lt;/p&gt;</td>\n",
       "      <td>7.8</td>\n",
       "      <td>https://static.tvmaze.com/uploads/images/medium_landscape/94/236937.jpg</td>\n",
       "      <td>https://static.tvmaze.com/uploads/images/original_untouched/94/236937.jpg</td>\n",
       "      <td>https://api.tvmaze.com/episodes/12907</td>\n",
       "      <td>Negative</td>\n",
       "    </tr>\n",
       "  </tbody>\n",
       "</table>\n",
       "</div>"
      ],
      "text/plain": [
       "      id                                                             url  \\\n",
       "0  12907  https://www.tvmaze.com/episodes/12907/the-wire-1x01-the-target   \n",
       "\n",
       "         name  season  number     type     airdate airtime  \\\n",
       "0  The Target       1       1  regular  2002-06-02   21:00   \n",
       "\n",
       "                    airstamp  runtime  \\\n",
       "0  2002-06-03T01:00:00+00:00       60   \n",
       "\n",
       "                                                                                                                                                                                                                                                                                                                                                                                                                                                                                                                                                                                                                                                                                                                                                                                                                                                                                                                                                                                                                                        summary  \\\n",
       "0  <p>Homicide detective Jimmy McNulty observes the murder trial of a mid-level drug dealer, D'Angelo Barksdale, and sees the prosecution's star witness recant her testimony. McNulty recognises drug king-pin Stringer Bell in the court room and believes he has manipulated the proceedings, so he circumvents the chain-of-command by talking to the judge, Daniel Phelan, who then places pressure on the police department to investigate the Barksdale drug-dealing organization, which, McNulty claims, has gotten away with ten murders in the last year. D'Angelo is welcomed home by his uncle, Barksdale patriarch, Avon, who is frustrated with him for placing himself in a situation where the police could charge him. Nevertheless, Avon allows him to return to work, but in what D'Angelo sees as a demotion, he is moved to a low-rise housing project known as \"the pit.\" Meanwhile, homeless drug addict Bubbles, acts as mentor to another addict, Johnny Weeks, in an ill-conceived scam with severe consequences.</p>   \n",
       "\n",
       "   rating.average  \\\n",
       "0             7.8   \n",
       "\n",
       "                                                              image.medium  \\\n",
       "0  https://static.tvmaze.com/uploads/images/medium_landscape/94/236937.jpg   \n",
       "\n",
       "                                                              image.original  \\\n",
       "0  https://static.tvmaze.com/uploads/images/original_untouched/94/236937.jpg   \n",
       "\n",
       "                        _links.self.href summary_sentiment  \n",
       "0  https://api.tvmaze.com/episodes/12907          Negative  "
      ]
     },
     "execution_count": 31,
     "metadata": {},
     "output_type": "execute_result"
    }
   ],
   "source": [
    "# PROMPT 4 get the sentiment for the summary Series in the episodes dataframe, name the column \"summary_sentiment\" and show the summary and the sentiment\n",
    "epdf['summary_sentiment'] = epdf.apply(\n",
    "    lambda row: get_text_sentiment(row['summary']\n",
    ") , axis=1)\n",
    "epdf.head(1)"
   ]
  },
  {
   "cell_type": "markdown",
   "metadata": {
    "tags": []
   },
   "source": [
    "## Saving the dataframe \n",
    "\n",
    "Calculating the sentiment isn't free and we don't need to do it more than once. Its a good idea to save the content of our dataframe at this point.  That way we can continue from the saved file versus re-calculating the transformation.\n",
    "\n",
    "After you run this code open the `reddit_news_articles.csv` file and check it out!"
   ]
  },
  {
   "cell_type": "code",
   "execution_count": null,
   "metadata": {
    "tags": []
   },
   "outputs": [],
   "source": [
    "art_df.to_csv(\"reddit_news_articles.csv\", index=False)"
   ]
  },
  {
   "cell_type": "code",
   "execution_count": 33,
   "metadata": {
    "tags": []
   },
   "outputs": [],
   "source": [
    "# PROMPT 5 save your episodes of the wire to \"the_wire_episodes.csv\"\n",
    "epdf.to_csv(\"the_wire_episodes.csv\", header=True, index=False)"
   ]
  },
  {
   "cell_type": "markdown",
   "metadata": {
    "slideshow": {
     "slide_type": "slide"
    }
   },
   "source": [
    "## Hot and Top articles.\n",
    "\n",
    "You have been hired as a data scientist at Reddit. Through your extensive statistical research, you have determined: \n",
    "\n",
    "- Articles where the number of comments are in the 75% percentile should be categorized as `\"Hot\"`\n",
    "- Articles where the number of upvotes are in the 75% percentile should be categorized as `\"Popular\"`\n",
    "- Articles matching both should be categories as `\"Fire\"`\n",
    "\n",
    "In these next challenges, we will write code to implement these rules.\n"
   ]
  },
  {
   "cell_type": "code",
   "execution_count": 34,
   "metadata": {
    "tags": []
   },
   "outputs": [
    {
     "data": {
      "text/html": [
       "<div>\n",
       "<style scoped>\n",
       "    .dataframe tbody tr th:only-of-type {\n",
       "        vertical-align: middle;\n",
       "    }\n",
       "\n",
       "    .dataframe tbody tr th {\n",
       "        vertical-align: top;\n",
       "    }\n",
       "\n",
       "    .dataframe thead th {\n",
       "        text-align: right;\n",
       "    }\n",
       "</style>\n",
       "<table border=\"1\" class=\"dataframe\">\n",
       "  <thead>\n",
       "    <tr style=\"text-align: right;\">\n",
       "      <th></th>\n",
       "      <th>data.gilded</th>\n",
       "      <th>data.score</th>\n",
       "      <th>data.num_comments</th>\n",
       "      <th>data.downs</th>\n",
       "      <th>data.created</th>\n",
       "      <th>data.created_utc</th>\n",
       "      <th>data.ups</th>\n",
       "    </tr>\n",
       "  </thead>\n",
       "  <tbody>\n",
       "    <tr>\n",
       "      <th>count</th>\n",
       "      <td>25.0</td>\n",
       "      <td>25.000000</td>\n",
       "      <td>25.000000</td>\n",
       "      <td>25.0</td>\n",
       "      <td>2.500000e+01</td>\n",
       "      <td>2.500000e+01</td>\n",
       "      <td>25.000000</td>\n",
       "    </tr>\n",
       "    <tr>\n",
       "      <th>mean</th>\n",
       "      <td>0.0</td>\n",
       "      <td>30.440000</td>\n",
       "      <td>10.920000</td>\n",
       "      <td>0.0</td>\n",
       "      <td>1.458733e+09</td>\n",
       "      <td>1.458704e+09</td>\n",
       "      <td>30.440000</td>\n",
       "    </tr>\n",
       "    <tr>\n",
       "      <th>std</th>\n",
       "      <td>0.0</td>\n",
       "      <td>74.512348</td>\n",
       "      <td>22.597788</td>\n",
       "      <td>0.0</td>\n",
       "      <td>3.688108e+04</td>\n",
       "      <td>3.688108e+04</td>\n",
       "      <td>74.512348</td>\n",
       "    </tr>\n",
       "    <tr>\n",
       "      <th>min</th>\n",
       "      <td>0.0</td>\n",
       "      <td>0.000000</td>\n",
       "      <td>0.000000</td>\n",
       "      <td>0.0</td>\n",
       "      <td>1.458655e+09</td>\n",
       "      <td>1.458627e+09</td>\n",
       "      <td>0.000000</td>\n",
       "    </tr>\n",
       "    <tr>\n",
       "      <th>25%</th>\n",
       "      <td>0.0</td>\n",
       "      <td>1.000000</td>\n",
       "      <td>1.000000</td>\n",
       "      <td>0.0</td>\n",
       "      <td>1.458700e+09</td>\n",
       "      <td>1.458671e+09</td>\n",
       "      <td>1.000000</td>\n",
       "    </tr>\n",
       "    <tr>\n",
       "      <th>50%</th>\n",
       "      <td>0.0</td>\n",
       "      <td>8.000000</td>\n",
       "      <td>2.000000</td>\n",
       "      <td>0.0</td>\n",
       "      <td>1.458727e+09</td>\n",
       "      <td>1.458698e+09</td>\n",
       "      <td>8.000000</td>\n",
       "    </tr>\n",
       "    <tr>\n",
       "      <th>75%</th>\n",
       "      <td>0.0</td>\n",
       "      <td>27.000000</td>\n",
       "      <td>11.000000</td>\n",
       "      <td>0.0</td>\n",
       "      <td>1.458767e+09</td>\n",
       "      <td>1.458738e+09</td>\n",
       "      <td>27.000000</td>\n",
       "    </tr>\n",
       "    <tr>\n",
       "      <th>max</th>\n",
       "      <td>0.0</td>\n",
       "      <td>376.000000</td>\n",
       "      <td>108.000000</td>\n",
       "      <td>0.0</td>\n",
       "      <td>1.458791e+09</td>\n",
       "      <td>1.458762e+09</td>\n",
       "      <td>376.000000</td>\n",
       "    </tr>\n",
       "  </tbody>\n",
       "</table>\n",
       "</div>"
      ],
      "text/plain": [
       "       data.gilded  data.score  data.num_comments  data.downs  data.created  \\\n",
       "count         25.0   25.000000          25.000000        25.0  2.500000e+01   \n",
       "mean           0.0   30.440000          10.920000         0.0  1.458733e+09   \n",
       "std            0.0   74.512348          22.597788         0.0  3.688108e+04   \n",
       "min            0.0    0.000000           0.000000         0.0  1.458655e+09   \n",
       "25%            0.0    1.000000           1.000000         0.0  1.458700e+09   \n",
       "50%            0.0    8.000000           2.000000         0.0  1.458727e+09   \n",
       "75%            0.0   27.000000          11.000000         0.0  1.458767e+09   \n",
       "max            0.0  376.000000         108.000000         0.0  1.458791e+09   \n",
       "\n",
       "       data.created_utc    data.ups  \n",
       "count      2.500000e+01   25.000000  \n",
       "mean       1.458704e+09   30.440000  \n",
       "std        3.688108e+04   74.512348  \n",
       "min        1.458627e+09    0.000000  \n",
       "25%        1.458671e+09    1.000000  \n",
       "50%        1.458698e+09    8.000000  \n",
       "75%        1.458738e+09   27.000000  \n",
       "max        1.458762e+09  376.000000  "
      ]
     },
     "execution_count": 34,
     "metadata": {},
     "output_type": "execute_result"
    }
   ],
   "source": [
    "# PROMPT 6 write code to show the statistics of the numerical columns in the `art_df`\n",
    "art_df.describe()"
   ]
  },
  {
   "cell_type": "code",
   "execution_count": 38,
   "metadata": {},
   "outputs": [
    {
     "ename": "KeyError",
     "evalue": "'75%'",
     "output_type": "error",
     "traceback": [
      "\u001b[0;31m---------------------------------------------------------------------------\u001b[0m",
      "\u001b[0;31mKeyError\u001b[0m                                  Traceback (most recent call last)",
      "File \u001b[0;32m/opt/conda/lib/python3.11/site-packages/pandas/core/indexes/base.py:3791\u001b[0m, in \u001b[0;36mIndex.get_loc\u001b[0;34m(self, key)\u001b[0m\n\u001b[1;32m   3790\u001b[0m \u001b[38;5;28;01mtry\u001b[39;00m:\n\u001b[0;32m-> 3791\u001b[0m     \u001b[38;5;28;01mreturn\u001b[39;00m \u001b[38;5;28;43mself\u001b[39;49m\u001b[38;5;241;43m.\u001b[39;49m\u001b[43m_engine\u001b[49m\u001b[38;5;241;43m.\u001b[39;49m\u001b[43mget_loc\u001b[49m\u001b[43m(\u001b[49m\u001b[43mcasted_key\u001b[49m\u001b[43m)\u001b[49m\n\u001b[1;32m   3792\u001b[0m \u001b[38;5;28;01mexcept\u001b[39;00m \u001b[38;5;167;01mKeyError\u001b[39;00m \u001b[38;5;28;01mas\u001b[39;00m err:\n",
      "File \u001b[0;32mindex.pyx:152\u001b[0m, in \u001b[0;36mpandas._libs.index.IndexEngine.get_loc\u001b[0;34m()\u001b[0m\n",
      "File \u001b[0;32mindex.pyx:181\u001b[0m, in \u001b[0;36mpandas._libs.index.IndexEngine.get_loc\u001b[0;34m()\u001b[0m\n",
      "File \u001b[0;32mpandas/_libs/hashtable_class_helper.pxi:7080\u001b[0m, in \u001b[0;36mpandas._libs.hashtable.PyObjectHashTable.get_item\u001b[0;34m()\u001b[0m\n",
      "File \u001b[0;32mpandas/_libs/hashtable_class_helper.pxi:7088\u001b[0m, in \u001b[0;36mpandas._libs.hashtable.PyObjectHashTable.get_item\u001b[0;34m()\u001b[0m\n",
      "\u001b[0;31mKeyError\u001b[0m: '75%'",
      "\nThe above exception was the direct cause of the following exception:\n",
      "\u001b[0;31mKeyError\u001b[0m                                  Traceback (most recent call last)",
      "Cell \u001b[0;32mIn[38], line 3\u001b[0m\n\u001b[1;32m      1\u001b[0m \u001b[38;5;66;03m# PROMPT 7 which columns represent comments? upvotes? What are the thresholds based on the 75% percentile?\u001b[39;00m\n\u001b[1;32m      2\u001b[0m hot_comments_minimum \u001b[38;5;241m=\u001b[39m art_df\u001b[38;5;241m.\u001b[39mdescribe()\u001b[38;5;241m.\u001b[39mloc[\u001b[38;5;124m\"\u001b[39m\u001b[38;5;124m75\u001b[39m\u001b[38;5;124m%\u001b[39m\u001b[38;5;124m\"\u001b[39m, \u001b[38;5;124m\"\u001b[39m\u001b[38;5;124mdata.num_comments\u001b[39m\u001b[38;5;124m\"\u001b[39m]\n\u001b[0;32m----> 3\u001b[0m pop_comments_minimum \u001b[38;5;241m=\u001b[39m \u001b[43mart_df\u001b[49m\u001b[38;5;241;43m.\u001b[39;49m\u001b[43mdescribe\u001b[49m\u001b[43m(\u001b[49m\u001b[43m)\u001b[49m\u001b[38;5;241;43m.\u001b[39;49m\u001b[43mloc\u001b[49m\u001b[43m[\u001b[49m\u001b[38;5;124;43m\"\u001b[39;49m\u001b[38;5;124;43mdata.ups\u001b[39;49m\u001b[38;5;124;43m\"\u001b[39;49m\u001b[43m,\u001b[49m\u001b[43m \u001b[49m\u001b[38;5;124;43m\"\u001b[39;49m\u001b[38;5;124;43m75\u001b[39;49m\u001b[38;5;124;43m%\u001b[39;49m\u001b[38;5;124;43m\"\u001b[39;49m\u001b[43m]\u001b[49m\n",
      "File \u001b[0;32m/opt/conda/lib/python3.11/site-packages/pandas/core/indexing.py:1146\u001b[0m, in \u001b[0;36m_LocationIndexer.__getitem__\u001b[0;34m(self, key)\u001b[0m\n\u001b[1;32m   1144\u001b[0m     key \u001b[38;5;241m=\u001b[39m \u001b[38;5;28mtuple\u001b[39m(com\u001b[38;5;241m.\u001b[39mapply_if_callable(x, \u001b[38;5;28mself\u001b[39m\u001b[38;5;241m.\u001b[39mobj) \u001b[38;5;28;01mfor\u001b[39;00m x \u001b[38;5;129;01min\u001b[39;00m key)\n\u001b[1;32m   1145\u001b[0m     \u001b[38;5;28;01mif\u001b[39;00m \u001b[38;5;28mself\u001b[39m\u001b[38;5;241m.\u001b[39m_is_scalar_access(key):\n\u001b[0;32m-> 1146\u001b[0m         \u001b[38;5;28;01mreturn\u001b[39;00m \u001b[38;5;28;43mself\u001b[39;49m\u001b[38;5;241;43m.\u001b[39;49m\u001b[43mobj\u001b[49m\u001b[38;5;241;43m.\u001b[39;49m\u001b[43m_get_value\u001b[49m\u001b[43m(\u001b[49m\u001b[38;5;241;43m*\u001b[39;49m\u001b[43mkey\u001b[49m\u001b[43m,\u001b[49m\u001b[43m \u001b[49m\u001b[43mtakeable\u001b[49m\u001b[38;5;241;43m=\u001b[39;49m\u001b[38;5;28;43mself\u001b[39;49m\u001b[38;5;241;43m.\u001b[39;49m\u001b[43m_takeable\u001b[49m\u001b[43m)\u001b[49m\n\u001b[1;32m   1147\u001b[0m     \u001b[38;5;28;01mreturn\u001b[39;00m \u001b[38;5;28mself\u001b[39m\u001b[38;5;241m.\u001b[39m_getitem_tuple(key)\n\u001b[1;32m   1148\u001b[0m \u001b[38;5;28;01melse\u001b[39;00m:\n\u001b[1;32m   1149\u001b[0m     \u001b[38;5;66;03m# we by definition only have the 0th axis\u001b[39;00m\n",
      "File \u001b[0;32m/opt/conda/lib/python3.11/site-packages/pandas/core/frame.py:4005\u001b[0m, in \u001b[0;36mDataFrame._get_value\u001b[0;34m(self, index, col, takeable)\u001b[0m\n\u001b[1;32m   4002\u001b[0m     series \u001b[38;5;241m=\u001b[39m \u001b[38;5;28mself\u001b[39m\u001b[38;5;241m.\u001b[39m_ixs(col, axis\u001b[38;5;241m=\u001b[39m\u001b[38;5;241m1\u001b[39m)\n\u001b[1;32m   4003\u001b[0m     \u001b[38;5;28;01mreturn\u001b[39;00m series\u001b[38;5;241m.\u001b[39m_values[index]\n\u001b[0;32m-> 4005\u001b[0m series \u001b[38;5;241m=\u001b[39m \u001b[38;5;28;43mself\u001b[39;49m\u001b[38;5;241;43m.\u001b[39;49m\u001b[43m_get_item_cache\u001b[49m\u001b[43m(\u001b[49m\u001b[43mcol\u001b[49m\u001b[43m)\u001b[49m\n\u001b[1;32m   4006\u001b[0m engine \u001b[38;5;241m=\u001b[39m \u001b[38;5;28mself\u001b[39m\u001b[38;5;241m.\u001b[39mindex\u001b[38;5;241m.\u001b[39m_engine\n\u001b[1;32m   4008\u001b[0m \u001b[38;5;28;01mif\u001b[39;00m \u001b[38;5;129;01mnot\u001b[39;00m \u001b[38;5;28misinstance\u001b[39m(\u001b[38;5;28mself\u001b[39m\u001b[38;5;241m.\u001b[39mindex, MultiIndex):\n\u001b[1;32m   4009\u001b[0m     \u001b[38;5;66;03m# CategoricalIndex: Trying to use the engine fastpath may give incorrect\u001b[39;00m\n\u001b[1;32m   4010\u001b[0m     \u001b[38;5;66;03m#  results if our categories are integers that dont match our codes\u001b[39;00m\n\u001b[1;32m   4011\u001b[0m     \u001b[38;5;66;03m# IntervalIndex: IntervalTree has no get_loc\u001b[39;00m\n",
      "File \u001b[0;32m/opt/conda/lib/python3.11/site-packages/pandas/core/frame.py:4414\u001b[0m, in \u001b[0;36mDataFrame._get_item_cache\u001b[0;34m(self, item)\u001b[0m\n\u001b[1;32m   4409\u001b[0m res \u001b[38;5;241m=\u001b[39m cache\u001b[38;5;241m.\u001b[39mget(item)\n\u001b[1;32m   4410\u001b[0m \u001b[38;5;28;01mif\u001b[39;00m res \u001b[38;5;129;01mis\u001b[39;00m \u001b[38;5;28;01mNone\u001b[39;00m:\n\u001b[1;32m   4411\u001b[0m     \u001b[38;5;66;03m# All places that call _get_item_cache have unique columns,\u001b[39;00m\n\u001b[1;32m   4412\u001b[0m     \u001b[38;5;66;03m#  pending resolution of GH#33047\u001b[39;00m\n\u001b[0;32m-> 4414\u001b[0m     loc \u001b[38;5;241m=\u001b[39m \u001b[38;5;28;43mself\u001b[39;49m\u001b[38;5;241;43m.\u001b[39;49m\u001b[43mcolumns\u001b[49m\u001b[38;5;241;43m.\u001b[39;49m\u001b[43mget_loc\u001b[49m\u001b[43m(\u001b[49m\u001b[43mitem\u001b[49m\u001b[43m)\u001b[49m\n\u001b[1;32m   4415\u001b[0m     res \u001b[38;5;241m=\u001b[39m \u001b[38;5;28mself\u001b[39m\u001b[38;5;241m.\u001b[39m_ixs(loc, axis\u001b[38;5;241m=\u001b[39m\u001b[38;5;241m1\u001b[39m)\n\u001b[1;32m   4417\u001b[0m     cache[item] \u001b[38;5;241m=\u001b[39m res\n",
      "File \u001b[0;32m/opt/conda/lib/python3.11/site-packages/pandas/core/indexes/base.py:3798\u001b[0m, in \u001b[0;36mIndex.get_loc\u001b[0;34m(self, key)\u001b[0m\n\u001b[1;32m   3793\u001b[0m     \u001b[38;5;28;01mif\u001b[39;00m \u001b[38;5;28misinstance\u001b[39m(casted_key, \u001b[38;5;28mslice\u001b[39m) \u001b[38;5;129;01mor\u001b[39;00m (\n\u001b[1;32m   3794\u001b[0m         \u001b[38;5;28misinstance\u001b[39m(casted_key, abc\u001b[38;5;241m.\u001b[39mIterable)\n\u001b[1;32m   3795\u001b[0m         \u001b[38;5;129;01mand\u001b[39;00m \u001b[38;5;28many\u001b[39m(\u001b[38;5;28misinstance\u001b[39m(x, \u001b[38;5;28mslice\u001b[39m) \u001b[38;5;28;01mfor\u001b[39;00m x \u001b[38;5;129;01min\u001b[39;00m casted_key)\n\u001b[1;32m   3796\u001b[0m     ):\n\u001b[1;32m   3797\u001b[0m         \u001b[38;5;28;01mraise\u001b[39;00m InvalidIndexError(key)\n\u001b[0;32m-> 3798\u001b[0m     \u001b[38;5;28;01mraise\u001b[39;00m \u001b[38;5;167;01mKeyError\u001b[39;00m(key) \u001b[38;5;28;01mfrom\u001b[39;00m \u001b[38;5;21;01merr\u001b[39;00m\n\u001b[1;32m   3799\u001b[0m \u001b[38;5;28;01mexcept\u001b[39;00m \u001b[38;5;167;01mTypeError\u001b[39;00m:\n\u001b[1;32m   3800\u001b[0m     \u001b[38;5;66;03m# If we have a listlike key, _check_indexing_error will raise\u001b[39;00m\n\u001b[1;32m   3801\u001b[0m     \u001b[38;5;66;03m#  InvalidIndexError. Otherwise we fall through and re-raise\u001b[39;00m\n\u001b[1;32m   3802\u001b[0m     \u001b[38;5;66;03m#  the TypeError.\u001b[39;00m\n\u001b[1;32m   3803\u001b[0m     \u001b[38;5;28mself\u001b[39m\u001b[38;5;241m.\u001b[39m_check_indexing_error(key)\n",
      "\u001b[0;31mKeyError\u001b[0m: '75%'"
     ]
    }
   ],
   "source": [
    "# PROMPT 7 which columns represent comments? upvotes? What are the thresholds based on the 75% percentile?\n",
    "hot_comments_minimum = art_df.describe().loc[\"75%\", \"data.num_comments\"]\n",
    "pop_comments_minimum = art_df.describe().loc[\"75%\", \"data.ups\"]\n"
   ]
  },
  {
   "cell_type": "code",
   "execution_count": null,
   "metadata": {},
   "outputs": [],
   "source": [
    "# PROMPT 8 Write code to extract the comments_threshold\n"
   ]
  },
  {
   "cell_type": "code",
   "execution_count": null,
   "metadata": {
    "tags": []
   },
   "outputs": [],
   "source": [
    "# PROMPT 9 Write code to extract the upvote_threshold\n"
   ]
  },
  {
   "cell_type": "markdown",
   "metadata": {},
   "source": [
    "### defining the `categorize()` function:\n",
    "\n",
    "Let's review the requirements: \n",
    "\n",
    "- Articles where the number of comments are in the 75% percentile should be categorized as \"Hot\"\n",
    "- Articles where the number of upvotes are in the 75% percentile should be categorized as \"Popular\"\n",
    "- Articles matching both should be categories as \"Fire\"\n",
    "\n",
    "INPUTS (4): \n",
    "\n",
    "    PROMPT 10\n",
    "    \n",
    "OUTPUTS (1):\n",
    "\n",
    "    PROMPT 11"
   ]
  },
  {
   "cell_type": "code",
   "execution_count": null,
   "metadata": {
    "tags": []
   },
   "outputs": [],
   "source": [
    "# PROMPT 12 write function definition\n"
   ]
  },
  {
   "cell_type": "code",
   "execution_count": null,
   "metadata": {
    "tags": []
   },
   "outputs": [],
   "source": [
    "# PROMPT 13a write test for \"Hot\"\n",
    "upvotes = 0\n",
    "upvote_threshold = 0\n",
    "comments = 0\n",
    "comments_threshold = 0\n",
    "expect = \"????\"\n",
    "actual = categorize(upvotes, upvote_threshold, comments, comments_threshold)\n",
    "print(f\"When upvotes={upvotes}/{upvote_threshold}, comments={comments}/{comments_threshold}, EXPECT={expect}, ACTUAL={actual}\")\n",
    "assert expect == actual"
   ]
  },
  {
   "cell_type": "code",
   "execution_count": null,
   "metadata": {
    "tags": []
   },
   "outputs": [],
   "source": [
    "# PROMPT 13b write test for \"Popular\"\n",
    "upvotes = 0\n",
    "upvote_threshold = 0\n",
    "comments = 0\n",
    "comments_threshold = 0\n",
    "expect = \"????\"\n",
    "actual = categorize(upvotes, upvote_threshold, comments, comments_threshold)\n",
    "print(f\"When upvotes={upvotes}/{upvote_threshold}, comments={comments}/{comments_threshold}, EXPECT={expect}, ACTUAL={actual}\")\n",
    "assert expect == actua"
   ]
  },
  {
   "cell_type": "code",
   "execution_count": null,
   "metadata": {
    "tags": []
   },
   "outputs": [],
   "source": [
    "# PROMPT 13c write test for \"Fire\"\n",
    "upvotes = 0\n",
    "upvote_threshold = 0\n",
    "comments = 0\n",
    "comments_threshold = 0\n",
    "expect = \"????\"\n",
    "actual = categorize(upvotes, upvote_threshold, comments, comments_threshold)\n",
    "print(f\"When upvotes={upvotes}/{upvote_threshold}, comments={comments}/{comments_threshold}, EXPECT={expect}, ACTUAL={actual}\")\n",
    "assert expect == actua"
   ]
  },
  {
   "cell_type": "code",
   "execution_count": null,
   "metadata": {
    "tags": []
   },
   "outputs": [],
   "source": [
    "# PROMPT 13d write test for \"\"\n",
    "upvotes = 0\n",
    "upvote_threshold = 0\n",
    "comments = 0\n",
    "comments_threshold = 0\n",
    "expect = \"????\"\n",
    "actual = categorize(upvotes, upvote_threshold, comments, comments_threshold)\n",
    "print(f\"When upvotes={upvotes}/{upvote_threshold}, comments={comments}/{comments_threshold}, EXPECT={expect}, ACTUAL={actual}\")\n",
    "assert expect == actua"
   ]
  },
  {
   "cell_type": "markdown",
   "metadata": {},
   "source": [
    "## Final step. lambda / apply\n",
    "\n",
    "Add a column to the dataframe called `\"category\"` which calculates the category for the article \n",
    "\n",
    "output the article title, the number of comments, number of upvotes and the category"
   ]
  },
  {
   "cell_type": "code",
   "execution_count": null,
   "metadata": {},
   "outputs": [],
   "source": [
    "# PROMPT 14\n"
   ]
  },
  {
   "cell_type": "code",
   "execution_count": null,
   "metadata": {},
   "outputs": [],
   "source": []
  },
  {
   "cell_type": "code",
   "execution_count": null,
   "metadata": {},
   "outputs": [],
   "source": []
  },
  {
   "cell_type": "code",
   "execution_count": null,
   "metadata": {},
   "outputs": [],
   "source": [
    "# run this code to turn in your work!\n",
    "from casstools.assignment import Assignment\n",
    "Assignment().submit()"
   ]
  },
  {
   "cell_type": "code",
   "execution_count": null,
   "metadata": {},
   "outputs": [],
   "source": []
  }
 ],
 "metadata": {
  "anaconda-cloud": {},
  "kernelspec": {
   "display_name": "Python 3 (ipykernel)",
   "language": "python",
   "name": "python3"
  },
  "language_info": {
   "codemirror_mode": {
    "name": "ipython",
    "version": 3
   },
   "file_extension": ".py",
   "mimetype": "text/x-python",
   "name": "python",
   "nbconvert_exporter": "python",
   "pygments_lexer": "ipython3",
   "version": "3.11.7"
  },
  "toc": {
   "base_numbering": 1,
   "nav_menu": {},
   "number_sections": false,
   "sideBar": false,
   "skip_h1_title": false,
   "title_cell": "Table of Contents",
   "title_sidebar": "Contents",
   "toc_cell": false,
   "toc_position": {},
   "toc_section_display": false,
   "toc_window_display": false
  },
  "varInspector": {
   "cols": {
    "lenName": 16,
    "lenType": 16,
    "lenVar": 40
   },
   "kernels_config": {
    "python": {
     "delete_cmd_postfix": "",
     "delete_cmd_prefix": "del ",
     "library": "var_list.py",
     "varRefreshCmd": "print(var_dic_list())"
    },
    "r": {
     "delete_cmd_postfix": ") ",
     "delete_cmd_prefix": "rm(",
     "library": "var_list.r",
     "varRefreshCmd": "cat(var_dic_list()) "
    }
   },
   "types_to_exclude": [
    "module",
    "function",
    "builtin_function_or_method",
    "instance",
    "_Feature"
   ],
   "window_display": false
  }
 },
 "nbformat": 4,
 "nbformat_minor": 4
}
