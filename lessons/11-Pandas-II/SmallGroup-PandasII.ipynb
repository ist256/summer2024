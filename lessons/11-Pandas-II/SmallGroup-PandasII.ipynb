{
 "cells": [
  {
   "cell_type": "markdown",
   "metadata": {},
   "source": [
    "# Now You Code In Class: \n",
    "\n",
    "## Tricks of The Pandas Masters Volume II\n",
    "\n",
    "Once again, we will try something a bit different for our Activity - A series of Pandas coding challenges!\n",
    "\n",
    "Datasets we will use:\n",
    "\n",
    "- Reddit Data: https://raw.githubusercontent.com/mafudge/datasets/master/json-samples/reddit.json\n",
    "- Episodes of the HBO series \"The Wire\": https://raw.githubusercontent.com/mafudge/datasets/master/tv-shows/the-wire.json\n"
   ]
  },
  {
   "cell_type": "code",
   "execution_count": 11,
   "metadata": {
    "tags": []
   },
   "outputs": [],
   "source": [
    "import pandas as pd\n",
    "import warnings\n",
    "\n",
    "pd.set_option('display.max_colwidth', None)\n",
    "warnings.filterwarnings('ignore')"
   ]
  },
  {
   "cell_type": "markdown",
   "metadata": {},
   "source": [
    "## Deserializing json\n",
    "\n",
    "the following function takes a URL as input and returns deserialized json as output.\n"
   ]
  },
  {
   "cell_type": "code",
   "execution_count": 1,
   "metadata": {
    "tags": []
   },
   "outputs": [],
   "source": [
    "def get_json(url: str):\n",
    "    import requests\n",
    "    response = requests.get(url)\n",
    "    response.raise_for_status()\n",
    "    return response.json()\n"
   ]
  },
  {
   "cell_type": "markdown",
   "metadata": {},
   "source": [
    "This example deserializes reddit news and then finds the key where the articles are and displays the first artcle."
   ]
  },
  {
   "cell_type": "code",
   "execution_count": null,
   "metadata": {
    "tags": []
   },
   "outputs": [],
   "source": [
    "reddit = get_json(\"https://raw.githubusercontent.com/mafudge/datasets/master/json-samples/reddit.json\")\n",
    "articles = reddit[\"data\"][\"children\"]\n",
    "articles[0]"
   ]
  },
  {
   "cell_type": "code",
   "execution_count": 2,
   "metadata": {},
   "outputs": [],
   "source": [
    "# PROMPT 1 read in episodes of \"The Wire\" find the episodes key, and show the first episode.\n",
    "the_wire = get_json(\"https://raw.githubusercontent.com/mafudge/datasets/master/tv-shows/the-wire.json\")"
   ]
  },
  {
   "cell_type": "code",
   "execution_count": 31,
   "metadata": {
    "tags": []
   },
   "outputs": [
    {
     "data": {
      "text/plain": [
       "Index(['id', 'url', 'name', 'season', 'number', 'type', 'airdate', 'airtime',\n",
       "       'airstamp', 'runtime', 'summary', 'rating.average', 'image.medium',\n",
       "       'image.original', '_links.self.href'],\n",
       "      dtype='object')"
      ]
     },
     "metadata": {},
     "output_type": "display_data"
    }
   ],
   "source": [
    "#prod about trying to find info about the first episode\n",
    "\n",
    "#the_wire   # I see a dictionary\n",
    "#type (the_wire)\n",
    "#print(the_wire.keys()) #not seeing much. What's in the _embedded key\n",
    "episodes = the_wire['_embedded']['episodes']\n",
    "#print (episodes)\n",
    "\n",
    "#since this is a list, I can turn it into a dataframe using\n",
    "epi_df = pd.DataFrame(episodes)\n",
    "#display (epi_df['rating'])   #notice how ugly the rating key data looks, or the image  so I should use json_normalize to flatten it\n",
    "\n",
    "epi_flat = pd.json_normalize(episodes)   #send it a list!\n",
    "display (epi_flat.keys())"
   ]
  },
  {
   "cell_type": "code",
   "execution_count": 34,
   "metadata": {
    "tags": []
   },
   "outputs": [
    {
     "data": {
      "text/plain": [
       "0     https://static.tvmaze.com/uploads/images/medium_landscape/94/236937.jpg\n",
       "1     https://static.tvmaze.com/uploads/images/medium_landscape/94/236928.jpg\n",
       "2     https://static.tvmaze.com/uploads/images/medium_landscape/94/236930.jpg\n",
       "3      https://static.tvmaze.com/uploads/images/medium_landscape/25/63545.jpg\n",
       "4     https://static.tvmaze.com/uploads/images/medium_landscape/94/236932.jpg\n",
       "5     https://static.tvmaze.com/uploads/images/medium_landscape/94/236933.jpg\n",
       "6     https://static.tvmaze.com/uploads/images/medium_landscape/51/128682.jpg\n",
       "7     https://static.tvmaze.com/uploads/images/medium_landscape/51/129301.jpg\n",
       "8     https://static.tvmaze.com/uploads/images/medium_landscape/51/129304.jpg\n",
       "9     https://static.tvmaze.com/uploads/images/medium_landscape/51/129948.jpg\n",
       "10    https://static.tvmaze.com/uploads/images/medium_landscape/52/131487.jpg\n",
       "11    https://static.tvmaze.com/uploads/images/medium_landscape/52/131495.jpg\n",
       "12    https://static.tvmaze.com/uploads/images/medium_landscape/52/132400.jpg\n",
       "13    https://static.tvmaze.com/uploads/images/medium_landscape/94/236941.jpg\n",
       "14    https://static.tvmaze.com/uploads/images/medium_landscape/94/236942.jpg\n",
       "15    https://static.tvmaze.com/uploads/images/medium_landscape/94/236943.jpg\n",
       "16    https://static.tvmaze.com/uploads/images/medium_landscape/94/236944.jpg\n",
       "17    https://static.tvmaze.com/uploads/images/medium_landscape/94/236945.jpg\n",
       "18    https://static.tvmaze.com/uploads/images/medium_landscape/94/236946.jpg\n",
       "19    https://static.tvmaze.com/uploads/images/medium_landscape/94/236947.jpg\n",
       "20    https://static.tvmaze.com/uploads/images/medium_landscape/94/236948.jpg\n",
       "21    https://static.tvmaze.com/uploads/images/medium_landscape/94/236949.jpg\n",
       "22    https://static.tvmaze.com/uploads/images/medium_landscape/94/236950.jpg\n",
       "23    https://static.tvmaze.com/uploads/images/medium_landscape/94/236951.jpg\n",
       "24    https://static.tvmaze.com/uploads/images/medium_landscape/94/236952.jpg\n",
       "25    https://static.tvmaze.com/uploads/images/medium_landscape/94/236956.jpg\n",
       "26    https://static.tvmaze.com/uploads/images/medium_landscape/94/236957.jpg\n",
       "27    https://static.tvmaze.com/uploads/images/medium_landscape/94/236958.jpg\n",
       "28    https://static.tvmaze.com/uploads/images/medium_landscape/94/236959.jpg\n",
       "29    https://static.tvmaze.com/uploads/images/medium_landscape/94/236960.jpg\n",
       "30    https://static.tvmaze.com/uploads/images/medium_landscape/94/236961.jpg\n",
       "31    https://static.tvmaze.com/uploads/images/medium_landscape/94/236962.jpg\n",
       "32    https://static.tvmaze.com/uploads/images/medium_landscape/94/236963.jpg\n",
       "33    https://static.tvmaze.com/uploads/images/medium_landscape/94/236964.jpg\n",
       "34    https://static.tvmaze.com/uploads/images/medium_landscape/94/236965.jpg\n",
       "35    https://static.tvmaze.com/uploads/images/medium_landscape/94/236966.jpg\n",
       "36    https://static.tvmaze.com/uploads/images/medium_landscape/94/236967.jpg\n",
       "37    https://static.tvmaze.com/uploads/images/medium_landscape/94/236973.jpg\n",
       "38    https://static.tvmaze.com/uploads/images/medium_landscape/94/236974.jpg\n",
       "39    https://static.tvmaze.com/uploads/images/medium_landscape/94/236975.jpg\n",
       "40    https://static.tvmaze.com/uploads/images/medium_landscape/94/236976.jpg\n",
       "41    https://static.tvmaze.com/uploads/images/medium_landscape/94/236977.jpg\n",
       "42    https://static.tvmaze.com/uploads/images/medium_landscape/94/236978.jpg\n",
       "43    https://static.tvmaze.com/uploads/images/medium_landscape/94/236979.jpg\n",
       "44    https://static.tvmaze.com/uploads/images/medium_landscape/94/236980.jpg\n",
       "45    https://static.tvmaze.com/uploads/images/medium_landscape/94/236981.jpg\n",
       "46    https://static.tvmaze.com/uploads/images/medium_landscape/94/236982.jpg\n",
       "47    https://static.tvmaze.com/uploads/images/medium_landscape/94/236983.jpg\n",
       "48    https://static.tvmaze.com/uploads/images/medium_landscape/94/236984.jpg\n",
       "49    https://static.tvmaze.com/uploads/images/medium_landscape/94/236985.jpg\n",
       "50    https://static.tvmaze.com/uploads/images/medium_landscape/94/236986.jpg\n",
       "51    https://static.tvmaze.com/uploads/images/medium_landscape/94/236987.jpg\n",
       "52    https://static.tvmaze.com/uploads/images/medium_landscape/94/236988.jpg\n",
       "53    https://static.tvmaze.com/uploads/images/medium_landscape/94/236989.jpg\n",
       "54    https://static.tvmaze.com/uploads/images/medium_landscape/94/236990.jpg\n",
       "55    https://static.tvmaze.com/uploads/images/medium_landscape/94/236991.jpg\n",
       "56    https://static.tvmaze.com/uploads/images/medium_landscape/94/236992.jpg\n",
       "57    https://static.tvmaze.com/uploads/images/medium_landscape/94/236993.jpg\n",
       "58    https://static.tvmaze.com/uploads/images/medium_landscape/94/236994.jpg\n",
       "59    https://static.tvmaze.com/uploads/images/medium_landscape/94/236995.jpg\n",
       "Name: image.medium, dtype: object"
      ]
     },
     "metadata": {},
     "output_type": "display_data"
    },
    {
     "data": {
      "text/plain": [
       "0     7.8\n",
       "1     8.1\n",
       "2     8.2\n",
       "3     8.5\n",
       "4     8.3\n",
       "5     8.5\n",
       "6     8.6\n",
       "7     8.7\n",
       "8     8.6\n",
       "9     9.0\n",
       "10    9.0\n",
       "11    8.7\n",
       "12    8.9\n",
       "13    7.6\n",
       "14    8.5\n",
       "15    8.4\n",
       "16    8.2\n",
       "17    8.2\n",
       "18    8.6\n",
       "19    8.1\n",
       "20    8.3\n",
       "21    8.5\n",
       "22    9.0\n",
       "23    9.0\n",
       "24    9.1\n",
       "25    8.1\n",
       "26    8.7\n",
       "27    8.6\n",
       "28    8.6\n",
       "29    8.3\n",
       "30    8.6\n",
       "31    8.7\n",
       "32    8.8\n",
       "33    8.7\n",
       "34    8.8\n",
       "35    9.3\n",
       "36    9.0\n",
       "37    8.4\n",
       "38    8.6\n",
       "39    8.6\n",
       "40    8.3\n",
       "41    8.6\n",
       "42    8.8\n",
       "43    8.6\n",
       "44    8.2\n",
       "45    8.7\n",
       "46    8.7\n",
       "47    8.8\n",
       "48    8.8\n",
       "49    8.8\n",
       "50    8.2\n",
       "51    8.2\n",
       "52    8.5\n",
       "53    8.7\n",
       "54    8.4\n",
       "55    8.4\n",
       "56    8.5\n",
       "57    8.6\n",
       "58    8.9\n",
       "59    9.3\n",
       "Name: rating.average, dtype: float64"
      ]
     },
     "metadata": {},
     "output_type": "display_data"
    }
   ],
   "source": [
    "epi_flat.keys()\n",
    "display (epi_flat['image.medium'])\n",
    "display (epi_flat['rating.average'])"
   ]
  },
  {
   "cell_type": "markdown",
   "metadata": {},
   "source": [
    "## Creating dataframe\n",
    "\n",
    "In this example we use`json_normalize()` to display the articles in a dataframe"
   ]
  },
  {
   "cell_type": "code",
   "execution_count": null,
   "metadata": {},
   "outputs": [],
   "source": [
    "art_df = pd.json_normalize(articles) #articles is a list of dict!\n",
    "art_df.head(1)"
   ]
  },
  {
   "cell_type": "code",
   "execution_count": 14,
   "metadata": {},
   "outputs": [
    {
     "data": {
      "text/html": [
       "<div>\n",
       "<style scoped>\n",
       "    .dataframe tbody tr th:only-of-type {\n",
       "        vertical-align: middle;\n",
       "    }\n",
       "\n",
       "    .dataframe tbody tr th {\n",
       "        vertical-align: top;\n",
       "    }\n",
       "\n",
       "    .dataframe thead th {\n",
       "        text-align: right;\n",
       "    }\n",
       "</style>\n",
       "<table border=\"1\" class=\"dataframe\">\n",
       "  <thead>\n",
       "    <tr style=\"text-align: right;\">\n",
       "      <th></th>\n",
       "      <th>id</th>\n",
       "      <th>url</th>\n",
       "      <th>name</th>\n",
       "      <th>season</th>\n",
       "      <th>number</th>\n",
       "      <th>type</th>\n",
       "      <th>airdate</th>\n",
       "      <th>airtime</th>\n",
       "      <th>airstamp</th>\n",
       "      <th>runtime</th>\n",
       "      <th>summary</th>\n",
       "      <th>rating.average</th>\n",
       "      <th>image.medium</th>\n",
       "      <th>image.original</th>\n",
       "      <th>_links.self.href</th>\n",
       "    </tr>\n",
       "  </thead>\n",
       "  <tbody>\n",
       "    <tr>\n",
       "      <th>0</th>\n",
       "      <td>12907</td>\n",
       "      <td>https://www.tvmaze.com/episodes/12907/the-wire-1x01-the-target</td>\n",
       "      <td>The Target</td>\n",
       "      <td>1</td>\n",
       "      <td>1</td>\n",
       "      <td>regular</td>\n",
       "      <td>2002-06-02</td>\n",
       "      <td>21:00</td>\n",
       "      <td>2002-06-03T01:00:00+00:00</td>\n",
       "      <td>60</td>\n",
       "      <td>&lt;p&gt;Homicide detective Jimmy McNulty observes the murder trial of a mid-level drug dealer, D'Angelo Barksdale, and sees the prosecution's star witness recant her testimony. McNulty recognises drug king-pin Stringer Bell in the court room and believes he has manipulated the proceedings, so he circumvents the chain-of-command by talking to the judge, Daniel Phelan, who then places pressure on the police department to investigate the Barksdale drug-dealing organization, which, McNulty claims, has gotten away with ten murders in the last year. D'Angelo is welcomed home by his uncle, Barksdale patriarch, Avon, who is frustrated with him for placing himself in a situation where the police could charge him. Nevertheless, Avon allows him to return to work, but in what D'Angelo sees as a demotion, he is moved to a low-rise housing project known as \"the pit.\" Meanwhile, homeless drug addict Bubbles, acts as mentor to another addict, Johnny Weeks, in an ill-conceived scam with severe consequences.&lt;/p&gt;</td>\n",
       "      <td>7.8</td>\n",
       "      <td>https://static.tvmaze.com/uploads/images/medium_landscape/94/236937.jpg</td>\n",
       "      <td>https://static.tvmaze.com/uploads/images/original_untouched/94/236937.jpg</td>\n",
       "      <td>https://api.tvmaze.com/episodes/12907</td>\n",
       "    </tr>\n",
       "    <tr>\n",
       "      <th>1</th>\n",
       "      <td>12908</td>\n",
       "      <td>https://www.tvmaze.com/episodes/12908/the-wire-1x02-the-detail</td>\n",
       "      <td>The Detail</td>\n",
       "      <td>1</td>\n",
       "      <td>2</td>\n",
       "      <td>regular</td>\n",
       "      <td>2002-06-09</td>\n",
       "      <td>21:00</td>\n",
       "      <td>2002-06-10T01:00:00+00:00</td>\n",
       "      <td>60</td>\n",
       "      <td>&lt;p&gt;The witness who testified against D'Angelo is killed and the Barksdale organization is suspected. In light of Phelan's pressure, a detail is formed to investigate their activity in the towers and the pit. However, the detail's lieutenant, Cedric Daniels, is concerned with the quality of the team assigned by Deputy Ops. Ervin Burrell, while McNulty is concerned with the department's plan for the investigation, believing the approach of \"buy busts\" won't get them anywhere near the high-ranking members of the organization. The operation begins with Daniels' protégé Kima Greggs using Bubbles to identify who's who on the street. Meanwhile, McNulty and his partner, Bunk, try an unusual interrogation approach with D'Angelo, while Burrell tries to keep the death of the witness out of the press. Later, Daniels' suspicions about his team prove correct when an unauthorized late night foray into the towers by Herc, Carver and Prez goes awry.&lt;/p&gt;</td>\n",
       "      <td>8.1</td>\n",
       "      <td>https://static.tvmaze.com/uploads/images/medium_landscape/94/236928.jpg</td>\n",
       "      <td>https://static.tvmaze.com/uploads/images/original_untouched/94/236928.jpg</td>\n",
       "      <td>https://api.tvmaze.com/episodes/12908</td>\n",
       "    </tr>\n",
       "    <tr>\n",
       "      <th>2</th>\n",
       "      <td>12909</td>\n",
       "      <td>https://www.tvmaze.com/episodes/12909/the-wire-1x03-the-buys</td>\n",
       "      <td>The Buys</td>\n",
       "      <td>1</td>\n",
       "      <td>3</td>\n",
       "      <td>regular</td>\n",
       "      <td>2002-06-16</td>\n",
       "      <td>21:00</td>\n",
       "      <td>2002-06-17T01:00:00+00:00</td>\n",
       "      <td>60</td>\n",
       "      <td>&lt;p&gt;\"The king stay the king.\" - D'AngeloAfter early morning \"field interviews\" conducted by Herc, Carver and Prez lead to a minor riot and bad publicity for the police, Daniels gets called in by the Deputy Commissioner. McNulty sends Mahone and Polk to the terrace to get a photo of Avon Barksdale. They come up short but soft- spoken Freamon comes through with an old photo from Barksdale's boxing days. McNulty and Greggs visit FBI agent Fitzhugh to try and obtain some surveillance equipment. D'Angelo delivers the daily count to Stringer Bell who in turn, gives D'Angelo a bonus. Later, while Bodie and D'Angelo wait for the new supply to arrive, D'Angelo offers to get food. While he's gone Bodie, Stinkum and the crew go to retrieve the new supply only renegade dealer Omar and his crew get there and steal the drugs for themselves. The next day D'Angelo gets chewed out by Wee Bey -- a Barksdale enforcer -- for not being around when the incident happened. After getting chided by his superiors, Lieutenant Daniels mobilizes the team to raid \"The Pit\". Bodie hits one of the detectives while getting arrested and the rest of the officers proceed to beat Bodie. McNulty secretly meets with agent Fitzhugh who tells him to watch out for Lieutenant Daniels -- who might be on the take.&lt;/p&gt;</td>\n",
       "      <td>8.2</td>\n",
       "      <td>https://static.tvmaze.com/uploads/images/medium_landscape/94/236930.jpg</td>\n",
       "      <td>https://static.tvmaze.com/uploads/images/original_untouched/94/236930.jpg</td>\n",
       "      <td>https://api.tvmaze.com/episodes/12909</td>\n",
       "    </tr>\n",
       "    <tr>\n",
       "      <th>3</th>\n",
       "      <td>12910</td>\n",
       "      <td>https://www.tvmaze.com/episodes/12910/the-wire-1x04-old-cases</td>\n",
       "      <td>Old Cases</td>\n",
       "      <td>1</td>\n",
       "      <td>4</td>\n",
       "      <td>regular</td>\n",
       "      <td>2002-06-23</td>\n",
       "      <td>21:00</td>\n",
       "      <td>2002-06-24T01:00:00+00:00</td>\n",
       "      <td>60</td>\n",
       "      <td>&lt;p&gt;Bodie wakes up from his injuries in a Washington, D.C. juvenile detention center and manages to escape just before Herc and Carver arrive to interrogate him. Avon discusses the loss of the pit's stash with his enforcers and marks Omar and his crew for death. McNulty and his partner from homicide Bunk Moreland investigate an old murder that may be related to D'Angelo.&lt;/p&gt;</td>\n",
       "      <td>8.5</td>\n",
       "      <td>https://static.tvmaze.com/uploads/images/medium_landscape/25/63545.jpg</td>\n",
       "      <td>https://static.tvmaze.com/uploads/images/original_untouched/25/63545.jpg</td>\n",
       "      <td>https://api.tvmaze.com/episodes/12910</td>\n",
       "    </tr>\n",
       "    <tr>\n",
       "      <th>4</th>\n",
       "      <td>12911</td>\n",
       "      <td>https://www.tvmaze.com/episodes/12911/the-wire-1x05-the-pager</td>\n",
       "      <td>The Pager</td>\n",
       "      <td>1</td>\n",
       "      <td>5</td>\n",
       "      <td>regular</td>\n",
       "      <td>2002-06-30</td>\n",
       "      <td>21:00</td>\n",
       "      <td>2002-07-01T01:00:00+00:00</td>\n",
       "      <td>60</td>\n",
       "      <td>&lt;p&gt;Avon Barksdale Avon becomes more and more suspicious, he orders Wee-Bey to change phone lines in his apartment and promotes Stinkum to manage a new territory. He gets word that one of Omar's crew members has been \"got\". Stringer Bell warns D'Angelo that a snitch may be in his camp. The detectives get their affidavit approved for a cloned pager but they are puzzled when the numbers they receive are not regular Baltimore phone numbers.. Herc and Carver catch up with Bodie and attempt to interrogate him.&lt;/p&gt;</td>\n",
       "      <td>8.3</td>\n",
       "      <td>https://static.tvmaze.com/uploads/images/medium_landscape/94/236932.jpg</td>\n",
       "      <td>https://static.tvmaze.com/uploads/images/original_untouched/94/236932.jpg</td>\n",
       "      <td>https://api.tvmaze.com/episodes/12911</td>\n",
       "    </tr>\n",
       "  </tbody>\n",
       "</table>\n",
       "</div>"
      ],
      "text/plain": [
       "      id                                                             url  \\\n",
       "0  12907  https://www.tvmaze.com/episodes/12907/the-wire-1x01-the-target   \n",
       "1  12908  https://www.tvmaze.com/episodes/12908/the-wire-1x02-the-detail   \n",
       "2  12909    https://www.tvmaze.com/episodes/12909/the-wire-1x03-the-buys   \n",
       "3  12910   https://www.tvmaze.com/episodes/12910/the-wire-1x04-old-cases   \n",
       "4  12911   https://www.tvmaze.com/episodes/12911/the-wire-1x05-the-pager   \n",
       "\n",
       "         name  season  number     type     airdate airtime  \\\n",
       "0  The Target       1       1  regular  2002-06-02   21:00   \n",
       "1  The Detail       1       2  regular  2002-06-09   21:00   \n",
       "2    The Buys       1       3  regular  2002-06-16   21:00   \n",
       "3   Old Cases       1       4  regular  2002-06-23   21:00   \n",
       "4   The Pager       1       5  regular  2002-06-30   21:00   \n",
       "\n",
       "                    airstamp  runtime  \\\n",
       "0  2002-06-03T01:00:00+00:00       60   \n",
       "1  2002-06-10T01:00:00+00:00       60   \n",
       "2  2002-06-17T01:00:00+00:00       60   \n",
       "3  2002-06-24T01:00:00+00:00       60   \n",
       "4  2002-07-01T01:00:00+00:00       60   \n",
       "\n",
       "                                                                                                                                                                                                                                                                                                                                                                                                                                                                                                                                                                                                                                                                                                                                                                                                                                                                                                                                                                                                                                                                                                                                                                                                                                                                                                                                        summary  \\\n",
       "0                                                                                                                                                                                                                                                                                                  <p>Homicide detective Jimmy McNulty observes the murder trial of a mid-level drug dealer, D'Angelo Barksdale, and sees the prosecution's star witness recant her testimony. McNulty recognises drug king-pin Stringer Bell in the court room and believes he has manipulated the proceedings, so he circumvents the chain-of-command by talking to the judge, Daniel Phelan, who then places pressure on the police department to investigate the Barksdale drug-dealing organization, which, McNulty claims, has gotten away with ten murders in the last year. D'Angelo is welcomed home by his uncle, Barksdale patriarch, Avon, who is frustrated with him for placing himself in a situation where the police could charge him. Nevertheless, Avon allows him to return to work, but in what D'Angelo sees as a demotion, he is moved to a low-rise housing project known as \"the pit.\" Meanwhile, homeless drug addict Bubbles, acts as mentor to another addict, Johnny Weeks, in an ill-conceived scam with severe consequences.</p>   \n",
       "1                                                                                                                                                                                                                                                                                                                                                        <p>The witness who testified against D'Angelo is killed and the Barksdale organization is suspected. In light of Phelan's pressure, a detail is formed to investigate their activity in the towers and the pit. However, the detail's lieutenant, Cedric Daniels, is concerned with the quality of the team assigned by Deputy Ops. Ervin Burrell, while McNulty is concerned with the department's plan for the investigation, believing the approach of \"buy busts\" won't get them anywhere near the high-ranking members of the organization. The operation begins with Daniels' protégé Kima Greggs using Bubbles to identify who's who on the street. Meanwhile, McNulty and his partner, Bunk, try an unusual interrogation approach with D'Angelo, while Burrell tries to keep the death of the witness out of the press. Later, Daniels' suspicions about his team prove correct when an unauthorized late night foray into the towers by Herc, Carver and Prez goes awry.</p>   \n",
       "2  <p>\"The king stay the king.\" - D'AngeloAfter early morning \"field interviews\" conducted by Herc, Carver and Prez lead to a minor riot and bad publicity for the police, Daniels gets called in by the Deputy Commissioner. McNulty sends Mahone and Polk to the terrace to get a photo of Avon Barksdale. They come up short but soft- spoken Freamon comes through with an old photo from Barksdale's boxing days. McNulty and Greggs visit FBI agent Fitzhugh to try and obtain some surveillance equipment. D'Angelo delivers the daily count to Stringer Bell who in turn, gives D'Angelo a bonus. Later, while Bodie and D'Angelo wait for the new supply to arrive, D'Angelo offers to get food. While he's gone Bodie, Stinkum and the crew go to retrieve the new supply only renegade dealer Omar and his crew get there and steal the drugs for themselves. The next day D'Angelo gets chewed out by Wee Bey -- a Barksdale enforcer -- for not being around when the incident happened. After getting chided by his superiors, Lieutenant Daniels mobilizes the team to raid \"The Pit\". Bodie hits one of the detectives while getting arrested and the rest of the officers proceed to beat Bodie. McNulty secretly meets with agent Fitzhugh who tells him to watch out for Lieutenant Daniels -- who might be on the take.</p>   \n",
       "3                                                                                                                                                                                                                                                                                                                                                                                                                                                                                                                                                                                                                                                                                                                                                                                                                                                                                                                                                      <p>Bodie wakes up from his injuries in a Washington, D.C. juvenile detention center and manages to escape just before Herc and Carver arrive to interrogate him. Avon discusses the loss of the pit's stash with his enforcers and marks Omar and his crew for death. McNulty and his partner from homicide Bunk Moreland investigate an old murder that may be related to D'Angelo.</p>   \n",
       "4                                                                                                                                                                                                                                                                                                                                                                                                                                                                                                                                                                                                                                                                                                                                                                                                             <p>Avon Barksdale Avon becomes more and more suspicious, he orders Wee-Bey to change phone lines in his apartment and promotes Stinkum to manage a new territory. He gets word that one of Omar's crew members has been \"got\". Stringer Bell warns D'Angelo that a snitch may be in his camp. The detectives get their affidavit approved for a cloned pager but they are puzzled when the numbers they receive are not regular Baltimore phone numbers.. Herc and Carver catch up with Bodie and attempt to interrogate him.</p>   \n",
       "\n",
       "   rating.average  \\\n",
       "0             7.8   \n",
       "1             8.1   \n",
       "2             8.2   \n",
       "3             8.5   \n",
       "4             8.3   \n",
       "\n",
       "                                                              image.medium  \\\n",
       "0  https://static.tvmaze.com/uploads/images/medium_landscape/94/236937.jpg   \n",
       "1  https://static.tvmaze.com/uploads/images/medium_landscape/94/236928.jpg   \n",
       "2  https://static.tvmaze.com/uploads/images/medium_landscape/94/236930.jpg   \n",
       "3   https://static.tvmaze.com/uploads/images/medium_landscape/25/63545.jpg   \n",
       "4  https://static.tvmaze.com/uploads/images/medium_landscape/94/236932.jpg   \n",
       "\n",
       "                                                              image.original  \\\n",
       "0  https://static.tvmaze.com/uploads/images/original_untouched/94/236937.jpg   \n",
       "1  https://static.tvmaze.com/uploads/images/original_untouched/94/236928.jpg   \n",
       "2  https://static.tvmaze.com/uploads/images/original_untouched/94/236930.jpg   \n",
       "3   https://static.tvmaze.com/uploads/images/original_untouched/25/63545.jpg   \n",
       "4  https://static.tvmaze.com/uploads/images/original_untouched/94/236932.jpg   \n",
       "\n",
       "                        _links.self.href  \n",
       "0  https://api.tvmaze.com/episodes/12907  \n",
       "1  https://api.tvmaze.com/episodes/12908  \n",
       "2  https://api.tvmaze.com/episodes/12909  \n",
       "3  https://api.tvmaze.com/episodes/12910  \n",
       "4  https://api.tvmaze.com/episodes/12911  "
      ]
     },
     "execution_count": 14,
     "metadata": {},
     "output_type": "execute_result"
    }
   ],
   "source": [
    "# PROMPT 2 display the episodes as a dataframe\n",
    "eps_df = pd.json_normalize(episodes)\n",
    "eps_df.head()"
   ]
  },
  {
   "cell_type": "markdown",
   "metadata": {},
   "source": [
    "## A Text Sentiment Web Service\n",
    "\n",
    "The following function uses the http://text-processing.com service to calculate the sentiment for any input text. The result is a dict with probabilities and overall sentiment. For example:\n",
    "\n",
    "INPUT: `\"very nice\"`\n",
    "\n",
    "OUTPUT: \n",
    "```\n",
    "{\n",
    "    'probability': {\n",
    "        'neg': 0.28997418956645504,\n",
    "        'neutral': 0.13591527211268692,\n",
    "        'pos': 0.710025810433545\n",
    "    },\n",
    "    'label': 'pos'\n",
    "}\n"
   ]
  },
  {
   "cell_type": "code",
   "execution_count": 35,
   "metadata": {
    "tags": []
   },
   "outputs": [
    {
     "data": {
      "text/plain": [
       "{'probability': {'neg': 0.28997418956645504,\n",
       "  'neutral': 0.13591527211268692,\n",
       "  'pos': 0.710025810433545},\n",
       " 'label': 'pos'}"
      ]
     },
     "execution_count": 35,
     "metadata": {},
     "output_type": "execute_result"
    }
   ],
   "source": [
    "def get_text_sentiment(text: str) -> dict:\n",
    "    import requests\n",
    "    response = requests.post(\n",
    "        \"http://text-processing.com/api/sentiment/\", \n",
    "        data={\"text\": text},\n",
    "        headers={\"User-Agent\": \"Mozillia/5.0\"}\n",
    "    )\n",
    "    response.raise_for_status()\n",
    "    return response.json()\n",
    "\n",
    "\n",
    "sentiment = get_text_sentiment(\"very nice\")\n",
    "sentiment"
   ]
  },
  {
   "cell_type": "code",
   "execution_count": 36,
   "metadata": {
    "tags": []
   },
   "outputs": [],
   "source": [
    "# PROMPT 3: get the sentiment of the text below and print the label only\n",
    "text = \"The layover for my flight was very long and it was cold on the plane and I had a stomach ache\"\n"
   ]
  },
  {
   "cell_type": "markdown",
   "metadata": {},
   "source": [
    "## Using a lambda with `apply()`\n",
    "\n",
    "The following example creates a new Series in the dataframe called `\"title_sentiment\"` which calculates the sentiment of the reddit news title."
   ]
  },
  {
   "cell_type": "code",
   "execution_count": null,
   "metadata": {},
   "outputs": [],
   "source": [
    "art_df[\"title_sentiment\"] = art_df.apply(lambda row: get_text_sentiment(row[\"data.title\"]), axis=1)\n",
    "art_df[[\"data.title\", \"title_sentiment\"]].head()"
   ]
  },
  {
   "cell_type": "code",
   "execution_count": 40,
   "metadata": {
    "tags": []
   },
   "outputs": [],
   "source": [
    "# PROMPT 4 get the sentiment for the summary Series in the episodes dataframe, name the column \"summary_sentiment\" and show the summary and the sentiment\n",
    "epi_flat[\"summary_sentiment\"] = epi_flat.apply(lambda row: get_text_sentiment(row[\"summary\"]), axis=1)"
   ]
  },
  {
   "cell_type": "code",
   "execution_count": 44,
   "metadata": {
    "tags": []
   },
   "outputs": [
    {
     "data": {
      "text/html": [
       "<div>\n",
       "<style scoped>\n",
       "    .dataframe tbody tr th:only-of-type {\n",
       "        vertical-align: middle;\n",
       "    }\n",
       "\n",
       "    .dataframe tbody tr th {\n",
       "        vertical-align: top;\n",
       "    }\n",
       "\n",
       "    .dataframe thead th {\n",
       "        text-align: right;\n",
       "    }\n",
       "</style>\n",
       "<table border=\"1\" class=\"dataframe\">\n",
       "  <thead>\n",
       "    <tr style=\"text-align: right;\">\n",
       "      <th></th>\n",
       "      <th>summary</th>\n",
       "      <th>summary_sentiment</th>\n",
       "    </tr>\n",
       "  </thead>\n",
       "  <tbody>\n",
       "    <tr>\n",
       "      <th>0</th>\n",
       "      <td>&lt;p&gt;Homicide detective Jimmy McNulty observes the murder trial of a mid-level drug dealer, D'Angelo Barksdale, and sees the prosecution's star witness recant her testimony. McNulty recognises drug king-pin Stringer Bell in the court room and believes he has manipulated the proceedings, so he circumvents the chain-of-command by talking to the judge, Daniel Phelan, who then places pressure on the police department to investigate the Barksdale drug-dealing organization, which, McNulty claims, has gotten away with ten murders in the last year. D'Angelo is welcomed home by his uncle, Barksdale patriarch, Avon, who is frustrated with him for placing himself in a situation where the police could charge him. Nevertheless, Avon allows him to return to work, but in what D'Angelo sees as a demotion, he is moved to a low-rise housing project known as \"the pit.\" Meanwhile, homeless drug addict Bubbles, acts as mentor to another addict, Johnny Weeks, in an ill-conceived scam with severe consequences.&lt;/p&gt;</td>\n",
       "      <td>{'probability': {'neg': 0.6521796057479201, 'neutral': 0.970370370369256, 'pos': 0.3478203942520799}, 'label': 'neutral'}</td>\n",
       "    </tr>\n",
       "    <tr>\n",
       "      <th>1</th>\n",
       "      <td>&lt;p&gt;The witness who testified against D'Angelo is killed and the Barksdale organization is suspected. In light of Phelan's pressure, a detail is formed to investigate their activity in the towers and the pit. However, the detail's lieutenant, Cedric Daniels, is concerned with the quality of the team assigned by Deputy Ops. Ervin Burrell, while McNulty is concerned with the department's plan for the investigation, believing the approach of \"buy busts\" won't get them anywhere near the high-ranking members of the organization. The operation begins with Daniels' protégé Kima Greggs using Bubbles to identify who's who on the street. Meanwhile, McNulty and his partner, Bunk, try an unusual interrogation approach with D'Angelo, while Burrell tries to keep the death of the witness out of the press. Later, Daniels' suspicions about his team prove correct when an unauthorized late night foray into the towers by Herc, Carver and Prez goes awry.&lt;/p&gt;</td>\n",
       "      <td>{'probability': {'neg': 0.43127151410937914, 'neutral': 0.8428571425589707, 'pos': 0.5687284858906209}, 'label': 'neutral'}</td>\n",
       "    </tr>\n",
       "    <tr>\n",
       "      <th>2</th>\n",
       "      <td>&lt;p&gt;\"The king stay the king.\" - D'AngeloAfter early morning \"field interviews\" conducted by Herc, Carver and Prez lead to a minor riot and bad publicity for the police, Daniels gets called in by the Deputy Commissioner. McNulty sends Mahone and Polk to the terrace to get a photo of Avon Barksdale. They come up short but soft- spoken Freamon comes through with an old photo from Barksdale's boxing days. McNulty and Greggs visit FBI agent Fitzhugh to try and obtain some surveillance equipment. D'Angelo delivers the daily count to Stringer Bell who in turn, gives D'Angelo a bonus. Later, while Bodie and D'Angelo wait for the new supply to arrive, D'Angelo offers to get food. While he's gone Bodie, Stinkum and the crew go to retrieve the new supply only renegade dealer Omar and his crew get there and steal the drugs for themselves. The next day D'Angelo gets chewed out by Wee Bey -- a Barksdale enforcer -- for not being around when the incident happened. After getting chided by his superiors, Lieutenant Daniels mobilizes the team to raid \"The Pit\". Bodie hits one of the detectives while getting arrested and the rest of the officers proceed to beat Bodie. McNulty secretly meets with agent Fitzhugh who tells him to watch out for Lieutenant Daniels -- who might be on the take.&lt;/p&gt;</td>\n",
       "      <td>{'probability': {'neg': 0.34215315024964066, 'neutral': 0.8993395493342561, 'pos': 0.6578468497503593}, 'label': 'neutral'}</td>\n",
       "    </tr>\n",
       "    <tr>\n",
       "      <th>3</th>\n",
       "      <td>&lt;p&gt;Bodie wakes up from his injuries in a Washington, D.C. juvenile detention center and manages to escape just before Herc and Carver arrive to interrogate him. Avon discusses the loss of the pit's stash with his enforcers and marks Omar and his crew for death. McNulty and his partner from homicide Bunk Moreland investigate an old murder that may be related to D'Angelo.&lt;/p&gt;</td>\n",
       "      <td>{'probability': {'neg': 0.29245656830731215, 'neutral': 0.9203188292710985, 'pos': 0.7075434316926879}, 'label': 'neutral'}</td>\n",
       "    </tr>\n",
       "    <tr>\n",
       "      <th>4</th>\n",
       "      <td>&lt;p&gt;Avon Barksdale Avon becomes more and more suspicious, he orders Wee-Bey to change phone lines in his apartment and promotes Stinkum to manage a new territory. He gets word that one of Omar's crew members has been \"got\". Stringer Bell warns D'Angelo that a snitch may be in his camp. The detectives get their affidavit approved for a cloned pager but they are puzzled when the numbers they receive are not regular Baltimore phone numbers.. Herc and Carver catch up with Bodie and attempt to interrogate him.&lt;/p&gt;</td>\n",
       "      <td>{'probability': {'neg': 0.4279252253802224, 'neutral': 0.8723762314147997, 'pos': 0.5720747746197776}, 'label': 'neutral'}</td>\n",
       "    </tr>\n",
       "  </tbody>\n",
       "</table>\n",
       "</div>"
      ],
      "text/plain": [
       "                                                                                                                                                                                                                                                                                                                                                                                                                                                                                                                                                                                                                                                                                                                                                                                                                                                                                                                                                                                                                                                                                                                                                                                                                                                                                                                                        summary  \\\n",
       "0                                                                                                                                                                                                                                                                                                  <p>Homicide detective Jimmy McNulty observes the murder trial of a mid-level drug dealer, D'Angelo Barksdale, and sees the prosecution's star witness recant her testimony. McNulty recognises drug king-pin Stringer Bell in the court room and believes he has manipulated the proceedings, so he circumvents the chain-of-command by talking to the judge, Daniel Phelan, who then places pressure on the police department to investigate the Barksdale drug-dealing organization, which, McNulty claims, has gotten away with ten murders in the last year. D'Angelo is welcomed home by his uncle, Barksdale patriarch, Avon, who is frustrated with him for placing himself in a situation where the police could charge him. Nevertheless, Avon allows him to return to work, but in what D'Angelo sees as a demotion, he is moved to a low-rise housing project known as \"the pit.\" Meanwhile, homeless drug addict Bubbles, acts as mentor to another addict, Johnny Weeks, in an ill-conceived scam with severe consequences.</p>   \n",
       "1                                                                                                                                                                                                                                                                                                                                                        <p>The witness who testified against D'Angelo is killed and the Barksdale organization is suspected. In light of Phelan's pressure, a detail is formed to investigate their activity in the towers and the pit. However, the detail's lieutenant, Cedric Daniels, is concerned with the quality of the team assigned by Deputy Ops. Ervin Burrell, while McNulty is concerned with the department's plan for the investigation, believing the approach of \"buy busts\" won't get them anywhere near the high-ranking members of the organization. The operation begins with Daniels' protégé Kima Greggs using Bubbles to identify who's who on the street. Meanwhile, McNulty and his partner, Bunk, try an unusual interrogation approach with D'Angelo, while Burrell tries to keep the death of the witness out of the press. Later, Daniels' suspicions about his team prove correct when an unauthorized late night foray into the towers by Herc, Carver and Prez goes awry.</p>   \n",
       "2  <p>\"The king stay the king.\" - D'AngeloAfter early morning \"field interviews\" conducted by Herc, Carver and Prez lead to a minor riot and bad publicity for the police, Daniels gets called in by the Deputy Commissioner. McNulty sends Mahone and Polk to the terrace to get a photo of Avon Barksdale. They come up short but soft- spoken Freamon comes through with an old photo from Barksdale's boxing days. McNulty and Greggs visit FBI agent Fitzhugh to try and obtain some surveillance equipment. D'Angelo delivers the daily count to Stringer Bell who in turn, gives D'Angelo a bonus. Later, while Bodie and D'Angelo wait for the new supply to arrive, D'Angelo offers to get food. While he's gone Bodie, Stinkum and the crew go to retrieve the new supply only renegade dealer Omar and his crew get there and steal the drugs for themselves. The next day D'Angelo gets chewed out by Wee Bey -- a Barksdale enforcer -- for not being around when the incident happened. After getting chided by his superiors, Lieutenant Daniels mobilizes the team to raid \"The Pit\". Bodie hits one of the detectives while getting arrested and the rest of the officers proceed to beat Bodie. McNulty secretly meets with agent Fitzhugh who tells him to watch out for Lieutenant Daniels -- who might be on the take.</p>   \n",
       "3                                                                                                                                                                                                                                                                                                                                                                                                                                                                                                                                                                                                                                                                                                                                                                                                                                                                                                                                                      <p>Bodie wakes up from his injuries in a Washington, D.C. juvenile detention center and manages to escape just before Herc and Carver arrive to interrogate him. Avon discusses the loss of the pit's stash with his enforcers and marks Omar and his crew for death. McNulty and his partner from homicide Bunk Moreland investigate an old murder that may be related to D'Angelo.</p>   \n",
       "4                                                                                                                                                                                                                                                                                                                                                                                                                                                                                                                                                                                                                                                                                                                                                                                                             <p>Avon Barksdale Avon becomes more and more suspicious, he orders Wee-Bey to change phone lines in his apartment and promotes Stinkum to manage a new territory. He gets word that one of Omar's crew members has been \"got\". Stringer Bell warns D'Angelo that a snitch may be in his camp. The detectives get their affidavit approved for a cloned pager but they are puzzled when the numbers they receive are not regular Baltimore phone numbers.. Herc and Carver catch up with Bodie and attempt to interrogate him.</p>   \n",
       "\n",
       "                                                                                                             summary_sentiment  \n",
       "0    {'probability': {'neg': 0.6521796057479201, 'neutral': 0.970370370369256, 'pos': 0.3478203942520799}, 'label': 'neutral'}  \n",
       "1  {'probability': {'neg': 0.43127151410937914, 'neutral': 0.8428571425589707, 'pos': 0.5687284858906209}, 'label': 'neutral'}  \n",
       "2  {'probability': {'neg': 0.34215315024964066, 'neutral': 0.8993395493342561, 'pos': 0.6578468497503593}, 'label': 'neutral'}  \n",
       "3  {'probability': {'neg': 0.29245656830731215, 'neutral': 0.9203188292710985, 'pos': 0.7075434316926879}, 'label': 'neutral'}  \n",
       "4   {'probability': {'neg': 0.4279252253802224, 'neutral': 0.8723762314147997, 'pos': 0.5720747746197776}, 'label': 'neutral'}  "
      ]
     },
     "execution_count": 44,
     "metadata": {},
     "output_type": "execute_result"
    }
   ],
   "source": [
    "epi_flat[['summary', \"summary_sentiment\"]].head()"
   ]
  },
  {
   "cell_type": "markdown",
   "metadata": {
    "tags": []
   },
   "source": [
    "## Saving the dataframe \n",
    "\n",
    "Calculating the sentiment isn't free and we don't need to do it more than once. Its a good idea to save the content of our dataframe at this point.  That way we can continue from the saved file versus re-calculating the transformation.\n",
    "\n",
    "After you run this code open the `reddit_news_articles.csv` file and check it out!"
   ]
  },
  {
   "cell_type": "code",
   "execution_count": null,
   "metadata": {
    "tags": []
   },
   "outputs": [],
   "source": [
    "art_df.to_csv(\"reddit_news_articles.csv\", index=False)"
   ]
  },
  {
   "cell_type": "code",
   "execution_count": 45,
   "metadata": {
    "tags": []
   },
   "outputs": [],
   "source": [
    "# PROMPT 5 save your episodes of the wire to \"the_wire_episodes.csv\"\n",
    "epi_flat.to_csv(\"the_wire_episodes.csv\")"
   ]
  },
  {
   "cell_type": "markdown",
   "metadata": {
    "slideshow": {
     "slide_type": "slide"
    }
   },
   "source": [
    "## Hot and Top articles.\n",
    "\n",
    "You have been hired as a data scientist at Reddit. Through your extensive statistical research, you have determined: \n",
    "\n",
    "- Articles where the number of comments are in the 75% percentile should be categorized as `\"Hot\"`\n",
    "- Articles where the number of upvotes are in the 75% percentile should be categorized as `\"Popular\"`\n",
    "- Articles matching both should be categories as `\"Fire\"`\n",
    "\n",
    "In these next challenges, we will write code to implement these rules.\n"
   ]
  },
  {
   "cell_type": "code",
   "execution_count": 46,
   "metadata": {
    "tags": []
   },
   "outputs": [
    {
     "ename": "NameError",
     "evalue": "name 'art_df' is not defined",
     "output_type": "error",
     "traceback": [
      "\u001b[0;31m---------------------------------------------------------------------------\u001b[0m",
      "\u001b[0;31mNameError\u001b[0m                                 Traceback (most recent call last)",
      "Cell \u001b[0;32mIn[46], line 2\u001b[0m\n\u001b[1;32m      1\u001b[0m \u001b[38;5;66;03m# PROMPT 6 write code to show the statistics of the numerical columns in the `art_df`\u001b[39;00m\n\u001b[0;32m----> 2\u001b[0m \u001b[43mart_df\u001b[49m\u001b[38;5;241m.\u001b[39mdescribe()\n",
      "\u001b[0;31mNameError\u001b[0m: name 'art_df' is not defined"
     ]
    }
   ],
   "source": [
    "# PROMPT 6 write code to show the statistics of the numerical columns in the `art_df`\n",
    "art_df.describe()"
   ]
  },
  {
   "cell_type": "code",
   "execution_count": null,
   "metadata": {},
   "outputs": [],
   "source": [
    "# PROMPT 7 which columns represent comments? upvotes? What are the thresholds based on the 75% percentile?\n",
    "hot_comments_minimum = art_df.describe().loc[\"75%\", \"data.num_comments\"]\n",
    "pop_comments_minimum = art_df.describe().loc[\"75%\", \"data.ups\"]\n"
   ]
  },
  {
   "cell_type": "code",
   "execution_count": null,
   "metadata": {},
   "outputs": [],
   "source": [
    "# PROMPT 8 Write code to extract the comments_threshold\n"
   ]
  },
  {
   "cell_type": "code",
   "execution_count": null,
   "metadata": {
    "tags": []
   },
   "outputs": [],
   "source": [
    "# PROMPT 9 Write code to extract the upvote_threshold\n"
   ]
  },
  {
   "cell_type": "markdown",
   "metadata": {},
   "source": [
    "### defining the `categorize()` function:\n",
    "\n",
    "Let's review the requirements: \n",
    "\n",
    "- Articles where the number of comments are in the 75% percentile should be categorized as \"Hot\"\n",
    "- Articles where the number of upvotes are in the 75% percentile should be categorized as \"Popular\"\n",
    "- Articles matching both should be categories as \"Fire\"\n",
    "\n",
    "INPUTS (4): \n",
    "\n",
    "    PROMPT 10\n",
    "    \n",
    "OUTPUTS (1):\n",
    "\n",
    "    PROMPT 11"
   ]
  },
  {
   "cell_type": "code",
   "execution_count": null,
   "metadata": {
    "tags": []
   },
   "outputs": [],
   "source": [
    "# PROMPT 12 write function definition\n"
   ]
  },
  {
   "cell_type": "code",
   "execution_count": null,
   "metadata": {
    "tags": []
   },
   "outputs": [],
   "source": [
    "# PROMPT 13a write test for \"Hot\"\n",
    "upvotes = 0\n",
    "upvote_threshold = 0\n",
    "comments = 0\n",
    "comments_threshold = 0\n",
    "expect = \"????\"\n",
    "actual = categorize(upvotes, upvote_threshold, comments, comments_threshold)\n",
    "print(f\"When upvotes={upvotes}/{upvote_threshold}, comments={comments}/{comments_threshold}, EXPECT={expect}, ACTUAL={actual}\")\n",
    "assert expect == actual"
   ]
  },
  {
   "cell_type": "code",
   "execution_count": null,
   "metadata": {
    "tags": []
   },
   "outputs": [],
   "source": [
    "# PROMPT 13b write test for \"Popular\"\n",
    "upvotes = 0\n",
    "upvote_threshold = 0\n",
    "comments = 0\n",
    "comments_threshold = 0\n",
    "expect = \"????\"\n",
    "actual = categorize(upvotes, upvote_threshold, comments, comments_threshold)\n",
    "print(f\"When upvotes={upvotes}/{upvote_threshold}, comments={comments}/{comments_threshold}, EXPECT={expect}, ACTUAL={actual}\")\n",
    "assert expect == actua"
   ]
  },
  {
   "cell_type": "code",
   "execution_count": null,
   "metadata": {
    "tags": []
   },
   "outputs": [],
   "source": [
    "# PROMPT 13c write test for \"Fire\"\n",
    "upvotes = 0\n",
    "upvote_threshold = 0\n",
    "comments = 0\n",
    "comments_threshold = 0\n",
    "expect = \"????\"\n",
    "actual = categorize(upvotes, upvote_threshold, comments, comments_threshold)\n",
    "print(f\"When upvotes={upvotes}/{upvote_threshold}, comments={comments}/{comments_threshold}, EXPECT={expect}, ACTUAL={actual}\")\n",
    "assert expect == actua"
   ]
  },
  {
   "cell_type": "code",
   "execution_count": null,
   "metadata": {
    "tags": []
   },
   "outputs": [],
   "source": [
    "# PROMPT 13d write test for \"\"\n",
    "upvotes = 0\n",
    "upvote_threshold = 0\n",
    "comments = 0\n",
    "comments_threshold = 0\n",
    "expect = \"????\"\n",
    "actual = categorize(upvotes, upvote_threshold, comments, comments_threshold)\n",
    "print(f\"When upvotes={upvotes}/{upvote_threshold}, comments={comments}/{comments_threshold}, EXPECT={expect}, ACTUAL={actual}\")\n",
    "assert expect == actua"
   ]
  },
  {
   "cell_type": "markdown",
   "metadata": {},
   "source": [
    "## Final step. lambda / apply\n",
    "\n",
    "Add a column to the dataframe called `\"category\"` which calculates the category for the article \n",
    "\n",
    "output the article title, the number of comments, number of upvotes and the category"
   ]
  },
  {
   "cell_type": "code",
   "execution_count": null,
   "metadata": {},
   "outputs": [],
   "source": [
    "# PROMPT 14\n"
   ]
  },
  {
   "cell_type": "code",
   "execution_count": null,
   "metadata": {},
   "outputs": [],
   "source": []
  },
  {
   "cell_type": "code",
   "execution_count": null,
   "metadata": {},
   "outputs": [],
   "source": []
  },
  {
   "cell_type": "code",
   "execution_count": null,
   "metadata": {},
   "outputs": [],
   "source": []
  }
 ],
 "metadata": {
  "anaconda-cloud": {},
  "kernelspec": {
   "display_name": "Python 3 (ipykernel)",
   "language": "python",
   "name": "python3"
  },
  "language_info": {
   "codemirror_mode": {
    "name": "ipython",
    "version": 3
   },
   "file_extension": ".py",
   "mimetype": "text/x-python",
   "name": "python",
   "nbconvert_exporter": "python",
   "pygments_lexer": "ipython3",
   "version": "3.11.7"
  },
  "toc": {
   "base_numbering": 1,
   "nav_menu": {},
   "number_sections": false,
   "sideBar": false,
   "skip_h1_title": false,
   "title_cell": "Table of Contents",
   "title_sidebar": "Contents",
   "toc_cell": false,
   "toc_position": {},
   "toc_section_display": false,
   "toc_window_display": false
  },
  "varInspector": {
   "cols": {
    "lenName": 16,
    "lenType": 16,
    "lenVar": 40
   },
   "kernels_config": {
    "python": {
     "delete_cmd_postfix": "",
     "delete_cmd_prefix": "del ",
     "library": "var_list.py",
     "varRefreshCmd": "print(var_dic_list())"
    },
    "r": {
     "delete_cmd_postfix": ") ",
     "delete_cmd_prefix": "rm(",
     "library": "var_list.r",
     "varRefreshCmd": "cat(var_dic_list()) "
    }
   },
   "types_to_exclude": [
    "module",
    "function",
    "builtin_function_or_method",
    "instance",
    "_Feature"
   ],
   "window_display": false
  }
 },
 "nbformat": 4,
 "nbformat_minor": 4
}
