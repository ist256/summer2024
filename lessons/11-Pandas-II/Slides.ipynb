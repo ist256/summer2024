{
 "cells": [
  {
   "cell_type": "markdown",
   "metadata": {
    "slideshow": {
     "slide_type": "slide"
    }
   },
   "source": [
    "# IST256 Lesson 11\n",
    "## Data Analysis\n",
    "\n",
    "\n",
    "- Reading: Data Analysis with Pandas, Part II\n",
    "\n",
    "\n",
    "## Links\n",
    "\n",
    "- Participation: [https://poll.ist256.com](https://poll.ist256.com)  (Sign in with *netid*@syr.edu and your SU Password.)\n",
    "- Class Chat: [https://chat.ist256.com](https://chat.ist256.com)  (Microsoft Teams.)\n"
   ]
  },
  {
   "cell_type": "markdown",
   "metadata": {
    "slideshow": {
     "slide_type": "slide"
    }
   },
   "source": [
    "# Agenda\n",
    "\n",
    "More Pandas:\n",
    "\n",
    "- Iterations\n",
    "- `json_normalize()`\n",
    "- Web Scraping with `read_html()`\n",
    "- `contact()` and `merge()`\n",
    "- lambdas and `apply()`"
   ]
  },
  {
   "attachments": {
    "1a4a0837-0fe5-448a-8414-b05a0cf7c875.png": {
     "image/png": "[encoded data removed]"
    }
   },
   "cell_type": "markdown",
   "metadata": {
    "slideshow": {
     "slide_type": "slide"
    }
   },
   "source": [
    "# FEQT 1\n",
    "\n",
    "#### Question: \n",
    "\n",
    "![image.png](attachment:1a4a0837-0fe5-448a-8414-b05a0cf7c875.png)\n",
    "\n",
    "Which expression evaluates to 3.4?  \n",
    "\n",
    "`A. df[2, 'GPA']`  \n",
    "`B. df.loc[2,'GPA']`  \n",
    "`C. df.iloc[2,'GPA']`  \n",
    "`D. df[2]['GPA']`  \n",
    "\n",
    "### Vote Now: [https://poll.ist256.com](https://poll.ist256.com)"
   ]
  },
  {
   "attachments": {
    "1a4a0837-0fe5-448a-8414-b05a0cf7c875.png": {
     "image/png": "[encoded data removed]"
    }
   },
   "cell_type": "markdown",
   "metadata": {
    "slideshow": {
     "slide_type": "slide"
    }
   },
   "source": [
    "# FEQT 2\n",
    "\n",
    "#### Question: \n",
    "\n",
    "![image.png](attachment:1a4a0837-0fe5-448a-8414-b05a0cf7c875.png)\n",
    "\n",
    "To get statistics on the 'GPA' column we write:\n",
    "\n",
    "`A. df.describe()`  \n",
    "`B. df.info()`  \n",
    "`C. df.stats()`  \n",
    "`D. df.statistics()`  \n",
    "\n",
    "### Vote Now: [https://poll.ist256.com](https://poll.ist256.com)"
   ]
  },
  {
   "attachments": {
    "1a4a0837-0fe5-448a-8414-b05a0cf7c875.png": {
     "image/png": "[encoded data removed]"
    }
   },
   "cell_type": "markdown",
   "metadata": {
    "slideshow": {
     "slide_type": "slide"
    }
   },
   "source": [
    "# FEQT 3\n",
    "\n",
    "#### Question: \n",
    "\n",
    "![image.png](attachment:1a4a0837-0fe5-448a-8414-b05a0cf7c875.png)\n",
    "\n",
    "Which returns row with index 1?\n",
    "\n",
    "`A. df[df['GPA'].isna()]`  \n",
    "`B. df[df['GPA'] == np.nan]`  \n",
    "`C. df[df['GPA'] == 'NaN']`  \n",
    "`D. df[df['GPA'] is np.nan]`  \n",
    "\n",
    "### Vote Now: [https://poll.ist256.com](https://poll.ist256.com)"
   ]
  },
  {
   "cell_type": "markdown",
   "metadata": {
    "slideshow": {
     "slide_type": "slide"
    }
   },
   "source": [
    "## Looping over dataframes with `iterrows()`\n",
    "\n",
    "- Similar to `dict.items()`, `DataFrame.iterrows()` uses `index`, `row` tuple.\n",
    "- `index` is the dataframe index\n",
    "- `row` is a `dict` of values where the column in the dataframe is the key\n",
    "- Useful when you need to process the dataframe a row at a time, for example when plotting.\n"
   ]
  },
  {
   "cell_type": "markdown",
   "metadata": {
    "slideshow": {
     "slide_type": "slide"
    }
   },
   "source": [
    "## `iterrows()` example\n"
   ]
  },
  {
   "cell_type": "code",
   "execution_count": 3,
   "metadata": {
    "slideshow": {
     "slide_type": "fragment"
    },
    "tags": []
   },
   "outputs": [
    {
     "name": "stdout",
     "output_type": "stream",
     "text": [
      "index= 0 row['a']= 2\n",
      "index= 1 row['a']= 4\n",
      "index= 2 row['a']= 2\n"
     ]
    }
   ],
   "source": [
    "import pandas as pd\n",
    "data = [ {\"a\" : 2, \"b\" : 5}, \n",
    "        {\"a\": 4, \"b\": 5}, \n",
    "        {\"a\": 2, \"b\": 10}]\n",
    "df = pd.DataFrame(data)\n",
    "for index, row in df.iterrows():\n",
    "    print(\"index=\", index, \"row['a']=\", row['a'])"
   ]
  },
  {
   "cell_type": "markdown",
   "metadata": {
    "slideshow": {
     "slide_type": "slide"
    }
   },
   "source": [
    "## Reading `JSON` into Pandas\n",
    "\n",
    "- Two approaches `read_json()` and `json_normalize()`\n",
    "- `read_json()` only works with list-like `JSON`\n",
    "- `json_normalize()` much more flexible will flatten nested `JSON` but you must deserialize first."
   ]
  },
  {
   "cell_type": "markdown",
   "metadata": {
    "slideshow": {
     "slide_type": "slide"
    }
   },
   "source": [
    "## `json_normalize()` Syntax\n",
    "\n",
    "```\n",
    "import pandas as pd\n",
    "\n",
    "df = pd.json_normalize(data, record_path=\"attribute\",meta=[\"item\"])\n",
    "```\n",
    "\n",
    "- `data` is a python `list` or `dict`\n",
    "- `record_path` is optional, but sets the `JSON` key as the row-level in `df`\n",
    "- `meta` is optional but sets the parent items to flatten\n"
   ]
  },
  {
   "cell_type": "markdown",
   "metadata": {
    "slideshow": {
     "slide_type": "slide"
    }
   },
   "source": [
    "# Watch Me Code 1\n",
    "\n",
    "### \"orders.json\" JSON Data Three ways\n",
    "\n",
    "- `read_json()`\n",
    "- `json_normalize()`\n",
    "- `json_normalize()` with `record_path`\n"
   ]
  },
  {
   "cell_type": "markdown",
   "metadata": {
    "slideshow": {
     "slide_type": "slide"
    }
   },
   "source": [
    "## Check Yourself: JSON\n",
    "\n",
    "For the following:  \n",
    "```\n",
    "x = [ \n",
    "  {\"a\" : {\"b\": 1}, \"c\" : [10,11]},\n",
    "  {\"a\" : {\"b\": 2}, \"c\" : [21,22,23]}\n",
    "]\n",
    "```\n",
    "how many rows in `pd.json_normalize(x)`?\n",
    "\n",
    "`A. 1`  \n",
    "`B. 2`  \n",
    "`C. 3`  \n",
    "`D. 5`  \n",
    "\n",
    "### Vote Now: [https://poll.ist256.com](https://poll.ist256.com)"
   ]
  },
  {
   "cell_type": "markdown",
   "metadata": {
    "slideshow": {
     "slide_type": "slide"
    }
   },
   "source": [
    "## Check Yourself: JSON\n",
    "\n",
    "For the following:  \n",
    "```\n",
    "x = [ \n",
    "  {\"a\" : {\"b\": 1}, \"c\" : [10,11]},\n",
    "  {\"a\" : {\"b\": 2}, \"c\" : [21,22,23]}\n",
    "]\n",
    "```\n",
    "how many columns in `pd.json_normalize(x)`?\n",
    "\n",
    "`A. 1`  \n",
    "`B. 2`  \n",
    "`C. 3`  \n",
    "`D. 5`  \n",
    "\n",
    "### Vote Now: [https://poll.ist256.com](https://poll.ist256.com)"
   ]
  },
  {
   "cell_type": "markdown",
   "metadata": {
    "slideshow": {
     "slide_type": "slide"
    }
   },
   "source": [
    "## Check Yourself: JSON\n",
    "\n",
    "For the following:  \n",
    "```\n",
    "x = [ \n",
    "  {\"a\" : {\"b\": 1}, \"c\" : [10,11]},\n",
    "  {\"a\" : {\"b\": 2}, \"c\" : [21,22,23]}\n",
    "]\n",
    "```\n",
    "how many rows in `pd.json_normalize(x, record_path=\"c\")`?\n",
    "\n",
    "`A. 1`  \n",
    "`B. 2`  \n",
    "`C. 3`  \n",
    "`D. 5`  \n",
    "\n",
    "### Vote Now: [https://poll.ist256.com](https://poll.ist256.com)"
   ]
  },
  {
   "cell_type": "markdown",
   "metadata": {
    "slideshow": {
     "slide_type": "slide"
    }
   },
   "source": [
    "## Check Yourself: JSON\n",
    "\n",
    "For the following:  \n",
    "```\n",
    "x = [ \n",
    "  {\"a\" : {\"b\": 1}, \"c\" : [10,11]},\n",
    "  {\"a\" : {\"b\": 2}, \"c\" : [21,22,23]}\n",
    "]\n",
    "```\n",
    "how many columns in `pd.json_normalize(x, record_path=\"c\")`?\n",
    "\n",
    "`A. 1`  \n",
    "`B. 2`  \n",
    "`C. 3`  \n",
    "`D. 5`  \n",
    "\n",
    "### Vote Now: [https://poll.ist256.com](https://poll.ist256.com)"
   ]
  },
  {
   "cell_type": "markdown",
   "metadata": {
    "slideshow": {
     "slide_type": "slide"
    }
   },
   "source": [
    " ## Pandas `read_html()`\n",
    " \n",
    " - You can perform simple web scraping with `read_html()`\n",
    " - `read_html(url)` will find all HTML tables on the `url` and reutrn a list of dataframes\n",
    " - `read_html(url,storage_options=header)` to send in a custom user agent (required by some pages). \n",
    " - use `len()` to find out how many tables were read from the `url`.\n"
   ]
  },
  {
   "cell_type": "markdown",
   "metadata": {
    "slideshow": {
     "slide_type": "slide"
    }
   },
   "source": [
    "## Watch Me Code 2\n",
    "\n",
    "- `read_html()` reads table data from a webpage!\n",
    "\n",
    "Some examples: \n",
    "\n",
    "- `https://ist256.com` website - requires user agent\n",
    "- `https://www.baseball-reference.com/leagues/MLB-standings.shtml`\n"
   ]
  },
  {
   "cell_type": "markdown",
   "metadata": {
    "slideshow": {
     "slide_type": "slide"
    }
   },
   "source": [
    "## Combining Dataframes\n",
    "\n",
    "- `pd.concat()` - Row-oriented. Append a list of dataframes into a single dataframe.   \n",
    "Dataframes are the same: `Online Students + Campus Students`\n",
    "- `pd.merge()` - Column-oriented. Combine one or more DataFrames based on a matching column.   \n",
    "Dataframes are different but have a matching column. Example: `Customers <==> Orders`\n",
    "    - `how=`\n",
    "        - `\"inner\"` only matching columns\n",
    "        - `\"left\"` only matching + all from left\n",
    "        - `\"right\"` only matching + all from right        \n",
    "        - `\"outer\"` all from left and right + matching"
   ]
  },
  {
   "cell_type": "markdown",
   "metadata": {
    "slideshow": {
     "slide_type": "slide"
    }
   },
   "source": [
    "## Watch Me Code 3\n",
    "\n",
    "- `concat()` sample use case. combine 4 months of orders into one dataframe.\n",
    "- `merge()` sample use case. Who plays on which team?\n"
   ]
  },
  {
   "cell_type": "markdown",
   "metadata": {
    "slideshow": {
     "slide_type": "slide"
    }
   },
   "source": [
    "## Generating Columns in Pandas\n",
    "\n",
    "Engineering new columns in a common task in data analysis. We are making columns to help us tell a clear data story.\n",
    "\n",
    "When you have complex logic / processing on the DataFrame that you need to store in a column:\n",
    "\n",
    "- `def` a custom function with the row `dict` as input\n",
    "- `return` the value \n",
    "- call the function with `apply()` using the inline `lambda: row` argument.\n"
   ]
  },
  {
   "cell_type": "markdown",
   "metadata": {
    "slideshow": {
     "slide_type": "slide"
    }
   },
   "source": [
    "## Watch Me Code 4\n",
    "\n",
    "- Read in credit cards: `https://raw.githubusercontent.com/mafudge/datasets/master/credit-cards/credit_cards.txt`\n",
    "- `create a custom function()` issuer, similar to the  lesson 05 lab.\n",
    "- `apply()` the`issuer()` function to each row to generate a new column `\"issuer\"`\n"
   ]
  },
  {
   "cell_type": "markdown",
   "metadata": {
    "slideshow": {
     "slide_type": "slide"
    }
   },
   "source": [
    "# End-To-End Example\n",
    "\n",
    "### Searching the UFO Dataset\n",
    "\n",
    "- 5 months of UFO sightings in 2016: https://github.com/mafudge/datasets/tree/master/ufo-sightings\n",
    "- Combine into a single data frame\n",
    "- IPYWidgets + Interact to search the dataframe interactively.\n",
    "- \"C\" level project - not many much data transformations happening hrre.\n"
   ]
  },
  {
   "cell_type": "markdown",
   "metadata": {
    "slideshow": {
     "slide_type": "slide"
    }
   },
   "source": [
    "# Conclusion Activity : One Question Quiz\n",
    "\n",
    "For the following dataframe, `df`\n",
    "\n",
    "<table style=\"font-size:1.0em;\">\n",
    "    <thead><tr>\n",
    "        <th>a</th>\n",
    "        <th>b</th>\n",
    "        <th>c</th>\n",
    "    </tr></thead>\n",
    "    <tbody>\n",
    "    <tr>\n",
    "        <td>1</td>\n",
    "        <td>x</td>\n",
    "        <td>y</td>\n",
    "    </tr>\n",
    "    <tr>\n",
    "        <td>3</td>\n",
    "        <td>w</td>\n",
    "        <td>y</td>\n",
    "    </tr>\n",
    "    <tr>\n",
    "        <td>5</td>\n",
    "        <td>q</td>\n",
    "        <td>z</td>\n",
    "    </tr>\n",
    "    </tbody>\n",
    "</table>\n",
    "\n",
    "what is: `df[ df['c'] =='z' ]['a']`   \n",
    "\n",
    "A. `1`  \n",
    "B. `3`  \n",
    "C. `5`  \n",
    "D. `a`  \n",
    "\n",
    "\n",
    "### Vote Now: [https://poll.ist256.com](https://poll.ist256.com)"
   ]
  },
  {
   "cell_type": "code",
   "execution_count": null,
   "metadata": {},
   "outputs": [],
   "source": []
  }
 ],
 "metadata": {
  "celltoolbar": "Slideshow",
  "kernelspec": {
   "display_name": "Python 3 (ipykernel)",
   "language": "python",
   "name": "python3"
  },
  "language_info": {
   "codemirror_mode": {
    "name": "ipython",
    "version": 3
   },
   "file_extension": ".py",
   "mimetype": "text/x-python",
   "name": "python",
   "nbconvert_exporter": "python",
   "pygments_lexer": "ipython3",
   "version": "3.11.7"
  },
  "toc": {
   "base_numbering": 1,
   "nav_menu": {},
   "number_sections": false,
   "sideBar": false,
   "skip_h1_title": false,
   "title_cell": "Table of Contents",
   "title_sidebar": "Contents",
   "toc_cell": false,
   "toc_position": {},
   "toc_section_display": false,
   "toc_window_display": false
  },
  "varInspector": {
   "cols": {
    "lenName": 16,
    "lenType": 16,
    "lenVar": 40
   },
   "kernels_config": {
    "python": {
     "delete_cmd_postfix": "",
     "delete_cmd_prefix": "del ",
     "library": "var_list.py",
     "varRefreshCmd": "print(var_dic_list())"
    },
    "r": {
     "delete_cmd_postfix": ") ",
     "delete_cmd_prefix": "rm(",
     "library": "var_list.r",
     "varRefreshCmd": "cat(var_dic_list()) "
    }
   },
   "types_to_exclude": [
    "module",
    "function",
    "builtin_function_or_method",
    "instance",
    "_Feature"
   ],
   "window_display": false
  }
 },
 "nbformat": 4,
 "nbformat_minor": 4
}
