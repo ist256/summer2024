{
 "cells": [
  {
   "cell_type": "markdown",
   "metadata": {},
   "source": [
    "## ETEE UFO Signtings Analysis\n",
    "\n",
    "Let's learn how combining pandas with ipython interact makes for an easy to search dataframe.\n",
    "\n",
    "This example is similar to the Fudgemart Products exercise from before only it uses pandas as a UFO dataset.\n",
    "\n",
    "5 months of UFO sightings from 2016\n",
    "\n",
    "https://github.com/mafudge/datasets/tree/master/ufo-sightings\n",
    "\n",
    "\n",
    "    1. combine 5 months of ufo sightings into a single dataset\n",
    "    2. interact to filter/search dataframe\n",
    "        2.1 drop down of state\n",
    "        2.2.drop down of shape\n",
    "        2.3 text search in summary\n",
    "        "
   ]
  },
  {
   "cell_type": "code",
   "execution_count": 1,
   "metadata": {},
   "outputs": [
    {
     "data": {
      "text/html": [
       "<div>\n",
       "<style scoped>\n",
       "    .dataframe tbody tr th:only-of-type {\n",
       "        vertical-align: middle;\n",
       "    }\n",
       "\n",
       "    .dataframe tbody tr th {\n",
       "        vertical-align: top;\n",
       "    }\n",
       "\n",
       "    .dataframe thead th {\n",
       "        text-align: right;\n",
       "    }\n",
       "</style>\n",
       "<table border=\"1\" class=\"dataframe\">\n",
       "  <thead>\n",
       "    <tr style=\"text-align: right;\">\n",
       "      <th></th>\n",
       "      <th>Date / Time</th>\n",
       "      <th>City</th>\n",
       "      <th>State</th>\n",
       "      <th>Shape</th>\n",
       "      <th>Duration</th>\n",
       "      <th>Summary</th>\n",
       "      <th>Posted</th>\n",
       "    </tr>\n",
       "  </thead>\n",
       "  <tbody>\n",
       "    <tr>\n",
       "      <th>0</th>\n",
       "      <td>2/29/16 23:45</td>\n",
       "      <td>Harbor Beach</td>\n",
       "      <td>MI</td>\n",
       "      <td>Light</td>\n",
       "      <td>1 minute</td>\n",
       "      <td>Yellow/white ball of light.</td>\n",
       "      <td>3/4/2016</td>\n",
       "    </tr>\n",
       "    <tr>\n",
       "      <th>1</th>\n",
       "      <td>2/29/16 23:30</td>\n",
       "      <td>Sebastian</td>\n",
       "      <td>FL</td>\n",
       "      <td>Triangle</td>\n",
       "      <td>20-40 minutes</td>\n",
       "      <td>6 low flying craft with loud engines and 2 whi...</td>\n",
       "      <td>3/4/2016</td>\n",
       "    </tr>\n",
       "    <tr>\n",
       "      <th>2</th>\n",
       "      <td>2/29/16 23:00</td>\n",
       "      <td>Salunga/Landisville area right by highway 283</td>\n",
       "      <td>PA</td>\n",
       "      <td>Triangle</td>\n",
       "      <td>5-15 minutes</td>\n",
       "      <td>Pennsylvania triangular aircraft sighting.</td>\n",
       "      <td>3/4/2016</td>\n",
       "    </tr>\n",
       "    <tr>\n",
       "      <th>3</th>\n",
       "      <td>2/29/16 22:00</td>\n",
       "      <td>York</td>\n",
       "      <td>PA</td>\n",
       "      <td>Triangle</td>\n",
       "      <td>30 minutes</td>\n",
       "      <td>Myself and 2 friends of mine were driving to t...</td>\n",
       "      <td>3/4/2016</td>\n",
       "    </tr>\n",
       "    <tr>\n",
       "      <th>4</th>\n",
       "      <td>2/29/16 21:35</td>\n",
       "      <td>Joliet</td>\n",
       "      <td>IL</td>\n",
       "      <td>Unknown</td>\n",
       "      <td>10 minutes</td>\n",
       "      <td>At approximately 21:35 we heard a very loud no...</td>\n",
       "      <td>3/4/2016</td>\n",
       "    </tr>\n",
       "  </tbody>\n",
       "</table>\n",
       "</div>"
      ],
      "text/plain": [
       "     Date / Time                                           City State  \\\n",
       "0  2/29/16 23:45                                   Harbor Beach    MI   \n",
       "1  2/29/16 23:30                                      Sebastian    FL   \n",
       "2  2/29/16 23:00  Salunga/Landisville area right by highway 283    PA   \n",
       "3  2/29/16 22:00                                           York    PA   \n",
       "4  2/29/16 21:35                                         Joliet    IL   \n",
       "\n",
       "      Shape       Duration                                            Summary  \\\n",
       "0     Light       1 minute                        Yellow/white ball of light.   \n",
       "1  Triangle  20-40 minutes  6 low flying craft with loud engines and 2 whi...   \n",
       "2  Triangle   5-15 minutes         Pennsylvania triangular aircraft sighting.   \n",
       "3  Triangle     30 minutes  Myself and 2 friends of mine were driving to t...   \n",
       "4   Unknown     10 minutes  At approximately 21:35 we heard a very loud no...   \n",
       "\n",
       "     Posted  \n",
       "0  3/4/2016  \n",
       "1  3/4/2016  \n",
       "2  3/4/2016  \n",
       "3  3/4/2016  \n",
       "4  3/4/2016  "
      ]
     },
     "execution_count": 1,
     "metadata": {},
     "output_type": "execute_result"
    }
   ],
   "source": [
    "# Figure out data frame\n",
    "import pandas as pd\n",
    "ufo1 = pd.read_csv(f'https://raw.githubusercontent.com/mafudge/datasets/master/ufo-sightings/ufo-sightings-2016-01.csv')\n",
    "ufo1.head()\n",
    "ufo2 = pd.read_csv(f'https://raw.githubusercontent.com/mafudge/datasets/master/ufo-sightings/ufo-sightings-2016-02.csv')\n",
    "ufo2.head()\n",
    "\n"
   ]
  },
  {
   "cell_type": "code",
   "execution_count": 2,
   "metadata": {},
   "outputs": [],
   "source": [
    "# ready to make a function!\n",
    "def read_ufo_data():\n",
    "    ufos = []\n",
    "    for i in range(1,6):\n",
    "        ufo = pd.read_csv(f'https://raw.githubusercontent.com/mafudge/datasets/master/ufo-sightings/ufo-sightings-2016-0{i}.csv')\n",
    "        ufos.append(ufo)\n",
    "        df = pd.concat(ufos, ignore_index=True)\n",
    "    return df\n",
    "\n",
    "df = read_ufo_data()"
   ]
  },
  {
   "cell_type": "code",
   "execution_count": 3,
   "metadata": {},
   "outputs": [
    {
     "data": {
      "text/plain": [
       "['*ANY*', 'AB', 'AK', 'AL', 'AR', 'AZ', 'BC', 'CA', 'CO', 'CT']"
      ]
     },
     "execution_count": 3,
     "metadata": {},
     "output_type": "execute_result"
    }
   ],
   "source": [
    "# let's figure out a dropdown\n",
    "df['State']\n",
    "\n",
    "df['State'].unique()\n",
    "\n",
    "# need to drop the nan\n",
    "df['State'].dropna().unique()\n",
    "\n",
    "# that's our list\n",
    "states = list(df['State'].dropna().unique())\n",
    "# need to add wildcard\n",
    "states.insert(0,'*ANY*')\n",
    "states.sort()\n",
    "states[:10]\n"
   ]
  },
  {
   "cell_type": "code",
   "execution_count": 4,
   "metadata": {
    "tags": []
   },
   "outputs": [],
   "source": [
    "# Let's generalize it to a function!"
   ]
  },
  {
   "cell_type": "code",
   "execution_count": 5,
   "metadata": {
    "tags": []
   },
   "outputs": [
    {
     "name": "stdout",
     "output_type": "stream",
     "text": [
      "['*ANY*', 'AB', 'AK', 'AL', 'AR', 'AZ', 'BC', 'CA', 'CO', 'CT']\n",
      "['Changing', 'Chevron', 'Cigar', 'Circle', 'Cone', 'Cross', 'Cylinder', 'Diamond', 'Disk', 'Egg']\n"
     ]
    }
   ],
   "source": [
    "def dedupe_series(series: pd.Series, add_any=True) -> list[str]:\n",
    "    values = sorted(list(series.dropna().unique()))\n",
    "    if add_any:\n",
    "        values.insert(0, \"*ANY*\")\n",
    "    return values\n",
    "\n",
    "\n",
    "states = dedupe_series(df['State'])\n",
    "shapes = dedupe_series(df[\"Shape\"], add_any=False)\n",
    "print(states[:10])\n",
    "print(shapes[:10])"
   ]
  },
  {
   "cell_type": "code",
   "execution_count": null,
   "metadata": {},
   "outputs": [],
   "source": []
  },
  {
   "cell_type": "markdown",
   "metadata": {},
   "source": [
    "## Complete working code"
   ]
  },
  {
   "cell_type": "code",
   "execution_count": 6,
   "metadata": {},
   "outputs": [
    {
     "data": {
      "text/html": [
       "<h1>Search UFO Sightings<h1>"
      ],
      "text/plain": [
       "<IPython.core.display.HTML object>"
      ]
     },
     "metadata": {},
     "output_type": "display_data"
    },
    {
     "data": {
      "application/vnd.jupyter.widget-view+json": {
       "model_id": "b23049eb7cab4cf8b919e27d391bea0c",
       "version_major": 2,
       "version_minor": 0
      },
      "text/plain": [
       "interactive(children=(Dropdown(description='state', options=('*ANY*', 'AB', 'AK', 'AL', 'AR', 'AZ', 'BC', 'CA'…"
      ]
     },
     "metadata": {},
     "output_type": "display_data"
    }
   ],
   "source": [
    "import pandas as pd\n",
    "from IPython.display import display, HTML\n",
    "from ipywidgets import widgets, interact_manual\n",
    "import warnings\n",
    "warnings.filterwarnings('ignore')\n",
    "pd.set_option('display.max_colwidth', None)\n",
    "\n",
    "def read_ufo_data():\n",
    "    ufos = []\n",
    "    for i in range(1,6):\n",
    "        ufo = pd.read_csv(f'https://raw.githubusercontent.com/mafudge/datasets/master/ufo-sightings/ufo-sightings-2016-0{i}.csv')\n",
    "        ufos.append(ufo)\n",
    "        df = pd.concat(ufos, ignore_index=True)\n",
    "    return df\n",
    "\n",
    "def dedupe_series(series: pd.Series) -> list[str]:\n",
    "    values = sorted(list(series.dropna().unique()))\n",
    "    values.insert(0, \"*ANY*\")\n",
    "    return values\n",
    "\n",
    "df = read_ufo_data()\n",
    "states = dedupe_series(df['State'])\n",
    "shapes = dedupe_series(df[\"Shape\"])\n",
    "\n",
    "display(HTML(\"<h1>Search UFO Sightings<h1>\"))\n",
    "@interact_manual(state=states, shape=shapes)\n",
    "def on_click(state, shape):\n",
    "    search_df = df\n",
    "    if state != '*ANY*':\n",
    "        search_df = search_df[ search_df.State == state ]\n",
    "    if shape != '*ANY*':\n",
    "        search_df = search_df[ search_df.Shape == shape ]\n",
    "    display(search_df)\n"
   ]
  },
  {
   "cell_type": "code",
   "execution_count": null,
   "metadata": {},
   "outputs": [],
   "source": []
  }
 ],
 "metadata": {
  "kernelspec": {
   "display_name": "Python 3 (ipykernel)",
   "language": "python",
   "name": "python3"
  },
  "language_info": {
   "codemirror_mode": {
    "name": "ipython",
    "version": 3
   },
   "file_extension": ".py",
   "mimetype": "text/x-python",
   "name": "python",
   "nbconvert_exporter": "python",
   "pygments_lexer": "ipython3",
   "version": "3.11.7"
  },
  "toc": {
   "base_numbering": 1,
   "nav_menu": {},
   "number_sections": false,
   "sideBar": false,
   "skip_h1_title": false,
   "title_cell": "Table of Contents",
   "title_sidebar": "Contents",
   "toc_cell": false,
   "toc_position": {},
   "toc_section_display": false,
   "toc_window_display": false
  }
 },
 "nbformat": 4,
 "nbformat_minor": 4
}
