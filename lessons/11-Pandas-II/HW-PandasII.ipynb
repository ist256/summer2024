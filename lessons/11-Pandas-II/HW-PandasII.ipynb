{
 "cells": [
  {
   "cell_type": "markdown",
   "metadata": {},
   "source": [
    "# Homework: UFO Two-Point-Oh!\n",
    "\n",
    "## The Problem\n",
    "\n",
    "For this assignment, we will enhance the End-To-End Example from this unit. The EETE loads 6 months of UFO reports and then allows the user to search the reports by State or Shape. \n",
    "\n",
    "As you may recall from that example, we created two functions `read_ufo_data()` which read the dataframes and concatenated them with `pd.concat()` we also wrote a function called `dedupe_series()` which take the input `pd.Series` and returns a list of unique values for creating a drop-down widget. \n",
    "\n",
    "Finally we created a interact UI where the user can select a State, UFO shape or both, then query the data, outputting a dataframe. \n",
    "\n",
    "### Your Additions to the EETE\n",
    "\n",
    "We will add two additional search criteria to this program: \n",
    "\n",
    "1. Search by Day of the Week e.g. Monday, Tuesday, Wednesday...\n",
    "2. Search by Color: Red, Green, White, ...\n",
    "\n",
    "In both cases we will need to engineer these two `pd.Series`, let's call them `DayOfWeek` and `Color`. The approach to engineering them will be the same used in the `df.apply(lambda row:)` method.\n",
    "\n",
    "The final program will allow a user to select a Day of the week, UFO Color, UFO Shape, State, or any combinations thereof, and then output the matching rows in a dataframe.\n",
    "\n",
    "### Video of an example run:\n",
    "\n",
    "<a href=\"//imgur.com/a/LC80EHE\">UFO Sample run</a></blockquote><script async src=\"//s.imgur.com/min/embed.js\" charset=\"utf-8\"></script>\n",
    "\n",
    "## Approach:\n",
    "\n",
    "This assignment is broken up into parts. We will use the same approach we've used for the past few assignments:  problem simplification to solve this problem as \"parts\" and then take a bottom up approach, assembling the \"parts\" together.\n",
    "\n",
    "- **You Code 2.1** Write function `get_day_of_week(date)` to get Day of week from a Date\n",
    "- **You Code 2.2** Use `apply()` to generate the column using the function from 2.1\n",
    "- **You Code 2.3** Write a function `extract_colors(summary)` to get the Colors from the summary.\n",
    "- **You Code 2.4** Use `apply()` to generate the column using the function from 2.3\n",
    "- **You Code 2.5** Assemble the program from its parts\n",
    "\n",
    "Since we are taking a bottom up approach, **hold off on completing part 1, until you are on step 2.5**"
   ]
  },
  {
   "cell_type": "markdown",
   "metadata": {
    "label": "problem_analysis_cell"
   },
   "source": [
    "## Part 1: Problem Analysis\n",
    "\n",
    "You will complete a problem analysis for the entire program. **Since we are using the bottom-up approach, do not attempt until step 2.5**\n",
    "\n",
    "\n",
    "### 1.1 Program Outputs\n",
    "\n",
    "Describe your program outputs in the cell below. \n"
   ]
  },
  {
   "cell_type": "markdown",
   "metadata": {
    "editable": true,
    "label": "analysis_output_cell",
    "slideshow": {
     "slide_type": ""
    },
    "tags": []
   },
   "source": []
  },
  {
   "cell_type": "markdown",
   "metadata": {},
   "source": [
    "### 1.2 Program Inputs\n",
    "\n",
    "List out the program inputs in the cell below.\n"
   ]
  },
  {
   "cell_type": "markdown",
   "metadata": {
    "editable": true,
    "label": "analysis_input_cell",
    "slideshow": {
     "slide_type": ""
    },
    "tags": []
   },
   "source": []
  },
  {
   "cell_type": "markdown",
   "metadata": {},
   "source": [
    "### 1.3 The Plan (Algorithm)\n",
    "\n",
    "Explain, as specifically as you can, without writing code, how the program works from input to output. Be detailed with your plan as you will need to turn it into code. \n"
   ]
  },
  {
   "cell_type": "markdown",
   "metadata": {
    "label": "analysis_plan_cell",
    "tags": []
   },
   "source": []
  },
  {
   "cell_type": "markdown",
   "metadata": {},
   "source": [
    "## Part 2: Code Solution\n",
    "\n",
    "You may write your code in several cells, but place the complete, final working copy of your code solution within this single cell below. Only the within this cell will be considered your solution. Any imports or user-defined functions should be copied into this cell. "
   ]
  },
  {
   "cell_type": "code",
   "execution_count": 1,
   "metadata": {
    "label": "code_solution_cell",
    "tags": []
   },
   "outputs": [
    {
     "data": {
      "text/html": [
       "<h1>Search UFO Sightings<h1>"
      ],
      "text/plain": [
       "<IPython.core.display.HTML object>"
      ]
     },
     "metadata": {},
     "output_type": "display_data"
    },
    {
     "data": {
      "application/vnd.jupyter.widget-view+json": {
       "model_id": "0b41ef4154234e528ca6e445ba3d0698",
       "version_major": 2,
       "version_minor": 0
      },
      "text/plain": [
       "interactive(children=(Dropdown(description='state', options=('*ANY*', 'AB', 'AK', 'AL', 'AR', 'AZ', 'BC', 'CA'…"
      ]
     },
     "metadata": {},
     "output_type": "display_data"
    }
   ],
   "source": [
    "# PASTE THE CODE from \"Complete Working Code\" Section of the EETE Here and RUN THE CODE!\n",
    "import pandas as pd\n",
    "from IPython.display import display, HTML\n",
    "from ipywidgets import widgets, interact_manual\n",
    "import warnings\n",
    "warnings.filterwarnings('ignore')\n",
    "pd.set_option('display.max_colwidth', None)\n",
    "\n",
    "def read_ufo_data():\n",
    "    ufos = []\n",
    "    for i in range(1,6):\n",
    "        ufo = pd.read_csv(f'https://raw.githubusercontent.com/mafudge/datasets/master/ufo-sightings/ufo-sightings-2016-0{i}.csv')\n",
    "        ufos.append(ufo)\n",
    "        df = pd.concat(ufos, ignore_index=True)\n",
    "    return df\n",
    "\n",
    "def dedupe_series(series: pd.Series) -> list[str]:\n",
    "    values = sorted(list(series.dropna().unique()))\n",
    "    values.insert(0, \"*ANY*\")\n",
    "    return values\n",
    "\n",
    "df = read_ufo_data()\n",
    "states = dedupe_series(df['State'])\n",
    "shapes = dedupe_series(df[\"Shape\"])\n",
    "\n",
    "display(HTML(\"<h1>Search UFO Sightings<h1>\"))\n",
    "@interact_manual(state=states, shape=shapes)\n",
    "def on_click(state, shape):\n",
    "    search_df = df\n",
    "    if state != '*ANY*':\n",
    "        search_df = search_df[ search_df.State == state ]\n",
    "    if shape != '*ANY*':\n",
    "        search_df = search_df[ search_df.Shape == shape ]\n",
    "    display(search_df)"
   ]
  },
  {
   "cell_type": "code",
   "execution_count": null,
   "metadata": {
    "tags": []
   },
   "outputs": [],
   "source": []
  },
  {
   "cell_type": "code",
   "execution_count": null,
   "metadata": {},
   "outputs": [],
   "source": []
  },
  {
   "cell_type": "markdown",
   "metadata": {},
   "source": [
    "### You Code 2.1: Write function `get_day_of_week(date)` to get Day of week from a Date\n",
    "\n",
    "Assuming you copied and executed the EETE code into this notebook, you should have a variable called `df` which represents the UFO sightings. \n",
    "\n",
    "The `Date / Time` column indicates when the UFO was sighted. If you execute `df['Date / Time']` you can see the format of the columns, for example here are two such values:\n",
    "\n",
    "```\n",
    "'1/31/16 23:10'  \n",
    "'2/17/16 18:05'  \n",
    "'5/24/16 22:00'\n",
    "```\n",
    "\n",
    "We want to write a function called `get_day_of_week()` that takes one of those date/time strings as **input** and then returns the day of the week as **output**  For example:\n",
    "\n",
    "```\n",
    "#                           <input>        <output>\n",
    "assert get_day_of_week(\"1/31/16 23:10\") == \"Sunday\"\n",
    "assert get_day_of_week(\"2/17/16 18:05\") == \"Wednesday\"\n",
    "assert get_day_of_week(\"5/24/16 22:00\") == \"Tuesday\"\n",
    "```\n",
    "\n",
    "To accomplish this task you will need to learn about **date parsing** in Python. As you may recall **parsing** is the act of deriving meaning from text. In this case we are taking a text string like this as input `\"1/31/16 23:10\"` and parsing it into a python `datetime` type. When the string is read as a date, we can now ask it questions like when is the next month? Is this the last day of the month, and most importantly for us: What day of the week is this? \n",
    "\n",
    "\n",
    "The `get_day_of_week()` function is mostly written for you. All you need to do is figure out the format codes to make the parser, and formatters work. You will need to figure out TWO format strings. one to parse the date / time the other to display the day of the week from the parsed datetime.\n",
    "\n",
    "\n",
    "**Parsing with strptime()**\n",
    "\n",
    "`strptime(datestring, format)` parses the `datestring` using the specified `format`, and returns back a Python `datetime` type.\n",
    "\n",
    "You'll need to identify the format of the date and time in the input, and convert it to a format string. Here are the codes:\n",
    "\n",
    "https://docs.python.org/3/library/datetime.html#strftime-and-strptime-format-codes\n",
    "\n",
    "Here is a sandbox where you can play around with the codes\n",
    "\n",
    "https://www.strfti.me/\n",
    "\n",
    "So for example `'5/24/16'` as the `dateonly` part what is this format? Where is the month? Year? Day? What separates a year from a month? etc. Answer these questions and you can build a formatter for the parser!\n",
    "\n",
    "\n",
    "**Formatting with strftime()** \n",
    "\n",
    "`datetime.strftime(format)` converts a Python `datetime` type back into a formatted date. You need to supply the proper format code to print the day of the week. \n"
   ]
  },
  {
   "cell_type": "code",
   "execution_count": null,
   "metadata": {
    "code_cell_type": "write_code",
    "editable": true,
    "label": "2.1",
    "slideshow": {
     "slide_type": ""
    },
    "solution": [],
    "tags": [],
    "tests": [
     {
      "input-stream": "\n",
      "kind": "runcode",
      "search-output": [
       "DATESTR='1/31/16 23:10' EXPECT='Sunday' ACTUAL='Sunday'",
       "DATESTR='5/24/16' EXPECT='Tuesday' ACTUAL='Tuesday"
      ]
     }
    ]
   },
   "outputs": [],
   "source": [
    "# SOLUTION CELL 2.1\n",
    "def get_day_of_week(datestr: str) -> str:\n",
    "    from datetime import datetime\n",
    "    dateonly = datestr.split()[0].strip()\n",
    "    parsed_datetime = datetime.strptime(dateonly, \"?TODO-Replace-Me-With-Date-Format?\")\n",
    "    day_of_week = parsed_datetime.strftime(\"?TODO-Repalce-Me-With-Day-of-Week-Format?\")\n",
    "    return day_of_week\n",
    "\n",
    "\n",
    "# TESTS do not change the code below here... make your function pass the tests\n",
    "def test_get_day_of_week(datestr, expect):\n",
    "    actual = get_day_of_week(datestr)\n",
    "    print(f\"DATESTR='{datestr}' EXPECT='{expect}' ACTUAL='{actual}'\")\n",
    "    assert expect == actual\n",
    "\n",
    "\n",
    "test_get_day_of_week(datestr=\"1/31/16 23:10\", expect=\"Sunday\")\n",
    "test_get_day_of_week(datestr=\"2/8/16 18:05\", expect=\"Monday\")\n",
    "test_get_day_of_week(datestr=\"5/24/16\", expect=\"Tuesday\")"
   ]
  },
  {
   "cell_type": "markdown",
   "metadata": {},
   "source": [
    "### You Code 2.2: Use `apply()` to generate the column using the function from 2.1\n",
    "\n",
    "With a working function, now use `df.apply()` to create a new Series in the DataFrame called `DayOfWeek`.\n",
    "\n",
    "**This transformation should require one line of Python code to complete properly.** Please consult the readings, large group, lab, and small group from this week for many examples of how this is done. \n",
    "\n",
    "After you create the new column, call the `dedupe_series()` function to create a list of unique `days` from the Series.\n",
    "\n",
    "`print()` the `days` so the code checker can verify you completed this step properly. \n"
   ]
  },
  {
   "cell_type": "code",
   "execution_count": null,
   "metadata": {
    "code_cell_type": "write_code",
    "editable": true,
    "label": "2.2",
    "slideshow": {
     "slide_type": ""
    },
    "solution": [],
    "tags": [],
    "tests": [
     {
      "input-stream": "\n",
      "kind": "runcode",
      "search-output": [
       "'Sunday', 'Thursday',"
      ]
     }
    ]
   },
   "outputs": [],
   "source": [
    "# SOLUTION CELL 2.2\n",
    "import pandas as pd\n",
    "\n",
    "# COPY read_ufo_data() function here\n",
    "\n",
    "\n",
    "# COPY dedupe_series() function here\n",
    "\n",
    "\n",
    "# COPY get_day_of_week() function here\n",
    "\n",
    "\n",
    "# main code\n",
    "# CALL read_ufo_data() here to load the dataframe\n",
    "\n",
    "# Create `DayOfWeek` Series in the DataFrame\n",
    "\n",
    "# Dedupe `DayOfWeek` Series  into a list\n",
    "\n",
    "\n",
    "# FOR CHECKER: print the list\n"
   ]
  },
  {
   "cell_type": "markdown",
   "metadata": {},
   "source": [
    "### You Code 2.3 - Write a function `extract_colors(summary)` to get the all the colors found in some the summary.\n",
    "\n",
    "The `Summary` Series contains a text description of what the person who sighted the UFO saw. The person will often indicate colors such as `\"I saw a red and white flash in the sky\"`. We want to take this summary string and from it, extract out the colors, for example: `'red white'`. \n",
    "\n",
    "Ideally we would use some kind of AI (specifically \"Named Entity Recognition https://en.wikipedia.org/wiki/Named-entity_recognition, a form of \"Natural Language Processing\") for this type of task. We will learn about, and use NER later. For now we will extract using a curated list of colors and our own algorithm.\n",
    "\n",
    "```\n",
    "curated_colors = ['white', 'orange', 'yellow', 'red', 'blue', 'green']\n",
    "```\n",
    "\n",
    "Our `extract_colors(text: str)-> str` function takes some `text` as input and then outputs a `list` of color names found in the text. Here is the **algorithm**, once again the using the classic search pattern:\n",
    "\n",
    "    1. start with an empty string for colors\n",
    "    2. lowercase the text (to improve matching)\n",
    "    3. for each curated color\n",
    "    4.     if you find the curated color in the lowercased text\n",
    "    5.         concatenate the color + a space to the colors string\n",
    "    6. strip the whitespace from the colors string before returning it\n",
    "\n",
    "\n",
    "Write this implement this function and get it to pass the tests provided."
   ]
  },
  {
   "cell_type": "code",
   "execution_count": null,
   "metadata": {
    "code_cell_type": "write_code",
    "editable": true,
    "label": "2.3",
    "slideshow": {
     "slide_type": ""
    },
    "solution": [],
    "tags": [],
    "tests": [
     {
      "input-stream": "\n",
      "kind": "runcode",
      "search-output": [
       "TEXT='Santa wears a Red and White hat' EXPECT='white red' ACTUAL='white red'",
       "TEXT='I am so blue' EXPECT='blue' ACTUAL='blue'",
       "TEXT='Cheese for me please!' EXPECT='' ACTUAL=''"
      ]
     }
    ]
   },
   "outputs": [],
   "source": [
    "# SOLUTION CELL 2.3\n",
    "def extract_colors(text: str)-> list:\n",
    "    curated_colors = ['white', 'orange', 'yellow', 'red', 'blue', 'green']\n",
    "    # TODO write the rest\n",
    "\n",
    "#TESTS do not change the code below here... make your function pass the tests\n",
    "def test_extract_colors(text, expect):\n",
    "    actual = extract_colors(text)\n",
    "    print(f\"TEXT='{text}' EXPECT='{expect}' ACTUAL='{actual}'\")\n",
    "    assert expect == actual\n",
    "\n",
    "\n",
    "test_extract_colors(text=\"Santa wears a Red and White hat\", expect='white red')\n",
    "test_extract_colors(text=\"the mexican flag is GREEN, RED and WHITE\", expect='white red green')\n",
    "test_extract_colors(text=\"I am so blue\", expect='blue')\n",
    "test_extract_colors(text=\"Cheese for me please!\", expect='')\n"
   ]
  },
  {
   "cell_type": "markdown",
   "metadata": {},
   "source": [
    "### You Code 2.4 - Use `apply()` to generate the column using the function from 2.3\n",
    " \n",
    "With a working function, now use `df.apply()` to create a new Series in the DataFrame called `Colors`.\n",
    "\n",
    "**Once more this transformation should require one line of Python code to complete properly.** \n",
    "\n",
    "No need to dedupe as we have our `curated_colors`\n",
    "\n",
    "`print()` the `Colors` Series for just one single reporting at index 15 so the code checker can verify you completed this step properly. The output should be `'orange green'`"
   ]
  },
  {
   "cell_type": "code",
   "execution_count": null,
   "metadata": {
    "code_cell_type": "write_code",
    "editable": true,
    "label": "2.4",
    "slideshow": {
     "slide_type": ""
    },
    "solution": [],
    "tags": [],
    "tests": [
     {
      "input-stream": "\n",
      "kind": "runcode",
      "search-output": [
       "orange green"
      ]
     }
    ]
   },
   "outputs": [],
   "source": [
    "# SOLUTION CELL 2.4\n",
    "import pandas as pd\n",
    "\n",
    "\n",
    "# COPY read_ufo_data() function here\n",
    "\n",
    "\n",
    "# COPY dedupe_series() function here\n",
    "\n",
    "\n",
    "# COPY extract_colors() function here\n",
    "\n",
    "\n",
    "# MAIN CODE \n",
    "# CALL read_ufo_data() here to load the dataframe\n",
    "\n",
    "# Create `Colors` Series in the DataFrame\n",
    "\n",
    "# FOR CHECKER: print the 15th item from the Colors series. should be 'orange green'\n"
   ]
  },
  {
   "cell_type": "markdown",
   "metadata": {},
   "source": [
    "**TIP** Help yourself for later. Write a boolean expression to find all rows matching a specific color from the `Colors` series. For example, use the `'orange'` color. One approach is to use: `str.find()` on the series like we did in the Small Group activity. You'll need it for the color search in 2.5"
   ]
  },
  {
   "cell_type": "code",
   "execution_count": null,
   "metadata": {
    "tags": []
   },
   "outputs": [],
   "source": []
  },
  {
   "cell_type": "markdown",
   "metadata": {},
   "source": [
    "### You Code 2.5 Assemble the final program as an interact\n",
    "\n",
    "With all the components built, its time to build the complete program. With an exception of a couple lines of code, this will be an assemblage of all of the work you've done earlier.\n",
    "\n",
    "- Complete the Problem Analysis Section above. \n",
    "  - What are the 4 inputs (note: all are drop down widgets)?\n",
    "  - What is the 1 output?\n",
    "  \n",
    "**Help with the Algorithm:**\n",
    "\n",
    "- When you use interacts to generate your widgets for input, ususally you need to setup those widgets with data before you generate them. This divides our program into stuff that happens before the widgets and that which happens while interacting with them.\n",
    "- Before you create the widgets, you'll need to:\n",
    "    - load in the dataset into a dataframe\n",
    "    - generate your columns (`DayOfWeek` and `Colors`)\n",
    "    - create the neccessary lists for 3 widgets using `dedupe_series()`\n",
    "    - NOTE: `curated_colors` the 4th widget is mostly all set, but you should `insert()` the `*ANY*` into the list in case the user doesn't want to select a color.\n",
    "- Under your `interact_manual` you should follow the search pattern that is used in the EETE code. You are just adding two more `if` cases for the day of the week and color filters.\n",
    "\n",
    "\n",
    "You must write the algorithm in the Problem Analysis section, or risk not getting full credit for the assignment. "
   ]
  },
  {
   "cell_type": "code",
   "execution_count": null,
   "metadata": {
    "tags": []
   },
   "outputs": [],
   "source": [
    "# SOLUTION CELL 2.5\n",
    "import pandas as pd\n",
    "import numpy as np\n",
    "import warnings\n",
    "from IPython.display import display, HTML\n",
    "from ipywidgets import interact_manual\n",
    "warnings.filterwarnings('ignore')\n",
    "pd.set_option('display.max_colwidth', None)\n",
    "\n",
    "\n",
    "# COPY read_ufo_data() function here\n",
    "\n",
    "\n",
    "# COPY dedupe_series() function here\n",
    "\n",
    "\n",
    "# COPY get_day_of_week() function here\n",
    "\n",
    "\n",
    "# COPY extract_colors() function here\n",
    "\n",
    "\n",
    "## BEFORE INTERACT INPUTS\n",
    "\n",
    "\n",
    "display(HTML(\"<h1>Search UFO Sightings<h1>\"))\n",
    "@interact_manual(TODO-4-widgets-here)\n",
    "def onclick(TODO-4-arguments-here):\n",
    "    # build search DF then display it\n",
    "    \n",
    "\n"
   ]
  },
  {
   "cell_type": "markdown",
   "metadata": {
    "label": "homework_questions_cell"
   },
   "source": [
    "## Part 3: Metacognition\n",
    "\n",
    "These questions are designed to prompt you to reflect on your learning. Reflection is part of the assignment grade so please take time to answer the questions thoughtfully.\n",
    "\n",
    "#### 3.1 List at least 3 things you learned this week and/or throughout the process of completing this assignment?"
   ]
  },
  {
   "cell_type": "markdown",
   "metadata": {
    "label": "learned_cell"
   },
   "source": []
  },
  {
   "cell_type": "markdown",
   "metadata": {},
   "source": [
    "#### 3.2 What were the challenges or roadblocks (if any) you encountered on the way to completing it?"
   ]
  },
  {
   "cell_type": "markdown",
   "metadata": {
    "label": "challenges_cell"
   },
   "source": []
  },
  {
   "cell_type": "markdown",
   "metadata": {},
   "source": [
    "#### 3.3 Were you prepared for this assignment? What can you do to be better prepared?"
   ]
  },
  {
   "cell_type": "markdown",
   "metadata": {
    "label": "prepared_cell"
   },
   "source": []
  },
  {
   "cell_type": "markdown",
   "metadata": {},
   "source": [
    "#### 3.4 Did someone (or something such as AI) help you? Did You help someone? Provide details. "
   ]
  },
  {
   "cell_type": "markdown",
   "metadata": {
    "label": "help_cell"
   },
   "source": []
  },
  {
   "cell_type": "markdown",
   "metadata": {},
   "source": [
    "#### 3.5  Now that you have completed the assignment rate your comfort level with this week’s material. This should be an honest assessment of your ability: \n",
    "\n",
    "**1** ==> I don't understand this at all yet and need extra help. If you choose this please try to articulate that which you do not understand to the best of your ability in the questions and comments section below.  \n",
    "**2** ==> I can do this with help or guidance from other people or resources. If you choose this level, please indicate HOW this person helped you in the questions and comments section below.   \n",
    "**3** ==> I can do this on my own without any help.   \n",
    "**4** ==> I can do this on my own and can explain/teach how to do it to others.\n",
    "\n",
    "`ENTER A NUMBER 1-4 IN THE CELL BELOW`"
   ]
  },
  {
   "cell_type": "markdown",
   "metadata": {
    "label": "comfort_cell"
   },
   "source": []
  },
  {
   "cell_type": "markdown",
   "metadata": {
    "label": ""
   },
   "source": [
    "## Part 4: Turning it in\n",
    "\n",
    "FIRST AND FOREMOST: **Save Your work!** Yes, it auto-saves, but you should get in the habit of saving before submitting. From the menu, choose File --> Save Notebook. Or you can use the shortcut keys `CTRL+S`\n",
    "\n",
    "### Homework Check\n",
    "\n",
    "Check your homework before submitting. Look for errors and incomplete parts which might cost you a better grade."
   ]
  },
  {
   "cell_type": "code",
   "execution_count": null,
   "metadata": {
    "tags": []
   },
   "outputs": [],
   "source": [
    "from casstools.notebook_tools import NotebookFile\n",
    "NotebookFile().check_homework()"
   ]
  },
  {
   "cell_type": "markdown",
   "metadata": {
    "label": ""
   },
   "source": [
    "### Homework Submission\n",
    "\n",
    "Run this code and follow the instructions to turn in your homework."
   ]
  },
  {
   "cell_type": "code",
   "execution_count": null,
   "metadata": {},
   "outputs": [],
   "source": [
    "from casstools.assignment import Assignment\n",
    "Assignment().submit()"
   ]
  },
  {
   "cell_type": "code",
   "execution_count": null,
   "metadata": {},
   "outputs": [],
   "source": []
  }
 ],
 "metadata": {
  "anaconda-cloud": {},
  "celltoolbar": "Edit Metadata",
  "kernelspec": {
   "display_name": "Python 3 (ipykernel)",
   "language": "python",
   "name": "python3"
  },
  "language_info": {
   "codemirror_mode": {
    "name": "ipython",
    "version": 3
   },
   "file_extension": ".py",
   "mimetype": "text/x-python",
   "name": "python",
   "nbconvert_exporter": "python",
   "pygments_lexer": "ipython3",
   "version": "3.11.7"
  },
  "toc": {
   "base_numbering": 1,
   "nav_menu": {},
   "number_sections": false,
   "sideBar": false,
   "skip_h1_title": false,
   "title_cell": "Table of Contents",
   "title_sidebar": "Contents",
   "toc_cell": false,
   "toc_position": {},
   "toc_section_display": false,
   "toc_window_display": false
  },
  "varInspector": {
   "cols": {
    "lenName": 16,
    "lenType": 16,
    "lenVar": 40
   },
   "kernels_config": {
    "python": {
     "delete_cmd_postfix": "",
     "delete_cmd_prefix": "del ",
     "library": "var_list.py",
     "varRefreshCmd": "print(var_dic_list())"
    },
    "r": {
     "delete_cmd_postfix": ") ",
     "delete_cmd_prefix": "rm(",
     "library": "var_list.r",
     "varRefreshCmd": "cat(var_dic_list()) "
    }
   },
   "types_to_exclude": [
    "module",
    "function",
    "builtin_function_or_method",
    "instance",
    "_Feature"
   ],
   "window_display": false
  }
 },
 "nbformat": 4,
 "nbformat_minor": 4
}
