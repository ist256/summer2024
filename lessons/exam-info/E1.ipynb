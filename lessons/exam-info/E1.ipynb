{
 "cells": [
  {
   "cell_type": "markdown",
   "id": "289b6ee0-e4bd-4de1-ad41-2b91ccc230d6",
   "metadata": {},
   "source": [
    "# E1 Exam 1 Overview\n",
    "\n",
    "- Exams are high-stakes, summative assessments. \n",
    "- They measure the individual’s ability to recall, understand, and apply the course material. \n",
    "- They are one of two instruments in this course which measure your mastery of the learning outcomes.\n",
    "- **This is exam 1 of 4. **\n",
    "- All exams together total 80 points of the 250 that make up your grade in the course ~ 32% of your grade.\n",
    "- **You will have 25 minutes to complete 20 exam questions**.\n",
    "- Before launching the exam be sure you log out of Jupyterhub, have a blank sheet of paper and pencil/pen, and your study guide.\n",
    "- Exam will be given via Blackboard - you must log out of jupyter for the duration of the exam, it is given at the end of our regular class. Your camera must be on. Questions are randomly generated and back-tracking is not allowed. Please pay close attention to the time, once the exam closes, it cannot be re-opened. \n",
    "- Each exam focuses on specific lessons, but due to the nature of the course material, all exams are cumulative.\n",
    "- Exams are closed book but allow a sinlge page of notes. Again, Jupyterhub, or any outside resources, are prohibited. \n",
    "- Students can prepare a one page cheat sheet with typed or hand written notes and/or code samples.\n",
    "- Questions consist of multiple choice, fill-in-the blank, true/false, and short-answer.\n",
    "- If you require a special testing accommodation, I have to receive the ODS accommodation at least 2 days in advance. Your time accommodation will be built in to Blackboard for you. \n",
    "- There are no make-up exams. Exam dates are posted on the syllabus, please plan accordingly.\n",
    " \n",
    "\n",
    "## This exam focuses on these lessons:\n",
    "\n",
    "- Lesson 01: Introduction\n",
    "- Lesson 02: Variables and Types\n",
    "- Lesson 03: Conditionals \n",
    "\n",
    "\n",
    "## Know the concepts, know how they are applied\n",
    "\n",
    "- You will be expected to know the concept: what it is and how that concept is applied in Python code.\n",
    "- Get the concepts from the slides, labs, and required readings, and check yourself notes from class.  \n",
    "\n",
    "### Examples:\n",
    "\n",
    "- Concept: `//`\n",
    "  - What: Integer division operator\n",
    "  - Example: ` 11 // 3 == 3`\n",
    "- Concept: `f\"\"`\n",
    "  - What: format string for variable interpolation\n",
    "  - Example \n",
    "  ```\n",
    "  #--- code ---\n",
    "  x = \"hot\"\n",
    "  print(f\"Its {x} in here\")\n",
    "  #--- output ---\n",
    "  Its hot in here\n",
    "  ```\n",
    "- Concept: `>`\n",
    "  - What: greater than Boolean relational operator\n",
    "  - Example: `5 > 4 == True`\n",
    "- Concept: `type()`\n",
    "  - What: type inspection of a variable or value\n",
    "  - Examples: \n",
    "    - `type(\"50\") == str`\n",
    "    - `type(34.5) == float`"
   ]
  },
  {
   "cell_type": "code",
   "execution_count": null,
   "id": "40cf207c-86fd-4d51-a5fd-5f97afdb0617",
   "metadata": {},
   "outputs": [],
   "source": []
  }
 ],
 "metadata": {
  "kernelspec": {
   "display_name": "Python 3 (ipykernel)",
   "language": "python",
   "name": "python3"
  },
  "language_info": {
   "codemirror_mode": {
    "name": "ipython",
    "version": 3
   },
   "file_extension": ".py",
   "mimetype": "text/x-python",
   "name": "python",
   "nbconvert_exporter": "python",
   "pygments_lexer": "ipython3",
   "version": "3.11.7"
  }
 },
 "nbformat": 4,
 "nbformat_minor": 5
}
