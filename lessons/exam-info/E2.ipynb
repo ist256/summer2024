{
 "cells": [
  {
   "cell_type": "markdown",
   "id": "289b6ee0-e4bd-4de1-ad41-2b91ccc230d6",
   "metadata": {},
   "source": [
    "# E2 Exam 2\n",
    "\n",
    "- Exams are high-stakes, summative assessments. \n",
    "- They measure the individual’s ability to recall, understand, and apply the course material. \n",
    "- They are one of two instruments in this course which measures your mastery of the learning outcomes.\n",
    "- **This exam 2 of 4**\n",
    "- All exams together total 90 points of the 256 that make up your grade in the course ~ 35% of your grade.\n",
    "- **You will have 25 minutes to complete 23 exam questions**.\n",
    "- Exam will be on paper: you will not need a computer to complete the exam.\n",
    "- Each exam focuses on specific lessons, but due to the nature of the course material, all exams are cumulative.\n",
    "- Exams are closed book. No use of notes, Jupyterhub, or any outside resources.\n",
    "- Students can bring a one page cheat sheet with typed or hand written notes and/or code samples.\n",
    "- Questions consist of multiple choice, fill-in-the blank, and short-answer.\n",
    "- If you require a special testing accommodation, you should schedule to take the exam in the CDS testing center as it will be difficult to accommodate exam time extensions in class.\n",
    "- There are no make-up exams. Exam dates are posted on the syllabus, please plan accordingly.\n",
    "- **Exam is issued at the beginning of your Small Group. It will start promptly so arrive on time. You will not get extra time if you arrive late.**\n",
    "\n",
    "## This exam focuses on these lessons:\n",
    "\n",
    "- Lesson 04: Iterations\n",
    "- Lesson 05: User-defined Functions, Modules\n",
    "- Lesson 06: Strings and Text Processing\n",
    "    - String functions: split, upper, lower, find, replace, startswith, endswith, strip\n",
    "\n",
    "## Know the concepts, know how they are applied\n",
    "\n",
    "- You will be expected to know the concept: what it is and how that concept is applied in Python code.\n",
    "- Get the conepts from the slides, labs, and assigned readings under **Required Before Large Group**\n",
    "\n",
    "### Examples:\n",
    "\n",
    "- Concept: `definite loop`\n",
    "  - What: loops a specific, pre-determined number of times\n",
    "  - Example: `for i in range(4) `\n",
    "- Concept: `iterator`\n",
    "  - What: a variable that keeps of the item in a definite loop\n",
    "  - Example \n",
    "  ```\n",
    "  for c in \"demo\": # c is the iterator\n",
    "     if c != 'e':\n",
    "         print(c) \n",
    "  OUTPUT:\n",
    "  d\n",
    "  m\n",
    "  o\n",
    "  ```\n",
    "- Concept: `argument`\n",
    "  - What: arguments are inputs into a function call\n",
    "  - Example: `math.ceil(5) # 5 is the argument`\n",
    "- Concept: `method function`\n",
    "  - What: A method function is a function where the first argument the variable on the left of the .\n",
    "  - Examples: \n",
    "    - `x = \"tony\"`\n",
    "    - `x.startswith(\"to\") # method function is .startswith() first argument is x`\n",
    "- Concept: `parse`\n",
    "  - What: Convert a text string to another type \n",
    "  - Examples: \n",
    "    - `age = int(\"35\") # parse \"35\" into the number 35`\n"
   ]
  },
  {
   "cell_type": "code",
   "execution_count": 1,
   "id": "40cf207c-86fd-4d51-a5fd-5f97afdb0617",
   "metadata": {
    "tags": []
   },
   "outputs": [
    {
     "name": "stdout",
     "output_type": "stream",
     "text": [
      "16\n"
     ]
    }
   ],
   "source": [
    "t = \"10 1 5\"\n",
    "q = 0\n",
    "for n in t.split():\n",
    "    q = q + int(n)\n",
    "print(q)\n"
   ]
  },
  {
   "cell_type": "code",
   "execution_count": 2,
   "id": "1147ae72-f3aa-4989-884b-fc581a8b24b6",
   "metadata": {
    "tags": []
   },
   "outputs": [
    {
     "name": "stdout",
     "output_type": "stream",
     "text": [
      "Q\n"
     ]
    }
   ],
   "source": [
    "def f(x):\n",
    "    y = x.strip().upper()\n",
    "    return y\n",
    "\n",
    "w = \"p\"\n",
    "x = \"q\"\n",
    "if w == \"o\":\n",
    "    z = f(w)\n",
    "else:\n",
    "    z = f(x)\n",
    "print(z)\n"
   ]
  },
  {
   "cell_type": "code",
   "execution_count": 3,
   "id": "a5b73f2a-1bae-4cfd-9cac-26ee19292560",
   "metadata": {
    "tags": []
   },
   "outputs": [
    {
     "name": "stdout",
     "output_type": "stream",
     "text": [
      "net\n"
     ]
    }
   ],
   "source": [
    "t = \"cabinet\"\n",
    "s = t[4:]\n",
    "print(s)\n"
   ]
  },
  {
   "cell_type": "code",
   "execution_count": 4,
   "id": "e7135d21-d3fa-41a4-881d-91fcefdc0133",
   "metadata": {
    "tags": []
   },
   "outputs": [
    {
     "name": "stdout",
     "output_type": "stream",
     "text": [
      "2\n"
     ]
    }
   ],
   "source": [
    "q = \"#$!?!%\"\n",
    "i = 0\n",
    "for x in q:\n",
    "    if x == \"!\":\n",
    "        break\n",
    "    i = i + 1\n",
    "print(i)\n"
   ]
  },
  {
   "cell_type": "code",
   "execution_count": 5,
   "id": "3a18c6af-63ec-4e4e-a7b3-f9867ae254b4",
   "metadata": {
    "tags": []
   },
   "outputs": [
    {
     "name": "stdout",
     "output_type": "stream",
     "text": [
      "4\n"
     ]
    }
   ],
   "source": [
    "text = \"biigbiib\"\n",
    "c = 0\n",
    "for x in text:\n",
    "    if x == \"i\":\n",
    "        c = c + 1\n",
    "print(c)\n"
   ]
  },
  {
   "cell_type": "code",
   "execution_count": 6,
   "id": "78e7400b-a0a9-4010-93dc-130f0aeb1194",
   "metadata": {
    "tags": []
   },
   "outputs": [
    {
     "name": "stdout",
     "output_type": "stream",
     "text": [
      "10\n"
     ]
    }
   ],
   "source": [
    "def doit(a, b):\n",
    "    c = a*b\n",
    "    return c\n",
    "\n",
    "x = doit(2, 1)\n",
    "y = doit(5, 2)\n",
    "print(y)\n"
   ]
  },
  {
   "cell_type": "code",
   "execution_count": 7,
   "id": "cf25b8d4-7cd3-40f6-8fb7-787edc6633f9",
   "metadata": {
    "tags": []
   },
   "outputs": [
    {
     "name": "stdout",
     "output_type": "stream",
     "text": [
      "8\n"
     ]
    }
   ],
   "source": [
    "def f1(a):\n",
    "    return a + 1\n",
    "def f2(a):\n",
    "    return a + a\n",
    "\n",
    "x = 3\n",
    "y = f1(x)\n",
    "z = f2(y)\n",
    "print(z)\n"
   ]
  },
  {
   "cell_type": "code",
   "execution_count": 8,
   "id": "b1324f18-92a1-4e4a-8cb6-473d64b8123a",
   "metadata": {
    "tags": []
   },
   "outputs": [
    {
     "name": "stdout",
     "output_type": "stream",
     "text": [
      "is\n"
     ]
    }
   ],
   "source": [
    "t = \"with is ice\"\n",
    "for q in t.split():\n",
    "    if q[0] == \"i\":\n",
    "        break\n",
    "print(q)\n"
   ]
  },
  {
   "cell_type": "code",
   "execution_count": 12,
   "id": "2c99e8aa-7c19-41c7-8927-5a7918320dd1",
   "metadata": {
    "tags": []
   },
   "outputs": [
    {
     "name": "stdout",
     "output_type": "stream",
     "text": [
      "10\n",
      "10\n"
     ]
    },
    {
     "data": {
      "text/plain": [
       "10"
      ]
     },
     "execution_count": 12,
     "metadata": {},
     "output_type": "execute_result"
    }
   ],
   "source": [
    "def foo(a: str, b: str) -> int:\n",
    "    return 10\n",
    "x = foo(\"test\", \"i\")\n",
    "print (x)\n",
    "int = foo(\"test\", \"i\")\n",
    "print (int)\n",
    "foo(\"test\", \"i\")\n",
    "\n",
    "\n"
   ]
  },
  {
   "cell_type": "code",
   "execution_count": 11,
   "id": "cfdb8da8-492a-40c1-ace9-cdabedaeb077",
   "metadata": {
    "tags": []
   },
   "outputs": [
    {
     "data": {
      "text/plain": [
       "10"
      ]
     },
     "execution_count": 11,
     "metadata": {},
     "output_type": "execute_result"
    }
   ],
   "source": [
    "foo(\"test\", \"i\")"
   ]
  },
  {
   "cell_type": "code",
   "execution_count": 3,
   "id": "bb6677ce-566f-4bd1-8b20-0b816c0b545c",
   "metadata": {},
   "outputs": [
    {
     "name": "stdout",
     "output_type": "stream",
     "text": [
      "ice\n",
      "bring your fake id\n",
      "beer\n",
      "cereal\n",
      "milk\n"
     ]
    }
   ],
   "source": [
    "groceries = \" ice beer cereal milk\"\n",
    "for item in groceries.split():\n",
    "    if item == \"beer\":\n",
    "        print(\"bring your fake id\")\n",
    "    print (item)\n"
   ]
  },
  {
   "cell_type": "code",
   "execution_count": 4,
   "id": "986904d5-df71-4e87-8e2c-d7b4c92a3e6c",
   "metadata": {
    "tags": []
   },
   "outputs": [
    {
     "name": "stdout",
     "output_type": "stream",
     "text": [
      "0\n",
      "1\n",
      "3\n",
      "6\n",
      "10\n"
     ]
    }
   ],
   "source": [
    "k = 0\n",
    "j = 10\n",
    "for j in range(5):   #so j will start over and be 0,1,2,3,4\n",
    "    k = k + j        #k = 0, then 1, then (1+2) is 3, then 6, lastly 10\n",
    "    print(k)\n"
   ]
  },
  {
   "cell_type": "code",
   "execution_count": null,
   "id": "a916825a-1ae3-43b0-b9f5-eb4cc401ea6b",
   "metadata": {},
   "outputs": [],
   "source": []
  }
 ],
 "metadata": {
  "kernelspec": {
   "display_name": "Python 3 (ipykernel)",
   "language": "python",
   "name": "python3"
  },
  "language_info": {
   "codemirror_mode": {
    "name": "ipython",
    "version": 3
   },
   "file_extension": ".py",
   "mimetype": "text/x-python",
   "name": "python",
   "nbconvert_exporter": "python",
   "pygments_lexer": "ipython3",
   "version": "3.11.7"
  }
 },
 "nbformat": 4,
 "nbformat_minor": 5
}
