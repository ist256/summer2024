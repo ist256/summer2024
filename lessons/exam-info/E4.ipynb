{
 "cells": [
  {
   "cell_type": "markdown",
   "id": "289b6ee0-e4bd-4de1-ad41-2b91ccc230d6",
   "metadata": {},
   "source": [
    "# E4 Exam 4\n",
    "\n",
    "- Exams are high-stakes, summative assessments. \n",
    "- They measure the individual’s ability to recall, understand, and apply the course material. \n",
    "- They are one of two instruments in this course which measures your mastery of the learning outcomes.\n",
    "- **This exam 4 of 4**\n",
    "- All exams together total 80 points of the 250 that make up your grade in the course ~ 33% of your grade.\n",
    "- **You will have 20 minutes to complete 15 exam questions**.\n",
    "-  Each exam focuses on specific lessons, but due to the nature of the course material, all exams are cumulative.\n",
    "- Exams are closed book. No use of notes, Jupyterhub, or any outside resources.\n",
    "- Students can use a one page cheat sheet with typed or hand written notes and/or code samples.\n",
    "- Questions consist of multiple choice, fill-in-the blank, and short-answer.\n",
    "- There are no make-up exams. Exam dates are posted on the syllabus, please plan accordingly.\n",
    "- Jupyter hub may not be used during the exam.\n",
    "- **Exam is issued at the end of our Small Group. You must be in class when we begin to get the password code. You must start when I say to start. \n",
    "\n",
    "## This exam focuses on these lessons:\n",
    "\n",
    "- Lesson 10: Pandas I\n",
    "- Lesson 11: Pandas II\n",
    "- Lesson 12: Visualization (Seaborn / Folium)\n",
    "- Lesson 13: Reading and Lab material. \n",
    "\n",
    "I strongly suggest the assigned readings for these units along with the FEQTs in your Check-Yourself datasets and the WMCx. Reset the kernel, clear the output and anticipate the correct answer BEFORE running the code. \n",
    "\n",
    "In case you want to practice, here are some simple datasets to use.\n",
    "- https://raw.githubusercontent.com/mafudge/datasets/master/delimited/fudge_companies.csv\n",
    "- https://raw.githubusercontent.com/mafudge/datasets/master/json-samples/orders.json\n",
    "\n",
    "## Know the concepts, know how they are applied\n",
    "\n",
    "- You will be expected to know the concept: what it is and how that concept is applied in Python code.\n",
    "- Get the concepts from the slides, labs, and assigned readings  \n",
    "### Examples:\n",
    "\n",
    "- Concept: `DataFrame`\n",
    "  - What: A collection of series, implemented as a table\n",
    "  - Example: `df = pd.DataFrame()` (df is the dataframe)\n",
    "\n",
    "- Concept: `Value Counts`\n",
    "  - What: A count of unique values in a series\n",
    "  - Example: `df['Column'].value_counts()` \n",
    "  \n",
    "\n"
   ]
  },
  {
   "cell_type": "code",
   "execution_count": null,
   "id": "40cf207c-86fd-4d51-a5fd-5f97afdb0617",
   "metadata": {},
   "outputs": [],
   "source": []
  }
 ],
 "metadata": {
  "kernelspec": {
   "display_name": "Python 3 (ipykernel)",
   "language": "python",
   "name": "python3"
  },
  "language_info": {
   "codemirror_mode": {
    "name": "ipython",
    "version": 3
   },
   "file_extension": ".py",
   "mimetype": "text/x-python",
   "name": "python",
   "nbconvert_exporter": "python",
   "pygments_lexer": "ipython3",
   "version": "3.11.7"
  }
 },
 "nbformat": 4,
 "nbformat_minor": 5
}
