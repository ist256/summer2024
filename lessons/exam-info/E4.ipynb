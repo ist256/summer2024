{
 "cells": [
  {
   "cell_type": "markdown",
   "id": "289b6ee0-e4bd-4de1-ad41-2b91ccc230d6",
   "metadata": {},
   "source": [
    "# E2 Exam 3\n",
    "\n",
    "- Exams are high-stakes, summative assessments. \n",
    "- They measure the individual’s ability to recall, understand, and apply the course material. \n",
    "- They are one of two instruments in this course which measures your mastery of the learning outcomes.\n",
    "- **This exam 4 of 4**\n",
    "- All exams together total 90 points of the 256 that make up your grade in the course ~ 35% of your grade.\n",
    "- **You will have 25 minutes to complete 22 exam questions**.\n",
    "- Exam will be on paper: you will not need a computer to complete the exam.\n",
    "- Each exam focuses on specific lessons, but due to the nature of the course material, all exams are cumulative.\n",
    "- Exams are closed book. No use of notes, Jupyterhub, or any outside resources.\n",
    "- Students can bring a one page cheat sheet with typed or hand written notes and/or code samples.\n",
    "- Questions consist of multiple choice, fill-in-the blank, and short-answer.\n",
    "- If you require a special testing accommodation, you should schedule to take the exam in the CDS testing center as it will be difficult to accommodate exam time extensions in class.\n",
    "- There are no make-up exams. Exam dates are posted on the syllabus, please plan accordingly.\n",
    "- **Exam is issued at the beginning of your Small Group. It will start promptly so arrive on time. You will not get extra time if you arrive late.**\n",
    "\n",
    "## This exam focuses on these lessons:\n",
    "\n",
    "- Lesson 10: Pandas I\n",
    "- Lesson 11: Pandas II\n",
    "- Lesson 12: Visualization (Seaborn / Folium)\n",
    "\n",
    "I strongly suggest the assigned readings for these units!!!\n",
    "\n",
    "In case you want to practice, I will ask you pandas related questions using these datasets:\n",
    "\n",
    "- https://raw.githubusercontent.com/mafudge/datasets/master/delimited/fudge_companies.csv\n",
    "- https://raw.githubusercontent.com/mafudge/datasets/master/json-samples/orders.json\n",
    "\n",
    "## Know the concepts, know how they are applied\n",
    "\n",
    "- You will be expected to know the concept: what it is and how that concept is applied in Python code.\n",
    "- Get the conepts from the slides, labs, and assigned readings under **Required Before Large Group**\n",
    "\n",
    "### Examples:\n",
    "\n",
    "- Concept: `DataFrame`\n",
    "  - What: A collection of series, implemented as a table\n",
    "  - Example: `df = pd.DataFrame()` (df is the dataframe)\n",
    "\n",
    "- Concept: `Value Counts`\n",
    "  - What: A count of unique values in a series\n",
    "  - Example: `df['Column'].value_counts()` \n",
    "  \n",
    "\n"
   ]
  },
  {
   "cell_type": "code",
   "execution_count": null,
   "id": "40cf207c-86fd-4d51-a5fd-5f97afdb0617",
   "metadata": {},
   "outputs": [],
   "source": []
  }
 ],
 "metadata": {
  "kernelspec": {
   "display_name": "Python 3 (ipykernel)",
   "language": "python",
   "name": "python3"
  },
  "language_info": {
   "codemirror_mode": {
    "name": "ipython",
    "version": 3
   },
   "file_extension": ".py",
   "mimetype": "text/x-python",
   "name": "python",
   "nbconvert_exporter": "python",
   "pygments_lexer": "ipython3",
   "version": "3.11.7"
  }
 },
 "nbformat": 4,
 "nbformat_minor": 5
}
