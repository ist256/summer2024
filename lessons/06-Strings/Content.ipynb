{
 "cells": [
  {
   "cell_type": "markdown",
   "id": "cd3da2c6-2236-4632-a155-031f477e994f",
   "metadata": {},
   "source": [
    "## Lesson 06: Strings\n",
    "\n",
    "### Overview\n",
    "\n",
    "In this lesson we learn:\n",
    "\n",
    "- Strings as an immutable sequence of characters.\n",
    "- Index and Slice notation for retrieving sub-strings.\n",
    "- Built-in string functions to perform operations on strings.\n",
    "- Techniques for parsing and tokenizing string data.\n",
    "- How to sanitize input with string functions.\n",
    "\n",
    "### Required Before Large Group\n",
    "\n",
    "- READ: [Severance Ch 6: Strings](https://books.trinket.io/pfe/06-strings.html)\n",
    "- VIDEO: Python for Everybody: [Ch6 Part 1](https://youtu.be/dr98iM4app8) | [Part 2](https://youtu.be/bIFpJ-qZ3Cc), by Charles Severance\n",
    "\n",
    "### Additional Resources\n",
    "\n",
    "- VIDEO: [How to Use Strings in Python, by Programming with Mosh](https://youtu.be/Ctqi5Y4X-jA?si=hCNLTlPrM8s7em5q)\n",
    "- VIDEO: [End to End Example: Strings, by Michael Fudge](https://youtu.be/5ONnMc0rw_k)\n",
    "- VIDEO: [Lab Walk Through, by Michael Fudge](https://youtu.be/StVUoVsi_NI)\n",
    "- VIDEO: [Homework Advice, by Michael Fudge](https://youtu.be/1Gnv6KYbWb4)"
   ]
  },
  {
   "cell_type": "code",
   "execution_count": null,
   "id": "17e11db1-8a54-40ef-b17f-47ad72aae72c",
   "metadata": {},
   "outputs": [],
   "source": []
  }
 ],
 "metadata": {
  "kernelspec": {
   "display_name": "Python 3 (ipykernel)",
   "language": "python",
   "name": "python3"
  },
  "language_info": {
   "codemirror_mode": {
    "name": "ipython",
    "version": 3
   },
   "file_extension": ".py",
   "mimetype": "text/x-python",
   "name": "python",
   "nbconvert_exporter": "python",
   "pygments_lexer": "ipython3",
   "version": "3.11.7"
  }
 },
 "nbformat": 4,
 "nbformat_minor": 5
}
