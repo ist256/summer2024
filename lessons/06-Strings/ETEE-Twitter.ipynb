{
 "cells": [
  {
   "cell_type": "markdown",
   "metadata": {},
   "source": [
    "# End-To-End Example\n",
    "\n",
    "Extracting Mentions and hashtags from tweets\n",
    "\n",
    "- Mentions start with '@'\n",
    "- Hastags start with '#'\n",
    "\n",
    "\n",
    "STRATEGY:\n",
    "\n",
    "    - split tweet into words\n",
    "    - check for words that start with '@' or '#'\n",
    "    "
   ]
  },
  {
   "cell_type": "code",
   "execution_count": 6,
   "metadata": {},
   "outputs": [
    {
     "data": {
      "application/vnd.jupyter.widget-view+json": {
       "model_id": "0d1f655f98064ba8b0ee2c0533c39ccf",
       "version_major": 2,
       "version_minor": 0
      },
      "text/plain": [
       "interactive(children=(Text(value='', description='tweet'), Button(description='Run Interact', style=ButtonStyl…"
      ]
     },
     "metadata": {},
     "output_type": "display_data"
    }
   ],
   "source": [
    "from IPython.display import display, HTML\n",
    "from ipywidgets import interact_manual\n",
    "\n",
    "def print2(text):\n",
    "    display(HTML(f\"<p>{text}\"))\n",
    "\n",
    "@interact_manual(tweet=\"\")\n",
    "def main(tweet):\n",
    "    print2(f\"TWEET: {tweet}\")\n",
    "    words = tweet.split()\n",
    "    for word in words:\n",
    "        if word.startswith('@'):\n",
    "            print2(f\"MENTION: {word}\")\n",
    "        if word.startswith('#'):\n",
    "            print2(f\"HASHTAG: {word}\")"
   ]
  },
  {
   "cell_type": "code",
   "execution_count": null,
   "metadata": {},
   "outputs": [],
   "source": []
  }
 ],
 "metadata": {
  "kernelspec": {
   "display_name": "Python 3",
   "language": "python",
   "name": "python3"
  },
  "language_info": {
   "codemirror_mode": {
    "name": "ipython",
    "version": 3
   },
   "file_extension": ".py",
   "mimetype": "text/x-python",
   "name": "python",
   "nbconvert_exporter": "python",
   "pygments_lexer": "ipython3",
   "version": "3.8.6"
  }
 },
 "nbformat": 4,
 "nbformat_minor": 4
}
