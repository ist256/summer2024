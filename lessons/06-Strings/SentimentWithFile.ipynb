{
 "cells": [
  {
   "cell_type": "code",
   "execution_count": 23,
   "id": "90681cb3-2cf4-4a29-8ed0-a2cc2fc59bc5",
   "metadata": {
    "tags": []
   },
   "outputs": [
    {
     "name": "stdout",
     "output_type": "stream",
     "text": [
      "  % Total    % Received % Xferd  Average Speed   Time    Time     Time  Current\n",
      "                                 Dload  Upload   Total   Spent    Left  Speed\n",
      "100 20630  100 20630    0     0   190k      0 --:--:-- --:--:-- --:--:--  191k\n",
      "  % Total    % Received % Xferd  Average Speed   Time    Time     Time  Current\n",
      "                                 Dload  Upload   Total   Spent    Left  Speed\n",
      "100 46299  100 46299    0     0   397k      0 --:--:-- --:--:-- --:--:--  400k\n"
     ]
    }
   ],
   "source": [
    "!curl https://raw.githubusercontent.com/jeffreybreen/twitter-sentiment-analysis-tutorial-201107/master/data/opinion-lexicon-English/positive-words.txt -o positive-words.txt\n",
    "!curl https://raw.githubusercontent.com/jeffreybreen/twitter-sentiment-analysis-tutorial-201107/master/data/opinion-lexicon-English/negative-words.txt -o negative-words.txt"
   ]
  },
  {
   "cell_type": "code",
   "execution_count": 28,
   "id": "32787cc6-a025-4c21-875e-d343f077193d",
   "metadata": {
    "tags": []
   },
   "outputs": [],
   "source": [
    "def read_words(file):\n",
    "    with open(file, \"r\") as f:\n",
    "        words = [w.strip() for w in f.readlines() if not w.startswith(\";\")]\n",
    "        return words"
   ]
  },
  {
   "cell_type": "code",
   "execution_count": 20,
   "id": "71cbd03a-2518-49ff-97e9-42940671c738",
   "metadata": {
    "tags": []
   },
   "outputs": [],
   "source": [
    "def score_sentiment(pos: list[str], neg: list[str], text: str):\n",
    "    score = 0\n",
    "    for word in text.split():\n",
    "        if word in pos:\n",
    "            score += 1\n",
    "        elif word in neg:\n",
    "            score -= 1\n",
    "\n",
    "    return score"
   ]
  },
  {
   "cell_type": "code",
   "execution_count": 21,
   "id": "135542c1-543b-413b-9283-d947f8b64102",
   "metadata": {
    "tags": []
   },
   "outputs": [],
   "source": [
    "def cleanup(text: str):\n",
    "    from string import punctuation \n",
    "    text = text.lower()\n",
    "    for ch in punctuation:\n",
    "        text = text.replace(ch, \"\")\n",
    "\n",
    "    return text"
   ]
  },
  {
   "cell_type": "code",
   "execution_count": 27,
   "id": "8372cd35-5187-4519-a851-94161cb90dee",
   "metadata": {
    "tags": []
   },
   "outputs": [
    {
     "data": {
      "text/html": [
       "<H1>Sentiment Analysis</h1>"
      ],
      "text/plain": [
       "<IPython.core.display.HTML object>"
      ]
     },
     "metadata": {},
     "output_type": "display_data"
    },
    {
     "data": {
      "application/vnd.jupyter.widget-view+json": {
       "model_id": "a3054f6fa2f840e4b3c738afc05129a8",
       "version_major": 2,
       "version_minor": 0
      },
      "text/plain": [
       "interactive(children=(Textarea(value='', description='text'), Button(description='Run Interact', style=ButtonS…"
      ]
     },
     "metadata": {},
     "output_type": "display_data"
    }
   ],
   "source": [
    "# SOLUTION CELL 2.4\n",
    "from IPython.display import display, HTML\n",
    "from ipywidgets import interact_manual, widgets\n",
    "pos = read_words(\"positive-words.txt\")\n",
    "neg = read_words(\"negative-words.txt\")\n",
    "display(HTML(\"<H1>Sentiment Analysis</h1>\"))\n",
    "@interact_manual(text=widgets.Textarea())\n",
    "def onclick(text):\n",
    "    # Process here\n",
    "    text = cleanup(text)\n",
    "    sentiment = score_sentiment(pos, neg, text)\n",
    "\n",
    "    # Outputs here\n",
    "    print(f\"Sentiment Score: {sentiment}\")\n"
   ]
  },
  {
   "cell_type": "code",
   "execution_count": null,
   "id": "d91281e5-614b-4778-8b9f-50d39157cafd",
   "metadata": {},
   "outputs": [],
   "source": []
  }
 ],
 "metadata": {
  "kernelspec": {
   "display_name": "Python 3 (ipykernel)",
   "language": "python",
   "name": "python3"
  },
  "language_info": {
   "codemirror_mode": {
    "name": "ipython",
    "version": 3
   },
   "file_extension": ".py",
   "mimetype": "text/x-python",
   "name": "python",
   "nbconvert_exporter": "python",
   "pygments_lexer": "ipython3",
   "version": "3.11.7"
  }
 },
 "nbformat": 4,
 "nbformat_minor": 5
}
