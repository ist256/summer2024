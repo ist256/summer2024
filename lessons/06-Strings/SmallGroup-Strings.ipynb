{
 "cells": [
  {
   "cell_type": "markdown",
   "metadata": {
    "tags": []
   },
   "source": [
    "# Now You Code In Class: Spell Checker \n",
    "\n",
    "Let's build a rudimentary spell checker. The basic idea is as follows:\n",
    "\n",
    "- provide a list of correctly spelled words\n",
    "- check the itext words against the list of correctly spelled words\n",
    "- output any words not in the list, assuming they are misspelled.\n",
    "\n",
    "Of course we cannot provide every possible word, but we'll try to fetch words from the internet in a later assignment. \n",
    "\n",
    "Advanced Concerns:\n",
    "\n",
    "- case sensitivity `The` should equal `the`\n",
    "- stripping punctuation `orange.` should equal `orange`\n",
    "- removing whitespace ` within ` should equal `within`\n",
    "\n",
    "## Approach\n",
    "\n",
    "Let's take a **problem simplification** approach. This this approach we break the problem, into simpler problems, solve those, then add to the larger problem.\n",
    "\n",
    "1. Write a function `onlist(word, dictionary)` which returns True when we find `word` in the text string `dictionary`.\n",
    "2. Write tests to make sure 1. works\n",
    "3. Use the function to implement our spelling checker.\n",
    "4. Address advanced concerns with another function `cleanup(word)`\n",
    "5. Write tests for 4 to make sure it works\n",
    "6. Re-write the spell checker final version"
   ]
  },
  {
   "cell_type": "markdown",
   "metadata": {},
   "source": [
    "## Step 1a: Problem Analysis for `onlist()`\n",
    "\n",
    "Examples:\n",
    "\n",
    "    \"mike\" is in dictionary \"mike is a big fat bozo\" == true\n",
    "    \"fat\" is in dictionary \"mike is a big fat bozo\" == true\n",
    "    \"apple\" is not in dictionary \"mike is a big fat bozo\" == false\n",
    "\n",
    "Inputs: \n",
    "\n",
    "    PROMPT 1:\n",
    "    dictionary,  word - what we are looking for in dictionary\n",
    "\n",
    "Outputs: \n",
    "\n",
    "    PROMPT 2:\n",
    "    true or false\n",
    "    \n",
    "\n",
    "Algorithm (Steps in Program):\n",
    "\n",
    "    PROMPT 3:\n",
    "    \"fat\" is in dictionary \"mike is a big fat bozo\" == true\n",
    "    \n",
    "    for each word in the dictionary:\n",
    "        if search word equals current word:\n",
    "            found it!\n",
    "            stop looping / break\n",
    "    did not find it / false\n",
    "    \n",
    "\n",
    "How many tests are required and why?\n",
    "\n",
    "    PROMPT 4\n",
    "\n",
    "\n",
    "## Step 1b: Code the function"
   ]
  },
  {
   "cell_type": "code",
   "execution_count": 16,
   "metadata": {},
   "outputs": [],
   "source": [
    "## PROMPT 5: write function def\n",
    "def onlist(search_word: str, dictionary: str ) -> bool:\n",
    "    for word in dictionary.split():\n",
    "        if search_word == word:\n",
    "            return True\n",
    "    return False"
   ]
  },
  {
   "cell_type": "code",
   "execution_count": 3,
   "metadata": {
    "tags": []
   },
   "outputs": [],
   "source": [
    "def onlistv2(search_word,dictionary):\n",
    "    list_of_words = dictionary.split()\n",
    "    if search_word in list_of_words:\n",
    "        found = True\n",
    "    else:\n",
    "        found = False\n",
    "    return found"
   ]
  },
  {
   "cell_type": "code",
   "execution_count": 4,
   "metadata": {
    "tags": []
   },
   "outputs": [
    {
     "data": {
      "text/plain": [
       "True"
      ]
     },
     "execution_count": 4,
     "metadata": {},
     "output_type": "execute_result"
    }
   ],
   "source": [
    "onlistv2(\"people\", \"up with people\")"
   ]
  },
  {
   "cell_type": "code",
   "execution_count": 5,
   "metadata": {
    "tags": []
   },
   "outputs": [
    {
     "data": {
      "text/plain": [
       "False"
      ]
     },
     "execution_count": 5,
     "metadata": {},
     "output_type": "execute_result"
    }
   ],
   "source": [
    "onlistv2(\"peeple\", \"up with people\")"
   ]
  },
  {
   "cell_type": "markdown",
   "metadata": {},
   "source": [
    "## Step 2: Write tests\n",
    "\n",
    "Let's make sure the function works"
   ]
  },
  {
   "cell_type": "code",
   "execution_count": 6,
   "metadata": {},
   "outputs": [
    {
     "name": "stdout",
     "output_type": "stream",
     "text": [
      "For WORD=pig, DICT=horse pig cow deer EXPECT=True, ACTUAL=True\n",
      "For WORD=pigg, DICT=horse pig cow deer EXPECT=False, ACTUAL=False\n"
     ]
    }
   ],
   "source": [
    "## PROMT 6: tests\n",
    "def test_onlist(word, dictionary, expected):\n",
    "    actual = onlistv2(word, dictionary)\n",
    "    print(f\"For WORD={word}, DICT={dictionary} EXPECT={expected}, ACTUAL={actual}\")\n",
    "    assert expected == actual\n",
    "\n",
    "# call test function with test data\n",
    "test_onlist(\"pig\", \"horse pig cow deer\", True)\n",
    "test_onlist(\"pigg\", \"horse pig cow deer\", False)"
   ]
  },
  {
   "cell_type": "markdown",
   "metadata": {},
   "source": [
    "## Step 3a: Problem Analysis v1 program\n",
    "\n",
    "Spell checker 1.0 for given text and dictionary output the misspelled words.\n",
    "\n",
    "Inputs: \n",
    "\n",
    "    PROMPT 7\n",
    "    Text to spell:\n",
    "    pizza is the numberr one chioyce of students\n",
    "\n",
    "Outputs: \n",
    "\n",
    "    PROMPT 8\n",
    "    Misspellings\n",
    "    numberr\n",
    "    choiyce\n",
    "\n",
    "Algorithm (Steps in Program):\n",
    "    PROMPT 9: Use the onlist() function!!!\n",
    "    \n",
    "     text input\n",
    "     for word in text:\n",
    "         if word not spelled correctly\n",
    "             output word\n",
    "     \n",
    "## Step 3b: Code for v1 program  "
   ]
  },
  {
   "cell_type": "code",
   "execution_count": 7,
   "metadata": {},
   "outputs": [
    {
     "data": {
      "text/html": [
       "<H1>Spellchecker</h1>"
      ],
      "text/plain": [
       "<IPython.core.display.HTML object>"
      ]
     },
     "metadata": {},
     "output_type": "display_data"
    },
    {
     "data": {
      "application/vnd.jupyter.widget-view+json": {
       "model_id": "036a9dc09fd74df6beeff9d1070d4ad7",
       "version_major": 2,
       "version_minor": 0
      },
      "text/plain": [
       "interactive(children=(Textarea(value='', description='text'), Button(description='Run Interact', style=ButtonS…"
      ]
     },
     "metadata": {},
     "output_type": "display_data"
    }
   ],
   "source": [
    "from IPython.display import display, HTML\n",
    "from ipywidgets import interact_manual, widgets\n",
    "dictionary = \"this test a and an are apple bar car cat dog eat eats ate bird fish for is goes went was has the wheel food water walk swim talk talks walks swims flies tly in on at sky \"\n",
    "\n",
    "display(HTML(\"<H1>Spellchecker</h1>\"))\n",
    "@interact_manual(text=widgets.Textarea())\n",
    "def onclick(text):\n",
    "    # PROMPT 10 Write code here\n",
    "    error = 0\n",
    "\n",
    "    for word in text.split():\n",
    "        if not onlistv2(word, dictionary):\n",
    "            error = error + 1\n",
    "            print(f\"Potential Misspelling: {word}\")\n",
    "\n",
    "    if error == 0:\n",
    "        print(\"No Spelling Errors\")\n",
    "    else:\n",
    "        print(f\"{error} total mistakes.\")"
   ]
  },
  {
   "cell_type": "markdown",
   "metadata": {},
   "source": [
    "## Step 4a: Address concerns with cleanup function\n",
    "\n",
    "Let's write a `cleanup()` function to cleaned up the text:\n",
    "\n",
    "- case sensitivity `The` should equal `the`\n",
    "- stripping punctuation `orange.` should equal `orange` (see hint below)\n",
    "\n",
    "Examples:\n",
    "    \"The ORANGE!!!\" ==> \"the orange\"\n",
    "    \n",
    "    IN ==>\"What? ,The. Heck?\" \n",
    "    OUT ==> \"what the heck\"\n",
    "\n",
    "Inputs: \n",
    "\n",
    "    PROMPT 11\n",
    "\n",
    "Outputs: \n",
    "\n",
    "    PROMPT 12\n",
    "\n",
    "Algorithm (Steps in Program):\n",
    "\n",
    "    PROMPT 13\n",
    "\n",
    "How many tests are required and why?\n",
    "\n",
    "    PROMPT 14\n"
   ]
  },
  {
   "cell_type": "code",
   "execution_count": 30,
   "metadata": {},
   "outputs": [
    {
     "data": {
      "text/plain": [
       "'Huh'"
      ]
     },
     "execution_count": 30,
     "metadata": {},
     "output_type": "execute_result"
    }
   ],
   "source": [
    "# HINT Punctuation\n",
    "from string import punctuation \n",
    "punctuation\n",
    "\n",
    "text = \"Huh?!\"\n",
    "text.replace(\"?\", \"\").replace(\"!\", \"\")"
   ]
  },
  {
   "cell_type": "markdown",
   "metadata": {},
   "source": [
    "## Step 4b: Write cleanup function"
   ]
  },
  {
   "cell_type": "code",
   "execution_count": 32,
   "metadata": {},
   "outputs": [],
   "source": [
    "# PROMPT 15\n",
    "def cleanup(text: str) -> str:\n",
    "    '''\n",
    "    Cleans up text by removing any puncutation and converting the text to lowercase\n",
    "    '''\n",
    "    # This is a localized import.\n",
    "    # commonly done when a function needs OPC to work, and will be re-used.\n",
    "    from string import punctuation\n",
    "\n",
    "    for ch in text:\n",
    "        if ch in punctuation:\n",
    "            text = text.replace(ch, \"\")\n",
    "\n",
    "    return text.lower()\n"
   ]
  },
  {
   "cell_type": "markdown",
   "metadata": {},
   "source": [
    "## Step 5: Write tests\n",
    "\n",
    "Let's make sure the function works"
   ]
  },
  {
   "cell_type": "code",
   "execution_count": 33,
   "metadata": {},
   "outputs": [
    {
     "name": "stdout",
     "output_type": "stream",
     "text": [
      "For TEXT=WHAT?!?!?! ArE yOu {DOING}., EXPECT=what are you doing, ACTUAL=what are you doing\n"
     ]
    }
   ],
   "source": [
    "# PROMPT 16\n",
    "def test_cleanup(text, expected):\n",
    "    actual = cleanup(text)\n",
    "    print(f\"For TEXT={text}, EXPECT={expected}, ACTUAL={actual}\")\n",
    "    assert expected == actual\n",
    "\n",
    "# call test function with test data\n",
    "test_cleanup(\"WHAT?!?!?! ArE yOu {DOING}.\", \"what are you doing\")"
   ]
  },
  {
   "cell_type": "markdown",
   "metadata": {},
   "source": [
    "## Step 6: Rewrite final program with cleanup v2\n",
    "\n",
    "Spellchecker 2.0 deals with punctuation, whitespace and case-sensitivity\n"
   ]
  },
  {
   "cell_type": "code",
   "execution_count": 34,
   "metadata": {},
   "outputs": [
    {
     "data": {
      "text/html": [
       "<H1>Spellchecker</h1>"
      ],
      "text/plain": [
       "<IPython.core.display.HTML object>"
      ]
     },
     "metadata": {},
     "output_type": "display_data"
    },
    {
     "data": {
      "application/vnd.jupyter.widget-view+json": {
       "model_id": "c18f151df027479e86b35df7091b617e",
       "version_major": 2,
       "version_minor": 0
      },
      "text/plain": [
       "interactive(children=(Textarea(value='', description='text'), Button(description='Run Interact', style=ButtonS…"
      ]
     },
     "metadata": {},
     "output_type": "display_data"
    }
   ],
   "source": [
    "#PROMPT 17 (copy code cell from PROMPT 10 and edit to be)\n",
    "from IPython.display import display, HTML\n",
    "from ipywidgets import interact_manual, widgets\n",
    "dictionary = \"this test a and an are apple bar car cat dog eat eats ate bird fish for is goes went was has the wheel food water walk swim talk talks walks swims flies tly in on at sky \"\n",
    "\n",
    "display(HTML(\"<H1>Spellchecker</h1>\"))\n",
    "@interact_manual(text=widgets.Textarea())\n",
    "def onclick(text):\n",
    "    # PROMPT 10 Write code here\n",
    "    error = 0\n",
    "    text = cleanup(text)\n",
    "    for word in text.split():\n",
    "        if not onlist(word, dictionary):\n",
    "            error = error + 1\n",
    "            print(f\"Potential Misspelling: {word}\")\n",
    "\n",
    "    if error == 0:\n",
    "        print(\"No Spelling Errors\")\n",
    "    else:\n",
    "        print(f\"{error} total mistakes.\")"
   ]
  }
 ],
 "metadata": {
  "anaconda-cloud": {},
  "kernelspec": {
   "display_name": "Python 3 (ipykernel)",
   "language": "python",
   "name": "python3"
  },
  "language_info": {
   "codemirror_mode": {
    "name": "ipython",
    "version": 3
   },
   "file_extension": ".py",
   "mimetype": "text/x-python",
   "name": "python",
   "nbconvert_exporter": "python",
   "pygments_lexer": "ipython3",
   "version": "3.11.7"
  },
  "toc": {
   "base_numbering": 1,
   "nav_menu": {},
   "number_sections": false,
   "sideBar": false,
   "skip_h1_title": false,
   "title_cell": "Table of Contents",
   "title_sidebar": "Contents",
   "toc_cell": false,
   "toc_position": {},
   "toc_section_display": false,
   "toc_window_display": false
  },
  "varInspector": {
   "cols": {
    "lenName": 16,
    "lenType": 16,
    "lenVar": 40
   },
   "kernels_config": {
    "python": {
     "delete_cmd_postfix": "",
     "delete_cmd_prefix": "del ",
     "library": "var_list.py",
     "varRefreshCmd": "print(var_dic_list())"
    },
    "r": {
     "delete_cmd_postfix": ") ",
     "delete_cmd_prefix": "rm(",
     "library": "var_list.r",
     "varRefreshCmd": "cat(var_dic_list()) "
    }
   },
   "types_to_exclude": [
    "module",
    "function",
    "builtin_function_or_method",
    "instance",
    "_Feature"
   ],
   "window_display": false
  }
 },
 "nbformat": 4,
 "nbformat_minor": 4
}
