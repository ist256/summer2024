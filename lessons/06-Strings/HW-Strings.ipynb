{
 "cells": [
  {
   "cell_type": "markdown",
   "metadata": {},
   "source": [
    "# Homework: Understanding Sentiment Analysis\n",
    "\n",
    "**DO NOT FORGET!** The purpose of the homework is to reinforce concepts from the unit through practice and help you to become a better programmer and computational thinker. There are dozens of methods for performing sentiment analysis and all of them are better than this one... but then again this assignment really isn't about sentiment analysis! ;-)\n",
    "\n",
    "## The Problem\n",
    "\n",
    "Sentiment Analysis is a natural language processing technique used to determine the mood of text, classified as positive, negative or neutral.  It has practical applications for analyzing reactions in social media, customer relationship managment,  comments / reviews, feedback and much more. For more information, see: [https://monkeylearn.com/blog/sentiment-analysis-examples/](https://monkeylearn.com/blog/sentiment-analysis-examples/)\n",
    "\n",
    "In this homework assignment we will create a very basic sentiment analyzer that scores each word of the input text as positive `+1`, neutral `0`, or negative `-1`. The sum of all the words in the text becomes the sentiment score. Text with an overall score `>0` will be considered positive, likewise text will an overall score of `<0` will be considered negative. \n",
    "\n",
    "\n",
    "It's up to you to create the initial list of words you consider positive or negative. You will not need many to test your program. For inspiration of words you can use, consult:\n",
    "\n",
    "- Positive words:  \n",
    "[https://github.com/jeffreybreen/twitter-sentiment-analysis-tutorial-201107/blob/master/data/opinion-lexicon-English/positive-words.txt](https://github.com/jeffreybreen/twitter-sentiment-analysis-tutorial-201107/blob/master/data/opinion-lexicon-English/positive-words.txt) (Hu 2004)\n",
    "- Negative words:  \n",
    "[https://github.com/jeffreybreen/twitter-sentiment-analysis-tutorial-201107/blob/master/data/opinion-lexicon-English/negative-words.txt](https://github.com/jeffreybreen/twitter-sentiment-analysis-tutorial-201107/blob/master/data/opinion-lexicon-English/negative-words.txt) (Hu 2004)\n",
    "\n",
    "### Example Runs\n",
    "\n",
    "    Example Run #1\n",
    "\n",
    "    Input Positive Words: happy joy fun\n",
    "    Input Negative Words: angry sad mad\n",
    "    Input Text to Analyze: Carlos was a happy lad.\n",
    "    Sentiment Score: 1\n",
    "   \n",
    "\n",
    "    Example Run #2\n",
    "\n",
    "    Input Positive Words: happy joy fun\n",
    "    Input Negative Words: angry sad mad\n",
    "    Input Text to Analyze: The mad lad was a sad dad. No fun!\n",
    "    Sentiment Score: -1\n",
    "\n",
    "\n",
    "## Approach\n",
    "\n",
    "We will complete this program in several phases, using the problem simplification approach similar the last to homework assignemnts. \n",
    "\n",
    "- **You Code 2.1** Write a function, `score_sentiment()` which given 3 inputs: positive words, negative words and some text, will return an integer score of sentiment as output. Assume all inputs are lower case and do not have any punctuations. You will write this function blind - meaning you will not know whether it is actually working until You Code 2.2\n",
    "- **You Code 2.2** Write a function `test_score_sentiment()` similar to the other test functions we have written and used in this course so far.  The function should take inputs for `score_sentiment()` along with an `expected` value, it should compute the `actual` value by calling `score_sentiment()` and then print the values, and `assert expected == actual`  \n",
    "Write at least 3 tests for this function to produce an expected score of +2, -2 and 0 respectively.\n",
    "-  **You Code 2.3** Write the main program using `input()` and `print()` functions. In this step you will copy in your `clean()` function from Small Group handle punctuation and lower-cased letters.\n",
    "- **You Code 2.4** Re-write the main program to use `IPWidgets` and the `@interact_manual` decorator to auto-create the input widgets. \n",
    "\n",
    "### Citations \n",
    "++ Minqing Hu and Bing Liu. \"Mining and Summarizing Customer Reviews.\"   \n",
    "Proceedings of the ACM SIGKDD International Conference on Knowledge   \n",
    "Discovery and Data Mining (KDD-2004), Aug 22-25, 2004, Seattle,   \n",
    "Washington, USA,  "
   ]
  },
  {
   "cell_type": "markdown",
   "metadata": {
    "label": "problem_analysis_cell"
   },
   "source": [
    "## Part 1: Problem Analysis\n",
    "\n",
    "You will complete a problem analysis for the `score_sentiment()` function and the main program. \n",
    "\n",
    "Just remember the following:\n",
    "  - The `score_sentiment()` function assumes the inputs were cleaned already.\n",
    "  - The main program must `clean()` inputs before calling `score_sentiment()`\n",
    "  - you should write a detailed algorithm for `score_sentiment()` but in the main program, it should just be a step because you plan to call the function\n",
    "\n",
    "### 1.1 Program Outputs\n",
    "\n",
    "Describe your program outputs in the cell below. \n"
   ]
  },
  {
   "cell_type": "markdown",
   "metadata": {
    "editable": true,
    "label": "analysis_output_cell",
    "slideshow": {
     "slide_type": ""
    },
    "tags": []
   },
   "source": [
    "    outputs for score_sentiment() function\n",
    "    \n",
    "    outputs for main program\n",
    "    "
   ]
  },
  {
   "cell_type": "markdown",
   "metadata": {},
   "source": [
    "### 1.2 Program Inputs\n",
    "\n",
    "List out the program inputs in the cell below.\n"
   ]
  },
  {
   "cell_type": "markdown",
   "metadata": {
    "editable": true,
    "label": "analysis_input_cell",
    "slideshow": {
     "slide_type": ""
    },
    "tags": []
   },
   "source": [
    "    inputs for score_sentiment() function\n",
    "    \n",
    "    inputs for main program"
   ]
  },
  {
   "cell_type": "markdown",
   "metadata": {},
   "source": [
    "### 1.3 The Plan (Algorithm)\n",
    "\n",
    "Explain, as specifically as you can, without writing code, how the program works from input to output. Be detailed with your plan as you will need to turn it into code. \n"
   ]
  },
  {
   "cell_type": "markdown",
   "metadata": {
    "label": "analysis_plan_cell",
    "tags": []
   },
   "source": [
    "    steps for score_sentiment function\n",
    "    \n",
    "    steps for main program\n",
    "    "
   ]
  },
  {
   "cell_type": "markdown",
   "metadata": {},
   "source": [
    "## Part 2: Code Solution\n",
    "\n",
    "You may write your code in several cells, but place the complete, final working copy of your code solution within  each cell labeled `# SOLUTION CELL` everything required to make the code work should be in this cell, as this is the cell that will get evaluated. "
   ]
  },
  {
   "cell_type": "code",
   "execution_count": null,
   "metadata": {},
   "outputs": [],
   "source": []
  },
  {
   "cell_type": "code",
   "execution_count": null,
   "metadata": {},
   "outputs": [],
   "source": []
  },
  {
   "cell_type": "code",
   "execution_count": null,
   "metadata": {},
   "outputs": [],
   "source": []
  },
  {
   "cell_type": "markdown",
   "metadata": {},
   "source": [
    "### You Code 2.1 \n",
    "\n",
    "Write a function, `score_sentiment()` which given 3 inputs: positive words, negative words and some text, will return an integer score of sentiment as output. Assume all inputs are lower case and do not have any punctuations. You will write this function blind - meaning you will not know whether it is actually working until You Code 2.2\n"
   ]
  },
  {
   "cell_type": "code",
   "execution_count": 3,
   "metadata": {
    "code_cell_type": "write_code",
    "editable": true,
    "label": "2.1",
    "slideshow": {
     "slide_type": ""
    },
    "solution": [],
    "tags": [],
    "tests": [
     {
      "code": "assert score_sentiment(\"joy\",\"mad sad\",\"joy is mad\")==0",
      "include-code": true,
      "kind": "assertion"
     },
     {
      "code": "assert score_sentiment(\"joy\",\"mad sad\",\"joy i feel\")==1",
      "include-code": true,
      "kind": "assertion"
     },
     {
      "code": "assert score_sentiment(\"joy\",\"mad sad\",\"i am sad\")==-1",
      "include-code": true,
      "kind": "assertion"
     }
    ]
   },
   "outputs": [],
   "source": [
    "# SOLUTION CELL 2.1\n",
    "def score_sentiment(TODO):\n",
    "    return TODO\n"
   ]
  },
  {
   "cell_type": "markdown",
   "metadata": {},
   "source": [
    "### You Code 2.2\n",
    "\n",
    "Write a function `test_score_sentiment()` similar to the other test functions we have written and used in this course so far.  The function should take inputs for `score_sentiment()` along with an `expected` value, it should compute the `actual` value by calling `score_sentiment()` and then print the values, and `assert expected == actual`  \n",
    "Write at least 3 tests for this function to produce an expected score of +2, -2 and 0 respectively.\n"
   ]
  },
  {
   "cell_type": "code",
   "execution_count": null,
   "metadata": {
    "code_cell_type": "debug_code",
    "label": "2.2",
    "solution": [],
    "tags": []
   },
   "outputs": [],
   "source": [
    "# SOLUTION CELL 2.2\n",
    "def test_score_sentiment(pos: str, neg: str, text:str , expected: int) -> int:\n",
    "    actual = score_sentiment(pos, neg, text)\n",
    "    print(f\"For POS={pos}, NEG={neg}, TEXT={text} EXPECT={expected}, ACTUAL={actual}\")\n",
    "    assert expected == actual\n",
    "\n",
    "\n",
    "# ACTUAL TESTS HERE\n",
    "# call test_score_sentiment and write your 3 tests\n",
    "\n"
   ]
  },
  {
   "cell_type": "markdown",
   "metadata": {},
   "source": [
    "### You Code 2.3\n",
    "\n",
    "Write the main program using `input()` and `print()` functions. In this step you will copy in your `cleanup()` function from Small Group handle punctuation and lower-cased letters.\n",
    "\n",
    "This will be auto-checked based on the Example inputs at the top.\n"
   ]
  },
  {
   "cell_type": "code",
   "execution_count": 6,
   "metadata": {
    "code_cell_type": "write_code",
    "editable": true,
    "label": "2.3",
    "slideshow": {
     "slide_type": ""
    },
    "solution": [],
    "tags": [],
    "tests": [
     {
      "input-stream": "happy joy fun\nangry sad mad\nCarlos was a happy lad.\n",
      "kind": "runcode",
      "search-output": [
       "Sentiment Score: 1"
      ]
     },
     {
      "input-stream": "happy joy fun\nangry sad mad\nThe mad lad was a sad dad. No fun!\n",
      "kind": "runcode",
      "search-output": [
       "Sentiment Score: -1"
      ]
     },
     {
      "input-stream": "happy joy fun\nangry sad mad\nANGRY? SAD. HAPPY; JOY!\n",
      "kind": "runcode",
      "search-output": [
       "Sentiment Score: 0"
      ]
     }
    ]
   },
   "outputs": [],
   "source": [
    "# SOLUTION CELL 2.3\n",
    "\n",
    "# PASTE IN YOUR def cleanup... FUNCTION FROM SMALL GROUP\n",
    "\n",
    "\n",
    "# PASTE IN YOUR  def score_sentiment.. FUNCTION FROM ABOVE\n",
    "\n",
    "# On with the MAIN PROGRAM\n",
    "# INPUTS (nothing but input() statements here)\n",
    "\n",
    "# PROCESS (clean and score the sentiment)\n",
    "\n",
    "# OUTPUTS (nothing but print() statements here)\n"
   ]
  },
  {
   "cell_type": "markdown",
   "metadata": {},
   "source": [
    "### You Code 2.4 \n",
    "\n",
    "Re-write the main program to use `IPWidgets` and the `@interact_manual` decorator to auto-create the input widgets. IF you need to consult previous examples for assistance!\n",
    "\n",
    "This solution will be checked manually by your instructor"
   ]
  },
  {
   "cell_type": "code",
   "execution_count": null,
   "metadata": {},
   "outputs": [],
   "source": [
    "# SOLUTION CELL 2.4\n",
    "from IPython.display import display, HTML\n",
    "from ipywidgets import interact_manual, widgets\n",
    "\n",
    "display(HTML(\"<H1>Sentiment Analysis</h1>\"))\n",
    "@interact_manual(text=widgets.Textarea(),pos=\"\", neg=\"\")\n",
    "def onclick(TODO-REPLACE-WITH-INPUTS):\n",
    "    # Process here\n",
    "\n",
    "    # output Here\n"
   ]
  },
  {
   "cell_type": "markdown",
   "metadata": {
    "label": "homework_questions_cell"
   },
   "source": [
    "## Part 3: Metacognition\n",
    "\n",
    "These questions are designed to prompt you to reflect on your learning. Reflection is part of the assignment grade so please take time to answer the questions thoughtfully.\n",
    "\n",
    "#### 3.1 List at least 3 things you learned this week and/or throughout the process of completing this assignment?"
   ]
  },
  {
   "cell_type": "markdown",
   "metadata": {
    "label": "learned_cell",
    "tags": []
   },
   "source": []
  },
  {
   "cell_type": "markdown",
   "metadata": {},
   "source": [
    "#### 3.2 What were the challenges or roadblocks (if any) you encountered on the way to completing it?"
   ]
  },
  {
   "cell_type": "markdown",
   "metadata": {
    "label": "challenges_cell",
    "tags": []
   },
   "source": []
  },
  {
   "cell_type": "markdown",
   "metadata": {},
   "source": [
    "#### 3.3 Were you prepared for this assignment? What can you do to be better prepared?"
   ]
  },
  {
   "cell_type": "markdown",
   "metadata": {
    "label": "prepared_cell",
    "tags": []
   },
   "source": []
  },
  {
   "cell_type": "markdown",
   "metadata": {},
   "source": [
    "#### 3.4 Did someone (or something such as AI) help you? Did You help someone? Provide details. "
   ]
  },
  {
   "cell_type": "markdown",
   "metadata": {
    "label": "help_cell",
    "tags": []
   },
   "source": []
  },
  {
   "cell_type": "markdown",
   "metadata": {},
   "source": [
    "#### 3.5  Now that you have completed the assignment rate your comfort level with this week’s material. This should be an honest assessment of your ability: \n",
    "\n",
    "**1** ==> I don't understand this at all yet and need extra help. If you choose this please try to articulate that which you do not understand to the best of your ability in the questions and comments section below.  \n",
    "**2** ==> I can do this with help or guidance from other people or resources. If you choose this level, please indicate HOW this person helped you in the questions and comments section below.   \n",
    "**3** ==> I can do this on my own without any help.   \n",
    "**4** ==> I can do this on my own and can explain/teach how to do it to others.\n",
    "\n",
    "`ENTER A NUMBER 1-4 IN THE CELL BELOW`"
   ]
  },
  {
   "cell_type": "markdown",
   "metadata": {
    "label": "comfort_cell",
    "tags": []
   },
   "source": []
  },
  {
   "cell_type": "markdown",
   "metadata": {},
   "source": [
    "## Part 4: Turning it in\n",
    "\n",
    "FIRST AND FOREMOST: **Save Your work!** Yes, it auto-saves, but you should get in the habit of saving before submitting. From the menu, choose File --> Save Notebook. Or you can use the shortcut keys `CTRL+S`\n",
    "\n",
    "### Homework Check\n",
    "\n",
    "Check your homework before submitting. Look for errors and incomplete parts which might cost you a better grade."
   ]
  },
  {
   "cell_type": "code",
   "execution_count": 7,
   "metadata": {
    "tags": []
   },
   "outputs": [
    {
     "name": "stdout",
     "output_type": "stream",
     "text": [
      "❌ Metacognition 3.1 cell is blank. Thoughtful completion of this section factors into your grade.\n",
      "❌ Metacognition 3.2 cell is blank. Thoughtful completion of this section factors into your grade.\n",
      "❌ Metacognition 3.3 cell is blank. Thoughtful completion of this section factors into your grade.\n",
      "❌ Metacognition 3.4 cell is blank. Thoughtful completion of this section factors into your grade.\n",
      "❌ Metacognition 3.5 Comfort level is blank.\n",
      "❌ 2.1 Failed Test: Code: assert score_sentiment(\"joy\",\"mad sad\",\"joy is mad\")==0 Results: Traceback (most recent call last):\n",
      "  File \"<string>\", line 4, in <module>\n",
      "TypeError: score_sentiment() takes 1 positional argument but 3 were given\n",
      "\n",
      "❌ 2.1 Failed Test: Code: assert score_sentiment(\"joy\",\"mad sad\",\"joy i feel\")==1 Results: Traceback (most recent call last):\n",
      "  File \"<string>\", line 4, in <module>\n",
      "TypeError: score_sentiment() takes 1 positional argument but 3 were given\n",
      "\n",
      "❌ 2.1 Failed Test: Code: assert score_sentiment(\"joy\",\"mad sad\",\"i am sad\")==-1 Results: Traceback (most recent call last):\n",
      "  File \"<string>\", line 4, in <module>\n",
      "TypeError: score_sentiment() takes 1 positional argument but 3 were given\n",
      "\n",
      "❌ 2.3 does not have a code solution.\n"
     ]
    }
   ],
   "source": [
    "from casstools.notebook_tools import NotebookFile\n",
    "NotebookFile().check_homework()"
   ]
  },
  {
   "cell_type": "markdown",
   "metadata": {},
   "source": [
    "### Homework Submission\n",
    "\n",
    "Run this code and follow the instructions to turn in your homework."
   ]
  },
  {
   "cell_type": "code",
   "execution_count": null,
   "metadata": {},
   "outputs": [],
   "source": [
    "from casstools.assignment import Assignment\n",
    "Assignment().submit()"
   ]
  },
  {
   "cell_type": "code",
   "execution_count": null,
   "metadata": {},
   "outputs": [],
   "source": []
  }
 ],
 "metadata": {
  "anaconda-cloud": {},
  "kernelspec": {
   "display_name": "Python 3 (ipykernel)",
   "language": "python",
   "name": "python3"
  },
  "language_info": {
   "codemirror_mode": {
    "name": "ipython",
    "version": 3
   },
   "file_extension": ".py",
   "mimetype": "text/x-python",
   "name": "python",
   "nbconvert_exporter": "python",
   "pygments_lexer": "ipython3",
   "version": "3.11.7"
  },
  "toc": {
   "base_numbering": 1,
   "nav_menu": {},
   "number_sections": false,
   "sideBar": false,
   "skip_h1_title": false,
   "title_cell": "Table of Contents",
   "title_sidebar": "Contents",
   "toc_cell": false,
   "toc_position": {},
   "toc_section_display": false,
   "toc_window_display": false
  },
  "varInspector": {
   "cols": {
    "lenName": 16,
    "lenType": 16,
    "lenVar": 40
   },
   "kernels_config": {
    "python": {
     "delete_cmd_postfix": "",
     "delete_cmd_prefix": "del ",
     "library": "var_list.py",
     "varRefreshCmd": "print(var_dic_list())"
    },
    "r": {
     "delete_cmd_postfix": ") ",
     "delete_cmd_prefix": "rm(",
     "library": "var_list.r",
     "varRefreshCmd": "cat(var_dic_list()) "
    }
   },
   "types_to_exclude": [
    "module",
    "function",
    "builtin_function_or_method",
    "instance",
    "_Feature"
   ],
   "window_display": false
  }
 },
 "nbformat": 4,
 "nbformat_minor": 4
}
