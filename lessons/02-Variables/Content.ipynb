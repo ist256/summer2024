{
 "cells": [
  {
   "cell_type": "markdown",
   "id": "454cd3bb-e670-426b-903a-c48ce60eabc0",
   "metadata": {},
   "source": [
    "## Lesson 02: Variables\n",
    "\n",
    "### Overview\n",
    "\n",
    "This lesson we learn:\n",
    "\n",
    "- What is a variable? What is its purpose?\n",
    "- Variable assignment, and access.\n",
    "- Different data types for variables.\n",
    "- How to input variables of various types, check types, convert types, and print variables with formatting.\n",
    "- Arithmetic expressions, arithmetic operators, and operands.\n",
    "- Different ways to format output.\n",
    "\n",
    "### Required - reading & video Monday, Lab Tuesday, Class Wednesday and HW on Thursday\n",
    "\n",
    "- READ: [Severance Ch 1: Introduction](https://books.trinket.io/pfe/01-intro.html)\n",
    "- READ: [Severance Ch 2: Variables, Expressions, Statements](https://books.trinket.io/pfe/02-variables.html)\n",
    "- VIDEO: Python for Everybody: [Ch2 Part 1](https://youtu.be/7KHdV6FSpo8) | [Part 2](https://youtu.be/kefrGMAglGs), by Charles Severance\n",
    "- Lab: lessons/02-Variables/Lab-Variables      (due by Tuesday at 11:59pm)\n",
    "- Homework: lessons/02-Variables/HW-Variables  (due by Friday at 11:59pm)\n",
    "\n",
    "### Additional Resources\n",
    "\n",
    "- VIDEO: [End to End Example: Variables and Types, by Michael Fudge](https://youtu.be/ZZQa2Avm2YE)\n",
    "- VIDEO: [Lab 02 Walk Through, by Michael Fudge](https://youtu.be/YRbh6MWUjKE)\n",
    "- VIDEO: [Homework Advice 02, by Michael Fudge](https://youtu.be/ML-UCIWEAks)\n"
   ]
  },
  {
   "cell_type": "code",
   "execution_count": null,
   "id": "3979dd06-b1cd-459e-96dd-51ad3218aa19",
   "metadata": {},
   "outputs": [],
   "source": []
  }
 ],
 "metadata": {
  "kernelspec": {
   "display_name": "Python 3 (ipykernel)",
   "language": "python",
   "name": "python3"
  },
  "language_info": {
   "codemirror_mode": {
    "name": "ipython",
    "version": 3
   },
   "file_extension": ".py",
   "mimetype": "text/x-python",
   "name": "python",
   "nbconvert_exporter": "python",
   "pygments_lexer": "ipython3",
   "version": "3.11.7"
  }
 },
 "nbformat": 4,
 "nbformat_minor": 5
}
