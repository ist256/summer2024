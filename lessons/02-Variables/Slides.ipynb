{
 "cells": [
  {
   "cell_type": "markdown",
   "metadata": {
    "slideshow": {
     "slide_type": "slide"
    }
   },
   "source": [
    "# IST256 Lesson 02\n",
    "## Input, Output, Variables and Types\n",
    "\n",
    "\n",
    "- Severance Ch 2"
   ]
  },
  {
   "cell_type": "markdown",
   "metadata": {
    "slideshow": {
     "slide_type": "slide"
    }
   },
   "source": [
    "# Agenda\n",
    "\n",
    "- What is a variable? What is its purpose?\n",
    "- Different data types for variables.\n",
    "- Type checks and conversions.\n",
    "- Print variables of different types with formatting\n",
    "- Input variables of different types. \n",
    "- Arithmetic expressions, arithmetic operators, and operands."
   ]
  },
  {
   "cell_type": "markdown",
   "metadata": {
    "slideshow": {
     "slide_type": "slide"
    }
   },
   "source": [
    "# Online Class Recommendation: \n",
    "\n",
    "- I will write code in class - a lot of code. \n",
    "- Do NOT try to code along with me. It will only frustrate you. \n",
    "- Instead observe, take notes ask questions and participate!\n",
    "- I will give you the code later. In some cases you have the code already.\n",
    "- Again, ask questions. But try to avoid asking about code you may be writing while I am lecturing. It is unlikely that it will work and there won't be time to share screens and correct your errors.\n",
    "\n"
   ]
  },
  {
   "cell_type": "markdown",
   "metadata": {
    "slideshow": {
     "slide_type": "slide"
    }
   },
   "source": [
    "# Connect Activity \n",
    "\n",
    "These statements are out of sequence, which letter represents the 3rd step in this program?:\n",
    "\n",
    "A. `print(\"Hello\", name)`  \n",
    "B. `fn=input(\"Enter First Name:\")`  \n",
    "C. `name = fn + \" \" + ln`    \n",
    "D. `ln=input(\"Enter Last Name:\")`   \n",
    "\n"
   ]
  },
  {
   "cell_type": "markdown",
   "metadata": {
    "slideshow": {
     "slide_type": "slide"
    }
   },
   "source": [
    "# Variables\n",
    "\n",
    "- **Variables** are named areas of computer memory for storing data. \n",
    "- The **name** can be anything but should make symbolic sense to the programmer.\n",
    "- We **write** to the variable’s memory location with the assignment statement (=)\n",
    "- We **read** from the variable by calling its name. \n",
    "- Variable names must begin with a letter or _ and must only contain letters, numbers or _.\n"
   ]
  },
  {
   "cell_type": "markdown",
   "metadata": {
    "slideshow": {
     "slide_type": "slide"
    }
   },
   "source": [
    "# Variables, Types and Assignment\n",
    "\n",
    "\n",
    "![](https://i.imgur.com/TtTNDFx.png)\n"
   ]
  },
  {
   "cell_type": "markdown",
   "metadata": {
    "slideshow": {
     "slide_type": "slide"
    }
   },
   "source": [
    "# Variables are of a Specific Type\n",
    "\n",
    "<table style=\"font-size:1.2em;\">\n",
    "    <thead><tr>\n",
    "        <th>Type</th>\n",
    "        <th>Purpose</th>\n",
    "        <th>Examples</th>\n",
    "    </tr></thead>\n",
    "    <tbody>\n",
    "    <tr>\n",
    "        <td><code>int</code></td>\n",
    "        <td>Numeric type for integers only</td>\n",
    "        <td>45, -10</td>\n",
    "    </tr>\n",
    "    <tr>\n",
    "        <td><code>float</code></td>\n",
    "        <td>Numeric type floating point numbers</td>\n",
    "        <td>45.3, -10.0</td>\n",
    "    </tr>\n",
    "    <tr>\n",
    "        <td><code>bool</code></td>\n",
    "        <td>True or False values</td>\n",
    "        <td>True, False</td>\n",
    "    </tr>\n",
    "    <tr>\n",
    "        <td><code>str</code></td>\n",
    "        <td>Characters and text</td>\n",
    "        <td>\"A\", 'Mike'</td>\n",
    "    </tr>\n",
    "  </tbody>\n",
    "</table>"
   ]
  },
  {
   "cell_type": "markdown",
   "metadata": {
    "slideshow": {
     "slide_type": "slide"
    }
   },
   "source": [
    "# Type Detection and Conversion \n",
    "\n",
    "<table style=\"font-size:1.2em;\">\n",
    "    <thead><tr>\n",
    "        <th>Python Function</th>\n",
    "        <th>What It Does</th>\n",
    "        <th>Example of Use</th>\n",
    "    </tr></thead>\n",
    "    <tbody>\n",
    "    <tr>\n",
    "        <td><code>type(<em>n</em>)</code></td>\n",
    "        <td>Returns the current type of <em>n</em></td>\n",
    "        <td><code>type(13) == int</code></td>\n",
    "    </tr>\n",
    "    <tr>\n",
    "        <td><code>int(<em>n</em>)</code></td>\n",
    "        <td>Converts <em>n</em> to type <b>int</b></td>\n",
    "        <td><code>int(\"45\") == 45</code></td>\n",
    "    </tr>\n",
    "    <tr>\n",
    "        <td><code>float(<em>n</em>)</code></td>\n",
    "        <td>Converts <em>n</em> to type <b>float</b></td>\n",
    "        <td><code>float(45) == 45.0</code></td>\n",
    "    </tr>\n",
    "    <tr>\n",
    "        <td><code>str(<em>n</em>)</code></td>\n",
    "        <td>Converts <em>n</em> to type <b>str</b></td>\n",
    "        <td><code>str(4.0) == '4.0'</code></td>\n",
    "    </tr>\n",
    "  </tbody>\n",
    "</table>"
   ]
  },
  {
   "cell_type": "markdown",
   "metadata": {
    "slideshow": {
     "slide_type": "slide"
    }
   },
   "source": [
    "# Watch Me Code 1\n",
    "\n",
    "### Understanding Variables and Types !\n",
    "\n",
    "- Assignment\n",
    "- Variables of Different Types\n",
    "- Switching Types, Type Conversion\n",
    "- Checking types with `type()`\n",
    "- Combining `input()` with `int()`, or `float()`"
   ]
  },
  {
   "cell_type": "markdown",
   "metadata": {
    "slideshow": {
     "slide_type": "slide"
    }
   },
   "source": [
    "# Check Yourself: Which Type 1?\n",
    "\n",
    "What is the value of `str(314)` ?\n",
    "\n",
    "A. `314`  \n",
    "B. `\"314\"`  \n",
    "C. `int`  \n",
    "D. `'34.0'`\n",
    "\n"
   ]
  },
  {
   "cell_type": "markdown",
   "metadata": {
    "slideshow": {
     "slide_type": "slide"
    }
   },
   "source": [
    "# Check Yourself: Which Type 2?\n",
    "\n",
    "What is the value of `type(314)` ?\n",
    "\n",
    "A. `314`  \n",
    "B. `\"314\"`  \n",
    "C. `int`  \n",
    "D. `'34.0'`\n",
    "\n"
   ]
  },
  {
   "cell_type": "markdown",
   "metadata": {
    "slideshow": {
     "slide_type": "slide"
    }
   },
   "source": [
    "# Python String Formatting\n",
    "\n",
    "<table style=\"font-size:1.0em;\">\n",
    "    <thead><tr>\n",
    "        <th>Code</th>\n",
    "        <th>Type</th>\n",
    "        <th>Example</th>\n",
    "        <th>Output</th>\n",
    "    </tr></thead>\n",
    "    <tbody>\n",
    "    <tr>\n",
    "        <td><code>%d</code></td>\n",
    "        <td><code>int</code></td>\n",
    "        <td><code>print(\"%d\" % 50)</code></td>\n",
    "        <td><code>50</code></td>\n",
    "    </tr>\n",
    "    <tr>\n",
    "        <td><code>%f</code></td>\n",
    "        <td><code>int</code></td>\n",
    "        <td><code>print(\"%.2f\" % 4.5)</code></td>\n",
    "        <td><code>4.50</code></td>\n",
    "    </tr>\n",
    "    <tr>\n",
    "        <td><code>%d</code></td>\n",
    "        <td><code>str</code></td>\n",
    "        <td><code>print(\"[%s]\" % \"mike\")</code></td>\n",
    "        <td><code>[mike]</code></td>\n",
    "    </tr>\n",
    "  </tbody>\n",
    "</table>"
   ]
  },
  {
   "cell_type": "code",
   "execution_count": null,
   "metadata": {
    "slideshow": {
     "slide_type": "fragment"
    }
   },
   "outputs": [],
   "source": [
    "name = 'mike'\n",
    "age = 45\n",
    "wage = 10.5\n",
    "print(\"%s is %d years old. He makes $%.2f/hr\" % (name, age, wage) )"
   ]
  },
  {
   "cell_type": "markdown",
   "metadata": {
    "slideshow": {
     "slide_type": "slide"
    }
   },
   "source": [
    "# Python F-String Interpolation\n",
    "\n",
    "The `f` in front of the `\"\"` tells Python to interpolate the `{}` in the string, replacing them with values of the variables."
   ]
  },
  {
   "cell_type": "code",
   "execution_count": null,
   "metadata": {
    "slideshow": {
     "slide_type": "fragment"
    }
   },
   "outputs": [],
   "source": [
    "name = 'mike'\n",
    "age = 45\n",
    "wage = 10.559\n",
    "\n",
    "print(\"%s is %d years old. He makes $%.2f/hr\" % (name, age, wage) )\n",
    "\n",
    "# f-string style\n",
    "print(f\"{name} is {age:d} years old. He makes ${wage:.2f}/hr\")"
   ]
  },
  {
   "cell_type": "markdown",
   "metadata": {
    "slideshow": {
     "slide_type": "slide"
    }
   },
   "source": [
    "# Watch Me Code 2\n",
    "\n",
    "### Python String Formatting with inputs\n",
    "\n",
    "- Inputs\n",
    "- F-strings\n",
    "- Formatting\n",
    "- Alignment\n"
   ]
  },
  {
   "cell_type": "markdown",
   "metadata": {
    "slideshow": {
     "slide_type": "slide"
    }
   },
   "source": [
    "# Check Yourself: Formatting 1\n",
    "\n",
    "This Python statement yields which output?   \n",
    "`print(\"%.1f\" % 34)`\n",
    "\n",
    "\n",
    "A. `34`  \n",
    "B. `34.0`  \n",
    "C. `$34`  \n",
    "D. `$34.0` \n",
    "\n",
    "\n"
   ]
  },
  {
   "cell_type": "markdown",
   "metadata": {
    "slideshow": {
     "slide_type": "slide"
    }
   },
   "source": [
    "# Check Yourself: Formatting 2\n",
    "\n",
    "This Python code yields which output?   \n",
    "```\n",
    "mike = 10\n",
    "print(f\"{mike:.5f}\")\n",
    "```\n",
    "\n",
    "A. `10`  \n",
    "B. `10.0`  \n",
    "C. `10.00000`  \n",
    "D. `10.5` \n",
    "\n"
   ]
  },
  {
   "cell_type": "markdown",
   "metadata": {
    "slideshow": {
     "slide_type": "slide"
    }
   },
   "source": [
    "# Programmatic Expressions\n",
    "\n",
    "Programmatic Expressions contain **operators** and **operands**. They evaluate to a value, preserving type: \n",
    "\n"
   ]
  },
  {
   "cell_type": "code",
   "execution_count": 5,
   "metadata": {
    "slideshow": {
     "slide_type": "fragment"
    }
   },
   "outputs": [
    {
     "name": "stdout",
     "output_type": "stream",
     "text": [
      "4\n",
      "4.3\n",
      "ship\n"
     ]
    },
    {
     "ename": "TypeError",
     "evalue": "can only concatenate str (not \"int\") to str",
     "output_type": "error",
     "traceback": [
      "\u001b[0;31m---------------------------------------------------------------------------\u001b[0m",
      "\u001b[0;31mTypeError\u001b[0m                                 Traceback (most recent call last)",
      "Cell \u001b[0;32mIn[5], line 4\u001b[0m\n\u001b[1;32m      2\u001b[0m \u001b[38;5;28mprint\u001b[39m(\u001b[38;5;241m2.3\u001b[39m \u001b[38;5;241m+\u001b[39m \u001b[38;5;241m2\u001b[39m)\n\u001b[1;32m      3\u001b[0m \u001b[38;5;28mprint\u001b[39m(\u001b[38;5;124m\"\u001b[39m\u001b[38;5;124msh\u001b[39m\u001b[38;5;124m\"\u001b[39m \u001b[38;5;241m+\u001b[39m \u001b[38;5;124m'\u001b[39m\u001b[38;5;124mip\u001b[39m\u001b[38;5;124m'\u001b[39m)\n\u001b[0;32m----> 4\u001b[0m \u001b[38;5;28mprint\u001b[39m(\u001b[38;5;124;43m'\u001b[39;49m\u001b[38;5;124;43mhi\u001b[39;49m\u001b[38;5;124;43m'\u001b[39;49m\u001b[43m \u001b[49m\u001b[38;5;241;43m+\u001b[39;49m\u001b[43m \u001b[49m\u001b[38;5;241;43m2\u001b[39;49m)\n",
      "\u001b[0;31mTypeError\u001b[0m: can only concatenate str (not \"int\") to str"
     ]
    }
   ],
   "source": [
    "print(2 + 2)\n",
    "print(2.3 + 2)\n",
    "print(\"sh\" + 'ip')\n",
    "print('hi' + 2)"
   ]
  },
  {
   "cell_type": "markdown",
   "metadata": {
    "slideshow": {
     "slide_type": "slide"
    }
   },
   "source": [
    "# Arithmetic Operators\n",
    "\n",
    "<table style=\"font-size:1.2em;\">\n",
    "    <thead><tr>\n",
    "        <th>Operator</th>\n",
    "        <th>What it Does</th>\n",
    "        <th>Example of Use</th>\n",
    "    </tr></thead>\n",
    "    <tbody>\n",
    "    <tr>\n",
    "        <td><code>+</code></td>\n",
    "        <td>Addition or string concenation</td>\n",
    "        <td><code>3 + 4 == 7</code></td>\n",
    "    </tr>\n",
    "    <tr>\n",
    "        <td><code>-</code></td>\n",
    "        <td>Subtraction</td>\n",
    "        <td><code>4 - 3 == 1</code></td>\n",
    "    </tr>\n",
    "    <tr>\n",
    "        <td><code>*</code></td>\n",
    "        <td>Multiplication</td>\n",
    "        <td><code>3 * 4 == 12</code></td>\n",
    "    </tr>\n",
    "    <tr>\n",
    "        <td><code>/</code></td>\n",
    "        <td>Division</td>\n",
    "        <td><code>4 / 3 == 1.33333</code></td>\n",
    "    </tr>\n",
    "    <tr>\n",
    "        <td><code>//</code></td>\n",
    "        <td>Integer division (quotent)</td>\n",
    "        <td><code>13 // 3 == 4</code></td>\n",
    "    </tr>\n",
    "    <tr>\n",
    "        <td><code>%</code></td>\n",
    "        <td>Modulo (remainder)</td>\n",
    "        <td><code>13 % 3 == 1</code></td>\n",
    "    </tr>\n",
    "    <tr>\n",
    "        <td><code>( )</code></td>\n",
    "        <td>Force an order of operations</td>\n",
    "        <td><code>2 * (3 + 4) == 14</code></td>\n",
    "    </tr>\n",
    "  </tbody>\n",
    "</table>"
   ]
  },
  {
   "cell_type": "markdown",
   "metadata": {
    "slideshow": {
     "slide_type": "slide"
    }
   },
   "source": [
    "# Check Yourself: Operators\n",
    "\n",
    "What is the output of the following python code?\n",
    "```\n",
    "a = 10\n",
    "b = 2\n",
    "c = 1 + (a/b)\n",
    "print(c)\n",
    "```\n",
    "\n",
    "A. `6`  \n",
    "B. `5.5`  \n",
    "C. `6.0`  \n",
    "D. `5` \n",
    "\n"
   ]
  },
  {
   "cell_type": "markdown",
   "metadata": {
    "slideshow": {
     "slide_type": "slide"
    }
   },
   "source": [
    "# End To End Example\n",
    "\n",
    "### The Pay-Rate Calculator:\n",
    "\n",
    "- Write a program to prompt for hourly rate, and hours worked for the week as inputs\n",
    "- Then calculates the total pay as output. \n",
    "- Then prompts for tax rate as input, and outputs net pay.\n",
    "- See coded solution in lessons/02-Variables/ETEE-Pay-Rate_Calculator.ipynb\n"
   ]
  },
  {
   "cell_type": "markdown",
   "metadata": {
    "slideshow": {
     "slide_type": "slide"
    }
   },
   "source": [
    "# Conclusion Activity Exit Ticket\n",
    "\n",
    "What is the value of: `type(int(\"1\"+\"4\")/2)` ?\n",
    "\n",
    "A. `float`   \n",
    "A. `int`   \n",
    "A. `7`   \n",
    "A. `7.0`   \n",
    "\n",
    "\n"
   ]
  }
 ],
 "metadata": {
  "celltoolbar": "Slideshow",
  "kernelspec": {
   "display_name": "Python 3 (ipykernel)",
   "language": "python",
   "name": "python3"
  },
  "language_info": {
   "codemirror_mode": {
    "name": "ipython",
    "version": 3
   },
   "file_extension": ".py",
   "mimetype": "text/x-python",
   "name": "python",
   "nbconvert_exporter": "python",
   "pygments_lexer": "ipython3",
   "version": "3.11.7"
  },
  "toc": {
   "base_numbering": 1,
   "nav_menu": {},
   "number_sections": false,
   "sideBar": false,
   "skip_h1_title": false,
   "title_cell": "Table of Contents",
   "title_sidebar": "Contents",
   "toc_cell": false,
   "toc_position": {},
   "toc_section_display": false,
   "toc_window_display": false
  },
  "varInspector": {
   "cols": {
    "lenName": 16,
    "lenType": 16,
    "lenVar": 40
   },
   "kernels_config": {
    "python": {
     "delete_cmd_postfix": "",
     "delete_cmd_prefix": "del ",
     "library": "var_list.py",
     "varRefreshCmd": "print(var_dic_list())"
    },
    "r": {
     "delete_cmd_postfix": ") ",
     "delete_cmd_prefix": "rm(",
     "library": "var_list.r",
     "varRefreshCmd": "cat(var_dic_list()) "
    }
   },
   "types_to_exclude": [
    "module",
    "function",
    "builtin_function_or_method",
    "instance",
    "_Feature"
   ],
   "window_display": false
  }
 },
 "nbformat": 4,
 "nbformat_minor": 4
}
