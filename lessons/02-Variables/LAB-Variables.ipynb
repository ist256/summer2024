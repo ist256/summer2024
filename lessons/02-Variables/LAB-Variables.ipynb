{
 "cells": [
  {
   "cell_type": "markdown",
   "metadata": {},
   "source": [
    "# Class Coding Lab: Variables And Types\n",
    "\n",
    "The goals of this lab are to help you to understand:\n",
    "\n",
    "1. Python data types\n",
    "1. Getting input as different types\n",
    "1. Formatting output as different types\n",
    "1. Basic arithmetic operators\n",
    "1. How to create a program from an idea."
   ]
  },
  {
   "cell_type": "markdown",
   "metadata": {},
   "source": [
    "## Variable Types\n",
    "\n",
    "Every Python variable has a **type**. The Type determines how the data is stored in the computer's memory: "
   ]
  },
  {
   "cell_type": "code",
   "execution_count": 1,
   "metadata": {
    "code_cell_type": "run_code"
   },
   "outputs": [
    {
     "data": {
      "text/plain": [
       "str"
      ]
     },
     "execution_count": 1,
     "metadata": {},
     "output_type": "execute_result"
    }
   ],
   "source": [
    "a = \"9\"\n",
    "type(a) # should be str"
   ]
  },
  {
   "cell_type": "code",
   "execution_count": 2,
   "metadata": {
    "code_cell_type": "run_code"
   },
   "outputs": [
    {
     "data": {
      "text/plain": [
       "int"
      ]
     },
     "execution_count": 2,
     "metadata": {},
     "output_type": "execute_result"
    }
   ],
   "source": [
    "a = 4\n",
    "type(a) # should be int"
   ]
  },
  {
   "cell_type": "markdown",
   "metadata": {},
   "source": [
    "### Types Matter \n",
    "\n",
    "Python's built in functions and operators work differently depending on the type of the variable.:"
   ]
  },
  {
   "cell_type": "code",
   "execution_count": 4,
   "metadata": {
    "code_cell_type": "run_code",
    "tags": []
   },
   "outputs": [
    {
     "data": {
      "text/plain": [
       "9"
      ]
     },
     "execution_count": 4,
     "metadata": {},
     "output_type": "execute_result"
    }
   ],
   "source": [
    "a = 4\n",
    "b = 5\n",
    "a + b # the \"+\" in this case means add so 9"
   ]
  },
  {
   "cell_type": "code",
   "execution_count": null,
   "metadata": {
    "code_cell_type": "run_code"
   },
   "outputs": [],
   "source": [
    "a = \"4\"\n",
    "b = \"5\"\n",
    "a + b # the \"+\" in this case means concatenation, so '45'"
   ]
  },
  {
   "cell_type": "code",
   "execution_count": 1,
   "metadata": {
    "tags": []
   },
   "outputs": [
    {
     "name": "stdin",
     "output_type": "stream",
     "text": [
      "What is your name:  Prof Nosky\n"
     ]
    },
    {
     "name": "stdout",
     "output_type": "stream",
     "text": [
      "Hello Prof Nosky\n"
     ]
    }
   ],
   "source": [
    "name = input(\"What is your name: \")\n",
    "print(\"Hello\", name)"
   ]
  },
  {
   "cell_type": "markdown",
   "metadata": {},
   "source": [
    "### Switching Types\n",
    "\n",
    "there are built-in Python functions for switching types. For example:"
   ]
  },
  {
   "cell_type": "code",
   "execution_count": null,
   "metadata": {
    "code_cell_type": "run_code"
   },
   "outputs": [],
   "source": [
    "x = \"45\" # x is a str\n",
    "y = int(x)  # y is now an int\n",
    "z = float(x) # z is a float\n",
    "print(x,y,z)"
   ]
  },
  {
   "cell_type": "markdown",
   "metadata": {},
   "source": [
    "### Inputs type str\n",
    "\n",
    "When you use the `input()` function the result is of type `str`:\n"
   ]
  },
  {
   "cell_type": "code",
   "execution_count": null,
   "metadata": {
    "code_cell_type": "run_code"
   },
   "outputs": [],
   "source": [
    "age = input(\"Enter your age: \")\n",
    "type(age)"
   ]
  },
  {
   "cell_type": "markdown",
   "metadata": {},
   "source": [
    "We can use a built in Python function to convert the type from `str` to our desired type:"
   ]
  },
  {
   "cell_type": "code",
   "execution_count": null,
   "metadata": {
    "code_cell_type": "run_code"
   },
   "outputs": [],
   "source": [
    "age = input(\"Enter your age: \")\n",
    "age = int(age)\n",
    "type(age)"
   ]
  },
  {
   "cell_type": "markdown",
   "metadata": {},
   "source": [
    "We typically combine the first two lines into one expression like this:"
   ]
  },
  {
   "cell_type": "code",
   "execution_count": null,
   "metadata": {
    "code_cell_type": "run_code"
   },
   "outputs": [],
   "source": [
    "age = int(input(\"Enter your age: \"))\n",
    "type(age)"
   ]
  },
  {
   "cell_type": "markdown",
   "metadata": {},
   "source": [
    "### 1.1 You Code: Debuging\n",
    "\n",
    "The following program has errors in it. Your task is to fix the errors so that:\n",
    "\n",
    "- your age can be input and convertred to an integer.\n",
    "- the program outputs your age and your age next year. \n",
    "\n",
    "For example:\n",
    "```\n",
    "Enter your age: 45\n",
    "Today you are 45 next year you will be 46\n",
    "```"
   ]
  },
  {
   "cell_type": "code",
   "execution_count": 5,
   "metadata": {
    "code_cell_type": "debug_code",
    "label": "1.1",
    "solution": [
     "age = int(input(\"Enter your age: \"))\n",
     "nextage = age + 1\n",
     "print(f\"Today you are {age} next year you will be {nextage}\")\n"
    ]
   },
   "outputs": [
    {
     "name": "stdin",
     "output_type": "stream",
     "text": [
      "Enter your age:  45\n"
     ]
    },
    {
     "name": "stdout",
     "output_type": "stream",
     "text": [
      "Today you are 45 next year you will be 46\n"
     ]
    }
   ],
   "source": [
    "# TODO: Debug this code\n",
    "age = int(input(\"Enter your age: \"))\n",
    "nextage = age + 1\n",
    "print(f\"Today you are {age} next year you will be {nextage}\")"
   ]
  },
  {
   "cell_type": "markdown",
   "metadata": {},
   "source": [
    "## Format Codes\n",
    "\n",
    "Python has some string format codes which allow us to control the output of our variables. \n",
    "\n",
    "- %s = format variable as str\n",
    "- %d = format variable as int\n",
    "- %f = format variable as float\n",
    "\n",
    "You can also include the number of spaces to use for example `%5.2f` prints a float with 5 spaces 2 to the right of the decimal point."
   ]
  },
  {
   "cell_type": "code",
   "execution_count": 3,
   "metadata": {
    "code_cell_type": "run_code"
   },
   "outputs": [
    {
     "name": "stdout",
     "output_type": "stream",
     "text": [
      "Mike is 45 years old. His gpa is 3.400\n"
     ]
    }
   ],
   "source": [
    "name = \"Mike\"\n",
    "age = 45\n",
    "gpa = 3.4\n",
    "print(\"%s is %d years old. His gpa is %.3f\" % (name, age,gpa))\n",
    "# Type inference"
   ]
  },
  {
   "cell_type": "markdown",
   "metadata": {},
   "source": [
    "## Formatting with F-Strings\n",
    "\n",
    "The other method of formatting data in Python is F-strings. As we saw in the last lab, F-strings use interpolation to specify the variables we would like to print in-line with the print string.\n",
    "\n",
    "You can format an f-string\n",
    "\n",
    "- `{var:d}` formats `var` as integer\n",
    "- `{var:f}` formats `var` as float\n",
    "- `{var:.3f}` formats `var` as float to `3` decimal places.\n",
    "\n",
    "Example:"
   ]
  },
  {
   "cell_type": "code",
   "execution_count": null,
   "metadata": {
    "code_cell_type": "run_code"
   },
   "outputs": [],
   "source": [
    "name =\"Mike\"\n",
    "wage = 15\n",
    "print(f\"{name} makes ${wage:.2f} per hour\")"
   ]
  },
  {
   "cell_type": "markdown",
   "metadata": {},
   "source": [
    "### 1.2 You Code\n",
    "\n",
    "Re-write the program from (1.1 You Code) so that the print statement uses format codes. Remember: do not copy code, as practice, re-write it.\n"
   ]
  },
  {
   "cell_type": "code",
   "execution_count": null,
   "metadata": {
    "code_cell_type": "write_code",
    "label": "1.2",
    "solution": [
     "age = int(input(\"Enter your age: \"))\n",
     "nextage = age + 1\n",
     "print(\"Today you are %d next year you will be %d\" % (age,nextage))\n"
    ]
   },
   "outputs": [],
   "source": [
    "# TODO: Write code here\n"
   ]
  },
  {
   "cell_type": "markdown",
   "metadata": {},
   "source": [
    "### 1.3 You Code\n",
    "\n",
    "Use F-strings or format codes to Print the PI variable out 3 times. \n",
    "\n",
    "- Once as a string, \n",
    "- Once as an int, and \n",
    "- Once as a float to 4 decimal places. \n"
   ]
  },
  {
   "cell_type": "code",
   "execution_count": null,
   "metadata": {
    "code_cell_type": "write_code",
    "label": "1.3",
    "solution": [
     "PI = 3.1415927\n",
     "print(\"%s\" % PI)\n",
     "print(\"%d\" % PI)\n",
     "print(\"%.4f\" % PI)\n"
    ]
   },
   "outputs": [],
   "source": [
    "#TODO: Write Code Here"
   ]
  },
  {
   "cell_type": "markdown",
   "metadata": {},
   "source": [
    "## Putting it all together: Fred's Fence Estimator\n",
    "\n",
    "Fred's Fence has hired you to write a program to  estimate the cost of their fencing projects. For a given length and width you will calculate the number of 6 foot fence sections, and the total cost of the project. Each fence section costs $23.95. Assume the posts and labor are free.\n",
    "\n",
    "Program Inputs:\n",
    "\n",
    "- Length of yard in feet\n",
    "- Width of yard in feet\n",
    "    \n",
    "Program Outputs:\n",
    "\n",
    "- Perimeter of yard ( 2 x (Length + Width))\n",
    "- Number of fence sections required (Permiemer divided by 6 )\n",
    "- Total cost for fence ( fence sections multiplied by $23.95 )\n",
    "    \n",
    "NOTE: All outputs should be formatted to 2 decimal places: e.g. 123.05 "
   ]
  },
  {
   "cell_type": "markdown",
   "metadata": {},
   "source": [
    "```\n",
    "#TODO:\n",
    "# 1. Input length of yard as float, assign to a variable\n",
    "# 2. Input Width of yard as float, assign to a variable\n",
    "# 3. Calculate perimeter of yard, assign to a variable\n",
    "# 4. calculate number of fence sections, assign to a variable \n",
    "# 5. calculate total cost, assign to variable\n",
    "# 6. print perimeter of yard\n",
    "# 7. print number of fence sections\n",
    "# 8. print total cost for fence. \n",
    "```"
   ]
  },
  {
   "cell_type": "markdown",
   "metadata": {},
   "source": [
    "### 1.4 You Code\n",
    "\n",
    "Based on the provided TODO, write the program in python in the cell below. Your solution should have 8 lines of code, one for each TODO.\n",
    "\n",
    "**HINT**: Don't try to write the program in one sitting. Instead write a line of code, run it, verify it works and fix any issues with it before writing the next line of code. "
   ]
  },
  {
   "cell_type": "code",
   "execution_count": null,
   "metadata": {
    "code_cell_type": "write_code",
    "label": "1.4",
    "solution": [
     "length = float(input(\"Enter length of yard: \"))\n",
     "width = float(input(\"Enter width of yard: \"))\n",
     "perimeter = 2*(length + width)\n",
     "sections = perimeter / 6\n",
     "total = sections * 23.95\n",
     "print(f\"Perimeter: {perimeter}\")\n",
     "print(f\"Fence Sections: {sections}\")\n",
     "print(f\"Total Cost: ${total:.2f}\")\n"
    ]
   },
   "outputs": [],
   "source": [
    "# TODO: Write your code here\n"
   ]
  },
  {
   "cell_type": "markdown",
   "metadata": {},
   "source": [
    "## Metacognition\n"
   ]
  },
  {
   "cell_type": "markdown",
   "metadata": {
    "label": ""
   },
   "source": [
    "\n",
    "### Rate your comfort level with this week's material so far.   \n",
    "\n",
    "**1** ==> I don't understand this at all yet and need extra help. If you choose this please try to articulate that which you do not understand to the best of your ability in the questions and comments section below.  \n",
    "**2** ==> I can do this with help or guidance from other people or resources. If you choose this level, please indicate HOW this person helped you in the questions and comments section below.   \n",
    "**3** ==> I can do this on my own without any help.   \n",
    "**4** ==> I can do this on my own and can explain/teach how to do it to others.\n",
    "\n",
    "`ENTER A NUMBER 1-4 IN THE CELL BELOW`"
   ]
  },
  {
   "cell_type": "markdown",
   "metadata": {
    "label": "comfort_cell"
   },
   "source": []
  },
  {
   "cell_type": "markdown",
   "metadata": {
    "label": ""
   },
   "source": [
    "###  Questions And Comments \n",
    "\n",
    "Record any questions or comments you have about this lab that you would like to discuss in your recitation. It is expected you will have questions if you  complete this assignment.  Learning how to articulate what you do not understand is an important skill of critical thinking. Write your questions below so that you remember to ask them in your recitation. We expect you will take responsilbity for your learning and ask questions in class.\n",
    "\n",
    "`ENTER YOUR QUESTIONS/COMMENTS IN THE CELL BELOW`  \n",
    "\n"
   ]
  },
  {
   "cell_type": "markdown",
   "metadata": {
    "label": "question_cell"
   },
   "source": []
  },
  {
   "cell_type": "markdown",
   "metadata": {},
   "source": [
    "## How Do I hand in my Work?\n",
    "\n",
    "FIRST AND FOREMOST: **Save Your work!** Yes, it auto-saves, but you should get in the habit of saving before submitting. From the menu, choose File --> Save Notebook. Or you can use the shortcut keys `CTRL+S`\n",
    "\n",
    "### Lab Check\n",
    "\n",
    "Check your lab before submitting. Look for errors and incomplete parts which might cost you a better grade"
   ]
  },
  {
   "cell_type": "code",
   "execution_count": 6,
   "metadata": {},
   "outputs": [
    {
     "name": "stdout",
     "output_type": "stream",
     "text": [
      "❌ Not all code cells were executed.\n",
      "❌ Comfort level is blank.\n",
      "❌ Questions cell is blank. You should have a question or comment.\n",
      "❌ 1.2 you code does not have a code solution.\n",
      "❌ 1.3 you code does not have a code solution.\n",
      "❌ 1.4 you code does not have a code solution.\n"
     ]
    }
   ],
   "source": [
    "from casstools.notebook_tools import NotebookFile\n",
    "NotebookFile().check_lab()"
   ]
  },
  {
   "cell_type": "markdown",
   "metadata": {},
   "source": [
    "### Lab Submission\n",
    "\n",
    "Run this code and follow the instructions to turn in your lab. "
   ]
  },
  {
   "cell_type": "code",
   "execution_count": null,
   "metadata": {},
   "outputs": [
    {
     "name": "stdout",
     "output_type": "stream",
     "text": [
      "✅ TIMESTAMP  : 2024-05-20 19:06\n",
      "✅ COURSE     : ist256\n",
      "✅ TERM       : summer2024\n",
      "✅ USER       : dlnosky@syr.edu\n",
      "✅ STUDENT    : True\n",
      "✅ PATH       : ist256/summer2024/lessons/02-Variables/LAB-Variables.ipynb\n",
      "✅ ASSIGNMENT : LAB-Variables.ipynb\n",
      "✅ POINTS     : 5\n",
      "✅ DUE DATE   : 2024-05-21 23:59\n",
      "✅ LATE       : False\n",
      "✅ STATUS     : New Submission\n",
      "\n"
     ]
    },
    {
     "name": "stdin",
     "output_type": "stream",
     "text": [
      "❓ Submit? [y/n] ❓  y\n"
     ]
    },
    {
     "name": "stdout",
     "output_type": "stream",
     "text": [
      "\n",
      "👍 SUBMITTED\n",
      "📃 RECIEPT   : cac63436324fcf7ca0444841a0a30aec\n"
     ]
    }
   ],
   "source": [
    "from casstools.assignment import Assignment\n",
    "Assignment().submit()"
   ]
  },
  {
   "cell_type": "code",
   "execution_count": null,
   "metadata": {},
   "outputs": [],
   "source": []
  }
 ],
 "metadata": {
  "anaconda-cloud": {},
  "celltoolbar": "Edit Metadata",
  "kernelspec": {
   "display_name": "Python 3 (ipykernel)",
   "language": "python",
   "name": "python3"
  },
  "language_info": {
   "codemirror_mode": {
    "name": "ipython",
    "version": 3
   },
   "file_extension": ".py",
   "mimetype": "text/x-python",
   "name": "python",
   "nbconvert_exporter": "python",
   "pygments_lexer": "ipython3",
   "version": "3.11.7"
  },
  "toc": {
   "base_numbering": 1,
   "nav_menu": {},
   "number_sections": false,
   "sideBar": false,
   "skip_h1_title": false,
   "title_cell": "Table of Contents",
   "title_sidebar": "Contents",
   "toc_cell": false,
   "toc_position": {},
   "toc_section_display": false,
   "toc_window_display": false
  },
  "varInspector": {
   "cols": {
    "lenName": 16,
    "lenType": 16,
    "lenVar": 40
   },
   "kernels_config": {
    "python": {
     "delete_cmd_postfix": "",
     "delete_cmd_prefix": "del ",
     "library": "var_list.py",
     "varRefreshCmd": "print(var_dic_list())"
    },
    "r": {
     "delete_cmd_postfix": ") ",
     "delete_cmd_prefix": "rm(",
     "library": "var_list.r",
     "varRefreshCmd": "cat(var_dic_list()) "
    }
   },
   "position": {
    "height": "144.854px",
    "left": "1943.43px",
    "right": "20px",
    "top": "154px",
    "width": "350px"
   },
   "types_to_exclude": [
    "module",
    "function",
    "builtin_function_or_method",
    "instance",
    "_Feature"
   ],
   "window_display": true
  }
 },
 "nbformat": 4,
 "nbformat_minor": 4
}
