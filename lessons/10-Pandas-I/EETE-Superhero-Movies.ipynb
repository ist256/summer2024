{
 "cells": [
  {
   "cell_type": "markdown",
   "metadata": {},
   "source": [
    "## ETEE Superhero Movies\n",
    "\n",
    "- NOTE run the WMC2 before this one!\n",
    "- UI to search for a title\n",
    "    - use the `.str` property on the Series to access the string methods!\n",
    "- Select a range for the Composite score.\n",
    "    - use the FloatRangeSlider widget https://ipywidgets.readthedocs.io/en/latest/examples/Widget%20List.html#floatrangeslider\n",
    "- Output the Results using `display()`\n",
    "        "
   ]
  },
  {
   "cell_type": "code",
   "execution_count": 11,
   "metadata": {},
   "outputs": [],
   "source": [
    "# Figure out data frame\n",
    "from ipywidgets import interact_manual, widgets\n",
    "from IPython.display import display\n",
    "import pandas as pd\n",
    "import numpy as np\n",
    "sh = pd.read_csv(\"superhero2.csv\")"
   ]
  },
  {
   "cell_type": "code",
   "execution_count": 5,
   "metadata": {
    "tags": []
   },
   "outputs": [
    {
     "data": {
      "text/plain": [
       "0           Superman\n",
       "1        Superman II\n",
       "2       Superman III\n",
       "3          Supergirl\n",
       "4    Howard the Duck\n",
       "Name: Title, dtype: object"
      ]
     },
     "execution_count": 5,
     "metadata": {},
     "output_type": "execute_result"
    }
   ],
   "source": [
    "sh.head()['Title']"
   ]
  },
  {
   "cell_type": "code",
   "execution_count": 6,
   "metadata": {
    "tags": []
   },
   "outputs": [
    {
     "data": {
      "text/plain": [
       "0    False\n",
       "1    False\n",
       "2    False\n",
       "3    False\n",
       "4     True\n",
       "Name: Title, dtype: bool"
      ]
     },
     "execution_count": 6,
     "metadata": {},
     "output_type": "execute_result"
    }
   ],
   "source": [
    "sh.head()['Title'].str.find(\"Duck\")>=0"
   ]
  },
  {
   "cell_type": "code",
   "execution_count": 9,
   "metadata": {},
   "outputs": [
    {
     "name": "stdout",
     "output_type": "stream",
     "text": [
      "19.5 91.5\n"
     ]
    }
   ],
   "source": [
    "#build the range slider\n",
    "min_comp = sh['Composite Score'].min()\n",
    "max_comp = sh['Composite Score'].max()\n",
    "print(min_comp, max_comp)"
   ]
  },
  {
   "cell_type": "code",
   "execution_count": 15,
   "metadata": {},
   "outputs": [
    {
     "data": {
      "application/vnd.jupyter.widget-view+json": {
       "model_id": "f059e2008d6d4fa09c0474d9ad88fed5",
       "version_major": 2,
       "version_minor": 0
      },
      "text/plain": [
       "FloatRangeSlider(value=(19.5, 91.5), continuous_update=False, description='Composite Score:', max=91.5, min=19…"
      ]
     },
     "execution_count": 15,
     "metadata": {},
     "output_type": "execute_result"
    }
   ],
   "source": [
    "score = widgets.FloatRangeSlider(\n",
    "    value=[min_comp, max_comp],\n",
    "    min=min_comp,\n",
    "    max=max_comp,\n",
    "    step=0.1,\n",
    "    description='Composite:',\n",
    "    disabled=False,\n",
    "    continuous_update=False,\n",
    "    orientation='horizontal',\n",
    "    readout=True,\n",
    "    readout_format='.1f',\n",
    ")\n",
    "score"
   ]
  },
  {
   "cell_type": "markdown",
   "metadata": {},
   "source": [
    "## Complete working code"
   ]
  },
  {
   "cell_type": "code",
   "execution_count": 20,
   "metadata": {},
   "outputs": [
    {
     "data": {
      "application/vnd.jupyter.widget-view+json": {
       "model_id": "85a7a9827c684e8f9596a570fd8f7a90",
       "version_major": 2,
       "version_minor": 0
      },
      "text/plain": [
       "interactive(children=(Text(value='', continuous_update=False, description='title'), FloatRangeSlider(value=(19…"
      ]
     },
     "metadata": {},
     "output_type": "display_data"
    }
   ],
   "source": [
    "from ipywidgets import interact_manual, widgets\n",
    "from IPython.display import display\n",
    "import pandas as pd\n",
    "import numpy as np\n",
    "sh = pd.read_csv(\"superhero2.csv\")\n",
    "min_comp = sh['Composite Score'].min()\n",
    "max_comp = sh['Composite Score'].max()\n",
    "score = widgets.FloatRangeSlider(\n",
    "    value=[min_comp, max_comp],\n",
    "    min=min_comp,\n",
    "    max=max_comp,\n",
    "    step=0.5,\n",
    "    description='Composite:',\n",
    "    disabled=False,\n",
    "    continuous_update=False,\n",
    "    orientation='horizontal',\n",
    "    readout=True,\n",
    "    readout_format='.1f',\n",
    ")\n",
    "@interact_manual(title=\"\",score=score)\n",
    "def on_click(title, score):\n",
    "    results = sh[ \n",
    "        (sh['Title'].str.find(title)>=0) &\n",
    "        (sh['Composite Score'] >= score[0]) &\n",
    "        (sh['Composite Score'] <= score[1])\n",
    "    ]\n",
    "    display(results.sort_values(\"Composite Score\", ascending=False))"
   ]
  },
  {
   "cell_type": "code",
   "execution_count": null,
   "metadata": {},
   "outputs": [],
   "source": []
  }
 ],
 "metadata": {
  "kernelspec": {
   "display_name": "Python 3 (ipykernel)",
   "language": "python",
   "name": "python3"
  },
  "language_info": {
   "codemirror_mode": {
    "name": "ipython",
    "version": 3
   },
   "file_extension": ".py",
   "mimetype": "text/x-python",
   "name": "python",
   "nbconvert_exporter": "python",
   "pygments_lexer": "ipython3",
   "version": "3.11.7"
  },
  "toc": {
   "base_numbering": 1,
   "nav_menu": {},
   "number_sections": false,
   "sideBar": false,
   "skip_h1_title": false,
   "title_cell": "Table of Contents",
   "title_sidebar": "Contents",
   "toc_cell": false,
   "toc_position": {},
   "toc_section_display": false,
   "toc_window_display": false
  }
 },
 "nbformat": 4,
 "nbformat_minor": 4
}
