{
 "cells": [
  {
   "cell_type": "markdown",
   "metadata": {},
   "source": [
    "## Lesson 10: Data Analysis with Pandas I\n",
    "\n",
    "### Overview\n",
    "\n",
    "In this lesson we learn:\n",
    "\n",
    "- What is Data Analysis?\n",
    "- Basic Elements of Pandas: DataFrames, Series, Index\n",
    "- Loading and Saving Data CSV and Excel with Pandas\n",
    "- Basic Pandas operations for DataFrames\n",
    "\n",
    "### Required Before Large Group\n",
    "\n",
    "- READ: [Fudge: Data Analysis with Pandas (Intro, Part One)](DataAnalysisWithPandas.ipynb)\n",
    "- READ: [10 Minutes to Pandas] (https://pandas.pydata.org/docs/user_guide/10min.html) (Official Pandas Documentation)\n",
    "<!-- - VIDEO: Python for Everybody: [Ch9 Part 1](https://youtu.be/yDDRMb-1cxI) | [Part 2](https://youtu.be/LRSIuH94XM4) | [Part 3](https://youtu.be/ZDjiFB1Ib84), by Charles Severance -->\n",
    "\n",
    "### Additional Resources\n",
    "\n",
    "- VIDEO: [5 new changes in pandas you need to know about, by Data School](https://www.youtube.com/watch?v=te5JrSCW-LY) Explains loc and iloc\n",
    "- VIDEO: [Data Analysis with Pandas by Data School](https://www.youtube.com/playlist?list=PL5-da3qGB5ICCsgW1MxlZ0Hq8LL5U3u9y) (Playlist)\n",
    "- VIDEO: [Lab Walk Through, by Michael Fudge (old, but still somewhat relevant)](https://youtu.be/WIw7oXCtir0)\n",
    "- No homework advice yet as content was re-written this semester.\n",
    "\n",
    "<!-- - VIDEO: [End to End Example: Dictionaries, by Michael Fudge](https://youtu.be/l-2_Cq60trE)\n",
    "\n",
    "- VIDEO: [Homework Advice, by Michael Fudge](https://youtu.be/rvSZhsvNQZk) -->\n",
    "\n",
    "\n"
   ]
  },
  {
   "cell_type": "code",
   "execution_count": null,
   "metadata": {},
   "outputs": [],
   "source": []
  }
 ],
 "metadata": {
  "kernelspec": {
   "display_name": "Python 3 (ipykernel)",
   "language": "python",
   "name": "python3"
  },
  "language_info": {
   "codemirror_mode": {
    "name": "ipython",
    "version": 3
   },
   "file_extension": ".py",
   "mimetype": "text/x-python",
   "name": "python",
   "nbconvert_exporter": "python",
   "pygments_lexer": "ipython3",
   "version": "3.11.7"
  }
 },
 "nbformat": 4,
 "nbformat_minor": 4
}
