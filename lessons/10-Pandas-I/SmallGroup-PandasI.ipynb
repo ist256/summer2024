{
 "cells": [
  {
   "cell_type": "markdown",
   "metadata": {},
   "source": [
    "# Now You Code In Class: \n",
    "## Tricks of The Pandas Masters Volume I\n",
    "\n",
    "We will try something a bit different for our Activity - A series of Pandas coding challenges!\n",
    "\n",
    "Datasets we will use:\n",
    "\n",
    "- https://raw.githubusercontent.com/mafudge/datasets/master/flights/sample-flights.csv\n",
    "- https://raw.githubusercontent.com/mafudge/datasets/master/orders/sample-orders.csv\n"
   ]
  },
  {
   "cell_type": "code",
   "execution_count": 1,
   "metadata": {},
   "outputs": [],
   "source": [
    "import pandas as pd\n",
    "import numpy as np\n",
    "from IPython.display import display\n",
    "from ipywidgets import widgets, interact_manual\n",
    "\n",
    "pd.set_option('display.max_colwidth', None)"
   ]
  },
  {
   "cell_type": "markdown",
   "metadata": {},
   "source": [
    "## Reading a dataset into a dataframe.\n",
    "\n",
    "The following code loads the airline flights dataset into the variable `flights`"
   ]
  },
  {
   "cell_type": "code",
   "execution_count": 2,
   "metadata": {},
   "outputs": [
    {
     "data": {
      "text/html": [
       "<div>\n",
       "<style scoped>\n",
       "    .dataframe tbody tr th:only-of-type {\n",
       "        vertical-align: middle;\n",
       "    }\n",
       "\n",
       "    .dataframe tbody tr th {\n",
       "        vertical-align: top;\n",
       "    }\n",
       "\n",
       "    .dataframe thead th {\n",
       "        text-align: right;\n",
       "    }\n",
       "</style>\n",
       "<table border=\"1\" class=\"dataframe\">\n",
       "  <thead>\n",
       "    <tr style=\"text-align: right;\">\n",
       "      <th></th>\n",
       "      <th>flight_number</th>\n",
       "      <th>departure_airport_code</th>\n",
       "      <th>arrival_airport_code</th>\n",
       "      <th>departure_date</th>\n",
       "      <th>arrival_date</th>\n",
       "      <th>departure_time</th>\n",
       "      <th>arrival_time</th>\n",
       "      <th>flight_duration</th>\n",
       "      <th>airline_name</th>\n",
       "      <th>aircraft_type</th>\n",
       "    </tr>\n",
       "  </thead>\n",
       "  <tbody>\n",
       "    <tr>\n",
       "      <th>0</th>\n",
       "      <td>1350</td>\n",
       "      <td>KJP</td>\n",
       "      <td>VOG</td>\n",
       "      <td>2022-03-26</td>\n",
       "      <td>2022-03-07</td>\n",
       "      <td>5:04</td>\n",
       "      <td>23:25</td>\n",
       "      <td>10.96</td>\n",
       "      <td>United</td>\n",
       "      <td>Embraer E190</td>\n",
       "    </tr>\n",
       "    <tr>\n",
       "      <th>1</th>\n",
       "      <td>5381</td>\n",
       "      <td>FUN</td>\n",
       "      <td>POW</td>\n",
       "      <td>2022-11-01</td>\n",
       "      <td>2022-07-05</td>\n",
       "      <td>19:32</td>\n",
       "      <td>13:09</td>\n",
       "      <td>10.29</td>\n",
       "      <td>Southwest</td>\n",
       "      <td>Embraer E190</td>\n",
       "    </tr>\n",
       "    <tr>\n",
       "      <th>2</th>\n",
       "      <td>2892</td>\n",
       "      <td>ROR</td>\n",
       "      <td>COO</td>\n",
       "      <td>2022-11-09</td>\n",
       "      <td>2022-05-16</td>\n",
       "      <td>0:02</td>\n",
       "      <td>19:45</td>\n",
       "      <td>10.65</td>\n",
       "      <td>Delta</td>\n",
       "      <td>Boeing 747</td>\n",
       "    </tr>\n",
       "    <tr>\n",
       "      <th>3</th>\n",
       "      <td>2406</td>\n",
       "      <td>XGA</td>\n",
       "      <td>HCM</td>\n",
       "      <td>2022-01-09</td>\n",
       "      <td>2022-02-13</td>\n",
       "      <td>19:32</td>\n",
       "      <td>11:45</td>\n",
       "      <td>12.20</td>\n",
       "      <td>American</td>\n",
       "      <td>Boeing 737</td>\n",
       "    </tr>\n",
       "    <tr>\n",
       "      <th>4</th>\n",
       "      <td>1261</td>\n",
       "      <td>TDK</td>\n",
       "      <td>LKU</td>\n",
       "      <td>2022-02-07</td>\n",
       "      <td>2022-01-26</td>\n",
       "      <td>4:25</td>\n",
       "      <td>16:50</td>\n",
       "      <td>7.05</td>\n",
       "      <td>United</td>\n",
       "      <td>Boeing 737</td>\n",
       "    </tr>\n",
       "  </tbody>\n",
       "</table>\n",
       "</div>"
      ],
      "text/plain": [
       "   flight_number departure_airport_code arrival_airport_code departure_date  \\\n",
       "0           1350                    KJP                  VOG     2022-03-26   \n",
       "1           5381                    FUN                  POW     2022-11-01   \n",
       "2           2892                    ROR                  COO     2022-11-09   \n",
       "3           2406                    XGA                  HCM     2022-01-09   \n",
       "4           1261                    TDK                  LKU     2022-02-07   \n",
       "\n",
       "  arrival_date departure_time arrival_time  flight_duration airline_name  \\\n",
       "0   2022-03-07           5:04        23:25            10.96       United   \n",
       "1   2022-07-05          19:32        13:09            10.29    Southwest   \n",
       "2   2022-05-16           0:02        19:45            10.65        Delta   \n",
       "3   2022-02-13          19:32        11:45            12.20     American   \n",
       "4   2022-01-26           4:25        16:50             7.05       United   \n",
       "\n",
       "  aircraft_type  \n",
       "0  Embraer E190  \n",
       "1  Embraer E190  \n",
       "2    Boeing 747  \n",
       "3    Boeing 737  \n",
       "4    Boeing 737  "
      ]
     },
     "execution_count": 2,
     "metadata": {},
     "output_type": "execute_result"
    }
   ],
   "source": [
    "flights = pd.read_csv(\" https://raw.githubusercontent.com/mafudge/datasets/master/flights/sample-flights.csv\")\n",
    "flights.head()"
   ]
  },
  {
   "cell_type": "code",
   "execution_count": 22,
   "metadata": {},
   "outputs": [
    {
     "data": {
      "text/html": [
       "<div>\n",
       "<style scoped>\n",
       "    .dataframe tbody tr th:only-of-type {\n",
       "        vertical-align: middle;\n",
       "    }\n",
       "\n",
       "    .dataframe tbody tr th {\n",
       "        vertical-align: top;\n",
       "    }\n",
       "\n",
       "    .dataframe thead th {\n",
       "        text-align: right;\n",
       "    }\n",
       "</style>\n",
       "<table border=\"1\" class=\"dataframe\">\n",
       "  <thead>\n",
       "    <tr style=\"text-align: right;\">\n",
       "      <th></th>\n",
       "      <th>orderid</th>\n",
       "      <th>orderdate</th>\n",
       "      <th>custname</th>\n",
       "      <th>custemail</th>\n",
       "      <th>custcountry</th>\n",
       "      <th>orderstatus</th>\n",
       "      <th>ordertotal</th>\n",
       "      <th>ordercreditcard</th>\n",
       "      <th>ordershipvia</th>\n",
       "      <th>shippingtotal</th>\n",
       "    </tr>\n",
       "  </thead>\n",
       "  <tbody>\n",
       "    <tr>\n",
       "      <th>0</th>\n",
       "      <td>2</td>\n",
       "      <td>2023-03-24</td>\n",
       "      <td>Frayda Pepperd</td>\n",
       "      <td>fpepperd0@sciencedaily.com</td>\n",
       "      <td>Canada</td>\n",
       "      <td>delivered</td>\n",
       "      <td>228.39</td>\n",
       "      <td>Discover</td>\n",
       "      <td>RPS</td>\n",
       "      <td>12.05</td>\n",
       "    </tr>\n",
       "    <tr>\n",
       "      <th>1</th>\n",
       "      <td>3</td>\n",
       "      <td>2020-02-23</td>\n",
       "      <td>Loy Siberry</td>\n",
       "      <td>lsiberry1@so-net.ne.jp</td>\n",
       "      <td>Canada</td>\n",
       "      <td>delivered</td>\n",
       "      <td>76.87</td>\n",
       "      <td>Discover</td>\n",
       "      <td>USPS</td>\n",
       "      <td>6.27</td>\n",
       "    </tr>\n",
       "    <tr>\n",
       "      <th>2</th>\n",
       "      <td>4</td>\n",
       "      <td>2022-04-28</td>\n",
       "      <td>Carree Henworth</td>\n",
       "      <td>NaN</td>\n",
       "      <td>Canada</td>\n",
       "      <td>pending</td>\n",
       "      <td>152.30</td>\n",
       "      <td>Discover</td>\n",
       "      <td>USPS</td>\n",
       "      <td>12.74</td>\n",
       "    </tr>\n",
       "    <tr>\n",
       "      <th>3</th>\n",
       "      <td>5</td>\n",
       "      <td>2019-11-22</td>\n",
       "      <td>Goldina Godsafe</td>\n",
       "      <td>ggodsafe3@dailymail.co.uk</td>\n",
       "      <td>United States</td>\n",
       "      <td>shipped</td>\n",
       "      <td>182.17</td>\n",
       "      <td>Amex</td>\n",
       "      <td>UPS</td>\n",
       "      <td>5.44</td>\n",
       "    </tr>\n",
       "    <tr>\n",
       "      <th>4</th>\n",
       "      <td>6</td>\n",
       "      <td>2022-05-03</td>\n",
       "      <td>Marris Chatten</td>\n",
       "      <td>mchatten4@csmonitor.com</td>\n",
       "      <td>Mexico</td>\n",
       "      <td>pending</td>\n",
       "      <td>208.28</td>\n",
       "      <td>Discover</td>\n",
       "      <td>RPS</td>\n",
       "      <td>2.16</td>\n",
       "    </tr>\n",
       "  </tbody>\n",
       "</table>\n",
       "</div>"
      ],
      "text/plain": [
       "   orderid   orderdate         custname                   custemail  \\\n",
       "0        2  2023-03-24   Frayda Pepperd  fpepperd0@sciencedaily.com   \n",
       "1        3  2020-02-23      Loy Siberry      lsiberry1@so-net.ne.jp   \n",
       "2        4  2022-04-28  Carree Henworth                         NaN   \n",
       "3        5  2019-11-22  Goldina Godsafe   ggodsafe3@dailymail.co.uk   \n",
       "4        6  2022-05-03   Marris Chatten     mchatten4@csmonitor.com   \n",
       "\n",
       "     custcountry orderstatus  ordertotal ordercreditcard ordershipvia  \\\n",
       "0         Canada   delivered      228.39        Discover          RPS   \n",
       "1         Canada   delivered       76.87        Discover         USPS   \n",
       "2         Canada     pending      152.30        Discover         USPS   \n",
       "3  United States     shipped      182.17            Amex          UPS   \n",
       "4         Mexico     pending      208.28        Discover          RPS   \n",
       "\n",
       "   shippingtotal  \n",
       "0          12.05  \n",
       "1           6.27  \n",
       "2          12.74  \n",
       "3           5.44  \n",
       "4           2.16  "
      ]
     },
     "execution_count": 22,
     "metadata": {},
     "output_type": "execute_result"
    }
   ],
   "source": [
    "# PROMPT 1 read orders data into variable called \"orders\" and display the first few rows\n",
    "orders = pd.read_csv(\"https://raw.githubusercontent.com/mafudge/datasets/master/orders/sample-orders.csv\")\n",
    "orders.head()"
   ]
  },
  {
   "cell_type": "markdown",
   "metadata": {},
   "source": [
    "## What does the data look like?\n",
    "\n",
    "This code uses `info()` to get information about the columns and datatypes of the dataframe.\n"
   ]
  },
  {
   "cell_type": "code",
   "execution_count": 6,
   "metadata": {},
   "outputs": [
    {
     "name": "stdout",
     "output_type": "stream",
     "text": [
      "<class 'pandas.core.frame.DataFrame'>\n",
      "RangeIndex: 1000 entries, 0 to 999\n",
      "Data columns (total 10 columns):\n",
      " #   Column                  Non-Null Count  Dtype  \n",
      "---  ------                  --------------  -----  \n",
      " 0   flight_number           1000 non-null   int64  \n",
      " 1   departure_airport_code  1000 non-null   object \n",
      " 2   arrival_airport_code    1000 non-null   object \n",
      " 3   departure_date          1000 non-null   object \n",
      " 4   arrival_date            1000 non-null   object \n",
      " 5   departure_time          1000 non-null   object \n",
      " 6   arrival_time            1000 non-null   object \n",
      " 7   flight_duration         1000 non-null   float64\n",
      " 8   airline_name            993 non-null    object \n",
      " 9   aircraft_type           1000 non-null   object \n",
      "dtypes: float64(1), int64(1), object(8)\n",
      "memory usage: 78.3+ KB\n"
     ]
    }
   ],
   "source": [
    "flights.info()"
   ]
  },
  {
   "cell_type": "code",
   "execution_count": 7,
   "metadata": {},
   "outputs": [
    {
     "name": "stdout",
     "output_type": "stream",
     "text": [
      "<class 'pandas.core.frame.DataFrame'>\n",
      "RangeIndex: 1000 entries, 0 to 999\n",
      "Data columns (total 10 columns):\n",
      " #   Column           Non-Null Count  Dtype  \n",
      "---  ------           --------------  -----  \n",
      " 0   orderid          1000 non-null   int64  \n",
      " 1   orderdate        1000 non-null   object \n",
      " 2   custname         1000 non-null   object \n",
      " 3   custemail        946 non-null    object \n",
      " 4   custcountry      1000 non-null   object \n",
      " 5   orderstatus      1000 non-null   object \n",
      " 6   ordertotal       1000 non-null   float64\n",
      " 7   ordercreditcard  1000 non-null   object \n",
      " 8   ordershipvia     1000 non-null   object \n",
      " 9   shippingtotal    944 non-null    float64\n",
      "dtypes: float64(2), int64(1), object(7)\n",
      "memory usage: 78.3+ KB\n"
     ]
    }
   ],
   "source": [
    "# PROMPT 2 - get information for the \"orders\" dataframe\n",
    "# does every order have an email?\n",
    "orders.info()"
   ]
  },
  {
   "cell_type": "markdown",
   "metadata": {},
   "source": [
    "## What are the different aircraft names?\n",
    "\n",
    "This code will use `value_counts()` to produce counts of the different aircraft names"
   ]
  },
  {
   "cell_type": "code",
   "execution_count": 8,
   "metadata": {},
   "outputs": [
    {
     "data": {
      "text/plain": [
       "aircraft_type\n",
       "Embraer E190    229\n",
       "Boeing 777      217\n",
       "Boeing 747      149\n",
       "Airbus A350     141\n",
       "Boeing 737      134\n",
       "Airbus A320     130\n",
       "Name: count, dtype: int64"
      ]
     },
     "execution_count": 8,
     "metadata": {},
     "output_type": "execute_result"
    }
   ],
   "source": [
    "flights[\"aircraft_type\"].value_counts()"
   ]
  },
  {
   "cell_type": "code",
   "execution_count": 10,
   "metadata": {
    "tags": []
   },
   "outputs": [
    {
     "data": {
      "text/plain": [
       "Index(['orderid', 'orderdate', 'custname', 'custemail', 'custcountry',\n",
       "       'orderstatus', 'ordertotal', 'ordercreditcard', 'ordershipvia',\n",
       "       'shippingtotal'],\n",
       "      dtype='object')"
      ]
     },
     "execution_count": 10,
     "metadata": {},
     "output_type": "execute_result"
    }
   ],
   "source": [
    "orders.columns"
   ]
  },
  {
   "cell_type": "code",
   "execution_count": 12,
   "metadata": {
    "tags": []
   },
   "outputs": [
    {
     "data": {
      "text/plain": [
       "orderstatus\n",
       "delivered    0.584\n",
       "shipped      0.210\n",
       "pending      0.206\n",
       "Name: proportion, dtype: float64"
      ]
     },
     "execution_count": 12,
     "metadata": {},
     "output_type": "execute_result"
    }
   ],
   "source": [
    "# PROMPT 3  - get the value counts for order status\n",
    "orders[\"orderstatus\"].value_counts(normalize=True)"
   ]
  },
  {
   "cell_type": "code",
   "execution_count": null,
   "metadata": {},
   "outputs": [],
   "source": []
  },
  {
   "cell_type": "markdown",
   "metadata": {},
   "source": [
    "## This prints a list of unique airline names\n",
    "\n",
    "We use `unique()` on the series to get a unique list of value, and `dropna()` to get rid of the empty values."
   ]
  },
  {
   "cell_type": "code",
   "execution_count": 13,
   "metadata": {},
   "outputs": [
    {
     "name": "stdout",
     "output_type": "stream",
     "text": [
      "['American', 'Delta', 'Jetblue', 'Southwest', 'United']\n"
     ]
    }
   ],
   "source": [
    "airlines = list(flights['airline_name'].dropna().unique())\n",
    "airlines.sort()\n",
    "print(airlines)"
   ]
  },
  {
   "cell_type": "code",
   "execution_count": 18,
   "metadata": {},
   "outputs": [
    {
     "name": "stdout",
     "output_type": "stream",
     "text": [
      "['Canada', 'Mexico', 'United States']\n"
     ]
    }
   ],
   "source": [
    "# PROMPT 4 - get a unique list of the customer country\n",
    "def dedupe_series(series: pd.Series) -> list:\n",
    "    items = sorted(list(series.dropna().unique()))\n",
    "    return items\n",
    "\n",
    "countries = dedupe_series(orders['custcountry'])\n",
    "print(countries)"
   ]
  },
  {
   "cell_type": "code",
   "execution_count": 21,
   "metadata": {
    "tags": []
   },
   "outputs": [
    {
     "ename": "TypeError",
     "evalue": "'int' object is not subscriptable",
     "output_type": "error",
     "traceback": [
      "\u001b[0;31m---------------------------------------------------------------------------\u001b[0m",
      "\u001b[0;31mTypeError\u001b[0m                                 Traceback (most recent call last)",
      "Cell \u001b[0;32mIn[21], line 5\u001b[0m\n\u001b[1;32m      2\u001b[0m     items \u001b[38;5;241m=\u001b[39m \u001b[38;5;28msorted\u001b[39m(\u001b[38;5;28mlist\u001b[39m(series\u001b[38;5;241m.\u001b[39mdropna()\u001b[38;5;241m.\u001b[39munique()))\n\u001b[1;32m      3\u001b[0m     \u001b[38;5;28;01mreturn\u001b[39;00m items\n\u001b[0;32m----> 5\u001b[0m countries \u001b[38;5;241m=\u001b[39m dedupe_series(\u001b[43morders\u001b[49m\u001b[43m[\u001b[49m\u001b[38;5;124;43m'\u001b[39;49m\u001b[38;5;124;43mcustcountry\u001b[39;49m\u001b[38;5;124;43m'\u001b[39;49m\u001b[43m]\u001b[49m)\n\u001b[1;32m      6\u001b[0m \u001b[38;5;28mprint\u001b[39m(countries)\n",
      "\u001b[0;31mTypeError\u001b[0m: 'int' object is not subscriptable"
     ]
    }
   ],
   "source": [
    "def dedupe_series(series: pd.Series) -> list:\n",
    "    items = sorted(list(series.dropna().unique()))\n",
    "    return items\n",
    "\n",
    "countries = dedupe_series(orders['custcountry'])\n",
    "print(countries)"
   ]
  },
  {
   "cell_type": "markdown",
   "metadata": {},
   "source": [
    "## Create a drop-down list of airlines.\n",
    "\n",
    "this creates a drop-down selection widget based on the airline values"
   ]
  },
  {
   "cell_type": "code",
   "execution_count": 24,
   "metadata": {
    "tags": []
   },
   "outputs": [
    {
     "data": {
      "application/vnd.jupyter.widget-view+json": {
       "model_id": "edd4b9f71a8a4b0384b63a45b94f8a86",
       "version_major": 2,
       "version_minor": 0
      },
      "text/plain": [
       "Dropdown(description='Airline', options=('American', 'Delta', 'Jetblue', 'Southwest', 'United'), value='Americ…"
      ]
     },
     "metadata": {},
     "output_type": "display_data"
    }
   ],
   "source": [
    "airline_dropdown = widgets.Dropdown(options=airlines, description=\"Airline\")\n",
    "display(airline_dropdown)"
   ]
  },
  {
   "cell_type": "code",
   "execution_count": 25,
   "metadata": {
    "tags": []
   },
   "outputs": [
    {
     "data": {
      "application/vnd.jupyter.widget-view+json": {
       "model_id": "c1d05c2e4f8e45648ced110ffe1478a4",
       "version_major": 2,
       "version_minor": 0
      },
      "text/plain": [
       "Dropdown(description='Country:', options=('Canada', 'Mexico', 'United States'), value='Canada')"
      ]
     },
     "metadata": {},
     "output_type": "display_data"
    }
   ],
   "source": [
    "# PROMPT 5 - create a dropdown of countries from orders\n",
    "country_dropdown = widgets.Dropdown(options=countries, description=\"Country:\")\n",
    "display(country_dropdown)"
   ]
  },
  {
   "cell_type": "markdown",
   "metadata": {
    "slideshow": {
     "slide_type": "slide"
    }
   },
   "source": [
    "## Get stats on the numerical columns\n",
    "\n",
    "The `describe()` method function will get statistics for the numerical values in the dataframe."
   ]
  },
  {
   "cell_type": "code",
   "execution_count": 26,
   "metadata": {},
   "outputs": [
    {
     "data": {
      "text/html": [
       "<div>\n",
       "<style scoped>\n",
       "    .dataframe tbody tr th:only-of-type {\n",
       "        vertical-align: middle;\n",
       "    }\n",
       "\n",
       "    .dataframe tbody tr th {\n",
       "        vertical-align: top;\n",
       "    }\n",
       "\n",
       "    .dataframe thead th {\n",
       "        text-align: right;\n",
       "    }\n",
       "</style>\n",
       "<table border=\"1\" class=\"dataframe\">\n",
       "  <thead>\n",
       "    <tr style=\"text-align: right;\">\n",
       "      <th></th>\n",
       "      <th>flight_number</th>\n",
       "      <th>flight_duration</th>\n",
       "    </tr>\n",
       "  </thead>\n",
       "  <tbody>\n",
       "    <tr>\n",
       "      <th>count</th>\n",
       "      <td>1000.00000</td>\n",
       "      <td>1000.000000</td>\n",
       "    </tr>\n",
       "    <tr>\n",
       "      <th>mean</th>\n",
       "      <td>4990.50300</td>\n",
       "      <td>8.427190</td>\n",
       "    </tr>\n",
       "    <tr>\n",
       "      <th>std</th>\n",
       "      <td>2931.96522</td>\n",
       "      <td>4.312989</td>\n",
       "    </tr>\n",
       "    <tr>\n",
       "      <th>min</th>\n",
       "      <td>4.00000</td>\n",
       "      <td>1.020000</td>\n",
       "    </tr>\n",
       "    <tr>\n",
       "      <th>25%</th>\n",
       "      <td>2345.75000</td>\n",
       "      <td>4.780000</td>\n",
       "    </tr>\n",
       "    <tr>\n",
       "      <th>50%</th>\n",
       "      <td>5061.50000</td>\n",
       "      <td>8.455000</td>\n",
       "    </tr>\n",
       "    <tr>\n",
       "      <th>75%</th>\n",
       "      <td>7488.25000</td>\n",
       "      <td>12.160000</td>\n",
       "    </tr>\n",
       "    <tr>\n",
       "      <th>max</th>\n",
       "      <td>9996.00000</td>\n",
       "      <td>15.990000</td>\n",
       "    </tr>\n",
       "  </tbody>\n",
       "</table>\n",
       "</div>"
      ],
      "text/plain": [
       "       flight_number  flight_duration\n",
       "count     1000.00000      1000.000000\n",
       "mean      4990.50300         8.427190\n",
       "std       2931.96522         4.312989\n",
       "min          4.00000         1.020000\n",
       "25%       2345.75000         4.780000\n",
       "50%       5061.50000         8.455000\n",
       "75%       7488.25000        12.160000\n",
       "max       9996.00000        15.990000"
      ]
     },
     "execution_count": 26,
     "metadata": {},
     "output_type": "execute_result"
    }
   ],
   "source": [
    "flights.describe()"
   ]
  },
  {
   "cell_type": "code",
   "execution_count": 27,
   "metadata": {},
   "outputs": [
    {
     "data": {
      "text/html": [
       "<div>\n",
       "<style scoped>\n",
       "    .dataframe tbody tr th:only-of-type {\n",
       "        vertical-align: middle;\n",
       "    }\n",
       "\n",
       "    .dataframe tbody tr th {\n",
       "        vertical-align: top;\n",
       "    }\n",
       "\n",
       "    .dataframe thead th {\n",
       "        text-align: right;\n",
       "    }\n",
       "</style>\n",
       "<table border=\"1\" class=\"dataframe\">\n",
       "  <thead>\n",
       "    <tr style=\"text-align: right;\">\n",
       "      <th></th>\n",
       "      <th>orderid</th>\n",
       "      <th>ordertotal</th>\n",
       "      <th>shippingtotal</th>\n",
       "    </tr>\n",
       "  </thead>\n",
       "  <tbody>\n",
       "    <tr>\n",
       "      <th>count</th>\n",
       "      <td>1000.000000</td>\n",
       "      <td>1000.000000</td>\n",
       "      <td>944.000000</td>\n",
       "    </tr>\n",
       "    <tr>\n",
       "      <th>mean</th>\n",
       "      <td>501.500000</td>\n",
       "      <td>150.688370</td>\n",
       "      <td>10.367352</td>\n",
       "    </tr>\n",
       "    <tr>\n",
       "      <th>std</th>\n",
       "      <td>288.819436</td>\n",
       "      <td>56.781819</td>\n",
       "      <td>5.259112</td>\n",
       "    </tr>\n",
       "    <tr>\n",
       "      <th>min</th>\n",
       "      <td>2.000000</td>\n",
       "      <td>50.140000</td>\n",
       "      <td>1.040000</td>\n",
       "    </tr>\n",
       "    <tr>\n",
       "      <th>25%</th>\n",
       "      <td>251.750000</td>\n",
       "      <td>103.535000</td>\n",
       "      <td>5.877500</td>\n",
       "    </tr>\n",
       "    <tr>\n",
       "      <th>50%</th>\n",
       "      <td>501.500000</td>\n",
       "      <td>150.845000</td>\n",
       "      <td>10.525000</td>\n",
       "    </tr>\n",
       "    <tr>\n",
       "      <th>75%</th>\n",
       "      <td>751.250000</td>\n",
       "      <td>198.552500</td>\n",
       "      <td>14.742500</td>\n",
       "    </tr>\n",
       "    <tr>\n",
       "      <th>max</th>\n",
       "      <td>1001.000000</td>\n",
       "      <td>249.190000</td>\n",
       "      <td>20.000000</td>\n",
       "    </tr>\n",
       "  </tbody>\n",
       "</table>\n",
       "</div>"
      ],
      "text/plain": [
       "           orderid   ordertotal  shippingtotal\n",
       "count  1000.000000  1000.000000     944.000000\n",
       "mean    501.500000   150.688370      10.367352\n",
       "std     288.819436    56.781819       5.259112\n",
       "min       2.000000    50.140000       1.040000\n",
       "25%     251.750000   103.535000       5.877500\n",
       "50%     501.500000   150.845000      10.525000\n",
       "75%     751.250000   198.552500      14.742500\n",
       "max    1001.000000   249.190000      20.000000"
      ]
     },
     "execution_count": 27,
     "metadata": {},
     "output_type": "execute_result"
    }
   ],
   "source": [
    "# PROMPT 6 - that is the least expensive order? Most expensive shipping amount?\n",
    "orders.describe()"
   ]
  },
  {
   "cell_type": "markdown",
   "metadata": {},
   "source": [
    "## Storing Min and Max in variables\n",
    "\n",
    "This example stores the shortest and longest flights in separate variables."
   ]
  },
  {
   "cell_type": "code",
   "execution_count": 28,
   "metadata": {},
   "outputs": [
    {
     "name": "stdout",
     "output_type": "stream",
     "text": [
      "1.02 15.99\n"
     ]
    }
   ],
   "source": [
    "shortest = flights['flight_duration'].min()\n",
    "longest = flights['flight_duration'].max()\n",
    "print(shortest, longest)"
   ]
  },
  {
   "cell_type": "code",
   "execution_count": 29,
   "metadata": {
    "tags": []
   },
   "outputs": [
    {
     "name": "stdout",
     "output_type": "stream",
     "text": [
      "50.14 249.19\n"
     ]
    }
   ],
   "source": [
    "# PROMPT 7 - store the largest and smallest orders order total in variables.\n",
    "smallest_order = orders['ordertotal'].min()\n",
    "largest_order = orders['ordertotal'].max()\n",
    "print(smallest_order, largest_order)"
   ]
  },
  {
   "cell_type": "markdown",
   "metadata": {},
   "source": [
    "## Creating a Range Slider widget\n",
    "\n",
    "This example creates a Range slider widget for flight duration, setting the upper and lower bounds to the min/max values."
   ]
  },
  {
   "cell_type": "code",
   "execution_count": 30,
   "metadata": {
    "tags": []
   },
   "outputs": [
    {
     "data": {
      "application/vnd.jupyter.widget-view+json": {
       "model_id": "a1cb295fe4f54462a60d3a720c97b1d8",
       "version_major": 2,
       "version_minor": 0
      },
      "text/plain": [
       "FloatRangeSlider(value=(4.7625, 12.2475), description='Duration', max=15.99, min=1.02, step=0.5)"
      ]
     },
     "metadata": {},
     "output_type": "display_data"
    }
   ],
   "source": [
    "flight_duration_slider = widgets.FloatRangeSlider(\n",
    "    min = shortest, max=longest, step=0.5, description=\"Duration\")\n",
    "display(flight_duration_slider)"
   ]
  },
  {
   "cell_type": "code",
   "execution_count": 32,
   "metadata": {
    "tags": []
   },
   "outputs": [
    {
     "data": {
      "application/vnd.jupyter.widget-view+json": {
       "model_id": "8043e657851449c0ad9f8ff49bbef118",
       "version_major": 2,
       "version_minor": 0
      },
      "text/plain": [
       "FloatRangeSlider(value=(99.9025, 199.42749999999998), description='Order Total', max=249.19, min=50.14, step=1…"
      ]
     },
     "metadata": {},
     "output_type": "display_data"
    }
   ],
   "source": [
    "# PROMPT 8 - Create a range slider for orders using min/max approach\n",
    "order_total_slider = widgets.FloatRangeSlider(\n",
    "    min=smallest_order, max=largest_order, step=10, description=\"Order Total\")\n",
    "display(order_total_slider)"
   ]
  },
  {
   "cell_type": "markdown",
   "metadata": {},
   "source": [
    "## Let's engineer a column!\n",
    "\n",
    "This example will create a YEAR column by slicing the first 4 characters from the date. Since the data type of the `departure_date` is Object we must use the `.str` property to get the string value.\n"
   ]
  },
  {
   "cell_type": "code",
   "execution_count": 33,
   "metadata": {},
   "outputs": [
    {
     "data": {
      "text/html": [
       "<div>\n",
       "<style scoped>\n",
       "    .dataframe tbody tr th:only-of-type {\n",
       "        vertical-align: middle;\n",
       "    }\n",
       "\n",
       "    .dataframe tbody tr th {\n",
       "        vertical-align: top;\n",
       "    }\n",
       "\n",
       "    .dataframe thead th {\n",
       "        text-align: right;\n",
       "    }\n",
       "</style>\n",
       "<table border=\"1\" class=\"dataframe\">\n",
       "  <thead>\n",
       "    <tr style=\"text-align: right;\">\n",
       "      <th></th>\n",
       "      <th>flight_number</th>\n",
       "      <th>departure_airport_code</th>\n",
       "      <th>arrival_airport_code</th>\n",
       "      <th>departure_date</th>\n",
       "      <th>arrival_date</th>\n",
       "      <th>departure_time</th>\n",
       "      <th>arrival_time</th>\n",
       "      <th>flight_duration</th>\n",
       "      <th>airline_name</th>\n",
       "      <th>aircraft_type</th>\n",
       "      <th>departure_year</th>\n",
       "    </tr>\n",
       "  </thead>\n",
       "  <tbody>\n",
       "    <tr>\n",
       "      <th>0</th>\n",
       "      <td>1350</td>\n",
       "      <td>KJP</td>\n",
       "      <td>VOG</td>\n",
       "      <td>2022-03-26</td>\n",
       "      <td>2022-03-07</td>\n",
       "      <td>5:04</td>\n",
       "      <td>23:25</td>\n",
       "      <td>10.96</td>\n",
       "      <td>United</td>\n",
       "      <td>Embraer E190</td>\n",
       "      <td>2022</td>\n",
       "    </tr>\n",
       "    <tr>\n",
       "      <th>1</th>\n",
       "      <td>5381</td>\n",
       "      <td>FUN</td>\n",
       "      <td>POW</td>\n",
       "      <td>2022-11-01</td>\n",
       "      <td>2022-07-05</td>\n",
       "      <td>19:32</td>\n",
       "      <td>13:09</td>\n",
       "      <td>10.29</td>\n",
       "      <td>Southwest</td>\n",
       "      <td>Embraer E190</td>\n",
       "      <td>2022</td>\n",
       "    </tr>\n",
       "    <tr>\n",
       "      <th>2</th>\n",
       "      <td>2892</td>\n",
       "      <td>ROR</td>\n",
       "      <td>COO</td>\n",
       "      <td>2022-11-09</td>\n",
       "      <td>2022-05-16</td>\n",
       "      <td>0:02</td>\n",
       "      <td>19:45</td>\n",
       "      <td>10.65</td>\n",
       "      <td>Delta</td>\n",
       "      <td>Boeing 747</td>\n",
       "      <td>2022</td>\n",
       "    </tr>\n",
       "    <tr>\n",
       "      <th>3</th>\n",
       "      <td>2406</td>\n",
       "      <td>XGA</td>\n",
       "      <td>HCM</td>\n",
       "      <td>2022-01-09</td>\n",
       "      <td>2022-02-13</td>\n",
       "      <td>19:32</td>\n",
       "      <td>11:45</td>\n",
       "      <td>12.20</td>\n",
       "      <td>American</td>\n",
       "      <td>Boeing 737</td>\n",
       "      <td>2022</td>\n",
       "    </tr>\n",
       "    <tr>\n",
       "      <th>4</th>\n",
       "      <td>1261</td>\n",
       "      <td>TDK</td>\n",
       "      <td>LKU</td>\n",
       "      <td>2022-02-07</td>\n",
       "      <td>2022-01-26</td>\n",
       "      <td>4:25</td>\n",
       "      <td>16:50</td>\n",
       "      <td>7.05</td>\n",
       "      <td>United</td>\n",
       "      <td>Boeing 737</td>\n",
       "      <td>2022</td>\n",
       "    </tr>\n",
       "  </tbody>\n",
       "</table>\n",
       "</div>"
      ],
      "text/plain": [
       "   flight_number departure_airport_code arrival_airport_code departure_date  \\\n",
       "0           1350                    KJP                  VOG     2022-03-26   \n",
       "1           5381                    FUN                  POW     2022-11-01   \n",
       "2           2892                    ROR                  COO     2022-11-09   \n",
       "3           2406                    XGA                  HCM     2022-01-09   \n",
       "4           1261                    TDK                  LKU     2022-02-07   \n",
       "\n",
       "  arrival_date departure_time arrival_time  flight_duration airline_name  \\\n",
       "0   2022-03-07           5:04        23:25            10.96       United   \n",
       "1   2022-07-05          19:32        13:09            10.29    Southwest   \n",
       "2   2022-05-16           0:02        19:45            10.65        Delta   \n",
       "3   2022-02-13          19:32        11:45            12.20     American   \n",
       "4   2022-01-26           4:25        16:50             7.05       United   \n",
       "\n",
       "  aircraft_type departure_year  \n",
       "0  Embraer E190           2022  \n",
       "1  Embraer E190           2022  \n",
       "2    Boeing 747           2022  \n",
       "3    Boeing 737           2022  \n",
       "4    Boeing 737           2022  "
      ]
     },
     "execution_count": 33,
     "metadata": {},
     "output_type": "execute_result"
    }
   ],
   "source": [
    "flights[\"departure_year\"] = flights[\"departure_date\"].str[:4]\n",
    "flights.head()"
   ]
  },
  {
   "cell_type": "code",
   "execution_count": 36,
   "metadata": {},
   "outputs": [
    {
     "data": {
      "text/html": [
       "<div>\n",
       "<style scoped>\n",
       "    .dataframe tbody tr th:only-of-type {\n",
       "        vertical-align: middle;\n",
       "    }\n",
       "\n",
       "    .dataframe tbody tr th {\n",
       "        vertical-align: top;\n",
       "    }\n",
       "\n",
       "    .dataframe thead th {\n",
       "        text-align: right;\n",
       "    }\n",
       "</style>\n",
       "<table border=\"1\" class=\"dataframe\">\n",
       "  <thead>\n",
       "    <tr style=\"text-align: right;\">\n",
       "      <th></th>\n",
       "      <th>orderid</th>\n",
       "      <th>orderdate</th>\n",
       "      <th>custname</th>\n",
       "      <th>custemail</th>\n",
       "      <th>custcountry</th>\n",
       "      <th>orderstatus</th>\n",
       "      <th>ordertotal</th>\n",
       "      <th>ordercreditcard</th>\n",
       "      <th>ordershipvia</th>\n",
       "      <th>shippingtotal</th>\n",
       "      <th>orderyear</th>\n",
       "    </tr>\n",
       "  </thead>\n",
       "  <tbody>\n",
       "    <tr>\n",
       "      <th>0</th>\n",
       "      <td>2</td>\n",
       "      <td>2023-03-24</td>\n",
       "      <td>Frayda Pepperd</td>\n",
       "      <td>fpepperd0@sciencedaily.com</td>\n",
       "      <td>Canada</td>\n",
       "      <td>delivered</td>\n",
       "      <td>228.39</td>\n",
       "      <td>Discover</td>\n",
       "      <td>RPS</td>\n",
       "      <td>12.05</td>\n",
       "      <td>2023</td>\n",
       "    </tr>\n",
       "    <tr>\n",
       "      <th>1</th>\n",
       "      <td>3</td>\n",
       "      <td>2020-02-23</td>\n",
       "      <td>Loy Siberry</td>\n",
       "      <td>lsiberry1@so-net.ne.jp</td>\n",
       "      <td>Canada</td>\n",
       "      <td>delivered</td>\n",
       "      <td>76.87</td>\n",
       "      <td>Discover</td>\n",
       "      <td>USPS</td>\n",
       "      <td>6.27</td>\n",
       "      <td>2020</td>\n",
       "    </tr>\n",
       "    <tr>\n",
       "      <th>2</th>\n",
       "      <td>4</td>\n",
       "      <td>2022-04-28</td>\n",
       "      <td>Carree Henworth</td>\n",
       "      <td>NaN</td>\n",
       "      <td>Canada</td>\n",
       "      <td>pending</td>\n",
       "      <td>152.30</td>\n",
       "      <td>Discover</td>\n",
       "      <td>USPS</td>\n",
       "      <td>12.74</td>\n",
       "      <td>2022</td>\n",
       "    </tr>\n",
       "    <tr>\n",
       "      <th>3</th>\n",
       "      <td>5</td>\n",
       "      <td>2019-11-22</td>\n",
       "      <td>Goldina Godsafe</td>\n",
       "      <td>ggodsafe3@dailymail.co.uk</td>\n",
       "      <td>United States</td>\n",
       "      <td>shipped</td>\n",
       "      <td>182.17</td>\n",
       "      <td>Amex</td>\n",
       "      <td>UPS</td>\n",
       "      <td>5.44</td>\n",
       "      <td>2019</td>\n",
       "    </tr>\n",
       "    <tr>\n",
       "      <th>4</th>\n",
       "      <td>6</td>\n",
       "      <td>2022-05-03</td>\n",
       "      <td>Marris Chatten</td>\n",
       "      <td>mchatten4@csmonitor.com</td>\n",
       "      <td>Mexico</td>\n",
       "      <td>pending</td>\n",
       "      <td>208.28</td>\n",
       "      <td>Discover</td>\n",
       "      <td>RPS</td>\n",
       "      <td>2.16</td>\n",
       "      <td>2022</td>\n",
       "    </tr>\n",
       "  </tbody>\n",
       "</table>\n",
       "</div>"
      ],
      "text/plain": [
       "   orderid   orderdate         custname                   custemail  \\\n",
       "0        2  2023-03-24   Frayda Pepperd  fpepperd0@sciencedaily.com   \n",
       "1        3  2020-02-23      Loy Siberry      lsiberry1@so-net.ne.jp   \n",
       "2        4  2022-04-28  Carree Henworth                         NaN   \n",
       "3        5  2019-11-22  Goldina Godsafe   ggodsafe3@dailymail.co.uk   \n",
       "4        6  2022-05-03   Marris Chatten     mchatten4@csmonitor.com   \n",
       "\n",
       "     custcountry orderstatus  ordertotal ordercreditcard ordershipvia  \\\n",
       "0         Canada   delivered      228.39        Discover          RPS   \n",
       "1         Canada   delivered       76.87        Discover         USPS   \n",
       "2         Canada     pending      152.30        Discover         USPS   \n",
       "3  United States     shipped      182.17            Amex          UPS   \n",
       "4         Mexico     pending      208.28        Discover          RPS   \n",
       "\n",
       "   shippingtotal orderyear  \n",
       "0          12.05      2023  \n",
       "1           6.27      2020  \n",
       "2          12.74      2022  \n",
       "3           5.44      2019  \n",
       "4           2.16      2022  "
      ]
     },
     "execution_count": 36,
     "metadata": {},
     "output_type": "execute_result"
    }
   ],
   "source": [
    "# PROMPT 9 - create an order year column!\n",
    "orders['orderyear'] = orders['orderdate'].str[:4]\n",
    "orders.head()"
   ]
  },
  {
   "cell_type": "code",
   "execution_count": 38,
   "metadata": {
    "tags": []
   },
   "outputs": [
    {
     "data": {
      "text/plain": [
       "0      Delivered\n",
       "1      Delivered\n",
       "2        Pending\n",
       "3        Shipped\n",
       "4        Pending\n",
       "         ...    \n",
       "995    Delivered\n",
       "996    Delivered\n",
       "997    Delivered\n",
       "998      Pending\n",
       "999    Delivered\n",
       "Name: orderstatus, Length: 1000, dtype: object"
      ]
     },
     "execution_count": 38,
     "metadata": {},
     "output_type": "execute_result"
    }
   ],
   "source": [
    "# PROMPT 9.5\n",
    "orders['orderstatus'].str.title()"
   ]
  },
  {
   "cell_type": "code",
   "execution_count": null,
   "metadata": {
    "tags": []
   },
   "outputs": [],
   "source": [
    "# prompt 10 - create an order month column!\n"
   ]
  },
  {
   "cell_type": "markdown",
   "metadata": {},
   "source": [
    "## United airlines flights\n",
    "\n",
    "This example uses a boolean filter to create a smaller dataframe of just United airlines flights."
   ]
  },
  {
   "cell_type": "code",
   "execution_count": 40,
   "metadata": {},
   "outputs": [
    {
     "data": {
      "text/html": [
       "<div>\n",
       "<style scoped>\n",
       "    .dataframe tbody tr th:only-of-type {\n",
       "        vertical-align: middle;\n",
       "    }\n",
       "\n",
       "    .dataframe tbody tr th {\n",
       "        vertical-align: top;\n",
       "    }\n",
       "\n",
       "    .dataframe thead th {\n",
       "        text-align: right;\n",
       "    }\n",
       "</style>\n",
       "<table border=\"1\" class=\"dataframe\">\n",
       "  <thead>\n",
       "    <tr style=\"text-align: right;\">\n",
       "      <th></th>\n",
       "      <th>flight_number</th>\n",
       "      <th>departure_airport_code</th>\n",
       "      <th>arrival_airport_code</th>\n",
       "      <th>departure_date</th>\n",
       "      <th>arrival_date</th>\n",
       "      <th>departure_time</th>\n",
       "      <th>arrival_time</th>\n",
       "      <th>flight_duration</th>\n",
       "      <th>airline_name</th>\n",
       "      <th>aircraft_type</th>\n",
       "      <th>departure_year</th>\n",
       "    </tr>\n",
       "  </thead>\n",
       "  <tbody>\n",
       "    <tr>\n",
       "      <th>0</th>\n",
       "      <td>1350</td>\n",
       "      <td>KJP</td>\n",
       "      <td>VOG</td>\n",
       "      <td>2022-03-26</td>\n",
       "      <td>2022-03-07</td>\n",
       "      <td>5:04</td>\n",
       "      <td>23:25</td>\n",
       "      <td>10.96</td>\n",
       "      <td>United</td>\n",
       "      <td>Embraer E190</td>\n",
       "      <td>2022</td>\n",
       "    </tr>\n",
       "    <tr>\n",
       "      <th>4</th>\n",
       "      <td>1261</td>\n",
       "      <td>TDK</td>\n",
       "      <td>LKU</td>\n",
       "      <td>2022-02-07</td>\n",
       "      <td>2022-01-26</td>\n",
       "      <td>4:25</td>\n",
       "      <td>16:50</td>\n",
       "      <td>7.05</td>\n",
       "      <td>United</td>\n",
       "      <td>Boeing 737</td>\n",
       "      <td>2022</td>\n",
       "    </tr>\n",
       "    <tr>\n",
       "      <th>6</th>\n",
       "      <td>7066</td>\n",
       "      <td>IXC</td>\n",
       "      <td>YTJ</td>\n",
       "      <td>2022-03-23</td>\n",
       "      <td>2022-12-19</td>\n",
       "      <td>10:51</td>\n",
       "      <td>21:11</td>\n",
       "      <td>13.01</td>\n",
       "      <td>United</td>\n",
       "      <td>Boeing 747</td>\n",
       "      <td>2022</td>\n",
       "    </tr>\n",
       "    <tr>\n",
       "      <th>7</th>\n",
       "      <td>5122</td>\n",
       "      <td>YVC</td>\n",
       "      <td>EGI</td>\n",
       "      <td>2022-03-19</td>\n",
       "      <td>2022-08-23</td>\n",
       "      <td>21:10</td>\n",
       "      <td>7:47</td>\n",
       "      <td>12.92</td>\n",
       "      <td>United</td>\n",
       "      <td>Embraer E190</td>\n",
       "      <td>2022</td>\n",
       "    </tr>\n",
       "    <tr>\n",
       "      <th>12</th>\n",
       "      <td>2730</td>\n",
       "      <td>LSZ</td>\n",
       "      <td>DTD</td>\n",
       "      <td>2022-11-15</td>\n",
       "      <td>2022-07-02</td>\n",
       "      <td>9:21</td>\n",
       "      <td>11:19</td>\n",
       "      <td>6.95</td>\n",
       "      <td>United</td>\n",
       "      <td>Boeing 777</td>\n",
       "      <td>2022</td>\n",
       "    </tr>\n",
       "    <tr>\n",
       "      <th>...</th>\n",
       "      <td>...</td>\n",
       "      <td>...</td>\n",
       "      <td>...</td>\n",
       "      <td>...</td>\n",
       "      <td>...</td>\n",
       "      <td>...</td>\n",
       "      <td>...</td>\n",
       "      <td>...</td>\n",
       "      <td>...</td>\n",
       "      <td>...</td>\n",
       "      <td>...</td>\n",
       "    </tr>\n",
       "    <tr>\n",
       "      <th>970</th>\n",
       "      <td>5726</td>\n",
       "      <td>DBS</td>\n",
       "      <td>TAC</td>\n",
       "      <td>2022-12-17</td>\n",
       "      <td>2022-05-11</td>\n",
       "      <td>6:23</td>\n",
       "      <td>2:05</td>\n",
       "      <td>15.15</td>\n",
       "      <td>United</td>\n",
       "      <td>Airbus A350</td>\n",
       "      <td>2022</td>\n",
       "    </tr>\n",
       "    <tr>\n",
       "      <th>976</th>\n",
       "      <td>9830</td>\n",
       "      <td>MQT</td>\n",
       "      <td>BGA</td>\n",
       "      <td>2022-08-25</td>\n",
       "      <td>2022-06-23</td>\n",
       "      <td>8:14</td>\n",
       "      <td>14:59</td>\n",
       "      <td>3.05</td>\n",
       "      <td>United</td>\n",
       "      <td>Boeing 747</td>\n",
       "      <td>2022</td>\n",
       "    </tr>\n",
       "    <tr>\n",
       "      <th>985</th>\n",
       "      <td>4517</td>\n",
       "      <td>BMG</td>\n",
       "      <td>MRF</td>\n",
       "      <td>2022-12-19</td>\n",
       "      <td>2022-08-20</td>\n",
       "      <td>9:25</td>\n",
       "      <td>18:49</td>\n",
       "      <td>4.93</td>\n",
       "      <td>United</td>\n",
       "      <td>Embraer E190</td>\n",
       "      <td>2022</td>\n",
       "    </tr>\n",
       "    <tr>\n",
       "      <th>989</th>\n",
       "      <td>4029</td>\n",
       "      <td>HEW</td>\n",
       "      <td>NRB</td>\n",
       "      <td>2022-09-06</td>\n",
       "      <td>2022-04-30</td>\n",
       "      <td>15:19</td>\n",
       "      <td>19:07</td>\n",
       "      <td>14.78</td>\n",
       "      <td>United</td>\n",
       "      <td>Boeing 777</td>\n",
       "      <td>2022</td>\n",
       "    </tr>\n",
       "    <tr>\n",
       "      <th>993</th>\n",
       "      <td>4898</td>\n",
       "      <td>SNY</td>\n",
       "      <td>YRM</td>\n",
       "      <td>2022-07-20</td>\n",
       "      <td>2022-02-09</td>\n",
       "      <td>18:35</td>\n",
       "      <td>19:45</td>\n",
       "      <td>14.08</td>\n",
       "      <td>United</td>\n",
       "      <td>Airbus A350</td>\n",
       "      <td>2022</td>\n",
       "    </tr>\n",
       "  </tbody>\n",
       "</table>\n",
       "<p>256 rows × 11 columns</p>\n",
       "</div>"
      ],
      "text/plain": [
       "     flight_number departure_airport_code arrival_airport_code departure_date  \\\n",
       "0             1350                    KJP                  VOG     2022-03-26   \n",
       "4             1261                    TDK                  LKU     2022-02-07   \n",
       "6             7066                    IXC                  YTJ     2022-03-23   \n",
       "7             5122                    YVC                  EGI     2022-03-19   \n",
       "12            2730                    LSZ                  DTD     2022-11-15   \n",
       "..             ...                    ...                  ...            ...   \n",
       "970           5726                    DBS                  TAC     2022-12-17   \n",
       "976           9830                    MQT                  BGA     2022-08-25   \n",
       "985           4517                    BMG                  MRF     2022-12-19   \n",
       "989           4029                    HEW                  NRB     2022-09-06   \n",
       "993           4898                    SNY                  YRM     2022-07-20   \n",
       "\n",
       "    arrival_date departure_time arrival_time  flight_duration airline_name  \\\n",
       "0     2022-03-07           5:04        23:25            10.96       United   \n",
       "4     2022-01-26           4:25        16:50             7.05       United   \n",
       "6     2022-12-19          10:51        21:11            13.01       United   \n",
       "7     2022-08-23          21:10         7:47            12.92       United   \n",
       "12    2022-07-02           9:21        11:19             6.95       United   \n",
       "..           ...            ...          ...              ...          ...   \n",
       "970   2022-05-11           6:23         2:05            15.15       United   \n",
       "976   2022-06-23           8:14        14:59             3.05       United   \n",
       "985   2022-08-20           9:25        18:49             4.93       United   \n",
       "989   2022-04-30          15:19        19:07            14.78       United   \n",
       "993   2022-02-09          18:35        19:45            14.08       United   \n",
       "\n",
       "    aircraft_type departure_year  \n",
       "0    Embraer E190           2022  \n",
       "4      Boeing 737           2022  \n",
       "6      Boeing 747           2022  \n",
       "7    Embraer E190           2022  \n",
       "12     Boeing 777           2022  \n",
       "..            ...            ...  \n",
       "970   Airbus A350           2022  \n",
       "976    Boeing 747           2022  \n",
       "985  Embraer E190           2022  \n",
       "989    Boeing 777           2022  \n",
       "993   Airbus A350           2022  \n",
       "\n",
       "[256 rows x 11 columns]"
      ]
     },
     "execution_count": 40,
     "metadata": {},
     "output_type": "execute_result"
    }
   ],
   "source": [
    "ua_flights = flights[\n",
    "    flights[\"airline_name\"] == \"United\"\n",
    "]\n",
    "ua_flights"
   ]
  },
  {
   "cell_type": "code",
   "execution_count": 42,
   "metadata": {
    "tags": []
   },
   "outputs": [
    {
     "data": {
      "text/html": [
       "<div>\n",
       "<style scoped>\n",
       "    .dataframe tbody tr th:only-of-type {\n",
       "        vertical-align: middle;\n",
       "    }\n",
       "\n",
       "    .dataframe tbody tr th {\n",
       "        vertical-align: top;\n",
       "    }\n",
       "\n",
       "    .dataframe thead th {\n",
       "        text-align: right;\n",
       "    }\n",
       "</style>\n",
       "<table border=\"1\" class=\"dataframe\">\n",
       "  <thead>\n",
       "    <tr style=\"text-align: right;\">\n",
       "      <th></th>\n",
       "      <th>orderid</th>\n",
       "      <th>orderdate</th>\n",
       "      <th>custname</th>\n",
       "      <th>custemail</th>\n",
       "      <th>custcountry</th>\n",
       "      <th>orderstatus</th>\n",
       "      <th>ordertotal</th>\n",
       "      <th>ordercreditcard</th>\n",
       "      <th>ordershipvia</th>\n",
       "      <th>shippingtotal</th>\n",
       "      <th>orderyear</th>\n",
       "    </tr>\n",
       "  </thead>\n",
       "  <tbody>\n",
       "    <tr>\n",
       "      <th>0</th>\n",
       "      <td>2</td>\n",
       "      <td>2023-03-24</td>\n",
       "      <td>Frayda Pepperd</td>\n",
       "      <td>fpepperd0@sciencedaily.com</td>\n",
       "      <td>Canada</td>\n",
       "      <td>delivered</td>\n",
       "      <td>228.39</td>\n",
       "      <td>Discover</td>\n",
       "      <td>RPS</td>\n",
       "      <td>12.05</td>\n",
       "      <td>2023</td>\n",
       "    </tr>\n",
       "    <tr>\n",
       "      <th>1</th>\n",
       "      <td>3</td>\n",
       "      <td>2020-02-23</td>\n",
       "      <td>Loy Siberry</td>\n",
       "      <td>lsiberry1@so-net.ne.jp</td>\n",
       "      <td>Canada</td>\n",
       "      <td>delivered</td>\n",
       "      <td>76.87</td>\n",
       "      <td>Discover</td>\n",
       "      <td>USPS</td>\n",
       "      <td>6.27</td>\n",
       "      <td>2020</td>\n",
       "    </tr>\n",
       "    <tr>\n",
       "      <th>5</th>\n",
       "      <td>7</td>\n",
       "      <td>2022-12-19</td>\n",
       "      <td>Logan Jacobsson</td>\n",
       "      <td>ljacobsson5@wufoo.com</td>\n",
       "      <td>United States</td>\n",
       "      <td>delivered</td>\n",
       "      <td>112.15</td>\n",
       "      <td>Amex</td>\n",
       "      <td>USPS</td>\n",
       "      <td>11.52</td>\n",
       "      <td>2022</td>\n",
       "    </tr>\n",
       "    <tr>\n",
       "      <th>7</th>\n",
       "      <td>9</td>\n",
       "      <td>2019-02-17</td>\n",
       "      <td>Lowrance Sigsworth</td>\n",
       "      <td>lsigsworth7@youtube.com</td>\n",
       "      <td>United States</td>\n",
       "      <td>delivered</td>\n",
       "      <td>141.94</td>\n",
       "      <td>Discover</td>\n",
       "      <td>USPS</td>\n",
       "      <td>7.31</td>\n",
       "      <td>2019</td>\n",
       "    </tr>\n",
       "    <tr>\n",
       "      <th>9</th>\n",
       "      <td>11</td>\n",
       "      <td>2020-01-20</td>\n",
       "      <td>Renato Hue</td>\n",
       "      <td>rhue9@un.org</td>\n",
       "      <td>Canada</td>\n",
       "      <td>delivered</td>\n",
       "      <td>120.52</td>\n",
       "      <td>Visa</td>\n",
       "      <td>USPS</td>\n",
       "      <td>5.57</td>\n",
       "      <td>2020</td>\n",
       "    </tr>\n",
       "  </tbody>\n",
       "</table>\n",
       "</div>"
      ],
      "text/plain": [
       "   orderid   orderdate            custname                   custemail  \\\n",
       "0        2  2023-03-24      Frayda Pepperd  fpepperd0@sciencedaily.com   \n",
       "1        3  2020-02-23         Loy Siberry      lsiberry1@so-net.ne.jp   \n",
       "5        7  2022-12-19     Logan Jacobsson       ljacobsson5@wufoo.com   \n",
       "7        9  2019-02-17  Lowrance Sigsworth     lsigsworth7@youtube.com   \n",
       "9       11  2020-01-20          Renato Hue                rhue9@un.org   \n",
       "\n",
       "     custcountry orderstatus  ordertotal ordercreditcard ordershipvia  \\\n",
       "0         Canada   delivered      228.39        Discover          RPS   \n",
       "1         Canada   delivered       76.87        Discover         USPS   \n",
       "5  United States   delivered      112.15            Amex         USPS   \n",
       "7  United States   delivered      141.94        Discover         USPS   \n",
       "9         Canada   delivered      120.52            Visa         USPS   \n",
       "\n",
       "   shippingtotal orderyear  \n",
       "0          12.05      2023  \n",
       "1           6.27      2020  \n",
       "5          11.52      2022  \n",
       "7           7.31      2019  \n",
       "9           5.57      2020  "
      ]
     },
     "execution_count": 42,
     "metadata": {},
     "output_type": "execute_result"
    }
   ],
   "source": [
    "# Prompt 10 - display only orders that were delivered\n",
    "dorders = orders[ orders['orderstatus'] == 'delivered' ]\n",
    "dorders.head()"
   ]
  },
  {
   "cell_type": "markdown",
   "metadata": {},
   "source": [
    "## Dataframe Boolean Filters with logical And\n",
    "\n",
    "Sometimes you want to filter a dataframe on two conditions for example:\n",
    "\n",
    "\n",
    "    - American Airlines AND\n",
    "    - Boeing 777 aircraft\n",
    "\n",
    "To do this we must use the dataframe AND operator: `&`\n",
    "\n",
    "Notice how we must include `()` around each boolean filter."
   ]
  },
  {
   "cell_type": "code",
   "execution_count": null,
   "metadata": {},
   "outputs": [],
   "source": [
    "special_flights = flights[ \n",
    "    (flights[\"airline_name\"] == \"American\") & \n",
    "    (flights[\"aircraft_type\"] == \"Boeing 777\") \n",
    "]\n",
    "special_flights.head()"
   ]
  },
  {
   "cell_type": "code",
   "execution_count": null,
   "metadata": {
    "tags": []
   },
   "outputs": [],
   "source": [
    "# PROMPT 11 - show \"special orders\": those orders delivered to the Canada in year 2023\n"
   ]
  },
  {
   "cell_type": "markdown",
   "metadata": {},
   "source": [
    "## Flight Tracker\n",
    "\n",
    "Inputs:\n",
    "\n",
    "    - Range for the duration of the flight\n",
    "    - Airline\n",
    "    \n",
    "Outputs:\n",
    "    \n",
    "    -DataFrame of flights matching that criteira\n"
   ]
  },
  {
   "cell_type": "code",
   "execution_count": 45,
   "metadata": {
    "tags": []
   },
   "outputs": [
    {
     "data": {
      "application/vnd.jupyter.widget-view+json": {
       "model_id": "987bf00c41444c029f623ae302838e6d",
       "version_major": 2,
       "version_minor": 0
      },
      "text/plain": [
       "interactive(children=(Dropdown(description='Airline', options=('American', 'Delta', 'Jetblue', 'Southwest', 'U…"
      ]
     },
     "metadata": {},
     "output_type": "display_data"
    }
   ],
   "source": [
    "# Get Data\n",
    "airlines = sorted(list(flights['airline_name'].dropna().unique()))\n",
    "shortest = flights['flight_duration'].min()\n",
    "longest = flights['flight_duration'].max()\n",
    "\n",
    "# Make widgets\n",
    "airline_dropdown = widgets.Dropdown(options=airlines, description=\"Airline\")\n",
    "flight_duration_slider = widgets.FloatRangeSlider(\n",
    "    min = shortest, max=longest, step=0.5, description=\"Duration\")\n",
    "\n",
    "@interact_manual(airline=airline_dropdown, duration=flight_duration_slider)\n",
    "def on_click(airline, duration):\n",
    "    filtered_flights = flights[\n",
    "        (flights[\"airline_name\"] == airline) &\n",
    "        (flights[\"flight_duration\"] >= duration[0]) &\n",
    "        (flights[\"flight_duration\"] <= duration[1])\n",
    "    ]\n",
    "    display(filtered_flights)\n",
    "\n"
   ]
  },
  {
   "cell_type": "markdown",
   "metadata": {},
   "source": [
    "## Order Report\n",
    "\n",
    "Inputs:\n",
    "\n",
    "    - Range Slider for the order amount total\n",
    "    - Year of order, Order Status, Customer Country as drop downs\n",
    "    \n",
    "Outputs:\n",
    "    \n",
    "    -DataFrame of orders matching the selected criteria\n"
   ]
  },
  {
   "cell_type": "code",
   "execution_count": null,
   "metadata": {
    "tags": []
   },
   "outputs": [],
   "source": [
    "orders.columns # a refresher of the available columns"
   ]
  },
  {
   "cell_type": "code",
   "execution_count": 51,
   "metadata": {
    "tags": []
   },
   "outputs": [
    {
     "data": {
      "application/vnd.jupyter.widget-view+json": {
       "model_id": "9294f127ff9d4fd9a7be368168f64ca5",
       "version_major": 2,
       "version_minor": 0
      },
      "text/plain": [
       "interactive(children=(Dropdown(description='country', options=('Canada', 'Mexico', 'United States'), value='Ca…"
      ]
     },
     "metadata": {},
     "output_type": "display_data"
    }
   ],
   "source": [
    "# PROMPT 12 - make the order report!\n",
    "\n",
    "# Get Data for widgets\n",
    "orders = pd.read_csv(\"https://raw.githubusercontent.com/mafudge/datasets/master/orders/sample-orders.csv\")\n",
    "orders['orderyear'] = orders['orderdate'].str[:4]\n",
    "\n",
    "# Make widgets\n",
    "years = dedupe_series(orders['orderyear'])\n",
    "countries = dedupe_series(orders['custcountry'])\n",
    "statuses = dedupe_series(orders['orderstatus'])\n",
    "\n",
    "# main iteract \n",
    "@interact_manual(country=countries, year=years, status=statuses)\n",
    "def on_click(country, year, status):\n",
    "    filtered_orders = orders[\n",
    "        (orders['orderyear'] == year) &\n",
    "        (orders['custcountry'] == country) &\n",
    "        (orders['orderstatus'] == status)\n",
    "    ]\n",
    "    display(filtered_orders)"
   ]
  },
  {
   "cell_type": "code",
   "execution_count": 49,
   "metadata": {},
   "outputs": [
    {
     "data": {
      "text/plain": [
       "['delivered', 'pending', 'shipped']"
      ]
     },
     "execution_count": 49,
     "metadata": {},
     "output_type": "execute_result"
    }
   ],
   "source": [
    "statuses"
   ]
  },
  {
   "cell_type": "code",
   "execution_count": null,
   "metadata": {},
   "outputs": [],
   "source": [
    "# run this code to turn in your work!\n",
    "from casstools.assignment import Assignment\n",
    "Assignment().submit()"
   ]
  },
  {
   "cell_type": "code",
   "execution_count": null,
   "metadata": {},
   "outputs": [],
   "source": []
  }
 ],
 "metadata": {
  "anaconda-cloud": {},
  "kernelspec": {
   "display_name": "Python 3 (ipykernel)",
   "language": "python",
   "name": "python3"
  },
  "language_info": {
   "codemirror_mode": {
    "name": "ipython",
    "version": 3
   },
   "file_extension": ".py",
   "mimetype": "text/x-python",
   "name": "python",
   "nbconvert_exporter": "python",
   "pygments_lexer": "ipython3",
   "version": "3.11.7"
  },
  "toc": {
   "base_numbering": 1,
   "nav_menu": {},
   "number_sections": false,
   "sideBar": false,
   "skip_h1_title": false,
   "title_cell": "Table of Contents",
   "title_sidebar": "Contents",
   "toc_cell": false,
   "toc_position": {},
   "toc_section_display": false,
   "toc_window_display": false
  },
  "varInspector": {
   "cols": {
    "lenName": 16,
    "lenType": 16,
    "lenVar": 40
   },
   "kernels_config": {
    "python": {
     "delete_cmd_postfix": "",
     "delete_cmd_prefix": "del ",
     "library": "var_list.py",
     "varRefreshCmd": "print(var_dic_list())"
    },
    "r": {
     "delete_cmd_postfix": ") ",
     "delete_cmd_prefix": "rm(",
     "library": "var_list.r",
     "varRefreshCmd": "cat(var_dic_list()) "
    }
   },
   "types_to_exclude": [
    "module",
    "function",
    "builtin_function_or_method",
    "instance",
    "_Feature"
   ],
   "window_display": false
  }
 },
 "nbformat": 4,
 "nbformat_minor": 4
}
