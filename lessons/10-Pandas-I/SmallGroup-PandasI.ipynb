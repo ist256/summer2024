{
 "cells": [
  {
   "cell_type": "markdown",
   "metadata": {},
   "source": [
    "# Now You Code In Class: \n",
    "## Tricks of The Pandas Masters Volume I\n",
    "\n",
    "We will try something a bit different for our Activity - A series of Pandas coding challenges!\n",
    "\n",
    "Datasets we will use:\n",
    "\n",
    "- https://raw.githubusercontent.com/mafudge/datasets/master/flights/sample-flights.csv\n",
    "- https://raw.githubusercontent.com/mafudge/datasets/master/orders/sample-orders.csv\n"
   ]
  },
  {
   "cell_type": "code",
   "execution_count": 2,
   "metadata": {},
   "outputs": [],
   "source": [
    "import pandas as pd\n",
    "import numpy as np\n",
    "from IPython.display import display\n",
    "from ipywidgets import widgets, interact_manual\n",
    "\n",
    "pd.set_option('display.max_colwidth', None)"
   ]
  },
  {
   "cell_type": "markdown",
   "metadata": {},
   "source": [
    "## Reading a dataset into a dataframe.\n",
    "\n",
    "The following code loads the airline flights dataset into the variable `flights`"
   ]
  },
  {
   "cell_type": "code",
   "execution_count": 3,
   "metadata": {},
   "outputs": [
    {
     "data": {
      "text/html": [
       "<div>\n",
       "<style scoped>\n",
       "    .dataframe tbody tr th:only-of-type {\n",
       "        vertical-align: middle;\n",
       "    }\n",
       "\n",
       "    .dataframe tbody tr th {\n",
       "        vertical-align: top;\n",
       "    }\n",
       "\n",
       "    .dataframe thead th {\n",
       "        text-align: right;\n",
       "    }\n",
       "</style>\n",
       "<table border=\"1\" class=\"dataframe\">\n",
       "  <thead>\n",
       "    <tr style=\"text-align: right;\">\n",
       "      <th></th>\n",
       "      <th>flight_number</th>\n",
       "      <th>departure_airport_code</th>\n",
       "      <th>arrival_airport_code</th>\n",
       "      <th>departure_date</th>\n",
       "      <th>arrival_date</th>\n",
       "      <th>departure_time</th>\n",
       "      <th>arrival_time</th>\n",
       "      <th>flight_duration</th>\n",
       "      <th>airline_name</th>\n",
       "      <th>aircraft_type</th>\n",
       "    </tr>\n",
       "  </thead>\n",
       "  <tbody>\n",
       "    <tr>\n",
       "      <th>0</th>\n",
       "      <td>1350</td>\n",
       "      <td>KJP</td>\n",
       "      <td>VOG</td>\n",
       "      <td>2022-03-26</td>\n",
       "      <td>2022-03-07</td>\n",
       "      <td>5:04</td>\n",
       "      <td>23:25</td>\n",
       "      <td>10.96</td>\n",
       "      <td>United</td>\n",
       "      <td>Embraer E190</td>\n",
       "    </tr>\n",
       "    <tr>\n",
       "      <th>1</th>\n",
       "      <td>5381</td>\n",
       "      <td>FUN</td>\n",
       "      <td>POW</td>\n",
       "      <td>2022-11-01</td>\n",
       "      <td>2022-07-05</td>\n",
       "      <td>19:32</td>\n",
       "      <td>13:09</td>\n",
       "      <td>10.29</td>\n",
       "      <td>Southwest</td>\n",
       "      <td>Embraer E190</td>\n",
       "    </tr>\n",
       "    <tr>\n",
       "      <th>2</th>\n",
       "      <td>2892</td>\n",
       "      <td>ROR</td>\n",
       "      <td>COO</td>\n",
       "      <td>2022-11-09</td>\n",
       "      <td>2022-05-16</td>\n",
       "      <td>0:02</td>\n",
       "      <td>19:45</td>\n",
       "      <td>10.65</td>\n",
       "      <td>Delta</td>\n",
       "      <td>Boeing 747</td>\n",
       "    </tr>\n",
       "    <tr>\n",
       "      <th>3</th>\n",
       "      <td>2406</td>\n",
       "      <td>XGA</td>\n",
       "      <td>HCM</td>\n",
       "      <td>2022-01-09</td>\n",
       "      <td>2022-02-13</td>\n",
       "      <td>19:32</td>\n",
       "      <td>11:45</td>\n",
       "      <td>12.20</td>\n",
       "      <td>American</td>\n",
       "      <td>Boeing 737</td>\n",
       "    </tr>\n",
       "    <tr>\n",
       "      <th>4</th>\n",
       "      <td>1261</td>\n",
       "      <td>TDK</td>\n",
       "      <td>LKU</td>\n",
       "      <td>2022-02-07</td>\n",
       "      <td>2022-01-26</td>\n",
       "      <td>4:25</td>\n",
       "      <td>16:50</td>\n",
       "      <td>7.05</td>\n",
       "      <td>United</td>\n",
       "      <td>Boeing 737</td>\n",
       "    </tr>\n",
       "  </tbody>\n",
       "</table>\n",
       "</div>"
      ],
      "text/plain": [
       "   flight_number departure_airport_code arrival_airport_code departure_date  \\\n",
       "0           1350                    KJP                  VOG     2022-03-26   \n",
       "1           5381                    FUN                  POW     2022-11-01   \n",
       "2           2892                    ROR                  COO     2022-11-09   \n",
       "3           2406                    XGA                  HCM     2022-01-09   \n",
       "4           1261                    TDK                  LKU     2022-02-07   \n",
       "\n",
       "  arrival_date departure_time arrival_time  flight_duration airline_name  \\\n",
       "0   2022-03-07           5:04        23:25            10.96       United   \n",
       "1   2022-07-05          19:32        13:09            10.29    Southwest   \n",
       "2   2022-05-16           0:02        19:45            10.65        Delta   \n",
       "3   2022-02-13          19:32        11:45            12.20     American   \n",
       "4   2022-01-26           4:25        16:50             7.05       United   \n",
       "\n",
       "  aircraft_type  \n",
       "0  Embraer E190  \n",
       "1  Embraer E190  \n",
       "2    Boeing 747  \n",
       "3    Boeing 737  \n",
       "4    Boeing 737  "
      ]
     },
     "execution_count": 3,
     "metadata": {},
     "output_type": "execute_result"
    }
   ],
   "source": [
    "flights = pd.read_csv(\" https://raw.githubusercontent.com/mafudge/datasets/master/flights/sample-flights.csv\")\n",
    "flights.head()"
   ]
  },
  {
   "cell_type": "code",
   "execution_count": null,
   "metadata": {},
   "outputs": [],
   "source": [
    "# PROMPT 1 read orders data into variable called \"orders\" and display the first few rows\n"
   ]
  },
  {
   "cell_type": "markdown",
   "metadata": {},
   "source": [
    "## What does the data look like?\n",
    "\n",
    "This code uses `info()` to get information about the columns and datatypes of the dataframe.\n"
   ]
  },
  {
   "cell_type": "code",
   "execution_count": null,
   "metadata": {},
   "outputs": [],
   "source": [
    "flights.info()"
   ]
  },
  {
   "cell_type": "code",
   "execution_count": null,
   "metadata": {},
   "outputs": [],
   "source": [
    "# PROMPT 2 - get information for the \"orders\" dataframe\n",
    "# does every order have an email?\n"
   ]
  },
  {
   "cell_type": "markdown",
   "metadata": {},
   "source": [
    "## What are the different aircraft names?\n",
    "\n",
    "This code will use `value_counts()` to produce counts of the different aircraft names"
   ]
  },
  {
   "cell_type": "code",
   "execution_count": null,
   "metadata": {},
   "outputs": [],
   "source": [
    "flights[\"aircraft_type\"].value_counts()"
   ]
  },
  {
   "cell_type": "code",
   "execution_count": null,
   "metadata": {
    "tags": []
   },
   "outputs": [],
   "source": [
    "# PROMPT 3  - get the value counts for order status\n"
   ]
  },
  {
   "cell_type": "markdown",
   "metadata": {},
   "source": [
    "## This prints a list of unique airline names\n",
    "\n",
    "We use `unique()` on the series to get a unique list of value, and `dropna()` to get rid of the empty values."
   ]
  },
  {
   "cell_type": "code",
   "execution_count": 4,
   "metadata": {},
   "outputs": [
    {
     "name": "stdout",
     "output_type": "stream",
     "text": [
      "['American', 'Delta', 'Jetblue', 'Southwest', 'United']\n"
     ]
    }
   ],
   "source": [
    "airlines = list(flights['airline_name'].dropna().unique())\n",
    "airlines.sort()\n",
    "print(airlines)"
   ]
  },
  {
   "cell_type": "code",
   "execution_count": 5,
   "metadata": {},
   "outputs": [],
   "source": [
    "# PROMPT 4 - get a unique list of the customer country this time using the provided dedupe_series function\n",
    "def dedupe_series(series: pd.Series) -> list:\n",
    "    items = sorted(list(series.dropna().unique()))\n",
    "    return items\n",
    "\n",
    "#Your Code Here"
   ]
  },
  {
   "cell_type": "markdown",
   "metadata": {},
   "source": [
    "## Create a drop-down list of airlines.\n",
    "\n",
    "this creates a drop-down selection widget based on the airline values"
   ]
  },
  {
   "cell_type": "code",
   "execution_count": null,
   "metadata": {
    "tags": []
   },
   "outputs": [],
   "source": [
    "airline_dropdown = widgets.Dropdown(options=airlines, description=\"Airline\")\n",
    "display(airline_dropdown)"
   ]
  },
  {
   "cell_type": "code",
   "execution_count": null,
   "metadata": {
    "tags": []
   },
   "outputs": [],
   "source": [
    "# PROMPT 5 - create a dropdown of countries from orders\n"
   ]
  },
  {
   "cell_type": "markdown",
   "metadata": {
    "slideshow": {
     "slide_type": "slide"
    }
   },
   "source": [
    "## Get stats on the numerical columns\n",
    "\n",
    "The `describe()` method function will get statistics for the numerical values in the dataframe."
   ]
  },
  {
   "cell_type": "code",
   "execution_count": null,
   "metadata": {},
   "outputs": [],
   "source": [
    "flights.describe()"
   ]
  },
  {
   "cell_type": "code",
   "execution_count": null,
   "metadata": {},
   "outputs": [],
   "source": [
    "# PROMPT 6 - that is the least expensive order? Most expensive shipping amount?\n"
   ]
  },
  {
   "cell_type": "markdown",
   "metadata": {},
   "source": [
    "## Storing Min and Max in variables\n",
    "\n",
    "This example stores the shortest and longest flights in separate variables."
   ]
  },
  {
   "cell_type": "code",
   "execution_count": 6,
   "metadata": {},
   "outputs": [
    {
     "name": "stdout",
     "output_type": "stream",
     "text": [
      "1.02 15.99\n"
     ]
    }
   ],
   "source": [
    "shortest = flights['flight_duration'].min()\n",
    "longest = flights['flight_duration'].max()\n",
    "print(shortest, longest)"
   ]
  },
  {
   "cell_type": "code",
   "execution_count": null,
   "metadata": {
    "tags": []
   },
   "outputs": [],
   "source": [
    "# PROMPT 7 - store the largest and smallest orders order total in variables.\n"
   ]
  },
  {
   "cell_type": "markdown",
   "metadata": {},
   "source": [
    "## Creating a Range Slider widget\n",
    "\n",
    "This example creates a Range slider widget for flight duration, setting the upper and lower bounds to the min/max values."
   ]
  },
  {
   "cell_type": "code",
   "execution_count": 7,
   "metadata": {
    "tags": []
   },
   "outputs": [
    {
     "data": {
      "application/vnd.jupyter.widget-view+json": {
       "model_id": "39dd6520b7d046fabb23af1948c77ed5",
       "version_major": 2,
       "version_minor": 0
      },
      "text/plain": [
       "FloatRangeSlider(value=(4.7625, 12.2475), description='Duration', max=15.99, min=1.02, step=0.5)"
      ]
     },
     "metadata": {},
     "output_type": "display_data"
    }
   ],
   "source": [
    "flight_duration_slider = widgets.FloatRangeSlider(\n",
    "    min = shortest, max=longest, step=0.5, description=\"Duration\")\n",
    "display(flight_duration_slider)"
   ]
  },
  {
   "cell_type": "code",
   "execution_count": null,
   "metadata": {
    "tags": []
   },
   "outputs": [],
   "source": [
    "# PROMPT 8 - Create a range slider for orders using min/max approach\n"
   ]
  },
  {
   "cell_type": "markdown",
   "metadata": {},
   "source": [
    "## Let's engineer a column!\n",
    "\n",
    "This example will create a YEAR column by slicing the first 4 characters from the date. Since the data type of the `departure_date` is Object we must use the `.str` property to get the string value.\n"
   ]
  },
  {
   "cell_type": "code",
   "execution_count": 10,
   "metadata": {},
   "outputs": [
    {
     "data": {
      "text/html": [
       "<div>\n",
       "<style scoped>\n",
       "    .dataframe tbody tr th:only-of-type {\n",
       "        vertical-align: middle;\n",
       "    }\n",
       "\n",
       "    .dataframe tbody tr th {\n",
       "        vertical-align: top;\n",
       "    }\n",
       "\n",
       "    .dataframe thead th {\n",
       "        text-align: right;\n",
       "    }\n",
       "</style>\n",
       "<table border=\"1\" class=\"dataframe\">\n",
       "  <thead>\n",
       "    <tr style=\"text-align: right;\">\n",
       "      <th></th>\n",
       "      <th>flight_number</th>\n",
       "      <th>departure_airport_code</th>\n",
       "      <th>arrival_airport_code</th>\n",
       "      <th>departure_date</th>\n",
       "      <th>arrival_date</th>\n",
       "      <th>departure_time</th>\n",
       "      <th>arrival_time</th>\n",
       "      <th>flight_duration</th>\n",
       "      <th>airline_name</th>\n",
       "      <th>aircraft_type</th>\n",
       "      <th>departure_year</th>\n",
       "    </tr>\n",
       "  </thead>\n",
       "  <tbody>\n",
       "    <tr>\n",
       "      <th>0</th>\n",
       "      <td>1350</td>\n",
       "      <td>KJP</td>\n",
       "      <td>VOG</td>\n",
       "      <td>2022-03-26</td>\n",
       "      <td>2022-03-07</td>\n",
       "      <td>5:04</td>\n",
       "      <td>23:25</td>\n",
       "      <td>10.96</td>\n",
       "      <td>United</td>\n",
       "      <td>Embraer E190</td>\n",
       "      <td>2022</td>\n",
       "    </tr>\n",
       "    <tr>\n",
       "      <th>1</th>\n",
       "      <td>5381</td>\n",
       "      <td>FUN</td>\n",
       "      <td>POW</td>\n",
       "      <td>2022-11-01</td>\n",
       "      <td>2022-07-05</td>\n",
       "      <td>19:32</td>\n",
       "      <td>13:09</td>\n",
       "      <td>10.29</td>\n",
       "      <td>Southwest</td>\n",
       "      <td>Embraer E190</td>\n",
       "      <td>2022</td>\n",
       "    </tr>\n",
       "    <tr>\n",
       "      <th>2</th>\n",
       "      <td>2892</td>\n",
       "      <td>ROR</td>\n",
       "      <td>COO</td>\n",
       "      <td>2022-11-09</td>\n",
       "      <td>2022-05-16</td>\n",
       "      <td>0:02</td>\n",
       "      <td>19:45</td>\n",
       "      <td>10.65</td>\n",
       "      <td>Delta</td>\n",
       "      <td>Boeing 747</td>\n",
       "      <td>2022</td>\n",
       "    </tr>\n",
       "    <tr>\n",
       "      <th>3</th>\n",
       "      <td>2406</td>\n",
       "      <td>XGA</td>\n",
       "      <td>HCM</td>\n",
       "      <td>2022-01-09</td>\n",
       "      <td>2022-02-13</td>\n",
       "      <td>19:32</td>\n",
       "      <td>11:45</td>\n",
       "      <td>12.20</td>\n",
       "      <td>American</td>\n",
       "      <td>Boeing 737</td>\n",
       "      <td>2022</td>\n",
       "    </tr>\n",
       "    <tr>\n",
       "      <th>4</th>\n",
       "      <td>1261</td>\n",
       "      <td>TDK</td>\n",
       "      <td>LKU</td>\n",
       "      <td>2022-02-07</td>\n",
       "      <td>2022-01-26</td>\n",
       "      <td>4:25</td>\n",
       "      <td>16:50</td>\n",
       "      <td>7.05</td>\n",
       "      <td>United</td>\n",
       "      <td>Boeing 737</td>\n",
       "      <td>2022</td>\n",
       "    </tr>\n",
       "  </tbody>\n",
       "</table>\n",
       "</div>"
      ],
      "text/plain": [
       "   flight_number departure_airport_code arrival_airport_code departure_date  \\\n",
       "0           1350                    KJP                  VOG     2022-03-26   \n",
       "1           5381                    FUN                  POW     2022-11-01   \n",
       "2           2892                    ROR                  COO     2022-11-09   \n",
       "3           2406                    XGA                  HCM     2022-01-09   \n",
       "4           1261                    TDK                  LKU     2022-02-07   \n",
       "\n",
       "  arrival_date departure_time arrival_time  flight_duration airline_name  \\\n",
       "0   2022-03-07           5:04        23:25            10.96       United   \n",
       "1   2022-07-05          19:32        13:09            10.29    Southwest   \n",
       "2   2022-05-16           0:02        19:45            10.65        Delta   \n",
       "3   2022-02-13          19:32        11:45            12.20     American   \n",
       "4   2022-01-26           4:25        16:50             7.05       United   \n",
       "\n",
       "  aircraft_type departure_year  \n",
       "0  Embraer E190           2022  \n",
       "1  Embraer E190           2022  \n",
       "2    Boeing 747           2022  \n",
       "3    Boeing 737           2022  \n",
       "4    Boeing 737           2022  "
      ]
     },
     "execution_count": 10,
     "metadata": {},
     "output_type": "execute_result"
    }
   ],
   "source": [
    "flights[\"departure_year\"] = flights[\"departure_date\"].str[:4]\n",
    "flights.head()"
   ]
  },
  {
   "cell_type": "code",
   "execution_count": null,
   "metadata": {},
   "outputs": [],
   "source": [
    "# PROMPT 9 - create an order year column!\n"
   ]
  },
  {
   "cell_type": "code",
   "execution_count": 9,
   "metadata": {
    "tags": []
   },
   "outputs": [
    {
     "ename": "NameError",
     "evalue": "name 'orders' is not defined",
     "output_type": "error",
     "traceback": [
      "\u001b[0;31m---------------------------------------------------------------------------\u001b[0m",
      "\u001b[0;31mNameError\u001b[0m                                 Traceback (most recent call last)",
      "Cell \u001b[0;32mIn[9], line 2\u001b[0m\n\u001b[1;32m      1\u001b[0m \u001b[38;5;66;03m# PROMPT 9.5\u001b[39;00m\n\u001b[0;32m----> 2\u001b[0m \u001b[43morders\u001b[49m[\u001b[38;5;124m'\u001b[39m\u001b[38;5;124morderstatus\u001b[39m\u001b[38;5;124m'\u001b[39m]\u001b[38;5;241m.\u001b[39mstr\u001b[38;5;241m.\u001b[39mtitle()\n",
      "\u001b[0;31mNameError\u001b[0m: name 'orders' is not defined"
     ]
    }
   ],
   "source": [
    "# PROMPT 9.5\n",
    "orders['orderstatus'].str.title()"
   ]
  },
  {
   "cell_type": "code",
   "execution_count": null,
   "metadata": {
    "tags": []
   },
   "outputs": [],
   "source": [
    "# prompt 10 - create an order month column!\n"
   ]
  },
  {
   "cell_type": "markdown",
   "metadata": {},
   "source": [
    "## United airlines flights\n",
    "\n",
    "This example uses a boolean filter to create a smaller dataframe of just United airlines flights."
   ]
  },
  {
   "cell_type": "code",
   "execution_count": 12,
   "metadata": {},
   "outputs": [
    {
     "data": {
      "text/html": [
       "<div>\n",
       "<style scoped>\n",
       "    .dataframe tbody tr th:only-of-type {\n",
       "        vertical-align: middle;\n",
       "    }\n",
       "\n",
       "    .dataframe tbody tr th {\n",
       "        vertical-align: top;\n",
       "    }\n",
       "\n",
       "    .dataframe thead th {\n",
       "        text-align: right;\n",
       "    }\n",
       "</style>\n",
       "<table border=\"1\" class=\"dataframe\">\n",
       "  <thead>\n",
       "    <tr style=\"text-align: right;\">\n",
       "      <th></th>\n",
       "      <th>flight_number</th>\n",
       "      <th>departure_airport_code</th>\n",
       "      <th>arrival_airport_code</th>\n",
       "      <th>departure_date</th>\n",
       "      <th>arrival_date</th>\n",
       "      <th>departure_time</th>\n",
       "      <th>arrival_time</th>\n",
       "      <th>flight_duration</th>\n",
       "      <th>airline_name</th>\n",
       "      <th>aircraft_type</th>\n",
       "      <th>departure_year</th>\n",
       "    </tr>\n",
       "  </thead>\n",
       "  <tbody>\n",
       "    <tr>\n",
       "      <th>0</th>\n",
       "      <td>1350</td>\n",
       "      <td>KJP</td>\n",
       "      <td>VOG</td>\n",
       "      <td>2022-03-26</td>\n",
       "      <td>2022-03-07</td>\n",
       "      <td>5:04</td>\n",
       "      <td>23:25</td>\n",
       "      <td>10.96</td>\n",
       "      <td>United</td>\n",
       "      <td>Embraer E190</td>\n",
       "      <td>2022</td>\n",
       "    </tr>\n",
       "    <tr>\n",
       "      <th>4</th>\n",
       "      <td>1261</td>\n",
       "      <td>TDK</td>\n",
       "      <td>LKU</td>\n",
       "      <td>2022-02-07</td>\n",
       "      <td>2022-01-26</td>\n",
       "      <td>4:25</td>\n",
       "      <td>16:50</td>\n",
       "      <td>7.05</td>\n",
       "      <td>United</td>\n",
       "      <td>Boeing 737</td>\n",
       "      <td>2022</td>\n",
       "    </tr>\n",
       "    <tr>\n",
       "      <th>6</th>\n",
       "      <td>7066</td>\n",
       "      <td>IXC</td>\n",
       "      <td>YTJ</td>\n",
       "      <td>2022-03-23</td>\n",
       "      <td>2022-12-19</td>\n",
       "      <td>10:51</td>\n",
       "      <td>21:11</td>\n",
       "      <td>13.01</td>\n",
       "      <td>United</td>\n",
       "      <td>Boeing 747</td>\n",
       "      <td>2022</td>\n",
       "    </tr>\n",
       "    <tr>\n",
       "      <th>7</th>\n",
       "      <td>5122</td>\n",
       "      <td>YVC</td>\n",
       "      <td>EGI</td>\n",
       "      <td>2022-03-19</td>\n",
       "      <td>2022-08-23</td>\n",
       "      <td>21:10</td>\n",
       "      <td>7:47</td>\n",
       "      <td>12.92</td>\n",
       "      <td>United</td>\n",
       "      <td>Embraer E190</td>\n",
       "      <td>2022</td>\n",
       "    </tr>\n",
       "    <tr>\n",
       "      <th>12</th>\n",
       "      <td>2730</td>\n",
       "      <td>LSZ</td>\n",
       "      <td>DTD</td>\n",
       "      <td>2022-11-15</td>\n",
       "      <td>2022-07-02</td>\n",
       "      <td>9:21</td>\n",
       "      <td>11:19</td>\n",
       "      <td>6.95</td>\n",
       "      <td>United</td>\n",
       "      <td>Boeing 777</td>\n",
       "      <td>2022</td>\n",
       "    </tr>\n",
       "    <tr>\n",
       "      <th>...</th>\n",
       "      <td>...</td>\n",
       "      <td>...</td>\n",
       "      <td>...</td>\n",
       "      <td>...</td>\n",
       "      <td>...</td>\n",
       "      <td>...</td>\n",
       "      <td>...</td>\n",
       "      <td>...</td>\n",
       "      <td>...</td>\n",
       "      <td>...</td>\n",
       "      <td>...</td>\n",
       "    </tr>\n",
       "    <tr>\n",
       "      <th>970</th>\n",
       "      <td>5726</td>\n",
       "      <td>DBS</td>\n",
       "      <td>TAC</td>\n",
       "      <td>2022-12-17</td>\n",
       "      <td>2022-05-11</td>\n",
       "      <td>6:23</td>\n",
       "      <td>2:05</td>\n",
       "      <td>15.15</td>\n",
       "      <td>United</td>\n",
       "      <td>Airbus A350</td>\n",
       "      <td>2022</td>\n",
       "    </tr>\n",
       "    <tr>\n",
       "      <th>976</th>\n",
       "      <td>9830</td>\n",
       "      <td>MQT</td>\n",
       "      <td>BGA</td>\n",
       "      <td>2022-08-25</td>\n",
       "      <td>2022-06-23</td>\n",
       "      <td>8:14</td>\n",
       "      <td>14:59</td>\n",
       "      <td>3.05</td>\n",
       "      <td>United</td>\n",
       "      <td>Boeing 747</td>\n",
       "      <td>2022</td>\n",
       "    </tr>\n",
       "    <tr>\n",
       "      <th>985</th>\n",
       "      <td>4517</td>\n",
       "      <td>BMG</td>\n",
       "      <td>MRF</td>\n",
       "      <td>2022-12-19</td>\n",
       "      <td>2022-08-20</td>\n",
       "      <td>9:25</td>\n",
       "      <td>18:49</td>\n",
       "      <td>4.93</td>\n",
       "      <td>United</td>\n",
       "      <td>Embraer E190</td>\n",
       "      <td>2022</td>\n",
       "    </tr>\n",
       "    <tr>\n",
       "      <th>989</th>\n",
       "      <td>4029</td>\n",
       "      <td>HEW</td>\n",
       "      <td>NRB</td>\n",
       "      <td>2022-09-06</td>\n",
       "      <td>2022-04-30</td>\n",
       "      <td>15:19</td>\n",
       "      <td>19:07</td>\n",
       "      <td>14.78</td>\n",
       "      <td>United</td>\n",
       "      <td>Boeing 777</td>\n",
       "      <td>2022</td>\n",
       "    </tr>\n",
       "    <tr>\n",
       "      <th>993</th>\n",
       "      <td>4898</td>\n",
       "      <td>SNY</td>\n",
       "      <td>YRM</td>\n",
       "      <td>2022-07-20</td>\n",
       "      <td>2022-02-09</td>\n",
       "      <td>18:35</td>\n",
       "      <td>19:45</td>\n",
       "      <td>14.08</td>\n",
       "      <td>United</td>\n",
       "      <td>Airbus A350</td>\n",
       "      <td>2022</td>\n",
       "    </tr>\n",
       "  </tbody>\n",
       "</table>\n",
       "<p>256 rows × 11 columns</p>\n",
       "</div>"
      ],
      "text/plain": [
       "     flight_number departure_airport_code arrival_airport_code departure_date  \\\n",
       "0             1350                    KJP                  VOG     2022-03-26   \n",
       "4             1261                    TDK                  LKU     2022-02-07   \n",
       "6             7066                    IXC                  YTJ     2022-03-23   \n",
       "7             5122                    YVC                  EGI     2022-03-19   \n",
       "12            2730                    LSZ                  DTD     2022-11-15   \n",
       "..             ...                    ...                  ...            ...   \n",
       "970           5726                    DBS                  TAC     2022-12-17   \n",
       "976           9830                    MQT                  BGA     2022-08-25   \n",
       "985           4517                    BMG                  MRF     2022-12-19   \n",
       "989           4029                    HEW                  NRB     2022-09-06   \n",
       "993           4898                    SNY                  YRM     2022-07-20   \n",
       "\n",
       "    arrival_date departure_time arrival_time  flight_duration airline_name  \\\n",
       "0     2022-03-07           5:04        23:25            10.96       United   \n",
       "4     2022-01-26           4:25        16:50             7.05       United   \n",
       "6     2022-12-19          10:51        21:11            13.01       United   \n",
       "7     2022-08-23          21:10         7:47            12.92       United   \n",
       "12    2022-07-02           9:21        11:19             6.95       United   \n",
       "..           ...            ...          ...              ...          ...   \n",
       "970   2022-05-11           6:23         2:05            15.15       United   \n",
       "976   2022-06-23           8:14        14:59             3.05       United   \n",
       "985   2022-08-20           9:25        18:49             4.93       United   \n",
       "989   2022-04-30          15:19        19:07            14.78       United   \n",
       "993   2022-02-09          18:35        19:45            14.08       United   \n",
       "\n",
       "    aircraft_type departure_year  \n",
       "0    Embraer E190           2022  \n",
       "4      Boeing 737           2022  \n",
       "6      Boeing 747           2022  \n",
       "7    Embraer E190           2022  \n",
       "12     Boeing 777           2022  \n",
       "..            ...            ...  \n",
       "970   Airbus A350           2022  \n",
       "976    Boeing 747           2022  \n",
       "985  Embraer E190           2022  \n",
       "989    Boeing 777           2022  \n",
       "993   Airbus A350           2022  \n",
       "\n",
       "[256 rows x 11 columns]"
      ]
     },
     "execution_count": 12,
     "metadata": {},
     "output_type": "execute_result"
    }
   ],
   "source": [
    "\n",
    "ua_filter= flights[\"airline_name\"] == \"United\"\n",
    "ua_flights = flights[ua_filter]\n",
    "ua_flights"
   ]
  },
  {
   "cell_type": "code",
   "execution_count": null,
   "metadata": {
    "tags": []
   },
   "outputs": [],
   "source": [
    "# Prompt 10 - display only orders that were delivered\n"
   ]
  },
  {
   "cell_type": "markdown",
   "metadata": {},
   "source": [
    "## Dataframe Boolean Filters with logical And\n",
    "\n",
    "Sometimes you want to filter a dataframe on two conditions for example:\n",
    "\n",
    "\n",
    "    - American Airlines AND\n",
    "    - Boeing 777 aircraft\n",
    "\n",
    "To do this we must use the dataframe AND operator: `&`\n",
    "\n",
    "Notice how we must include `()` around each boolean filter."
   ]
  },
  {
   "cell_type": "code",
   "execution_count": 18,
   "metadata": {},
   "outputs": [
    {
     "data": {
      "text/html": [
       "<div>\n",
       "<style scoped>\n",
       "    .dataframe tbody tr th:only-of-type {\n",
       "        vertical-align: middle;\n",
       "    }\n",
       "\n",
       "    .dataframe tbody tr th {\n",
       "        vertical-align: top;\n",
       "    }\n",
       "\n",
       "    .dataframe thead th {\n",
       "        text-align: right;\n",
       "    }\n",
       "</style>\n",
       "<table border=\"1\" class=\"dataframe\">\n",
       "  <thead>\n",
       "    <tr style=\"text-align: right;\">\n",
       "      <th></th>\n",
       "      <th>flight_number</th>\n",
       "      <th>departure_airport_code</th>\n",
       "      <th>arrival_airport_code</th>\n",
       "      <th>departure_date</th>\n",
       "      <th>arrival_date</th>\n",
       "      <th>departure_time</th>\n",
       "      <th>arrival_time</th>\n",
       "      <th>flight_duration</th>\n",
       "      <th>airline_name</th>\n",
       "      <th>aircraft_type</th>\n",
       "      <th>departure_year</th>\n",
       "    </tr>\n",
       "  </thead>\n",
       "  <tbody>\n",
       "    <tr>\n",
       "      <th>21</th>\n",
       "      <td>2329</td>\n",
       "      <td>ELA</td>\n",
       "      <td>XPK</td>\n",
       "      <td>2022-08-01</td>\n",
       "      <td>2022-03-02</td>\n",
       "      <td>22:09</td>\n",
       "      <td>7:53</td>\n",
       "      <td>7.79</td>\n",
       "      <td>American</td>\n",
       "      <td>Boeing 777</td>\n",
       "      <td>2022</td>\n",
       "    </tr>\n",
       "    <tr>\n",
       "      <th>40</th>\n",
       "      <td>4116</td>\n",
       "      <td>ZLX</td>\n",
       "      <td>ASY</td>\n",
       "      <td>2022-03-01</td>\n",
       "      <td>2022-09-28</td>\n",
       "      <td>2:51</td>\n",
       "      <td>10:53</td>\n",
       "      <td>14.57</td>\n",
       "      <td>American</td>\n",
       "      <td>Boeing 777</td>\n",
       "      <td>2022</td>\n",
       "    </tr>\n",
       "    <tr>\n",
       "      <th>52</th>\n",
       "      <td>2567</td>\n",
       "      <td>DGF</td>\n",
       "      <td>OSP</td>\n",
       "      <td>2022-03-06</td>\n",
       "      <td>2022-08-21</td>\n",
       "      <td>13:38</td>\n",
       "      <td>22:22</td>\n",
       "      <td>14.65</td>\n",
       "      <td>American</td>\n",
       "      <td>Boeing 777</td>\n",
       "      <td>2022</td>\n",
       "    </tr>\n",
       "    <tr>\n",
       "      <th>78</th>\n",
       "      <td>9761</td>\n",
       "      <td>SDY</td>\n",
       "      <td>BSF</td>\n",
       "      <td>2022-05-02</td>\n",
       "      <td>2022-01-06</td>\n",
       "      <td>23:11</td>\n",
       "      <td>18:50</td>\n",
       "      <td>7.35</td>\n",
       "      <td>American</td>\n",
       "      <td>Boeing 777</td>\n",
       "      <td>2022</td>\n",
       "    </tr>\n",
       "    <tr>\n",
       "      <th>114</th>\n",
       "      <td>6574</td>\n",
       "      <td>GZP</td>\n",
       "      <td>FEB</td>\n",
       "      <td>2022-04-30</td>\n",
       "      <td>2022-09-10</td>\n",
       "      <td>6:32</td>\n",
       "      <td>13:48</td>\n",
       "      <td>15.44</td>\n",
       "      <td>American</td>\n",
       "      <td>Boeing 777</td>\n",
       "      <td>2022</td>\n",
       "    </tr>\n",
       "  </tbody>\n",
       "</table>\n",
       "</div>"
      ],
      "text/plain": [
       "     flight_number departure_airport_code arrival_airport_code departure_date  \\\n",
       "21            2329                    ELA                  XPK     2022-08-01   \n",
       "40            4116                    ZLX                  ASY     2022-03-01   \n",
       "52            2567                    DGF                  OSP     2022-03-06   \n",
       "78            9761                    SDY                  BSF     2022-05-02   \n",
       "114           6574                    GZP                  FEB     2022-04-30   \n",
       "\n",
       "    arrival_date departure_time arrival_time  flight_duration airline_name  \\\n",
       "21    2022-03-02          22:09         7:53             7.79     American   \n",
       "40    2022-09-28           2:51        10:53            14.57     American   \n",
       "52    2022-08-21          13:38        22:22            14.65     American   \n",
       "78    2022-01-06          23:11        18:50             7.35     American   \n",
       "114   2022-09-10           6:32        13:48            15.44     American   \n",
       "\n",
       "    aircraft_type departure_year  \n",
       "21     Boeing 777           2022  \n",
       "40     Boeing 777           2022  \n",
       "52     Boeing 777           2022  \n",
       "78     Boeing 777           2022  \n",
       "114    Boeing 777           2022  "
      ]
     },
     "execution_count": 18,
     "metadata": {},
     "output_type": "execute_result"
    }
   ],
   "source": [
    " \n",
    "\n",
    "# Or I would do it this way\n",
    "\n",
    "#v_filter = h_filter_df['V (px)'] > 1080\n",
    "#final_answer_df = h_filter_df[v_filter]\n",
    "\n",
    "new_filter = (flights[\"airline_name\"] == \"American\") & (flights[\"aircraft_type\"] == \"Boeing 777\")\n",
    "special_flights = flights[new_filter]\n",
    "special_flights.head()"
   ]
  },
  {
   "cell_type": "code",
   "execution_count": 17,
   "metadata": {
    "tags": []
   },
   "outputs": [
    {
     "data": {
      "text/plain": [
       "0      False\n",
       "1      False\n",
       "2      False\n",
       "3      False\n",
       "4      False\n",
       "       ...  \n",
       "995    False\n",
       "996    False\n",
       "997    False\n",
       "998    False\n",
       "999    False\n",
       "Length: 1000, dtype: bool"
      ]
     },
     "execution_count": 17,
     "metadata": {},
     "output_type": "execute_result"
    }
   ],
   "source": [
    "# PROMPT 11 - show \"special orders\": those orders delivered to the Canada in year 2023\n",
    "(flights[\"airline_name\"] == \"American\") & (flights[\"aircraft_type\"] == \"Boeing 777\")"
   ]
  },
  {
   "cell_type": "markdown",
   "metadata": {},
   "source": [
    "## Flight Tracker\n",
    "\n",
    "Inputs:\n",
    "\n",
    "    - Range for the duration of the flight\n",
    "    - Airline\n",
    "    \n",
    "Outputs:\n",
    "    \n",
    "    -DataFrame of flights matching that criteira\n"
   ]
  },
  {
   "cell_type": "code",
   "execution_count": null,
   "metadata": {
    "tags": []
   },
   "outputs": [],
   "source": [
    "# Get Data\n",
    "airlines = sorted(list(flights['airline_name'].dropna().unique()))\n",
    "shortest = flights['flight_duration'].min()\n",
    "longest = flights['flight_duration'].max()\n",
    "\n",
    "# Make widgets\n",
    "airline_dropdown = widgets.Dropdown(options=airlines, description=\"Airline\")\n",
    "flight_duration_slider = widgets.FloatRangeSlider(\n",
    "    min = shortest, max=longest, step=0.5, description=\"Duration\")\n",
    "\n",
    "@interact_manual(airline=airline_dropdown, duration=flight_duration_slider)\n",
    "def on_click(airline, duration):\n",
    "    filtered_flights = flights[\n",
    "        (flights[\"airline_name\"] == airline) &\n",
    "        (flights[\"flight_duration\"] >= duration[0]) &\n",
    "        (flights[\"flight_duration\"] <= duration[1])\n",
    "    ]\n",
    "    display(filtered_flights)\n",
    "\n"
   ]
  },
  {
   "cell_type": "markdown",
   "metadata": {},
   "source": [
    "## Order Report\n",
    "\n",
    "Inputs:\n",
    "\n",
    "    - Range Slider for the order amount total\n",
    "    - Year of order, Order Status, Customer Country as drop downs\n",
    "    \n",
    "Outputs:\n",
    "    \n",
    "    -DataFrame of orders matching the selected criteria\n"
   ]
  },
  {
   "cell_type": "code",
   "execution_count": null,
   "metadata": {
    "tags": []
   },
   "outputs": [],
   "source": [
    "orders.columns # a refresher of the available columns"
   ]
  },
  {
   "cell_type": "code",
   "execution_count": null,
   "metadata": {
    "tags": []
   },
   "outputs": [],
   "source": [
    "# PROMPT 12 - make the order report!\n",
    "\n",
    "# Get Data for widgets\n",
    "orders = pd.read_csv(\"https://raw.githubusercontent.com/mafudge/datasets/master/orders/sample-orders.csv\")\n",
    "orders['orderyear'] = orders['orderdate'].str[:4]\n",
    "\n",
    "# Make widgets\n",
    "\n",
    "\n",
    "# main iteract \n",
    "@interact_manual(    )\n",
    "def on_click(   ):\n",
    "    \n",
    "    \n",
    "    \n",
    "    display(filtered_orders)"
   ]
  },
  {
   "cell_type": "code",
   "execution_count": null,
   "metadata": {},
   "outputs": [],
   "source": []
  }
 ],
 "metadata": {
  "anaconda-cloud": {},
  "kernelspec": {
   "display_name": "Python 3 (ipykernel)",
   "language": "python",
   "name": "python3"
  },
  "language_info": {
   "codemirror_mode": {
    "name": "ipython",
    "version": 3
   },
   "file_extension": ".py",
   "mimetype": "text/x-python",
   "name": "python",
   "nbconvert_exporter": "python",
   "pygments_lexer": "ipython3",
   "version": "3.11.7"
  },
  "toc": {
   "base_numbering": 1,
   "nav_menu": {},
   "number_sections": false,
   "sideBar": false,
   "skip_h1_title": false,
   "title_cell": "Table of Contents",
   "title_sidebar": "Contents",
   "toc_cell": false,
   "toc_position": {},
   "toc_section_display": false,
   "toc_window_display": false
  },
  "varInspector": {
   "cols": {
    "lenName": 16,
    "lenType": 16,
    "lenVar": 40
   },
   "kernels_config": {
    "python": {
     "delete_cmd_postfix": "",
     "delete_cmd_prefix": "del ",
     "library": "var_list.py",
     "varRefreshCmd": "print(var_dic_list())"
    },
    "r": {
     "delete_cmd_postfix": ") ",
     "delete_cmd_prefix": "rm(",
     "library": "var_list.r",
     "varRefreshCmd": "cat(var_dic_list()) "
    }
   },
   "types_to_exclude": [
    "module",
    "function",
    "builtin_function_or_method",
    "instance",
    "_Feature"
   ],
   "window_display": false
  }
 },
 "nbformat": 4,
 "nbformat_minor": 4
}
