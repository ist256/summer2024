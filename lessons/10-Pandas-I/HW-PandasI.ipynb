{
 "cells": [
  {
   "cell_type": "markdown",
   "metadata": {},
   "source": [
    "# Homework: iSchool Class Search\n",
    "\n",
    "## The Problem\n",
    "\n",
    "You have been hired to build an interactive data product for the iSchool that makes it easier for students to find classes. Your task is to read in a schedule of classes and create a user interface that allows someone to search the classes by:\n",
    "\n",
    "    - Level: Gradudate / Undergraduate\n",
    "    - Mode: Campus / Online\n",
    "    - Meeting: MW / TuTh / MWF / etc...\n",
    "    - Contents of the Course title\n",
    "    \n",
    "The program should then output a dataframe of the courses which match the selected criteria.\n",
    "\n",
    "If this were a real-world project there would be two key steps 1) building the data pipeline to aquire the necessary data and then 2) building the user interface around the data. Because it an assignment this will be a simplified version.\n",
    "\n",
    "The data can be found at the following URL: `https://raw.githubusercontent.com/mafudge/datasets/master/classes/ischool-schedule-fall2015.csv`\n",
    "\n",
    "See the final product in action here: [https://imgur.com/a/MXTQZiX](https://imgur.com/a/MXTQZiX)\n",
    "\n",
    "\n",
    "## Approach:\n",
    "\n",
    "This assignment is broken up into parts. We will use problem simplification to solve this problem and take a bottom up approach, making the components, then assembling them together.\n",
    "\n",
    "- **You Code 2.1** Load the data into a pandas dataframe\n",
    "- **You Code 2.2** Data Cleanup\n",
    "- **You Code 2.3** Engineer the Columns we Need\n",
    "- **You Code 2.4** Building data for our widgets\n",
    "- **You Code 2.5** Assemble the program from its parts\n",
    "\n",
    "Since we are taking a bottom up approach, **hold off on completing part 1, until you are on step 2.5**\n"
   ]
  },
  {
   "cell_type": "markdown",
   "metadata": {
    "label": "problem_analysis_cell"
   },
   "source": [
    "## Part 1: Problem Analysis\n",
    "\n",
    "You will complete a problem analysis for the entire program. **Since we are using the bottom-up approach, do not attempt until step 2.5**\n",
    "\n",
    "\n",
    "### 1.1 Program Outputs\n",
    "\n",
    "Describe your program outputs in the cell below. \n"
   ]
  },
  {
   "cell_type": "markdown",
   "metadata": {
    "editable": true,
    "label": "analysis_output_cell",
    "slideshow": {
     "slide_type": ""
    },
    "tags": []
   },
   "source": []
  },
  {
   "cell_type": "markdown",
   "metadata": {},
   "source": [
    "### 1.2 Program Inputs\n",
    "\n",
    "List out the program inputs in the cell below.\n"
   ]
  },
  {
   "cell_type": "markdown",
   "metadata": {
    "editable": true,
    "label": "analysis_input_cell",
    "slideshow": {
     "slide_type": ""
    },
    "tags": []
   },
   "source": []
  },
  {
   "cell_type": "markdown",
   "metadata": {},
   "source": [
    "### 1.3 The Plan (Algorithm)\n",
    "\n",
    "Explain, as specifically as you can, without writing code, how the program works from input to output. Be detailed with your plan as you will need to turn it into code. \n"
   ]
  },
  {
   "cell_type": "markdown",
   "metadata": {
    "label": "analysis_plan_cell",
    "tags": []
   },
   "source": []
  },
  {
   "cell_type": "markdown",
   "metadata": {},
   "source": [
    "## Part 2: Code Solution\n",
    "\n",
    "You may write your code in several cells, but place the complete, final working copy of your code solution within this single cell below. Only the within this cell will be considered your solution. Any imports or user-defined functions should be copied into this cell. "
   ]
  },
  {
   "cell_type": "code",
   "execution_count": null,
   "metadata": {
    "label": "code_solution_cell"
   },
   "outputs": [],
   "source": []
  },
  {
   "cell_type": "code",
   "execution_count": null,
   "metadata": {},
   "outputs": [],
   "source": []
  },
  {
   "cell_type": "code",
   "execution_count": null,
   "metadata": {},
   "outputs": [],
   "source": []
  },
  {
   "cell_type": "markdown",
   "metadata": {},
   "source": [
    "### You Code 2.1: Load the data into a pandas datafrmae\n",
    "\n",
    "In this first step, import the `pandas` and `numpy` libraries and then write code to load the dataset from the url found in the instructions at the top. Load into a Pandas DataFrame.\n",
    "\n",
    "Also for your own sanity, you should probably ignore Pandas `filterwarnings`. We did this in the lab.\n",
    "\n",
    "use the `print()` function to display the first 10 classes.  The code checker will scan this output so if you want this to pass you will need to use `print()` instead of `display()`\n",
    "\n",
    "Just know that you can use `display()` while figuring it out, but if you want to pass the code checks, you'll habe to switch to `print()`"
   ]
  },
  {
   "cell_type": "code",
   "execution_count": null,
   "metadata": {
    "code_cell_type": "write_code",
    "editable": true,
    "label": "2.1",
    "slideshow": {
     "slide_type": ""
    },
    "solution": [],
    "tags": [],
    "tests": [
     {
      "input-stream": "\n",
      "kind": "runcode",
      "search-output": [
       "IST645",
       "M800",
       "[10 rows x 9 columns]"
      ]
     }
    ]
   },
   "outputs": [],
   "source": [
    "# SOLUTION CELL 2.1\n",
    "\n",
    "# FOR CHECKER: PRINT FIRST 10 ROWS\n"
   ]
  },
  {
   "cell_type": "markdown",
   "metadata": {},
   "source": [
    "### You Code 2.2: Data Cleanup\n",
    "\n",
    "If you look over the data with `info()` you will notice there are missing values in the `Instructor(s)`, `Day`, and `Room(s)` columns. We need to clean this data up before presenting it as the missing values showing `\"NaN\"` will be confusing to the users of our program.\n",
    "\n",
    "Specifically do the following:\n",
    "\n",
    "- in the `Instructor(s)` column replace all `NaN` with `\"Staff\"`. Its common for universities to use this label when the instructor is to be determined.\n",
    "- in the `Room(s)` column replace `NaN` with `\"TBA\"`. Its common for universities to use this label when the room will be announced later TBA == To be Announced.\n",
    "- in the `Day` column replace `NaN` with `\"N/A\"`. N/A means not applicable. \n",
    "\n",
    "TIPS : \n",
    "\n",
    "- use the column-selector then boolean filter approach used in the lab and small group: `df[col][boolean-index-selector] = value`\n",
    "- your boolean index selector cannot compare the column to `np.nan` e.g. `col == np.nan` this is not the way to find nulls in a series!\n",
    "- if you screw up your dataframe, don't fret just run 2.1 to reload it!\n",
    "\n",
    "To pass the checker:\n",
    "- include your solution to 2.1 WITHOUT the print\n",
    "- add your code to replace the NaN columns\n",
    "- print the first 2 rows in the dataframe, which should have these updated values.\n"
   ]
  },
  {
   "cell_type": "code",
   "execution_count": null,
   "metadata": {
    "code_cell_type": "write_code",
    "editable": true,
    "label": "2.2",
    "slideshow": {
     "slide_type": ""
    },
    "solution": [],
    "tags": [],
    "tests": [
     {
      "input-stream": "\n",
      "kind": "runcode",
      "search-output": [
       "Staff",
       "N/A",
       "TBA"
      ]
     }
    ]
   },
   "outputs": [],
   "source": [
    "# SOLUTION CELL 2.2\n",
    "\n",
    "# COPY CODE FROM 2.1 INCLUDE THE IMPORTS!\n",
    "\n",
    "\n",
    "# YOUR CLEANUP CODE\n",
    "\n",
    "# FOR CHECKER: PRINT FIRST TWO ROWS\n"
   ]
  },
  {
   "cell_type": "markdown",
   "metadata": {},
   "source": [
    "### You Code 2.3 - Engineer the columns we need\n",
    "\n",
    "Next we need to engineer two the columns. Here are the criteria:\n",
    "\n",
    "- Column name `Level`, value is: \n",
    "  - `\"Graduate\"` number part of the course is >=500 , e.g. `IST625` (`625>=500`)\n",
    "  - `\"Undergraduate\"` number part of the course is <500 e.g. `IST256 (`256<500`)  \n",
    "  \n",
    "-   \n",
    "- Column name `Mode`, value is:\n",
    "  - `\"Online\"` 2nd character in Section is an `\"8\"` e.g. `M800`\n",
    "  - `\"Campus\"` 2nd character in Section is not an `\"8\"` e.g. `M012`\n",
    "    \n",
    "TIPS :\n",
    "\n",
    "- Again, use the column-selector then boolean filter approach used in the lab and small group: `df[col][boolean-index-selector] = value`\n",
    "- if you screw up your dataframe, don't fret just run 2.1 to reload it!\n",
    "\n",
    "To pass the checker:\n",
    "\n",
    "- include your solution to 2.1 WITHOUT the print\n",
    "- add your code to replace the NaN columns\n",
    "- print a slice of the dataframe from 98 to 104, which should have these updated values.\n"
   ]
  },
  {
   "cell_type": "code",
   "execution_count": null,
   "metadata": {
    "code_cell_type": "write_code",
    "editable": true,
    "label": "2.3",
    "slideshow": {
     "slide_type": ""
    },
    "solution": [],
    "tags": [],
    "tests": [
     {
      "input-stream": "\n",
      "kind": "runcode",
      "search-output": [
       "Graduate",
       "Undergraduate",
       "Campus",
       "Online"
      ]
     }
    ]
   },
   "outputs": [],
   "source": [
    "# SOLUTION CELL 2.3\n",
    "\n",
    "# COPY CODE FROM 2.1 INCLUDE THE IMPORTS!\n",
    "\n",
    "# ENGINEER COLUMNS\n",
    "\n",
    "# FOR CHECKER: PRINT SLICE FROM 100 to 106\n"
   ]
  },
  {
   "cell_type": "markdown",
   "metadata": {},
   "source": [
    "### You Code 2.4 Buidling data for our widgets\n",
    "\n",
    "Next we need to build the data for our dropdown input widgets. We need three:\n",
    "\n",
    "1. a sorted list of unique non NaN values in the `Mode` Series, call this variable `modes`\n",
    "2. a sorted list of unique non NaN values in the `Level` Series, call this variable `levels`\n",
    "3. a sorted list of unique non NaN values in the `Day` Series, call this variable `days`\n",
    "\n",
    "TIPS :\n",
    "\n",
    "- Take the approach we used in the small group activity. \n",
    "- You do not need to create a custom widget here, just the Python lists of unique values.\n",
    "\n",
    "To pass the checker:\n",
    "\n",
    "- include your solutions from 2.1, 2.2 and 2.4 WITHOUT the print statements from those sections\n",
    "- add your code create the three lists\n",
    "- print the lists\n"
   ]
  },
  {
   "cell_type": "code",
   "execution_count": null,
   "metadata": {
    "code_cell_type": "write_code",
    "editable": true,
    "label": "2.4",
    "slideshow": {
     "slide_type": ""
    },
    "solution": [],
    "tags": [],
    "tests": [
     {
      "input-stream": "\n",
      "kind": "runcode",
      "search-output": [
       "Graduate",
       "Undergraduate",
       "Campus",
       "Online",
       "MWF",
       "N/A",
       "TuTh"
      ]
     }
    ]
   },
   "outputs": [],
   "source": [
    "# SOLUTION CELL 2.4\n",
    "\n",
    "# COPY CODE FROM 2.1, 2.2 and 2.3 \n",
    "\n",
    "# CREATE LISTS\n",
    "\n",
    "# FOR CHECKER: PRINT EACH LIST\n"
   ]
  },
  {
   "cell_type": "markdown",
   "metadata": {},
   "source": [
    "### You Code 2.5 Assemble the final program as an interact\n",
    "\n",
    "With all the components built, its time to consider the complete program.\n",
    "\n",
    "- Complete the Problem Analysis Section above. \n",
    "  - What are the 4 inputs?\n",
    "  - What is the 1 output?\n",
    "  \n",
    "TIPS: \n",
    "\n",
    "- As you write your algorithm remember you will peform steps 2.1 - 2.4 **before** you accept any input.\n",
    "- the `on_click()` handler should filter the dataframe based on the inputs. This is similar to the Small Group exercise, but we will not need to create custom widgets the default ones are fine.\n",
    "- Since there are 4 inputs, there should be 4 arguments to `@interact_manual` and the `on_click()` function.\n",
    "- use `display()` to print the filtered dataframe.\n"
   ]
  },
  {
   "cell_type": "code",
   "execution_count": null,
   "metadata": {
    "tags": []
   },
   "outputs": [],
   "source": [
    "# SOLUTION CELL 2.5\n",
    "import pandas as pd\n",
    "import numpy as np\n",
    "import warnings\n",
    "from IPython.display import display, HTML\n",
    "from ipywidgets import interact_manual\n",
    "warnings.filterwarnings('ignore')\n",
    "\n"
   ]
  },
  {
   "cell_type": "markdown",
   "metadata": {
    "label": "homework_questions_cell"
   },
   "source": [
    "## Part 3: Metacognition\n",
    "\n",
    "These questions are designed to prompt you to reflect on your learning. Reflection is part of the assignment grade so please take time to answer the questions thoughtfully.\n",
    "\n",
    "#### 3.1 List at least 3 things you learned this week and/or throughout the process of completing this assignment?"
   ]
  },
  {
   "cell_type": "markdown",
   "metadata": {
    "label": "learned_cell"
   },
   "source": []
  },
  {
   "cell_type": "markdown",
   "metadata": {},
   "source": [
    "#### 3.2 What were the challenges or roadblocks (if any) you encountered on the way to completing it?"
   ]
  },
  {
   "cell_type": "markdown",
   "metadata": {
    "label": "challenges_cell"
   },
   "source": []
  },
  {
   "cell_type": "markdown",
   "metadata": {},
   "source": [
    "#### 3.3 Were you prepared for this assignment? What can you do to be better prepared?"
   ]
  },
  {
   "cell_type": "markdown",
   "metadata": {
    "label": "prepared_cell"
   },
   "source": []
  },
  {
   "cell_type": "markdown",
   "metadata": {},
   "source": [
    "#### 3.4 Did someone (or something such as AI) help you? Did You help someone? Provide details. "
   ]
  },
  {
   "cell_type": "markdown",
   "metadata": {
    "label": "help_cell"
   },
   "source": []
  },
  {
   "cell_type": "markdown",
   "metadata": {},
   "source": [
    "#### 3.5  Now that you have completed the assignment rate your comfort level with this week’s material. This should be an honest assessment of your ability: \n",
    "\n",
    "**1** ==> I don't understand this at all yet and need extra help. If you choose this please try to articulate that which you do not understand to the best of your ability in the questions and comments section below.  \n",
    "**2** ==> I can do this with help or guidance from other people or resources. If you choose this level, please indicate HOW this person helped you in the questions and comments section below.   \n",
    "**3** ==> I can do this on my own without any help.   \n",
    "**4** ==> I can do this on my own and can explain/teach how to do it to others.\n",
    "\n",
    "`ENTER A NUMBER 1-4 IN THE CELL BELOW`"
   ]
  },
  {
   "cell_type": "markdown",
   "metadata": {
    "label": "comfort_cell"
   },
   "source": []
  },
  {
   "cell_type": "markdown",
   "metadata": {
    "label": ""
   },
   "source": [
    "## Part 4: Turning it in\n",
    "\n",
    "FIRST AND FOREMOST: **Save Your work!** Yes, it auto-saves, but you should get in the habit of saving before submitting. From the menu, choose File --> Save Notebook. Or you can use the shortcut keys `CTRL+S`\n",
    "\n",
    "### Homework Check\n",
    "\n",
    "Check your homework before submitting. Look for errors and incomplete parts which might cost you a better grade."
   ]
  },
  {
   "cell_type": "code",
   "execution_count": null,
   "metadata": {
    "tags": []
   },
   "outputs": [],
   "source": [
    "from casstools.notebook_tools import NotebookFile\n",
    "NotebookFile().check_homework()"
   ]
  },
  {
   "cell_type": "markdown",
   "metadata": {
    "label": ""
   },
   "source": [
    "### Homework Submission\n",
    "\n",
    "Run this code and follow the instructions to turn in your homework."
   ]
  },
  {
   "cell_type": "code",
   "execution_count": null,
   "metadata": {},
   "outputs": [],
   "source": [
    "from casstools.assignment import Assignment\n",
    "Assignment().submit()"
   ]
  },
  {
   "cell_type": "code",
   "execution_count": null,
   "metadata": {},
   "outputs": [],
   "source": []
  }
 ],
 "metadata": {
  "anaconda-cloud": {},
  "celltoolbar": "Edit Metadata",
  "kernelspec": {
   "display_name": "Python 3 (ipykernel)",
   "language": "python",
   "name": "python3"
  },
  "language_info": {
   "codemirror_mode": {
    "name": "ipython",
    "version": 3
   },
   "file_extension": ".py",
   "mimetype": "text/x-python",
   "name": "python",
   "nbconvert_exporter": "python",
   "pygments_lexer": "ipython3",
   "version": "3.11.7"
  },
  "toc": {
   "base_numbering": 1,
   "nav_menu": {},
   "number_sections": false,
   "sideBar": false,
   "skip_h1_title": false,
   "title_cell": "Table of Contents",
   "title_sidebar": "Contents",
   "toc_cell": false,
   "toc_position": {},
   "toc_section_display": false,
   "toc_window_display": false
  },
  "varInspector": {
   "cols": {
    "lenName": 16,
    "lenType": 16,
    "lenVar": 40
   },
   "kernels_config": {
    "python": {
     "delete_cmd_postfix": "",
     "delete_cmd_prefix": "del ",
     "library": "var_list.py",
     "varRefreshCmd": "print(var_dic_list())"
    },
    "r": {
     "delete_cmd_postfix": ") ",
     "delete_cmd_prefix": "rm(",
     "library": "var_list.r",
     "varRefreshCmd": "cat(var_dic_list()) "
    }
   },
   "types_to_exclude": [
    "module",
    "function",
    "builtin_function_or_method",
    "instance",
    "_Feature"
   ],
   "window_display": false
  }
 },
 "nbformat": 4,
 "nbformat_minor": 4
}
