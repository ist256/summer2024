{
 "cells": [
  {
   "cell_type": "markdown",
   "metadata": {},
   "source": [
    "# Now You Code In Class: Exchange Rates\n",
    "\n",
    "This exercise consists of two parts, demonstrating problem simplification. In the first part we complete the program under the assumption all inputs are valid, in part two we write the complete program, handling bad input.\n",
    "\n",
    "# Part One\n",
    "\n",
    "You have been tasked with writing a program to help employees of a travel company convert currency.\n",
    "\n",
    "The company travels to the following places. Next to the place is the exchange rate.\n",
    "\n",
    "- Europe:  1 US Dollar == 0.9 Euro\n",
    "- China: 1 US Dollar == 7.2 Chineese Yuan\n",
    "- Russia: 1 US Dollar == 64.2 Russian Ruble\n",
    "\n",
    "You should write a program to input the amount of currency in US Dollars, and then input the place (either Europe, China, or Russia). \n",
    "\n",
    "The program should then output the appropriate amount of exchanged currency. \n",
    "\n",
    "Example Run 1:\n",
    "\n",
    "```\n",
    "Enter the amount of Currency in US Dollars: $100\n",
    "Enter the place you are travelling: Europe, China or Russia? China\n",
    "\n",
    "$100.00 US Dollars is $720.00 Chineese Yuan\n",
    "\n",
    "```\n"
   ]
  },
  {
   "cell_type": "markdown",
   "metadata": {},
   "source": [
    "## Problem Analysis\n",
    "\n",
    "Inputs:\n",
    "\n",
    "    PROMPT 1: What are the inputs?\n",
    "    \n",
    "    - A String of Country Travelling to: one of [Europe, China or Russia]\n",
    "    - Us Dollar Amount as a float\n",
    "\n",
    "Outputs:\n",
    "\n",
    "    PROMPT 2: What are the outputs?\n",
    "    \n",
    "    - The quivalent amount of money in the currency of the country you are travelling to.\n",
    "\n",
    "Algorithm (Steps in Program):\n",
    "\n",
    "    PROMPT 3: What are the steps, from input to output? Express in your own words\n",
    "    \n",
    "\n",
    "    input money is us dollars and country travelling to\n",
    "    if travelling to europe\n",
    "        target currency = 0.9 * money\n",
    "    else if  travelling to russia\n",
    "        target currency = 64.2 * money\n",
    "    else if travelling to china\n",
    "        target currency = 7.2 * money\n",
    "    output target currency\n",
    "        "
   ]
  },
  {
   "cell_type": "code",
   "execution_count": 20,
   "metadata": {},
   "outputs": [
    {
     "name": "stdin",
     "output_type": "stream",
     "text": [
      "Enter the place you are traveling: Europe, Russia, China:  Russia\n",
      "Enter amount of U.S. Currency you are exchanging:  A lot\n"
     ]
    },
    {
     "ename": "ValueError",
     "evalue": "could not convert string to float: 'A lot'",
     "output_type": "error",
     "traceback": [
      "\u001b[0;31m---------------------------------------------------------------------------\u001b[0m",
      "\u001b[0;31mValueError\u001b[0m                                Traceback (most recent call last)",
      "Cell \u001b[0;32mIn[20], line 4\u001b[0m\n\u001b[1;32m      1\u001b[0m \u001b[38;5;66;03m# PROMPT 4 Code the solution!!!\u001b[39;00m\n\u001b[1;32m      3\u001b[0m destination \u001b[38;5;241m=\u001b[39m \u001b[38;5;28minput\u001b[39m(\u001b[38;5;124m\"\u001b[39m\u001b[38;5;124mEnter the place you are traveling: Europe, Russia, China: \u001b[39m\u001b[38;5;124m\"\u001b[39m)\n\u001b[0;32m----> 4\u001b[0m currency \u001b[38;5;241m=\u001b[39m \u001b[38;5;28;43mfloat\u001b[39;49m\u001b[43m(\u001b[49m\u001b[38;5;28;43minput\u001b[39;49m\u001b[43m(\u001b[49m\u001b[38;5;124;43m\"\u001b[39;49m\u001b[38;5;124;43mEnter amount of U.S. Currency you are exchanging: \u001b[39;49m\u001b[38;5;124;43m\"\u001b[39;49m\u001b[43m)\u001b[49m\u001b[43m)\u001b[49m\n\u001b[1;32m      6\u001b[0m rus, euro, chn \u001b[38;5;241m=\u001b[39m \u001b[38;5;241m64.2\u001b[39m, \u001b[38;5;241m0.9\u001b[39m, \u001b[38;5;241m7.2\u001b[39m\n\u001b[1;32m      7\u001b[0m \u001b[38;5;28;01mif\u001b[39;00m destination \u001b[38;5;241m==\u001b[39m \u001b[38;5;124m\"\u001b[39m\u001b[38;5;124mRussia\u001b[39m\u001b[38;5;124m\"\u001b[39m:\n",
      "\u001b[0;31mValueError\u001b[0m: could not convert string to float: 'A lot'"
     ]
    }
   ],
   "source": [
    "# PROMPT 4 Code the solution!!!\n",
    "\n",
    "destination = input(\"Enter the place you are traveling: Europe, Russia, China: \")\n",
    "currency = float(input(\"Enter amount of U.S. Currency you are exchanging: \"))\n",
    "\n",
    "rus, euro, chn = 64.2, 0.9, 7.2\n",
    "if destination == \"Russia\":\n",
    "    target_currency = rus * currency\n",
    "    currency_name = \"Rubles\"\n",
    "elif destination == \"China\":\n",
    "    target_currency = chn * currency\n",
    "    currency_name = \"Yuan\"\n",
    "elif destination == \"Europe\":\n",
    "    target_currency = euro * currency\n",
    "    currency_name = \"Euro\"\n",
    "else:\n",
    "    print(\"Invalid destination. Please enter Russia, China, or Europe.\")\n",
    "\n",
    "print(f\"{target_currency} {currency_name}\")"
   ]
  },
  {
   "cell_type": "markdown",
   "metadata": {},
   "source": [
    "# Part Two\n",
    "\n",
    "After you get that working, re-write the program to account for bad input, such as the case where you enter a non-numerical value for US Dollars, or when you enter a place other than the three accepted locations.\n",
    "\n",
    "Example Run 2: (bad currency)\n",
    "\n",
    "```\n",
    "Enter the amount of Currency in US Dollars: A hundo\n",
    "\n",
    "'A Hundo' is not a valid amount!\n",
    "\n",
    "```\n",
    "\n",
    "Example Run 2: (unsupported country)\n",
    "\n",
    "```\n",
    "Enter the amount of Currency in US Dollars: $100\n",
    "Enter the place you are travelling: Europe, China or Russia? Canada\n",
    "\n",
    "Sorry. You cannot travel to 'Canada' at this time\n",
    "\n",
    "```\n",
    "\n",
    "\n",
    "## Problem Analysis\n",
    "\n",
    "- explain your approach to handle an unsupported country: \n",
    "\n",
    "    PROMPT 5\n",
    "    \n",
    "    else\n",
    "\n",
    "- Explain your approach to handle bad currency\n",
    "\n",
    "    PROMPT 6\n",
    "    \n",
    "    try except == runtime error\n",
    "\n"
   ]
  },
  {
   "cell_type": "code",
   "execution_count": null,
   "metadata": {},
   "outputs": [],
   "source": [
    "# PROMPT 7 (copy code from PROMPT 4) re-write to address unsupported country\n",
    "\n",
    "\n",
    "destination = input(\"Enter the place you are traveling: Europe, Russia, China: \")\n",
    "currency = float(input(\"Enter amount of U.S. Currency you are exchanging: \"))\n",
    "\n",
    "rus, euro, chn = 64.2, 0.9, 7.2\n",
    "if destination == \"Russia\":\n",
    "    target_currency = rus * currency\n",
    "    currency_name = \"Rubles\"\n",
    "elif destination == \"China\":\n",
    "    target_currency = chn * currency\n",
    "    currency_name = \"Yuan\"\n",
    "elif destination == \"Europe\":\n",
    "    target_currency = euro * currency\n",
    "    currency_name = \"Euro\"\n",
    "else:\n",
    "    print(\"Invalid destination. Please enter Russia, China, or Europe.\")\n",
    "\n",
    "print(f\"{target_currency} {currency_name}\")"
   ]
  },
  {
   "cell_type": "code",
   "execution_count": 21,
   "metadata": {},
   "outputs": [
    {
     "name": "stdin",
     "output_type": "stream",
     "text": [
      "Enter the place you are traveling: Europe, Russia, China:  China\n",
      "Enter amount of U.S. Currency you are exchanging:  shdagfjKWRJHFFGHKWFGHE\n"
     ]
    },
    {
     "name": "stdout",
     "output_type": "stream",
     "text": [
      "I cannot convert to currency. Error: could not convert string to float: 'shdagfjKWRJHFFGHKWFGHE'\n"
     ]
    }
   ],
   "source": [
    "# FINAL VERSION\n",
    "# PROMPT 8 (copy code from PROMPT 7) re-write to address bad currency\n",
    "try:\n",
    "    destination = input(\"Enter the place you are traveling: Europe, Russia, China: \")\n",
    "    currency = float(input(\"Enter amount of U.S. Currency you are exchanging: \"))\n",
    "\n",
    "    rus, euro, chn = 64.2, 0.9, 7.2\n",
    "    if destination == \"Russia\":\n",
    "        target_currency = rus * currency\n",
    "        currency_name = \"Rubles\"\n",
    "    elif destination == \"China\":\n",
    "        target_currency = chn * currency\n",
    "        currency_name = \"Yuan\"\n",
    "    elif destination == \"Europe\":\n",
    "        target_currency = euro * currency\n",
    "        currency_name = \"Euro\"\n",
    "    else:\n",
    "        currency_name = \"NONE\"\n",
    "        print(\"Invalid destination. Please enter Russia, China, or Europe.\")\n",
    "\n",
    "    if currency_name != \"NONE\":\n",
    "        print(f\"{target_currency} {currency_name}\")\n",
    "        \n",
    "except ValueError as e:\n",
    "    print(f\"I cannot convert to currency. Error: {e}\")"
   ]
  },
  {
   "cell_type": "code",
   "execution_count": 24,
   "metadata": {},
   "outputs": [
    {
     "name": "stdout",
     "output_type": "stream",
     "text": [
      "✅ TIMESTAMP  : 2024-02-07 15:27\n",
      "✅ COURSE     : ist256\n",
      "✅ TERM       : spring2024\n",
      "✅ USER       : mafudge@syr.edu\n",
      "✅ STUDENT    : True\n",
      "✅ PATH       : ist256/spring2024/lessons/03-Conditionals/SmallGroup-Conditionals.ipynb\n",
      "✅ ASSIGNMENT : SmallGroup-Conditionals.ipynb\n",
      "✅ POINTS     : 3\n",
      "✅ DUE DATE   : 2024-02-07 23:59\n",
      "✅ LATE       : False\n",
      "✅ STATUS     : New Submission\n",
      "\n"
     ]
    },
    {
     "name": "stdin",
     "output_type": "stream",
     "text": [
      "❓ Submit? [y/n] ❓  y\n"
     ]
    },
    {
     "name": "stdout",
     "output_type": "stream",
     "text": [
      "\n",
      "👍 SUBMITTED\n",
      "📃 RECIEPT   : ad45a6a9cec26a7e1d9336c6596de2f6\n"
     ]
    }
   ],
   "source": [
    "# run this code to turn in your work!\n",
    "from casstools.assignment import Assignment\n",
    "Assignment().submit()"
   ]
  },
  {
   "cell_type": "code",
   "execution_count": null,
   "metadata": {},
   "outputs": [],
   "source": []
  },
  {
   "cell_type": "code",
   "execution_count": 23,
   "metadata": {
    "tags": []
   },
   "outputs": [
    {
     "name": "stdin",
     "output_type": "stream",
     "text": [
      "Enter amount of currency in US Dollars:  1000\n",
      "Enter the country you are travelling to: shdafgkjsghdafjk\n"
     ]
    },
    {
     "name": "stdout",
     "output_type": "stream",
     "text": [
      "Cannot convert to currency. Error: shdafgkjsghdafjk is not one of the defined countries. Please enter Europe, Russia, or China.\n"
     ]
    }
   ],
   "source": [
    "try:\n",
    "    money = float(input(\"Enter amount of currency in US Dollars: \"))\n",
    "    country = input(\"Enter the country you are travelling to:\")\n",
    "\n",
    "    rus, euro, chn = 64.2, 0.9, 7.2\n",
    "\n",
    "    if (country == \"Europe\"):\n",
    "        target_currency = euro * money\n",
    "        currency_name = \"Euros\"\n",
    "    elif (country == \"Russia\"):\n",
    "        target_currency = rus * money\n",
    "        currency_name = \"Rubles\"\n",
    "    elif (country == \"China\"):\n",
    "        target_currency = chn * money\n",
    "        currency_name = \"Yuan\"\n",
    "    else:\n",
    "        raise Exception(f\"{country} is not one of the defined countries. Please enter Europe, Russia, or China.\")\n",
    "\n",
    "    print(f\"${money} in US Dollars is ${target_currency} {currency_name} in {country}.\")\n",
    "\n",
    "except Exception as e:\n",
    "    print(f\"Cannot convert to currency. Error: {e}\")\n"
   ]
  },
  {
   "cell_type": "code",
   "execution_count": null,
   "metadata": {},
   "outputs": [],
   "source": []
  },
  {
   "cell_type": "code",
   "execution_count": 13,
   "metadata": {
    "tags": []
   },
   "outputs": [
    {
     "name": "stdin",
     "output_type": "stream",
     "text": [
      "Enter your GPA: a lot\n"
     ]
    },
    {
     "name": "stdout",
     "output_type": "stream",
     "text": [
      "An error has occured. Details: could not convert string to float: 'a lot'\n"
     ]
    }
   ],
   "source": [
    "# Let's talk try except\n",
    "\n",
    "try:\n",
    "    gpa = float(input(\"Enter your GPA:\"))\n",
    "    if not (gpa >= 0 and gpa <= 4):\n",
    "        raise Exception(f\"{gpa} is not between 0 and 4\")\n",
    "    if gpa > 3:\n",
    "        print(\"You are smart!\")\n",
    "    else:\n",
    "        print(f\"{gpa} is pretty decent\")\n",
    "except Exception as e:\n",
    "    print(f\"An error has occured. Details: {e}\")\n"
   ]
  },
  {
   "cell_type": "code",
   "execution_count": null,
   "metadata": {},
   "outputs": [],
   "source": []
  }
 ],
 "metadata": {
  "anaconda-cloud": {},
  "kernelspec": {
   "display_name": "Python 3 (ipykernel)",
   "language": "python",
   "name": "python3"
  },
  "language_info": {
   "codemirror_mode": {
    "name": "ipython",
    "version": 3
   },
   "file_extension": ".py",
   "mimetype": "text/x-python",
   "name": "python",
   "nbconvert_exporter": "python",
   "pygments_lexer": "ipython3",
   "version": "3.11.7"
  },
  "toc": {
   "base_numbering": 1,
   "nav_menu": {},
   "number_sections": false,
   "sideBar": false,
   "skip_h1_title": false,
   "title_cell": "Table of Contents",
   "title_sidebar": "Contents",
   "toc_cell": false,
   "toc_position": {},
   "toc_section_display": false,
   "toc_window_display": false
  },
  "varInspector": {
   "cols": {
    "lenName": 16,
    "lenType": 16,
    "lenVar": 40
   },
   "kernels_config": {
    "python": {
     "delete_cmd_postfix": "",
     "delete_cmd_prefix": "del ",
     "library": "var_list.py",
     "varRefreshCmd": "print(var_dic_list())"
    },
    "r": {
     "delete_cmd_postfix": ") ",
     "delete_cmd_prefix": "rm(",
     "library": "var_list.r",
     "varRefreshCmd": "cat(var_dic_list()) "
    }
   },
   "position": {
    "height": "144.857px",
    "left": "321.143px",
    "right": "20px",
    "top": "120px",
    "width": "350px"
   },
   "types_to_exclude": [
    "module",
    "function",
    "builtin_function_or_method",
    "instance",
    "_Feature"
   ],
   "window_display": false
  }
 },
 "nbformat": 4,
 "nbformat_minor": 4
}
