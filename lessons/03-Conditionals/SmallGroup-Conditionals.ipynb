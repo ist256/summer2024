{
 "cells": [
  {
   "cell_type": "markdown",
   "metadata": {},
   "source": [
    "# Now You Code In Class: Exchange Rates\n",
    "\n",
    "This exercise consists of two parts, demonstrating problem simplification. In the first part we complete the program under the assumption all inputs are valid, in part two we write the complete program, handling bad input.\n",
    "\n",
    "# Part One\n",
    "\n",
    "You have been tasked with writing a program to help employees of a travel company convert currency.\n",
    "\n",
    "The company travels to the following places. Next to the place is the exchange rate.\n",
    "\n",
    "- Europe:  1 US Dollar == 0.9 Euro\n",
    "- China: 1 US Dollar == 7.2 Chineese Yuan\n",
    "- Russia: 1 US Dollar == 64.2 Russian Ruble\n",
    "\n",
    "You should write a program to input the amount of currency in US Dollars, and then input the place (either Europe, China, or Russia). \n",
    "\n",
    "The program should then output the appropriate amount of exchanged currency. \n",
    "\n",
    "Example Run 1:\n",
    "\n",
    "```\n",
    "Enter the amount of Currency in US Dollars: $100\n",
    "Enter the place you are travelling: Europe, China or Russia? China\n",
    "\n",
    "$100.00 US Dollars is $720.00 Chineese Yuan\n",
    "\n",
    "```\n"
   ]
  },
  {
   "cell_type": "markdown",
   "metadata": {},
   "source": [
    "## Problem Analysis\n",
    "\n",
    "Inputs:\n",
    "\n",
    "    PROMPT 1: What are the inputs?\n",
    "    \n",
    "    \n",
    "\n",
    "Outputs:\n",
    "\n",
    "    PROMPT 2: What are the outputs?\n",
    "    \n",
    "   \n",
    "\n",
    "Algorithm (Steps in Program):\n",
    "\n",
    "    PROMPT 3: What are the steps, from input to output? Express in your own words\n",
    "    \n",
    "\n",
    "    \n",
    "        "
   ]
  },
  {
   "cell_type": "code",
   "execution_count": null,
   "metadata": {},
   "outputs": [],
   "source": [
    "# PROMPT 4 Code the solution!!!\n",
    "\n"
   ]
  },
  {
   "cell_type": "markdown",
   "metadata": {},
   "source": [
    "# Part Two\n",
    "\n",
    "After you get that working, re-write the program to account for bad input, such as the case where you enter a non-numerical value for US Dollars, or when you enter a place other than the three accepted locations.\n",
    "\n",
    "Example Run 2: (bad currency)\n",
    "\n",
    "```\n",
    "Enter the amount of Currency in US Dollars: A hundo\n",
    "\n",
    "'A Hundo' is not a valid amount!\n",
    "\n",
    "```\n",
    "\n",
    "Example Run 2: (unsupported country)\n",
    "\n",
    "```\n",
    "Enter the amount of Currency in US Dollars: $100\n",
    "Enter the place you are travelling: Europe, China or Russia? Canada\n",
    "\n",
    "Sorry. You cannot travel to 'Canada' at this time\n",
    "\n",
    "```\n",
    "\n",
    "\n",
    "## Problem Analysis\n",
    "\n",
    "- explain your approach to handle an unsupported country: \n",
    "\n",
    "    PROMPT 5\n",
    "    \n",
    "    \n",
    "\n",
    "- Explain your approach to handle bad currency\n",
    "\n",
    "    PROMPT 6\n",
    "    \n",
    "   \n",
    "\n"
   ]
  },
  {
   "cell_type": "code",
   "execution_count": null,
   "metadata": {},
   "outputs": [],
   "source": [
    "# PROMPT 7 (copy code from PROMPT 4) re-write to address unsupported country\n",
    "\n",
    "\n"
   ]
  },
  {
   "cell_type": "code",
   "execution_count": null,
   "metadata": {},
   "outputs": [],
   "source": [
    "# FINAL VERSION\n",
    "# PROMPT 8 (copy code from PROMPT 7) re-write to address bad currency\n",
    "\n",
    "\n",
    "\n"
   ]
  },
  {
   "cell_type": "code",
   "execution_count": null,
   "metadata": {},
   "outputs": [],
   "source": []
  },
  {
   "cell_type": "code",
   "execution_count": null,
   "metadata": {},
   "outputs": [],
   "source": []
  },
  {
   "cell_type": "code",
   "execution_count": null,
   "metadata": {},
   "outputs": [],
   "source": []
  }
 ],
 "metadata": {
  "anaconda-cloud": {},
  "kernelspec": {
   "display_name": "Python 3 (ipykernel)",
   "language": "python",
   "name": "python3"
  },
  "language_info": {
   "codemirror_mode": {
    "name": "ipython",
    "version": 3
   },
   "file_extension": ".py",
   "mimetype": "text/x-python",
   "name": "python",
   "nbconvert_exporter": "python",
   "pygments_lexer": "ipython3",
   "version": "3.11.7"
  },
  "toc": {
   "base_numbering": 1,
   "nav_menu": {},
   "number_sections": false,
   "sideBar": false,
   "skip_h1_title": false,
   "title_cell": "Table of Contents",
   "title_sidebar": "Contents",
   "toc_cell": false,
   "toc_position": {},
   "toc_section_display": false,
   "toc_window_display": false
  },
  "varInspector": {
   "cols": {
    "lenName": 16,
    "lenType": 16,
    "lenVar": 40
   },
   "kernels_config": {
    "python": {
     "delete_cmd_postfix": "",
     "delete_cmd_prefix": "del ",
     "library": "var_list.py",
     "varRefreshCmd": "print(var_dic_list())"
    },
    "r": {
     "delete_cmd_postfix": ") ",
     "delete_cmd_prefix": "rm(",
     "library": "var_list.r",
     "varRefreshCmd": "cat(var_dic_list()) "
    }
   },
   "position": {
    "height": "144.857px",
    "left": "321.143px",
    "right": "20px",
    "top": "120px",
    "width": "350px"
   },
   "types_to_exclude": [
    "module",
    "function",
    "builtin_function_or_method",
    "instance",
    "_Feature"
   ],
   "window_display": false
  }
 },
 "nbformat": 4,
 "nbformat_minor": 4
}
