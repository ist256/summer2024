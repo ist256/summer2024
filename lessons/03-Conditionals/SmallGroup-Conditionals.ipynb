{
 "cells": [
  {
   "cell_type": "markdown",
   "metadata": {},
   "source": [
    "# Now You Code In Class: Exchange Rates\n",
    "\n",
    "This exercise consists of two parts, demonstrating problem simplification. In the first part we complete the program under the assumption all inputs are valid, in part two we write the complete program, handling bad input.\n",
    "\n",
    "# Part One\n",
    "\n",
    "You have been tasked with writing a program to help employees of a travel company convert currency.\n",
    "\n",
    "The company travels to the following places. Next to the place is the exchange rate.\n",
    "\n",
    "- Europe:  1 US Dollar == 0.9 Euro\n",
    "- China: 1 US Dollar == 7.2 Chineese Yuan\n",
    "- Russia: 1 US Dollar == 64.2 Russian Ruble\n",
    "\n",
    "You should write a program to input the amount of currency in US Dollars, and then input the place (either Europe, China, or Russia). \n",
    "\n",
    "The program should then output the appropriate amount of exchanged currency. \n",
    "\n",
    "Example Run 1:\n",
    "\n",
    "```\n",
    "Enter the amount of Currency in US Dollars: $100\n",
    "Enter the place you are travelling: Europe, China or Russia? China\n",
    "\n",
    "$100.00 US Dollars is $720.00 Chinese Yuan\n",
    "\n",
    "```\n"
   ]
  },
  {
   "cell_type": "markdown",
   "metadata": {},
   "source": [
    "## Problem Analysis\n",
    "\n",
    "Inputs:\n",
    "\n",
    "    PROMPT 1: What are the inputs?\n",
    "    \n",
    "    what country are you going to\n",
    "    amount of US dollars I have to spend\n",
    "\n",
    "Outputs:\n",
    "\n",
    "    PROMPT 2: What are the outputs?\n",
    "    amount of money in the new country currency type (dollars, yuan, ruble)\n",
    "   \n",
    "\n",
    "Algorithm (Steps in Program):\n",
    "\n",
    "    PROMPT 3: What are the steps, from input to output? Express in your own words\n",
    "    ask user how much money they have\n",
    "    ask user where they want to go\n",
    "    convert user money amount to country amount\n",
    "    print out the message\n",
    "\n",
    "    \n",
    "        "
   ]
  },
  {
   "cell_type": "code",
   "execution_count": 6,
   "metadata": {},
   "outputs": [
    {
     "name": "stdin",
     "output_type": "stream",
     "text": [
      "Enter the amount of money you have to travel:  100\n",
      "Where are you going? Europe, China, Russia:  China\n"
     ]
    },
    {
     "name": "stdout",
     "output_type": "stream",
     "text": [
      "$100.00 US Dollars is $720.00 Ruble\n"
     ]
    }
   ],
   "source": [
    "# PROMPT 4 Code the solution!!!\n",
    "\n",
    "dollar_amt = float(input(\"Enter the amount of money you have to travel: \"))\n",
    "location = input(\"Where are you going? Europe, China, Russia: \")\n",
    "if location == 'Europe':\n",
    "    travel_amt = dollar_amt * .9\n",
    "    currency_type = \"Euros\"\n",
    "elif location == \"China\":\n",
    "    travel_amt = dollar_amt * 7.2\n",
    "    currency_type == \"Yuan\"\n",
    "else:\n",
    "    travel_amt = dollar_amt * 64.2\n",
    "    currency_type = \"Ruble\"\n",
    "print(f\"${dollar_amt:.2f} US Dollars is ${travel_amt:.2f} {currency_type}\")"
   ]
  },
  {
   "cell_type": "markdown",
   "metadata": {},
   "source": [
    "# Part Two\n",
    "\n",
    "After you get that working, re-write the program to account for bad input, such as the case where you enter a non-numerical value for US Dollars, or when you enter a place other than the three accepted locations.\n",
    "\n",
    "Example Run 2: (bad currency)\n",
    "\n",
    "```\n",
    "Enter the amount of Currency in US Dollars: A hundo\n",
    "\n",
    "'A Hundo' is not a valid amount!\n",
    "\n",
    "```\n",
    "\n",
    "Example Run 2: (unsupported country)\n",
    "\n",
    "```\n",
    "Enter the amount of Currency in US Dollars: $100\n",
    "Enter the place you are travelling: Europe, China or Russia? Canada\n",
    "\n",
    "Sorry. You cannot travel to 'Canada' at this time\n",
    "\n",
    "```\n",
    "\n",
    "\n",
    "## Problem Analysis\n",
    "\n",
    "- explain your approach to handle an unsupported country: \n",
    "\n",
    "    PROMPT 5\n",
    "    \n",
    "    \n",
    "\n",
    "- Explain your approach to handle bad currency\n",
    "\n",
    "    PROMPT 6\n",
    "    \n",
    "   \n",
    "\n"
   ]
  },
  {
   "cell_type": "code",
   "execution_count": 12,
   "metadata": {},
   "outputs": [
    {
     "name": "stdin",
     "output_type": "stream",
     "text": [
      "Enter the amount of money you have to travel:  not much\n"
     ]
    },
    {
     "ename": "ValueError",
     "evalue": "could not convert string to float: 'not much'",
     "output_type": "error",
     "traceback": [
      "\u001b[0;31m---------------------------------------------------------------------------\u001b[0m",
      "\u001b[0;31mValueError\u001b[0m                                Traceback (most recent call last)",
      "Cell \u001b[0;32mIn[12], line 3\u001b[0m\n\u001b[1;32m      1\u001b[0m \u001b[38;5;66;03m# PROMPT 7 (copy code from PROMPT 4) re-write to address unsupported country\u001b[39;00m\n\u001b[0;32m----> 3\u001b[0m dollar_amt \u001b[38;5;241m=\u001b[39m \u001b[38;5;28;43mfloat\u001b[39;49m\u001b[43m(\u001b[49m\u001b[38;5;28;43minput\u001b[39;49m\u001b[43m(\u001b[49m\u001b[38;5;124;43m\"\u001b[39;49m\u001b[38;5;124;43mEnter the amount of money you have to travel: \u001b[39;49m\u001b[38;5;124;43m\"\u001b[39;49m\u001b[43m)\u001b[49m\u001b[43m)\u001b[49m\n\u001b[1;32m      4\u001b[0m location \u001b[38;5;241m=\u001b[39m \u001b[38;5;28minput\u001b[39m(\u001b[38;5;124m\"\u001b[39m\u001b[38;5;124mWhere are you going? Europe, China, Russia: \u001b[39m\u001b[38;5;124m\"\u001b[39m)\n\u001b[1;32m      5\u001b[0m \u001b[38;5;28;01mif\u001b[39;00m location \u001b[38;5;129;01min\u001b[39;00m [\u001b[38;5;124m'\u001b[39m\u001b[38;5;124mEurope\u001b[39m\u001b[38;5;124m'\u001b[39m, \u001b[38;5;124m'\u001b[39m\u001b[38;5;124mChina\u001b[39m\u001b[38;5;124m'\u001b[39m, \u001b[38;5;124m'\u001b[39m\u001b[38;5;124mRussia\u001b[39m\u001b[38;5;124m'\u001b[39m]:\n",
      "\u001b[0;31mValueError\u001b[0m: could not convert string to float: 'not much'"
     ]
    }
   ],
   "source": [
    "# PROMPT 7 (copy code from PROMPT 4) re-write to address unsupported country\n",
    "\n",
    "dollar_amt = float(input(\"Enter the amount of money you have to travel: \"))\n",
    "location = input(\"Where are you going? Europe, China, Russia: \")\n",
    "if location in ['Europe', 'China', 'Russia']:\n",
    "    if location == 'Europe':\n",
    "        travel_amt = dollar_amt * .9\n",
    "        currency_type = \"Euros\"\n",
    "    elif location == \"China\":\n",
    "        travel_amt = dollar_amt * 7.2\n",
    "        currency_type == \"Yuan\"\n",
    "    elif location == \"Russia\":\n",
    "        travel_amt = dollar_amt * 64.2\n",
    "        currency_type = \"Ruble\"\n",
    "    print(f\"${dollar_amt:.2f} US Dollars is ${travel_amt:.2f} {currency_type}\")\n",
    "else:\n",
    "    print (\"you can't go there\")\n",
    " \n"
   ]
  },
  {
   "cell_type": "code",
   "execution_count": 15,
   "metadata": {},
   "outputs": [
    {
     "name": "stdin",
     "output_type": "stream",
     "text": [
      "Enter the amount of money you have to travel:  100\n",
      "Where are you going? Europe, China, Russia:  Canada\n"
     ]
    },
    {
     "name": "stdout",
     "output_type": "stream",
     "text": [
      "you can't go there\n"
     ]
    }
   ],
   "source": [
    "# FINAL VERSION\n",
    "# PROMPT 8 (copy code from PROMPT 7) re-write to address bad currency\n",
    "\n",
    "try:\n",
    "    dollar_amt = float(input(\"Enter the amount of money you have to travel: \"))\n",
    "    location = input(\"Where are you going? Europe, China, Russia: \")\n",
    "    if location in ['Europe', 'China', 'Russia']:\n",
    "        if location == 'Europe':\n",
    "            travel_amt = dollar_amt * .9\n",
    "            currency_type = \"Euros\"\n",
    "        elif location == \"China\":\n",
    "            travel_amt = dollar_amt * 7.2\n",
    "            currency_type == \"Yuan\"\n",
    "        elif location == \"Russia\":\n",
    "            travel_amt = dollar_amt * 64.2\n",
    "            currency_type = \"Ruble\"\n",
    "        print(f\"${dollar_amt:.2f} US Dollars is ${travel_amt:.2f} {currency_type}\")\n",
    "    else:\n",
    "        print (\"you can't go there\")\n",
    "except(ValueError):\n",
    "    print(f\"You entered an invalid dollar amount\")\n",
    "        \n",
    "        \n"
   ]
  },
  {
   "cell_type": "code",
   "execution_count": null,
   "metadata": {},
   "outputs": [],
   "source": []
  },
  {
   "cell_type": "code",
   "execution_count": null,
   "metadata": {},
   "outputs": [],
   "source": []
  },
  {
   "cell_type": "code",
   "execution_count": null,
   "metadata": {},
   "outputs": [],
   "source": []
  }
 ],
 "metadata": {
  "anaconda-cloud": {},
  "kernelspec": {
   "display_name": "Python 3 (ipykernel)",
   "language": "python",
   "name": "python3"
  },
  "language_info": {
   "codemirror_mode": {
    "name": "ipython",
    "version": 3
   },
   "file_extension": ".py",
   "mimetype": "text/x-python",
   "name": "python",
   "nbconvert_exporter": "python",
   "pygments_lexer": "ipython3",
   "version": "3.11.7"
  },
  "toc": {
   "base_numbering": 1,
   "nav_menu": {},
   "number_sections": false,
   "sideBar": false,
   "skip_h1_title": false,
   "title_cell": "Table of Contents",
   "title_sidebar": "Contents",
   "toc_cell": false,
   "toc_position": {},
   "toc_section_display": false,
   "toc_window_display": false
  },
  "varInspector": {
   "cols": {
    "lenName": 16,
    "lenType": 16,
    "lenVar": 40
   },
   "kernels_config": {
    "python": {
     "delete_cmd_postfix": "",
     "delete_cmd_prefix": "del ",
     "library": "var_list.py",
     "varRefreshCmd": "print(var_dic_list())"
    },
    "r": {
     "delete_cmd_postfix": ") ",
     "delete_cmd_prefix": "rm(",
     "library": "var_list.r",
     "varRefreshCmd": "cat(var_dic_list()) "
    }
   },
   "position": {
    "height": "144.857px",
    "left": "321.143px",
    "right": "20px",
    "top": "120px",
    "width": "350px"
   },
   "types_to_exclude": [
    "module",
    "function",
    "builtin_function_or_method",
    "instance",
    "_Feature"
   ],
   "window_display": false
  }
 },
 "nbformat": 4,
 "nbformat_minor": 4
}
