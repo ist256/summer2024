{
 "cells": [
  {
   "cell_type": "markdown",
   "metadata": {
    "editable": true,
    "slideshow": {
     "slide_type": ""
    },
    "tags": []
   },
   "source": [
    "# Homework: Professor Charles Xavier's Teaching Assistant\n",
    "\n",
    "## The Problem\n",
    "\n",
    "Professor Charles Xavier has asked us to write a program to automatically calculate a final letter grade and grade points on a 4.0 scale forhis course based on an input point range. Here is the grading scale he uses: \n",
    "\n",
    "    Point Range Grade Grade Points\n",
    "    125-150     A     4.0\n",
    "    100-124     B     3.0\n",
    "    75-99       C     2.0\n",
    "    50-74       D     1.0\n",
    "    0-49        F     0.0\n",
    "    \n",
    "  \n",
    "Write a Python program to input a number of points earned and then outputs the letter grade and grade points.\n",
    "\n",
    "For example, when 105 is the input:\n",
    "\n",
    "    Professor Xavier's Grade Calculator\n",
    "    Input the total points earned 0 to 150: 105\n",
    "    Grade: B Grade Points: 3.0\n",
    "\n",
    "Another example, when 50 is the input:\n",
    "\n",
    "    Professor Xavier's Grade Calculator\n",
    "    Input the total points earned 0 to 150: 50\n",
    "    Grade: D Grade Points: 1.0\n",
    "\n",
    "\n",
    "NOTE: You should store the grade and grade points in *variables*. **Do Not** `print()` each case explicitly! Input => Process => Output means we should not put input or output in our process!\n",
    "\n",
    "GOOD: `print(f\"Grade: {grade}...\")`   \n",
    "BAD:  `print(\"Grade: A...\")`  \n",
    "\n",
    "  \n",
    "### Handling Bad Input\n",
    "\n",
    "Your code should handle bad input. Specifically, there are two cases:\n",
    "\n",
    "1. Your code should perform bounds checking of the input.  Valid inputs are in the range 0 to 150. Invalid inputs might be -1000 or 200, for exampl.e\n",
    "2. Your code should handle non-integer input. Invalid inputs might 4.5 or \"fifty\".\n",
    "\n",
    "For example, when 500 is the input:\n",
    "\n",
    "    Professor Xavier's Grade Calculator\n",
    "    Input the total points earned 0 to 150: 500\n",
    "    Error: 500 is not in the range 0 to 150.\n",
    "\n",
    "Another example, when huge is the input:\n",
    "\n",
    "    Professor Xavier's Grade Calculator\n",
    "    Input the total points earned 0 to 150: huge\n",
    "    Error: input is not a number.\n",
    "\n",
    "## Approach\n",
    "\n",
    "We will use the **problem simplification** approach as learned in small group and the lab. First we solve a simpler problem, then we will solve the complete problem. There in this assignment you will write THREE programs!\n",
    "\n",
    "- First in You Code 2.1 we will calculate the grade assuming the point range is a number between 0 and 150.\n",
    "- Second in You Code 2.2 we re-write 2.1 to handle numbers outside the range 0 and 150\n",
    "- Finally in You Code 2.3 we re-write 2.2 to handle bad inputs that are not numbers.\n"
   ]
  },
  {
   "cell_type": "markdown",
   "metadata": {
    "editable": true,
    "label": "problem_analysis_cell",
    "slideshow": {
     "slide_type": ""
    },
    "tags": []
   },
   "source": [
    "## Part 1: Problem Analysis\n",
    "\n",
    "Once again we use the \"working backwards approach\"\n",
    "\n",
    "### 1.1 Program Outputs\n",
    "\n",
    "What is the program output. Describe it below.\n"
   ]
  },
  {
   "cell_type": "markdown",
   "metadata": {
    "editable": true,
    "label": "analysis_output_cell",
    "slideshow": {
     "slide_type": ""
    },
    "tags": []
   },
   "source": []
  },
  {
   "cell_type": "markdown",
   "metadata": {},
   "source": [
    "### 1.2 Program Inputs\n",
    "\n",
    "List out the program inputs in the cell below.\n"
   ]
  },
  {
   "cell_type": "markdown",
   "metadata": {
    "editable": true,
    "label": "analysis_input_cell",
    "slideshow": {
     "slide_type": ""
    },
    "tags": []
   },
   "source": []
  },
  {
   "cell_type": "markdown",
   "metadata": {
    "tags": []
   },
   "source": [
    "### 1.3 The Plan (Algorithm)\n",
    "\n",
    "Explain, as specifically as you can, without writing code, how the program works from input to output. Be detailed with your plan as you will need to turn it into code. \n"
   ]
  },
  {
   "cell_type": "markdown",
   "metadata": {
    "label": "analysis_plan_cell"
   },
   "source": []
  },
  {
   "cell_type": "markdown",
   "metadata": {},
   "source": [
    "## Part 2: Code Solution\n",
    "\n",
    "You may write your code in several cells, but place the complete, final working copy of your code solutions within the cell labeled `# SOLUTION CELL` everything required to make the code work should be in these cells, as per the instructions. "
   ]
  },
  {
   "cell_type": "code",
   "execution_count": 4,
   "metadata": {},
   "outputs": [
    {
     "name": "stdin",
     "output_type": "stream",
     "text": [
      "Input the total points earned 0 to 150:  130\n"
     ]
    },
    {
     "name": "stdout",
     "output_type": "stream",
     "text": [
      "Grade: A Grade Points: 4.0\n"
     ]
    }
   ],
   "source": [
    "#Just get this working with a grade of A. Just like we did Europe in class.\n",
    "\n",
    "grade_num = float(input(f\"Input the total points earned 0 to 150: \"))\n",
    "letter_grade = \"No Letter Yet\"\n",
    "if grade_num >= 125:\n",
    "    letter_grade = \"A\"\n",
    "    grade_pts = 4.0\n",
    "print (f\"Grade: {letter_grade} Grade Points: {grade_pts:.1f}\")"
   ]
  },
  {
   "cell_type": "code",
   "execution_count": null,
   "metadata": {},
   "outputs": [],
   "source": [
    "#Now it should be easier to add in the other grades in the scale.... place this in 2.1"
   ]
  },
  {
   "cell_type": "code",
   "execution_count": null,
   "metadata": {},
   "outputs": [],
   "source": []
  },
  {
   "cell_type": "markdown",
   "metadata": {},
   "source": [
    "### 2.1 You Code\n",
    "\n",
    "In this first iteration. Solve the problem with the assumption that **the input values will always be a number between 0 and 150**. Do not worry about the other cases!\n"
   ]
  },
  {
   "cell_type": "code",
   "execution_count": null,
   "metadata": {
    "code_cell_type": "write_code",
    "editable": true,
    "label": "2.1",
    "slideshow": {
     "slide_type": ""
    },
    "solution": [],
    "tags": [],
    "tests": [
     {
      "input-stream": "125\n",
      "kind": "runcode",
      "search-output": [
       "A",
       "4.0"
      ]
     },
     {
      "input-stream": "100\n",
      "kind": "runcode",
      "search-output": [
       "B",
       "3.0"
      ]
     },
     {
      "input-stream": "75\n",
      "kind": "runcode",
      "search-output": [
       "C",
       "2.0"
      ]
     },
     {
      "input-stream": "50\n",
      "kind": "runcode",
      "search-output": [
       "D",
       "1.0"
      ]
     },
     {
      "input-stream": "49\n",
      "kind": "runcode",
      "search-output": [
       "F",
       "0.0"
      ]
     }
    ]
   },
   "outputs": [],
   "source": [
    "# SOLUTION CELL 2.1\n"
   ]
  },
  {
   "cell_type": "markdown",
   "metadata": {},
   "source": [
    "### 2.2 You Code\n",
    "\n",
    "In this second iteration.  Solve the problem with the assumption that **the input values can be any number**.  You can start by copying your code from the previous solution cell, then adding the code so that it handles the other cases!"
   ]
  },
  {
   "cell_type": "code",
   "execution_count": null,
   "metadata": {
    "code_cell_type": "write_code",
    "editable": true,
    "label": "2.2",
    "slideshow": {
     "slide_type": ""
    },
    "solution": [],
    "tags": [],
    "tests": [
     {
      "input-stream": "-100\n",
      "kind": "runcode",
      "search-output": [
       "not in the range 0 to 150"
      ]
     },
     {
      "input-stream": "151\n",
      "kind": "runcode",
      "search-output": [
       "not in the range 0 to 150"
      ]
     }
    ]
   },
   "outputs": [],
   "source": [
    "# SOLUTION CELL 2.2\n",
    "# This is a lot like when we wanted to see if the person entered a valid country isn't it? \n"
   ]
  },
  {
   "cell_type": "markdown",
   "metadata": {
    "tags": []
   },
   "source": [
    "### 2.3 You Code\n",
    "\n",
    "Finally re-write your code from 2.2 to handle inputs that are not numbers. You will need to use `try`... `except` to address the error."
   ]
  },
  {
   "cell_type": "code",
   "execution_count": null,
   "metadata": {
    "code_cell_type": "write_code",
    "editable": true,
    "label": "2.3",
    "slideshow": {
     "slide_type": ""
    },
    "solution": [],
    "tags": [],
    "tests": [
     {
      "input-stream": "dsgfasdf\n",
      "kind": "runcode",
      "search-output": [
       "is not a number"
      ]
     }
    ]
   },
   "outputs": [],
   "source": [
    "# SOLUTION CELL 2.3\n",
    "# This mirrors the exception processing we did in class to insure they entered a valid money amount"
   ]
  },
  {
   "cell_type": "markdown",
   "metadata": {
    "label": "homework_questions_cell"
   },
   "source": [
    "## Part 3: Metacognition\n",
    "\n",
    "These questions are designed to prompt you to reflect on your learning. Reflection is part of the assignment grade so please take time to answer the questions thoughtfully.\n",
    "\n",
    "#### 3.1 List at least 3 things you learned this week and/or throughout the process of completing this assignment?"
   ]
  },
  {
   "cell_type": "markdown",
   "metadata": {
    "label": "learned_cell"
   },
   "source": []
  },
  {
   "cell_type": "markdown",
   "metadata": {},
   "source": [
    "#### 3.2 What were the challenges or roadblocks (if any) you encountered on the way to completing it?"
   ]
  },
  {
   "cell_type": "markdown",
   "metadata": {
    "label": "challenges_cell"
   },
   "source": []
  },
  {
   "cell_type": "markdown",
   "metadata": {},
   "source": [
    "#### 3.3 Were you prepared for this assignment? What can you do to be better prepared?"
   ]
  },
  {
   "cell_type": "markdown",
   "metadata": {
    "label": "prepared_cell"
   },
   "source": []
  },
  {
   "cell_type": "markdown",
   "metadata": {},
   "source": [
    "#### 3.4 Did someone (or something such as AI) help you? Did You help someone? Provide details. "
   ]
  },
  {
   "cell_type": "markdown",
   "metadata": {
    "label": "help_cell"
   },
   "source": []
  },
  {
   "cell_type": "markdown",
   "metadata": {},
   "source": [
    "#### 3.5  Now that you have completed the assignment rate your comfort level with this week’s material. This should be an honest assessment of your ability: \n",
    "\n",
    "**1** ==> I don't understand this at all yet and need extra help. If you choose this please try to articulate that which you do not understand to the best of your ability in the questions and comments section below.  \n",
    "**2** ==> I can do this with help or guidance from other people or resources. If you choose this level, please indicate HOW this person helped you in the questions and comments section below.   \n",
    "**3** ==> I can do this on my own without any help.   \n",
    "**4** ==> I can do this on my own and can explain/teach how to do it to others.\n",
    "\n",
    "`ENTER A NUMBER 1-4 IN THE CELL BELOW`"
   ]
  },
  {
   "cell_type": "markdown",
   "metadata": {
    "label": "comfort_cell"
   },
   "source": []
  },
  {
   "cell_type": "markdown",
   "metadata": {
    "label": ""
   },
   "source": [
    "## Part 4: Turning it in\n",
    "\n",
    "FIRST AND FOREMOST: **Save Your work!** Yes, it auto-saves, but you should get in the habit of saving before submitting. From the menu, choose File --> Save Notebook. Or you can use the shortcut keys `CTRL+S`\n",
    "\n",
    "### Homework Check\n",
    "\n",
    "Check your homework before submitting. Look for errors and incomplete parts which might cost you a better grade."
   ]
  },
  {
   "cell_type": "code",
   "execution_count": 1,
   "metadata": {},
   "outputs": [
    {
     "name": "stdout",
     "output_type": "stream",
     "text": [
      "❌ Problem Analysis 1.1 Program Outputs cell is blank. Thoughtful completion of this section factors into your grade.\n",
      "❌ Problem Analysis 1.2 Program Inputs cell is blank. Thoughtful completion of this section factors into your grade.\n",
      "❌ Problem Analysis 1.3 The Plan (Algorithm) cell is blank. Thoughtful completion of this section factors into your grade.\n",
      "❌ Metacognition 3.1 cell is blank. Thoughtful completion of this section factors into your grade.\n",
      "❌ Metacognition 3.2 cell is blank. Thoughtful completion of this section factors into your grade.\n",
      "❌ Metacognition 3.3 cell is blank. Thoughtful completion of this section factors into your grade.\n",
      "❌ Metacognition 3.4 cell is blank. Thoughtful completion of this section factors into your grade.\n",
      "❌ Metacognition 3.5 Comfort level is blank.\n",
      "❌ 2.1 does not have a code solution.\n",
      "❌ 2.2 does not have a code solution.\n",
      "❌ 2.3 does not have a code solution.\n"
     ]
    }
   ],
   "source": [
    "from casstools.notebook_tools import NotebookFile\n",
    "NotebookFile().check_homework()"
   ]
  },
  {
   "cell_type": "markdown",
   "metadata": {
    "label": ""
   },
   "source": [
    "### Homework Submission\n",
    "\n",
    "Run this code and follow the instructions to turn in your homework."
   ]
  },
  {
   "cell_type": "code",
   "execution_count": null,
   "metadata": {},
   "outputs": [],
   "source": [
    "from casstools.assignment import Assignment\n",
    "Assignment().submit()"
   ]
  },
  {
   "cell_type": "code",
   "execution_count": null,
   "metadata": {},
   "outputs": [],
   "source": []
  }
 ],
 "metadata": {
  "anaconda-cloud": {},
  "celltoolbar": "Edit Metadata",
  "kernelspec": {
   "display_name": "Python 3 (ipykernel)",
   "language": "python",
   "name": "python3"
  },
  "language_info": {
   "codemirror_mode": {
    "name": "ipython",
    "version": 3
   },
   "file_extension": ".py",
   "mimetype": "text/x-python",
   "name": "python",
   "nbconvert_exporter": "python",
   "pygments_lexer": "ipython3",
   "version": "3.11.7"
  },
  "toc": {
   "base_numbering": 1,
   "nav_menu": {},
   "number_sections": false,
   "sideBar": false,
   "skip_h1_title": false,
   "title_cell": "Table of Contents",
   "title_sidebar": "Contents",
   "toc_cell": false,
   "toc_position": {},
   "toc_section_display": false,
   "toc_window_display": false
  },
  "varInspector": {
   "cols": {
    "lenName": 16,
    "lenType": 16,
    "lenVar": 40
   },
   "kernels_config": {
    "python": {
     "delete_cmd_postfix": "",
     "delete_cmd_prefix": "del ",
     "library": "var_list.py",
     "varRefreshCmd": "print(var_dic_list())"
    },
    "r": {
     "delete_cmd_postfix": ") ",
     "delete_cmd_prefix": "rm(",
     "library": "var_list.r",
     "varRefreshCmd": "cat(var_dic_list()) "
    }
   },
   "types_to_exclude": [
    "module",
    "function",
    "builtin_function_or_method",
    "instance",
    "_Feature"
   ],
   "window_display": false
  }
 },
 "nbformat": 4,
 "nbformat_minor": 4
}
