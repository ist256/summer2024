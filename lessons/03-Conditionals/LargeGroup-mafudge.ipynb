{
 "cells": [
  {
   "cell_type": "markdown",
   "metadata": {},
   "source": [
    "# Code Samples From Large Group\n",
    "\n",
    "Place your notes and code samples from large group here."
   ]
  },
  {
   "cell_type": "code",
   "execution_count": 2,
   "metadata": {},
   "outputs": [
    {
     "name": "stdin",
     "output_type": "stream",
     "text": [
      "Enter a password: pizza\n"
     ]
    },
    {
     "name": "stdout",
     "output_type": "stream",
     "text": [
      "You guessed the password!\n",
      "And the program continues\n"
     ]
    }
   ],
   "source": [
    "password = input(\"Enter a password:\")\n",
    "\n",
    "if password == \"pizza\":\n",
    "    print(\"You guessed the password!\")\n",
    "else:\n",
    "    print(\"You guessed Wrong\")\n",
    "\n",
    "print(\"And the program continues\")"
   ]
  },
  {
   "cell_type": "code",
   "execution_count": 6,
   "metadata": {
    "tags": []
   },
   "outputs": [
    {
     "name": "stdin",
     "output_type": "stream",
     "text": [
      "Milk Qty: 0.8\n"
     ]
    },
    {
     "name": "stdout",
     "output_type": "stream",
     "text": [
      "collect data about the milk\n"
     ]
    }
   ],
   "source": [
    "milk = float(input(\"Milk Qty:\"))\n",
    "\n",
    "if milk < 0.5:\n",
    "    print(\"I will order more milk\")\n",
    "    print(\"Imagine this code order milk\")\n",
    "\n",
    "print(\"collect data about the milk\")"
   ]
  },
  {
   "cell_type": "code",
   "execution_count": 8,
   "metadata": {},
   "outputs": [
    {
     "name": "stdin",
     "output_type": "stream",
     "text": [
      "Enter rock, paper or scissors paper\n"
     ]
    },
    {
     "name": "stdout",
     "output_type": "stream",
     "text": [
      "you can follow instructions!\n"
     ]
    }
   ],
   "source": [
    "choice = input(\"Enter rock, paper or scissors\")\n",
    "if choice == \"rock\" or choice == \"paper\" or choice == \"scissors\":\n",
    "    print(\"you can follow instructions!\")\n",
    "else:\n",
    "    print(f\"Bad input {choice}\")"
   ]
  },
  {
   "cell_type": "code",
   "execution_count": 11,
   "metadata": {
    "tags": []
   },
   "outputs": [
    {
     "name": "stdin",
     "output_type": "stream",
     "text": [
      "Enter rock, paper or scissors mike\n"
     ]
    },
    {
     "name": "stdout",
     "output_type": "stream",
     "text": [
      "Bad input mike\n"
     ]
    }
   ],
   "source": [
    "choice = input(\"Enter rock, paper or scissors\")\n",
    "if choice in [\"rock\", \"paper\", \"scissors\"]:\n",
    "    print(\"you can follow instructions!\")\n",
    "else:\n",
    "    print(f\"Bad input {choice}\")"
   ]
  },
  {
   "cell_type": "code",
   "execution_count": 12,
   "metadata": {
    "tags": []
   },
   "outputs": [],
   "source": [
    "gpa = 3.2\n",
    "ischool = True\n",
    "grad = False"
   ]
  },
  {
   "cell_type": "code",
   "execution_count": 13,
   "metadata": {
    "tags": []
   },
   "outputs": [
    {
     "data": {
      "text/plain": [
       "True"
      ]
     },
     "execution_count": 13,
     "metadata": {},
     "output_type": "execute_result"
    }
   ],
   "source": [
    "not grad or ischool"
   ]
  },
  {
   "cell_type": "code",
   "execution_count": 14,
   "metadata": {
    "tags": []
   },
   "outputs": [
    {
     "data": {
      "text/plain": [
       "True"
      ]
     },
     "execution_count": 14,
     "metadata": {},
     "output_type": "execute_result"
    }
   ],
   "source": [
    "gpa > 2 and gpa < 4"
   ]
  },
  {
   "cell_type": "code",
   "execution_count": 15,
   "metadata": {
    "tags": []
   },
   "outputs": [],
   "source": [
    "x = 15\n",
    "y = 2\n",
    "z = 1"
   ]
  },
  {
   "cell_type": "code",
   "execution_count": 16,
   "metadata": {
    "tags": []
   },
   "outputs": [
    {
     "data": {
      "text/plain": [
       "30.0"
      ]
     },
     "execution_count": 16,
     "metadata": {},
     "output_type": "execute_result"
    }
   ],
   "source": [
    "(x * y) / z"
   ]
  },
  {
   "cell_type": "code",
   "execution_count": 17,
   "metadata": {
    "tags": []
   },
   "outputs": [
    {
     "data": {
      "text/plain": [
       "3"
      ]
     },
     "execution_count": 17,
     "metadata": {},
     "output_type": "execute_result"
    }
   ],
   "source": [
    "7 // 2"
   ]
  },
  {
   "cell_type": "code",
   "execution_count": null,
   "metadata": {},
   "outputs": [],
   "source": [
    "5 = execellent\n",
    "4 = good\n",
    "3 = fair\n",
    "poor"
   ]
  },
  {
   "cell_type": "code",
   "execution_count": null,
   "metadata": {},
   "outputs": [],
   "source": [
    "# this is bad... dont do this\n",
    "rating = input(\"Enter Rating number:\")\n",
    "\n",
    "if rating == 5:\n",
    "    print(\"Execellent\")\n",
    "elif rating == 4:\n",
    "    print(\"Good\")\n",
    "    "
   ]
  },
  {
   "cell_type": "code",
   "execution_count": 22,
   "metadata": {
    "tags": []
   },
   "outputs": [
    {
     "name": "stdin",
     "output_type": "stream",
     "text": [
      "Enter Rating number: 3\n"
     ]
    },
    {
     "name": "stdout",
     "output_type": "stream",
     "text": [
      "A 3-star rating is Fair\n"
     ]
    }
   ],
   "source": [
    "# do this instead\n",
    "rating = int(input(\"Enter Rating number:\"))\n",
    "label = \"\"\n",
    "\n",
    "if rating == 5:\n",
    "    label = \"Execellent\"\n",
    "elif rating == 4:\n",
    "    label = \"Good\"\n",
    "elif rating == 3:\n",
    "    label = \"Fair\"\n",
    "else:\n",
    "    label = \"Poor\"\n",
    "\n",
    "print(f\"A {rating}-star rating is {label}\")"
   ]
  },
  {
   "cell_type": "code",
   "execution_count": 20,
   "metadata": {
    "tags": []
   },
   "outputs": [
    {
     "data": {
      "text/plain": [
       "False"
      ]
     },
     "execution_count": 20,
     "metadata": {},
     "output_type": "execute_result"
    }
   ],
   "source": [
    "# put this on test\n",
    "\"3\" == 3"
   ]
  },
  {
   "cell_type": "code",
   "execution_count": 25,
   "metadata": {
    "tags": []
   },
   "outputs": [
    {
     "name": "stdin",
     "output_type": "stream",
     "text": [
      "Enter Rating number: 4\n"
     ]
    },
    {
     "name": "stdout",
     "output_type": "stream",
     "text": [
      "A 4-star rating is Poor\n"
     ]
    }
   ],
   "source": [
    "# do this instead\n",
    "rating = int(input(\"Enter Rating number:\"))\n",
    "label = \"\"\n",
    "\n",
    "if rating == 5:\n",
    "    label = \"Execellent\"\n",
    "if rating == 4:\n",
    "    label = \"Good\"\n",
    "if rating == 3:\n",
    "    label = \"Fair\"\n",
    "else:\n",
    "    label = \"Poor\"\n",
    "\n",
    "print(f\"A {rating}-star rating is {label}\")"
   ]
  },
  {
   "cell_type": "code",
   "execution_count": null,
   "metadata": {},
   "outputs": [],
   "source": []
  }
 ],
 "metadata": {
  "kernelspec": {
   "display_name": "Python 3 (ipykernel)",
   "language": "python",
   "name": "python3"
  },
  "language_info": {
   "codemirror_mode": {
    "name": "ipython",
    "version": 3
   },
   "file_extension": ".py",
   "mimetype": "text/x-python",
   "name": "python",
   "nbconvert_exporter": "python",
   "pygments_lexer": "ipython3",
   "version": "3.11.7"
  },
  "varInspector": {
   "cols": {
    "lenName": 16,
    "lenType": 16,
    "lenVar": 40
   },
   "kernels_config": {
    "python": {
     "delete_cmd_postfix": "",
     "delete_cmd_prefix": "del ",
     "library": "var_list.py",
     "varRefreshCmd": "print(var_dic_list())"
    },
    "r": {
     "delete_cmd_postfix": ") ",
     "delete_cmd_prefix": "rm(",
     "library": "var_list.r",
     "varRefreshCmd": "cat(var_dic_list()) "
    }
   },
   "position": {
    "height": "144.857px",
    "left": "697.143px",
    "right": "20px",
    "top": "129px",
    "width": "350px"
   },
   "types_to_exclude": [
    "module",
    "function",
    "builtin_function_or_method",
    "instance",
    "_Feature"
   ],
   "window_display": false
  }
 },
 "nbformat": 4,
 "nbformat_minor": 4
}
