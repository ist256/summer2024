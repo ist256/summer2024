{
 "cells": [
  {
   "cell_type": "markdown",
   "id": "f65741a1-0bda-4b66-a917-f095d12d44a9",
   "metadata": {},
   "source": [
    "## Lesson 03: Conditionals\n",
    "\n",
    "### Overview\n",
    "\n",
    "In this lesson we learn:\n",
    "\n",
    "- How to make our code execute in a non linear fashion through the use of conditionals.\n",
    "- Relational and logical operators for making Boolean expressions which form the basis of our decisions. \n",
    "- Different types of non-linear execution like conditional execution, alternative execution, chaining, and nesting, and their appropriate uses. \n",
    "- How to handle run-time errors with try..except.\n",
    "\n",
    "### Required Before Large Group\n",
    "\n",
    "- READ: [Severance Ch 3: Conditional Execution](https://books.trinket.io/pfe/03-conditional.html) \n",
    "- VIDEO: Python for Everybody: [Ch3 Part 1](https://youtu.be/2aA3VBdcl6A) | [Part 2](https://youtu.be/OczkNrHPBps), by Charles Severance\n",
    "\n",
    "### Additional Resources\n",
    "\n",
    "- VIDEO: [Python IF statements, by Amigoscode](https://youtu.be/mJEpimi_tFo?si=11DKDuFEQqxQBAlH&t=2752)\n",
    "- VIDEO: [End to End Example: Conditionals, By Michael Fudge](https://youtu.be/ZwbOSDqIrx4)\n",
    "- VIDEO: [Lab Walk through, by Michael Fudge](https://youtu.be/heJ-6ji332E)\n",
    "- VIDEO: [Homework Advice, by Michael Fudge](https://youtu.be/O3vh1r5Efbg)"
   ]
  },
  {
   "cell_type": "code",
   "execution_count": null,
   "id": "21b83e48-b7f5-47db-a5f1-0cdf3a3e0a0d",
   "metadata": {},
   "outputs": [],
   "source": []
  }
 ],
 "metadata": {
  "kernelspec": {
   "display_name": "Python 3 (ipykernel)",
   "language": "python",
   "name": "python3"
  },
  "language_info": {
   "codemirror_mode": {
    "name": "ipython",
    "version": 3
   },
   "file_extension": ".py",
   "mimetype": "text/x-python",
   "name": "python",
   "nbconvert_exporter": "python",
   "pygments_lexer": "ipython3",
   "version": "3.11.7"
  }
 },
 "nbformat": 4,
 "nbformat_minor": 5
}
