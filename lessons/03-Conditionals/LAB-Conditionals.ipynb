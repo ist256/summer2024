{
 "cells": [
  {
   "cell_type": "markdown",
   "metadata": {},
   "source": [
    "# Class Coding Lab: Conditionals\n",
    "\n",
    "The goals of this lab are to help you to understand:\n",
    "\n",
    "- Relational and Logical Operators \n",
    "- Boolean Expressions\n",
    "- The if statement\n",
    "- Try / Except statement\n",
    "- How to create a program from a complex idea.\n"
   ]
  },
  {
   "cell_type": "markdown",
   "metadata": {},
   "source": [
    "# Understanding Conditionals\n",
    "\n",
    "Conditional statements permit the non-linear execution of code. Take the following example, which detects whether the input integer is odd or even:"
   ]
  },
  {
   "cell_type": "code",
   "execution_count": null,
   "metadata": {
    "code_cell_type": "run_code"
   },
   "outputs": [],
   "source": [
    "number = int(input(\"Enter an integer: \"))\n",
    "if number %2==0:\n",
    "    print(f\"{number} is even\")\n",
    "else:\n",
    "    print(f\"{number} is odd\")"
   ]
  },
  {
   "cell_type": "markdown",
   "metadata": {},
   "source": [
    "NOTE: Make sure to run the cell more than once, inputting both odd and even integers to try it out. After all, we  don't know if the code really works until we test out both options!\n",
    "\n",
    "On line 2, you see `number %2 == 0` this is a Boolean expression at the center of the logic of this program. The expression says **number when divided by 2 has a reminder (%) equal to (==) zero**. The key to deciphering this is knowing how the `%` and `==` operators work. Understanding the basics, such as these, areessential to problem solving with programming, for once you understand the basics programming becomes an exercise in assembling them together into a workable solution.\n",
    "\n",
    "The `if` statement evaluates this Boolean expression and when the expression is `True`, Python executes all of the code indented underneath the `if`. In the event the Boolean expression is `False`, Python executes the code indented under the `else`. The code we indent is called a **block**.\n",
    "\n",
    "\n",
    "### 1.1 You Code: Debugging\n",
    "\n",
    "The code below is similar to the intial program. Instead of odd or even it uses a different Boolean expression to determine if the number is \"Zero or Positive\"or \"Negative\" otherwise.\n",
    "\n",
    "Debug this code so that it works correctly. Here are some sample inputs to test and the expected outputs.\n",
    "\n",
    "    Input: 10 Output: \"Zero or Positive\"\n",
    "    Input: 0 Output: \"Zero or Positive\"\n",
    "    Input: -10 Output: \"Negative\"\n",
    "    "
   ]
  },
  {
   "cell_type": "code",
   "execution_count": null,
   "metadata": {
    "code_cell_type": "debug_code",
    "label": "1.1",
    "solution": [
     "number = int(input(\"Enter an integer: \"))\n",
     "if number>=0:\n",
     "    print(\"Zero or Positive\")\n",
     "else:\n",
     "    print(\"Negative\")\n"
    ]
   },
   "outputs": [],
   "source": [
    "# TODO Debug this program\n",
    "number = int(input(\"Enter an integer: \"))\n",
    "if number>0:\n",
    "     print(\"Zero or Positive\")\n",
    "else:\n",
    "print(\"Negative\")"
   ]
  },
  {
   "cell_type": "markdown",
   "metadata": {},
   "source": [
    "# Rock, Paper Scissors\n",
    "\n",
    "In this part of the lab we'll build out a game of Rock, Paper, Scissors. If you're not familiar with the game, I suggest reading this: [https://en.wikipedia.org/wiki/Rock%E2%80%93paper%E2%80%93scissor](https://en.wikipedia.org/wiki/Rock%E2%80%93paper%E2%80%93scissors) Knowledge of the game will help you understand the lab much better.\n",
    "\n",
    "The objective of the lab is to teach you how to use conditionals but also get you thinking of how to solve problems with programming. We've said before its non-linear, with several attempts before you reach the final solution. You'll experience this first-hand in this lab as we figure things out one piece at a time and add them to our program."
   ]
  },
  {
   "cell_type": "markdown",
   "metadata": {},
   "source": [
    "## Here's our initial To-Do list, we've still got lots to figure out.\n",
    "\n",
    "    1. computer opponent selects one of \"rock\", \"paper\" or \"scissors\" at random\n",
    "    2. you input one of \"rock\", \"paper\" or \"scissors\"\n",
    "    3. play the game and determine a winnner... (not sure how to do this yet.)\n"
   ]
  },
  {
   "cell_type": "markdown",
   "metadata": {},
   "source": [
    "## Randomizing the Computer's Selection \n",
    "Let's start by coding the TO-DO list. First we need to make the computer select from \"rock\", \"paper\" or \"scissors\" at random.\n",
    "\n",
    "\n",
    "To accomplish this, we need to use python's `random` library, which is documented here: [https://docs.python.org/3/library/random.html](https://docs.python.org/3/library/random.html) \n",
    "It would appear we need to use the `choice()` function, which takes a sequence of choices and returns one at random. Let's try it out."
   ]
  },
  {
   "cell_type": "code",
   "execution_count": null,
   "metadata": {
    "code_cell_type": "run_code"
   },
   "outputs": [],
   "source": [
    "import random\n",
    "choices = ['rock','paper','scissors']\n",
    "computer = random.choice(choices)\n",
    "print(computer)"
   ]
  },
  {
   "cell_type": "markdown",
   "metadata": {},
   "source": [
    "Run the cell until you see all three choices appear at random. It make take more than 3 tries. It should make a random selection from `choices` each time you run it.\n",
    "\n",
    "How did I figure this out? Well I started with a web search and then narrowed it down from the Python documentation. You're not there yet, but at some point in the course you will be. When you get there you will be able to teach yourself just about anything!"
   ]
  },
  {
   "cell_type": "markdown",
   "metadata": {},
   "source": [
    "## Getting input for Your choice\n",
    "\n",
    "With step one out of the way, its time to move on to step 2. Getting input from the user."
   ]
  },
  {
   "cell_type": "code",
   "execution_count": null,
   "metadata": {
    "code_cell_type": "run_code"
   },
   "outputs": [],
   "source": [
    "# 1. computer opponent select one of \"rock\", \"paper\" or \"scissors\" at random\n",
    "import random\n",
    "choices = ['rock','paper','scissors']\n",
    "computer = random.choice(choices)\n",
    "\n",
    "# 2. you input one of \"rock\", \"paper\" or \"scissors\"\n",
    "you = input(\"Enter your choice: rock, paper, or scissors: \")\n",
    "print(\"You chose %s and the computer chose %s\" % (you,computer))\n"
   ]
  },
  {
   "cell_type": "markdown",
   "metadata": {},
   "source": [
    "# And guarding against stupidity\n",
    "\n",
    "\n",
    "This is taking shape, but if you re-run the example and enter `pizza` you'll notice a problem. \n",
    "\n",
    "We should guard against the situation when someone enters something other than 'rock', 'paper' or 'scissors' This is where our first conditional comes in to play.\n",
    "\n",
    "### In operator\n",
    "\n",
    "The `in` operator returns a Boolean based on whether a value is in a list of values. Let's try it:\n"
   ]
  },
  {
   "cell_type": "code",
   "execution_count": null,
   "metadata": {
    "code_cell_type": "run_code"
   },
   "outputs": [],
   "source": [
    "# TODO run this:\n",
    "print('rock' in choices, 'mike' in choices)"
   ]
  },
  {
   "cell_type": "markdown",
   "metadata": {},
   "source": [
    "### 1.2 You Code\n",
    "\n",
    "Now modify the code below to only print your and the computer's selections when your input is one of the valid choices. Replace `TODO` on line `8` with a correct Boolean expression to verify what you entered is one of the valid choices. Make sure to test your code with all three valid choices, plus a 4th invalid choice, like `pizza`. Use the `in` operator like in the example above."
   ]
  },
  {
   "cell_type": "code",
   "execution_count": null,
   "metadata": {
    "code_cell_type": "debug_code",
    "label": "1.2",
    "solution": [
     "# 1. computer opponent select one of \"rock\", \"paper\" or \"scissors\" at random\n",
     "import random\n",
     "choices = ['rock','paper','scissors']\n",
     "computer = random.choice(choices)\n",
     "# 2. you input one of \"rock\", \"paper\" or \"scissors\"\n",
     "you = input(\"Enter your choice: rock, paper, or scissors: \")\n",
     "# replace TODO on this line with the correct Boolean expression\n",
     "if (you in choices):  \n",
     "    print(f\"You chose {you} and the computer chose {computer}\")\n",
     "    # 3. play the game and determine a winnner... (not sure how to do this yet.)\n",
     "else: \n",
     "    print(\"You didn't enter 'rock', 'paper' or 'scissors'!!!\")\n"
    ],
    "solution_threshold": 0.75,
    "tags": []
   },
   "outputs": [],
   "source": [
    "# 1. computer opponent select one of \"rock\", \"paper\" or \"scissors\" at random\n",
    "import random\n",
    "choices = ['rock','paper','scissors']\n",
    "computer = random.choice(choices)\n",
    "\n",
    "# 2. you input one of \"rock\", \"paper\" or \"scissors\"\n",
    "you = input(\"Enter your choice: rock, paper, or scissors: \")\n",
    "# replace \"TODO\" on this line with the correct Boolean expression\n",
    "if (TODO):\n",
    "    print(f\"You chose {you} and the computer chose {computer}\")\n",
    "    # 3. play the game and determine a winnner... (not sure how to do this yet.)\n",
    "else: \n",
    "    print(\"You didn't enter 'rock', 'paper' or 'scissors'!!!\")"
   ]
  },
  {
   "cell_type": "markdown",
   "metadata": {},
   "source": [
    "## Playing the game\n",
    "\n",
    "With the inputs figured out, it's time to work on the final step, playing the game. The game itself has some simple rules:\n",
    "\n",
    "- rock beats scissors (rock smashes scissors)\n",
    "- scissors beats paper (scissors cut paper)\n",
    "- paper beats rock (paper covers rock)\n",
    "\n",
    "So for example:\n",
    "\n",
    "- If you choose rock and the computer chooses paper, you lose because paper covers rock. \n",
    "- Likewise if you select rock and the computer choose scissors, you win because rock smashes scissors.\n",
    "- If you both choose rock, it's a tie.\n",
    "\n",
    "## It's too complicated!\n",
    "\n",
    "It still might seem too complicated to program this game, so let's use a process called **problem simplification** where we solve an easier version of the problem, then as our understanding grows, we increase the complexity until we solve the entire problem.\n",
    "\n",
    "One common way we simplify a problem is to **constrain our inputs**. If we force us to always choose `rock` (line 8), the program becomes a little easier to write.  Lines 13 to 18 were added - a single **if else** ladder to compare your input of `rock` against the computer's random selection of:\n",
    "\n",
    "- `scissors` (you win: scissors cut paper)\n",
    "- `paper` (you lose: paper covers rock)\n",
    "- `rock` (tie) \n",
    "\n",
    "Run this code until you see all three outcomes based on the computer's choice."
   ]
  },
  {
   "cell_type": "code",
   "execution_count": null,
   "metadata": {
    "code_cell_type": "run_code"
   },
   "outputs": [],
   "source": [
    "# 1. computer opponent select one of \"rock\", \"paper\" or \"scissors\" at random\n",
    "import random\n",
    "choices = ['rock','paper','scissors']\n",
    "computer = random.choice(choices)\n",
    "\n",
    "# 2. you input one of \"rock\", \"paper\" or \"scissors\"\n",
    "# for now, make this 'rock'\n",
    "you = 'rock' #input(\"Enter your choice: rock, paper, or scissors: \")\n",
    "if (you in choices):  \n",
    "    print(\"You chose %s and the computer chose %s\" % (you,computer))\n",
    "    \n",
    "    # 3. play the game and determine a winnner (assuming rock only for user)\n",
    "    if (you == 'rock' and computer == 'scissors'):\n",
    "        print(\"You win! Rock smashes scissors.\")\n",
    "    elif (you == 'rock' and computer=='paper'):\n",
    "        print(\"You lose! Paper covers rock.\")\n",
    "    else:\n",
    "        print(\"It's a tie!\")    \n",
    "else: \n",
    "    print(\"You didn't enter 'rock', 'paper' or 'scissors'!!!\")"
   ]
  },
  {
   "cell_type": "markdown",
   "metadata": {},
   "source": [
    "Run the code in the cell above enough times to verify it works. (You win, you lose and you tie.) That will ensure the code you have works as intended.\n",
    "\n",
    "## Paper: Making the program a bit more complex.\n",
    "\n",
    "With the rock logic out of the way, its time to focus on paper. We will assume you always type `paper` and then add the conditional logic to our existing code handle it.\n",
    "\n",
    "At this point you might be wondering should I make a separate `if` statement or should I chain the conditions off the current if with `elif` ?  Since this is part of the same input, it should be an extension of the existing `if` statement. You should **only** introduce an additional conditional if you're making a separate decision, for example asking the user if they want to play again. Since this is part of the same decision (did you enter 'rock', 'paper' or 'scissors' it should be in the same `if...elif` ladder.\n",
    "\n",
    "\n",
    "### 1.3 You Code\n",
    "\n",
    "In the code below, I've added the logic to address your input of 'paper' You only have to replace the `TODO` in the `print()` statements with the appropriate message. "
   ]
  },
  {
   "cell_type": "code",
   "execution_count": null,
   "metadata": {
    "code_cell_type": "debug_code",
    "label": "1.3",
    "solution": [
     "# 1. computer opponent select one of \"rock\", \"paper\" or \"scissors\" at random\n",
     "import random\n",
     "choices = ['rock','paper','scissors']\n",
     "computer = random.choice(choices)\n",
     "# 2. you input one of \"rock\", \"paper\" or \"scissors\"\n",
     "# for now, make this 'rock'\n",
     "you = 'paper' #input(\"Enter your choice: rock, paper, or scissors: \")\n",
     "if (you in choices):  \n",
     "    print(\"You chose %s and the computer chose %s\" % (you,computer))\n",
     "    # 3. play the game and determine a winnner (assuming paper only for user)\n",
     "    if (you == 'rock' and computer == 'scissors'):\n",
     "        print(\"You win! Rock smashes scissors.\")\n",
     "    elif (you == 'rock' and computer=='paper'):\n",
     "        print(\"You lose! Paper covers rock.\")\n",
     "    elif (you == 'paper' and computer =='rock')\n",
     "        print(\"You win! Paper covers rock.\")\n",
     "    elif (you == 'paper' and computer == 'scissors')\n",
     "        print(\"You lose! Scissors cut paper.\")\n",
     "    else:\n",
     "        print(\"It's a tie!\")    \n",
     "else: \n",
     "    print(\"You didn't enter 'rock', 'paper' or 'scissors'!!!\")\n"
    ]
   },
   "outputs": [],
   "source": [
    "# 1. computer opponent select one of \"rock\", \"paper\" or \"scissors\" at random\n",
    "import random\n",
    "choices = ['rock','paper','scissors']\n",
    "computer = random.choice(choices)\n",
    "\n",
    "# 2. you input one of \"rock\", \"paper\" or \"scissors\"\n",
    "# for now, make this 'rock'\n",
    "you = 'paper' #input(\"Enter your choice: rock, paper, or scissors: \")\n",
    "if (you in choices):  \n",
    "    print(\"You chose %s and the computer chose %s\" % (you,computer))\n",
    "\n",
    "    # 3. play the game and determine a winnner (assuming paper only for user)\n",
    "    if (you == 'rock' and computer == 'scissors'):\n",
    "        print(\"You win! Rock smashes scissors.\")\n",
    "    elif (you == 'rock' and computer=='paper'):\n",
    "        print(\"You lose! Paper covers rock.\")\n",
    "    elif (you == 'paper' and computer =='rock')\n",
    "        print(\"TODO - What should this say?\")\n",
    "    elif (you == 'paper' and computer == 'scissors')\n",
    "        print(\"TODO - What should this say?\")\n",
    "    else:\n",
    "        print(\"It's a tie!\")    \n",
    "else: \n",
    "    print(\"You didn't enter 'rock', 'paper' or 'scissors'!!!\")"
   ]
  },
  {
   "cell_type": "markdown",
   "metadata": {},
   "source": [
    "## The final Rock, Paper, Scissors program\n",
    "\n",
    "With the `rock` and `paper` cases out of the way, we only need to add `scissors` logic. We leave this part to you as your final exercise. \n",
    "\n",
    "### 1.4 You Code\n",
    "\n",
    "Similar to the `paper` example you will need to add two `elif` statements to handle winning and losing when you select `scissors` and should also include the appropriate output messages.\n"
   ]
  },
  {
   "cell_type": "code",
   "execution_count": null,
   "metadata": {
    "code_cell_type": "debug_code",
    "label": "1.4",
    "solution": [
     "import random\n",
     "choices = ['rock','paper','scissors']\n",
     "computer = random.choice(choices)\n",
     "you = input(\"Enter your choice: rock, paper, or scissors: \")\n",
     "if (you in choices):  \n",
     "    print(\"You chose %s and the computer chose %s\" % (you,computer))\n",
     "    if (you == 'rock' and computer == 'scissors'):\n",
     "        print(\"You win! Rock smashes scissors.\")\n",
     "    elif (you == 'rock' and computer=='paper'):\n",
     "        print(\"You lose! Paper covers rock.\")\n",
     "    elif (you == 'paper' and computer =='rock'):\n",
     "        print(\"You win! Paper beats rock.\")\n",
     "    elif (you == 'paper' and computer == 'scissors'):\n",
     "        print(\"You lose! Scissors beat paper.\")\n",
     "    # TODO: add code here\n",
     "    elif (you == 'scissors' and computer == 'paper'):\n",
     "        print(\"You win! Scissors beat paper.\")\n",
     "    elif (you == 'scissors' and computer == 'rock'):\n",
     "        print(\"You lose! Rock beats scissors.\")    \n",
     "    else:\n",
     "        print(\"It's a tie!\")    \n",
     "else: \n",
     "    print(\"You didn't enter 'rock', 'paper' or 'scissors'!!!\")\n"
    ],
    "solution_threshold": 0.75,
    "tags": []
   },
   "outputs": [],
   "source": [
    "import random\n",
    "choices = ['rock','paper','scissors']\n",
    "computer = random.choice(choices)\n",
    "you = input(\"Enter your choice: rock, paper, or scissors: \")\n",
    "if (you in choices):  \n",
    "    print(\"You chose %s and the computer chose %s\" % (you,computer))\n",
    "    if (you == 'rock' and computer == 'scissors'):\n",
    "        print(\"You win! Rock smashes scissors.\")\n",
    "    elif (you == 'rock' and computer=='paper'):\n",
    "        print(\"You lose! Paper covers rock.\")\n",
    "    elif (you == 'paper' and computer =='rock'):\n",
    "        print(\"You win! Paper beats rock.\")\n",
    "    elif (you == 'paper' and computer == 'scissors'):\n",
    "        print(\"You lose! Scissors beat paper.\")\n",
    "    # TODO: add code here\n",
    "    else:\n",
    "        print(\"It's a tie!\")    \n",
    "else: \n",
    "    print(\"You didn't enter 'rock', 'paper' or 'scissors'!!!\")"
   ]
  },
  {
   "cell_type": "markdown",
   "metadata": {},
   "source": [
    "# Exceptions \n",
    "\n",
    "Exceptions are a special type of conditional. They do not branch based on a Boolean expression. Instead they branch whenever an error occurs. We use the `try...except` statement to handle error gracefully when our code runs.\n",
    "\n",
    "Here's a classic example of code that could use some error handling. Enter a GPA of `awesome`"
   ]
  },
  {
   "cell_type": "code",
   "execution_count": null,
   "metadata": {
    "code_cell_type": "run_code"
   },
   "outputs": [],
   "source": [
    "gpa = float(input(\"Enter your GPA:\" ))\n",
    "pts_away = 4.0 - gpa\n",
    "print(f\"You are {pts_away} from a 4.0\")"
   ]
  },
  {
   "cell_type": "markdown",
   "metadata": {},
   "source": [
    "Because the input is not convertable to type `float` this causes a `ValueError` and the demise of our program. It stops working and crashes rather ungracefully.\n",
    "\n",
    "It's not ideal to send these types of error messages to the users of our programs. so we can use `try..except` to handle the error more gracefully."
   ]
  },
  {
   "cell_type": "code",
   "execution_count": null,
   "metadata": {
    "code_cell_type": "run_code"
   },
   "outputs": [],
   "source": [
    "try: #Check for errors\n",
    "    gpa = float(input(\"Enter your GPA:\" ))\n",
    "    pts_away = 4.0 - gpa\n",
    "    print(f\"You are {pts_away} from a 4.0\")\n",
    "except ValueError: # if its a ValueError, do this...\n",
    "    print(\"Error: That is not a valid value for a GPA\")"
   ]
  },
  {
   "cell_type": "markdown",
   "metadata": {},
   "source": [
    "## Simple Rules for Handling Errors\n",
    "\n",
    "- We should not worry about handling errors until our program works with the expected inputs.\n",
    "- This approach should only be used to handle errors. Not for making decisions.\n",
    "- \"Exceptions are exceptional:\" They should be used when there is no alternative to solving the problem. \n",
    "\n",
    "\n",
    "## On Your Own\n",
    "\n",
    "Use What you've learned about `if` and `try` except. To write a program that when you input any number, and will output whether or not the number is positive. \n",
    "\n",
    "Example runs:\n",
    "\n",
    "    Input: 10.5 Output: Positive\n",
    "    Input: 0    Output: Not Positive\n",
    "    Input: -5.1 Output: Not Positive\n",
    "    Input: abc  Output: Not a Number\n",
    "\n",
    "\n",
    "Algorithm:\n",
    "\n",
    "\n",
    "    Try this code:\n",
    "        input a float\n",
    "        if input number greater than zero\n",
    "            print \"Positive\"\n",
    "        else\n",
    "            print \"Not positive\"\n",
    "    if there's an error\n",
    "        print \"Not a Number\"\n",
    "        \n",
    "\n",
    "### 1.5 You Code\n",
    "\n",
    "\n",
    "Convert the algorithm into code here:\n"
   ]
  },
  {
   "cell_type": "code",
   "execution_count": null,
   "metadata": {
    "code_cell_type": "write_code",
    "label": "1.5",
    "solution": [
     "try:\n",
     "    n = float(input(\"Enter a number\"))\n",
     "    if n>0:\n",
     "        print(\"Positive\")\n",
     "    else:\n",
     "        print(\"Not Positive\")\n",
     "except ValueError:\n",
     "    print(\"Not a Number\")\n"
    ]
   },
   "outputs": [],
   "source": [
    "# TODO Write Code here"
   ]
  },
  {
   "cell_type": "markdown",
   "metadata": {},
   "source": [
    "# Metacognition\n"
   ]
  },
  {
   "cell_type": "markdown",
   "metadata": {},
   "source": [
    "\n",
    "### Rate your comfort level with this week's material so far.   \n",
    "\n",
    "**1** ==> I don't understand this at all yet and need extra help. If you choose this please try to articulate that which you do not understand to the best of your ability in the questions and comments section below.  \n",
    "**2** ==> I can do this with help or guidance from other people or resources. If you choose this level, please indicate HOW this person helped you in the questions and comments section below.   \n",
    "**3** ==> I can do this on my own without any help.   \n",
    "**4** ==> I can do this on my own and can explain/teach how to do it to others.\n",
    "\n",
    "`ENTER A NUMBER 1-4 IN THE CELL BELOW`"
   ]
  },
  {
   "cell_type": "markdown",
   "metadata": {
    "label": "comfort_cell"
   },
   "source": []
  },
  {
   "cell_type": "markdown",
   "metadata": {},
   "source": [
    "###  Questions And Comments \n",
    "\n",
    "Record any questions or comments you have about this lab that you would like to discuss in your recitation. It is expected you will have questions if you did not complete the code sections correctly.  Learning how to articulate what you do not understand is an important skill of critical thinking. Write them down here so that you remember to ask them in your recitation. We expect you will take responsilbity for your learning and ask questions in class.\n",
    "\n",
    "`ENTER YOUR QUESTIONS/COMMENTS IN THE CELL BELOW`  \n"
   ]
  },
  {
   "cell_type": "markdown",
   "metadata": {
    "label": "question_cell",
    "tags": []
   },
   "source": []
  },
  {
   "cell_type": "markdown",
   "metadata": {},
   "source": [
    "## Turn it In\n",
    "\n",
    "FIRST AND FOREMOST: **Save Your work!** Yes, it auto-saves, but you should get in the habit of saving before submitting. From the menu, choose File --> Save Notebook. Or you can use the shortcut keys `CTRL+S`\n",
    "\n",
    "### First: Lab Check\n",
    "\n",
    "Check your lab before submitting. Look for errors and incomplete parts which might cost you a better grade"
   ]
  },
  {
   "cell_type": "code",
   "execution_count": null,
   "metadata": {},
   "outputs": [],
   "source": [
    "from casstools.notebook_tools import NotebookFile\n",
    "NotebookFile().check_lab()"
   ]
  },
  {
   "cell_type": "markdown",
   "metadata": {},
   "source": [
    "### Second: Lab Submission\n",
    "\n",
    "Run this code and follow the instructions to turn in your lab. "
   ]
  },
  {
   "cell_type": "code",
   "execution_count": null,
   "metadata": {},
   "outputs": [],
   "source": [
    "from casstools.assignment import Assignment\n",
    "Assignment().submit()"
   ]
  }
 ],
 "metadata": {
  "anaconda-cloud": {},
  "kernelspec": {
   "display_name": "Python 3 (ipykernel)",
   "language": "python",
   "name": "python3"
  },
  "language_info": {
   "codemirror_mode": {
    "name": "ipython",
    "version": 3
   },
   "file_extension": ".py",
   "mimetype": "text/x-python",
   "name": "python",
   "nbconvert_exporter": "python",
   "pygments_lexer": "ipython3",
   "version": "3.11.7"
  },
  "toc": {
   "base_numbering": 1,
   "nav_menu": {},
   "number_sections": false,
   "sideBar": false,
   "skip_h1_title": false,
   "title_cell": "Table of Contents",
   "title_sidebar": "Contents",
   "toc_cell": false,
   "toc_position": {},
   "toc_section_display": false,
   "toc_window_display": false
  },
  "varInspector": {
   "cols": {
    "lenName": 16,
    "lenType": 16,
    "lenVar": 40
   },
   "kernels_config": {
    "python": {
     "delete_cmd_postfix": "",
     "delete_cmd_prefix": "del ",
     "library": "var_list.py",
     "varRefreshCmd": "print(var_dic_list())"
    },
    "r": {
     "delete_cmd_postfix": ") ",
     "delete_cmd_prefix": "rm(",
     "library": "var_list.r",
     "varRefreshCmd": "cat(var_dic_list()) "
    }
   },
   "types_to_exclude": [
    "module",
    "function",
    "builtin_function_or_method",
    "instance",
    "_Feature"
   ],
   "window_display": false
  }
 },
 "nbformat": 4,
 "nbformat_minor": 4
}
