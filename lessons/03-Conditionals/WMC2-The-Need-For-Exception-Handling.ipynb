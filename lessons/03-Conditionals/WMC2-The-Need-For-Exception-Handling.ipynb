{
 "cells": [
  {
   "cell_type": "markdown",
   "metadata": {},
   "source": [
    "# Watch Me Code 2: The Need For Exception Handling\n",
    "This demonstrates the need for exception handling."
   ]
  },
  {
   "cell_type": "code",
   "execution_count": null,
   "metadata": {},
   "outputs": [],
   "source": [
    "# this generates a run-time error when you enter a non-number\n",
    "\n",
    "# for example enter \"heavy\" and you get a ValueError\n",
    "weight = float(input(\"Enter product weight in Kg: \"))\n"
   ]
  },
  {
   "cell_type": "code",
   "execution_count": null,
   "metadata": {},
   "outputs": [],
   "source": [
    "# This example uses try..except to catch the ValueError\n",
    "try:\n",
    "    weight = float(input(\"Enter product weight in Kg: \"))\n",
    "    print (\"Weight is:\", weight)\n",
    "except ValueError:\n",
    "    print(\"You did not enter a number! \")"
   ]
  },
  {
   "cell_type": "code",
   "execution_count": null,
   "metadata": {},
   "outputs": [],
   "source": []
  }
 ],
 "metadata": {
  "anaconda-cloud": {},
  "kernelspec": {
   "display_name": "Python 3 (ipykernel)",
   "language": "python",
   "name": "python3"
  },
  "language_info": {
   "codemirror_mode": {
    "name": "ipython",
    "version": 3
   },
   "file_extension": ".py",
   "mimetype": "text/x-python",
   "name": "python",
   "nbconvert_exporter": "python",
   "pygments_lexer": "ipython3",
   "version": "3.11.7"
  }
 },
 "nbformat": 4,
 "nbformat_minor": 4
}
