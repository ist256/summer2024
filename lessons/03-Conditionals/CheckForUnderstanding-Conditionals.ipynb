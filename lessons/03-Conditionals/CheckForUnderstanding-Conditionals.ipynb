{
 "cells": [
  {
   "cell_type": "markdown",
   "metadata": {},
   "source": [
    "# Code Samples From In-Person Lesson\n",
    "\n",
    "This file is provided to you by the next day.  "
   ]
  },
  {
   "cell_type": "code",
   "execution_count": null,
   "metadata": {},
   "outputs": [],
   "source": [
    "# Opening Check for Understanding Warm-Up\n",
    "\n",
    "\n",
    "#Which of the Boolean Expressions is True?  Line 4,5,6 or 7?\n",
    "x = 15  \n",
    "y = 20  \n",
    "z = 2\n",
    "\n",
    "x > y\n",
    "z*x <= y\n",
    "y >= x-z\n",
    "z*10 == x"
   ]
  },
  {
   "cell_type": "code",
   "execution_count": null,
   "metadata": {},
   "outputs": [],
   "source": [
    "# The purpose of this cell is to show how I would do this on\n",
    "# paper which you will want to do on your exam. \n",
    "\n",
    "    x    y  z\n",
    "    15  20  2\n",
    "    \n",
    "    15 > 20 false\n",
    "    30 <= 20 false\n",
    "    20 >= 13 true\n",
    "    20 ==15 false"
   ]
  },
  {
   "cell_type": "markdown",
   "metadata": {
    "editable": true,
    "slideshow": {
     "slide_type": ""
    },
    "tags": []
   },
   "source": [
    "# Homework: Paint Estimator\n",
    "\n",
    "\n",
    "## The Problem\n",
    "\n",
    "\n",
    "The big-box hardware store *House Depot* has contracted you to write an App to estimate the amount of paint required to paint a room. Given that 1 gallon of paint covers 400 square feet, you must output the number of 1 gallon paint cans required to paint a rectangular room.\n",
    "\n",
    "The program should input:\n",
    "\n",
    "- the length of the room in feet, \n",
    "- the width of the room in feet,\n",
    "- the height of the room in feet,\n",
    "- number of coats of paint (how many times will you go over the walls? 1, 2, 3, etc...)\n",
    "\n",
    "The program should output:\n",
    "\n",
    "- total area to be painted (sum of each of the 4 walls, multiplied by the height of the room)\n",
    "- the number of gallons required to paint the room with the number of coats of paint.\n",
    "\n",
    "Example 1:\n",
    "\n",
    "```\n",
    "Enter length of room: 12\n",
    "Enter width of room: 14\n",
    "Enter height of room: 8\n",
    "Enter number of coats: 2\n",
    "Total area to be painted: 416.00 sqft\n",
    "2 Coats requires: 832.00 sqft\n",
    "1 Can of paint covers 400 sqft\n",
    "Total gallons of paint requried for 2 coats is : 3 cans\n",
    "```\n",
    "\n",
    "Example 2:\n",
    "\n",
    "```\n",
    "Enter length of room: 2\n",
    "Enter width of room: 4\n",
    "Enter height of room: 10\n",
    "Enter number of coats: 3\n",
    "Total area to be painted: 120.00 sqft\n",
    "3 Coats requires: 360.00 sqft\n",
    "1 Can of paint covers 400 sqft\n",
    "Total gallons of paint requried for 3 coats is : 1 cans\n",
    "```\n",
    "\n",
    "HINTS: \n",
    "\n",
    "- Follow the same problem solving approaches from small group: Understanding the problem by example.\n",
    "- Round up to the nearest whole can of paint.\n",
    "- Code exactly one of the examples then change to accept inputs.\n",
    "\n"
   ]
  },
  {
   "cell_type": "code",
   "execution_count": 2,
   "metadata": {
    "tags": []
   },
   "outputs": [
    {
     "name": "stdout",
     "output_type": "stream",
     "text": [
      "Total area to be painted: 416.00 sqft\n",
      "2 Coats requires: 832.00 sqft\n",
      "1 Can of paint covers 400 sqft\n",
      "Total gallons of paint requried for 2 coats is : 3 cans\n"
     ]
    }
   ],
   "source": [
    "# Homework Review from Lesson 2\n",
    "\n",
    "import math \n",
    "\n",
    "# First Run - saves the need for input over and over and over. Understand by example. \n",
    "\n",
    "\n",
    "# INPUT after my process and output look good. \n",
    "length = float(input(\"Enter length of room: \"))\n",
    "width = float(input(\"Enter width of room: \"))\n",
    "height = float(input(\"Enter height of room: \"))\n",
    "coats =  int(input(\"Enter the number of coats: \"))\n",
    "\n",
    "#PROCESS\n",
    "area_to_paint = (2 * (length * height)) + (2 * (width * height))\n",
    "total_required_paint = coats * area_to_paint\n",
    "total_cans = math.ceil(total_required_paint / 400 )\n",
    "\n",
    "# OUTPUT\n",
    "print(f\"Total area to be painted: {area_to_paint:.2f} sqft\")\n",
    "print(f\"{coats} Coats requires: {total_required_paint:.2f} sqft\")\n",
    "print(f\"1 Can of paint covers 400 sqft\")\n",
    "print(f\"Total gallons of paint requried for {coats} coats is : {total_cans} cans\")"
   ]
  },
  {
   "cell_type": "markdown",
   "metadata": {},
   "source": [
    "# Grading Review & Observations\n",
    "\n",
    "The following areas for improvement were identified:\n",
    "\n",
    ": Not maximizing the example(s) given. It demonstrates your prompts, the output requirements, and the code you should test with and turn in. There may be several other tests you need for your code but the ones given are important. I typically start with them thru my testing and end with them. \n",
    "\n",
    ": Not recognizing or discussing code that is producing invalid answers. Typically if you run with the example you will see if you have an error. That is what the 3rd area of homework is for... identifying where things were challenging. So if you got the wrong answer - what did you do to try to fix it.  \n",
    "\n",
    ": Imports should always be the first part of your code. So import math should have been line 1. Then unless there is a heading or something that needs to be printed, our code will follow the Input >> Process  >> Output structure as the example above does. Avoid mixing process and output statements. \n",
    "\n"
   ]
  },
  {
   "cell_type": "markdown",
   "metadata": {},
   "source": [
    "# Check for Understanding: Boolean Expressions \n",
    "\n",
    "A Boolean value is a/an ______?\n",
    "\n",
    " A. `True or False value`  Correct Answer!\n",
    " B. `Zero-based value`  \n",
    " C. `Non-Negative value`  \n",
    " D. `Alphanumeric value`\n"
   ]
  },
  {
   "cell_type": "markdown",
   "metadata": {},
   "source": [
    "# Check for Understanding: Relational Operators\n",
    "\n",
    "Select as many as you think are correct. Which are valid Python relational operators\n",
    "\n",
    "1) =\n",
    "2) >==\n",
    "3) <=\n",
    "4) !=\n",
    "5) and\n",
    "6) ==\n",
    "7) or"
   ]
  },
  {
   "cell_type": "code",
   "execution_count": null,
   "metadata": {},
   "outputs": [],
   "source": [
    "Lines 4 6 3"
   ]
  },
  {
   "cell_type": "markdown",
   "metadata": {},
   "source": [
    "# Check for Understanding: Logical Operators\n",
    "\n",
    "Select as many as you think are correct. Which are valid Python logical operators. \n",
    "\n",
    "1) and\n",
    "2) False\n",
    "3) not\n",
    "4) in\n",
    "5) True\n",
    "6) from\n",
    "7) or"
   ]
  },
  {
   "cell_type": "code",
   "execution_count": null,
   "metadata": {},
   "outputs": [],
   "source": [
    "and or not in   # you'll see that in is NOT in Severance's option."
   ]
  },
  {
   "cell_type": "code",
   "execution_count": null,
   "metadata": {},
   "outputs": [],
   "source": [
    "# Let's talk about the lab just a bit\n",
    "choice = input(\"Enter rock, paper or scissors\")\n",
    "if choice == \"rock\" or choice == \"paper\" or choice == \"scissors\":\n",
    "    print(\"you can follow instructions!\")\n",
    "else:\n",
    "    print(f\"Bad input {choice}\")"
   ]
  },
  {
   "cell_type": "code",
   "execution_count": null,
   "metadata": {
    "tags": []
   },
   "outputs": [],
   "source": [
    "choice = input(\"Enter rock, paper or scissors\")\n",
    "if choice in [\"rock\", \"paper\", \"scissors\"]:     # this is an example of a list and \"in\" is a Python Key word. Hey is choice one of the values in the list? More in Chapter 8.\n",
    "    print(\"you can follow instructions!\")\n",
    "else:\n",
    "    print(f\"Bad input {choice}\")"
   ]
  },
  {
   "cell_type": "code",
   "execution_count": null,
   "metadata": {
    "tags": []
   },
   "outputs": [],
   "source": [
    "gpa = 3.2\n",
    "ischool = True\n",
    "grad = False"
   ]
  },
  {
   "cell_type": "code",
   "execution_count": null,
   "metadata": {
    "tags": []
   },
   "outputs": [],
   "source": [
    "# What will print on this line 2\n",
    "print (not grad or ischool)"
   ]
  },
  {
   "cell_type": "code",
   "execution_count": null,
   "metadata": {},
   "outputs": [],
   "source": [
    "# How we worked it out on paper\n",
    "not False or True"
   ]
  },
  {
   "cell_type": "code",
   "execution_count": null,
   "metadata": {},
   "outputs": [],
   "source": [
    "True or True   # we know or just needs one side to be True"
   ]
  },
  {
   "cell_type": "code",
   "execution_count": null,
   "metadata": {},
   "outputs": [],
   "source": [
    "#Let's assume we have a rating scale like the following. We want to input a number and print the rating.\n",
    "\n",
    "5 = excellent\n",
    "4 = good\n",
    "3 = fair\n",
    "2 = poor"
   ]
  },
  {
   "cell_type": "code",
   "execution_count": null,
   "metadata": {},
   "outputs": [],
   "source": [
    "# this is bad... don't do this, print should be at end!\n",
    "rating = input(\"Enter Rating number:\")\n",
    "\n",
    "if rating == 5:\n",
    "    print(\"Excellent\")\n",
    "elif rating == 4:\n",
    "    print(\"Good\")\n",
    "elif rating == 3:\n",
    "    print (\"Fair\")\n",
    "elif rating == 2:\n",
    "    print (\"Poor\")\n",
    "    "
   ]
  },
  {
   "cell_type": "code",
   "execution_count": null,
   "metadata": {
    "tags": []
   },
   "outputs": [],
   "source": [
    "# do this instead\n",
    "rating = int(input(\"Enter Rating number:\"))\n",
    "label = \"\"\n",
    "\n",
    "if rating == 5:\n",
    "    label = \"Excellent\"\n",
    "elif rating == 4:\n",
    "    label = \"Good\"\n",
    "elif rating == 3:\n",
    "    label = \"Fair\"\n",
    "else:\n",
    "    label = \"Poor\"\n",
    "\n",
    "print(f\"A {rating}-star rating is {label}\")"
   ]
  },
  {
   "cell_type": "code",
   "execution_count": null,
   "metadata": {
    "tags": []
   },
   "outputs": [],
   "source": [
    "#exception processing should be coded last. Get your code working. Find area that throws exception and place try BEFORE that command.\n",
    "# this is 1.5 from the lab. \n",
    "try:\n",
    "    user_num = float(input(\"Please enter any number: \"))\n",
    "    if user_num > 0:\n",
    "        print (\"Positive\")\n",
    "    else:\n",
    "        print (\"Not Positive\")\n",
    "except(ValueError):\n",
    "    print (\"that is not a number\")\n"
   ]
  },
  {
   "cell_type": "code",
   "execution_count": 3,
   "metadata": {
    "tags": []
   },
   "outputs": [
    {
     "name": "stdin",
     "output_type": "stream",
     "text": [
      "Please enter any number:  not much\n"
     ]
    },
    {
     "ename": "ValueError",
     "evalue": "could not convert string to float: 'not much'",
     "output_type": "error",
     "traceback": [
      "\u001b[0;31m---------------------------------------------------------------------------\u001b[0m",
      "\u001b[0;31mValueError\u001b[0m                                Traceback (most recent call last)",
      "Cell \u001b[0;32mIn[3], line 1\u001b[0m\n\u001b[0;32m----> 1\u001b[0m user_num \u001b[38;5;241m=\u001b[39m \u001b[38;5;28;43mfloat\u001b[39;49m\u001b[43m(\u001b[49m\u001b[38;5;28;43minput\u001b[39;49m\u001b[43m(\u001b[49m\u001b[38;5;124;43m\"\u001b[39;49m\u001b[38;5;124;43mPlease enter any number: \u001b[39;49m\u001b[38;5;124;43m\"\u001b[39;49m\u001b[43m)\u001b[49m\u001b[43m)\u001b[49m\n\u001b[1;32m      2\u001b[0m \u001b[38;5;28;01mif\u001b[39;00m user_num \u001b[38;5;241m>\u001b[39m \u001b[38;5;241m0\u001b[39m:\n\u001b[1;32m      3\u001b[0m     \u001b[38;5;28mprint\u001b[39m (\u001b[38;5;124m\"\u001b[39m\u001b[38;5;124mPositive\u001b[39m\u001b[38;5;124m\"\u001b[39m)\n",
      "\u001b[0;31mValueError\u001b[0m: could not convert string to float: 'not much'"
     ]
    }
   ],
   "source": [
    "user_num = float(input(\"Please enter any number: \"))\n",
    "if user_num > 0:\n",
    "    print (\"Positive\")\n",
    "else:\n",
    "    print (\"Not Positive\")"
   ]
  },
  {
   "cell_type": "code",
   "execution_count": null,
   "metadata": {},
   "outputs": [],
   "source": []
  },
  {
   "cell_type": "code",
   "execution_count": null,
   "metadata": {},
   "outputs": [],
   "source": [
    "#Check out Question \n",
    "\n",
    "\n",
    "When x = 12 , y = 20 what does the following boolean evaluate to\n",
    "\n",
    "x < y and not y==20\n",
    "\n",
    "\n",
    "A. True\n",
    "B. False\n"
   ]
  },
  {
   "cell_type": "code",
   "execution_count": 1,
   "metadata": {
    "tags": []
   },
   "outputs": [
    {
     "name": "stdout",
     "output_type": "stream",
     "text": [
      "False\n"
     ]
    }
   ],
   "source": [
    "x=12\n",
    "y=20\n",
    "print (x < y and not y==20)"
   ]
  },
  {
   "cell_type": "code",
   "execution_count": null,
   "metadata": {},
   "outputs": [],
   "source": []
  }
 ],
 "metadata": {
  "kernelspec": {
   "display_name": "Python 3 (ipykernel)",
   "language": "python",
   "name": "python3"
  },
  "language_info": {
   "codemirror_mode": {
    "name": "ipython",
    "version": 3
   },
   "file_extension": ".py",
   "mimetype": "text/x-python",
   "name": "python",
   "nbconvert_exporter": "python",
   "pygments_lexer": "ipython3",
   "version": "3.11.7"
  },
  "varInspector": {
   "cols": {
    "lenName": 16,
    "lenType": 16,
    "lenVar": 40
   },
   "kernels_config": {
    "python": {
     "delete_cmd_postfix": "",
     "delete_cmd_prefix": "del ",
     "library": "var_list.py",
     "varRefreshCmd": "print(var_dic_list())"
    },
    "r": {
     "delete_cmd_postfix": ") ",
     "delete_cmd_prefix": "rm(",
     "library": "var_list.r",
     "varRefreshCmd": "cat(var_dic_list()) "
    }
   },
   "position": {
    "height": "144.857px",
    "left": "697.143px",
    "right": "20px",
    "top": "129px",
    "width": "350px"
   },
   "types_to_exclude": [
    "module",
    "function",
    "builtin_function_or_method",
    "instance",
    "_Feature"
   ],
   "window_display": false
  }
 },
 "nbformat": 4,
 "nbformat_minor": 4
}
