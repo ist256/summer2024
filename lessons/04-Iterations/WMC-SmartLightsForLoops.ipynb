{
 "cells": [
  {
   "cell_type": "code",
   "execution_count": 1,
   "id": "f6145999",
   "metadata": {
    "tags": []
   },
   "outputs": [
    {
     "ename": "ModuleNotFoundError",
     "evalue": "No module named 'coursetools'",
     "output_type": "error",
     "traceback": [
      "\u001b[0;31m---------------------------------------------------------------------------\u001b[0m",
      "\u001b[0;31mModuleNotFoundError\u001b[0m                       Traceback (most recent call last)",
      "Cell \u001b[0;32mIn[1], line 2\u001b[0m\n\u001b[1;32m      1\u001b[0m \u001b[38;5;66;03m# Importing other people's code\u001b[39;00m\n\u001b[0;32m----> 2\u001b[0m \u001b[38;5;28;01mfrom\u001b[39;00m \u001b[38;5;21;01mcoursetools\u001b[39;00m\u001b[38;5;21;01m.\u001b[39;00m\u001b[38;5;21;01mdemos\u001b[39;00m\u001b[38;5;21;01m.\u001b[39;00m\u001b[38;5;21;01msmartlights\u001b[39;00m \u001b[38;5;28;01mimport\u001b[39;00m SmartLights\n\u001b[1;32m      3\u001b[0m \u001b[38;5;28;01mfrom\u001b[39;00m \u001b[38;5;21;01mtime\u001b[39;00m \u001b[38;5;28;01mimport\u001b[39;00m sleep\n",
      "\u001b[0;31mModuleNotFoundError\u001b[0m: No module named 'coursetools'"
     ]
    }
   ],
   "source": [
    "# Importing other people's code\n",
    "from coursetools.demos.smartlights import SmartLights\n",
    "from time import sleep"
   ]
  },
  {
   "cell_type": "code",
   "execution_count": 5,
   "id": "acab39c9",
   "metadata": {
    "tags": []
   },
   "outputs": [
    {
     "name": "stdout",
     "output_type": "stream",
     "text": [
      "https://smartlights.ist256.com/count/10/key/mafudge\n"
     ]
    }
   ],
   "source": [
    "# make a bank of 8 smart lights\n",
    "count = 10\n",
    "key = \"mafudge\" # use your netid for the key, that way you get your own page of smartlights\n",
    "website = f\"https://smartlights.ist256.com/count/{count}/key/{key}\"\n",
    "print(website)"
   ]
  },
  {
   "cell_type": "code",
   "execution_count": 3,
   "id": "3505cd64",
   "metadata": {
    "tags": []
   },
   "outputs": [
    {
     "data": {
      "text/plain": [
       "'on'"
      ]
     },
     "execution_count": 3,
     "metadata": {},
     "output_type": "execute_result"
    }
   ],
   "source": [
    "# Turning them on manually is a lot of code :-(\n",
    "SmartLights(key).on(0)\n",
    "SmartLights(key).on(1)\n",
    "SmartLights(key).on(2)\n",
    "SmartLights(key).on(3)\n",
    "SmartLights(key).on(4)\n",
    "SmartLights(key).on(5)\n",
    "SmartLights(key).on(6)\n",
    "SmartLights(key).on(7)"
   ]
  },
  {
   "cell_type": "code",
   "execution_count": 6,
   "id": "dd44a46d",
   "metadata": {
    "tags": []
   },
   "outputs": [],
   "source": [
    "for i in range(count):\n",
    "    SmartLights(key).on(i)"
   ]
  },
  {
   "cell_type": "code",
   "execution_count": 9,
   "id": "68a1c802",
   "metadata": {
    "tags": []
   },
   "outputs": [
    {
     "name": "stdin",
     "output_type": "stream",
     "text": [
      "Flip Which light? 0-7??  5\n"
     ]
    },
    {
     "name": "stdout",
     "output_type": "stream",
     "text": [
      "Light is off, flipping it...\n"
     ]
    },
    {
     "name": "stdin",
     "output_type": "stream",
     "text": [
      "Flip Which light? 0-7??  5\n"
     ]
    },
    {
     "name": "stdout",
     "output_type": "stream",
     "text": [
      "Light is on, flipping it...\n"
     ]
    },
    {
     "name": "stdin",
     "output_type": "stream",
     "text": [
      "Flip Which light? 0-7??  -1\n"
     ]
    }
   ],
   "source": [
    "while True:\n",
    "    light = int(input(\"Flip Which light? 0-7?? \"))\n",
    "    if light == -1:\n",
    "        break\n",
    "    status = SmartLights(key).status(light)\n",
    "    print(f\"Light is {status}, flipping it...\")\n",
    "    if status == \"on\":\n",
    "        SmartLights(key).off(light)\n",
    "    else:\n",
    "        SmartLights(key).on(light)"
   ]
  },
  {
   "cell_type": "code",
   "execution_count": null,
   "id": "69eeb9b0",
   "metadata": {},
   "outputs": [],
   "source": []
  }
 ],
 "metadata": {
  "kernelspec": {
   "display_name": "Python 3 (ipykernel)",
   "language": "python",
   "name": "python3"
  },
  "language_info": {
   "codemirror_mode": {
    "name": "ipython",
    "version": 3
   },
   "file_extension": ".py",
   "mimetype": "text/x-python",
   "name": "python",
   "nbconvert_exporter": "python",
   "pygments_lexer": "ipython3",
   "version": "3.11.7"
  },
  "varInspector": {
   "cols": {
    "lenName": 16,
    "lenType": 16,
    "lenVar": 40
   },
   "kernels_config": {
    "python": {
     "delete_cmd_postfix": "",
     "delete_cmd_prefix": "del ",
     "library": "var_list.py",
     "varRefreshCmd": "print(var_dic_list())"
    },
    "r": {
     "delete_cmd_postfix": ") ",
     "delete_cmd_prefix": "rm(",
     "library": "var_list.r",
     "varRefreshCmd": "cat(var_dic_list()) "
    }
   },
   "types_to_exclude": [
    "module",
    "function",
    "builtin_function_or_method",
    "instance",
    "_Feature"
   ],
   "window_display": false
  }
 },
 "nbformat": 4,
 "nbformat_minor": 5
}
