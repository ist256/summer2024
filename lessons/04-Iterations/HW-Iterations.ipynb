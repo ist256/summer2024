{
 "cells": [
  {
   "cell_type": "markdown",
   "metadata": {
    "editable": true,
    "slideshow": {
     "slide_type": ""
    },
    "tags": []
   },
   "source": [
    "# Homework: Grade Distributions\n",
    "\n",
    "## The Problem\n",
    "\n",
    "Professor Charles Xavier is at it again. He would like you to improve on the program you wrote for him last week. As you may recall this program, when given an input of a student points earned in the course, would output a letter grade and grade points.\n",
    "\n",
    "Prof. Xavier would like the program to input multiple points earned as part of a sentinel controlled loop, and as each student total point score is entered calculate the following statistics:\n",
    "\n",
    "- count of student point scores in \"A\" range, and percentage of total\n",
    "- count of student point scores in \"B\" range, and percentage of total\n",
    "- count of student point scores in \"C\" range, and percentage of total\n",
    "- count of student point scores in \"D\" range, and percentage of total\n",
    "- count of student point scores in \"F\" range, and percentage of total\n",
    "- total count of point scores entered\n",
    "\n",
    "NOTE: The statistics are only displayed when the command `quit` is entered.\n",
    "\n",
    "Once again, here is the grading scale he uses: \n",
    "\n",
    "    Point Range Grade Grade Points\n",
    "    125-150     A     4.0\n",
    "    100-124     B     3.0\n",
    "    75-99       C     2.0\n",
    "    50-74       D     1.0\n",
    "    0-49        F     0.0\n",
    "    \n",
    "Sample Run 1:\n",
    "\n",
    "    Enter student score or 'quit' to exit: 130\n",
    "    Enter student score or 'quit' to exit: 111\n",
    "    Enter student score or 'quit' to exit: 145\n",
    "    Enter student score or 'quit' to exit: quit\n",
    "        Scores : 3\n",
    "        A: 2 (66%)\n",
    "        B: 1 (33%)\n",
    "        C: 0 (0%)\n",
    "        D: 0 (0%)\n",
    "        F: 0 (0%)\n",
    "   \n",
    "Sample Run 2:\n",
    "\n",
    "    Enter student score or 'quit' to exit: 130\n",
    "    Enter student score or 'quit' to exit: 111\n",
    "    Enter student score or 'quit' to exit: 145\n",
    "    Enter student score or 'quit' to exit: 100\n",
    "    Enter student score or 'quit' to exit: 60\n",
    "    Enter student score or 'quit' to exit: quit\n",
    "        Scores: 5\n",
    "        A: 2 (40%)\n",
    "        B: 2 (40%)\n",
    "        C: 0 (0%)\n",
    "        D: 1 (20%)\n",
    "        F: 0 (0%)\n",
    "\n",
    "    \n",
    "HINTS: **use problem simplification** like we did in small group and the lab!\n",
    "\n",
    "- First in You Code 2.1: Write a loop to input grades. Just count the number of grades inputted (Scores). Accept string input, checking for 'quit', when its not 'quit', convert to a `int` and then count it. Upon quit, display the count of scores entered.\n",
    "- Second in You Code 2.2: Inside your loop, figure out what grade the score is based in the input. You will use a series of `if` statements similar to the previous homework assignment. For example, if the score is an \"A\" increment a variable that counts the number of \"A\" grades. Upon quit display the score and grades. \n"
   ]
  },
  {
   "cell_type": "markdown",
   "metadata": {
    "editable": true,
    "label": "problem_analysis_cell",
    "slideshow": {
     "slide_type": ""
    },
    "tags": []
   },
   "source": [
    "## Part 1: Problem Analysis\n",
    "\n",
    "Once again we use the \"working backwards approach\"\n",
    "\n",
    "### 1.1 Program Outputs\n",
    "\n",
    "Describe the program outputs below.\n"
   ]
  },
  {
   "cell_type": "markdown",
   "metadata": {
    "editable": true,
    "label": "analysis_output_cell",
    "slideshow": {
     "slide_type": ""
    },
    "tags": []
   },
   "source": []
  },
  {
   "cell_type": "markdown",
   "metadata": {},
   "source": [
    "### 1.2 Program Inputs\n",
    "\n",
    "List out the program inputs in the cell below. \n"
   ]
  },
  {
   "cell_type": "markdown",
   "metadata": {
    "editable": true,
    "label": "analysis_input_cell",
    "slideshow": {
     "slide_type": ""
    },
    "tags": []
   },
   "source": []
  },
  {
   "cell_type": "markdown",
   "metadata": {},
   "source": [
    "### 1.3 The Plan (Algorithm)\n",
    "\n",
    "Explain, as specifically as you can, without writing code, how the program works from input to output. Be detailed with your plan as you will need to turn it into code. \n"
   ]
  },
  {
   "cell_type": "markdown",
   "metadata": {
    "label": "analysis_plan_cell"
   },
   "source": []
  },
  {
   "cell_type": "markdown",
   "metadata": {},
   "source": [
    "## Part 2: Code Solution\n",
    "\n",
    "You may write your code in several cells, but place the complete, final working copy of your code solution within the cell labeled `# SOLUTION CELL` everything required to make the code work should be in this cell, as this is the cell that will get evaluated. "
   ]
  },
  {
   "cell_type": "code",
   "execution_count": null,
   "metadata": {},
   "outputs": [],
   "source": []
  },
  {
   "cell_type": "code",
   "execution_count": null,
   "metadata": {},
   "outputs": [],
   "source": []
  },
  {
   "cell_type": "code",
   "execution_count": null,
   "metadata": {},
   "outputs": [],
   "source": []
  },
  {
   "cell_type": "markdown",
   "metadata": {},
   "source": [
    "### 2.1 You Code\n",
    "\n",
    "Write a loop to input grades. Just count the number of grades inputted (Scores). Accept string input, checking for 'quit', when its not 'quit', convert to a `int` and then count it. Upon quit, display the count of scores entered. `Scores: ?`"
   ]
  },
  {
   "cell_type": "code",
   "execution_count": null,
   "metadata": {
    "code_cell_type": "write_code",
    "editable": true,
    "label": "2.1",
    "slideshow": {
     "slide_type": ""
    },
    "solution": [],
    "tags": [],
    "tests": [
     {
      "input-stream": "125\n100\n75\n50\nquit\n",
      "kind": "runcode",
      "search-output": [
       "Scores: 4"
      ]
     },
     {
      "input-stream": "1\n2\n3\n4\n5\n6\n7\n8\nquit\n",
      "kind": "runcode",
      "search-output": [
       "Scores: 8"
      ]
     }
    ]
   },
   "outputs": [],
   "source": [
    "# SOLUTION CELL 2.1\n"
   ]
  },
  {
   "cell_type": "markdown",
   "metadata": {},
   "source": [
    "### 2.2 You Code\n",
    "\n",
    "Inside your loop, figure out what grade the score is based in the input. You will use a series of `if` statements similar to the previous homework assignment. For example, if the score is an \"A\" increment a variable that counts the number of \"A\" grades. Upon quit display the score and grades. \n",
    "\n",
    "Start with a copy of your answer from 2.1"
   ]
  },
  {
   "cell_type": "code",
   "execution_count": null,
   "metadata": {
    "code_cell_type": "write_code",
    "editable": true,
    "label": "2.2",
    "slideshow": {
     "slide_type": ""
    },
    "solution": [],
    "tags": [],
    "tests": [
     {
      "input-stream": "130\n111\n145\nquit\n",
      "kind": "runcode",
      "search-output": [
       "Scores: 3",
       "A: 2",
       "B: 1"
      ]
     },
     {
      "input-stream": "75\n50\n51\n4\n5\n6\n7\n8\nquit\n",
      "kind": "runcode",
      "search-output": [
       "Scores: 8",
       "C: 1",
       "D: 2",
       "F: 5"
      ]
     }
    ]
   },
   "outputs": [],
   "source": [
    "# SOLUTION CELL 2.2\n"
   ]
  },
  {
   "cell_type": "markdown",
   "metadata": {},
   "source": [
    "### 2.3 Optional Bar Chart Challenge!\n",
    "\n",
    "This is optional and will not be graded, or factored into the assignment checker.\n",
    "\n",
    "#### If you want in the X-men you need to suck up to Prof. Xavier!!!\n",
    "\n",
    "Print your stats using a text-only tech bar chart, like this. This is easy to do in Python with the `*` string operator. Look it up and make it your own!\n",
    "\n",
    "    Scores : 30\n",
    "    A | ************ 12 (40%)\n",
    "    B | ********* 9 (30%)\n",
    "    C | *** 3 (10%)\n",
    "    D | ****** 6 (20%)\n",
    "    F | (0%)"
   ]
  },
  {
   "cell_type": "code",
   "execution_count": null,
   "metadata": {
    "editable": true,
    "slideshow": {
     "slide_type": ""
    },
    "solution": [],
    "tags": [],
    "tests": []
   },
   "outputs": [],
   "source": [
    "# SOLUTION CELL 2.3 (optional)\n"
   ]
  },
  {
   "cell_type": "markdown",
   "metadata": {
    "label": "homework_questions_cell"
   },
   "source": [
    "## Part 3: Metacognition\n",
    "\n",
    "These questions are designed to prompt you to reflect on your learning. Reflection is part of the assignment grade so please take time to answer the questions thoughtfully.\n",
    "\n",
    "#### 3.1 List at least 3 things you learned this week and/or throughout the process of completing this assignment?"
   ]
  },
  {
   "cell_type": "markdown",
   "metadata": {
    "label": "learned_cell"
   },
   "source": []
  },
  {
   "cell_type": "markdown",
   "metadata": {},
   "source": [
    "#### 3.2 What were the challenges or roadblocks (if any) you encountered on the way to completing it?"
   ]
  },
  {
   "cell_type": "markdown",
   "metadata": {
    "label": "challenges_cell"
   },
   "source": []
  },
  {
   "cell_type": "markdown",
   "metadata": {},
   "source": [
    "#### 3.3 Were you prepared for this assignment? What can you do to be better prepared?"
   ]
  },
  {
   "cell_type": "markdown",
   "metadata": {
    "label": "prepared_cell"
   },
   "source": []
  },
  {
   "cell_type": "markdown",
   "metadata": {},
   "source": [
    "#### 3.4 Did someone (or something such as AI) help you? Did You help someone? Provide details. "
   ]
  },
  {
   "cell_type": "markdown",
   "metadata": {
    "label": "help_cell"
   },
   "source": []
  },
  {
   "cell_type": "markdown",
   "metadata": {},
   "source": [
    "#### 3.5  Now that you have completed the assignment rate your comfort level with this week’s material. This should be an honest assessment of your ability: \n",
    "\n",
    "**1** ==> I don't understand this at all yet and need extra help. If you choose this please try to articulate that which you do not understand to the best of your ability in the questions and comments section below.  \n",
    "**2** ==> I can do this with help or guidance from other people or resources. If you choose this level, please indicate HOW this person helped you in the questions and comments section below.   \n",
    "**3** ==> I can do this on my own without any help.   \n",
    "**4** ==> I can do this on my own and can explain/teach how to do it to others.\n",
    "\n",
    "`ENTER A NUMBER 1-4 IN THE CELL BELOW`"
   ]
  },
  {
   "cell_type": "markdown",
   "metadata": {
    "label": "comfort_cell"
   },
   "source": []
  },
  {
   "cell_type": "markdown",
   "metadata": {
    "label": ""
   },
   "source": [
    "## Part 4: Turning it in\n",
    "\n",
    "FIRST AND FOREMOST: **Save Your work!** Yes, it auto-saves, but you should get in the habit of saving before submitting. From the menu, choose File --> Save Notebook. Or you can use the shortcut keys `CTRL+S`\n",
    "\n",
    "### Homework Check\n",
    "\n",
    "Check your homework before submitting. Look for errors and incomplete parts which might cost you a better grade."
   ]
  },
  {
   "cell_type": "code",
   "execution_count": null,
   "metadata": {},
   "outputs": [],
   "source": [
    "from casstools.notebook_tools import NotebookFile\n",
    "NotebookFile().check_homework()"
   ]
  },
  {
   "cell_type": "markdown",
   "metadata": {
    "label": ""
   },
   "source": [
    "### Homework Submission\n",
    "\n",
    "Run this code and follow the instructions to turn in your homework."
   ]
  },
  {
   "cell_type": "code",
   "execution_count": null,
   "metadata": {},
   "outputs": [],
   "source": [
    "from casstools.assignment import Assignment\n",
    "Assignment().submit()"
   ]
  },
  {
   "cell_type": "code",
   "execution_count": null,
   "metadata": {},
   "outputs": [],
   "source": []
  }
 ],
 "metadata": {
  "anaconda-cloud": {},
  "celltoolbar": "Edit Metadata",
  "kernelspec": {
   "display_name": "Python 3 (ipykernel)",
   "language": "python",
   "name": "python3"
  },
  "language_info": {
   "codemirror_mode": {
    "name": "ipython",
    "version": 3
   },
   "file_extension": ".py",
   "mimetype": "text/x-python",
   "name": "python",
   "nbconvert_exporter": "python",
   "pygments_lexer": "ipython3",
   "version": "3.11.7"
  },
  "toc": {
   "base_numbering": 1,
   "nav_menu": {},
   "number_sections": false,
   "sideBar": false,
   "skip_h1_title": false,
   "title_cell": "Table of Contents",
   "title_sidebar": "Contents",
   "toc_cell": false,
   "toc_position": {},
   "toc_section_display": false,
   "toc_window_display": false
  },
  "varInspector": {
   "cols": {
    "lenName": 16,
    "lenType": 16,
    "lenVar": 40
   },
   "kernels_config": {
    "python": {
     "delete_cmd_postfix": "",
     "delete_cmd_prefix": "del ",
     "library": "var_list.py",
     "varRefreshCmd": "print(var_dic_list())"
    },
    "r": {
     "delete_cmd_postfix": ") ",
     "delete_cmd_prefix": "rm(",
     "library": "var_list.r",
     "varRefreshCmd": "cat(var_dic_list()) "
    }
   },
   "types_to_exclude": [
    "module",
    "function",
    "builtin_function_or_method",
    "instance",
    "_Feature"
   ],
   "window_display": false
  }
 },
 "nbformat": 4,
 "nbformat_minor": 4
}
