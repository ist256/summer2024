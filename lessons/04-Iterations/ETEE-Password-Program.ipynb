{
 "cells": [
  {
   "cell_type": "markdown",
   "metadata": {},
   "source": [
    "# End-To-End Example: Password Program\n",
    "\n",
    "Password Program:\n",
    "\n",
    "- 5 attempts for the password\n",
    "- On correct password, print: “Access Granted”, then end the program \n",
    "- On incorrect password “Invalid Password Attempt #” and give the user another try\n",
    "- After 5 attempts, print “You are locked out”. Then end the program.\n"
   ]
  },
  {
   "cell_type": "code",
   "execution_count": null,
   "metadata": {},
   "outputs": [],
   "source": [
    "secret = \"rhubarb\"\n",
    "attempts = 0\n",
    "while True:\n",
    "    password = input(\"Enter Password: \")\n",
    "    attempts= attempts + 1\n",
    "    if password == secret:\n",
    "        print(\"Access Granted!\")\n",
    "        break \n",
    "    print(\"Invalid password attempt #\",attempts)\n",
    "    if attempts == 5:\n",
    "        print(\"You are locked out\")\n",
    "        break\n",
    "print (\"Password Pgm Ended\")     #I do this so there is a place to go upon break and to help the user know it has ended.        "
   ]
  }
 ],
 "metadata": {
  "anaconda-cloud": {},
  "kernelspec": {
   "display_name": "Python 3 (ipykernel)",
   "language": "python",
   "name": "python3"
  },
  "language_info": {
   "codemirror_mode": {
    "name": "ipython",
    "version": 3
   },
   "file_extension": ".py",
   "mimetype": "text/x-python",
   "name": "python",
   "nbconvert_exporter": "python",
   "pygments_lexer": "ipython3",
   "version": "3.11.7"
  }
 },
 "nbformat": 4,
 "nbformat_minor": 4
}
