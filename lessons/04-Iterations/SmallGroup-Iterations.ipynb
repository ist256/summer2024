{
 "cells": [
  {
   "cell_type": "markdown",
   "metadata": {},
   "source": [
    "# Now You Code In Class: Gathering Data and Reporting Statistics\n",
    "\n",
    "For this in-class exercise we demonstrate a common programming pattern for reporting statistics on data in real time as it is input. This is used for data collection and real time analyics of time-series data. \n",
    "\n",
    "In this example we will input temperatures ourselves, but similar code could be used to read from an actual temperature sensor or any other type of sensor or data stream for that matter.\n",
    "\n",
    "Write a program to input a series of temperatures in Celcius, until `quit` is entered (sentinel controlled indefinite loop). For each temperature input, we should output:\n",
    "\n",
    " - the count of temperatures recorded\n",
    " - the mean (average) temperature recorded\n",
    " - the max temperature recorded\n",
    " - the min temperature recorded\n",
    " - the count and percentage of temperatures above freezing\n",
    " - the count and percentage of temperatures at or below freezing\n",
    "\n",
    "\n",
    "Example Run:\n",
    "\n",
    "    Enter temp: 100\n",
    "        Count      : 1\n",
    "        Min        : 100\n",
    "        Mean       : 100\n",
    "        Max        : 100\n",
    "        Above 0    : 1 (100%)\n",
    "        At/Below 0 : 0 (0%)        \n",
    "\n",
    "    Enter temp: 0\n",
    "        Count      : 2\n",
    "        Min        : 0\n",
    "        Mean       : 50\n",
    "        Max        : 100\n",
    "        Above 0    : 1 (50%)\n",
    "        At/Below 0 : 1 (50%)        \n",
    "\n",
    "    Enter temp: -100\n",
    "        Count      : 3\n",
    "        Min        : -100\n",
    "        Mean       : 0\n",
    "        Max        : 100\n",
    "        Above 0    : 1 (33%)\n",
    "        At/Below 0 : 2 (67%)        \n",
    "    \n",
    "    Enter temp: quit\n",
    "\n",
    "## Simplifying this problem\n",
    "\n",
    "This can seem like a lot to figure out all at once. Once again we will use **problem simplification** to make this problem easier to code, taking several iterations and adding more features with each iteration. Typically we use problem simplification to constrain the inputs, but since this problem has only one input, instead we will constrain the outputs. \n",
    "\n"
   ]
  },
  {
   "cell_type": "markdown",
   "metadata": {},
   "source": [
    "## First Iteration: Problem Analysis\n",
    "\n",
    "The first version of this program will will ONLY output the count (number of temperature readings) for each temperature input.\n",
    "\n",
    "Example Run:\n",
    "\n",
    "    Enter temp: 100\n",
    "        Count      : 1\n",
    "    Enter temp: 0\n",
    "        Count      : 2\n",
    "    Enter temp: -100\n",
    "        Count      : 3\n",
    "    Enter temp: quit\n",
    "\n",
    "\n",
    "### Loop-Building:\n",
    "    \n",
    "What makes this program stop? (sentinel value)\n",
    "\n",
    "PROMPT 1 the user will enter the word quit\n",
    "\n",
    "What are we doing in the body of the loop?\n",
    "\n",
    "PROMPT 2 ask for a temperature, increment our counter. \n",
    "\n",
    "\n",
    "### Algorithm (Steps in Program):\n",
    "\n",
    "```\n",
    "INPUT: Temperature:\n",
    "\n",
    "OUTPUT: Current Min Temperature\n",
    "\n",
    "INPUT: 100\n",
    "MIN: 100\n",
    "\n",
    "INPUT: 50\n",
    "MIN: 50\n",
    "\n",
    "INPUT: 75\n",
    "MIN: 50 \n",
    "\n",
    "```\n",
    "\n",
    "\n",
    "       PROMPT 3: Write steps in your own words\n",
    "       Set up my counter and initialize it to zero\n",
    "       Start my loop\n",
    "           ask for input\n",
    "           check to see if the input is quit\n",
    "               end my program\n",
    "           change my input to an integer\n",
    "           increment my temp_counter by one\n",
    "           print out what the user wanted by example\n"
   ]
  },
  {
   "cell_type": "code",
   "execution_count": 1,
   "metadata": {},
   "outputs": [
    {
     "name": "stdin",
     "output_type": "stream",
     "text": [
      "Enter Temp:  100\n"
     ]
    },
    {
     "name": "stdout",
     "output_type": "stream",
     "text": [
      "   Count:     1\n"
     ]
    },
    {
     "name": "stdin",
     "output_type": "stream",
     "text": [
      "Enter Temp:  0\n"
     ]
    },
    {
     "name": "stdout",
     "output_type": "stream",
     "text": [
      "   Count:     2\n"
     ]
    },
    {
     "name": "stdin",
     "output_type": "stream",
     "text": [
      "Enter Temp:  -100\n"
     ]
    },
    {
     "name": "stdout",
     "output_type": "stream",
     "text": [
      "   Count:     3\n"
     ]
    },
    {
     "name": "stdin",
     "output_type": "stream",
     "text": [
      "Enter Temp:  quit\n"
     ]
    },
    {
     "name": "stdout",
     "output_type": "stream",
     "text": [
      "The program has ended\n"
     ]
    }
   ],
   "source": [
    "# PROMPT 4\n",
    "temp_counter = 0\n",
    "while True:\n",
    "    temp = input(\"Enter Temp: \")\n",
    "    if temp == 'quit':\n",
    "        break\n",
    "    temp = int(temp)\n",
    "    temp_counter = temp_counter + 1\n",
    "    print (f\"   Count:     {temp_counter}\")\n",
    "print (f'The program has ended')"
   ]
  },
  {
   "cell_type": "markdown",
   "metadata": {},
   "source": [
    "## Second Iteration: Problem Analysis\n",
    "\n",
    "Next let's add a feature which calculates the **mean**. The mean is the average of the recorded temperatures so far.\n",
    "\n",
    "\n",
    "Example Run:\n",
    "\n",
    "    Enter temp: 100\n",
    "        Count      : 1\n",
    "        Mean       : 100\n",
    "\n",
    "    Enter temp: 0\n",
    "        Count      : 2\n",
    "        Mean       : 50\n",
    "\n",
    "    Enter temp: -100\n",
    "        Count      : 3\n",
    "        Mean       : 0\n",
    "    \n",
    "    Enter temp: quit\n",
    "\n",
    "### Understanding the Problem\n",
    "    \n",
    "How do we calculate a mean? E.g. what is the mean of 10,5,6 ?\n",
    "\n",
    "    PROMPT 5\n",
    "\n",
    "\n",
    "### Algorithm (Steps in Program):\n",
    "\n",
    "copy from PROMPT 3 and revise\n",
    "\n",
    "```\n",
    "PROMPT 6\n",
    "```"
   ]
  },
  {
   "cell_type": "code",
   "execution_count": 2,
   "metadata": {},
   "outputs": [
    {
     "name": "stdin",
     "output_type": "stream",
     "text": [
      "Enter Temp:  100\n"
     ]
    },
    {
     "name": "stdout",
     "output_type": "stream",
     "text": [
      "   Count:     1\n",
      "    Mean:     100.0\n"
     ]
    },
    {
     "name": "stdin",
     "output_type": "stream",
     "text": [
      "Enter Temp:  0\n"
     ]
    },
    {
     "name": "stdout",
     "output_type": "stream",
     "text": [
      "   Count:     2\n",
      "    Mean:     50.0\n"
     ]
    },
    {
     "name": "stdin",
     "output_type": "stream",
     "text": [
      "Enter Temp:  -100\n"
     ]
    },
    {
     "name": "stdout",
     "output_type": "stream",
     "text": [
      "   Count:     3\n",
      "    Mean:     0.0\n"
     ]
    },
    {
     "name": "stdin",
     "output_type": "stream",
     "text": [
      "Enter Temp:  quit\n"
     ]
    },
    {
     "name": "stdout",
     "output_type": "stream",
     "text": [
      "The program has ended\n"
     ]
    }
   ],
   "source": [
    "# PROMPT 7 (copy prompt 4 add code)\n",
    "temp_counter = 0\n",
    "sum_temps = 0\n",
    "while True:\n",
    "    temp = input(\"Enter Temp: \")\n",
    "    if temp == 'quit':\n",
    "        break\n",
    "    temp = int(temp)\n",
    "    temp_counter = temp_counter + 1\n",
    "    sum_temps = sum_temps + temp\n",
    "    mean_temp = sum_temps / temp_counter\n",
    "    print (f\"   Count:     {temp_counter}\")\n",
    "    print (f\"    Mean:     {mean_temp}\")\n",
    "print (f'The program has ended')"
   ]
  },
  {
   "cell_type": "markdown",
   "metadata": {},
   "source": [
    "## Third Iteration: Problem Analysis\n",
    "\n",
    "Next let's add a feature which calculates the **minimum**. this a variable which should keep track of the lowest recorded temperature so far.\n",
    "\n",
    "\n",
    "Example Run:\n",
    "\n",
    "    Enter temp: 100\n",
    "        Count      : 1\n",
    "        Min        : 100\n",
    "        Mean       : 100\n",
    "\n",
    "    Enter temp: 0\n",
    "        Count      : 2\n",
    "        Min        : 0\n",
    "        Mean       : 50\n",
    "\n",
    "    Enter temp: -100\n",
    "        Count      : 3\n",
    "        Min        : -100\n",
    "        Mean       : 0\n",
    "    \n",
    "    Enter temp: quit\n",
    "\n",
    "\n",
    "### Understanding the Problem\n",
    "    \n",
    "What when given a freshly input `temp` and a current `minimum` how to we know when `temp` should be the new `minimum`?\n",
    "\n",
    "PROMPT 8\n",
    "\n",
    "\n",
    "### Algorithm (Steps in Program):\n",
    "\n",
    "copy from PROMPT 6 and revise\n",
    "\n",
    "```\n",
    "PROMPT 9\n",
    "```\n",
    "\n",
    "\n",
    "Note: We must initialize `minimum` to be the largest number possible, so `float('inf')` see: https://www.geeksforgeeks.org/python-infinity/\n"
   ]
  },
  {
   "cell_type": "code",
   "execution_count": null,
   "metadata": {},
   "outputs": [
    {
     "name": "stdin",
     "output_type": "stream",
     "text": [
      "Enter Temp:  100\n"
     ]
    },
    {
     "name": "stdout",
     "output_type": "stream",
     "text": [
      "   Count:     1\n",
      "    Mean:     100.0\n",
      "    Min:      100\n"
     ]
    },
    {
     "name": "stdin",
     "output_type": "stream",
     "text": [
      "Enter Temp:  0\n"
     ]
    },
    {
     "name": "stdout",
     "output_type": "stream",
     "text": [
      "   Count:     2\n",
      "    Mean:     50.0\n",
      "    Min:      0\n"
     ]
    },
    {
     "name": "stdin",
     "output_type": "stream",
     "text": [
      "Enter Temp:  -100\n"
     ]
    },
    {
     "name": "stdout",
     "output_type": "stream",
     "text": [
      "   Count:     3\n",
      "    Mean:     0.0\n",
      "    Min:      -100\n"
     ]
    }
   ],
   "source": [
    "# PROMPT 10 (copy prompt 7 add code )\n",
    "temp_counter = 0\n",
    "sum_temps = 0\n",
    "min_temp = float(\"inf\")\n",
    "while True:\n",
    "    temp = input(\"Enter Temp: \")\n",
    "    if temp == 'quit':\n",
    "        break\n",
    "    temp = int(temp)\n",
    "    temp_counter = temp_counter + 1\n",
    "    sum_temps = sum_temps + temp\n",
    "    mean_temp = sum_temps / temp_counter\n",
    "    if temp < min_temp :\n",
    "        min_temp = temp\n",
    "    print (f\"   Count:     {temp_counter}\")\n",
    "    print (f\"    Mean:     {mean_temp}\")\n",
    "    print (f\"    Min:      {min_temp}\")\n",
    "print (f'The program has ended')"
   ]
  },
  {
   "cell_type": "markdown",
   "metadata": {},
   "source": [
    "## Final Iteration: Problem Analysis\n",
    "\n",
    "We should have enough knowledge of how to do this to complete the rest of the program.\n",
    "\n",
    "\n",
    "### Understanding the Problem\n",
    "    \n",
    "What when given a freshly input `temp` and a current `maximum` how to we know when `temp` should be the new `maximum`?\n",
    "\n",
    "PROMPT 11\n",
    "\n",
    "How do we keep a count of temperatures above freezing?\n",
    "\n",
    "PROMPT 12\n",
    "\n",
    "How do we keep a count of temperatures at or below freezing?\n",
    "\n",
    "PROMPT 13\n",
    "\n",
    "\n",
    "### Algorithm (Steps in Program):\n",
    "\n",
    "copy from PROMPT 9 and revise\n",
    "\n",
    "```\n",
    "PROMPT 14\n",
    "```\n",
    "\n",
    "Note: We must initialize `maximum` to be the largest number possible, so `float('-inf')` see: https://www.geeksforgeeks.org/python-infinity/\n"
   ]
  },
  {
   "cell_type": "code",
   "execution_count": null,
   "metadata": {},
   "outputs": [],
   "source": [
    "# PROMPT 15 (copy from prompt 10, final code!!!)\n"
   ]
  }
 ],
 "metadata": {
  "anaconda-cloud": {},
  "kernelspec": {
   "display_name": "Python 3 (ipykernel)",
   "language": "python",
   "name": "python3"
  },
  "language_info": {
   "codemirror_mode": {
    "name": "ipython",
    "version": 3
   },
   "file_extension": ".py",
   "mimetype": "text/x-python",
   "name": "python",
   "nbconvert_exporter": "python",
   "pygments_lexer": "ipython3",
   "version": "3.11.7"
  },
  "toc": {
   "base_numbering": 1,
   "nav_menu": {},
   "number_sections": false,
   "sideBar": false,
   "skip_h1_title": false,
   "title_cell": "Table of Contents",
   "title_sidebar": "Contents",
   "toc_cell": false,
   "toc_position": {},
   "toc_section_display": false,
   "toc_window_display": false
  },
  "varInspector": {
   "cols": {
    "lenName": 16,
    "lenType": 16,
    "lenVar": 40
   },
   "kernels_config": {
    "python": {
     "delete_cmd_postfix": "",
     "delete_cmd_prefix": "del ",
     "library": "var_list.py",
     "varRefreshCmd": "print(var_dic_list())"
    },
    "r": {
     "delete_cmd_postfix": ") ",
     "delete_cmd_prefix": "rm(",
     "library": "var_list.r",
     "varRefreshCmd": "cat(var_dic_list()) "
    }
   },
   "types_to_exclude": [
    "module",
    "function",
    "builtin_function_or_method",
    "instance",
    "_Feature"
   ],
   "window_display": false
  }
 },
 "nbformat": 4,
 "nbformat_minor": 4
}
