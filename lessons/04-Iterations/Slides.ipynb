{
 "cells": [
  {
   "cell_type": "markdown",
   "metadata": {
    "slideshow": {
     "slide_type": "slide"
    }
   },
   "source": [
    "# IST256 Lesson 04\n",
    "## Iterations\n",
    "\n",
    "- P4E Ch5\n"
   ]
  },
  {
   "cell_type": "markdown",
   "metadata": {
    "slideshow": {
     "slide_type": "slide"
    }
   },
   "source": [
    "# Agenda\n",
    "\n",
    "- Go over HW 03 Grading \n",
    "- Review Slides\n",
    "- Review Video for Small Group Problem that they should watch and finish\n",
    "- Kick off Exam 1\n",
    "\n",
    "### Iterations \n",
    "- Make our code execute in a non linear fashion.\n",
    "- Definite loops (for loops) and iterators.\n",
    "- Indefinite looping, infinite loops, and the break and continue statements\n",
    "- How to build complex loops easily. \n"
   ]
  },
  {
   "cell_type": "markdown",
   "metadata": {
    "slideshow": {
     "slide_type": "slide"
    }
   },
   "source": [
    "# Connect Activity\n",
    "\n",
    "Select the line number where the **increment** occurs: "
   ]
  },
  {
   "cell_type": "code",
   "execution_count": null,
   "metadata": {
    "slideshow": {
     "slide_type": "fragment"
    }
   },
   "outputs": [],
   "source": [
    "i,j,k = 1, 20, 1\n",
    "while (i<j):\n",
    "    n = k*(j-i)\n",
    "    print(n)\n",
    "    i = i + 1\n",
    "    j = j - 1\n",
    "    k = k * 5"
   ]
  },
  {
   "cell_type": "markdown",
   "metadata": {
    "slideshow": {
     "slide_type": "fragment"
    }
   },
   "source": [
    "A. `4`  \n",
    "B. `5`  \n",
    "C. `6`  \n",
    "D. `7`  \n",
    "\n"
   ]
  },
  {
   "cell_type": "markdown",
   "metadata": {
    "slideshow": {
     "slide_type": "slide"
    }
   },
   "source": [
    "# Increment and Decrement\n",
    "\n",
    "- **Increment** means to add a value to a variable.  \n",
    "  `X = X + 1`\n",
    "- **Decrement** means to subtract a value from a variable.  \n",
    "  `X = X - 1`\n",
    "- These are common patterns in iteration statements which you will see today. \n"
   ]
  },
  {
   "cell_type": "markdown",
   "metadata": {
    "slideshow": {
     "slide_type": "slide"
    }
   },
   "source": [
    "# Anatomy of a loop\n",
    "\n",
    "- A **Loop** is a sequence of code that repeats as long as a Boolean expression is <font color=\"green\">True </font>. \n"
   ]
  },
  {
   "cell_type": "code",
   "execution_count": 5,
   "metadata": {
    "slideshow": {
     "slide_type": "fragment"
    }
   },
   "outputs": [
    {
     "name": "stdout",
     "output_type": "stream",
     "text": [
      "False\n"
     ]
    }
   ],
   "source": [
    "x = 1\n",
    "while x <= 7:\n",
    "    x = x + 1\n"
   ]
  },
  {
   "cell_type": "markdown",
   "metadata": {
    "slideshow": {
     "slide_type": "fragment"
    }
   },
   "source": [
    "- The sequence of code that repeats is known as the **Body**.\n",
    "- The Boolean expression which is tested is known as the **Test Condition** or **Exit Condition**.\n",
    "- Variables which are part of the Test condition are called **Loop Control Variables** or **Iteration Variables**. \n",
    "- Our goal is to make the Test condition False so that the loop stops. This is accomplished through changing the loop control variable within the body of the loop."
   ]
  },
  {
   "cell_type": "markdown",
   "metadata": {
    "slideshow": {
     "slide_type": "slide"
    }
   },
   "source": [
    "# Watch Me Code 1\n",
    "\n",
    "  ## Say My Name:\n",
    "- This program will say you name a number of times.\n",
    "- This is an example of a **Definite loop** because the number of iterations are pre-determined.\n"
   ]
  },
  {
   "cell_type": "code",
   "execution_count": 3,
   "metadata": {},
   "outputs": [
    {
     "name": "stdin",
     "output_type": "stream",
     "text": [
      "Enter your name: Nosky\n",
      "Enter number of times I should say hello to Nosky: 3\n"
     ]
    },
    {
     "name": "stdout",
     "output_type": "stream",
     "text": [
      "Hello, Nosky\n",
      "Hello, Nosky\n",
      "Hello, Nosky\n"
     ]
    }
   ],
   "source": [
    "# not an easy way but a good example. \n",
    "name = input(\"Enter your name:\")\n",
    "times = int(input(f\"Enter number of times I should say hello to {name}:\"))\n",
    "while times != 0:\n",
    "    print(f\"Hello, {name}\")\n",
    "    times = times - 1"
   ]
  },
  {
   "cell_type": "markdown",
   "metadata": {
    "slideshow": {
     "slide_type": "slide"
    }
   },
   "source": [
    "# Check Yourself: Loop\n",
    "\n",
    "on which line is the test / exit condition?"
   ]
  },
  {
   "cell_type": "code",
   "execution_count": 4,
   "metadata": {
    "slideshow": {
     "slide_type": "fragment"
    }
   },
   "outputs": [
    {
     "name": "stdout",
     "output_type": "stream",
     "text": [
      "1 2 3 4 5\n"
     ]
    }
   ],
   "source": [
    "x = 1\n",
    "while x<5:\n",
    "    print(x, end=\" \")\n",
    "    x = x + 1\n",
    "    \n",
    "print(x)"
   ]
  },
  {
   "cell_type": "markdown",
   "metadata": {
    "slideshow": {
     "slide_type": "fragment"
    }
   },
   "source": [
    "A. `1`  \n",
    "B. `2`  \n",
    "C. `3`  \n",
    "D. `4`  \n"
   ]
  },
  {
   "cell_type": "markdown",
   "metadata": {
    "slideshow": {
     "slide_type": "slide"
    }
   },
   "source": [
    "# For Loop\n",
    "\n",
    "- The **For Loop** iterates over a python list, string, or range of numbers. \n",
    "- It is the preferred statement for **Definite loops**, where the number of iterations are pre-determined. Definite loops do not require an exit condition.\n",
    "- The for loop uses an **iterator** to select each item from the list or range and take action in the loop body. \n",
    "- The **range()** function is useful for getting an iterator of numbers.\n",
    "- The for loop and iterate over any iterable. \n"
   ]
  },
  {
   "cell_type": "code",
   "execution_count": 6,
   "metadata": {
    "slideshow": {
     "slide_type": "fragment"
    }
   },
   "outputs": [
    {
     "name": "stdout",
     "output_type": "stream",
     "text": [
      "Hello  0\n",
      "Hello  1\n",
      "Hello  2\n",
      "m\n",
      "i\n",
      "k\n",
      "e\n",
      "Russia\n",
      "China\n"
     ]
    }
   ],
   "source": [
    "for i in range(3):\n",
    "    print(\"Hello \", i)\n",
    "    \n",
    "for char in \"mike\":\n",
    "    print (char)\n",
    "    \n",
    "for country in [\"Russia\",\"China\"]:\n",
    "    print (country)\n"
   ]
  },
  {
   "cell_type": "markdown",
   "metadata": {
    "slideshow": {
     "slide_type": "slide"
    }
   },
   "source": [
    "# Range\n",
    "\n",
    "- The `range()` function returns an iterable.\n",
    "- `range(n)` returns `n` iterations from `0` to `n-1`"
   ]
  },
  {
   "cell_type": "code",
   "execution_count": 2,
   "metadata": {
    "slideshow": {
     "slide_type": "fragment"
    }
   },
   "outputs": [
    {
     "name": "stdout",
     "output_type": "stream",
     "text": [
      "range(10) => [0, 1, 2, 3, 4, 5, 6, 7, 8, 9]\n",
      "range(1,10) => [1, 2, 3, 4, 5, 6, 7, 8, 9]\n",
      "range(1,10,2) => [1, 3, 5, 7, 9]\n"
     ]
    }
   ],
   "source": [
    "print(\"range(10) =>\", list(range(10)) )\n",
    "print(\"range(1,10) =>\", list(range(1,10)) )\n",
    "print(\"range(1,10,2) =>\",list(range(1,10,2)) )"
   ]
  },
  {
   "cell_type": "markdown",
   "metadata": {
    "slideshow": {
     "slide_type": "slide"
    }
   },
   "source": [
    "# Watch Me Code 2\n",
    "\n",
    "## Say My Name:\n",
    "\n",
    "- Range() function\n",
    "- ***Refactored*** as a For Loop.\n"
   ]
  },
  {
   "cell_type": "markdown",
   "metadata": {
    "slideshow": {
     "slide_type": "slide"
    }
   },
   "source": [
    "# Check Yourself: For Range 1\n",
    "\n",
    "How many iterations are in this loop? "
   ]
  },
  {
   "cell_type": "code",
   "execution_count": null,
   "metadata": {
    "slideshow": {
     "slide_type": "fragment"
    }
   },
   "outputs": [],
   "source": [
    "k = 0\n",
    "j = 10\n",
    "for j in range(5):\n",
    "    k = k + j\n",
    "    print(k)"
   ]
  },
  {
   "cell_type": "markdown",
   "metadata": {
    "slideshow": {
     "slide_type": "fragment"
    }
   },
   "source": [
    "A. `0`  \n",
    "B. `10`  \n",
    "C. `5`  \n",
    "D. `Unknown`  \n"
   ]
  },
  {
   "cell_type": "markdown",
   "metadata": {
    "slideshow": {
     "slide_type": "slide"
    }
   },
   "source": [
    "# Check Yourself: For Range 2\n",
    "\n",
    "What is the value of k on line 4?\n"
   ]
  },
  {
   "cell_type": "code",
   "execution_count": null,
   "metadata": {
    "slideshow": {
     "slide_type": "fragment"
    }
   },
   "outputs": [],
   "source": [
    "k = 0\n",
    "for j in range(5): \n",
    "    print(f\"k={k},j={j},k+j={k+j}\")\n",
    "    k = k + j\t\n",
    "print(k)"
   ]
  },
  {
   "cell_type": "markdown",
   "metadata": {
    "slideshow": {
     "slide_type": "fragment"
    }
   },
   "source": [
    "A. `0`  \n",
    "B. `10`  \n",
    "C. `5`  \n",
    "D. `15`  \n"
   ]
  },
  {
   "cell_type": "markdown",
   "metadata": {
    "slideshow": {
     "slide_type": "slide"
    }
   },
   "source": [
    "# Watch Me Code 3\n",
    "\n",
    "## Count the \"i\"'s \n",
    "- Definite Loop\n"
   ]
  },
  {
   "cell_type": "markdown",
   "metadata": {
    "slideshow": {
     "slide_type": "slide"
    }
   },
   "source": [
    "# Indefinite,Infinite Loops and Break\n",
    "\n",
    "- The **Indefinite Loop** has no pre-determined exit condition. There are no guarantees an indefinite loop will end, as it is typically based on user input.\n",
    "- **Infinite Loops** are loops which can never reach their exit condition. These should be avoided at all costs.\n",
    "- The **break** statement is used to exit a loop immediately.It is often used to force an exit condition in the body of the loop.\n"
   ]
  },
  {
   "cell_type": "markdown",
   "metadata": {
    "slideshow": {
     "slide_type": "slide"
    }
   },
   "source": [
    "# Indefinite Loops The Easy Way\n",
    "\n",
    "1. Determine the code to repeat\n",
    "2. Determine the loop control variables & exit conditions\n",
    "3. Write exit conditions as **if** statements with **break**\n",
    "4. Wrap the code in a **while True:** loop!\n"
   ]
  },
  {
   "cell_type": "markdown",
   "metadata": {
    "slideshow": {
     "slide_type": "slide"
    }
   },
   "source": [
    "# Watch Me Code 4\n",
    "\n",
    "## Guess My Name:\n",
    "- This program will execute until you guess my name. \n",
    "- Uses the indefinite loop approach."
   ]
  },
  {
   "cell_type": "markdown",
   "metadata": {
    "slideshow": {
     "slide_type": "slide"
    }
   },
   "source": [
    "# Check Yourself: Loop Matching 1\n",
    "\n",
    "A loop where the test condition is never false is known as which kind of loop?\n",
    "   \n",
    " A. `Break`  \n",
    " B. `Infinite`  \n",
    " C. `Definite`  \n",
    " D. `Indefinite`  \n",
    "   \n",
    "   "
   ]
  },
  {
   "cell_type": "markdown",
   "metadata": {
    "slideshow": {
     "slide_type": "slide"
    }
   },
   "source": [
    "# Check Yourself: Loop Matching 2\n",
    "\n",
    "The Python keyword to exit a loop is?\n",
    "   \n",
    " A. `break`  \n",
    " B. `exit`  \n",
    " C. `quit`  \n",
    " D. `while`  \n",
    "   \n",
    "   "
   ]
  },
  {
   "cell_type": "markdown",
   "metadata": {
    "slideshow": {
     "slide_type": "slide"
    }
   },
   "source": [
    "# End-To-End Example\n",
    "\n",
    "## Password Program:\n",
    "- 5 attempts for the password\n",
    "- On correct password, print: “Access Granted”, then end the program \n",
    "- On incorrect password “Invalid Password Attempt #” and give the user another try\n",
    "- After 5 attempts, print “You are locked out”. Then end the program.\n"
   ]
  },
  {
   "cell_type": "markdown",
   "metadata": {
    "slideshow": {
     "slide_type": "slide"
    }
   },
   "source": [
    "# Conclusion Activity Exit Ticket\n",
    "\n",
    "This program will output?\n"
   ]
  },
  {
   "cell_type": "code",
   "execution_count": 9,
   "metadata": {
    "slideshow": {
     "slide_type": "fragment"
    }
   },
   "outputs": [
    {
     "name": "stdout",
     "output_type": "stream",
     "text": [
      "ooxoThe End\n"
     ]
    }
   ],
   "source": [
    "for x in 'mike':\n",
    "    if x == 'k':\n",
    "        print('x', end=\"\")\n",
    "    else:\n",
    "        print('o', end=\"\")\n",
    "print (\"The End\")        "
   ]
  },
  {
   "cell_type": "code",
   "execution_count": 7,
   "metadata": {
    "tags": []
   },
   "outputs": [
    {
     "name": "stdin",
     "output_type": "stream",
     "text": [
      "Input a number:  3\n"
     ]
    },
    {
     "name": "stdout",
     "output_type": "stream",
     "text": [
      "3\n"
     ]
    },
    {
     "name": "stdin",
     "output_type": "stream",
     "text": [
      "Input a number:  4\n"
     ]
    },
    {
     "name": "stdout",
     "output_type": "stream",
     "text": [
      "4\n"
     ]
    },
    {
     "name": "stdin",
     "output_type": "stream",
     "text": [
      "Input a number:  2\n"
     ]
    },
    {
     "name": "stdout",
     "output_type": "stream",
     "text": [
      " The End \n"
     ]
    }
   ],
   "source": [
    "while True:\n",
    "    x = int(input(\"Input a number: \"))\n",
    "    if x == 2:\n",
    "        break\n",
    "    print (x)\n",
    "print(\" The End \")    \n",
    "            "
   ]
  },
  {
   "cell_type": "markdown",
   "metadata": {
    "slideshow": {
     "slide_type": "fragment"
    }
   },
   "source": [
    "A. `xo`  \n",
    "B. `ox`  \n",
    "C. `ooxo`  \n",
    "D. `xxox`  \n"
   ]
  }
 ],
 "metadata": {
  "celltoolbar": "Slideshow",
  "kernelspec": {
   "display_name": "Python 3 (ipykernel)",
   "language": "python",
   "name": "python3"
  },
  "language_info": {
   "codemirror_mode": {
    "name": "ipython",
    "version": 3
   },
   "file_extension": ".py",
   "mimetype": "text/x-python",
   "name": "python",
   "nbconvert_exporter": "python",
   "pygments_lexer": "ipython3",
   "version": "3.11.7"
  },
  "toc": {
   "base_numbering": 1,
   "nav_menu": {},
   "number_sections": false,
   "sideBar": true,
   "skip_h1_title": false,
   "title_cell": "Table of Contents",
   "title_sidebar": "Contents",
   "toc_cell": false,
   "toc_position": {
    "height": "calc(100% - 180px)",
    "left": "10px",
    "top": "150px",
    "width": "212px"
   },
   "toc_section_display": true,
   "toc_window_display": false
  },
  "varInspector": {
   "cols": {
    "lenName": 16,
    "lenType": 16,
    "lenVar": 40
   },
   "kernels_config": {
    "python": {
     "delete_cmd_postfix": "",
     "delete_cmd_prefix": "del ",
     "library": "var_list.py",
     "varRefreshCmd": "print(var_dic_list())"
    },
    "r": {
     "delete_cmd_postfix": ") ",
     "delete_cmd_prefix": "rm(",
     "library": "var_list.r",
     "varRefreshCmd": "cat(var_dic_list()) "
    }
   },
   "position": {
    "height": "144.5px",
    "left": "557.5px",
    "right": "20px",
    "top": "122px",
    "width": "350px"
   },
   "types_to_exclude": [
    "module",
    "function",
    "builtin_function_or_method",
    "instance",
    "_Feature"
   ],
   "window_display": false
  }
 },
 "nbformat": 4,
 "nbformat_minor": 4
}
