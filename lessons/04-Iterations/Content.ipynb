{
 "cells": [
  {
   "cell_type": "markdown",
   "id": "d80eafe4-3f01-4cc2-bda3-785bd181635c",
   "metadata": {},
   "source": [
    "## Lesson 04: Iterations\n",
    "\n",
    "### Overview\n",
    "\n",
    "In this lesson we learn:\n",
    "\n",
    "- How to make our code execute in a non linear fashion through the use of iterations, or loops.\n",
    "- The while loop for indefinite looping, infinite loops, and the break and continue statements\n",
    "- How to build complex loops easily.\n",
    "- Definite loops (for loops) and iterators.\n",
    "\n",
    "### Required Before Large Group\n",
    "\n",
    "- READ: Severance Ch 5: Iterations](https://books.trinket.io/pfe/05-iterations.html)\n",
    "- VIDEO: Python for Everybody: [Ch5 Part 1](https://youtu.be/FzpurxjwmsM) | [Part 2](https://youtu.be/5QDrj5ogPYc)  | [Part 3](https://youtu.be/xsavQp8hd78)  | [Part 4](https://youtu.be/yjlMMwf9Y5I), by Charles Severance\n",
    "\n",
    "### Additional Resources\n",
    "\n",
    "- VIDEO: [Python For Loops, by Programming with Mosh](https://youtu.be/94UHCEmprCY?si=cZ4veVC_aMB3A8I3)\n",
    "- VIDEO: [Python While Loops, by Amigoscode](https://youtu.be/mJEpimi_tFo?si=FiXh_tLKXkgQ5aYB&t=3656)\n",
    "- VIDEO: [End to End Example: Iterations, by Michael Fudge](https://youtu.be/8xr8boE79hU)\n",
    "- VIDEO: [Lab Walk Through, by Michael Fudge](https://youtu.be/qiQYbAxJTds)\n",
    "- VIDEO: [Homework Advice, by Michael Fudge](https://youtu.be/dTasdLouiak)\n",
    "\n"
   ]
  },
  {
   "cell_type": "code",
   "execution_count": null,
   "id": "02dc190e-e539-4d1e-95ed-bbfce7054f27",
   "metadata": {},
   "outputs": [],
   "source": []
  }
 ],
 "metadata": {
  "kernelspec": {
   "display_name": "Python 3 (ipykernel)",
   "language": "python",
   "name": "python3"
  },
  "language_info": {
   "codemirror_mode": {
    "name": "ipython",
    "version": 3
   },
   "file_extension": ".py",
   "mimetype": "text/x-python",
   "name": "python",
   "nbconvert_exporter": "python",
   "pygments_lexer": "ipython3",
   "version": "3.11.7"
  }
 },
 "nbformat": 4,
 "nbformat_minor": 5
}
