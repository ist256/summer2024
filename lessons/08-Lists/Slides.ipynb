{
 "cells": [
  {
   "cell_type": "markdown",
   "metadata": {
    "slideshow": {
     "slide_type": "slide"
    }
   },
   "source": [
    "# IST256 Lesson 08\n",
    "## Lists\n",
    "\n",
    "- P4E Ch8\n",
    "\n",
    "## Links\n",
    "\n",
    "- Participation: [https://poll.ist256.com](https://poll.ist256.com)  \n",
    "(Sign in with *netid*@syr.edu and your SU Password.)\n",
    "- Class Chat: [https://chat.ist256.com](https://chat.ist256.com)  (Microsoft Teams.)\n",
    "\n"
   ]
  },
  {
   "cell_type": "markdown",
   "metadata": {
    "slideshow": {
     "slide_type": "slide"
    }
   },
   "source": [
    "# FEQT (Future Exam Questions Training) 1\n",
    "\n",
    "Which variable is the file handle?"
   ]
  },
  {
   "cell_type": "code",
   "execution_count": null,
   "metadata": {
    "slideshow": {
     "slide_type": "fragment"
    }
   },
   "outputs": [],
   "source": [
    "w = \"mylist.txt\"          # w file name \n",
    "x = \"r\"                 # x mode \"r\", \"w\", \"a\"\n",
    "with open(w,x) as y:    # y - handle\n",
    "    z = y.read()        # z = file contents\n",
    "\n",
    "print(z)"
   ]
  },
  {
   "cell_type": "markdown",
   "metadata": {
    "slideshow": {
     "slide_type": "fragment"
    }
   },
   "source": [
    " A. w  \n",
    " B. x  \n",
    " C. y   \n",
    " D. z  \n",
    " \n",
    "## Vote Now: [https://poll.ist256.com](https://poll.ist256.com)"
   ]
  },
  {
   "cell_type": "markdown",
   "metadata": {
    "slideshow": {
     "slide_type": "slide"
    }
   },
   "source": [
    "# FEQT (Future Exam Questions Training) 2\n",
    "\n",
    "What is written to this file?"
   ]
  },
  {
   "cell_type": "code",
   "execution_count": null,
   "metadata": {
    "slideshow": {
     "slide_type": "fragment"
    }
   },
   "outputs": [],
   "source": [
    "w = \"file.txt\"\n",
    "x = \"w\"\n",
    "with open(w,x) as y:\n",
    "    for i in range(3):\n",
    "        y.write(f\"{i}\")\n",
    "        "
   ]
  },
  {
   "cell_type": "markdown",
   "metadata": {
    "slideshow": {
     "slide_type": "fragment"
    }
   },
   "source": [
    "A. `0 1 2 3`   \n",
    "B. `1 2 3`    \n",
    "C. `0 1 2`    \n",
    "D. None of the above  \n",
    " \n",
    "## Vote Now: [https://poll.ist256.com](https://poll.ist256.com)"
   ]
  },
  {
   "cell_type": "markdown",
   "metadata": {
    "slideshow": {
     "slide_type": "slide"
    }
   },
   "source": [
    "# Agenda\n",
    "\n",
    "### Homework 07\n",
    "\n",
    "- Solution\n",
    "\n",
    "### Lesson 08\n",
    "\n",
    "- Lists as a mutable sequence of values.\n",
    "- Indexing list values; slice notation.\n",
    "- List functions and operations like add, remove, update, find\n",
    "- Common patterns for list management.\n"
   ]
  },
  {
   "cell_type": "markdown",
   "metadata": {
    "slideshow": {
     "slide_type": "slide"
    }
   },
   "source": [
    "# Connect Activity\n",
    "\n",
    "For `x = [0,1,2,3,4,5]` what is  `x[2:4]` ?  \n",
    "    \n",
    "A. `[2,3]`  \n",
    "B. `[1,2,3]`  \n",
    "C. `[1,2]`  \n",
    "D. `[2,3,4,5]`\n",
    "\n",
    "### Vote Now: [https://poll.ist256.com](https://poll.ist256.com)"
   ]
  },
  {
   "cell_type": "markdown",
   "metadata": {
    "slideshow": {
     "slide_type": "slide"
    }
   },
   "source": [
    "# Lists are Mutable Sequence Types\n",
    "\n",
    "- Python **lists** are variables which hold a collection of values. They are actually ***sequences of values***.\n",
    "- Like strings, you can **index lists** and use **slice notation**.\n",
    "- Unlike strings, lists are **mutable** which means *they can be changed*.\n",
    "- In Python, type **list** is a ***sequence type***.\n"
   ]
  },
  {
   "cell_type": "markdown",
   "metadata": {},
   "source": [
    "# Purpose of Lists\n",
    "\n",
    "- Store collections of things. Stocks, grades, emails, words, etc...\n",
    "- Easier to manipulate than a string or file (no need to tokenize/parse).\n",
    "- Stored in the computer's memory, which is faster than files."
   ]
  },
  {
   "cell_type": "markdown",
   "metadata": {
    "slideshow": {
     "slide_type": "slide"
    }
   },
   "source": [
    "# Watch Me Code 1\n",
    "\n",
    "###  List Enumeration and Aggregates\n",
    "- Definite Loops\n",
    "- Indexes / Slices\n",
    "- List mutation\n",
    "- Aggregations\n"
   ]
  },
  {
   "cell_type": "markdown",
   "metadata": {
    "slideshow": {
     "slide_type": "slide"
    }
   },
   "source": [
    "# Check Yourself: List Indexes\n",
    "\n",
    "- What is the value of the expression on line 2?\n",
    "    \n"
   ]
  },
  {
   "cell_type": "code",
   "execution_count": null,
   "metadata": {
    "slideshow": {
     "slide_type": "fragment"
    }
   },
   "outputs": [],
   "source": [
    "grades = ['A', 'B+','A','C+','B-']\n",
    "grades[:2]"
   ]
  },
  {
   "cell_type": "markdown",
   "metadata": {
    "slideshow": {
     "slide_type": "fragment"
    }
   },
   "source": [
    "A. `['A','B+','A']`  \n",
    "B. `['A','B+']`  \n",
    "C. `['B+','A']`  \n",
    "D. `['A']`  \n",
    " \n",
    "### Vote Now: [https://poll.ist256.com](https://poll.ist256.com)"
   ]
  },
  {
   "cell_type": "markdown",
   "metadata": {
    "slideshow": {
     "slide_type": "slide"
    }
   },
   "source": [
    "# List Operations\n",
    "\n",
    "Use the `+` operator to append combine two lists.\n",
    "\n",
    "Note this does appends them - it does not remove duplicates or sort the list. "
   ]
  },
  {
   "cell_type": "code",
   "execution_count": null,
   "metadata": {
    "slideshow": {
     "slide_type": "fragment"
    }
   },
   "outputs": [],
   "source": [
    "#List operators\n",
    "x = [1,2,3]\n",
    "y = [4,5,3]\n",
    "z = x+y\n",
    "z"
   ]
  },
  {
   "cell_type": "markdown",
   "metadata": {
    "slideshow": {
     "slide_type": "slide"
    }
   },
   "source": [
    "# Built-In List Functions\n",
    "\n",
    "- Like strings, Python lists have an assortment of built in functions for ***mutable sequence types***:\n",
    "\n",
    "- For your reference:\n",
    "https://docs.python.org/3/library/stdtypes.html?highlight=list#mutable-sequence-types\n",
    "\n",
    "- Use your friends `dir()` and `help()`, too!\n"
   ]
  },
  {
   "cell_type": "markdown",
   "metadata": {
    "slideshow": {
     "slide_type": "slide"
    }
   },
   "source": [
    "# Watch Me Code 2\n",
    "\n",
    "### List Basics\n",
    "- Empty Lists\n",
    "- List Item Management\n",
    "- Methods: append, remove, index\n"
   ]
  },
  {
   "cell_type": "markdown",
   "metadata": {
    "slideshow": {
     "slide_type": "slide"
    }
   },
   "source": [
    "# Check Yourself 1: List Functions\n",
    "\n",
    "## Match the Definition…! To its term.\n",
    "Which list function **Adds anywhere in the list** ?\n",
    "\n",
    "\n",
    "A. `insert`  \n",
    "B. `remove`  \n",
    "C. `append`  \n",
    "D. `delete`\n",
    "\n",
    "### Vote Now: [https://poll.ist256.com](https://poll.ist256.com)"
   ]
  },
  {
   "cell_type": "markdown",
   "metadata": {
    "slideshow": {
     "slide_type": "slide"
    }
   },
   "source": [
    "# Check Yourself 2: List Functions\n",
    "\n",
    "## Match the Definition…! To its term.\n",
    "\n",
    "Which list function **Deletes an item from the list** ?\n",
    "\n",
    "A. `insert`  \n",
    "B. `remove`  \n",
    "C. `append`  \n",
    "D. `delete`\n",
    "\n",
    "### Vote Now: [https://poll.ist256.com](https://poll.ist256.com)"
   ]
  },
  {
   "cell_type": "markdown",
   "metadata": {
    "slideshow": {
     "slide_type": "slide"
    }
   },
   "source": [
    "# End-To-End Example:\n",
    "\n",
    "https://github.com/berzerk0/Probable-Wordlists\n",
    "\n",
    "### Bad Password Checker\n",
    "- Read in list of bad passwords from file\n",
    "- Main program loop checks password  as \"good\" or \"bad\" password by checking if it exists in the file this repeats until user enters no password.\n",
    "- Bad passwords are not on the list of passwords\n",
    "- Got passwords from: https://raw.githubusercontent.com/berzerk0/Probable-Wordlists/master/Real-Passwords/Top12Thousand-probable-v2.txt\n",
    "- Finally record history of attempted passwords to another list."
   ]
  },
  {
   "cell_type": "markdown",
   "metadata": {
    "slideshow": {
     "slide_type": "slide"
    }
   },
   "source": [
    "# Conclusion Activity: One Question Challenge\n",
    "\n",
    "That is the value of `items` printed on line 6?\n"
   ]
  },
  {
   "cell_type": "code",
   "execution_count": null,
   "metadata": {
    "slideshow": {
     "slide_type": "fragment"
    }
   },
   "outputs": [],
   "source": [
    "items = ['a','b','c','d']\n",
    "items.append('w')\n",
    "items.remove('c')\n",
    "items.insert(0,'x')\n",
    "items.pop(1)\n",
    "print(items)"
   ]
  },
  {
   "cell_type": "markdown",
   "metadata": {
    "slideshow": {
     "slide_type": "fragment"
    }
   },
   "source": [
    "A. `['a','b','c','d', 'w']`       \n",
    "B. `['a','b','d', 'w']`  \n",
    "C. `['x', 'b', 'd', 'w']`   \n",
    "D. `['i','dont','know']`   \n",
    "\n",
    "### Vote Now: [https://poll.ist256.com](https://poll.ist256.com)"
   ]
  }
 ],
 "metadata": {
  "celltoolbar": "Slideshow",
  "kernelspec": {
   "display_name": "Python 3 (ipykernel)",
   "language": "python",
   "name": "python3"
  },
  "language_info": {
   "codemirror_mode": {
    "name": "ipython",
    "version": 3
   },
   "file_extension": ".py",
   "mimetype": "text/x-python",
   "name": "python",
   "nbconvert_exporter": "python",
   "pygments_lexer": "ipython3",
   "version": "3.11.7"
  },
  "toc": {
   "base_numbering": 1,
   "nav_menu": {},
   "number_sections": false,
   "sideBar": false,
   "skip_h1_title": false,
   "title_cell": "Table of Contents",
   "title_sidebar": "Contents",
   "toc_cell": false,
   "toc_position": {},
   "toc_section_display": false,
   "toc_window_display": false
  },
  "varInspector": {
   "cols": {
    "lenName": 16,
    "lenType": 16,
    "lenVar": 40
   },
   "kernels_config": {
    "python": {
     "delete_cmd_postfix": "",
     "delete_cmd_prefix": "del ",
     "library": "var_list.py",
     "varRefreshCmd": "print(var_dic_list())"
    },
    "r": {
     "delete_cmd_postfix": ") ",
     "delete_cmd_prefix": "rm(",
     "library": "var_list.r",
     "varRefreshCmd": "cat(var_dic_list()) "
    }
   },
   "types_to_exclude": [
    "module",
    "function",
    "builtin_function_or_method",
    "instance",
    "_Feature"
   ],
   "window_display": false
  }
 },
 "nbformat": 4,
 "nbformat_minor": 4
}
