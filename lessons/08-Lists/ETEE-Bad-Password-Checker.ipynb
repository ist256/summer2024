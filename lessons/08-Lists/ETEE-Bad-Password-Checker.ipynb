{
 "cells": [
  {
   "cell_type": "markdown",
   "metadata": {},
   "source": [
    "# End-To-End Example: Bad Password Checker\n",
    "\n",
    "- Read in list of bad passwords from file `bad-passwords.txt`\n",
    "- Main program loop which:\n",
    "  - inputs a password \n",
    "  - checks whether the password  is \"good\" or \"bad\" by checking against the list\n",
    "  - repeats this until you enter no password. \n",
    "\n"
   ]
  },
  {
   "cell_type": "code",
   "execution_count": 1,
   "metadata": {},
   "outputs": [
    {
     "name": "stdout",
     "output_type": "stream",
     "text": [
      "  % Total    % Received % Xferd  Average Speed   Time    Time     Time  Current\n",
      "                                 Dload  Upload   Total   Spent    Left  Speed\n",
      "100   97k  100   97k    0     0   608k      0 --:--:-- --:--:-- --:--:--  611k\n"
     ]
    }
   ],
   "source": [
    "!curl https://raw.githubusercontent.com/mafudge/datasets/master/ist256/08-Lists/bad-passwords.txt -o bad-passwords.txt"
   ]
  },
  {
   "cell_type": "code",
   "execution_count": 3,
   "metadata": {},
   "outputs": [],
   "source": [
    "pwlist = []\n",
    "with open('bad-passwords.txt', \"r\") as f:\n",
    "    for line in f.readlines():\n",
    "        pwlist.append(line.strip())\n",
    "\n",
    "yourpw = input(\"Enter your password: \")\n",
    "if yourpw in pwlist:\n",
    "    print(\"Probably not a good password to use\")\n",
    "else:\n",
    "    print(\"Not on the password list\")"
   ]
  },
  {
   "cell_type": "code",
   "execution_count": 16,
   "metadata": {},
   "outputs": [
    {
     "data": {
      "application/vnd.jupyter.widget-view+json": {
       "model_id": "e8a67a2f70e74ac5804259ef3bcc7860",
       "version_major": 2,
       "version_minor": 0
      },
      "text/plain": [
       "interactive(children=(Password(description='Password:', placeholder='Enter password'), Button(description='Run…"
      ]
     },
     "metadata": {},
     "output_type": "display_data"
    }
   ],
   "source": [
    "from ipywidgets import interact_manual, Password\n",
    "from IPython.display import display, HTML\n",
    "\n",
    "pwlist = []\n",
    "with open('bad-passwords.txt',\"r\") as f:\n",
    "    for line in f.readlines():\n",
    "        pwlist.append( line.strip() )\n",
    "        \n",
    "passwordWidget = Password(\n",
    "    value='password',\n",
    "    placeholder='Enter password',\n",
    "    description='Password:',\n",
    "    disabled=False\n",
    ")\n",
    "\n",
    "@interact_manual(yourpw=passwordWidget)\n",
    "def onclick(yourpw):\n",
    "    if yourpw in pwlist:\n",
    "        print(\"Probably not a good password to use\")\n",
    "    else:\n",
    "        print(\"Not on the password list\")"
   ]
  },
  {
   "cell_type": "code",
   "execution_count": 8,
   "metadata": {},
   "outputs": [
    {
     "data": {
      "text/plain": [
       "'00001111'"
      ]
     },
     "execution_count": 8,
     "metadata": {},
     "output_type": "execute_result"
    }
   ],
   "source": [
    "pwlist[-1]"
   ]
  },
  {
   "cell_type": "code",
   "execution_count": 15,
   "metadata": {},
   "outputs": [
    {
     "data": {
      "application/vnd.jupyter.widget-view+json": {
       "model_id": "d045b6012ae84c89843856da50d99853",
       "version_major": 2,
       "version_minor": 0
      },
      "text/plain": [
       "Password(description='Password:', placeholder='Enter password')"
      ]
     },
     "metadata": {},
     "output_type": "display_data"
    }
   ],
   "source": []
  },
  {
   "cell_type": "code",
   "execution_count": null,
   "metadata": {},
   "outputs": [],
   "source": []
  }
 ],
 "metadata": {
  "anaconda-cloud": {},
  "kernelspec": {
   "display_name": "Python 3 (ipykernel)",
   "language": "python",
   "name": "python3"
  },
  "language_info": {
   "codemirror_mode": {
    "name": "ipython",
    "version": 3
   },
   "file_extension": ".py",
   "mimetype": "text/x-python",
   "name": "python",
   "nbconvert_exporter": "python",
   "pygments_lexer": "ipython3",
   "version": "3.11.7"
  },
  "varInspector": {
   "cols": {
    "lenName": 16,
    "lenType": 16,
    "lenVar": 40
   },
   "kernels_config": {
    "python": {
     "delete_cmd_postfix": "",
     "delete_cmd_prefix": "del ",
     "library": "var_list.py",
     "varRefreshCmd": "print(var_dic_list())"
    },
    "r": {
     "delete_cmd_postfix": ") ",
     "delete_cmd_prefix": "rm(",
     "library": "var_list.r",
     "varRefreshCmd": "cat(var_dic_list()) "
    }
   },
   "types_to_exclude": [
    "module",
    "function",
    "builtin_function_or_method",
    "instance",
    "_Feature"
   ],
   "window_display": false
  }
 },
 "nbformat": 4,
 "nbformat_minor": 4
}
