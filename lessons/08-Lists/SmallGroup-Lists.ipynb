{
 "cells": [
  {
   "cell_type": "markdown",
   "metadata": {},
   "source": [
    "# Changing Your Password\n",
    "\n",
    "Everyone loves to change their password, right? RIGHT? WRONG!\n",
    "\n",
    "For example, when you go to change your password you are met with a littany of rules like:\n",
    "\n",
    " - New Password must be at least 10 characters long.\n",
    " - New Password must contain at least one upper case letter, one lower case letter, one digit, and one symbol.\n",
    " - New Password cannot be a password you've used before. `used-passwords.txt`\n",
    " - New Password cannot contain common passwords in any form, like `\"chicken\", \"CHICKEN\", or \"ChIcKeN\"`. `common-passwords.txt`\n",
    " \n",
    "In this Small Group, we will implement a password changing program that adheres to these rules.\n",
    "\n",
    "\n",
    "## Bottom-Up Approach\n",
    "\n",
    "We will use a **bottom-up approach**.  Specifically we will build the \"components\" we need to accomplish this problem, test each component, and then assemble them into the complete program. The bottom up approach is like building something out of Lego. You start with parts and assemble them into the larger, desirable thing.\n"
   ]
  },
  {
   "cell_type": "markdown",
   "metadata": {},
   "source": [
    "## Component 1: New Password must be at least 10 characters long.\n",
    "\n",
    "Let's write this rule as a function. Here is the docstring:\n",
    "\n",
    "`meets_pw_length_requirement(pw: str, min_len: int = 10) -> bool`\n",
    "\n",
    "PROMPT 1:\n",
    "\n",
    "    - Function input(s)?  pw which is the new password, optionally a new min length\n",
    "    - Function output(s)? bool True or False\n",
    "    - How many tests?\n",
    "\n"
   ]
  },
  {
   "cell_type": "code",
   "execution_count": 1,
   "metadata": {},
   "outputs": [
    {
     "name": "stdout",
     "output_type": "stream",
     "text": [
      "For 1234567890, expect True, actual True\n",
      "For 123, expect False, actual False\n"
     ]
    }
   ],
   "source": [
    "def meets_pw_length_requirement(pw: str, min_len: int = 10) -> bool:\n",
    "    if len(pw) >= 10:\n",
    "        pw_len = True\n",
    "    else:\n",
    "        pw_len = False    \n",
    "    return pw_len\n",
    "\n",
    "# Test # 1\n",
    "pw = \"1234567890\"\n",
    "expect = True\n",
    "actual = meets_pw_length_requirement(pw)\n",
    "print(f\"For {pw}, expect {expect}, actual {actual}\")\n",
    "assert expect == actual\n",
    "\n",
    "# Test # 2\n",
    "# PROMPT 3 Write False case\n",
    "pw = \"123\"\n",
    "expect = False\n",
    "actual = meets_pw_length_requirement(pw)\n",
    "print(f\"For {pw}, expect {expect}, actual {actual}\")\n",
    "assert expect == actual"
   ]
  },
  {
   "cell_type": "markdown",
   "metadata": {},
   "source": [
    "## Component 2: New Password must contain 1 uppercase, 1 lowercase, 1 digit, 1 symbol\n",
    "\n",
    "Let's write this rule as a function. Here is the docstring:\n",
    "\n",
    "`meets_pw_text_requirement(pw: str, min_upper: int = 1, min_lower: int = 1, min_num: int = 1, min_symbol: int = 1) -> bool`\n",
    "\n",
    "\n",
    "PROMPT 4:\n",
    "\n",
    "    - Function input(s)? new password pw\n",
    "    - Function output(s)? bool TRue or False\n",
    "    - How many tests?"
   ]
  },
  {
   "cell_type": "code",
   "execution_count": 2,
   "metadata": {
    "tags": []
   },
   "outputs": [
    {
     "name": "stdout",
     "output_type": "stream",
     "text": [
      "For CheEse5!e??, expect True, actual True\n",
      "For CHEESE%!E??, expect False, actual False\n",
      "For eeeeeffff123!444, expect False, actual False\n",
      "For Cheese@@@!!!!!!!!, expect False, actual False\n",
      "For CHEse45678, expect False, actual False\n"
     ]
    }
   ],
   "source": [
    "def meets_pw_text_requirement(pw: str, min_upper: int = 1, min_lower: int = 1, min_num: int = 1, min_symbol: int = 1) -> bool:\n",
    "    import string\n",
    "    upper_count = 0\n",
    "    lower_count = 0\n",
    "    digit_count = 0\n",
    "    symbol_count = 0\n",
    "    for ch in pw:\n",
    "        if ch in string.ascii_lowercase:\n",
    "            lower_count += 1\n",
    "        elif ch in string.ascii_uppercase:\n",
    "            upper_count += 1\n",
    "        elif ch in string.digits:\n",
    "            digit_count += 1\n",
    "        elif ch in string.punctuation:\n",
    "            symbol_count +=1\n",
    "    return upper_count >= min_upper and lower_count >= min_lower \\\n",
    "        and digit_count >= min_num and symbol_count >= min_symbol\n",
    "\n",
    "\n",
    "# Test passes\n",
    "pw = \"CheEse5!e??\"\n",
    "expect = True\n",
    "actual = meets_pw_text_requirement(pw)\n",
    "print(f\"For {pw}, expect {expect}, actual {actual}\")\n",
    "assert expect == actual\n",
    "\n",
    "# Test for missing one lower case\n",
    "# PROMPT 5\n",
    "pw = \"CHEESE%!E??\"\n",
    "expect = False\n",
    "actual = meets_pw_text_requirement(pw)\n",
    "print(f\"For {pw}, expect {expect}, actual {actual}\")\n",
    "assert expect == actual\n",
    "\n",
    "# Test for missing one uppper case\n",
    "# PROMPT 6\n",
    "pw = \"eeeeeffff123!444\"\n",
    "expect = False\n",
    "actual = meets_pw_text_requirement(pw)\n",
    "print(f\"For {pw}, expect {expect}, actual {actual}\")\n",
    "assert expect == actual\n",
    "\n",
    "# Test for missing one digit\n",
    "# PROMPT 7\n",
    "pw = \"Cheese@@@!!!!!!!!\"\n",
    "expect = False\n",
    "actual = meets_pw_text_requirement(pw)\n",
    "print(f\"For {pw}, expect {expect}, actual {actual}\")\n",
    "assert expect == actual\n",
    "\n",
    "\n",
    "# Test for missing a symbol\n",
    "# PROMPT 8\n",
    "pw = \"CHEse45678\"\n",
    "expect = False\n",
    "actual = meets_pw_text_requirement(pw)\n",
    "print(f\"For {pw}, expect {expect}, actual {actual}\")\n",
    "assert expect == actual"
   ]
  },
  {
   "cell_type": "markdown",
   "metadata": {
    "tags": []
   },
   "source": [
    "## Component 3: New Password cannot be a password you've used before.\n",
    "\n",
    "Let's write this rule as a function. Here is the docstring:\n",
    "\n",
    "`meets_pw_history_requirement(pw: str, used_passwords: list[str]) -> bool`\n",
    "\n",
    "PROMPT 9:\n",
    "\n",
    "    - Function input(s)? new password, list of used_passwords\n",
    "    - Function output(s)? Bool\n",
    "    - How many tests? 2 (one is on the list, one is not)\n"
   ]
  },
  {
   "cell_type": "code",
   "execution_count": 4,
   "metadata": {
    "tags": []
   },
   "outputs": [
    {
     "name": "stdout",
     "output_type": "stream",
     "text": [
      "For Eggs, expect True, actual True\n",
      "For Cheese, expect False, actual False\n"
     ]
    }
   ],
   "source": [
    "def meets_pw_history_requirement(pw: str, used_passwords: list[str]) -> bool:\n",
    "    if pw in used_passwords:\n",
    "        return False\n",
    "    else:\n",
    "        return True\n",
    "\n",
    "\n",
    "# Test # 1: Meets history requirement\n",
    "# PROMPT 11\n",
    "used_passwords = [\"Cheese\", \"Burger\"]\n",
    "pw = \"Eggs\"\n",
    "expect = True\n",
    "actual = meets_pw_history_requirement(pw, used_passwords)\n",
    "print(f\"For {pw}, expect {expect}, actual {actual}\")\n",
    "assert expect == actual\n",
    "\n",
    "# Test # 2 Does not meet history requirement\n",
    "# PROMPT 12 \n",
    "used_passwords = [\"Cheese\", \"Burger\"]\n",
    "pw = \"Cheese\"\n",
    "expect = False\n",
    "actual = meets_pw_history_requirement(pw, used_passwords)\n",
    "print(f\"For {pw}, expect {expect}, actual {actual}\")\n",
    "assert expect == actual"
   ]
  },
  {
   "cell_type": "markdown",
   "metadata": {
    "tags": []
   },
   "source": [
    "## Component 4: New Password cannot contain common passwords in any form, like `\"chicken\", \"CHICKEN\", or \"ChIcKeN\"`.\n",
    "\n",
    "Let's write this rule as a function. Here is the docstring:\n",
    "\n",
    "`meets_pw_common_requirement(pw: str, common_passwords: list[str]) -> bool`\n",
    "\n",
    "PROMPT 13:\n",
    "\n",
    "    - Function input(s)?\n",
    "    - Function output(s)?\n",
    "    - How many tests?\n"
   ]
  },
  {
   "cell_type": "code",
   "execution_count": null,
   "metadata": {
    "tags": []
   },
   "outputs": [],
   "source": [
    "def meets_pw_common_requirement(pw: str, common_passwords: list[str]) -> bool:\n",
    "    # PROMPT 14 (use for loop here)\n",
    "\n",
    "# Test # 1: Meets history requirement\n",
    "# PROMPT 15\n",
    "common_passwords = [\"Cheese\", \"Burger\"]\n",
    "pw = \"\"\n",
    "expect = False\n",
    "actual = meets_pw_common_requirement(pw, common_passwords)\n",
    "print(f\"For {pw}, expect {expect}, actual {actual}\")\n",
    "assert expect == actual\n",
    "\n",
    "# # Test # 2 Does not meet history requirement\n",
    "# # PROMPT 16\n",
    "common_passwords = [\"Cheese\", \"Burger\"]\n",
    "pw = \"\"\n",
    "expect = True\n",
    "actual = meets_pw_common_requirement(pw, common_passwords)\n",
    "print(f\"For {pw}, expect {expect}, actual {actual}\")\n",
    "assert expect == actual"
   ]
  },
  {
   "cell_type": "markdown",
   "metadata": {},
   "source": [
    "## Your components are written, time to write an algorithm!!!!!\n",
    "\n",
    "Our program will ask the user to change their password and ONLY allow them to change it when it meets the 4 complexity requirements. \n",
    "\n",
    "INPUTS:\n",
    "\n",
    "    - User input: their new password\n",
    "    - File input: Read the `common-passwords.txt` into a list\n",
    "    - File input: Read password history previously `used-passwords.txt` into a list\n",
    "\n",
    "Components we can use:\n",
    "\n",
    "    - meets_pw_length_requirement\n",
    "    - meets_pw_text_requirement\n",
    "    - meets_pw_common_requirement\n",
    "    - meets_pw_history_requirement\n",
    "\n",
    "OUTPUTS: \n",
    "\n",
    "    - When the password satisfies ALL the requirements we inform the user their password was changed an append the new password to the `used-passwords.txt` file.\n",
    "    - For any requirement not met, we output back to the user EACH requirement they failed.\n",
    "    \n",
    "ALGORITHM:\n",
    "\n",
    "    1. open the `used-passwords.txt` file for reading, load the used passwords into a list\n",
    "    2. open the `common-passwords.rxt` for reading, load the common passwords into a list\n",
    "    3. input the new password\n",
    "    4. if does not meets_pw_length_requirement:\n",
    "    5.    output message password is not long enough\n",
    "    6. if does not meets_pw_text_requirement:\n",
    "    7.    output message password does not meed complexity requirements\n",
    "    8. if does not meets_pw_history_requirement\n",
    "    9.    output message the password has been used before\n",
    "    10.if does not meets_pw_common_requirement:\n",
    "    11.   output password too easy to guess\n",
    "    12.if all requirements pass:\n",
    "    13.   output password was changed\n",
    "    14.   append new password to the `used-passwords.txt` file.\n",
    "    "
   ]
  },
  {
   "cell_type": "code",
   "execution_count": null,
   "metadata": {
    "tags": []
   },
   "outputs": [],
   "source": [
    "# PROMPT 17 Write code!\n"
   ]
  },
  {
   "cell_type": "markdown",
   "metadata": {},
   "source": [
    "## Password input with getpass\n",
    "\n",
    "- The python standard library has an `input()` replacement for passwords called `getpass()` https://docs.python.org/3/library/getpass.html\n",
    "- This function masks the input on the screen, like you see with passwords from most systems."
   ]
  },
  {
   "cell_type": "code",
   "execution_count": 5,
   "metadata": {
    "tags": []
   },
   "outputs": [
    {
     "name": "stdin",
     "output_type": "stream",
     "text": [
      "Enter your Password: ········\n"
     ]
    },
    {
     "name": "stdout",
     "output_type": "stream",
     "text": [
      "Skip\n"
     ]
    }
   ],
   "source": [
    "from getpass import getpass\n",
    "pw = getpass(\"Enter your Password:\")\n",
    "print(pw)"
   ]
  },
  {
   "cell_type": "markdown",
   "metadata": {},
   "source": [
    "## Interact Password Widget\n",
    "\n",
    "- Password Widget! https://ipywidgets.readthedocs.io/en/latest/examples/Widget%20List.html#password\n",
    "- This widget masks the input on the screen, like you see with passwords from most systems.\n",
    "- Bring everything into this final cell so we can Kernel Restart and Clear Output and the cell will work when run.\n"
   ]
  },
  {
   "cell_type": "code",
   "execution_count": null,
   "metadata": {},
   "outputs": [],
   "source": [
    "#Imports\n",
    "\n",
    "from IPython.display import display, HTML, Image, clear_output\n",
    "from ipywidgets import interact_manual, widgets\n",
    "\n",
    "#User Defined Functions \n",
    "\n",
    "\n",
    "#Main Program\n",
    "\n",
    "pw_widget = widgets.Password()\n",
    "@interact_manual(password = pw_widget)\n",
    "def onclick(password):\n",
    "    print(password)\n"
   ]
  }
 ],
 "metadata": {
  "anaconda-cloud": {},
  "kernelspec": {
   "display_name": "Python 3 (ipykernel)",
   "language": "python",
   "name": "python3"
  },
  "language_info": {
   "codemirror_mode": {
    "name": "ipython",
    "version": 3
   },
   "file_extension": ".py",
   "mimetype": "text/x-python",
   "name": "python",
   "nbconvert_exporter": "python",
   "pygments_lexer": "ipython3",
   "version": "3.11.7"
  },
  "toc": {
   "base_numbering": 1,
   "nav_menu": {},
   "number_sections": false,
   "sideBar": false,
   "skip_h1_title": false,
   "title_cell": "Table of Contents",
   "title_sidebar": "Contents",
   "toc_cell": false,
   "toc_position": {},
   "toc_section_display": false,
   "toc_window_display": false
  },
  "varInspector": {
   "cols": {
    "lenName": 16,
    "lenType": 16,
    "lenVar": 40
   },
   "kernels_config": {
    "python": {
     "delete_cmd_postfix": "",
     "delete_cmd_prefix": "del ",
     "library": "var_list.py",
     "varRefreshCmd": "print(var_dic_list())"
    },
    "r": {
     "delete_cmd_postfix": ") ",
     "delete_cmd_prefix": "rm(",
     "library": "var_list.r",
     "varRefreshCmd": "cat(var_dic_list()) "
    }
   },
   "types_to_exclude": [
    "module",
    "function",
    "builtin_function_or_method",
    "instance",
    "_Feature"
   ],
   "window_display": false
  }
 },
 "nbformat": 4,
 "nbformat_minor": 4
}
