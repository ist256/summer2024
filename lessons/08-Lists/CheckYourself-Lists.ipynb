{
 "cells": [
  {
   "cell_type": "markdown",
   "metadata": {
    "slideshow": {
     "slide_type": "slide"
    }
   },
   "source": [
    "# IST256 Lesson 08\n",
    "## Lists\n",
    "\n",
    "- P4E Ch8\n",
    "\n"
   ]
  },
  {
   "cell_type": "markdown",
   "metadata": {
    "slideshow": {
     "slide_type": "slide"
    }
   },
   "source": [
    "## E2 Review\n",
    "\n",
    "Mean: 14\n",
    "High: 19\n",
    "Invalid Questions: +1 will be added to everyone's score due to an invalid question related to definitions. \n",
    " "
   ]
  },
  {
   "cell_type": "code",
   "execution_count": null,
   "metadata": {
    "tags": []
   },
   "outputs": [],
   "source": [
    "#from the code provided, which of the follow#ing repres#ents the function output? \n",
    "\n",
    "def ohno(q,r):\n",
    "    z= q*r\n",
    "    return z\n",
    "\n",
    "y = ohno (5,2)\n",
    "print (y)\n",
    "\n",
    "# Your options are q,r,z,y"
   ]
  },
  {
   "cell_type": "code",
   "execution_count": null,
   "metadata": {
    "tags": []
   },
   "outputs": [],
   "source": [
    "#from the code provided, which of the following represents the function output? \n",
    "\n",
    "def ohno(q,r):\n",
    "    z= q*r\n",
    "    return z\n",
    "\n",
    "y = ohno (5,2)\n",
    "print (y)\n",
    "\n",
    "# Your options are q,r,z,y"
   ]
  },
  {
   "cell_type": "code",
   "execution_count": 1,
   "metadata": {
    "tags": []
   },
   "outputs": [
    {
     "name": "stdout",
     "output_type": "stream",
     "text": [
      "x\n"
     ]
    }
   ],
   "source": [
    "for i in \"helping\":\n",
    "    print ('x')\n",
    "    if i != 'i':\n",
    "        break\n"
   ]
  },
  {
   "cell_type": "code",
   "execution_count": 2,
   "metadata": {
    "tags": []
   },
   "outputs": [
    {
     "name": "stdout",
     "output_type": "stream",
     "text": [
      "ynat\n"
     ]
    }
   ],
   "source": [
    "#try this one\n",
    "\n",
    "text = \"anyone can learn python\"\n",
    "q = \"\"\n",
    "for i in text.split():\n",
    "    q = q + i[2]\n",
    "print (q)   "
   ]
  },
  {
   "cell_type": "code",
   "execution_count": 3,
   "metadata": {
    "tags": []
   },
   "outputs": [
    {
     "ename": "IndexError",
     "evalue": "string index out of range",
     "output_type": "error",
     "traceback": [
      "\u001b[0;31m---------------------------------------------------------------------------\u001b[0m",
      "\u001b[0;31mIndexError\u001b[0m                                Traceback (most recent call last)",
      "Cell \u001b[0;32mIn[3], line 6\u001b[0m\n\u001b[1;32m      4\u001b[0m q \u001b[38;5;241m=\u001b[39m \u001b[38;5;124m\"\u001b[39m\u001b[38;5;124m\"\u001b[39m\n\u001b[1;32m      5\u001b[0m \u001b[38;5;28;01mfor\u001b[39;00m i \u001b[38;5;129;01min\u001b[39;00m text\u001b[38;5;241m.\u001b[39msplit():\n\u001b[0;32m----> 6\u001b[0m     q \u001b[38;5;241m=\u001b[39m q \u001b[38;5;241m+\u001b[39m \u001b[43mi\u001b[49m\u001b[43m[\u001b[49m\u001b[38;5;241;43m3\u001b[39;49m\u001b[43m]\u001b[49m\n\u001b[1;32m      7\u001b[0m \u001b[38;5;28mprint\u001b[39m (q)   \n",
      "\u001b[0;31mIndexError\u001b[0m: string index out of range"
     ]
    }
   ],
   "source": [
    "#try this one\n",
    "\n",
    "text = \"anyone can learn python\"\n",
    "q = \"\"\n",
    "for i in text.split():\n",
    "    q = q + i[3]\n",
    "print (q)   "
   ]
  },
  {
   "cell_type": "code",
   "execution_count": null,
   "metadata": {},
   "outputs": [],
   "source": [
    "#what is the test/exit condition\n",
    "\n",
    "a,b = 1,0\n",
    "while a <= 9:\n",
    "    a = a + 1\n",
    "    if a != 4:\n",
    "        b=a\n",
    "print(\"Good Bye\")\n",
    "\n",
    "# Choices\n",
    "# a<= 9\n",
    "# a = a + 1\n",
    "# a != 4\n",
    "# print (\"Good Bye\")"
   ]
  },
  {
   "cell_type": "markdown",
   "metadata": {
    "slideshow": {
     "slide_type": "slide"
    }
   },
   "source": [
    "# FEQT (Future Exam Questions Training) 1\n",
    "\n",
    "Which variable is the file handle?"
   ]
  },
  {
   "cell_type": "code",
   "execution_count": 5,
   "metadata": {
    "slideshow": {
     "slide_type": "fragment"
    }
   },
   "outputs": [
    {
     "name": "stdout",
     "output_type": "stream",
     "text": [
      "Yuengling Premium Beer,135.0\n",
      "Wyder's Apple Cider,150.0\n",
      "Blatz Beer,153.0\n",
      "Corona Light,99.0\n",
      "Carling Black Label,138.0\n",
      "Bud Dry,130.0\n",
      "Anchor Steam,153.0\n",
      "Blatz Beer,153.0\n",
      "Abita Amber,128.0\n",
      "Abita Golden,125.0\n",
      "Abita Amber,128.0\n",
      "Blatz Beer,153.0\n",
      "Anchor Steam,153.0\n",
      "Coors Light,102.0\n",
      "Blatz Beer,153.0\n",
      "Blue Moon Full Moon Winter Ale,180.0\n",
      "\n",
      "<_io.TextIOWrapper name='mylist.txt' mode='r' encoding='UTF-8'>\n"
     ]
    }
   ],
   "source": [
    "w = \"mylist.txt\"           \n",
    "x = \"r\"                  \n",
    "with open(w,x) as y:     \n",
    "    z = y.read()         \n",
    "\n",
    "print(z)\n",
    "print(y)"
   ]
  },
  {
   "cell_type": "markdown",
   "metadata": {
    "slideshow": {
     "slide_type": "fragment"
    }
   },
   "source": [
    " A. w  \n",
    " B. x  \n",
    " C. y   \n",
    " D. z  \n",
    " \n"
   ]
  },
  {
   "cell_type": "markdown",
   "metadata": {
    "slideshow": {
     "slide_type": "slide"
    }
   },
   "source": [
    "# FEQT (Future Exam Questions Training) 2\n",
    "\n",
    "What is written to this file?"
   ]
  },
  {
   "cell_type": "code",
   "execution_count": null,
   "metadata": {
    "slideshow": {
     "slide_type": "fragment"
    }
   },
   "outputs": [],
   "source": [
    "w = \"file.txt\"\n",
    "x = \"a\"\n",
    "with open(w,x) as y:\n",
    "    for i in range(3):\n",
    "        y.write(f\"{i}\")\n",
    "        "
   ]
  },
  {
   "cell_type": "markdown",
   "metadata": {
    "slideshow": {
     "slide_type": "fragment"
    }
   },
   "source": [
    "A. `0 1 2 3`   \n",
    "B. `1 2 3`    \n",
    "C. `0 1 2`    \n",
    "D. None of the above  \n",
    " "
   ]
  },
  {
   "cell_type": "markdown",
   "metadata": {
    "slideshow": {
     "slide_type": "slide"
    }
   },
   "source": [
    "### FEQT (Future Exam Questions Training) 3\n",
    "\n",
    "Short Answer: What does the following code do if file.txt doesn't exist prior to execution."
   ]
  },
  {
   "cell_type": "code",
   "execution_count": 7,
   "metadata": {
    "slideshow": {
     "slide_type": "fragment"
    }
   },
   "outputs": [],
   "source": [
    "w = \"file.txt\"\n",
    "x = \"w\"\n",
    "with open(w,x) as y:\n",
    "    for i in range(3):\n",
    "        y.write(f\"{i}\\n\")\n",
    "        "
   ]
  },
  {
   "cell_type": "markdown",
   "metadata": {
    "slideshow": {
     "slide_type": "slide"
    }
   },
   "source": [
    "# Agenda\n",
    "\n",
    "### Homework 07\n",
    "\n",
    "- Solution\n",
    "\n",
    "### Lesson 08\n",
    "\n",
    "- Lists as a mutable sequence of values.\n",
    "- Indexing list values; slice notation.\n",
    "- List functions and operations like add, remove, update, find\n",
    "- Common patterns for list management.\n"
   ]
  },
  {
   "cell_type": "markdown",
   "metadata": {
    "slideshow": {
     "slide_type": "slide"
    }
   },
   "source": [
    "# Connect Activity\n",
    "\n",
    "For `x = [0,1,2,3,4,5]` what is  `x[2:4]` ?  \n",
    "    \n",
    "A. `[2,3]`  \n",
    "B. `[1,2,3]`  \n",
    "C. `[1,2]`  \n",
    "D. `[2,3,4,5]`\n",
    "\n"
   ]
  },
  {
   "cell_type": "markdown",
   "metadata": {
    "slideshow": {
     "slide_type": "slide"
    }
   },
   "source": [
    "# Lists are Mutable Sequence Types\n",
    "\n",
    "- Python **lists** are variables which hold a collection of values. They are actually ***sequences of values***.\n",
    "- Like strings, you can **index lists** and use **slice notation**.\n",
    "- Unlike strings, lists are **mutable** which means *they can be changed*.\n",
    "- In Python, type **list** is a ***sequence type***.\n"
   ]
  },
  {
   "cell_type": "markdown",
   "metadata": {},
   "source": [
    "# Purpose of Lists\n",
    "\n",
    "- Store collections of things. Stocks, grades, emails, words, etc...\n",
    "- Easier to manipulate than a string or file (no need to tokenize/parse).\n",
    "- Stored in the computer's memory, which is faster than files."
   ]
  },
  {
   "cell_type": "markdown",
   "metadata": {
    "slideshow": {
     "slide_type": "slide"
    }
   },
   "source": [
    "# Watch Me Code 1\n",
    "\n",
    "###  List Enumeration and Aggregates\n",
    "- Definite Loops\n",
    "- Indexes / Slices\n",
    "- List mutation\n",
    "- Aggregations\n"
   ]
  },
  {
   "cell_type": "markdown",
   "metadata": {
    "slideshow": {
     "slide_type": "slide"
    }
   },
   "source": [
    "# Check Yourself: List Indexes\n",
    "\n",
    "- What is the value of the expression on line 2?\n",
    "    \n"
   ]
  },
  {
   "cell_type": "code",
   "execution_count": 10,
   "metadata": {
    "slideshow": {
     "slide_type": "fragment"
    }
   },
   "outputs": [
    {
     "data": {
      "text/plain": [
       "['A', 'B+']"
      ]
     },
     "execution_count": 10,
     "metadata": {},
     "output_type": "execute_result"
    }
   ],
   "source": [
    "grades = ['A', 'B+','A','C+','B-']\n",
    "grades[:2]"
   ]
  },
  {
   "cell_type": "markdown",
   "metadata": {
    "slideshow": {
     "slide_type": "fragment"
    }
   },
   "source": [
    "A. `['A','B+','A']`  \n",
    "B. `['A','B+']`  \n",
    "C. `['B+','A']`  \n",
    "D. `['A']`  \n",
    " \n"
   ]
  },
  {
   "cell_type": "markdown",
   "metadata": {
    "slideshow": {
     "slide_type": "slide"
    }
   },
   "source": [
    "# List Operations\n",
    "\n",
    "Use the `+` operator to append combine two lists.\n",
    "\n",
    "Note this just appends them - it does not remove duplicates or sort the list. "
   ]
  },
  {
   "cell_type": "code",
   "execution_count": 11,
   "metadata": {
    "slideshow": {
     "slide_type": "fragment"
    }
   },
   "outputs": [
    {
     "data": {
      "text/plain": [
       "[1, 2, 3, 4, 5, 3]"
      ]
     },
     "execution_count": 11,
     "metadata": {},
     "output_type": "execute_result"
    }
   ],
   "source": [
    "#List operators\n",
    "x = [1,2,3]\n",
    "y = [4,5,3]\n",
    "z = x+y\n",
    "z"
   ]
  },
  {
   "cell_type": "markdown",
   "metadata": {
    "slideshow": {
     "slide_type": "slide"
    }
   },
   "source": [
    "# Built-In List Functions\n",
    "\n",
    "- Like strings, Python lists have an assortment of built in functions for ***mutable sequence types***:\n",
    "\n",
    "- For your reference:\n",
    "https://docs.python.org/3/library/stdtypes.html?highlight=list#mutable-sequence-types\n",
    "\n",
    "- Or check this out - easy to understand and you can test them out yourself.\n",
    "https://www.w3schools.com/python/python_lists_methods.asp\n",
    "\n",
    "- Use your friends `dir()` and `help()`, too!\n"
   ]
  },
  {
   "cell_type": "markdown",
   "metadata": {
    "slideshow": {
     "slide_type": "slide"
    }
   },
   "source": [
    "# Watch Me Code 2\n",
    "\n",
    "### List Basics\n",
    "- Empty Lists\n",
    "- List Item Management\n",
    "- Methods: append, remove, index\n"
   ]
  },
  {
   "cell_type": "markdown",
   "metadata": {
    "slideshow": {
     "slide_type": "slide"
    }
   },
   "source": [
    "# Check Yourself 1: List Functions\n",
    "\n",
    "## Match the Definition…! To its term.\n",
    "Which list function **Adds anywhere in the list** ?\n",
    "\n",
    "\n",
    "A. `insert`  \n",
    "B. `remove`  \n",
    "C. `append`  \n",
    "D. `delete`\n",
    "\n"
   ]
  },
  {
   "cell_type": "markdown",
   "metadata": {
    "slideshow": {
     "slide_type": "slide"
    }
   },
   "source": [
    "# Check Yourself 2: List Functions\n",
    "\n",
    "## Match the Definition…! To its term.\n",
    "\n",
    "Which list function **Deletes an item from the list** ?\n",
    "\n",
    "A. `insert`  \n",
    "B. `remove`  \n",
    "C. `append`  \n",
    "D. `delete`\n"
   ]
  },
  {
   "cell_type": "markdown",
   "metadata": {
    "slideshow": {
     "slide_type": "slide"
    }
   },
   "source": [
    "# End-To-End Example:\n",
    "\n",
    "https://github.com/berzerk0/Probable-Wordlists\n",
    "\n",
    "### Bad Password Checker\n",
    "- Read in list of bad passwords from file\n",
    "- Main program loop checks password  as \"good\" or \"bad\" password by checking if it exists in the file this repeats until user enters no password.\n",
    "- Bad passwords are not on the list of passwords\n",
    "- Got passwords from: https://raw.githubusercontent.com/berzerk0/Probable-Wordlists/master/Real-Passwords/Top12Thousand-probable-v2.txt\n",
    "- Finally record history of attempted passwords to another list."
   ]
  },
  {
   "cell_type": "markdown",
   "metadata": {
    "slideshow": {
     "slide_type": "slide"
    }
   },
   "source": [
    "# Conclusion Activity: One Question Challenge\n",
    "\n",
    "What is the value of `items` printed on line 6?\n"
   ]
  },
  {
   "cell_type": "code",
   "execution_count": null,
   "metadata": {
    "slideshow": {
     "slide_type": "fragment"
    }
   },
   "outputs": [],
   "source": [
    "items = ['a','b','c','d']\n",
    "items.append('w')\n",
    "items.remove('c')\n",
    "items.insert(0,'x')\n",
    "items.pop(1)\n",
    "print(items)"
   ]
  },
  {
   "cell_type": "markdown",
   "metadata": {
    "slideshow": {
     "slide_type": "fragment"
    }
   },
   "source": [
    "A. `['a','b','c','d', 'w']`       \n",
    "B. `['a','b','d', 'w']`  \n",
    "C. `['x', 'b', 'd', 'w']`   \n",
    "D. `['i','dont','know']`   \n",
    "\n"
   ]
  },
  {
   "cell_type": "code",
   "execution_count": 12,
   "metadata": {
    "tags": []
   },
   "outputs": [
    {
     "name": "stdout",
     "output_type": "stream",
     "text": [
      "['cheese', 'pizza', 'cheese', 'milk', 'cheese', 'milk']\n"
     ]
    }
   ],
   "source": [
    "# To Answer Gabe's Question from Last Week: Dedupe Technique 1\n",
    "\n",
    "items = [ \"cheese\", \"pizza\", \"cheese\", \"milk\", \"cheese\", \"milk\" ]\n",
    "print(items)"
   ]
  },
  {
   "cell_type": "code",
   "execution_count": 13,
   "metadata": {
    "tags": []
   },
   "outputs": [
    {
     "name": "stdout",
     "output_type": "stream",
     "text": [
      "['cheese', 'pizza', 'milk']\n"
     ]
    }
   ],
   "source": [
    "deduped_list = []\n",
    "for item in items:\n",
    "    if item not in deduped_list:\n",
    "        deduped_list.append(item)\n",
    "print(deduped_list)"
   ]
  },
  {
   "cell_type": "code",
   "execution_count": 14,
   "metadata": {
    "tags": []
   },
   "outputs": [
    {
     "name": "stdout",
     "output_type": "stream",
     "text": [
      "[2, 4]\n"
     ]
    }
   ],
   "source": [
    "# Creating a 3rd List Made up of Items in Both List a and List b\n",
    "\n",
    "lista = [2, 4, 6, 8]\n",
    "listb = [1, 2, 3, 4]\n",
    "both = []\n",
    " \n",
    "for a in lista:\n",
    "    if a in listb:\n",
    "        both.append(a)\n",
    "        \n",
    "print (both)        "
   ]
  },
  {
   "cell_type": "code",
   "execution_count": null,
   "metadata": {},
   "outputs": [],
   "source": []
  }
 ],
 "metadata": {
  "celltoolbar": "Slideshow",
  "kernelspec": {
   "display_name": "Python 3 (ipykernel)",
   "language": "python",
   "name": "python3"
  },
  "language_info": {
   "codemirror_mode": {
    "name": "ipython",
    "version": 3
   },
   "file_extension": ".py",
   "mimetype": "text/x-python",
   "name": "python",
   "nbconvert_exporter": "python",
   "pygments_lexer": "ipython3",
   "version": "3.11.7"
  },
  "toc": {
   "base_numbering": 1,
   "nav_menu": {},
   "number_sections": false,
   "sideBar": false,
   "skip_h1_title": false,
   "title_cell": "Table of Contents",
   "title_sidebar": "Contents",
   "toc_cell": false,
   "toc_position": {},
   "toc_section_display": false,
   "toc_window_display": false
  },
  "varInspector": {
   "cols": {
    "lenName": 16,
    "lenType": 16,
    "lenVar": 40
   },
   "kernels_config": {
    "python": {
     "delete_cmd_postfix": "",
     "delete_cmd_prefix": "del ",
     "library": "var_list.py",
     "varRefreshCmd": "print(var_dic_list())"
    },
    "r": {
     "delete_cmd_postfix": ") ",
     "delete_cmd_prefix": "rm(",
     "library": "var_list.r",
     "varRefreshCmd": "cat(var_dic_list()) "
    }
   },
   "types_to_exclude": [
    "module",
    "function",
    "builtin_function_or_method",
    "instance",
    "_Feature"
   ],
   "window_display": false
  }
 },
 "nbformat": 4,
 "nbformat_minor": 4
}
