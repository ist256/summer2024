{
 "cells": [
  {
   "cell_type": "markdown",
   "metadata": {},
   "source": [
    "# Homework: The Fudgemart Products Catalog\n",
    "\n",
    "## The Problem\n",
    "\n",
    "**Fudgemart**, a knockoff of a company with a similar name, has hired you to create a program to allow customers to browse their product catalog. \n",
    "\n",
    "Write an ipython interactive program that allows the user to select a product category from the drop-down and then displays all of the fudgemart products within that category. You can accomplish this any way you like and the only requirements are you must:\n",
    "\n",
    "- load each product from the `fudgemart-products.txt` file into a list.\n",
    "- build the  list of product catagories dynamically ( you cannot hard-code the categories in)\n",
    "- print the product name and price for all products selected\n",
    "- use ipython interact to create a drop-down for the user interface.\n",
    "\n",
    "\n",
    "### File Format\n",
    "\n",
    " - the file `fudgemart-products.txt`  has one row per product\n",
    " - each row is delimited by a `|` character. This is called a \"pipe\"\n",
    " - there are three items in each row. category, product name, and price.\n",
    " - Example Row: `Hardware|Ball Peen Hammer|15.99`\n",
    "   - Category = `Hardware`\n",
    "   - Product = `Ball Peen Hammer`\n",
    "   - Price = `15.99`\n",
    "\n",
    "\n",
    "### Important Concepts From this homework\n",
    "\n",
    "As you complete this program you will learn two important concepts in computing:\n",
    "\n",
    "**Data Deduplication:** Taking a list of values as input and then outputting another list where the is only one unique value for each instance.   \n",
    "\n",
    "For Example: `dedupe([1,1,2,3,5,5,6]) == [1,2,3,5,6]`\n",
    "\n",
    "\n",
    "**Parallel Lists** Parallel lists are used to create tables of data by creating multiple lists. For the data table the lists share a common index.\n",
    "\n",
    "For example:\n",
    "    \n",
    "    name age gpa\n",
    "    Abby 40  3.6\n",
    "    Bob  45  3.0\n",
    "    Che  40  3.4\n",
    "    \n",
    "If we read the `Name` into one list and the `Age` into another, and `GPA` into yet another, then the first row of data is:\n",
    "\n",
    "     name[0], age[0], gpa[0]\n",
    "     \n",
    "Likewise the last row is:\n",
    "\n",
    "    name[-1], age[-1], gpa[-1]\n",
    "    \n",
    "Furthermore, any given row can be represented by a single `index` variable:\n",
    "\n",
    "    # Print the table\n",
    "    for index in range(len(name)):\n",
    "        print(name[index], age[index], gpa[index])\n",
    "\n",
    "## Approach:\n",
    "\n",
    "This assignment is broken up into parts. We will use problem simplification to solve this problem.\n",
    "\n",
    "- **You Code 2.1** Write a `dedupe()` function.\n",
    "- **You Code 2.2** Write `load_fudgemart()` function to read in the data file and output the parallel lists. \n",
    "- **You Code 2.3** Write a text-only program to input a product category, then output the product info in that category.\n",
    "- **You Code 2.4** Write an interact to complete the program: dropdown list of product categories, and upon selection display the products in that category.\n",
    "\n",
    "Similar to the Small Group, we will take a **bottom up approach**. This means you should **hold off on completing part 1, until you are on step 2.3**\n",
    "\n",
    "\n",
    "### Code to fetch data files\n",
    "\n",
    "Run this code to download the data files required by this homework."
   ]
  },
  {
   "cell_type": "code",
   "execution_count": null,
   "metadata": {},
   "outputs": [],
   "source": [
    "! curl https://raw.githubusercontent.com/mafudge/datasets/master/ist256/08-Lists/test-fudgemart-products.txt -o test-fudgemart-products.txt\n",
    "! curl https://raw.githubusercontent.com/mafudge/datasets/master/ist256/08-Lists/fudgemart-products.txt -o fudgemart-products.txt"
   ]
  },
  {
   "cell_type": "markdown",
   "metadata": {
    "label": "problem_analysis_cell"
   },
   "source": [
    "## Part 1: Problem Analysis\n",
    "\n",
    "You will complete a problem analysis for the entire program. **Since we are using the bottom-up approach, do not attempt until step 2.3**\n",
    "\n",
    "\n",
    "### 1.1 Program Outputs\n",
    "\n",
    "Describe your program outputs in the cell below. \n"
   ]
  },
  {
   "cell_type": "markdown",
   "metadata": {
    "editable": true,
    "label": "analysis_output_cell",
    "slideshow": {
     "slide_type": ""
    },
    "tags": []
   },
   "source": []
  },
  {
   "cell_type": "markdown",
   "metadata": {},
   "source": [
    "### 1.2 Program Inputs\n",
    "\n",
    "List out the program inputs in the cell below.\n"
   ]
  },
  {
   "cell_type": "markdown",
   "metadata": {
    "editable": true,
    "label": "analysis_input_cell",
    "slideshow": {
     "slide_type": ""
    },
    "tags": []
   },
   "source": []
  },
  {
   "cell_type": "markdown",
   "metadata": {},
   "source": [
    "### 1.3 The Plan (Algorithm)\n",
    "\n",
    "Explain, as specifically as you can, without writing code, how the program works from input to output. Be detailed with your plan as you will need to turn it into code. \n"
   ]
  },
  {
   "cell_type": "markdown",
   "metadata": {
    "label": "analysis_plan_cell",
    "tags": []
   },
   "source": []
  },
  {
   "cell_type": "markdown",
   "metadata": {},
   "source": [
    "## Part 2: Code Solution\n",
    "\n",
    "You may write your code in several cells, but place the complete, final working copy of your code solution within this single cell below. Only the within this cell will be considered your solution. Any imports or user-defined functions should be copied into this cell. "
   ]
  },
  {
   "cell_type": "code",
   "execution_count": null,
   "metadata": {
    "label": "code_solution_cell"
   },
   "outputs": [],
   "source": []
  },
  {
   "cell_type": "code",
   "execution_count": null,
   "metadata": {},
   "outputs": [],
   "source": []
  },
  {
   "cell_type": "code",
   "execution_count": null,
   "metadata": {},
   "outputs": [],
   "source": []
  },
  {
   "cell_type": "markdown",
   "metadata": {},
   "source": [
    "### You Code 2.1: Write a `dedupe()` function.\n",
    "\n",
    "In this first part, you will write the `dedupe()` function. An algorithm will be provided for you. It is your responsibility is to write the function and ensure it passes the tests provided. Once again. DO NOT edit the tests! If the test code doesn't work then your function is wrong. Debug your function until all tests pass!!!\n",
    "\n",
    "Function doc string:\n",
    "`dedupe(items: list ) -> list`\n",
    "\n",
    "Input: list of items  \n",
    "Output: list of items without duplicates  \n",
    "\n",
    "\n",
    "Algorithm:\n",
    "\n",
    "    start with an empty list called deduplicated\n",
    "    for each item in the list of items\n",
    "        if the item is NOT in the deduplicated list\n",
    "            add the item to the deduplicated list\n",
    "            \n",
    "    after the for loop: sort the deduplicated data\n",
    "    return back the sorted deduplicated data\n",
    "\n",
    "Hints:\n",
    "\n",
    "- Read the python docs on lists and list methods https://docs.python.org/3/library/stdtypes.html#mutable-sequence-types \n",
    "- Here's a nice list tutorial: https://www.w3schools.com/python/python_lists.asp"
   ]
  },
  {
   "cell_type": "code",
   "execution_count": null,
   "metadata": {
    "code_cell_type": "write_code",
    "editable": true,
    "label": "2.1",
    "slideshow": {
     "slide_type": ""
    },
    "solution": [],
    "tags": [],
    "tests": [
     {
      "code": "assert dedupe([1,1])==[1]",
      "include-code": true,
      "kind": "assertion"
     },
     {
      "code": "assert dedupe([1,2,1,2,2])==[1,2]",
      "include-code": true,
      "kind": "assertion"
     }
    ]
   },
   "outputs": [],
   "source": [
    "# SOLUTION CELL 2.1\n",
    "\n"
   ]
  },
  {
   "cell_type": "code",
   "execution_count": null,
   "metadata": {
    "tags": []
   },
   "outputs": [],
   "source": [
    "# Tests for 2.1\n",
    "def test_dedupe(items: list, expected: list):\n",
    "    actual = dedupe(items)\n",
    "    print(f\"dedupe: For items {items}, EXPECT={expected}, ACTUAL={actual}\")\n",
    "    assert all(e == a for e, a in zip(expected, actual))\n",
    "\n",
    "\n",
    "test_dedupe([1, 1], [1])\n",
    "test_dedupe([\"A\", \"B\", \"B\", \"C\", \"C\"], [\"A\", \"B\", \"C\"])\n",
    "test_dedupe([1, 2, 1, 3, 2, 1, 2, 3, 3, 1, 2], [1, 2, 3])"
   ]
  },
  {
   "cell_type": "markdown",
   "metadata": {
    "tags": []
   },
   "source": [
    "### You Code 2.2: Write a `load_fudgemart()` function.\n",
    "\n",
    "In this first part, you will write the `load_fudgemart()` function. once again an algorithm will be provided for you. It is your responsibility is to write the function and ensure it passes the tests provided. DO NOT edit the tests! If the test code doesn't work then your function is wrong. Debug your function until all tests pass!!!\n",
    "\n",
    "Function doc string:\n",
    "`load_fudgemart(filename: str ) -> tuple[list,list,list]`\n",
    "\n",
    "Input: string name of file to load\n",
    "Output: list of product_category, list of product_name, list of prodcut_price\n",
    "\n",
    "\n",
    "Algorithm:\n",
    "\n",
    "    create empty lists for categories, products, and prices\n",
    "    open the file for reading\n",
    "        for each line in the file\n",
    "            strip the line then split the line on the pipe delimiter into 3 parts: cat, prod, price\n",
    "            append the cat to the category list\n",
    "            append the prod to the prod list\n",
    "            append the price to the price list\n",
    "            \n",
    "    after the for loop: return the three lists back to the caller categories, products and prices\n",
    "    "
   ]
  },
  {
   "cell_type": "code",
   "execution_count": null,
   "metadata": {
    "code_cell_type": "write_code",
    "editable": true,
    "label": "2.2",
    "slideshow": {
     "slide_type": ""
    },
    "solution": [],
    "tags": [],
    "tests": [
     {
      "code": "c,n,p = load_fudgemart('test-fudgemart-products.txt')\nassert c[0]=='hardware'\nassert n[1]=='saw'\nassert p[2]=='22.99'",
      "include-code": true,
      "kind": "assertion"
     }
    ]
   },
   "outputs": [],
   "source": [
    "# SOLUTION CELL 2.2\n"
   ]
  },
  {
   "cell_type": "code",
   "execution_count": null,
   "metadata": {
    "tags": []
   },
   "outputs": [],
   "source": [
    "# Tests for 2.1\n",
    "def test_load_fudgemart(filename: str, index: int, expected_cat: str, expected_prod: str, expected_price: str):\n",
    "    actual_categories, actual_products, actual_prices = load_fudgemart(filename)\n",
    "    print(f'''\n",
    "        load_fudgemart: For filename {filename}, index={index}\n",
    "            EXPECT=({expected_cat},{expected_prod},{expected_price})\n",
    "            ACTUAL=({actual_categories[index]},{actual_products[index]},{actual_prices[index]})\n",
    "    ''')\n",
    "    assert expected_cat == actual_categories[index] and \\\n",
    "        expected_prod == actual_products[index] and \\\n",
    "        expected_price == actual_prices[index]\n",
    "\n",
    "\n",
    "test_load_fudgemart(\"test-fudgemart-products.txt\",0,\"hardware\",\"hammer\",\"14.97\")\n",
    "test_load_fudgemart(\"test-fudgemart-products.txt\",1,\"hardware\",\"saw\",\"9.97\")\n",
    "test_load_fudgemart(\"test-fudgemart-products.txt\",2,\"clothing\",\"boots\",\"22.99\")\n"
   ]
  },
  {
   "cell_type": "markdown",
   "metadata": {},
   "source": [
    "### You Code 2.3 Write final program\n",
    "\n",
    "Now that we have the components `dedupe` and `load_fudgemart` its time to USE them to solve the original problem, assembing our components through a bottom-up appoach.\n",
    "\n",
    "The program should:\n",
    "\n",
    "    - Read in `fudgemart-products.txt` \n",
    "    - allow the user to input a category such as hardware or clothing.\n",
    "    - if and only if the category entered is a valid category\n",
    "    - display all products (category, name and price) matching the category.\n",
    "    - Note: you will need to use the parallel list concept as explained at the top of the homework, specifically with respect to looping over the parallel arrays.\n",
    "    \n",
    "\n",
    "Before you Write 2.3, go back to **Part 1: Problem Analysis** and complete your INPUT, OUTPUT, and STEPS sections!"
   ]
  },
  {
   "cell_type": "code",
   "execution_count": null,
   "metadata": {
    "code_cell_type": "write_code",
    "editable": true,
    "label": "2.3",
    "slideshow": {
     "slide_type": ""
    },
    "solution": [],
    "tags": [],
    "tests": [
     {
      "input-stream": "Hardware\n",
      "kind": "runcode",
      "search-output": [
       "Lazer Level",
       "Hardware",
       "290.0"
      ]
     },
     {
      "input-stream": "Electronics\n",
      "kind": "runcode",
      "search-output": [
       "Ergonomic Keyboard",
       "1900.0",
       "Electronics"
      ]
     }
    ]
   },
   "outputs": [],
   "source": [
    "# SOLUTION CELL 2.3\n",
    "# Copy your dedupe() function here\n",
    "\n",
    "# Copy your load_fudgemart() function here\n",
    "\n",
    "# On with the MAIN PROGRAM\n"
   ]
  },
  {
   "cell_type": "markdown",
   "metadata": {},
   "source": [
    "### You Code 2.4 Ipywidgets\n",
    "\n",
    "Let's re-write the code as an `@interact_manual` You will need one input widget your list of deduplicated categories.    \n"
   ]
  },
  {
   "cell_type": "code",
   "execution_count": null,
   "metadata": {
    "tags": []
   },
   "outputs": [],
   "source": [
    "# SOLUTION CELL 2.4\n",
    "from ipywidgets import interact_manual\n",
    "\n"
   ]
  },
  {
   "cell_type": "markdown",
   "metadata": {
    "label": "homework_questions_cell"
   },
   "source": [
    "## Part 3: Metacognition\n",
    "\n",
    "These questions are designed to prompt you to reflect on your learning. Reflection is part of the assignment grade so please take time to answer the questions thoughtfully.\n",
    "\n",
    "#### 3.1 List at least 3 things you learned this week and/or throughout the process of completing this assignment?"
   ]
  },
  {
   "cell_type": "markdown",
   "metadata": {
    "label": "learned_cell"
   },
   "source": []
  },
  {
   "cell_type": "markdown",
   "metadata": {},
   "source": [
    "#### 3.2 What were the challenges or roadblocks (if any) you encountered on the way to completing it?"
   ]
  },
  {
   "cell_type": "markdown",
   "metadata": {
    "label": "challenges_cell"
   },
   "source": []
  },
  {
   "cell_type": "markdown",
   "metadata": {},
   "source": [
    "#### 3.3 Were you prepared for this assignment? What can you do to be better prepared?"
   ]
  },
  {
   "cell_type": "markdown",
   "metadata": {
    "label": "prepared_cell"
   },
   "source": []
  },
  {
   "cell_type": "markdown",
   "metadata": {},
   "source": [
    "#### 3.4 Did someone (or something such as AI) help you? Did You help someone? Provide details. "
   ]
  },
  {
   "cell_type": "markdown",
   "metadata": {
    "label": "help_cell"
   },
   "source": []
  },
  {
   "cell_type": "markdown",
   "metadata": {},
   "source": [
    "#### 3.5  Now that you have completed the assignment rate your comfort level with this week’s material. This should be an honest assessment of your ability: \n",
    "\n",
    "**1** ==> I don't understand this at all yet and need extra help. If you choose this please try to articulate that which you do not understand to the best of your ability in the questions and comments section below.  \n",
    "**2** ==> I can do this with help or guidance from other people or resources. If you choose this level, please indicate HOW this person helped you in the questions and comments section below.   \n",
    "**3** ==> I can do this on my own without any help.   \n",
    "**4** ==> I can do this on my own and can explain/teach how to do it to others.\n",
    "\n",
    "`ENTER A NUMBER 1-4 IN THE CELL BELOW`"
   ]
  },
  {
   "cell_type": "markdown",
   "metadata": {
    "label": "comfort_cell"
   },
   "source": []
  },
  {
   "cell_type": "markdown",
   "metadata": {
    "label": ""
   },
   "source": [
    "## Part 4: Turning it in\n",
    "\n",
    "FIRST AND FOREMOST: **Save Your work!** Yes, it auto-saves, but you should get in the habit of saving before submitting. From the menu, choose File --> Save Notebook. Or you can use the shortcut keys `CTRL+S`\n",
    "\n",
    "### Homework Check\n",
    "\n",
    "Check your homework before submitting. Look for errors and incomplete parts which might cost you a better grade."
   ]
  },
  {
   "cell_type": "code",
   "execution_count": null,
   "metadata": {
    "tags": []
   },
   "outputs": [],
   "source": [
    "from casstools.notebook_tools import NotebookFile\n",
    "NotebookFile().check_homework()"
   ]
  },
  {
   "cell_type": "markdown",
   "metadata": {
    "label": ""
   },
   "source": [
    "### Homework Submission\n",
    "\n",
    "Run this code and follow the instructions to turn in your homework."
   ]
  },
  {
   "cell_type": "code",
   "execution_count": null,
   "metadata": {},
   "outputs": [],
   "source": [
    "from casstools.assignment import Assignment\n",
    "Assignment().submit()"
   ]
  },
  {
   "cell_type": "code",
   "execution_count": null,
   "metadata": {},
   "outputs": [],
   "source": []
  }
 ],
 "metadata": {
  "anaconda-cloud": {},
  "celltoolbar": "Edit Metadata",
  "kernelspec": {
   "display_name": "Python 3 (ipykernel)",
   "language": "python",
   "name": "python3"
  },
  "language_info": {
   "codemirror_mode": {
    "name": "ipython",
    "version": 3
   },
   "file_extension": ".py",
   "mimetype": "text/x-python",
   "name": "python",
   "nbconvert_exporter": "python",
   "pygments_lexer": "ipython3",
   "version": "3.11.7"
  },
  "toc": {
   "base_numbering": 1,
   "nav_menu": {},
   "number_sections": false,
   "sideBar": false,
   "skip_h1_title": false,
   "title_cell": "Table of Contents",
   "title_sidebar": "Contents",
   "toc_cell": false,
   "toc_position": {},
   "toc_section_display": false,
   "toc_window_display": false
  },
  "varInspector": {
   "cols": {
    "lenName": 16,
    "lenType": 16,
    "lenVar": 40
   },
   "kernels_config": {
    "python": {
     "delete_cmd_postfix": "",
     "delete_cmd_prefix": "del ",
     "library": "var_list.py",
     "varRefreshCmd": "print(var_dic_list())"
    },
    "r": {
     "delete_cmd_postfix": ") ",
     "delete_cmd_prefix": "rm(",
     "library": "var_list.r",
     "varRefreshCmd": "cat(var_dic_list()) "
    }
   },
   "types_to_exclude": [
    "module",
    "function",
    "builtin_function_or_method",
    "instance",
    "_Feature"
   ],
   "window_display": false
  }
 },
 "nbformat": 4,
 "nbformat_minor": 4
}
