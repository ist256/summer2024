{
 "cells": [
  {
   "cell_type": "markdown",
   "id": "ee531f42-a5d7-4ae9-a16e-5b022c2876c5",
   "metadata": {},
   "source": [
    "## Lesson 08: Lists\n",
    "\n",
    "In this lesson we learn:\n",
    "\n",
    "- Lists as a mutable sequence of values.\n",
    "- Indexing list values; slice notation.\n",
    "- List functions and operations like add, remove, update, find\n",
    "- Common patterns for list management.\n",
    "- Parsing file data into lists.\n",
    "\n",
    "### Overview\n",
    "\n",
    "### Required Before Large Group\n",
    "\n",
    "- READ: [Severance Ch 8: Lists](https://books.trinket.io/pfe/08-lists.html)\n",
    "- VIDEO: Python for Everybody: [Ch8 Part 1](https://youtu.be/ljExWqnWQvo) | [Part 2](https://youtu.be/bV1FQUBIApM) | [Part 3](https://youtu.be/GxADdpo6EP4), by Charles Severance\n",
    "\n",
    "### Additional Resources\n",
    "\n",
    "- VIDEO: [Python Lists, by Amigoscode](https://youtu.be/mJEpimi_tFo?si=B-98N2Fq0lMPVkk8&t=3077)\n",
    "- VIDEO: [End to End Example: Lists, by Michael Fudge](https://youtu.be/X8QJhDTuffs)\n",
    "- VIDEO: [Lab Walk Through, by Michael Fudge](https://youtu.be/0sYoK726RRc)\n",
    "- VIDEO: [Homework Advice, by Michael Fudge](https://youtu.be/eGnkG9Cpgvg)"
   ]
  },
  {
   "cell_type": "code",
   "execution_count": null,
   "id": "4d588859-728d-4dcb-a62d-4f3dd47e429d",
   "metadata": {},
   "outputs": [],
   "source": []
  }
 ],
 "metadata": {
  "kernelspec": {
   "display_name": "Python 3 (ipykernel)",
   "language": "python",
   "name": "python3"
  },
  "language_info": {
   "codemirror_mode": {
    "name": "ipython",
    "version": 3
   },
   "file_extension": ".py",
   "mimetype": "text/x-python",
   "name": "python",
   "nbconvert_exporter": "python",
   "pygments_lexer": "ipython3",
   "version": "3.11.7"
  }
 },
 "nbformat": 4,
 "nbformat_minor": 5
}
