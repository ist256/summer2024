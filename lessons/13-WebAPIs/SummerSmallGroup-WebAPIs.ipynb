{
 "cells": [
  {
   "cell_type": "markdown",
   "metadata": {},
   "source": [
    "# Now You Code In Class: Getting Directions from Bing!\n",
    "\n",
    "\n"
   ]
  },
  {
   "cell_type": "code",
   "execution_count": null,
   "metadata": {
    "tags": []
   },
   "outputs": [],
   "source": [
    "import requests \n",
    "\n"
   ]
  },
  {
   "cell_type": "markdown",
   "metadata": {},
   "source": [
    "## Step 1a: Learning The Bing Route API\n",
    "\n",
    "FIRST: Sign up and get an API Key: https://docs.microsoft.com/en-us/bingmaps/getting-started/bing-maps-dev-center-help/getting-a-bing-maps-key \n",
    "\n",
    "NEXT: Read the Bing Maps Route API is here: https://docs.microsoft.com/en-us/bingmaps/rest-services/routes/calculate-a-route \n",
    "\n",
    "\n",
    "WHAT IS REQUIRED TO EXECUTE THE API (INPUTS): \n",
    "\n",
    "    PROMPT 1\n",
    "\n",
    "WHAT DOES THE API GIVE US BACK (OUTPUTS):\n",
    "\n",
    "    PROMPT 2\n",
    "\n",
    "Algorithm (Steps in Program):\n",
    "\n",
    "    Algorithms to call API's are the same, so  the concerns are:\n",
    "    \n",
    "    - What do we need to call the API? \n",
    "    - What do I need from the response? \n",
    "    \n",
    "## Step 1b: Code the API: Proof of Concept"
   ]
  },
  {
   "cell_type": "code",
   "execution_count": null,
   "metadata": {},
   "outputs": [],
   "source": [
    "# PROMPT 3 Demonstrate you can call the Bing API by getting your key, url endpoint, and querystring\n",
    "start = 'Manley Field House, Syracuse, NY 13244'\n",
    "finish =  'Carrier Dome, Syracuse, NY 13204'\n",
    "bing_key = 'Bing-Key'   #can you get your key? if so, replace it here \n",
    "\n",
    "url = \"Place the endpoint here\"         #what is the endpoint needed for the API\n",
    "query_string = { \"key_name\" : variable}   # what are the parameters we want to build on our query string\n",
    "header = {\"key_name\": variable}        #if a header is needed for a key or other reasons build the dict here\n",
    "response = requests.get(url, params=query_string, headers=header)  # issue the request.get (or perhaps POST)\n",
    "response.raise_for_status()           #check to make sure it was successful (ie a 2XX response)\n",
    "data = response.json()                #deserialize and store in a structure I call data.\n",
    "\n",
    "#now walk through data to extract just the elements you need!"
   ]
  },
  {
   "cell_type": "code",
   "execution_count": null,
   "metadata": {
    "tags": []
   },
   "outputs": [],
   "source": [
    "import requests\n",
    "\n",
    "start = '119 Red Barn Circle, Liverpool,NY 13088'\n",
    "finish =  'JMA Wireless Dome, Syracuse, NY 13204'\n",
    "\n",
    "dln_bing_key = 'AgshIA4d3tEgDTknmpKyjKiV3WQUITK72ZnnzIL9NIBG6L897vTlBKhClbT0sGO-'\n",
    "\n",
    "driving_endpoint_url = \"http://dev.virtualearth.net/REST/v1/Routes\"\n",
    "\n",
    "query_string = { \n",
    "    'wp.0' : start, \n",
    "    'wp.1' : finish, \n",
    "    'key' : dln_bing_key \n",
    "}\n",
    "response =requests.get(driving_endpoint_url, params = query_string)\n",
    "response.raise_for_status()\n",
    "data = response.json()\n"
   ]
  },
  {
   "cell_type": "code",
   "execution_count": null,
   "metadata": {
    "tags": []
   },
   "outputs": [],
   "source": [
    "data['resourceSets'][0]['resources'][0]['routeLegs'][0]['itineraryItems'] \n",
    "\n",
    "\n",
    "\n",
    "\n",
    "\n"
   ]
  },
  {
   "cell_type": "code",
   "execution_count": null,
   "metadata": {
    "tags": []
   },
   "outputs": [],
   "source": [
    "data['resourceSets'][0]['resources'][0]['routeLegs'][0]['itineraryItems'] "
   ]
  },
  {
   "cell_type": "code",
   "execution_count": null,
   "metadata": {
    "tags": []
   },
   "outputs": [],
   "source": [
    " \n",
    "for x in data['resourceSets'][0]['resources'][0]['routeLegs'][0]['itineraryItems']:\n",
    "    print(x['instruction']['text'])"
   ]
  },
  {
   "cell_type": "code",
   "execution_count": null,
   "metadata": {
    "tags": []
   },
   "outputs": [],
   "source": [
    "# PROMPT 4 What do I need from the response?\n",
    "data"
   ]
  },
  {
   "cell_type": "markdown",
   "metadata": {},
   "source": [
    "## Step 1.c: Refactor into a function `getDirections()`\n",
    "\n",
    "Now the we understand the API, let's refactor the code into a useable function \n",
    "\n",
    "FUNCTION INPUTS:\n",
    "\n",
    "    PROMPT 5\n",
    "    \n",
    "FUNCTION OUTPUTS:\n",
    "\n",
    "    PROMPT 6\n",
    "    \n",
    "ALGORITHM:\n",
    "\n",
    "    PROMPT 7\n",
    "    \n",
    "TEST (How do we know it's right?)\n",
    "\n",
    "    PROMPT 8"
   ]
  },
  {
   "cell_type": "code",
   "execution_count": null,
   "metadata": {
    "tags": []
   },
   "outputs": [],
   "source": [
    "# PROMPT 9 - write function\n",
    " \n",
    "def getDirections(bing_key, start_address, finish_address):\n",
    "    directions_endpoint_url = 'http://dev.virtualearth.net/REST/V1/Routes/Driving'\n",
    "    query_string = { \n",
    "        'wp.0' : start_address, \n",
    "        'wp.1' : finish_address, \n",
    "        'key' : bing_key \n",
    "    }\n",
    "    response =requests.get(directions_endpoint_url, params = query_string)\n",
    "    response.raise_for_status()\n",
    "    data = response.json()\n",
    "    return data['resourceSets'][0]['resources'][0]['routeLegs'][0]['itineraryItems']\n"
   ]
  },
  {
   "cell_type": "markdown",
   "metadata": {},
   "source": [
    "## Step 1.d: Test the function"
   ]
  },
  {
   "cell_type": "code",
   "execution_count": null,
   "metadata": {},
   "outputs": [],
   "source": [
    "# PROMPT 10\n",
    "\n",
    "bing_key = 'bing-Key'\n",
    "start = 'Manley Field House, Syracuse, NY 13244'\n",
    "finish =  'Carrier Dome, Syracuse, NY 13204'\n"
   ]
  },
  {
   "cell_type": "markdown",
   "metadata": {},
   "source": [
    "## Step 2: Putting it all together\n",
    "\n",
    "\n",
    "Algorithm\n",
    "\n",
    " 1. Input your home address, then city where you want to eat.\n",
    " 2. Geocode the city\n",
    " 3. search for restaunds\n",
    " 4. Build a list of trending restaurants\n",
    " 5. Start Interact - upon selection of a restaurant\n",
    "     6. find restaurant ID\n",
    "     7. get restaurant detail\n",
    "     8. show restaurant details name, cuisine, hours, address, phone\n",
    "     9. find driving directions from home address to restaurant \n"
   ]
  },
  {
   "cell_type": "code",
   "execution_count": null,
   "metadata": {},
   "outputs": [],
   "source": [
    "from IPython.display import display, HTML\n",
    "from ipywidgets import widgets, interact\n",
    "import requests\n",
    "\n",
    "display(HTML(\"<h1>Fudge's Food Finder</h1>\"))\n",
    "bing_key = 'Bing-Key'\n",
    "google_api_key='751838d6b9978955679461c80a7df60bde4f093d'\n",
    "\n",
    "# PROMPTS\n"
   ]
  },
  {
   "cell_type": "code",
   "execution_count": null,
   "metadata": {},
   "outputs": [],
   "source": [
    "# run this code to turn in your work!\n",
    "from coursetools.submission import Submission\n",
    "Submission().submit_now()"
   ]
  },
  {
   "cell_type": "code",
   "execution_count": null,
   "metadata": {},
   "outputs": [],
   "source": []
  }
 ],
 "metadata": {
  "kernelspec": {
   "display_name": "Python 3 (ipykernel)",
   "language": "python",
   "name": "python3"
  },
  "language_info": {
   "codemirror_mode": {
    "name": "ipython",
    "version": 3
   },
   "file_extension": ".py",
   "mimetype": "text/x-python",
   "name": "python",
   "nbconvert_exporter": "python",
   "pygments_lexer": "ipython3",
   "version": "3.11.7"
  },
  "toc": {
   "base_numbering": 1,
   "nav_menu": {},
   "number_sections": false,
   "sideBar": false,
   "skip_h1_title": false,
   "title_cell": "Table of Contents",
   "title_sidebar": "Contents",
   "toc_cell": false,
   "toc_position": {},
   "toc_section_display": false,
   "toc_window_display": false
  },
  "varInspector": {
   "cols": {
    "lenName": 16,
    "lenType": 16,
    "lenVar": 40
   },
   "kernels_config": {
    "python": {
     "delete_cmd_postfix": "",
     "delete_cmd_prefix": "del ",
     "library": "var_list.py",
     "varRefreshCmd": "print(var_dic_list())"
    },
    "r": {
     "delete_cmd_postfix": ") ",
     "delete_cmd_prefix": "rm(",
     "library": "var_list.r",
     "varRefreshCmd": "cat(var_dic_list()) "
    }
   },
   "types_to_exclude": [
    "module",
    "function",
    "builtin_function_or_method",
    "instance",
    "_Feature"
   ],
   "window_display": false
  }
 },
 "nbformat": 4,
 "nbformat_minor": 4
}
