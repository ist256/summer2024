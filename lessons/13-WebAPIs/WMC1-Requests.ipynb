{
 "cells": [
  {
   "cell_type": "markdown",
   "id": "caf115a3-b17c-4f7b-b256-76ac84bbcdf8",
   "metadata": {},
   "source": [
    "# Watch me code 1 \n",
    "\n",
    "Funny Names with Python requests:\n",
    "\n",
    "- https://cent.ischool-iot.net/api/funnyname/random\n",
    "- https://cent.ischool-iot.net/api/funnyname/search\n",
    "- learn to use query string\n",
    "- handling errors\n",
    "- deserializing JSON"
   ]
  },
  {
   "cell_type": "code",
   "execution_count": 1,
   "id": "15e499be-1e59-481f-aee7-67dd2e0800c5",
   "metadata": {
    "tags": []
   },
   "outputs": [],
   "source": [
    "import requests"
   ]
  },
  {
   "cell_type": "code",
   "execution_count": 11,
   "id": "d0162ed0-5e40-4750-bf55-4ea7fdc16987",
   "metadata": {
    "tags": []
   },
   "outputs": [
    {
     "name": "stdout",
     "output_type": "stream",
     "text": [
      "[{'first': 'Bill', 'last': 'Melator'}]\n"
     ]
    }
   ],
   "source": [
    "# Simplest form:\n",
    "\n",
    "url = \"https://cent.ischool-iot.net/api/funnyname/random\"\n",
    "response = requests.get(url)\n",
    "response.raise_for_status() # do not continue if error!\n",
    "data = response.json() # deserialize!\n",
    "\n",
    "# output\n",
    "print(data)"
   ]
  },
  {
   "cell_type": "code",
   "execution_count": 12,
   "id": "71c3a88e-5f29-4138-8b2d-cd9fe2b2c90a",
   "metadata": {
    "tags": []
   },
   "outputs": [
    {
     "name": "stdout",
     "output_type": "stream",
     "text": [
      "Sharon Yerthings\n",
      "Sandy Beeches\n",
      "Willow Tree\n",
      "Sherry Wyne\n",
      "Frank Furter\n"
     ]
    }
   ],
   "source": [
    "# Lets use the query string! \n",
    "# INPUT: how many?\n",
    "query_string = {\"n\": 5}  # requests expects the querystring to be a dict\n",
    "\n",
    "# Notice how the rest is the same!!!\n",
    "url = \"https://cent.ischool-iot.net/api/funnyname/random\"\n",
    "response = requests.get(url, params = query_string) # add it to the params!\n",
    "response.raise_for_status() # do not continue if error!\n",
    "data = response.json() # deserialize!\n",
    "\n",
    "# OUTPUT names\n",
    "for row in data:\n",
    "    print(f\"{row['first']} {row['last']}\")"
   ]
  },
  {
   "cell_type": "code",
   "execution_count": 13,
   "id": "cf6d7958-cd84-4ba3-a750-f4ec60e5be51",
   "metadata": {
    "tags": []
   },
   "outputs": [
    {
     "ename": "HTTPError",
     "evalue": "400 Client Error: BAD REQUEST for url: https://cent.ischool-iot.net/api/funnyname/search",
     "output_type": "error",
     "traceback": [
      "\u001b[0;31m---------------------------------------------------------------------------\u001b[0m",
      "\u001b[0;31mHTTPError\u001b[0m                                 Traceback (most recent call last)",
      "Cell \u001b[0;32mIn[13], line 5\u001b[0m\n\u001b[1;32m      3\u001b[0m url \u001b[38;5;241m=\u001b[39m \u001b[38;5;124m\"\u001b[39m\u001b[38;5;124mhttps://cent.ischool-iot.net/api/funnyname/search\u001b[39m\u001b[38;5;124m\"\u001b[39m\n\u001b[1;32m      4\u001b[0m response \u001b[38;5;241m=\u001b[39m requests\u001b[38;5;241m.\u001b[39mget(url)\n\u001b[0;32m----> 5\u001b[0m \u001b[43mresponse\u001b[49m\u001b[38;5;241;43m.\u001b[39;49m\u001b[43mraise_for_status\u001b[49m\u001b[43m(\u001b[49m\u001b[43m)\u001b[49m \u001b[38;5;66;03m# do not continue if error!\u001b[39;00m\n\u001b[1;32m      6\u001b[0m data \u001b[38;5;241m=\u001b[39m response\u001b[38;5;241m.\u001b[39mjson() \u001b[38;5;66;03m# deserialize!\u001b[39;00m\n\u001b[1;32m      8\u001b[0m \u001b[38;5;66;03m# output\u001b[39;00m\n",
      "File \u001b[0;32m/opt/conda/lib/python3.11/site-packages/requests/models.py:1021\u001b[0m, in \u001b[0;36mResponse.raise_for_status\u001b[0;34m(self)\u001b[0m\n\u001b[1;32m   1016\u001b[0m     http_error_msg \u001b[38;5;241m=\u001b[39m (\n\u001b[1;32m   1017\u001b[0m         \u001b[38;5;124mf\u001b[39m\u001b[38;5;124m\"\u001b[39m\u001b[38;5;132;01m{\u001b[39;00m\u001b[38;5;28mself\u001b[39m\u001b[38;5;241m.\u001b[39mstatus_code\u001b[38;5;132;01m}\u001b[39;00m\u001b[38;5;124m Server Error: \u001b[39m\u001b[38;5;132;01m{\u001b[39;00mreason\u001b[38;5;132;01m}\u001b[39;00m\u001b[38;5;124m for url: \u001b[39m\u001b[38;5;132;01m{\u001b[39;00m\u001b[38;5;28mself\u001b[39m\u001b[38;5;241m.\u001b[39murl\u001b[38;5;132;01m}\u001b[39;00m\u001b[38;5;124m\"\u001b[39m\n\u001b[1;32m   1018\u001b[0m     )\n\u001b[1;32m   1020\u001b[0m \u001b[38;5;28;01mif\u001b[39;00m http_error_msg:\n\u001b[0;32m-> 1021\u001b[0m     \u001b[38;5;28;01mraise\u001b[39;00m HTTPError(http_error_msg, response\u001b[38;5;241m=\u001b[39m\u001b[38;5;28mself\u001b[39m)\n",
      "\u001b[0;31mHTTPError\u001b[0m: 400 Client Error: BAD REQUEST for url: https://cent.ischool-iot.net/api/funnyname/search"
     ]
    }
   ],
   "source": [
    "# Let's look at errrors: search for a funny name\n",
    "\n",
    "url = \"https://cent.ischool-iot.net/api/funnyname/search\"\n",
    "response = requests.get(url)\n",
    "response.raise_for_status() # do not continue if error!\n",
    "data = response.json() # deserialize!\n",
    "\n",
    "# output\n",
    "print(data)"
   ]
  },
  {
   "cell_type": "code",
   "execution_count": 14,
   "id": "b69ef3d4-1ce1-4869-a8e0-cc6bbb664ce5",
   "metadata": {
    "tags": []
   },
   "outputs": [
    {
     "name": "stdout",
     "output_type": "stream",
     "text": [
      "400\n"
     ]
    }
   ],
   "source": [
    "# oops exception was raised. Let's explore why\n",
    "\n",
    "print(response.status_code) # 400 error"
   ]
  },
  {
   "cell_type": "code",
   "execution_count": 15,
   "id": "a43298a8-7931-45b6-a0d2-cd94a1ea90af",
   "metadata": {
    "tags": []
   },
   "outputs": [
    {
     "name": "stdout",
     "output_type": "stream",
     "text": [
      "error: Query parameter 'q' is required\n"
     ]
    }
   ],
   "source": [
    "print(response.text) # reason"
   ]
  },
  {
   "cell_type": "code",
   "execution_count": 17,
   "id": "41834773-abe5-495b-9096-b05e9cbadc95",
   "metadata": {
    "tags": []
   },
   "outputs": [
    {
     "name": "stdout",
     "output_type": "stream",
     "text": [
      "[{'first': 'Mac', 'last': 'Arronne'}, {'first': 'Mac', 'last': 'Donalds'}, {'first': 'Mac', 'last': 'Intosh'}]\n"
     ]
    }
   ],
   "source": [
    "# search for a funny name the right way:\n",
    "\n",
    "query_string = {\"q\": \"mac\"}  # INPUT\n",
    "url = \"https://cent.ischool-iot.net/api/funnyname/search\" # FUNCTION\n",
    "response = requests.get(url, params=query_string)\n",
    "response.raise_for_status() \n",
    "data = response.json() \n",
    "\n",
    "# OUTPUT\n",
    "print(data)"
   ]
  },
  {
   "cell_type": "code",
   "execution_count": null,
   "id": "2096734a-5390-404a-bf1b-a7137eb5557b",
   "metadata": {},
   "outputs": [],
   "source": []
  }
 ],
 "metadata": {
  "kernelspec": {
   "display_name": "Python 3 (ipykernel)",
   "language": "python",
   "name": "python3"
  },
  "language_info": {
   "codemirror_mode": {
    "name": "ipython",
    "version": 3
   },
   "file_extension": ".py",
   "mimetype": "text/x-python",
   "name": "python",
   "nbconvert_exporter": "python",
   "pygments_lexer": "ipython3",
   "version": "3.11.7"
  }
 },
 "nbformat": 4,
 "nbformat_minor": 5
}
