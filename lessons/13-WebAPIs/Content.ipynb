{
 "cells": [
  {
   "cell_type": "markdown",
   "id": "141c36fd-bd86-42dc-8a60-95d83719d3e9",
   "metadata": {},
   "source": [
    "## Lesson 13: Web Apis\n",
    "\n",
    "### Overview\n",
    "\n",
    "In this lesson we learn:\n",
    "\n",
    "- What is a web api / why do they exist?\n",
    "- Making HTTP Requests\n",
    "- Common request patterns\n",
    "- Using the CENT IoT Api Wrapper\n",
    "\n",
    "### Required Before Large Group\n",
    "\n",
    "- READ: [Fudge: Web APis](WebApis.ipynb)\n",
    "\n",
    "### Additional Resources\n",
    "\n",
    "- READ: [Requests: HTTP for Humans](https://requests.readthedocs.io/en/latest/) \n",
    "- No more lab walk throughs or homework advice yet as content was re-written this semester.\n"
   ]
  },
  {
   "cell_type": "code",
   "execution_count": null,
   "id": "7f5fbf82-2580-49cf-8f7a-a815d7bea90c",
   "metadata": {},
   "outputs": [],
   "source": []
  }
 ],
 "metadata": {
  "kernelspec": {
   "display_name": "Python 3 (ipykernel)",
   "language": "python",
   "name": "python3"
  },
  "language_info": {
   "codemirror_mode": {
    "name": "ipython",
    "version": 3
   },
   "file_extension": ".py",
   "mimetype": "text/x-python",
   "name": "python",
   "nbconvert_exporter": "python",
   "pygments_lexer": "ipython3",
   "version": "3.11.7"
  }
 },
 "nbformat": 4,
 "nbformat_minor": 5
}
