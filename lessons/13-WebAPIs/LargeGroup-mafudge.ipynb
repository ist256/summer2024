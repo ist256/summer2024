{
 "cells": [
  {
   "cell_type": "markdown",
   "id": "d53e7546-8d08-4aa1-b583-24a697e817cb",
   "metadata": {},
   "source": [
    "# Code Samples From Large Group\n",
    "\n",
    "Place your notes and code samples from large group here.\n"
   ]
  },
  {
   "cell_type": "code",
   "execution_count": 1,
   "id": "c114571f-989c-4307-9c0c-db38707b7852",
   "metadata": {},
   "outputs": [],
   "source": [
    "import requests"
   ]
  },
  {
   "cell_type": "code",
   "execution_count": 2,
   "id": "53c047de-6d49-4711-89c0-5ef81887b7e3",
   "metadata": {},
   "outputs": [
    {
     "name": "stdout",
     "output_type": "stream",
     "text": [
      "https://cent.ischool-iot.net/api/funnyname/random?n=3\n"
     ]
    }
   ],
   "source": [
    "# INPUTS\n",
    "URL = \"https://cent.ischool-iot.net/api/funnyname/random\"\n",
    "querystring = {\"n\": 3}\n",
    "\n",
    "#PROCESS\n",
    "response = requests.get(URL, params=querystring)\n",
    "print(response.url)"
   ]
  },
  {
   "cell_type": "code",
   "execution_count": 3,
   "id": "957d79ae-7aa4-46cd-852f-23f507679625",
   "metadata": {
    "tags": []
   },
   "outputs": [
    {
     "data": {
      "text/plain": [
       "True"
      ]
     },
     "execution_count": 3,
     "metadata": {},
     "output_type": "execute_result"
    }
   ],
   "source": [
    "response.ok"
   ]
  },
  {
   "cell_type": "code",
   "execution_count": 4,
   "id": "b4fce35a-e925-4750-846e-974e8537e2fd",
   "metadata": {
    "tags": []
   },
   "outputs": [
    {
     "data": {
      "text/plain": [
       "200"
      ]
     },
     "execution_count": 4,
     "metadata": {},
     "output_type": "execute_result"
    }
   ],
   "source": [
    "response.status_code"
   ]
  },
  {
   "cell_type": "code",
   "execution_count": 5,
   "id": "73f4c378-2590-47a4-b3f9-e9d99268e898",
   "metadata": {
    "tags": []
   },
   "outputs": [
    {
     "data": {
      "text/plain": [
       "'[{\"first\":\"Hank\",\"last\":\"Erchief\"},{\"first\":\"Eileen\",\"last\":\"Touda-Wright\"},{\"first\":\"Isabelle\",\"last\":\"Ringing\"}]'"
      ]
     },
     "execution_count": 5,
     "metadata": {},
     "output_type": "execute_result"
    }
   ],
   "source": [
    "response.text"
   ]
  },
  {
   "cell_type": "code",
   "execution_count": 6,
   "id": "25802f92-9dab-47d5-8779-bdbba11d00de",
   "metadata": {
    "tags": []
   },
   "outputs": [
    {
     "data": {
      "text/plain": [
       "[{'first': 'Hank', 'last': 'Erchief'},\n",
       " {'first': 'Eileen', 'last': 'Touda-Wright'},\n",
       " {'first': 'Isabelle', 'last': 'Ringing'}]"
      ]
     },
     "execution_count": 6,
     "metadata": {},
     "output_type": "execute_result"
    }
   ],
   "source": [
    "response.json()"
   ]
  },
  {
   "cell_type": "code",
   "execution_count": 8,
   "id": "7aee8e01-699c-49be-9d06-d01b684f24c3",
   "metadata": {
    "tags": []
   },
   "outputs": [
    {
     "name": "stdout",
     "output_type": "stream",
     "text": [
      "Hank Erchief\n",
      "Eileen Touda-Wright\n",
      "Isabelle Ringing\n"
     ]
    }
   ],
   "source": [
    "names = response.json()\n",
    "for n in names:\n",
    "    print(n['first'], n['last'])"
   ]
  },
  {
   "cell_type": "code",
   "execution_count": 11,
   "id": "ea870ff0-c75e-490b-b07d-5d22bd19507e",
   "metadata": {
    "tags": []
   },
   "outputs": [
    {
     "data": {
      "text/plain": [
       "[{'first': 'Sal', 'last': 'Debote'},\n",
       " {'first': 'Ross', 'last': 'Tefarian'},\n",
       " {'first': 'Oliver', 'last': 'Thingz'},\n",
       " {'first': 'Phil', 'last': 'Meaup'},\n",
       " {'first': 'Mark', 'last': 'Smann'},\n",
       " {'first': 'Terry', 'last': 'Cloth'},\n",
       " {'first': 'Wade', 'last': 'Indawater'}]"
      ]
     },
     "execution_count": 11,
     "metadata": {},
     "output_type": "execute_result"
    }
   ],
   "source": [
    "# INPUTS\n",
    "URL = \"https://cent.ischool-iot.net/api/funnyname/random\"\n",
    "querystring = {\"n\": 7}\n",
    "\n",
    "#PROCESS\n",
    "response = requests.get(URL, params=querystring)\n",
    "response.raise_for_status()\n",
    "data = response.json() # De-serialize\n",
    "\n",
    "#output\n",
    "data"
   ]
  },
  {
   "cell_type": "code",
   "execution_count": 14,
   "id": "44589e91-cfe0-4431-b424-5853248509ea",
   "metadata": {
    "tags": []
   },
   "outputs": [
    {
     "ename": "HTTPError",
     "evalue": "500 Server Error: INTERNAL SERVER ERROR for url: https://cent.ischool-iot.net/api/funnyname/random?n=alot",
     "output_type": "error",
     "traceback": [
      "\u001b[0;31m---------------------------------------------------------------------------\u001b[0m",
      "\u001b[0;31mHTTPError\u001b[0m                                 Traceback (most recent call last)",
      "Cell \u001b[0;32mIn[14], line 7\u001b[0m\n\u001b[1;32m      5\u001b[0m \u001b[38;5;66;03m#PROCESS\u001b[39;00m\n\u001b[1;32m      6\u001b[0m response \u001b[38;5;241m=\u001b[39m requests\u001b[38;5;241m.\u001b[39mget(URL, params\u001b[38;5;241m=\u001b[39mquerystring)\n\u001b[0;32m----> 7\u001b[0m \u001b[43mresponse\u001b[49m\u001b[38;5;241;43m.\u001b[39;49m\u001b[43mraise_for_status\u001b[49m\u001b[43m(\u001b[49m\u001b[43m)\u001b[49m\n\u001b[1;32m      8\u001b[0m data \u001b[38;5;241m=\u001b[39m response\u001b[38;5;241m.\u001b[39mjson() \u001b[38;5;66;03m# De-serialize\u001b[39;00m\n\u001b[1;32m     10\u001b[0m \u001b[38;5;66;03m#output\u001b[39;00m\n",
      "File \u001b[0;32m/opt/conda/lib/python3.11/site-packages/requests/models.py:1021\u001b[0m, in \u001b[0;36mResponse.raise_for_status\u001b[0;34m(self)\u001b[0m\n\u001b[1;32m   1016\u001b[0m     http_error_msg \u001b[38;5;241m=\u001b[39m (\n\u001b[1;32m   1017\u001b[0m         \u001b[38;5;124mf\u001b[39m\u001b[38;5;124m\"\u001b[39m\u001b[38;5;132;01m{\u001b[39;00m\u001b[38;5;28mself\u001b[39m\u001b[38;5;241m.\u001b[39mstatus_code\u001b[38;5;132;01m}\u001b[39;00m\u001b[38;5;124m Server Error: \u001b[39m\u001b[38;5;132;01m{\u001b[39;00mreason\u001b[38;5;132;01m}\u001b[39;00m\u001b[38;5;124m for url: \u001b[39m\u001b[38;5;132;01m{\u001b[39;00m\u001b[38;5;28mself\u001b[39m\u001b[38;5;241m.\u001b[39murl\u001b[38;5;132;01m}\u001b[39;00m\u001b[38;5;124m\"\u001b[39m\n\u001b[1;32m   1018\u001b[0m     )\n\u001b[1;32m   1020\u001b[0m \u001b[38;5;28;01mif\u001b[39;00m http_error_msg:\n\u001b[0;32m-> 1021\u001b[0m     \u001b[38;5;28;01mraise\u001b[39;00m HTTPError(http_error_msg, response\u001b[38;5;241m=\u001b[39m\u001b[38;5;28mself\u001b[39m)\n",
      "\u001b[0;31mHTTPError\u001b[0m: 500 Server Error: INTERNAL SERVER ERROR for url: https://cent.ischool-iot.net/api/funnyname/random?n=alot"
     ]
    }
   ],
   "source": [
    "# INPUTS\n",
    "URL = \"https://cent.ischool-iot.net/api/funnyname/random\"\n",
    "querystring = {\"n\": \"alot\"}\n",
    "\n",
    "#PROCESS\n",
    "response = requests.get(URL, params=querystring)\n",
    "response.raise_for_status()\n",
    "data = response.json() # De-serialize\n",
    "\n",
    "#output\n",
    "data"
   ]
  },
  {
   "cell_type": "code",
   "execution_count": 25,
   "id": "d571d3db-ce9c-4978-9cb4-786440e6ff23",
   "metadata": {
    "tags": []
   },
   "outputs": [],
   "source": [
    "# INPUT\n",
    "url = \"https://cent.ischool-iot.net/api/google/geocode\"\n",
    "querystring = {\"location\": \"Syracuse, NY\"}\n",
    "\n",
    "\n",
    "headers = {\"X-API-KEY\": \"ea044c96950db6cc0fab7ae1\"}\n",
    "response = requests.get(url, params=querystring, headers=headers)\n",
    "response.raise_for_status()\n",
    "data = response.json()\n",
    "\n",
    "# OUTPUT\n",
    "coords = data['results'][0]['geometry']['location']"
   ]
  },
  {
   "cell_type": "code",
   "execution_count": 23,
   "id": "b399986b-c678-4007-8522-668ccebdfcc6",
   "metadata": {
    "tags": []
   },
   "outputs": [
    {
     "data": {
      "text/plain": [
       "{'lat': 43.0481221, 'lng': -76.14742439999999}"
      ]
     },
     "execution_count": 23,
     "metadata": {},
     "output_type": "execute_result"
    }
   ],
   "source": [
    "coords"
   ]
  },
  {
   "cell_type": "code",
   "execution_count": 30,
   "id": "4c23d184-03fe-4d0b-8487-b07b724f5e36",
   "metadata": {
    "tags": []
   },
   "outputs": [],
   "source": [
    "# INPUT\n",
    "url = \"https://cent.ischool-iot.net/api/weather/current\"\n",
    "querystring = {\"units\": 'imperial', \"lon\": coords['lng'], \"lat\": coords['lat']}\n",
    "\n",
    "headers = {\"X-API-KEY\": \"ea044c96950db6cc0fab7ae1\"}\n",
    "response = requests.get(url, params=querystring, headers=headers)\n",
    "response.raise_for_status()\n",
    "data = response.json()\n",
    "temp = data['current']['temperature_2m']\n"
   ]
  },
  {
   "cell_type": "code",
   "execution_count": 29,
   "id": "5b949a98-3d97-4007-a690-01f04d875a43",
   "metadata": {
    "tags": []
   },
   "outputs": [
    {
     "data": {
      "text/plain": [
       "53.7"
      ]
     },
     "execution_count": 29,
     "metadata": {},
     "output_type": "execute_result"
    }
   ],
   "source": []
  },
  {
   "cell_type": "code",
   "execution_count": null,
   "id": "fbbcf7e8-3214-48e2-b42c-4bd6b0e4c439",
   "metadata": {},
   "outputs": [],
   "source": []
  }
 ],
 "metadata": {
  "kernelspec": {
   "display_name": "Python 3 (ipykernel)",
   "language": "python",
   "name": "python3"
  },
  "language_info": {
   "codemirror_mode": {
    "name": "ipython",
    "version": 3
   },
   "file_extension": ".py",
   "mimetype": "text/x-python",
   "name": "python",
   "nbconvert_exporter": "python",
   "pygments_lexer": "ipython3",
   "version": "3.11.7"
  }
 },
 "nbformat": 4,
 "nbformat_minor": 5
}
