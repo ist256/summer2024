{
 "cells": [
  {
   "cell_type": "markdown",
   "metadata": {
    "slideshow": {
     "slide_type": "slide"
    }
   },
   "source": [
    "# IST256 Lesson 13\n",
    "## Web API's\n",
    "\n",
    "\n",
    "- Assigned Reading: [Fudge: Web APis](WebApis.ipynb)\n",
    "\n",
    "## Links\n",
    "\n",
    "- Participation: [https://poll.ist256.com](https://poll.ist256.com)  (Sign in with *netid*@syr.edu and your SU Password.)\n",
    "- Class Chat: [https://chat.ist256.com](https://chat.ist256.com)  (Microsoft Teams.)\n"
   ]
  },
  {
   "cell_type": "markdown",
   "metadata": {
    "slideshow": {
     "slide_type": "slide"
    }
   },
   "source": [
    "# Agenda\n",
    "\n",
    "- Homework\n",
    "- What is a web api / why do they exist?\n",
    "- Making HTTP Requests\n",
    "- Common request patterns\n",
    "- Using the CENT IoT Api Wrapper\n"
   ]
  },
  {
   "cell_type": "markdown",
   "metadata": {
    "slideshow": {
     "slide_type": "slide"
    }
   },
   "source": [
    "# FEQT (Future Exam Questions Training) 1\n",
    "\n",
    "How many rows in the DataFrame?"
   ]
  },
  {
   "cell_type": "code",
   "execution_count": 2,
   "metadata": {
    "slideshow": {
     "slide_type": "fragment"
    },
    "tags": []
   },
   "outputs": [
    {
     "data": {
      "text/html": [
       "<div>\n",
       "<style scoped>\n",
       "    .dataframe tbody tr th:only-of-type {\n",
       "        vertical-align: middle;\n",
       "    }\n",
       "\n",
       "    .dataframe tbody tr th {\n",
       "        vertical-align: top;\n",
       "    }\n",
       "\n",
       "    .dataframe thead th {\n",
       "        text-align: right;\n",
       "    }\n",
       "</style>\n",
       "<table border=\"1\" class=\"dataframe\">\n",
       "  <thead>\n",
       "    <tr style=\"text-align: right;\">\n",
       "      <th></th>\n",
       "      <th>A</th>\n",
       "      <th>B</th>\n",
       "    </tr>\n",
       "  </thead>\n",
       "  <tbody>\n",
       "    <tr>\n",
       "      <th>0</th>\n",
       "      <td>[{'C': 1}]</td>\n",
       "      <td>x</td>\n",
       "    </tr>\n",
       "    <tr>\n",
       "      <th>1</th>\n",
       "      <td>[{'C': 3}, {'C': 2}, {'C': 4}]</td>\n",
       "      <td>y</td>\n",
       "    </tr>\n",
       "  </tbody>\n",
       "</table>\n",
       "</div>"
      ],
      "text/plain": [
       "                                A  B\n",
       "0                      [{'C': 1}]  x\n",
       "1  [{'C': 3}, {'C': 2}, {'C': 4}]  y"
      ]
     },
     "execution_count": 2,
     "metadata": {},
     "output_type": "execute_result"
    }
   ],
   "source": [
    "import pandas as pd\n",
    "data = [\n",
    "    {'A': [{\"C\": 1}], 'B': \"x\"},     \n",
    "    {'A': [{\"C\": 3}, {\"C\": 2}, {\"C\": 4}], 'B': \"y\"}\n",
    "]\n",
    "df = pd.json_normalize(data)\n",
    "df.loc[1,\"B\"]"
   ]
  },
  {
   "cell_type": "markdown",
   "metadata": {
    "slideshow": {
     "slide_type": "fragment"
    }
   },
   "source": [
    "A. `1`  \n",
    "B. `2`  \n",
    "C. `3`  \n",
    "D. `4`  \n",
    " \n",
    "## Vote Now: [https://poll.ist256.com](https://poll.ist256.com)"
   ]
  },
  {
   "cell_type": "markdown",
   "metadata": {
    "slideshow": {
     "slide_type": "slide"
    }
   },
   "source": [
    "# FEQT (Future Exam Questions Training) 2\n",
    "\n",
    "How many rows in the DataFrame?"
   ]
  },
  {
   "cell_type": "code",
   "execution_count": 1,
   "metadata": {
    "slideshow": {
     "slide_type": "fragment"
    },
    "tags": []
   },
   "outputs": [
    {
     "data": {
      "text/html": [
       "<div>\n",
       "<style scoped>\n",
       "    .dataframe tbody tr th:only-of-type {\n",
       "        vertical-align: middle;\n",
       "    }\n",
       "\n",
       "    .dataframe tbody tr th {\n",
       "        vertical-align: top;\n",
       "    }\n",
       "\n",
       "    .dataframe thead th {\n",
       "        text-align: right;\n",
       "    }\n",
       "</style>\n",
       "<table border=\"1\" class=\"dataframe\">\n",
       "  <thead>\n",
       "    <tr style=\"text-align: right;\">\n",
       "      <th></th>\n",
       "      <th>C</th>\n",
       "    </tr>\n",
       "  </thead>\n",
       "  <tbody>\n",
       "    <tr>\n",
       "      <th>0</th>\n",
       "      <td>1</td>\n",
       "    </tr>\n",
       "    <tr>\n",
       "      <th>1</th>\n",
       "      <td>3</td>\n",
       "    </tr>\n",
       "    <tr>\n",
       "      <th>2</th>\n",
       "      <td>2</td>\n",
       "    </tr>\n",
       "    <tr>\n",
       "      <th>3</th>\n",
       "      <td>4</td>\n",
       "    </tr>\n",
       "  </tbody>\n",
       "</table>\n",
       "</div>"
      ],
      "text/plain": [
       "   C\n",
       "0  1\n",
       "1  3\n",
       "2  2\n",
       "3  4"
      ]
     },
     "execution_count": 1,
     "metadata": {},
     "output_type": "execute_result"
    }
   ],
   "source": [
    "import pandas as pd\n",
    "data = [\n",
    "    {'A': [{\"C\": 1}], 'B': \"x\"},\n",
    "    {'A': [{\"C\": 3}, {\"C\": 2}, {\"C\": 4}], 'B': \"y\"}\n",
    "]\n",
    "df = pd.json_normalize(data, record_path=\"A\")\n",
    "df"
   ]
  },
  {
   "cell_type": "markdown",
   "metadata": {
    "slideshow": {
     "slide_type": "fragment"
    }
   },
   "source": [
    "A. `1`  \n",
    "B. `2`  \n",
    "C. `3`  \n",
    "D. `4`  \n",
    " \n",
    "## Vote Now: [https://poll.ist256.com](https://poll.ist256.com)"
   ]
  },
  {
   "cell_type": "markdown",
   "metadata": {
    "slideshow": {
     "slide_type": "slide"
    }
   },
   "source": [
    "# FEQT (Future Exam Questions Training) 3\n",
    "\n",
    "What is the output of the following code?"
   ]
  },
  {
   "cell_type": "code",
   "execution_count": null,
   "metadata": {
    "slideshow": {
     "slide_type": "fragment"
    }
   },
   "outputs": [],
   "source": [
    "data = [\n",
    "    {'A': [{\"C\": 1}], 'B': \"x\"},\n",
    "    {'A': [{\"C\": 3}, {\"C\": 2}, {\"C\": 4}], 'B': \"y\"}\n",
    "]\n",
    "df = pd.DataFrame(data)\n",
    "df.loc[0, \"B\"]"
   ]
  },
  {
   "cell_type": "markdown",
   "metadata": {
    "slideshow": {
     "slide_type": "fragment"
    }
   },
   "source": [
    "A. `X`  \n",
    "B. `y`  \n",
    "C. `B`  \n",
    "D. `Error`  \n",
    " \n",
    "## Vote Now: [https://poll.ist256.com](https://poll.ist256.com)"
   ]
  },
  {
   "cell_type": "markdown",
   "metadata": {
    "slideshow": {
     "slide_type": "slide"
    }
   },
   "source": [
    "# FEQT (Future Exam Questions Training) 4\n",
    "\n",
    "What is the output of the following code?"
   ]
  },
  {
   "cell_type": "code",
   "execution_count": null,
   "metadata": {
    "slideshow": {
     "slide_type": "fragment"
    }
   },
   "outputs": [],
   "source": [
    "data = [\n",
    "    { 'A' : [{\"C\":1}], 'B': \"x\" },\n",
    "    { 'A' : [{\"C\":3},{\"C\":2},{\"C\":4}], 'B': \"y\" }\n",
    "]\n",
    "df = pd.DataFrame(data)\n",
    "df[df['B']=='x'][['A']]"
   ]
  },
  {
   "cell_type": "markdown",
   "metadata": {
    "slideshow": {
     "slide_type": "fragment"
    }
   },
   "source": [
    "A. `{\"C\":1}`  \n",
    "B. `{\"C\":1}`  \n",
    "C. `{\"C\":3}`  \n",
    "D. `{\"C\":4}`  \n",
    " \n",
    "## Vote Now: [https://poll.ist256.com](https://poll.ist256.com)"
   ]
  },
  {
   "cell_type": "markdown",
   "metadata": {
    "slideshow": {
     "slide_type": "slide"
    }
   },
   "source": [
    "# FEQT (Future Exam Questions Training) 5\n",
    "\n",
    "You want to visualize Average retail price by smartphone brand (Apple, Google, Samsung). Which is the most appopriate method?"
   ]
  },
  {
   "cell_type": "markdown",
   "metadata": {
    "slideshow": {
     "slide_type": "fragment"
    }
   },
   "source": [
    "A. `lmplot()`  \n",
    "B. `lineplot()`  \n",
    "C. `histplot()`  \n",
    "D. `barplot()`  \n",
    " \n",
    " \n",
    "## Vote Now: [https://poll.ist256.com](https://poll.ist256.com)"
   ]
  },
  {
   "cell_type": "markdown",
   "metadata": {
    "slideshow": {
     "slide_type": "slide"
    }
   },
   "source": [
    " # What is a web API? \n",
    " \n",
    " - Another form of \"Other People's code\"\n",
    " - This time the code is in the cloud.\n",
    " - We call the functions over the internet.\n",
    " - Why? Some code is too complex to run on our local devices.\n",
    " - Web API's are why smartphone apps like Uber, Snapchat, and Venmo are able to work.\n",
    " \n",
    "    "
   ]
  },
  {
   "cell_type": "markdown",
   "metadata": {
    "slideshow": {
     "slide_type": "slide"
    }
   },
   "source": [
    "# HTTP: The Protocol of The Web\n",
    "\n",
    "Just another form of `INPUT -> PROCESS -> OUTPUT`\n",
    "\n",
    "- **Request:** sent by you to the web API over the internet.\n",
    "  - **URL** Uniform resource locator. Where on the internet you are requesting\n",
    "  - **Query String** for simple inputs like a value or search parameters\n",
    "  - **Body** for large inputs like text and images\n",
    "  - **Header** for secret inputs like API Keys or access privileges.\n",
    "- **response:** what you get back. Consists of:\n",
    "  - **Status Code**. This indicates \"what happened\"\n",
    "  - **Content**  this is the the result of the function call. Its in binary, text or JSON format.\n",
    "\n"
   ]
  },
  {
   "cell_type": "markdown",
   "metadata": {
    "slideshow": {
     "slide_type": "slide"
    }
   },
   "source": [
    "# HTTP Request Methods\n",
    "\n",
    "HTTP Request Verbs:\n",
    "- GET - used to get resources\n",
    "- POST - used to send large data payloads as input\n",
    "\n",
    "Less Common:\n",
    "- PUT - used for updates\n",
    "- DELETE - used to delete a resource\n"
   ]
  },
  {
   "cell_type": "markdown",
   "metadata": {
    "slideshow": {
     "slide_type": "slide"
    }
   },
   "source": [
    "# HTTP Response Status codes\n",
    "\n",
    "The HTTP response has a payload of data and a status code. \n",
    "\n",
    "HTTP Status Codes:\n",
    "- `1xx` Informational -seldome used in API's\n",
    "- `2xx` Success - it worked\n",
    "- `3xx` Redirection - its no longer there or hasn't changed\n",
    "- `4xx` Client Error - you make a mistake\n",
    "- `5xx` Server Error - they made a mistake"
   ]
  },
  {
   "cell_type": "markdown",
   "metadata": {
    "slideshow": {
     "slide_type": "slide"
    }
   },
   "source": [
    "# Python requests\n",
    "\n",
    "Python's `requests` module makes calling web API's simple. The process is always the same:\n",
    "\n",
    "1. Setup the inputs: Query String, Body or Header\n",
    "2. Make the GET or POST to the URL\n",
    "3. Check for non 200 response\n",
    "4. when valid, Proceed reading the response content\n"
   ]
  },
  {
   "cell_type": "markdown",
   "metadata": {
    "slideshow": {
     "slide_type": "slide"
    }
   },
   "source": [
    "# Watch Me Code 1 \n",
    "\n",
    "Funny Names with Python requests:\n",
    "\n",
    "- https://cent.ischool-iot.net/api/funnyname/random\n",
    "- https://cent.ischool-iot.net/api/funnyname/search\n",
    "- learn to use query string\n",
    "- handling errors\n",
    "- deserializing JSON\n"
   ]
  },
  {
   "cell_type": "markdown",
   "metadata": {
    "slideshow": {
     "slide_type": "slide"
    }
   },
   "source": [
    "# Check Yourself: Response Codes\n",
    "\n",
    "The HTTP Response meaning is your fault is:  \n",
    "A. `404`  \n",
    "B. `501`  \n",
    "C. `200`  \n",
    "D. `301`  \n",
    "\n",
    "### Vote Now: [https://poll.ist256.com](https://poll.ist256.com)"
   ]
  },
  {
   "cell_type": "markdown",
   "metadata": {
    "slideshow": {
     "slide_type": "slide"
    }
   },
   "source": [
    "# CENT IoT Portal\n",
    "\n",
    "- Center for Emerging Network Technologies portal for Internet of Things\n",
    "- We will use in this class for web API calls\n",
    "- There are wrappers on common API's to keep them stable and easy for you to access.\n",
    "- Login with your netid.\n",
    "\n",
    "https://cent.ischool-iot.net\n"
   ]
  },
  {
   "cell_type": "markdown",
   "metadata": {
    "slideshow": {
     "slide_type": "slide"
    }
   },
   "source": [
    "# Watch Me Code 2\n",
    "\n",
    " - CENT IoT portal\n",
    " - Get your API Key\n",
    " - Swagger Docs so you can try API's\n",
    " - Let's call the geocode and weather api's\n",
    " - Converting a CURL to Python requests\n"
   ]
  },
  {
   "cell_type": "markdown",
   "metadata": {
    "slideshow": {
     "slide_type": "slide"
    }
   },
   "source": [
    "# Check Yourself : HTTP Methods\n",
    "\n",
    "\n",
    "What is the URL printed on the last line?"
   ]
  },
  {
   "cell_type": "code",
   "execution_count": null,
   "metadata": {
    "slideshow": {
     "slide_type": "fragment"
    }
   },
   "outputs": [],
   "source": [
    "import requests\n",
    "params = { 'a' : 1, 'b' : 2 }\n",
    "headers = { 'c' : '3'}\n",
    "url = \"https://httpbin.org/get\"\n",
    "response = requests.get(url, params = params, headers = headers)\n",
    "print(response.url)"
   ]
  },
  {
   "cell_type": "markdown",
   "metadata": {
    "slideshow": {
     "slide_type": "fragment"
    }
   },
   "source": [
    "A. `https://httpbin.org/get?a=1&b=2&c=3`  \n",
    "B. `https://httpbin.org/get?a=1&b=2`  \n",
    "C. `https://httpbin.org/get?c=3`  \n",
    "D. `https://httpbin.org/get`  \n",
    "\n",
    "\n",
    "### Vote Now: [https://poll.ist256.com](https://poll.ist256.com)"
   ]
  },
  {
   "cell_type": "markdown",
   "metadata": {
    "slideshow": {
     "slide_type": "slide"
    }
   },
   "source": [
    "# End-To-End Example:\n",
    "\n",
    "### Today's Weather\n",
    "\n",
    "- Lets combine weather + geocoding API's into a single example\n"
   ]
  },
  {
   "cell_type": "markdown",
   "metadata": {
    "slideshow": {
     "slide_type": "slide"
    }
   },
   "source": [
    "# Conclusion Activity: Exit Ticket \n",
    "\n",
    "Which HTTP method is used to send large quantities of data to the URL?\n",
    "\n",
    "A. `GET`  \n",
    "B. `POST`  \n",
    "C. `DELETE`  \n",
    "D. `PUT`   \n",
    "\n",
    "### Vote Now: [https://poll.ist256.com](https://poll.ist256.com)"
   ]
  }
 ],
 "metadata": {
  "celltoolbar": "Slideshow",
  "kernelspec": {
   "display_name": "Python 3 (ipykernel)",
   "language": "python",
   "name": "python3"
  },
  "language_info": {
   "codemirror_mode": {
    "name": "ipython",
    "version": 3
   },
   "file_extension": ".py",
   "mimetype": "text/x-python",
   "name": "python",
   "nbconvert_exporter": "python",
   "pygments_lexer": "ipython3",
   "version": "3.11.7"
  },
  "toc": {
   "base_numbering": 1,
   "nav_menu": {},
   "number_sections": false,
   "sideBar": false,
   "skip_h1_title": false,
   "title_cell": "Table of Contents",
   "title_sidebar": "Contents",
   "toc_cell": false,
   "toc_position": {},
   "toc_section_display": false,
   "toc_window_display": false
  },
  "varInspector": {
   "cols": {
    "lenName": 16,
    "lenType": 16,
    "lenVar": 40
   },
   "kernels_config": {
    "python": {
     "delete_cmd_postfix": "",
     "delete_cmd_prefix": "del ",
     "library": "var_list.py",
     "varRefreshCmd": "print(var_dic_list())"
    },
    "r": {
     "delete_cmd_postfix": ") ",
     "delete_cmd_prefix": "rm(",
     "library": "var_list.r",
     "varRefreshCmd": "cat(var_dic_list()) "
    }
   },
   "types_to_exclude": [
    "module",
    "function",
    "builtin_function_or_method",
    "instance",
    "_Feature"
   ],
   "window_display": false
  }
 },
 "nbformat": 4,
 "nbformat_minor": 4
}
