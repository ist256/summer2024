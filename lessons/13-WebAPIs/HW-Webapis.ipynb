{
 "cells": [
  {
   "cell_type": "markdown",
   "metadata": {},
   "source": [
    "# Homework: Twitter Sentiment of Airlines\n",
    "\n",
    "\n",
    "## The Problem\n",
    "\n",
    "You work for a marketing firm and have been tasked with producing a data visualization of what people are saying on Twitter/X about each of the airlines you represent. Your firm represents 4 airlines: Gamma Airlines, JetBrown, Murcia Airways, and Untied Airlines.\n",
    "\n",
    "A data engineer has extracted the \"tweets\" (as you might have guessed by now... its 100% made up) from the X API. You can find the tweets in `airline_tweets.csv`, along with who tweeted it and which airline they tweeted about in the file.\n",
    "\n",
    "You will need to perform a **sentiment analysis** on each tweet to determine if the message is `positive`, `neutral` or `negative`.\n",
    "\n",
    "The final product should allow the user to select an airline from a drop-down (or choose `*ANY*`) and then a bar chart of user / sentiment counts. Here's a screenshot with all airlines included.\n",
    "\n",
    "#### Screenshot of Program\n",
    "\n",
    "![https://i.imgur.com/LdouZjo.png](https://i.imgur.com/LdouZjo.png)\n",
    "\n",
    "\n",
    "## The Assignment\n",
    "\n",
    "Most of this code has been written for you. The `extract_sentiment()` and `dedupe_series()` functions are included here. They were written in previous assignments.  \n",
    "\n",
    "What you need to figure out:\n",
    "\n",
    "- **You Code 2.1** Data Preparation. Use `pd.apply()` to create a new series `df['sentiment']` which represents the sentiment of each tweet. Generate a `df['count']` column. Then write the dataframe to the file `airline_tweets_sentiment.csv` **This is important** if you keep calling the API, you will run out of credits, so once you figure out the sentiment, **never do it again!**. This is common practice in web API consumption and you should be adopting it for your project.\n",
    "\n",
    "- **You Code 2.2** Data Product. Put it all together to read from ``airline_tweets_sentiment.csv`, build a dropdown of airlines, and then create the interact and barchart. The problem analysis should be for this part.\n",
    "\n",
    "\n",
    "**IMPORTANT: The solution to this assignment consists of a whopping 12 lines of code.** Its more about putting the pieces together at this point than anything else.\n"
   ]
  },
  {
   "cell_type": "markdown",
   "metadata": {
    "label": "problem_analysis_cell"
   },
   "source": [
    "## Part 1: Problem Analysis\n",
    "\n",
    "You will complete a problem analysis for the data product to tell a story in 2.2. **Since we are using data preparation in 2.1, do not attempt this step until step 2.2**\n",
    "\n",
    "\n",
    "### 1.1 Program Outputs\n",
    "\n",
    "Describe your program outputs in the cell below. \n"
   ]
  },
  {
   "cell_type": "markdown",
   "metadata": {
    "editable": true,
    "label": "analysis_output_cell",
    "slideshow": {
     "slide_type": ""
    },
    "tags": []
   },
   "source": []
  },
  {
   "cell_type": "markdown",
   "metadata": {},
   "source": [
    "### 1.2 Program Inputs\n",
    "\n",
    "List out the program inputs in the cell below.\n"
   ]
  },
  {
   "cell_type": "markdown",
   "metadata": {
    "editable": true,
    "label": "analysis_input_cell",
    "slideshow": {
     "slide_type": ""
    },
    "tags": []
   },
   "source": []
  },
  {
   "cell_type": "markdown",
   "metadata": {},
   "source": [
    "### 1.3 The Plan (Algorithm)\n",
    "\n",
    "Explain, as specifically as you can, without writing code, how the program works from input to output. Be detailed with your plan as you will need to turn it into code. \n"
   ]
  },
  {
   "cell_type": "markdown",
   "metadata": {
    "label": "analysis_plan_cell",
    "tags": []
   },
   "source": []
  },
  {
   "cell_type": "markdown",
   "metadata": {},
   "source": [
    "## Part 2: Code Solution\n",
    "\n",
    "You may write your code in several cells, but place the complete, final working copy of your code solution within this single cell below. Only the within this cell will be considered your solution. Any imports or user-defined functions should be copied into this cell. "
   ]
  },
  {
   "cell_type": "code",
   "execution_count": null,
   "metadata": {
    "label": "code_solution_cell",
    "tags": []
   },
   "outputs": [],
   "source": [
    "import requests\n",
    "import pandas as pd\n",
    "import seaborn as sns\n",
    "from IPython.display import display, HTML\n",
    "from ipywidgets import interact_manual\n",
    "\n",
    "# Place your CENT IoT API Key here\n",
    "APIKEY = 'ea044c96950db6cc0fab7ae1'\n",
    "\n",
    "def extract_sentiment(text: str) -> tuple[str, str]:\n",
    "    text_input = {\"text\": text}\n",
    "    url = 'https://cent.ischool-iot.net/api/azure/sentiment'\n",
    "    headers = {'X-API-KEY': APIKEY}\n",
    "    response = requests.post(url, headers=headers, data=text_input)\n",
    "    response.raise_for_status()\n",
    "    data = response.json()\n",
    "    sentiment = data['results']['documents'][0]['sentiment']\n",
    "    return sentiment\n",
    "\n",
    "def dedupe_series(series: pd.Series, addany=True) -> list[str]:\n",
    "    items = sorted(list(series.dropna().unique()))\n",
    "    if addany:\n",
    "        items.insert(0, \"*ANY*\")\n",
    "    return items"
   ]
  },
  {
   "cell_type": "code",
   "execution_count": null,
   "metadata": {},
   "outputs": [],
   "source": []
  },
  {
   "cell_type": "code",
   "execution_count": null,
   "metadata": {},
   "outputs": [],
   "source": []
  },
  {
   "cell_type": "markdown",
   "metadata": {},
   "source": [
    "### You Code 2.1: Data Preparation\n",
    "\n",
    "Before we build the data story, we must prepare the dataset, there are 4 lines of code here:\n",
    "\n",
    "    1) read in `airline_tweets.csv` into a dataframe\n",
    "    2) Add a 'Count' Series/column to the dataframe, similar to the examples we did in the Visualization unit.\n",
    "    3) Use `pd.apply()` to call the `extract_sentiment()` function for each tweet in the dataset, making a new Seriesn/column `Sentiment`.\n",
    "    4) Save your work so you never have to do this again. Save as a csv file `\"airline_tweets_sentiment.csv\"`\n",
    "\n",
    "**If you completed this part successfully the loaded `\"airline_tweets_sentiment.csv\"` will look like this:**\n",
    "\n",
    "![https://i.imgur.com/rXQlfXS.png](https://i.imgur.com/rXQlfXS.png)\n",
    "\n",
    "**NOTE: There is no automated code check for this part**"
   ]
  },
  {
   "cell_type": "code",
   "execution_count": null,
   "metadata": {
    "code_cell_type": "write_code",
    "editable": true,
    "label": "2.1",
    "slideshow": {
     "slide_type": ""
    },
    "solution": [],
    "tags": [],
    "tests": [
     {
      "input-stream": "\n",
      "kind": "runcode",
      "search-output": [
       ""
      ]
     }
    ]
   },
   "outputs": [],
   "source": [
    "# SOLUTION CELL 2.1 Prepare the data set\n"
   ]
  },
  {
   "cell_type": "markdown",
   "metadata": {},
   "source": [
    "### You Code 2.2: Data Product\n",
    "\n",
    "In this part you will load in your prepared file: `airline_tweets_sentiment.csv`, and build `list` from the `Airline` series for the interact.\n",
    "\n",
    "The interact follows the same pattern we used in the UFO assignment: when the selected airline is not `*ANY*`, filter by the selection. Rather than showing data we output a bar chart of User / Sentiment counts.\n",
    "\n",
    "Make sure to complete the problem analysis.\n",
    "\n",
    "**NOTE: If you do this correctly, its 8 lines of code.**\n",
    "\n",
    "**There are not automated code checks for 2.2. Your work will be graded manually.**\n"
   ]
  },
  {
   "cell_type": "code",
   "execution_count": null,
   "metadata": {
    "code_cell_type": "write_code",
    "editable": true,
    "label": "2.2",
    "slideshow": {
     "slide_type": ""
    },
    "solution": [],
    "tags": [],
    "tests": [
     {
      "input-stream": "\n",
      "kind": "runcode",
      "search-output": [
       ""
      ]
     }
    ]
   },
   "outputs": [],
   "source": [
    "# SOLUTION CELL 2.2\n",
    "\n",
    "\n"
   ]
  },
  {
   "cell_type": "markdown",
   "metadata": {
    "label": "homework_questions_cell"
   },
   "source": [
    "## Part 3: Metacognition\n",
    "\n",
    "These questions are designed to prompt you to reflect on your learning. Reflection is part of the assignment grade so please take time to answer the questions thoughtfully.\n",
    "\n",
    "#### 3.1 List at least 3 things you learned this week and/or throughout the process of completing this assignment?"
   ]
  },
  {
   "cell_type": "markdown",
   "metadata": {
    "label": "learned_cell"
   },
   "source": []
  },
  {
   "cell_type": "markdown",
   "metadata": {},
   "source": [
    "#### 3.2 What were the challenges or roadblocks (if any) you encountered on the way to completing it?"
   ]
  },
  {
   "cell_type": "markdown",
   "metadata": {
    "label": "challenges_cell"
   },
   "source": []
  },
  {
   "cell_type": "markdown",
   "metadata": {},
   "source": [
    "#### 3.3 Were you prepared for this assignment? What can you do to be better prepared?"
   ]
  },
  {
   "cell_type": "markdown",
   "metadata": {
    "label": "prepared_cell"
   },
   "source": []
  },
  {
   "cell_type": "markdown",
   "metadata": {},
   "source": [
    "#### 3.4 Did someone (or something such as AI) help you? Did You help someone? Provide details. "
   ]
  },
  {
   "cell_type": "markdown",
   "metadata": {
    "label": "help_cell"
   },
   "source": []
  },
  {
   "cell_type": "markdown",
   "metadata": {},
   "source": [
    "#### 3.5  Now that you have completed the assignment rate your comfort level with this week’s material. This should be an honest assessment of your ability: \n",
    "\n",
    "**1** ==> I don't understand this at all yet and need extra help. If you choose this please try to articulate that which you do not understand to the best of your ability in the questions and comments section below.  \n",
    "**2** ==> I can do this with help or guidance from other people or resources. If you choose this level, please indicate HOW this person helped you in the questions and comments section below.   \n",
    "**3** ==> I can do this on my own without any help.   \n",
    "**4** ==> I can do this on my own and can explain/teach how to do it to others.\n",
    "\n",
    "`ENTER A NUMBER 1-4 IN THE CELL BELOW`"
   ]
  },
  {
   "cell_type": "markdown",
   "metadata": {
    "label": "comfort_cell"
   },
   "source": []
  },
  {
   "cell_type": "markdown",
   "metadata": {
    "label": ""
   },
   "source": [
    "## Part 4: Turning it in\n",
    "\n",
    "FIRST AND FOREMOST: **Save Your work!** Yes, it auto-saves, but you should get in the habit of saving before submitting. From the menu, choose File --> Save Notebook. Or you can use the shortcut keys `CTRL+S`\n",
    "\n",
    "### Homework Check\n",
    "\n",
    "Check your homework before submitting. Look for errors and incomplete parts which might cost you a better grade."
   ]
  },
  {
   "cell_type": "code",
   "execution_count": null,
   "metadata": {
    "tags": []
   },
   "outputs": [],
   "source": [
    "from casstools.notebook_tools import NotebookFile\n",
    "NotebookFile().check_homework()"
   ]
  },
  {
   "cell_type": "markdown",
   "metadata": {
    "label": ""
   },
   "source": [
    "### Homework Submission\n",
    "\n",
    "Run this code and follow the instructions to turn in your homework."
   ]
  },
  {
   "cell_type": "code",
   "execution_count": null,
   "metadata": {
    "tags": []
   },
   "outputs": [],
   "source": [
    "from casstools.assignment import Assignment\n",
    "Assignment().submit()"
   ]
  },
  {
   "cell_type": "code",
   "execution_count": null,
   "metadata": {},
   "outputs": [],
   "source": []
  }
 ],
 "metadata": {
  "anaconda-cloud": {},
  "celltoolbar": "Edit Metadata",
  "kernelspec": {
   "display_name": "Python 3 (ipykernel)",
   "language": "python",
   "name": "python3"
  },
  "language_info": {
   "codemirror_mode": {
    "name": "ipython",
    "version": 3
   },
   "file_extension": ".py",
   "mimetype": "text/x-python",
   "name": "python",
   "nbconvert_exporter": "python",
   "pygments_lexer": "ipython3",
   "version": "3.11.7"
  },
  "toc": {
   "base_numbering": 1,
   "nav_menu": {},
   "number_sections": false,
   "sideBar": false,
   "skip_h1_title": false,
   "title_cell": "Table of Contents",
   "title_sidebar": "Contents",
   "toc_cell": false,
   "toc_position": {},
   "toc_section_display": false,
   "toc_window_display": false
  },
  "varInspector": {
   "cols": {
    "lenName": 16,
    "lenType": 16,
    "lenVar": 40
   },
   "kernels_config": {
    "python": {
     "delete_cmd_postfix": "",
     "delete_cmd_prefix": "del ",
     "library": "var_list.py",
     "varRefreshCmd": "print(var_dic_list())"
    },
    "r": {
     "delete_cmd_postfix": ") ",
     "delete_cmd_prefix": "rm(",
     "library": "var_list.r",
     "varRefreshCmd": "cat(var_dic_list()) "
    }
   },
   "types_to_exclude": [
    "module",
    "function",
    "builtin_function_or_method",
    "instance",
    "_Feature"
   ],
   "window_display": false
  }
 },
 "nbformat": 4,
 "nbformat_minor": 4
}
