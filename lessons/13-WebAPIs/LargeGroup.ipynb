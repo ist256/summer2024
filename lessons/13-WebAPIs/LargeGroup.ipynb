{
 "cells": [
  {
   "cell_type": "markdown",
   "id": "d53e7546-8d08-4aa1-b583-24a697e817cb",
   "metadata": {},
   "source": [
    "# Code Samples From Large Group\n",
    "\n",
    "Place your notes and code samples from large group here.\n"
   ]
  },
  {
   "cell_type": "code",
   "execution_count": 1,
   "id": "c114571f-989c-4307-9c0c-db38707b7852",
   "metadata": {},
   "outputs": [],
   "source": [
    "import requests"
   ]
  },
  {
   "cell_type": "code",
   "execution_count": null,
   "id": "53c047de-6d49-4711-89c0-5ef81887b7e3",
   "metadata": {},
   "outputs": [],
   "source": []
  }
 ],
 "metadata": {
  "kernelspec": {
   "display_name": "Python 3 (ipykernel)",
   "language": "python",
   "name": "python3"
  },
  "language_info": {
   "codemirror_mode": {
    "name": "ipython",
    "version": 3
   },
   "file_extension": ".py",
   "mimetype": "text/x-python",
   "name": "python",
   "nbconvert_exporter": "python",
   "pygments_lexer": "ipython3",
   "version": "3.11.7"
  }
 },
 "nbformat": 4,
 "nbformat_minor": 5
}
