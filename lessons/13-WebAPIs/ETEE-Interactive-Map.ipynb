{
 "cells": [
  {
   "cell_type": "markdown",
   "metadata": {},
   "source": [
    "# End-To-End Example: Google Restaurants Map\n",
    "\n",
    "Let's import our google functions and then use folium to plot restaurants on a map.\n",
    "\n"
   ]
  },
  {
   "cell_type": "code",
   "execution_count": 1,
   "metadata": {},
   "outputs": [
    {
     "name": "stdout",
     "output_type": "stream",
     "text": [
      "importing Jupyter notebook from googleapi.ipynb\n"
     ]
    }
   ],
   "source": [
    "import requests \n",
    "import pandas as pd\n",
    "import folium\n",
    "import import_ipynb\n",
    "import googleapi \n",
    "from IPython.display import display, HTML\n",
    "from ipywidgets import interact, interactive, fixed, interact_manual\n",
    "import ipywidgets as widgets"
   ]
  },
  {
   "cell_type": "code",
   "execution_count": 2,
   "metadata": {},
   "outputs": [],
   "source": [
    "google_key = '751838d6b9978955679461c80a7df60bde4f093d'"
   ]
  },
  {
   "cell_type": "code",
   "execution_count": 3,
   "metadata": {},
   "outputs": [],
   "source": [
    "def geocode(location):\n",
    "    '''\n",
    "    using geocoding here: https://nominatim.openstreetmap.org/search\n",
    "    '''\n",
    "    query_string = {'q' : location, 'format' :'json'}\n",
    "    url = 'https://nominatim.openstreetmap.org/search'\n",
    "    response = requests.get(url, params = query_string)\n",
    "    data = response.json()\n",
    "    if type(data) == list:\n",
    "        return data[0]\n",
    "    else:\n",
    "        return data\n",
    "    "
   ]
  },
  {
   "cell_type": "code",
   "execution_count": 4,
   "metadata": {},
   "outputs": [
    {
     "data": {
      "text/html": [
       "<h1>Yummy.com Restaurants</h1>"
      ],
      "text/plain": [
       "<IPython.core.display.HTML object>"
      ]
     },
     "metadata": {},
     "output_type": "display_data"
    },
    {
     "data": {
      "application/vnd.jupyter.widget-view+json": {
       "model_id": "0a17fe0215484344bf1eaf1257ad5827",
       "version_major": 2,
       "version_minor": 0
      },
      "text/plain": [
       "interactive(children=(Text(value='', continuous_update=False, description='cuisine'), Text(value='', continuou…"
      ]
     },
     "metadata": {},
     "output_type": "display_data"
    }
   ],
   "source": [
    "display(HTML(\"<h1>Yummy.com Restaurants</h1>\"))\n",
    "interact_zomato=interact.options(manual=True, manual_name=\"Find Eateries!\")\n",
    "@interact_zomato(cuisine=\"\", city=\"\")\n",
    "def main(cuisine,city):\n",
    "    geo = geocode(city)\n",
    "    rests = googleapi.googlePlacesSearch(google_key, geo['lat'], geo['lon'], \"restaurant\", keyword=cuisine)\n",
    "    rests_df = pd.json_normalize(rests)\n",
    "    MAPCITY = (geo['lat'], geo['lon'])\n",
    "    rmap = folium.Map(location=MAPCITY, zoom_start=10, width=800, height=600)\n",
    "                    \n",
    "    for row in rests_df.to_records():\n",
    "        coords = (float(row['geometry.location.lat']),float(row['geometry.location.lng']))\n",
    "        loc = f\"<p><b>{row['name']}</b><br>{row['rating']}</p>\"\n",
    "        if row['rating'] > 4:\n",
    "            color = \"lightgreen\"\n",
    "        elif row['rating'] > 3:\n",
    "            color = 'green'\n",
    "        else:\n",
    "            color = 'darkgreen'            \n",
    "        marker = folium.Marker(location=coords, popup=loc,tooltip=loc, icon=folium.Icon(color=color))\n",
    "        rmap.add_child(marker)\n",
    "    display(rmap)"
   ]
  },
  {
   "cell_type": "code",
   "execution_count": null,
   "metadata": {},
   "outputs": [],
   "source": []
  }
 ],
 "metadata": {
  "kernelspec": {
   "display_name": "Python 3 (ipykernel)",
   "language": "python",
   "name": "python3"
  },
  "language_info": {
   "codemirror_mode": {
    "name": "ipython",
    "version": 3
   },
   "file_extension": ".py",
   "mimetype": "text/x-python",
   "name": "python",
   "nbconvert_exporter": "python",
   "pygments_lexer": "ipython3",
   "version": "3.11.7"
  },
  "varInspector": {
   "cols": {
    "lenName": 16,
    "lenType": 16,
    "lenVar": 40
   },
   "kernels_config": {
    "python": {
     "delete_cmd_postfix": "",
     "delete_cmd_prefix": "del ",
     "library": "var_list.py",
     "varRefreshCmd": "print(var_dic_list())"
    },
    "r": {
     "delete_cmd_postfix": ") ",
     "delete_cmd_prefix": "rm(",
     "library": "var_list.r",
     "varRefreshCmd": "cat(var_dic_list()) "
    }
   },
   "types_to_exclude": [
    "module",
    "function",
    "builtin_function_or_method",
    "instance",
    "_Feature"
   ],
   "window_display": false
  }
 },
 "nbformat": 4,
 "nbformat_minor": 4
}
