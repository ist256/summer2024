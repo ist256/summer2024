{
 "cells": [
  {
   "cell_type": "markdown",
   "id": "2c6278ef-9a31-4993-9187-2e14d8356589",
   "metadata": {},
   "source": [
    "# Watch Me Code 2\n",
    "\n",
    " - CENT IoT portal https://cent.ischool-iot.net\n",
    " - Get your API Key\n",
    " - Swagger Docs so you can try API's\n",
    " - Let's call the geocode and weather api's\n",
    " - Converting a CURL to Python requests\n",
    " - The hardest part is extracting from the JSON... and its not that hard!"
   ]
  },
  {
   "cell_type": "code",
   "execution_count": 2,
   "id": "94ad6e2e-5e5f-4f29-a25e-b9fa91e303ab",
   "metadata": {
    "tags": []
   },
   "outputs": [],
   "source": [
    "import requests"
   ]
  },
  {
   "cell_type": "code",
   "execution_count": 3,
   "id": "dee6d24a-f00d-4f5f-9f57-98060c0bf3ab",
   "metadata": {
    "tags": []
   },
   "outputs": [],
   "source": [
    "querystring = {\"location\": \"Syracuse, NY\"}\n",
    "url = \"https://cent.ischool-iot.net/api/google/geocode\"\n",
    "headers = {'X-API-KEY': 'yoursgoeshere'}\n",
    "response = requests.get(url, params=querystring, headers=headers)\n",
    "response.raise_for_status()\n",
    "loc = response.json()"
   ]
  },
  {
   "cell_type": "code",
   "execution_count": 4,
   "id": "a6150206-1c4b-48e0-b476-b3e8c3d8f12a",
   "metadata": {
    "tags": []
   },
   "outputs": [
    {
     "data": {
      "text/plain": [
       "{'results': [{'address_components': [{'long_name': 'Syracuse',\n",
       "     'short_name': 'Syracuse',\n",
       "     'types': ['locality', 'political']},\n",
       "    {'long_name': 'Onondaga County',\n",
       "     'short_name': 'Onondaga County',\n",
       "     'types': ['administrative_area_level_2', 'political']},\n",
       "    {'long_name': 'New York',\n",
       "     'short_name': 'NY',\n",
       "     'types': ['administrative_area_level_1', 'political']},\n",
       "    {'long_name': 'United States',\n",
       "     'short_name': 'US',\n",
       "     'types': ['country', 'political']}],\n",
       "   'formatted_address': 'Syracuse, NY, USA',\n",
       "   'geometry': {'bounds': {'northeast': {'lat': 43.0861018,\n",
       "      'lng': -76.0740841},\n",
       "     'southwest': {'lat': 42.984366, 'lng': -76.20447600000001}},\n",
       "    'location': {'lat': 43.0481221, 'lng': -76.14742439999999},\n",
       "    'location_type': 'APPROXIMATE',\n",
       "    'viewport': {'northeast': {'lat': 43.0861018, 'lng': -76.0740841},\n",
       "     'southwest': {'lat': 42.984366, 'lng': -76.20447600000001}}},\n",
       "   'place_id': 'ChIJDZqXv5vz2YkRRZWt1-IM1QA',\n",
       "   'types': ['locality', 'political']}],\n",
       " 'status': 'OK'}"
      ]
     },
     "execution_count": 4,
     "metadata": {},
     "output_type": "execute_result"
    }
   ],
   "source": [
    "loc"
   ]
  },
  {
   "cell_type": "code",
   "execution_count": 5,
   "id": "732c8862-8194-4ee1-b8aa-1f3747e62375",
   "metadata": {
    "tags": []
   },
   "outputs": [
    {
     "name": "stdout",
     "output_type": "stream",
     "text": [
      "{'lat': 43.0481221, 'lng': -76.14742439999999}\n"
     ]
    }
   ],
   "source": [
    "latlon = loc['results'][0]['geometry']['location']\n",
    "print(latlon)"
   ]
  },
  {
   "cell_type": "code",
   "execution_count": null,
   "id": "b93a61b5-3b56-49cd-9823-3e03872d8f98",
   "metadata": {},
   "outputs": [],
   "source": [
    "# now let's do the weather!\n",
    "curl -X 'GET' \\\n",
    "  'https://cent.ischool-iot.net/api/weather/current?units=imperial&lon=-76.1474243999999&lat=43.0481221' \\\n",
    "  -H 'accept: application/json' \\\n",
    "  -H 'X-API-KEY: yoursgoeshere'"
   ]
  },
  {
   "cell_type": "code",
   "execution_count": 6,
   "id": "5c101840-15ef-4cae-9ca8-afc391c51c07",
   "metadata": {
    "tags": []
   },
   "outputs": [],
   "source": [
    "querystring = {\n",
    "    'units': 'imperial',\n",
    "    'lat': latlon['lat'],\n",
    "    'lon': latlon['lng']\n",
    "}\n",
    "url = \"https://cent.ischool-iot.net/api/weather/current\"\n",
    "\n",
    "#The rest is the same....\n",
    "headers = {'X-API-KEY': 'yoursgoeshere'}\n",
    "response = requests.get(url, params=querystring, headers=headers)\n",
    "response.raise_for_status()\n",
    "weather = response.json()"
   ]
  },
  {
   "cell_type": "code",
   "execution_count": 7,
   "id": "0da9ae77-9fcb-41e2-aa7b-8c50a3bb5de2",
   "metadata": {
    "tags": []
   },
   "outputs": [
    {
     "data": {
      "text/plain": [
       "{'latitude': 43.053074,\n",
       " 'longitude': -76.15549,\n",
       " 'generationtime_ms': 0.14698505401611328,\n",
       " 'utc_offset_seconds': 0,\n",
       " 'timezone': 'GMT',\n",
       " 'timezone_abbreviation': 'GMT',\n",
       " 'elevation': 126.0,\n",
       " 'current_units': {'time': 'iso8601',\n",
       "  'interval': 'seconds',\n",
       "  'temperature_2m': '°F',\n",
       "  'relative_humidity_2m': '%',\n",
       "  'apparent_temperature': '°F',\n",
       "  'is_day': '',\n",
       "  'precipitation': 'inch',\n",
       "  'rain': 'inch',\n",
       "  'showers': 'inch',\n",
       "  'snowfall': 'inch',\n",
       "  'weather_code': 'wmo code',\n",
       "  'cloud_cover': '%',\n",
       "  'pressure_msl': 'hPa',\n",
       "  'surface_pressure': 'hPa',\n",
       "  'wind_speed_10m': 'mp/h',\n",
       "  'wind_direction_10m': '°',\n",
       "  'wind_gusts_10m': 'mp/h'},\n",
       " 'current': {'time': '2024-04-18T20:30',\n",
       "  'interval': 900,\n",
       "  'temperature_2m': 51.1,\n",
       "  'relative_humidity_2m': 95,\n",
       "  'apparent_temperature': 49.4,\n",
       "  'is_day': 1,\n",
       "  'precipitation': 0.0,\n",
       "  'rain': 0.0,\n",
       "  'showers': 0.0,\n",
       "  'snowfall': 0.0,\n",
       "  'weather_code': 3,\n",
       "  'cloud_cover': 100,\n",
       "  'pressure_msl': 1017.1,\n",
       "  'surface_pressure': 1001.8,\n",
       "  'wind_speed_10m': 4.0,\n",
       "  'wind_direction_10m': 71,\n",
       "  'wind_gusts_10m': 4.3}}"
      ]
     },
     "execution_count": 7,
     "metadata": {},
     "output_type": "execute_result"
    }
   ],
   "source": [
    "weather"
   ]
  },
  {
   "cell_type": "code",
   "execution_count": 8,
   "id": "0f6978a7-bffb-4230-b79b-f7243526142c",
   "metadata": {
    "tags": []
   },
   "outputs": [],
   "source": [
    "temp = weather['current']['apparent_temperature']"
   ]
  },
  {
   "cell_type": "code",
   "execution_count": 9,
   "id": "00a439b4-7219-4742-9216-425eb7d816d9",
   "metadata": {
    "tags": []
   },
   "outputs": [
    {
     "data": {
      "text/plain": [
       "49.4"
      ]
     },
     "execution_count": 9,
     "metadata": {},
     "output_type": "execute_result"
    }
   ],
   "source": [
    "temp"
   ]
  },
  {
   "cell_type": "code",
   "execution_count": null,
   "id": "cbb45da1-1bd8-40f5-8fca-7de51c0da8d4",
   "metadata": {},
   "outputs": [],
   "source": []
  }
 ],
 "metadata": {
  "kernelspec": {
   "display_name": "Python 3 (ipykernel)",
   "language": "python",
   "name": "python3"
  },
  "language_info": {
   "codemirror_mode": {
    "name": "ipython",
    "version": 3
   },
   "file_extension": ".py",
   "mimetype": "text/x-python",
   "name": "python",
   "nbconvert_exporter": "python",
   "pygments_lexer": "ipython3",
   "version": "3.11.7"
  }
 },
 "nbformat": 4,
 "nbformat_minor": 5
}
