{
 "cells": [
  {
   "cell_type": "markdown",
   "metadata": {
    "editable": true,
    "slideshow": {
     "slide_type": "slide"
    },
    "tags": []
   },
   "source": [
    "# IST256 Introduction to Python for the Information Profession\n",
    "## Small Group Spring 2024\n",
    "\n",
    "Professors:\n",
    "\n",
    "- Michael Fudge\n",
    "- Yuheun Kim\n",
    "- Deborah Nosky\n",
    "- Angela Ramnarine-Rieks\n",
    "- Nina Schnieder\n",
    "- Daniel Smith"
   ]
  },
  {
   "cell_type": "markdown",
   "metadata": {
    "editable": true,
    "slideshow": {
     "slide_type": "slide"
    },
    "tags": []
   },
   "source": [
    "# About This Course\n",
    "\n",
    "- The course is for people new to programming.\n",
    "- No Experience Required!\n",
    "- We will Learn Python, the most Popular programming language.\n",
    "- Very suited for data-oriented tasks.\n",
    "- Course focuses on how to do it + why you should care.\n",
    "- Learning to code is a valuable skill. Makes you a better problem solver.\n",
    "- Practice makes perfect. We learn through struggle. This course will impose a lot of practice on you.\n"
   ]
  },
  {
   "cell_type": "markdown",
   "metadata": {
    "editable": true,
    "jp-MarkdownHeadingCollapsed": true,
    "slideshow": {
     "slide_type": "slide"
    },
    "tags": []
   },
   "source": [
    "# Agenda\n",
    "\n",
    "1. Meet and Greet\n",
    "2. Syllabus [https://ist256.com/syllabus](https://ist256.com/syllabus)\n",
    "3. Jupyterhub [https://v2hub.ischool.syr.edu](https://v2hub.ischool.syr.edu)\n",
    "4. Your TODO's for Next Week"
   ]
  },
  {
   "cell_type": "markdown",
   "metadata": {
    "editable": true,
    "slideshow": {
     "slide_type": "slide"
    },
    "tags": []
   },
   "source": [
    "# 1. Meet and Greet\n",
    "\n",
    "- Your Name\n",
    "- Major\n",
    "- What you are hoping to learn from the course\n"
   ]
  },
  {
   "cell_type": "markdown",
   "metadata": {
    "editable": true,
    "slideshow": {
     "slide_type": "slide"
    },
    "tags": []
   },
   "source": [
    "# 2. Syllabus https://ist256.com/syllabus\n",
    "\n",
    "1. Understanding the learning model in this course\n",
    "   - What is due each week, what we will do in small group / large group\n",
    "3. Methods of Evaluation\n",
    "4. Course Specific Policies (Honor Code, AI, Getting Help, Extra Credit)\n",
    "5. Course Schedule"
   ]
  },
  {
   "cell_type": "markdown",
   "metadata": {
    "editable": true,
    "slideshow": {
     "slide_type": "slide"
    },
    "tags": []
   },
   "source": [
    "# 3. Jupyterhub  https://v2hub.ischool.syr.edu\n",
    "\n",
    "1. The main Screen and Progress Bar\n",
    "2. `README.ipynb`\n",
    "3. Files in a Typical Lesson"
   ]
  },
  {
   "cell_type": "markdown",
   "metadata": {
    "editable": true,
    "slideshow": {
     "slide_type": "slide"
    },
    "tags": []
   },
   "source": [
    "# Let's try some things in Jupyterhub\n",
    "\n",
    "- Create your own notebook and save it\n",
    "- Run code\n",
    "- Opening up an assignment file... how do we know its an assignment?\n",
    "- Turning it in"
   ]
  },
  {
   "cell_type": "markdown",
   "metadata": {
    "editable": true,
    "slideshow": {
     "slide_type": "slide"
    },
    "tags": []
   },
   "source": [
    "# Learn More about Jupyterhub\n",
    "\n",
    " Quick Introduction to Jupyter Notebook, by Michael Fudge\n",
    "\n",
    " https://www.youtube.com/watch?v=jZ952vChhuI\n"
   ]
  },
  {
   "cell_type": "markdown",
   "metadata": {
    "editable": true,
    "slideshow": {
     "slide_type": "slide"
    },
    "tags": []
   },
   "source": [
    "# 4. TODO's for Next Week\n",
    "\n",
    "What are your todos for next week?\n",
    "\n",
    "1. What lesson is it?\n",
    "2. What should be read before monday's class?\n",
    "3. What is due when?\n",
    "4. Other questions?"
   ]
  },
  {
   "cell_type": "markdown",
   "metadata": {
    "editable": true,
    "slideshow": {
     "slide_type": "slide"
    },
    "tags": []
   },
   "source": [
    "# Thank You\n",
    "\n",
    "Final Questions?"
   ]
  },
  {
   "cell_type": "code",
   "execution_count": null,
   "metadata": {
    "editable": true,
    "slideshow": {
     "slide_type": "slide"
    },
    "tags": []
   },
   "outputs": [],
   "source": []
  }
 ],
 "metadata": {
  "kernelspec": {
   "display_name": "Python 3 (ipykernel)",
   "language": "python",
   "name": "python3"
  },
  "language_info": {
   "codemirror_mode": {
    "name": "ipython",
    "version": 3
   },
   "file_extension": ".py",
   "mimetype": "text/x-python",
   "name": "python",
   "nbconvert_exporter": "python",
   "pygments_lexer": "ipython3",
   "version": "3.11.7"
  }
 },
 "nbformat": 4,
 "nbformat_minor": 4
}
