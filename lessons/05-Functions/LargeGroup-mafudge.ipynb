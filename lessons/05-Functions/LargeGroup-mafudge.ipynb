{
 "cells": [
  {
   "cell_type": "markdown",
   "metadata": {},
   "source": [
    "# Code Samples From Large Group\n",
    "\n",
    "Place your notes and code samples from large group here."
   ]
  },
  {
   "cell_type": "code",
   "execution_count": 15,
   "metadata": {},
   "outputs": [],
   "source": [
    "# inputs  \\/   \\/    \\/\n",
    "def add(num1, num2, num3):\n",
    "    #process\n",
    "    total = num1 + num2 + num3\n",
    "    #output\n",
    "    return total # <== output"
   ]
  },
  {
   "cell_type": "code",
   "execution_count": 7,
   "metadata": {
    "tags": []
   },
   "outputs": [
    {
     "data": {
      "text/plain": [
       "21"
      ]
     },
     "execution_count": 7,
     "metadata": {},
     "output_type": "execute_result"
    }
   ],
   "source": [
    "add(5, 6, 10)"
   ]
  },
  {
   "cell_type": "code",
   "execution_count": 8,
   "metadata": {
    "tags": []
   },
   "outputs": [],
   "source": [
    "import random"
   ]
  },
  {
   "cell_type": "code",
   "execution_count": 13,
   "metadata": {
    "tags": []
   },
   "outputs": [
    {
     "data": {
      "text/plain": [
       "6"
      ]
     },
     "execution_count": 13,
     "metadata": {},
     "output_type": "execute_result"
    }
   ],
   "source": [
    "random.randint(4, 6)"
   ]
  },
  {
   "cell_type": "code",
   "execution_count": 19,
   "metadata": {
    "tags": []
   },
   "outputs": [
    {
     "name": "stdin",
     "output_type": "stream",
     "text": [
      "Enter number a : 1\n",
      "Enter number b : 1\n",
      "Enter number c : 1\n"
     ]
    },
    {
     "name": "stdout",
     "output_type": "stream",
     "text": [
      "The sum of 1,1,1 is 3\n"
     ]
    }
   ],
   "source": [
    "a = int(input(\"Enter number a :\"))\n",
    "b = int(input(\"Enter number b :\"))\n",
    "c = int(input(\"Enter number c :\"))\n",
    "total = add(a, b, c)\n",
    "print(f\"The sum of {a},{b},{c} is {total}\")"
   ]
  },
  {
   "cell_type": "code",
   "execution_count": 20,
   "metadata": {
    "tags": []
   },
   "outputs": [],
   "source": [
    "def add(num1: float, num2: float, num3: float) -> float:\n",
    "    '''\n",
    "    This will add up num1, num2 and num3\n",
    "    returning their total as output.\n",
    "    '''\n",
    "    total = num1 + num2 + num3\n",
    "    return total"
   ]
  },
  {
   "cell_type": "code",
   "execution_count": 22,
   "metadata": {
    "tags": []
   },
   "outputs": [
    {
     "data": {
      "text/plain": [
       "11"
      ]
     },
     "execution_count": 22,
     "metadata": {},
     "output_type": "execute_result"
    }
   ],
   "source": [
    "add(num1=5, num3=5, num2=1)\n"
   ]
  },
  {
   "cell_type": "code",
   "execution_count": 23,
   "metadata": {
    "tags": []
   },
   "outputs": [],
   "source": [
    "import math"
   ]
  },
  {
   "cell_type": "code",
   "execution_count": 25,
   "metadata": {
    "tags": []
   },
   "outputs": [
    {
     "data": {
      "text/plain": [
       "46"
      ]
     },
     "execution_count": 25,
     "metadata": {},
     "output_type": "execute_result"
    }
   ],
   "source": [
    "math.ceil(45.2)"
   ]
  },
  {
   "cell_type": "code",
   "execution_count": 30,
   "metadata": {
    "tags": []
   },
   "outputs": [
    {
     "name": "stdout",
     "output_type": "stream",
     "text": [
      "Requirement already satisfied: gTTS in /home/jovyan/.local/lib/python3.11/site-packages (2.5.1)\n",
      "Requirement already satisfied: requests<3,>=2.27 in /home/jovyan/.local/lib/python3.11/site-packages (from gTTS) (2.31.0)\n",
      "Requirement already satisfied: click<8.2,>=7.1 in /home/jovyan/.local/lib/python3.11/site-packages (from gTTS) (8.1.7)\n",
      "Requirement already satisfied: charset-normalizer<4,>=2 in /home/jovyan/.local/lib/python3.11/site-packages (from requests<3,>=2.27->gTTS) (3.3.2)\n",
      "Requirement already satisfied: idna<4,>=2.5 in /home/jovyan/.local/lib/python3.11/site-packages (from requests<3,>=2.27->gTTS) (3.6)\n",
      "Requirement already satisfied: urllib3<3,>=1.21.1 in /home/jovyan/.local/lib/python3.11/site-packages (from requests<3,>=2.27->gTTS) (2.2.1)\n",
      "Requirement already satisfied: certifi>=2017.4.17 in /home/jovyan/.local/lib/python3.11/site-packages (from requests<3,>=2.27->gTTS) (2024.2.2)\n"
     ]
    }
   ],
   "source": [
    "!pip install gTTS"
   ]
  },
  {
   "cell_type": "code",
   "execution_count": 31,
   "metadata": {
    "tags": []
   },
   "outputs": [],
   "source": [
    "from gtts import gTTS\n",
    "tts = gTTS(\"This is a test!\")\n",
    "tts.save(\"hello.mp3\")"
   ]
  },
  {
   "cell_type": "code",
   "execution_count": 32,
   "metadata": {
    "tags": []
   },
   "outputs": [],
   "source": [
    "from IPython.display import display, Audio"
   ]
  },
  {
   "cell_type": "code",
   "execution_count": 35,
   "metadata": {
    "tags": []
   },
   "outputs": [
    {
     "data": {
      "text/html": [
       "\n",
       "                <audio  controls=\"controls\" autoplay=\"autoplay\">\n",
       "                    <source src=\"data:audio/mpeg;base64,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\" type=\"audio/mpeg\" />\n",
       "                    Your browser does not support the audio element.\n",
       "                </audio>\n",
       "              "
      ],
      "text/plain": [
       "<IPython.lib.display.Audio object>"
      ]
     },
     "execution_count": 35,
     "metadata": {},
     "output_type": "execute_result"
    }
   ],
   "source": [
    "Audio(filename=\"hello.mp3\", autoplay=True)"
   ]
  },
  {
   "cell_type": "code",
   "execution_count": 34,
   "metadata": {
    "tags": []
   },
   "outputs": [
    {
     "data": {
      "text/plain": [
       "1"
      ]
     },
     "execution_count": 34,
     "metadata": {},
     "output_type": "execute_result"
    }
   ],
   "source": [
    "a"
   ]
  },
  {
   "cell_type": "code",
   "execution_count": 37,
   "metadata": {
    "tags": []
   },
   "outputs": [
    {
     "name": "stdin",
     "output_type": "stream",
     "text": [
      "Enter text: Let's Go!!\n"
     ]
    },
    {
     "data": {
      "text/html": [
       "\n",
       "                <audio  controls=\"controls\" autoplay=\"autoplay\">\n",
       "                    <source src=\"data:audio/mpeg;base64,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\" type=\"audio/mpeg\" />\n",
       "                    Your browser does not support the audio element.\n",
       "                </audio>\n",
       "              "
      ],
      "text/plain": [
       "<IPython.lib.display.Audio object>"
      ]
     },
     "metadata": {},
     "output_type": "display_data"
    }
   ],
   "source": [
    "text = input(\"Enter text:\")\n",
    "convert = gTTS(text, slow=False)\n",
    "convert.save(\"demo.mp3\")\n",
    "display(Audio(filename=\"demo.mp3\", autoplay=True))"
   ]
  },
  {
   "cell_type": "code",
   "execution_count": 45,
   "metadata": {
    "tags": []
   },
   "outputs": [],
   "source": [
    "def speak(text: str, make_it_autoplay=False):\n",
    "    '''\n",
    "    Converts text to speech using Google Text-To-Speech\n",
    "    Then returns an Audio Widget for display\n",
    "    '''\n",
    "    tts = gTTS(text)\n",
    "    tts.save(\"demo.mp3\")\n",
    "    audio_widget = Audio(filename=\"demo.mp3\", autoplay=make_it_autoplay)\n",
    "    return audio_widget"
   ]
  },
  {
   "cell_type": "code",
   "execution_count": 46,
   "metadata": {
    "tags": []
   },
   "outputs": [
    {
     "data": {
      "text/html": [
       "\n",
       "                <audio  controls=\"controls\" autoplay=\"autoplay\">\n",
       "                    <source src=\"data:audio/mpeg;base64,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\" type=\"audio/mpeg\" />\n",
       "                    Your browser does not support the audio element.\n",
       "                </audio>\n",
       "              "
      ],
      "text/plain": [
       "<IPython.lib.display.Audio object>"
      ]
     },
     "execution_count": 46,
     "metadata": {},
     "output_type": "execute_result"
    }
   ],
   "source": [
    "speak(\"Welcome!\", make_it_autoplay=True)"
   ]
  },
  {
   "cell_type": "code",
   "execution_count": 47,
   "metadata": {
    "tags": []
   },
   "outputs": [],
   "source": [
    "import math"
   ]
  },
  {
   "cell_type": "code",
   "execution_count": 49,
   "metadata": {
    "tags": []
   },
   "outputs": [],
   "source": [
    "from math import ceil"
   ]
  },
  {
   "cell_type": "code",
   "execution_count": 52,
   "metadata": {
    "tags": []
   },
   "outputs": [
    {
     "data": {
      "text/plain": [
       "['__doc__',\n",
       " '__file__',\n",
       " '__loader__',\n",
       " '__name__',\n",
       " '__package__',\n",
       " '__spec__',\n",
       " 'acos',\n",
       " 'acosh',\n",
       " 'asin',\n",
       " 'asinh',\n",
       " 'atan',\n",
       " 'atan2',\n",
       " 'atanh',\n",
       " 'cbrt',\n",
       " 'ceil',\n",
       " 'comb',\n",
       " 'copysign',\n",
       " 'cos',\n",
       " 'cosh',\n",
       " 'degrees',\n",
       " 'dist',\n",
       " 'e',\n",
       " 'erf',\n",
       " 'erfc',\n",
       " 'exp',\n",
       " 'exp2',\n",
       " 'expm1',\n",
       " 'fabs',\n",
       " 'factorial',\n",
       " 'floor',\n",
       " 'fmod',\n",
       " 'frexp',\n",
       " 'fsum',\n",
       " 'gamma',\n",
       " 'gcd',\n",
       " 'hypot',\n",
       " 'inf',\n",
       " 'isclose',\n",
       " 'isfinite',\n",
       " 'isinf',\n",
       " 'isnan',\n",
       " 'isqrt',\n",
       " 'lcm',\n",
       " 'ldexp',\n",
       " 'lgamma',\n",
       " 'log',\n",
       " 'log10',\n",
       " 'log1p',\n",
       " 'log2',\n",
       " 'modf',\n",
       " 'nan',\n",
       " 'nextafter',\n",
       " 'perm',\n",
       " 'pi',\n",
       " 'pow',\n",
       " 'prod',\n",
       " 'radians',\n",
       " 'remainder',\n",
       " 'sin',\n",
       " 'sinh',\n",
       " 'sqrt',\n",
       " 'tan',\n",
       " 'tanh',\n",
       " 'tau',\n",
       " 'trunc',\n",
       " 'ulp']"
      ]
     },
     "execution_count": 52,
     "metadata": {},
     "output_type": "execute_result"
    }
   ],
   "source": [
    "dir(math)"
   ]
  },
  {
   "cell_type": "code",
   "execution_count": 53,
   "metadata": {
    "tags": []
   },
   "outputs": [
    {
     "name": "stdout",
     "output_type": "stream",
     "text": [
      "Help on built-in function ulp in module math:\n",
      "\n",
      "ulp(x, /)\n",
      "    Return the value of the least significant bit of the float x.\n",
      "\n"
     ]
    }
   ],
   "source": [
    "help(math.ulp)"
   ]
  },
  {
   "cell_type": "code",
   "execution_count": 54,
   "metadata": {
    "tags": []
   },
   "outputs": [
    {
     "data": {
      "text/plain": [
       "\u001b[0;31mSignature:\u001b[0m \u001b[0mmath\u001b[0m\u001b[0;34m.\u001b[0m\u001b[0mulp\u001b[0m\u001b[0;34m(\u001b[0m\u001b[0mx\u001b[0m\u001b[0;34m,\u001b[0m \u001b[0;34m/\u001b[0m\u001b[0;34m)\u001b[0m\u001b[0;34m\u001b[0m\u001b[0;34m\u001b[0m\u001b[0m\n",
       "\u001b[0;31mDocstring:\u001b[0m Return the value of the least significant bit of the float x.\n",
       "\u001b[0;31mType:\u001b[0m      builtin_function_or_method"
      ]
     },
     "metadata": {},
     "output_type": "display_data"
    }
   ],
   "source": [
    "math.ulp?"
   ]
  },
  {
   "cell_type": "code",
   "execution_count": 57,
   "metadata": {
    "tags": []
   },
   "outputs": [],
   "source": [
    "import math as newmath"
   ]
  },
  {
   "cell_type": "code",
   "execution_count": 58,
   "metadata": {
    "tags": []
   },
   "outputs": [],
   "source": [
    "import pandas"
   ]
  },
  {
   "cell_type": "code",
   "execution_count": 59,
   "metadata": {
    "tags": []
   },
   "outputs": [],
   "source": [
    "from ipywidgets import interact_manual"
   ]
  },
  {
   "cell_type": "code",
   "execution_count": 61,
   "metadata": {
    "tags": []
   },
   "outputs": [
    {
     "data": {
      "application/vnd.jupyter.widget-view+json": {
       "model_id": "638d8dd9d8634d5388aa4b49a71c4797",
       "version_major": 2,
       "version_minor": 0
      },
      "text/plain": [
       "interactive(children=(Text(value='', continuous_update=False, description='text'), Button(description='Run Int…"
      ]
     },
     "metadata": {},
     "output_type": "display_data"
    }
   ],
   "source": [
    "@interact_manual(text=\"\")\n",
    "def onclick(text):\n",
    "    print(text)"
   ]
  },
  {
   "cell_type": "code",
   "execution_count": 67,
   "metadata": {
    "tags": []
   },
   "outputs": [
    {
     "data": {
      "application/vnd.jupyter.widget-view+json": {
       "model_id": "d4e93b1c706c485e8c95e93e75538bea",
       "version_major": 2,
       "version_minor": 0
      },
      "text/plain": [
       "interactive(children=(Text(value='Bill', continuous_update=False, description='name'), IntSlider(value=50, des…"
      ]
     },
     "metadata": {},
     "output_type": "display_data"
    }
   ],
   "source": [
    "choices = ['rock', 'paper', 'scissors']\n",
    "@interact_manual(name=\"Bill\", age=(1,100), choice=choices)\n",
    "def onclick(name, age, choice):\n",
    "    print(name, age, choice)"
   ]
  },
  {
   "cell_type": "code",
   "execution_count": null,
   "metadata": {},
   "outputs": [],
   "source": []
  }
 ],
 "metadata": {
  "kernelspec": {
   "display_name": "Python 3 (ipykernel)",
   "language": "python",
   "name": "python3"
  },
  "language_info": {
   "codemirror_mode": {
    "name": "ipython",
    "version": 3
   },
   "file_extension": ".py",
   "mimetype": "text/x-python",
   "name": "python",
   "nbconvert_exporter": "python",
   "pygments_lexer": "ipython3",
   "version": "3.11.7"
  },
  "varInspector": {
   "cols": {
    "lenName": 16,
    "lenType": 16,
    "lenVar": 40
   },
   "kernels_config": {
    "python": {
     "delete_cmd_postfix": "",
     "delete_cmd_prefix": "del ",
     "library": "var_list.py",
     "varRefreshCmd": "print(var_dic_list())"
    },
    "r": {
     "delete_cmd_postfix": ") ",
     "delete_cmd_prefix": "rm(",
     "library": "var_list.r",
     "varRefreshCmd": "cat(var_dic_list()) "
    }
   },
   "position": {
    "height": "209.852px",
    "left": "603.5px",
    "right": "20px",
    "top": "120px",
    "width": "329px"
   },
   "types_to_exclude": [
    "module",
    "function",
    "builtin_function_or_method",
    "instance",
    "_Feature"
   ],
   "window_display": false
  }
 },
 "nbformat": 4,
 "nbformat_minor": 4
}
