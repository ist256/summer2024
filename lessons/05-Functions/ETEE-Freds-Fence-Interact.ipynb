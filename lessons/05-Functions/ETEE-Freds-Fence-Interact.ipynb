{
 "cells": [
  {
   "cell_type": "markdown",
   "metadata": {},
   "source": [
    "# Functions and the Write / Refactor / Test / Re-Write approach\n",
    "\n",
    "A common approach used when writing function is to\n",
    "\n",
    "1. Write the code without the function\n",
    "2. Refactor the programming logic (processing part) into a user-defined function with `def`\n",
    "    - input should be a variables passed in as `arguments`\n",
    "    - output should be variables that are part of `return` \n",
    "    - no \"print\" or \"input\" in your function - only \"processing\n",
    "3. Test your function by calling it. You should expect to know what the output is so you understand if it works correctly.\n",
    "4. Re-Write your original problem to now call the function you created.\n",
    "  "
   ]
  },
  {
   "cell_type": "code",
   "execution_count": null,
   "metadata": {},
   "outputs": [],
   "source": [
    "# STEP 1: Write: orginal fred's fence\n",
    "import math \n",
    "length = float(input(\"Enter length of Yard: \"))\n",
    "width = float(input(\"Enter width of Yard: \"))\n",
    "perimeter = 2 * (length + width)\n",
    "sections = math.ceil(perimeter / 6)\n",
    "print(perimeter, sections)"
   ]
  },
  {
   "cell_type": "code",
   "execution_count": null,
   "metadata": {},
   "outputs": [],
   "source": [
    "# STEP 2: Re-Factor into a function:\n",
    "def fence_calc(length, width):\n",
    "    perimeter = 2 * (length + width )\n",
    "    sections = math.ceil(perimeter / 6)\n",
    "    return perimeter, sections # we return 2 things"
   ]
  },
  {
   "cell_type": "code",
   "execution_count": null,
   "metadata": {},
   "outputs": [],
   "source": [
    "# STEP 2: Just a quick call to the function with an assignment statement to the 2 variables it returns. \n",
    "\n",
    "perm,num_sects = fence_calc(6,6)\n",
    "print(perm, num_sects)"
   ]
  },
  {
   "cell_type": "code",
   "execution_count": null,
   "metadata": {},
   "outputs": [],
   "source": [
    "# STEP 3: test so we know the function \"works\" using the human eyeball method.\n",
    "print(f\"When length=10,Width=20, EXPECT: fence_calc(10,20)==(60, 10), ACTUAL: \", fence_calc(10,20))"
   ]
  },
  {
   "cell_type": "code",
   "execution_count": null,
   "metadata": {},
   "outputs": [],
   "source": [
    "# STEP 3: test quietly with assert instead of print\n",
    "assert fence_calc(10,20)==(60,10)\n",
    "assert fence_calc(6,6)==(24,4)"
   ]
  },
  {
   "cell_type": "code",
   "execution_count": null,
   "metadata": {},
   "outputs": [],
   "source": [
    "# STEP 4: Re-write program now calling the function, I typically copy down the entire original pgm here: \n",
    "\n",
    "length = float(input(\"Enter length of Yard: \"))\n",
    "width = float(input(\"Enter width of Yard: \"))\n",
    "perimeter, sections = fence_calc(length,width)\n",
    "print(f\"Fence Perimeter: {perimeter}\")\n",
    "print(f\"{sections} six foot sections are required.\")\n"
   ]
  },
  {
   "cell_type": "code",
   "execution_count": null,
   "metadata": {},
   "outputs": [],
   "source": [
    "# Step 5: Use interact_manual instead of input statements.\n",
    "\n",
    "#This is a great example of perfect code structure. Imports, user written functions, start up work, interact to collect input, use that input and\n",
    "#Call your user written functions. \n",
    "\n",
    "## To test this cell for the last final run ALWAYS Restart Kernel and Clear All Output. Then just run this cell.\n",
    "## What happened?\n",
    "## How do you fix it?\n",
    "\n",
    "\n",
    "from IPython.display import display, HTML # Notebook output\n",
    "from ipywidgets import interact_manual,interact  # notebook input\n",
    "\n",
    "def fence_calc(length, width):\n",
    "    perimeter = 2 * (length + width )\n",
    "    sections = math.ceil(perimeter / 6)\n",
    "    return perimeter, sections     # we return 2 things\n",
    "\n",
    "display(HTML(\"<h1>Fred's Fence Calculator</h1>\"))\n",
    "\n",
    "@interact_manual(length=(0,100,10), width=(0,100) )\n",
    "def main(length, width):\n",
    "    perimeter, sections = fence_calc(length, width)\n",
    "    display(f\"Total Fence Length: {perimeter}\")\n",
    "    display(f\"Number of 6ft sections required: {sections}\")\n",
    "    "
   ]
  }
 ],
 "metadata": {
  "kernelspec": {
   "display_name": "Python 3 (ipykernel)",
   "language": "python",
   "name": "python3"
  },
  "language_info": {
   "codemirror_mode": {
    "name": "ipython",
    "version": 3
   },
   "file_extension": ".py",
   "mimetype": "text/x-python",
   "name": "python",
   "nbconvert_exporter": "python",
   "pygments_lexer": "ipython3",
   "version": "3.11.7"
  },
  "varInspector": {
   "cols": {
    "lenName": 16,
    "lenType": 16,
    "lenVar": 40
   },
   "kernels_config": {
    "python": {
     "delete_cmd_postfix": "",
     "delete_cmd_prefix": "del ",
     "library": "var_list.py",
     "varRefreshCmd": "print(var_dic_list())"
    },
    "r": {
     "delete_cmd_postfix": ") ",
     "delete_cmd_prefix": "rm(",
     "library": "var_list.r",
     "varRefreshCmd": "cat(var_dic_list()) "
    }
   },
   "types_to_exclude": [
    "module",
    "function",
    "builtin_function_or_method",
    "instance",
    "_Feature"
   ],
   "window_display": false
  }
 },
 "nbformat": 4,
 "nbformat_minor": 4
}
