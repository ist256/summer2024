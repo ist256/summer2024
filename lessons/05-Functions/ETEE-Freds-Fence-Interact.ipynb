{
 "cells": [
  {
   "cell_type": "markdown",
   "metadata": {},
   "source": [
    "# Functions and the Write / Refactor / Test / Re-Write approach\n",
    "\n",
    "A common approach used when writing function is to\n",
    "\n",
    "1. Write the code without the function\n",
    "2. Refactor the programming logic (processing part) into a user-defined function with `def`\n",
    "    - input should be a variables passed in as `arguments`\n",
    "    - output should be variables that are part of `return` \n",
    "    - no \"print\" or \"input\" in your function - only \"processing\n",
    "3. Test your function by calling it. You should expect to know what the output is so you understand if it works correctly.\n",
    "4. Re-Write your original problem to now call the function you created.\n",
    "  "
   ]
  },
  {
   "cell_type": "code",
   "execution_count": 1,
   "metadata": {},
   "outputs": [
    {
     "name": "stdout",
     "output_type": "stream",
     "text": [
      "Enter length of Yard: 10\n",
      "Enter width of Yard: 60\n",
      "140.0 24\n"
     ]
    }
   ],
   "source": [
    "# STEP 1: Write: orginal fred's fence\n",
    "import math \n",
    "length = float(input(\"Enter length of Yard: \"))\n",
    "width = float(input(\"Enter width of Yard: \"))\n",
    "perimeter = 2 * (length + width)\n",
    "sections = math.ceil(perimeter / 6)\n",
    "print(perimeter, sections)"
   ]
  },
  {
   "cell_type": "code",
   "execution_count": 2,
   "metadata": {},
   "outputs": [],
   "source": [
    "# STEP 2: Re-Factor into a function:\n",
    "def fence_calc(length, width):\n",
    "    perimeter = 2 * (length + width )\n",
    "    sections = math.ceil(perimeter / 6)\n",
    "    return perimeter, sections # we return 2 things"
   ]
  },
  {
   "cell_type": "code",
   "execution_count": 6,
   "metadata": {},
   "outputs": [
    {
     "name": "stdout",
     "output_type": "stream",
     "text": [
      "24 4\n"
     ]
    }
   ],
   "source": [
    "x,y = fence_calc(6,6)\n",
    "print(x,y)"
   ]
  },
  {
   "cell_type": "code",
   "execution_count": null,
   "metadata": {},
   "outputs": [],
   "source": []
  },
  {
   "cell_type": "code",
   "execution_count": 4,
   "metadata": {},
   "outputs": [
    {
     "name": "stdout",
     "output_type": "stream",
     "text": [
      "When length=10,Width=20, EXPECT: fence_calc(10,20)==(60, 10), ACTUAL:  (60, 10)\n"
     ]
    }
   ],
   "source": [
    "# STEP 3: test so we know the function \"works\"\n",
    "print(f\"When length=10,Width=20, EXPECT: fence_calc(10,20)==(60, 10), ACTUAL: \", fence_calc(10,20))"
   ]
  },
  {
   "cell_type": "code",
   "execution_count": null,
   "metadata": {},
   "outputs": [],
   "source": [
    "# should be (24,4)\n",
    "fence_calc(6,6)"
   ]
  },
  {
   "cell_type": "code",
   "execution_count": 12,
   "metadata": {},
   "outputs": [],
   "source": [
    "# STEP 3: test quietly with assert instead of print\n",
    "assert fence_calc(10,20)==(60,10)\n",
    "assert fence_calc(6,6)==(24,4)"
   ]
  },
  {
   "cell_type": "code",
   "execution_count": null,
   "metadata": {},
   "outputs": [],
   "source": []
  },
  {
   "cell_type": "code",
   "execution_count": null,
   "metadata": {},
   "outputs": [],
   "source": [
    "def fence_calc(length, width):\n",
    "    perimeter = 2 * (length + width )\n",
    "    sections = math.ceil(perimeter / 6)\n",
    "    return perimeter, sections # we return 2 things"
   ]
  },
  {
   "cell_type": "code",
   "execution_count": null,
   "metadata": {},
   "outputs": [],
   "source": [
    "length = float(input(\"Enter length of Yard: \"))\n",
    "width = float(input(\"Enter width of Yard: \"))\n",
    "\n",
    "perimeter = 2 * (length + width)\n",
    "sections = math.ceil(perimeter / 6)\n",
    "\n",
    "print(perimeter, sections)"
   ]
  },
  {
   "cell_type": "code",
   "execution_count": 14,
   "metadata": {},
   "outputs": [
    {
     "name": "stdout",
     "output_type": "stream",
     "text": [
      "Enter length of Yard: you suyck\n"
     ]
    },
    {
     "ename": "ValueError",
     "evalue": "could not convert string to float: 'you suyck'",
     "output_type": "error",
     "traceback": [
      "\u001b[0;31m---------------------------------------------------------------------------\u001b[0m",
      "\u001b[0;31mValueError\u001b[0m                                Traceback (most recent call last)",
      "Input \u001b[0;32mIn [14]\u001b[0m, in \u001b[0;36m<module>\u001b[0;34m\u001b[0m\n\u001b[1;32m      1\u001b[0m \u001b[38;5;66;03m# STEP 4: Re-write program now calling the function\u001b[39;00m\n\u001b[0;32m----> 2\u001b[0m length \u001b[38;5;241m=\u001b[39m \u001b[38;5;28;43mfloat\u001b[39;49m\u001b[43m(\u001b[49m\u001b[38;5;28;43minput\u001b[39;49m\u001b[43m(\u001b[49m\u001b[38;5;124;43m\"\u001b[39;49m\u001b[38;5;124;43mEnter length of Yard: \u001b[39;49m\u001b[38;5;124;43m\"\u001b[39;49m\u001b[43m)\u001b[49m\u001b[43m)\u001b[49m\n\u001b[1;32m      3\u001b[0m width \u001b[38;5;241m=\u001b[39m \u001b[38;5;28mfloat\u001b[39m(\u001b[38;5;28minput\u001b[39m(\u001b[38;5;124m\"\u001b[39m\u001b[38;5;124mEnter width of Yard: \u001b[39m\u001b[38;5;124m\"\u001b[39m))\n\u001b[1;32m      4\u001b[0m perimeter, sections \u001b[38;5;241m=\u001b[39m fence_calc(length,width)\n",
      "\u001b[0;31mValueError\u001b[0m: could not convert string to float: 'you suyck'"
     ]
    }
   ],
   "source": [
    "# STEP 4: Re-write program now calling the function\n",
    "length = float(input(\"Enter length of Yard: \"))\n",
    "width = float(input(\"Enter width of Yard: \"))\n",
    "perimeter, sections = fence_calc(length,width)\n",
    "print(f\"Fence Perimeter: {perimeter}\")\n",
    "print(f\"{sections} six foot sections are required.\")\n"
   ]
  },
  {
   "cell_type": "code",
   "execution_count": 22,
   "metadata": {},
   "outputs": [
    {
     "data": {
      "text/html": [
       "<h1>Fred's Fence Calculator</h1>"
      ],
      "text/plain": [
       "<IPython.core.display.HTML object>"
      ]
     },
     "metadata": {},
     "output_type": "display_data"
    },
    {
     "data": {
      "application/vnd.jupyter.widget-view+json": {
       "model_id": "584d521d6df7495abea3ccd7bc2f2d9b",
       "version_major": 2,
       "version_minor": 0
      },
      "text/plain": [
       "interactive(children=(IntSlider(value=50, description='length', step=10), IntSlider(value=50, description='wid…"
      ]
     },
     "metadata": {},
     "output_type": "display_data"
    }
   ],
   "source": [
    "from IPython.display import display, HTML # Notebook output\n",
    "from ipywidgets import interact_manual,interact  # notebook input\n",
    "\n",
    "display(HTML(\"<h1>Fred's Fence Calculator</h1>\"))\n",
    "@interact_manual(length=(0,100,10), width=(0,100) )\n",
    "def main(length, width):\n",
    "    perimeter, sections = fence_calc(length, width)\n",
    "    display(f\"Total Fence Length: {perimeter}\")\n",
    "    display(f\"Number of 6ft sections required: {sections}\")"
   ]
  },
  {
   "cell_type": "code",
   "execution_count": 23,
   "metadata": {},
   "outputs": [
    {
     "name": "stdout",
     "output_type": "stream",
     "text": [
      "Enter your name: Mike\n",
      "Enter your major: IST, ADS, IMT: IMT\n",
      "Hello Mike IMT is a great major!\n"
     ]
    }
   ],
   "source": [
    "#INPUT: name and major (\"IST\", \"ADS\", \"IMT\")\n",
    "#OUTPUT: Hello {name} {major} is a great major \n",
    "\n",
    "name = input(\"Enter your name: \")\n",
    "major = input(\"Enter your major: IST, ADS, IMT: \")\n",
    "print(f\"Hello {name} {major} is a great major!\")"
   ]
  },
  {
   "cell_type": "code",
   "execution_count": 26,
   "metadata": {},
   "outputs": [
    {
     "data": {
      "application/vnd.jupyter.widget-view+json": {
       "model_id": "0a1e06a69d56477ea9322ab805c0bc9d",
       "version_major": 2,
       "version_minor": 0
      },
      "text/plain": [
       "interactive(children=(Text(value='', description='name'), Dropdown(description='major', options=('IST', 'ADS',…"
      ]
     },
     "metadata": {},
     "output_type": "display_data"
    }
   ],
   "source": [
    "@interact_manual(name=\"\", major=[\"IST\", \"ADS\",\"IMT\"])\n",
    "def onclick(name,major):\n",
    "    display(HTML(f\"Hello <b>{name}</b>. {major} is a good major!\"))"
   ]
  },
  {
   "cell_type": "code",
   "execution_count": 27,
   "metadata": {},
   "outputs": [
    {
     "data": {
      "text/html": [
       "Hello <b>Mike</b>. Accounting is a good major!"
      ],
      "text/plain": [
       "<IPython.core.display.HTML object>"
      ]
     },
     "metadata": {},
     "output_type": "display_data"
    }
   ],
   "source": [
    "onclick(\"Mike\",\"Accounting\")"
   ]
  },
  {
   "cell_type": "code",
   "execution_count": null,
   "metadata": {},
   "outputs": [],
   "source": []
  },
  {
   "cell_type": "code",
   "execution_count": null,
   "metadata": {},
   "outputs": [],
   "source": []
  },
  {
   "cell_type": "code",
   "execution_count": null,
   "metadata": {},
   "outputs": [],
   "source": []
  },
  {
   "cell_type": "code",
   "execution_count": null,
   "metadata": {},
   "outputs": [],
   "source": [
    "# Write the code like you would"
   ]
  },
  {
   "cell_type": "code",
   "execution_count": null,
   "metadata": {},
   "outputs": [],
   "source": [
    "# write the functions to replace some processing"
   ]
  },
  {
   "cell_type": "code",
   "execution_count": null,
   "metadata": {},
   "outputs": [],
   "source": [
    "# test functions"
   ]
  },
  {
   "cell_type": "code",
   "execution_count": null,
   "metadata": {},
   "outputs": [],
   "source": [
    "# re -wrrite"
   ]
  }
 ],
 "metadata": {
  "kernelspec": {
   "display_name": "Python 3 (ipykernel)",
   "language": "python",
   "name": "python3"
  },
  "language_info": {
   "codemirror_mode": {
    "name": "ipython",
    "version": 3
   },
   "file_extension": ".py",
   "mimetype": "text/x-python",
   "name": "python",
   "nbconvert_exporter": "python",
   "pygments_lexer": "ipython3",
   "version": "3.11.7"
  },
  "varInspector": {
   "cols": {
    "lenName": 16,
    "lenType": 16,
    "lenVar": 40
   },
   "kernels_config": {
    "python": {
     "delete_cmd_postfix": "",
     "delete_cmd_prefix": "del ",
     "library": "var_list.py",
     "varRefreshCmd": "print(var_dic_list())"
    },
    "r": {
     "delete_cmd_postfix": ") ",
     "delete_cmd_prefix": "rm(",
     "library": "var_list.r",
     "varRefreshCmd": "cat(var_dic_list()) "
    }
   },
   "types_to_exclude": [
    "module",
    "function",
    "builtin_function_or_method",
    "instance",
    "_Feature"
   ],
   "window_display": false
  }
 },
 "nbformat": 4,
 "nbformat_minor": 4
}
