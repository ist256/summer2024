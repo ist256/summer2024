{
 "cells": [
  {
   "cell_type": "code",
   "execution_count": 5,
   "id": "37cfe23b-2e45-4649-8b55-821943ecabf3",
   "metadata": {
    "tags": []
   },
   "outputs": [],
   "source": [
    "def checkLuhn(card):\n",
    "    ''' This Luhn algorithm was adopted from the pseudocode here: https://en.wikipedia.org/wiki/Luhn_algorithm'''\n",
    "    total = 0\n",
    "    length = len(card)\n",
    "    parity = length % 2\n",
    "    for i in range(length):\n",
    "        digit = int(card[i])\n",
    "        if i%2 == parity:\n",
    "            digit = digit * 2\n",
    "            if digit > 9:\n",
    "                digit = digit -9\n",
    "        total = total + digit\n",
    "    return total % 10 == 0\n",
    "\n",
    "def CardIssuer(card):\n",
    "    digit = card[0]\n",
    "    if digit == '4':\n",
    "        issuer = \"Visa\"\n",
    "    elif digit == '5':\n",
    "        issuer = \"Mastercard\"\n",
    "    elif digit == '6':\n",
    "        issuer = \"Discover\"\n",
    "    elif digit == '3':\n",
    "        issuer = \"American Express\"\n",
    "    else:\n",
    "        issuer = \"Invalid\"\n",
    "    return issuer\n",
    "\n",
    "def print_title(text):\n",
    "    return display(HTML(\"<H1>\" + text + \"</H1>\"))"
   ]
  },
  {
   "cell_type": "code",
   "execution_count": 7,
   "id": "9e0e67b4-f374-4766-a145-57b8c223fd3a",
   "metadata": {
    "tags": []
   },
   "outputs": [
    {
     "data": {
      "text/html": [
       "<H1>Credit Card Validator</H1>"
      ],
      "text/plain": [
       "<IPython.core.display.HTML object>"
      ]
     },
     "metadata": {},
     "output_type": "display_data"
    },
    {
     "data": {
      "application/vnd.jupyter.widget-view+json": {
       "model_id": "6759a6bad5e946569006c96981160b78",
       "version_major": 2,
       "version_minor": 0
      },
      "text/plain": [
       "interactive(children=(Text(value='', continuous_update=False, description='card_number'), IntSlider(value=100,…"
      ]
     },
     "metadata": {},
     "output_type": "display_data"
    }
   ],
   "source": [
    "from IPython.display import display, HTML\n",
    "from ipywidgets import interact_manual\n",
    "\n",
    "print_title(\"Credit Card Validator\")\n",
    "@interact_manual(card_number=\"\", age=100)\n",
    "def onclick(card_number, age):\n",
    "    issuer = CardIssuer(card_number)\n",
    "    valid = checkLuhn(card_number)\n",
    "    print(f'''\n",
    "    Card: {card_number}\n",
    "    Issuer: {issuer}\n",
    "    Valid: {valid}\n",
    "    ''')\n"
   ]
  },
  {
   "cell_type": "code",
   "execution_count": 13,
   "id": "9df3e75e-0236-4737-8571-092aad03f777",
   "metadata": {},
   "outputs": [
    {
     "data": {
      "application/vnd.jupyter.widget-view+json": {
       "model_id": "0c24e11a7a094698af829eb281fa7596",
       "version_major": 2,
       "version_minor": 0
      },
      "text/plain": [
       "interactive(children=(Text(value='', continuous_update=False, description='a'), IntSlider(value=5, description…"
      ]
     },
     "metadata": {},
     "output_type": "display_data"
    }
   ],
   "source": [
    "@interact_manual(a=\"\",b=5,c=3.5)\n",
    "def test(a,b,c):\n",
    "    print(a,b,c)"
   ]
  },
  {
   "cell_type": "code",
   "execution_count": null,
   "id": "4e9e51cb-9717-4366-b66c-5a9e22bf8a2c",
   "metadata": {},
   "outputs": [],
   "source": []
  }
 ],
 "metadata": {
  "kernelspec": {
   "display_name": "Python 3 (ipykernel)",
   "language": "python",
   "name": "python3"
  },
  "language_info": {
   "codemirror_mode": {
    "name": "ipython",
    "version": 3
   },
   "file_extension": ".py",
   "mimetype": "text/x-python",
   "name": "python",
   "nbconvert_exporter": "python",
   "pygments_lexer": "ipython3",
   "version": "3.11.7"
  }
 },
 "nbformat": 4,
 "nbformat_minor": 5
}
