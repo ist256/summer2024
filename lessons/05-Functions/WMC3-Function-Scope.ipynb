{
 "cells": [
  {
   "cell_type": "markdown",
   "metadata": {},
   "source": [
    "# Watch Me Code 3: Understanding Function Variable Scope\n",
    "\n"
   ]
  },
  {
   "cell_type": "code",
   "execution_count": 26,
   "metadata": {
    "collapsed": true,
    "jupyter": {
     "outputs_hidden": true
    }
   },
   "outputs": [],
   "source": [
    "def area_incorrect():\n",
    "    area = length * width # these are in the global scope!!!!\n",
    "    return area\n"
   ]
  },
  {
   "cell_type": "code",
   "execution_count": 27,
   "metadata": {
    "collapsed": false,
    "jupyter": {
     "outputs_hidden": false
    },
    "scrolled": true
   },
   "outputs": [
    {
     "name": "stdout",
     "output_type": "stream",
     "text": [
      "length= 10 width= 5 area= 50\n"
     ]
    }
   ],
   "source": [
    "## This is a bad idea\n",
    "\n",
    "length = 10\n",
    "width = 5\n",
    "area = area_incorrect()\n",
    "print (\"length=\",length, \"width=\",width, \"area=\",area)"
   ]
  },
  {
   "cell_type": "code",
   "execution_count": 28,
   "metadata": {
    "collapsed": true,
    "jupyter": {
     "outputs_hidden": true
    }
   },
   "outputs": [],
   "source": [
    "## Always pass in arguments from the global scope!\n",
    "\n",
    "def area_correct(length, width):\n",
    "    area = length * width # these are local copies from the global scope...\n",
    "    length = 0 \n",
    "    width = 0 # what happens here, stays here!\n",
    "    return area"
   ]
  },
  {
   "cell_type": "code",
   "execution_count": 29,
   "metadata": {
    "collapsed": false,
    "jupyter": {
     "outputs_hidden": false
    }
   },
   "outputs": [
    {
     "name": "stdout",
     "output_type": "stream",
     "text": [
      "length= 5 width= 10 area= 50\n"
     ]
    }
   ],
   "source": [
    "# in the global scope\n",
    "length = 5\n",
    "width = 10\n",
    "area = area_correct(length,width)\n",
    "print (\"length=\",length, \"width=\",width, \"area=\",area)"
   ]
  },
  {
   "cell_type": "code",
   "execution_count": null,
   "metadata": {
    "collapsed": true,
    "jupyter": {
     "outputs_hidden": true
    }
   },
   "outputs": [],
   "source": []
  }
 ],
 "metadata": {
  "anaconda-cloud": {},
  "kernelspec": {
   "display_name": "Python 3 (ipykernel)",
   "language": "python",
   "name": "python3"
  },
  "language_info": {
   "codemirror_mode": {
    "name": "ipython",
    "version": 3
   },
   "file_extension": ".py",
   "mimetype": "text/x-python",
   "name": "python",
   "nbconvert_exporter": "python",
   "pygments_lexer": "ipython3",
   "version": "3.11.7"
  }
 },
 "nbformat": 4,
 "nbformat_minor": 4
}
