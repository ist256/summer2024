{
 "cells": [
  {
   "cell_type": "markdown",
   "metadata": {},
   "source": [
    "# Now You Code In Class : Rock Paper Scissors Experiment (see video recording)\n",
    "\n",
    "In this now you code we will learn to re-factor a program into a function. This is the most common way to write a function when you are a beginner. *Re-factoring* is the act of re-writing code without changing its functionality. We commonly do re-factoring to improve performance or readability of our code. Through the process we will also demonstrate the DRY (don't repeat yourself principle of coding).\n",
    "\n",
    "The way you do this is rather simple. First you write a program to solve the problem, then you re-write that program as a function and finally test the function to make sure it works as expected. \n",
    "\n",
    "This helps train you to think abstractly about problems, but leverages what you understand currently about programming.\n",
    "\n",
    "## Introducing the Write - Refactor - Test - Rewrite approach\n",
    "\n",
    "The best way to get good at writing functions, a skill you will need to master to become a respectable programmer, is to use the **Write - Refactor - Test - Rewrite** approach.  The basic idea is as follows:\n",
    "\n",
    "1. Write the program \n",
    "2. Identify which parts of the program can be placed in a function\n",
    "3. Refactor the code into a function. Extract the bits into a function into a new, separate cell independent of the original code. \n",
    "4. Test the function so you are confident it works, using the expect... actual approach from the lab.\n",
    "5. Re-Write the original program to call the function instead.\n",
    "\n",
    "## The Problem \n",
    "\n",
    "Let's build a game that plays rock paper scissors.\n",
    "\n",
    "### The Approach\n",
    "\n",
    "1. Write the program once (done for you in the cell below)\n",
    "2. Refactor step 1 into its own function `play_game(you, computer)` which returns the OUTCOME OF THE GAME.\n",
    "3. Test the function to make sure it works. Write tests for all cases\n",
    "4. Re-write the main program to now call the function.\n",
    "5. Use the function in the final program and decorate your input using interact manual.\n",
    "\n",
    "### Final Test\n",
    "\n",
    "1. The very last cell should include all of your imports and all of your user defined functions. The order is imports, then user-def functions, then interact, then final cell that is the main part of the program.\n",
    "2. Test it.\n",
    "3. Once working, KERNEL RESTART & CLEAR ALL OUTPUT.\n",
    "4. Execute the final cell only. If you get name errors, chances are good that you forgot a function or an import.\n"
   ]
  },
  {
   "cell_type": "code",
   "execution_count": null,
   "metadata": {},
   "outputs": [],
   "source": [
    "#ORIGINAL CODE\n",
    "\n",
    "import random \n",
    "choices = ['rock', 'paper', 'scissors']\n",
    "computer = random.choice(choices)\n",
    "you = input(\"Enter your guess from rock, paper, or scissors\")\n",
    "\n",
    "if (you == 'rock' and computer == 'scissors'):\n",
    "    outcome = \"win\"\n",
    "elif (you == 'scissors' and computer =='rock'):\n",
    "    outcome = \"lose\"\n",
    "elif (you == 'paper' and computer =='rock'):\n",
    "    outcome = \"win\"\n",
    "elif (you == 'rock' and computer=='paper'):\n",
    "    outcome = \"lose\"\n",
    "elif (you == 'scissors' and computer == 'paper'):\n",
    "    outcome = \"win\"\n",
    "elif (you == 'paper' and computer == 'scissors'):\n",
    "    outcome = \"lose\"\n",
    "else:\n",
    "    outcome = \"tie\"\n",
    "print(f\"You selected:'{you}' Computer selected:'{computer}' Your Outcome: {outcome} \")"
   ]
  },
  {
   "cell_type": "markdown",
   "metadata": {},
   "source": [
    "## Problem Analysis For the FUNCTION ONLY\n",
    "\n",
    "For a function `rock_paper_scissors()` which plays the game, what are the inputs and outputs?\n",
    "\n",
    "Inputs:  \n",
    "\n",
    "    PROMPT 1 : from the arguements your choice and the computer choice  \n",
    "    \n",
    "\n",
    "Outputs:  \n",
    "\n",
    "    PROMPT 2 :  outcome of the game (win, lose, tie)\n",
    "   \n",
    "    \n",
    "Function def in python:    \n",
    "\n",
    "    PROMPT 3: Write the steps from input to output: \n",
    "    - get input from arguements\n",
    "    - compare my choice to the computers to determine if win, lose, tie\n",
    "    - return the outcome\n"
   ]
  },
  {
   "cell_type": "code",
   "execution_count": null,
   "metadata": {},
   "outputs": [],
   "source": [
    "# PROMPT 4: Write function \n",
    "def play_rock_paper_scissors(you, computer):\n",
    "    # All of our function code goes after this line.\n",
    "    if (you == 'rock' and computer == 'scissors'):\n",
    "        outcome = \"win\"\n",
    "    elif (you == 'scissors' and computer =='rock'):\n",
    "        outcome = \"lose\"\n",
    "    elif (you == 'paper' and computer =='rock'):\n",
    "        outcome = \"win\"\n",
    "    elif (you == 'rock' and computer=='paper'):\n",
    "        outcome = \"lose\"\n",
    "    elif (you == 'scissors' and computer == 'paper'):\n",
    "        outcome = \"win\"\n",
    "    elif (you == 'paper' and computer == 'scissors'):\n",
    "        outcome = \"lose\"\n",
    "    else:\n",
    "        outcome = \"tie\"\n",
    "    return outcome"
   ]
  },
  {
   "cell_type": "markdown",
   "metadata": {},
   "source": [
    "## Test Cases\n",
    "\n",
    "Writing a function is not helpful unless we have some assurances that it is correct. We solve this problem with test cases:\n",
    "\n",
    "    YOU      COMPUTER  Expected OUTCOME\n",
    "    Rock     Rock      Tie\n",
    "    Rock     Scissors  Win\n",
    "    Rock     Paper     Lose\n",
    "    \n",
    "    Scissors Rock      Lose\n",
    "    Scissors Scissors  Tie\n",
    "    Scissors Paper     Win\n",
    "    \n",
    "    Paper    Rock      Win\n",
    "    Paper    Scissors  Lose\n",
    "    Paper    Paper     Tie\n",
    "    \n",
    "PROMPTS 5 - 13   \n",
    "\n",
    "Write a `print()` or `assert()` statement for each test case:\n",
    "\n",
    "`When YOU=?, COMPUTER=?, EXPECT=?, ACTUAL=(call the function)`\n",
    "\n"
   ]
  },
  {
   "cell_type": "code",
   "execution_count": null,
   "metadata": {},
   "outputs": [],
   "source": [
    "# PROMPTS 5-13 test Cases Example of writing a function to test your function. YIKES!!! Review Carefully!!!\n",
    "def test_play_game(you, computer, expect):\n",
    "    actual = play_rock_paper_scissors(you=you, computer=computer)\n",
    "    print(f\"When {you},{computer} EXPECT={expect}, ACTUAL={actual}\")\n",
    "    assert expect == actual\n",
    "\n",
    "test_play_game(\"paper\", \"rock\", \"win\")\n",
    "test_play_game(\"scissors\", \"rock\", \"lose\")\n",
    "test_play_game(\"rock\", \"rock\", \"tie\")\n",
    "\n",
    "test_play_game(\"paper\", \"paper\", \"tie\")\n",
    "test_play_game(\"scissors\", \"paper\", \"win\")\n",
    "test_play_game(\"rock\", \"paper\", \"lose\")\n",
    "\n",
    "test_play_game(\"paper\", \"scissors\", \"lose\")\n",
    "test_play_game(\"scissors\", \"scissors\", \"tie\")\n",
    "test_play_game(\"rock\", \"scissors\", \"win\")\n"
   ]
  },
  {
   "cell_type": "markdown",
   "metadata": {},
   "source": [
    "## Re-Write\n",
    "\n",
    "With the function code tested, and assurances it is correct, we can now re-write the original program, calling the function instead."
   ]
  },
  {
   "cell_type": "code",
   "execution_count": null,
   "metadata": {},
   "outputs": [],
   "source": [
    "# PROMPT 14 Re-write the game to use the function!\n",
    "# Copy in the original cell and make the necessary changes to call the function.  \n",
    "\n",
    "choices = ['rock', 'paper', 'scissors']\n",
    "computer = random.choice(choices)\n",
    "you = input(\"Enter your guess from rock, paper, or scissors\")\n",
    "\n",
    "results = play_rock_paper_scissors(you,computer)\n",
    "print(f\"You selected:'{you}' Computer selected:'{computer}' Your Outcome: {results} \")"
   ]
  },
  {
   "cell_type": "markdown",
   "metadata": {},
   "source": [
    "## Back to the game\n",
    "\n",
    "Now that we have function to play the game, we can write code for the acual game interation. \n",
    "\n",
    "\n",
    "INPUTS:\n",
    "computer choice is assigned\n",
    "user choice from drop-down using interact_manual\n",
    " \n",
    "-  \n",
    "\n",
    "OUTPUTS: \n",
    "outcome of the game\n",
    "-  \n",
    "\n",
    "\n",
    "ALGORITHM:\n",
    "\n",
    "    PROMPT 15: Game steps !\n",
    "     collect user choice from input (interact_manual)\n",
    "     assign computer choice from a random selection of rock, paper, scissors\n",
    "     call my function to play the game\n",
    "     display the outcome\n",
    "    \n",
    "\n",
    "## Final Code \n",
    "\n",
    "Let's use IPywidgets to create the user interface. Some notes:\n",
    "\n",
    " - the list of items `[\"rock\",\"paper\",\"scissors\"]` makes a drop down.\n",
    " - use `interact_manual` to generate input widgets\n",
    " - use `display` to show output\n"
   ]
  },
  {
   "cell_type": "code",
   "execution_count": null,
   "metadata": {},
   "outputs": [],
   "source": [
    "\n",
    "choices = ['rock', 'paper', 'scissors']\n",
    "you = input(\"Enter your guess from rock, paper, or scissors\")\n",
    "computer = random.choice(choices)\n",
    "results = play_rock_paper_scissors(you, computer)\n",
    "print(f\"You selected:'{you}' Computer selected:'{computer}' Your Outcome: {results} \")"
   ]
  },
  {
   "cell_type": "code",
   "execution_count": 1,
   "metadata": {
    "tags": []
   },
   "outputs": [
    {
     "data": {
      "text/html": [
       "<h1>Rock, Paper, Scissors Game</h1>"
      ],
      "text/plain": [
       "<IPython.core.display.HTML object>"
      ]
     },
     "metadata": {},
     "output_type": "display_data"
    },
    {
     "data": {
      "application/vnd.jupyter.widget-view+json": {
       "model_id": "f5731d14b8e74d17acc864aa9d5eb74f",
       "version_major": 2,
       "version_minor": 0
      },
      "text/plain": [
       "interactive(children=(Dropdown(description='you', options=('rock', 'paper', 'scissors'), value='rock'), Button…"
      ]
     },
     "metadata": {},
     "output_type": "display_data"
    }
   ],
   "source": [
    "# FINAL CODE\n",
    "from ipywidgets import interact_manual       #controls input\n",
    "from IPython.display import display, HTML    #controls output\n",
    "import random\n",
    "\n",
    "def play_rock_paper_scissors(you, computer):\n",
    "    # All of our function code goes after this line.\n",
    "    if (you == 'rock' and computer == 'scissors'):\n",
    "        outcome = \"win\"\n",
    "    elif (you == 'scissors' and computer =='rock'):\n",
    "        outcome = \"lose\"\n",
    "    elif (you == 'paper' and computer =='rock'):\n",
    "        outcome = \"win\"\n",
    "    elif (you == 'rock' and computer=='paper'):\n",
    "        outcome = \"lose\"\n",
    "    elif (you == 'scissors' and computer == 'paper'):\n",
    "        outcome = \"win\"\n",
    "    elif (you == 'paper' and computer == 'scissors'):\n",
    "        outcome = \"lose\"\n",
    "    else:\n",
    "        outcome = \"tie\"\n",
    "    return outcome\n",
    "\n",
    "display(HTML(\"<h1>Rock, Paper, Scissors Game</h1>\"))\n",
    "choices = ['rock', 'paper', 'scissors']  # list to create drop down and assign computer choice\n",
    "\n",
    "@interact_manual(you = choices)\n",
    "def onclick(you):\n",
    "    computer = random.choice(choices)\n",
    "    results = play_rock_paper_scissors(you, computer)\n",
    "    display(f\"You selected:'{you}' Computer selected:'{computer}' Your Outcome: {results} \")"
   ]
  },
  {
   "cell_type": "code",
   "execution_count": null,
   "metadata": {},
   "outputs": [],
   "source": [
    "#Cheat Sheet on how to do display\n",
    "\n",
    "display(HTML(\"<h1>Place Your Program Title Here</h1>\"))\n",
    "display(f\"Total Fence Length: {perimeter}\")\n",
    " "
   ]
  }
 ],
 "metadata": {
  "anaconda-cloud": {},
  "kernelspec": {
   "display_name": "Python 3 (ipykernel)",
   "language": "python",
   "name": "python3"
  },
  "language_info": {
   "codemirror_mode": {
    "name": "ipython",
    "version": 3
   },
   "file_extension": ".py",
   "mimetype": "text/x-python",
   "name": "python",
   "nbconvert_exporter": "python",
   "pygments_lexer": "ipython3",
   "version": "3.11.7"
  },
  "toc": {
   "base_numbering": 1,
   "nav_menu": {},
   "number_sections": false,
   "sideBar": false,
   "skip_h1_title": false,
   "title_cell": "Table of Contents",
   "title_sidebar": "Contents",
   "toc_cell": false,
   "toc_position": {},
   "toc_section_display": false,
   "toc_window_display": false
  },
  "varInspector": {
   "cols": {
    "lenName": 16,
    "lenType": 16,
    "lenVar": 40
   },
   "kernels_config": {
    "python": {
     "delete_cmd_postfix": "",
     "delete_cmd_prefix": "del ",
     "library": "var_list.py",
     "varRefreshCmd": "print(var_dic_list())"
    },
    "r": {
     "delete_cmd_postfix": ") ",
     "delete_cmd_prefix": "rm(",
     "library": "var_list.r",
     "varRefreshCmd": "cat(var_dic_list()) "
    }
   },
   "types_to_exclude": [
    "module",
    "function",
    "builtin_function_or_method",
    "instance",
    "_Feature"
   ],
   "window_display": false
  }
 },
 "nbformat": 4,
 "nbformat_minor": 4
}
