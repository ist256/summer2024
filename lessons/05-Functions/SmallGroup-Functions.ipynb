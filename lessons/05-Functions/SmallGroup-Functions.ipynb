{
 "cells": [
  {
   "cell_type": "markdown",
   "metadata": {},
   "source": [
    "# Now You Code In Class : Rock Paper Scissors Experiment\n",
    "\n",
    "In this now you code we will learn to re-factor a program into a function. This is the most common way to write a function when you are a beginner. *Re-factoring* is the act of re-writing code without changing its functionality. We commonly do re-factoring to improve performance or readability of our code. Through the process we will also demonstrate the DRY (don't repeat yourself principle of coding).\n",
    "\n",
    "The way you do this is rather simple. First you write a program to solve the problem, then you re-write that program as a function and finally test the function to make sure it works as expected. \n",
    "\n",
    "This helps train you to think abstractly about problems, but leverages what you understand currently about programming.\n",
    "\n",
    "## Introducing the Write - Refactor - Test - Rewrite approach\n",
    "\n",
    "The best way to get good at writing functions, a skill you will need to master to become a respectable programmer, is to use the **Write - Refactor - Test - Rewrite** approach.  The basic idea is as follows:\n",
    "\n",
    "1. Write the program \n",
    "2. Identify which parts of the program can be placed in a function\n",
    "3. Refactor the code into a function. Extract the bits into a function into a new, separate cell independent of the original code. \n",
    "4. Test the function so you are confident it works, using the expect... actual approach from the lab.\n",
    "5. Re-Write the original program to call the function instead.\n",
    "\n",
    "## The Problem \n",
    "\n",
    "Let's build a game that plays rock paper scissors.\n",
    "\n",
    "### The Approach\n",
    "\n",
    "1. Write the program once (done for you in the cell below)\n",
    "2. refactor step 1 into its own function `play_game(you, computer)` which returns the OUTCOME OF THE GAME.\n",
    "3. test the function to make sure it works. Write tests for all cases\n",
    "4. re-write the main program to now call the function.\n",
    "5. use the function in the final program.\n"
   ]
  },
  {
   "cell_type": "code",
   "execution_count": 4,
   "metadata": {},
   "outputs": [
    {
     "name": "stdout",
     "output_type": "stream",
     "text": [
      "You:'rock' Computer:'scissors' Game: win \n"
     ]
    }
   ],
   "source": [
    "#ORIGINAL CODE\n",
    "\n",
    "import random \n",
    "choices = ['rock', 'paper', 'scissors']\n",
    "computer = random.choice(choices)\n",
    "you = 'rock'  #Always rock strategy, saves us from having to input!\n",
    "\n",
    "if (you == 'rock' and computer == 'scissors'):\n",
    "    outcome = \"win\"\n",
    "elif (you == 'scissors' and computer =='rock'):\n",
    "    outcome = \"lose\"\n",
    "elif (you == 'paper' and computer =='rock'):\n",
    "    outcome = \"win\"\n",
    "elif (you == 'rock' and computer=='paper'):\n",
    "    outcome = \"lose\"\n",
    "elif (you == 'scissors' and computer == 'paper'):\n",
    "    outcome = \"win\"\n",
    "elif (you == 'paper' and computer == 'scissors'):\n",
    "    outcome = \"lose\"\n",
    "else:\n",
    "    outcome = \"tie\"\n",
    "\n",
    "print(f\"You:'{you}' Computer:'{computer}' Game: {outcome} \")"
   ]
  },
  {
   "cell_type": "markdown",
   "metadata": {},
   "source": [
    "## Problem Analysis\n",
    "\n",
    "For a function `rock_paper_scissors()` which plays the game, what are the inputs and outputs?\n",
    "\n",
    "Inputs:  \n",
    "\n",
    "    PROMPT 1 : \n",
    "    \n",
    "\n",
    "Outputs:  \n",
    "\n",
    "    PROMPT 2 : \n",
    "   \n",
    "    \n",
    "Function def in python:   (just `def` part)\n",
    "\n",
    "    PROMPT 3: Write the steps from input to output: Since we have code think about what it takes to refactor this\n",
    "    \n"
   ]
  },
  {
   "cell_type": "code",
   "execution_count": null,
   "metadata": {},
   "outputs": [],
   "source": [
    "# PROMPT 4: Write function \n",
    "def play_rock_paper_scissors(you, computer):\n",
    "    # All of our function code goes after this line.\n",
    "     \n",
    "\n",
    "    return outcome"
   ]
  },
  {
   "cell_type": "markdown",
   "metadata": {},
   "source": [
    "## Test Cases\n",
    "\n",
    "Writing a function is not helpful unless we have some assurances that it is correct. We solve this problem with test cases:\n",
    "\n",
    "    YOU      COMPUTER  OUTCOME\n",
    "    Rock     Rock      Tie\n",
    "    Rock     Scissors  Win\n",
    "    Rock     Paper     Lose\n",
    "    \n",
    "    Scissors Rock      Lose\n",
    "    Scissors Scissors  Tie\n",
    "    Scissors Paper     Win\n",
    "    \n",
    "    Paper    Rock      Win\n",
    "    Paper    Scissors  Lose\n",
    "    Paper    Paper     Tie\n",
    "    \n",
    "PROMPTS 5 - 13   \n",
    "\n",
    "Write a `print()` or `assert()` statement for each test case:\n",
    "\n",
    "`When YOU=?, COMPUTER=?, EXPECT=?, ACTUAL=(call the function)`\n",
    "\n"
   ]
  },
  {
   "cell_type": "code",
   "execution_count": 5,
   "metadata": {},
   "outputs": [
    {
     "ename": "NameError",
     "evalue": "name 'play_rock_paper_scissors' is not defined",
     "output_type": "error",
     "traceback": [
      "\u001b[0;31m---------------------------------------------------------------------------\u001b[0m",
      "\u001b[0;31mNameError\u001b[0m                                 Traceback (most recent call last)",
      "Cell \u001b[0;32mIn[5], line 7\u001b[0m\n\u001b[1;32m      4\u001b[0m     \u001b[38;5;28mprint\u001b[39m(\u001b[38;5;124mf\u001b[39m\u001b[38;5;124m\"\u001b[39m\u001b[38;5;124mWhen \u001b[39m\u001b[38;5;132;01m{\u001b[39;00myou\u001b[38;5;132;01m}\u001b[39;00m\u001b[38;5;124m,\u001b[39m\u001b[38;5;132;01m{\u001b[39;00mcomputer\u001b[38;5;132;01m}\u001b[39;00m\u001b[38;5;124m EXPECT=\u001b[39m\u001b[38;5;132;01m{\u001b[39;00mexpect\u001b[38;5;132;01m}\u001b[39;00m\u001b[38;5;124m, ACTUAL=\u001b[39m\u001b[38;5;132;01m{\u001b[39;00mactual\u001b[38;5;132;01m}\u001b[39;00m\u001b[38;5;124m\"\u001b[39m)\n\u001b[1;32m      5\u001b[0m     \u001b[38;5;28;01massert\u001b[39;00m expect \u001b[38;5;241m==\u001b[39m actual\n\u001b[0;32m----> 7\u001b[0m \u001b[43mtest_play_game\u001b[49m\u001b[43m(\u001b[49m\u001b[38;5;124;43m\"\u001b[39;49m\u001b[38;5;124;43mpaper\u001b[39;49m\u001b[38;5;124;43m\"\u001b[39;49m\u001b[43m,\u001b[49m\u001b[43m \u001b[49m\u001b[38;5;124;43m\"\u001b[39;49m\u001b[38;5;124;43mrock\u001b[39;49m\u001b[38;5;124;43m\"\u001b[39;49m\u001b[43m,\u001b[49m\u001b[43m \u001b[49m\u001b[38;5;124;43m\"\u001b[39;49m\u001b[38;5;124;43mwin\u001b[39;49m\u001b[38;5;124;43m\"\u001b[39;49m\u001b[43m)\u001b[49m\n\u001b[1;32m      8\u001b[0m test_play_game(\u001b[38;5;124m\"\u001b[39m\u001b[38;5;124mscissors\u001b[39m\u001b[38;5;124m\"\u001b[39m, \u001b[38;5;124m\"\u001b[39m\u001b[38;5;124mrock\u001b[39m\u001b[38;5;124m\"\u001b[39m, \u001b[38;5;124m\"\u001b[39m\u001b[38;5;124mlose\u001b[39m\u001b[38;5;124m\"\u001b[39m)\n\u001b[1;32m      9\u001b[0m test_play_game(\u001b[38;5;124m\"\u001b[39m\u001b[38;5;124mrock\u001b[39m\u001b[38;5;124m\"\u001b[39m, \u001b[38;5;124m\"\u001b[39m\u001b[38;5;124mrock\u001b[39m\u001b[38;5;124m\"\u001b[39m, \u001b[38;5;124m\"\u001b[39m\u001b[38;5;124mtie\u001b[39m\u001b[38;5;124m\"\u001b[39m)\n",
      "Cell \u001b[0;32mIn[5], line 3\u001b[0m, in \u001b[0;36mtest_play_game\u001b[0;34m(you, computer, expect)\u001b[0m\n\u001b[1;32m      2\u001b[0m \u001b[38;5;28;01mdef\u001b[39;00m \u001b[38;5;21mtest_play_game\u001b[39m(you, computer, expect):\n\u001b[0;32m----> 3\u001b[0m     actual \u001b[38;5;241m=\u001b[39m \u001b[43mplay_rock_paper_scissors\u001b[49m(you\u001b[38;5;241m=\u001b[39myou, computer\u001b[38;5;241m=\u001b[39mcomputer)\n\u001b[1;32m      4\u001b[0m     \u001b[38;5;28mprint\u001b[39m(\u001b[38;5;124mf\u001b[39m\u001b[38;5;124m\"\u001b[39m\u001b[38;5;124mWhen \u001b[39m\u001b[38;5;132;01m{\u001b[39;00myou\u001b[38;5;132;01m}\u001b[39;00m\u001b[38;5;124m,\u001b[39m\u001b[38;5;132;01m{\u001b[39;00mcomputer\u001b[38;5;132;01m}\u001b[39;00m\u001b[38;5;124m EXPECT=\u001b[39m\u001b[38;5;132;01m{\u001b[39;00mexpect\u001b[38;5;132;01m}\u001b[39;00m\u001b[38;5;124m, ACTUAL=\u001b[39m\u001b[38;5;132;01m{\u001b[39;00mactual\u001b[38;5;132;01m}\u001b[39;00m\u001b[38;5;124m\"\u001b[39m)\n\u001b[1;32m      5\u001b[0m     \u001b[38;5;28;01massert\u001b[39;00m expect \u001b[38;5;241m==\u001b[39m actual\n",
      "\u001b[0;31mNameError\u001b[0m: name 'play_rock_paper_scissors' is not defined"
     ]
    }
   ],
   "source": [
    "# PROMPTS 5-13 test Cases Example of writing a function to test your function. YIKES!!! Review Carefully!!!\n",
    "def test_play_game(you, computer, expect):\n",
    "    actual = play_rock_paper_scissors(you=you, computer=computer)\n",
    "    print(f\"When {you},{computer} EXPECT={expect}, ACTUAL={actual}\")\n",
    "    assert expect == actual\n",
    "\n",
    "test_play_game(\"paper\", \"rock\", \"win\")\n",
    "test_play_game(\"scissors\", \"rock\", \"lose\")\n",
    "test_play_game(\"rock\", \"rock\", \"tie\")\n",
    "\n",
    "test_play_game(\"paper\", \"paper\", \"tie\")\n",
    "test_play_game(\"scissors\", \"paper\", \"win\")\n",
    "test_play_game(\"rock\", \"paper\", \"lose\")\n",
    "\n",
    "test_play_game(\"paper\", \"scissors\", \"lose\")\n",
    "test_play_game(\"scissors\", \"scissors\", \"tie\")\n",
    "test_play_game(\"rock\", \"scissors\", \"win\")\n"
   ]
  },
  {
   "cell_type": "markdown",
   "metadata": {},
   "source": [
    "## Re-Write\n",
    "\n",
    "With the function code tested, and assurances it is correct, we can now re-write the original program, calling the function instead."
   ]
  },
  {
   "cell_type": "code",
   "execution_count": null,
   "metadata": {},
   "outputs": [],
   "source": [
    "# PROMPT 14 Re-write the game to use the function!\n",
    "import random \n",
    "choices = ['rock', 'paper', 'scissors']\n",
    "computer = random.choice(choices)\n",
    "you = 'rock'\n",
    "outcome = play_rock_paper_scissors(you=you, computer=computer)\n",
    "print(f\"You:'{you}' Computer:'{computer}' Game: {outcome} \")"
   ]
  },
  {
   "cell_type": "markdown",
   "metadata": {},
   "source": [
    "## Back to the game\n",
    "\n",
    "Now that we have function to play the game, we can write code for the acual game interation. \n",
    "\n",
    "\n",
    "INPUTS:\n",
    "\n",
    "- user selects one of rock, paper, scissors from a drop-down menu\n",
    "\n",
    "OUTPUTS: \n",
    "\n",
    "- game says whether you won or lost, and keep a record of your total wins and losses\n",
    "\n",
    "\n",
    "ALGORITHM:\n",
    "\n",
    "    PROMPT 15: Game steps !\n",
    "    \n",
    "\n",
    "## Final Code \n",
    "\n",
    "Let's use IPywidgets to create the user interface. Some notes:\n",
    "\n",
    " - the list of items `[\"rock\",\"paper\",\"scissors\"]` makes a drop down.\n",
    " - use `interact_manual` to generate input widgets\n",
    " - use `display` to show output\n"
   ]
  },
  {
   "cell_type": "code",
   "execution_count": null,
   "metadata": {},
   "outputs": [],
   "source": [
    "import random \n",
    "choices = ['rock', 'paper', 'scissors']\n",
    "computer = random.choice(choices)\n",
    "you = 'rock'\n",
    "outcome = play_rock_paper_scissors(you=you, computer=computer)\n",
    "print(f\"You:'{you}' Computer:'{computer}' Game: {outcome} \")"
   ]
  },
  {
   "cell_type": "code",
   "execution_count": null,
   "metadata": {
    "tags": []
   },
   "outputs": [],
   "source": [
    "# FINAL CODE\n",
    "from IPython.display import display\n",
    "from ipywidgets import interact_manual\n",
    "\n",
    "def play_rock_paper_scissors(you, computer):\n",
    "\n",
    "    if (you == 'rock' and computer == 'scissors'):\n",
    "        outcome = \"win\"\n",
    "    elif (you == 'scissors' and computer =='rock'):\n",
    "        outcome = \"lose\"\n",
    "    elif (you == 'paper' and computer =='rock'):\n",
    "        outcome = \"win\"\n",
    "    elif (you == 'rock' and computer=='paper'):\n",
    "        outcome = \"lose\"\n",
    "    elif (you == 'scissors' and computer == 'paper'):\n",
    "        outcome = \"win\"\n",
    "    elif (you == 'paper' and computer == 'scissors'):\n",
    "        outcome = \"lose\"\n",
    "    else:\n",
    "        outcome = \"tie\"\n",
    "    return outcome\n",
    "\n",
    "choices = ['rock', 'paper', 'scissors']\n",
    "\n",
    "@interact_manual(player_one=choices, player_two=choices)\n",
    "def onclick(player_one, player_two):\n",
    "     "
   ]
  },
  {
   "cell_type": "code",
   "execution_count": null,
   "metadata": {},
   "outputs": [],
   "source": []
  }
 ],
 "metadata": {
  "anaconda-cloud": {},
  "kernelspec": {
   "display_name": "Python 3 (ipykernel)",
   "language": "python",
   "name": "python3"
  },
  "language_info": {
   "codemirror_mode": {
    "name": "ipython",
    "version": 3
   },
   "file_extension": ".py",
   "mimetype": "text/x-python",
   "name": "python",
   "nbconvert_exporter": "python",
   "pygments_lexer": "ipython3",
   "version": "3.11.7"
  },
  "toc": {
   "base_numbering": 1,
   "nav_menu": {},
   "number_sections": false,
   "sideBar": false,
   "skip_h1_title": false,
   "title_cell": "Table of Contents",
   "title_sidebar": "Contents",
   "toc_cell": false,
   "toc_position": {},
   "toc_section_display": false,
   "toc_window_display": false
  },
  "varInspector": {
   "cols": {
    "lenName": 16,
    "lenType": 16,
    "lenVar": 40
   },
   "kernels_config": {
    "python": {
     "delete_cmd_postfix": "",
     "delete_cmd_prefix": "del ",
     "library": "var_list.py",
     "varRefreshCmd": "print(var_dic_list())"
    },
    "r": {
     "delete_cmd_postfix": ") ",
     "delete_cmd_prefix": "rm(",
     "library": "var_list.r",
     "varRefreshCmd": "cat(var_dic_list()) "
    }
   },
   "types_to_exclude": [
    "module",
    "function",
    "builtin_function_or_method",
    "instance",
    "_Feature"
   ],
   "window_display": false
  }
 },
 "nbformat": 4,
 "nbformat_minor": 4
}
