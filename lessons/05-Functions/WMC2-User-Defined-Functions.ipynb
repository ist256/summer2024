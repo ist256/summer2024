{
 "cells": [
  {
   "cell_type": "markdown",
   "metadata": {},
   "source": [
    "# Watch Me Code 2: User-Defined Functions\n",
    "\n",
    "User Defined Functions\n"
   ]
  },
  {
   "cell_type": "code",
   "execution_count": 3,
   "metadata": {
    "collapsed": true,
    "jupyter": {
     "outputs_hidden": true
    }
   },
   "outputs": [],
   "source": [
    "## Function: rectangle_area\n",
    "## Arguments (inputs): length and Width\n",
    "## Returns (output): area\n",
    "\n",
    "def rectangle_area(length, width):\n",
    "    area = length * width\n",
    "    return area"
   ]
  },
  {
   "cell_type": "code",
   "execution_count": 4,
   "metadata": {},
   "outputs": [
    {
     "name": "stdout",
     "output_type": "stream",
     "text": [
      "50\n"
     ]
    }
   ],
   "source": [
    "result = rectangle_area(10,5)\n",
    "print(result)"
   ]
  },
  {
   "cell_type": "code",
   "execution_count": 6,
   "metadata": {},
   "outputs": [
    {
     "name": "stdout",
     "output_type": "stream",
     "text": [
      "100\n"
     ]
    }
   ],
   "source": [
    "# named arguments example\n",
    "side = 10\n",
    "area_of_a_square = rectangle_area(length=side, width=side)\n",
    "print (area_of_a_square)"
   ]
  },
  {
   "cell_type": "code",
   "execution_count": 9,
   "metadata": {
    "collapsed": true,
    "jupyter": {
     "outputs_hidden": true
    }
   },
   "outputs": [],
   "source": [
    "## Function: rectangle_perimeter\n",
    "## Arguments (inputs): length and Width\n",
    "## Returns (output): perimeter\n",
    "\n",
    "def rectangle_perimeter(length, width):\n",
    "    perm = 2 * (length + width)\n",
    "    return perm\n"
   ]
  },
  {
   "cell_type": "code",
   "execution_count": 10,
   "metadata": {},
   "outputs": [
    {
     "name": "stdout",
     "output_type": "stream",
     "text": [
      "300\n"
     ]
    }
   ],
   "source": [
    "fence_length = rectangle_perimeter(width=100,length=50)\n",
    "print (fence_length)"
   ]
  },
  {
   "cell_type": "code",
   "execution_count": 4,
   "metadata": {},
   "outputs": [
    {
     "name": "stdout",
     "output_type": "stream",
     "text": [
      "Collecting gtts\n",
      "  Downloading gTTS-2.5.1-py3-none-any.whl.metadata (4.1 kB)\n",
      "Requirement already satisfied: requests<3,>=2.27 in /opt/conda/lib/python3.11/site-packages (from gtts) (2.31.0)\n",
      "Requirement already satisfied: click<8.2,>=7.1 in /opt/conda/lib/python3.11/site-packages (from gtts) (8.1.7)\n",
      "Requirement already satisfied: charset-normalizer<4,>=2 in /opt/conda/lib/python3.11/site-packages (from requests<3,>=2.27->gtts) (3.3.2)\n",
      "Requirement already satisfied: idna<4,>=2.5 in /opt/conda/lib/python3.11/site-packages (from requests<3,>=2.27->gtts) (3.6)\n",
      "Requirement already satisfied: urllib3<3,>=1.21.1 in /opt/conda/lib/python3.11/site-packages (from requests<3,>=2.27->gtts) (2.1.0)\n",
      "Requirement already satisfied: certifi>=2017.4.17 in /opt/conda/lib/python3.11/site-packages (from requests<3,>=2.27->gtts) (2023.11.17)\n",
      "Downloading gTTS-2.5.1-py3-none-any.whl (29 kB)\n",
      "Installing collected packages: gtts\n",
      "Successfully installed gtts-2.5.1\n"
     ]
    }
   ],
   "source": [
    "! pip install gtts"
   ]
  },
  {
   "cell_type": "code",
   "execution_count": 5,
   "metadata": {},
   "outputs": [],
   "source": [
    "import gtts\n",
    "from IPython.display import display, Audio"
   ]
  },
  {
   "cell_type": "code",
   "execution_count": 6,
   "metadata": {},
   "outputs": [],
   "source": [
    "def speak(text, lang='en', autoplay=True, echo=False):\n",
    "    '''\n",
    "    This will use gTTS to take your text and speak it.\n",
    "    \n",
    "    Example:\n",
    "    \n",
    "    speak(\"Hello!\")\n",
    "    '''\n",
    "    speech = gtts.gTTS(text, slow=False, lang=lang)\n",
    "    speech.save(\"demo.mp3\")\n",
    "    if echo:\n",
    "        print(text)\n",
    "    return Audio(\"demo.mp3\",autoplay=autoplay)\n"
   ]
  },
  {
   "cell_type": "code",
   "execution_count": 8,
   "metadata": {},
   "outputs": [
    {
     "data": {
      "text/html": [
       "\n",
       "                <audio  controls=\"controls\" autoplay=\"autoplay\">\n",
       "                    <source src=\"data:audio/mpeg;base64,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\" type=\"audio/mpeg\" />\n",
       "                    Your browser does not support the audio element.\n",
       "                </audio>\n",
       "              "
      ],
      "text/plain": [
       "<IPython.lib.display.Audio object>"
      ]
     },
     "execution_count": 8,
     "metadata": {},
     "output_type": "execute_result"
    }
   ],
   "source": [
    "speak('This is a fun example of Python')"
   ]
  },
  {
   "cell_type": "code",
   "execution_count": null,
   "metadata": {},
   "outputs": [],
   "source": []
  }
 ],
 "metadata": {
  "anaconda-cloud": {},
  "kernelspec": {
   "display_name": "Python 3 (ipykernel)",
   "language": "python",
   "name": "python3"
  },
  "language_info": {
   "codemirror_mode": {
    "name": "ipython",
    "version": 3
   },
   "file_extension": ".py",
   "mimetype": "text/x-python",
   "name": "python",
   "nbconvert_exporter": "python",
   "pygments_lexer": "ipython3",
   "version": "3.11.7"
  },
  "varInspector": {
   "cols": {
    "lenName": 16,
    "lenType": 16,
    "lenVar": 40
   },
   "kernels_config": {
    "python": {
     "delete_cmd_postfix": "",
     "delete_cmd_prefix": "del ",
     "library": "var_list.py",
     "varRefreshCmd": "print(var_dic_list())"
    },
    "r": {
     "delete_cmd_postfix": ") ",
     "delete_cmd_prefix": "rm(",
     "library": "var_list.r",
     "varRefreshCmd": "cat(var_dic_list()) "
    }
   },
   "types_to_exclude": [
    "module",
    "function",
    "builtin_function_or_method",
    "instance",
    "_Feature"
   ],
   "window_display": false
  }
 },
 "nbformat": 4,
 "nbformat_minor": 4
}
