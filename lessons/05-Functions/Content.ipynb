{
 "cells": [
  {
   "cell_type": "markdown",
   "id": "a87bd369-f3a6-4820-a068-10274e7f2e3a",
   "metadata": {},
   "source": [
    "## Lesson 05: Functions\n",
    "\n",
    "### Overview\n",
    "\n",
    "In this lesson we learn:\n",
    "\n",
    "- How to use and discover other functions in modules.\n",
    "- How to inspect module contents and get help on functions. \n",
    "- The anatomy of custom functions: arguments, named arguments, return values\n",
    "- How to modularize our code with custom functions.\n",
    "\n",
    "### Required Before Large Group\n",
    "\n",
    "- READ: [Severance Ch 4: Functions](https://books.trinket.io/pfe/04-functions.html)\n",
    "- VIDEO: Python for Everybody: [Ch4 Part 1](https://youtu.be/5Kzw-0-DQAk) | [Part 2](https://youtu.be/AJVNYRqn8kM), by Charles Severance\n",
    "\n",
    "### Additional Resources\n",
    "\n",
    "- VIDEO: [Python functions, by Amigoscode](https://youtu.be/mJEpimi_tFo?si=U_f_WRK1tgIQ7WJP&t=4009)\n",
    "- VIDEO: [A Beginners Guide to PiP, by Real Python](https://realpython.com/lessons/what-is-pip-overview/)\n",
    "- VIDEO: [End to End Example: Functions, by Michael Fudge](https://youtu.be/9lj1kgQdZSg)\n",
    "- VIDEO: [Lab Walk Through, by Michael Fudge](https://youtu.be/3gLyp9KUFB4)\n",
    "- VIDEO: [Homework Advice, by Michael Fudge](https://youtu.be/0hJjqlkItXg)\n"
   ]
  },
  {
   "cell_type": "code",
   "execution_count": null,
   "id": "2f4f16c0-7eef-4334-b2ab-74fba0f1a590",
   "metadata": {},
   "outputs": [],
   "source": []
  }
 ],
 "metadata": {
  "kernelspec": {
   "display_name": "Python 3 (ipykernel)",
   "language": "python",
   "name": "python3"
  },
  "language_info": {
   "codemirror_mode": {
    "name": "ipython",
    "version": 3
   },
   "file_extension": ".py",
   "mimetype": "text/x-python",
   "name": "python",
   "nbconvert_exporter": "python",
   "pygments_lexer": "ipython3",
   "version": "3.11.7"
  }
 },
 "nbformat": 4,
 "nbformat_minor": 5
}
