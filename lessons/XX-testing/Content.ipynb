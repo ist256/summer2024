{
 "cells": [
  {
   "cell_type": "markdown",
   "id": "1d49cef2-d4d5-45e6-87d3-4125240c2b07",
   "metadata": {},
   "source": [
    "# Content \n",
    "\n",
    "## Lesson 01: Introduction \n",
    "\n",
    "### Overview\n",
    "\n",
    "This lesson we learn:\n",
    "\n",
    "- What is Python? What are the advantages / disadvantages of the language? How does it compare with other programming languages?\n",
    "- The Jupyter Notebook environment.  How to execute programs from the Jupyter environment.\n",
    "- Python programming language basics. Print, Assignment and Input statements.\n",
    "- Writing simple programs in Python following the Input / Process / Output model.\n",
    "\n",
    "### Required Reading / Viewing\n",
    "\n",
    "<!-- - :fa-book: [ZyBook Ch 1: Introduction](https://learn.zybooks.com)   -->\n",
    "- :fa-book: [Severance Ch 1: Introduction](https://books.trinket.io/pfe/01-intro.html)\n",
    "- :fa-video-camera: [Quick Introduction to Jupyter Notebook, by Michael Fudge](https://youtu.be/jZ952vChhuI)\n",
    "\n",
    "### More Resources, for Inspiration!\n",
    "\n",
    "- :fa-book: [How to think like a programmer - Lessons in problem solving](https://medium.freecodecamp.org/how-to-think-like-a-programmer-lessons-in-problem-solving-d1d8bf1de7d2)\n",
    "- :fa-video-camera: Python for Everybody: [Ch1 Part 1](https://youtu.be/fvhNadKjE8g) | [Part 2](https://youtu.be/VQZTZsXk8sA)  | [Part 3](https://youtu.be/LLzFNlCjTSo) | [Part 4](https://youtu.be/gsry2SYOFCw), by Charles Severance\n",
    "- :fa-video-camera: [\"TEDxSMU: You Should Learn to Program\", by Christian Genco](https://www.youtube.com/watch?v=xfBWk4nw440)\n",
    "- :fa-video-camera: [\"TEDxCERN: The poetry of programming\", by Linda Liukas](https://www.youtube.com/watch?v=-jRREn6ifEQ)\n",
    "\n",
    "### Large Group Video Lecture\n",
    "\n",
    "![notuploaded](images/notuploaded.png)\n",
    "\n",
    "<!-- [![Large Group Video Lecture](https://cfvod.kaltura.com/p/2707131/sp/0/thumbnail/entry_id/1_w3rufkw1/version/100011/width/970/height/575)](https://video.syr.edu/media/t/1_w3rufkw1) -->\n",
    "\n",
    "### Lab Walk Through\n",
    "`\n",
    "[![Lab Walk Through](https://img.youtube.com/vi/jUXoz-rKWEQ/0.jpg)](https://youtu.be/jUXoz-rKWEQ)\n",
    "\n",
    "### Homework Advice\n",
    "\n",
    "[![Homework Advice](https://img.youtube.com/vi/QLsMdSw3HU8/0.jpg)](https://youtu.be/QLsMdSw3HU8)\n",
    "\n"
   ]
  },
  {
   "cell_type": "code",
   "execution_count": null,
   "id": "dc1d1f6a-a244-494f-8c39-68ef96209f0e",
   "metadata": {},
   "outputs": [],
   "source": []
  }
 ],
 "metadata": {
  "kernelspec": {
   "display_name": "Python 3 (ipykernel)",
   "language": "python",
   "name": "python3"
  },
  "language_info": {
   "codemirror_mode": {
    "name": "ipython",
    "version": 3
   },
   "file_extension": ".py",
   "mimetype": "text/x-python",
   "name": "python",
   "nbconvert_exporter": "python",
   "pygments_lexer": "ipython3",
   "version": "3.11.7"
  }
 },
 "nbformat": 4,
 "nbformat_minor": 5
}
