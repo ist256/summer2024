{
 "cells": [
  {
   "cell_type": "markdown",
   "id": "21ba0de5-149b-4fd3-8cc5-b9dc21ab2abc",
   "metadata": {},
   "source": [
    "# ParkMagic! \n",
    "### An Example Student Final Project for IST256\n",
    "\n",
    "### By Michael Fudge\n",
    "\n",
    "- Students are asked to create something useful with what they learned in the course\n",
    "- This is usually some kind of data storytelling / app prototype / or both!\n",
    "- See bottom of document as for why this is an \"A\" level project.\n",
    "\n",
    "## Syracuse Park magic\n",
    "\n",
    "- Will you get a parking ticket? We hope not!\n",
    "- Data courtsey of Syracuse Open Data (https://data.syr.gov/)\n",
    "\n",
    "## New Stuff I Learned on my own:\n",
    "\n",
    "- Using the seaborn library for plots: https://seaborn.pydata.org/\n",
    "- Haversine for distance calculations: https://pypi.org/project/haversine/\n",
    "- Folium Custom Icons https://ocefpaf.github.io/python4oceanographers/blog/2015/11/02/icons/\n",
    "- Custom Data set from Syracuse Open Data Portal\n",
    "\n",
    "## Analysis\n",
    "\n",
    "### Inputs\n",
    "\n",
    "Enter a location, day and time (hour) you want to park\n",
    "\n",
    "### Outputs\n",
    "\n",
    "I will let you know your chances of getting a ticket (based on the data) and show tickets within a block or so of the location.\n",
    "\n",
    "That way you can decide if you should pay for parking or not!\n",
    "\n",
    "### Algorithms\n",
    "\n",
    "Creating the final dataset\n",
    "\n",
    "1. Load in the Syracuse Parking data\n",
    "2. figure out the day of the week / hour of the day for the ticket\n",
    "3. geocode the location to a lat/lon so it can be mapped\n",
    "4. save the dataset\n",
    "\n",
    "\n",
    "Calculating the probabilities\n",
    "\n",
    "1. for the finalized dataset:\n",
    "2. create a table of probabilities of getting a parking ticket on day of week X\n",
    "3. do the same for hour of the day \n",
    "\n",
    "\n",
    "Main Alogirithm\n",
    "\n",
    "1. load final dataset\n",
    "2. get probabilities for day and hour from dataset\n",
    "3. get inputs: location, day of week, and hour of day\n",
    "4. geocode the input location, place it on the map\n",
    "5. determine if input day is > average for that day\n",
    "6. determine if input hour is > average for that hour\n",
    "7. find parking tickets within a block (0.1 of a mile)\n",
    "8. display chances of getting a ticket\n",
    "9. display the map of parking tickets"
   ]
  },
  {
   "cell_type": "code",
   "execution_count": 1,
   "id": "d0eec1cf-697a-4ccc-a51f-97fdd6d9a24e",
   "metadata": {
    "tags": []
   },
   "outputs": [
    {
     "name": "stdout",
     "output_type": "stream",
     "text": [
      "Note: you may need to restart the kernel to use updated packages.\n"
     ]
    }
   ],
   "source": [
    "%pip install -q haversine"
   ]
  },
  {
   "cell_type": "code",
   "execution_count": 2,
   "id": "dad3cb01-79d4-42df-93c9-ecc74e6ba018",
   "metadata": {
    "tags": []
   },
   "outputs": [],
   "source": [
    "from IPython.display import display, HTML, Image\n",
    "from ipywidgets import interact_manual\n",
    "import pandas as pd\n",
    "import numpy as np\n",
    "import requests\n",
    "import json\n",
    "from datetime import datetime\n",
    "from time import sleep\n",
    "import seaborn as sns\n",
    "import folium\n",
    "from haversine import haversine, Unit\n"
   ]
  },
  {
   "cell_type": "markdown",
   "id": "5a8470fa-ed2d-43fe-8755-3d40a914e10a",
   "metadata": {},
   "source": [
    "# Part I: Exploratory Data Analysis\n",
    "\n",
    "The purpose of an exploratory data analysis is to:\n",
    "\n",
    "- Figure out \"what you have\"\n",
    "- Understand how it can be used to tell a story\n",
    "- Determine what is compelling to share as part of your story\n",
    "- Build and enrich the dataset as needed to tell a better story.\n",
    "\n",
    "The Titanic Lab from lesson 10 is an example of an exploratory data analysis.\n",
    "\n",
    "## Explore the Data, Creating A Final Dataset\n",
    "\n",
    "This section generates the final dataset `final_cuse_parking_violations.csv` from the source data `Parking_Violations_2023.csv` which was downloaded from the Syracuse Open Data Portal (https://data.syr.gov/) \n",
    "\n",
    "It does this after exploring the data for meaningful insights that will be included in the data story."
   ]
  },
  {
   "cell_type": "code",
   "execution_count": 3,
   "id": "b0453906-ac3b-4000-a2f9-038fc0b20008",
   "metadata": {
    "tags": []
   },
   "outputs": [],
   "source": [
    "# read in the parking violations original dataset\n",
    "pv = pd.read_csv(\"Parking_Violations_2023.csv\")"
   ]
  },
  {
   "cell_type": "code",
   "execution_count": 4,
   "id": "6b167326-b023-4cfc-bbfc-4534d4c208d2",
   "metadata": {
    "tags": []
   },
   "outputs": [
    {
     "data": {
      "text/html": [
       "<div>\n",
       "<style scoped>\n",
       "    .dataframe tbody tr th:only-of-type {\n",
       "        vertical-align: middle;\n",
       "    }\n",
       "\n",
       "    .dataframe tbody tr th {\n",
       "        vertical-align: top;\n",
       "    }\n",
       "\n",
       "    .dataframe thead th {\n",
       "        text-align: right;\n",
       "    }\n",
       "</style>\n",
       "<table border=\"1\" class=\"dataframe\">\n",
       "  <thead>\n",
       "    <tr style=\"text-align: right;\">\n",
       "      <th></th>\n",
       "      <th>X</th>\n",
       "      <th>Y</th>\n",
       "      <th>OBJECTID</th>\n",
       "      <th>ticket_number</th>\n",
       "      <th>issued_date</th>\n",
       "      <th>location</th>\n",
       "      <th>description</th>\n",
       "      <th>status</th>\n",
       "      <th>amount</th>\n",
       "    </tr>\n",
       "  </thead>\n",
       "  <tbody>\n",
       "    <tr>\n",
       "      <th>5954</th>\n",
       "      <td>NaN</td>\n",
       "      <td>NaN</td>\n",
       "      <td>5955</td>\n",
       "      <td>371219D</td>\n",
       "      <td>2023/01/26 09:51:00+00</td>\n",
       "      <td>300 NORTH AVE</td>\n",
       "      <td>ODD/EVEN PARKING NOV-MAR CO15-318 (A)2</td>\n",
       "      <td>Adjudication Pending</td>\n",
       "      <td>60</td>\n",
       "    </tr>\n",
       "    <tr>\n",
       "      <th>14548</th>\n",
       "      <td>NaN</td>\n",
       "      <td>NaN</td>\n",
       "      <td>14549</td>\n",
       "      <td>230901048</td>\n",
       "      <td>2023/03/20 09:40:00+00</td>\n",
       "      <td>400 HICKORY ST</td>\n",
       "      <td>UNREGSTRD/UNAFFIXD/ALL VTL401-1/403-1</td>\n",
       "      <td>Paid In Full</td>\n",
       "      <td>25</td>\n",
       "    </tr>\n",
       "    <tr>\n",
       "      <th>7110</th>\n",
       "      <td>NaN</td>\n",
       "      <td>NaN</td>\n",
       "      <td>7111</td>\n",
       "      <td>395492D</td>\n",
       "      <td>2023/02/01 21:09:00+00</td>\n",
       "      <td>900 ELIZABETH BLACKWELL ST</td>\n",
       "      <td>ODD/EVEN PARKING NOV-MAR CO15-318 (A)2</td>\n",
       "      <td>Paid In Full</td>\n",
       "      <td>60</td>\n",
       "    </tr>\n",
       "    <tr>\n",
       "      <th>13311</th>\n",
       "      <td>-8.477231e+06</td>\n",
       "      <td>5.318645e+06</td>\n",
       "      <td>13312</td>\n",
       "      <td>349351D</td>\n",
       "      <td>2023/03/06 13:29:00+00</td>\n",
       "      <td>500 SALINA ST S</td>\n",
       "      <td>NO STPNG HERE TO CNR/ALL CO15-316(A)6</td>\n",
       "      <td>Second Notice</td>\n",
       "      <td>25</td>\n",
       "    </tr>\n",
       "    <tr>\n",
       "      <th>4052</th>\n",
       "      <td>NaN</td>\n",
       "      <td>NaN</td>\n",
       "      <td>4053</td>\n",
       "      <td>389134D</td>\n",
       "      <td>2023/01/23 00:45:00+00</td>\n",
       "      <td>300 JASPER ST</td>\n",
       "      <td>ODD/EVEN PARKING NOV-MAR CO15-318 (A)2</td>\n",
       "      <td>Paid In Full</td>\n",
       "      <td>60</td>\n",
       "    </tr>\n",
       "    <tr>\n",
       "      <th>2859</th>\n",
       "      <td>NaN</td>\n",
       "      <td>NaN</td>\n",
       "      <td>2860</td>\n",
       "      <td>230700408</td>\n",
       "      <td>2023/01/20 09:31:00+00</td>\n",
       "      <td>100 COMSTOCK AVE</td>\n",
       "      <td>OBSTRUCTING TRAFFIC/ALL CO15-317</td>\n",
       "      <td>Paid In Full</td>\n",
       "      <td>60</td>\n",
       "    </tr>\n",
       "    <tr>\n",
       "      <th>5382</th>\n",
       "      <td>NaN</td>\n",
       "      <td>NaN</td>\n",
       "      <td>5383</td>\n",
       "      <td>231500694</td>\n",
       "      <td>2023/01/31 10:51:00+00</td>\n",
       "      <td>100 CLARENDON ST</td>\n",
       "      <td>UNREGSTRD/UNAFFIXD/ALL VTL401-1/403-1</td>\n",
       "      <td>Paid In Full</td>\n",
       "      <td>25</td>\n",
       "    </tr>\n",
       "    <tr>\n",
       "      <th>8009</th>\n",
       "      <td>-8.480831e+06</td>\n",
       "      <td>5.320198e+06</td>\n",
       "      <td>8010</td>\n",
       "      <td>408136D</td>\n",
       "      <td>2023/02/10 09:43:00+00</td>\n",
       "      <td>1900 FAYETTE ST E</td>\n",
       "      <td>ODD/EVEN PARKING NOV-MAR CO15-318 (A)2</td>\n",
       "      <td>Adjudication Pending</td>\n",
       "      <td>60</td>\n",
       "    </tr>\n",
       "    <tr>\n",
       "      <th>5894</th>\n",
       "      <td>NaN</td>\n",
       "      <td>NaN</td>\n",
       "      <td>5895</td>\n",
       "      <td>393049D</td>\n",
       "      <td>2023/01/24 19:35:00+00</td>\n",
       "      <td>1000 ADAMS ST E</td>\n",
       "      <td>NO STOPPING ANY TIME CO15-316 (A)14</td>\n",
       "      <td>Fourth Notice</td>\n",
       "      <td>25</td>\n",
       "    </tr>\n",
       "    <tr>\n",
       "      <th>7529</th>\n",
       "      <td>-8.475378e+06</td>\n",
       "      <td>5.320349e+06</td>\n",
       "      <td>7530</td>\n",
       "      <td>396404D</td>\n",
       "      <td>2023/02/04 23:54:00+00</td>\n",
       "      <td>300 GERTRUDE ST</td>\n",
       "      <td>ODD/EVEN PARKING NOV-MAR CO15-318 (A)2</td>\n",
       "      <td>Paid In Full</td>\n",
       "      <td>60</td>\n",
       "    </tr>\n",
       "  </tbody>\n",
       "</table>\n",
       "</div>"
      ],
      "text/plain": [
       "                  X             Y  OBJECTID ticket_number  \\\n",
       "5954            NaN           NaN      5955       371219D   \n",
       "14548           NaN           NaN     14549     230901048   \n",
       "7110            NaN           NaN      7111       395492D   \n",
       "13311 -8.477231e+06  5.318645e+06     13312       349351D   \n",
       "4052            NaN           NaN      4053       389134D   \n",
       "2859            NaN           NaN      2860     230700408   \n",
       "5382            NaN           NaN      5383     231500694   \n",
       "8009  -8.480831e+06  5.320198e+06      8010       408136D   \n",
       "5894            NaN           NaN      5895       393049D   \n",
       "7529  -8.475378e+06  5.320349e+06      7530       396404D   \n",
       "\n",
       "                  issued_date                    location  \\\n",
       "5954   2023/01/26 09:51:00+00               300 NORTH AVE   \n",
       "14548  2023/03/20 09:40:00+00              400 HICKORY ST   \n",
       "7110   2023/02/01 21:09:00+00  900 ELIZABETH BLACKWELL ST   \n",
       "13311  2023/03/06 13:29:00+00             500 SALINA ST S   \n",
       "4052   2023/01/23 00:45:00+00               300 JASPER ST   \n",
       "2859   2023/01/20 09:31:00+00            100 COMSTOCK AVE   \n",
       "5382   2023/01/31 10:51:00+00            100 CLARENDON ST   \n",
       "8009   2023/02/10 09:43:00+00           1900 FAYETTE ST E   \n",
       "5894   2023/01/24 19:35:00+00             1000 ADAMS ST E   \n",
       "7529   2023/02/04 23:54:00+00             300 GERTRUDE ST   \n",
       "\n",
       "                                  description                 status  amount  \n",
       "5954   ODD/EVEN PARKING NOV-MAR CO15-318 (A)2  Adjudication Pending       60  \n",
       "14548   UNREGSTRD/UNAFFIXD/ALL VTL401-1/403-1           Paid In Full      25  \n",
       "7110   ODD/EVEN PARKING NOV-MAR CO15-318 (A)2           Paid In Full      60  \n",
       "13311   NO STPNG HERE TO CNR/ALL CO15-316(A)6          Second Notice      25  \n",
       "4052   ODD/EVEN PARKING NOV-MAR CO15-318 (A)2           Paid In Full      60  \n",
       "2859         OBSTRUCTING TRAFFIC/ALL CO15-317           Paid In Full      60  \n",
       "5382    UNREGSTRD/UNAFFIXD/ALL VTL401-1/403-1           Paid In Full      25  \n",
       "8009   ODD/EVEN PARKING NOV-MAR CO15-318 (A)2  Adjudication Pending       60  \n",
       "5894      NO STOPPING ANY TIME CO15-316 (A)14          Fourth Notice      25  \n",
       "7529   ODD/EVEN PARKING NOV-MAR CO15-318 (A)2           Paid In Full      60  "
      ]
     },
     "execution_count": 4,
     "metadata": {},
     "output_type": "execute_result"
    }
   ],
   "source": [
    "pv.sample(10)"
   ]
  },
  {
   "cell_type": "markdown",
   "id": "0002913f-698e-4aa4-b2d6-035215779404",
   "metadata": {},
   "source": [
    "### Demonstrating What You Learned, While showing you can learn on your own!\n",
    "\n",
    "These functions help enrich the data set the first one will extract the day of the week from the date, the second will exctract the hour of the day from the time. \n",
    "\n",
    "Why these? After exploring the data, I determined it would be interesting to investigate if more parking tickets are given out on a specific day of the week or time of day."
   ]
  },
  {
   "cell_type": "code",
   "execution_count": 5,
   "id": "141736b4-da6c-4c11-9100-81df8e0f1057",
   "metadata": {
    "tags": []
   },
   "outputs": [],
   "source": [
    "from datetime import datetime\n",
    "def get_day_of_week(datestring):\n",
    "    '''\n",
    "    This function returns the day of the week (Monday, Tuesday, etc..) \n",
    "    for an input date string in the format:\n",
    "    YYYY/MM/DD HH:MM:SS+00\n",
    "    '''\n",
    "    dow = datetime.strptime(datestring, \"%Y/%m/%d %H:%M:%S+00\").strftime(\"%A\")\n",
    "    return dow\n",
    "\n",
    "assert get_day_of_week(\"2023/11/27 14:30:00+00\")  == \"Monday\""
   ]
  },
  {
   "cell_type": "code",
   "execution_count": 6,
   "id": "fa60b13c-579d-4d18-8f22-73fd9a391a58",
   "metadata": {
    "tags": []
   },
   "outputs": [],
   "source": [
    "def get_hour_of_day(datestring):\n",
    "    '''\n",
    "    This function returns the hour of the day (01, 23, etc..) \n",
    "    for an input date string in the format:\n",
    "    YYYY/MM/DD HH:MM:SS+00\n",
    "    '''    \n",
    "    hod = datetime.strptime(datestring, \"%Y/%m/%d %H:%M:%S+00\").strftime(\"%H\")\n",
    "    return hod\n",
    "\n",
    "assert get_hour_of_day(\"2023/11/27 14:30:00+00\") == \"14\""
   ]
  },
  {
   "cell_type": "markdown",
   "id": "06120745-de0b-47f4-a6a3-1a6b9c9be872",
   "metadata": {},
   "source": [
    "use pandas `apply()` to generate a new column..."
   ]
  },
  {
   "cell_type": "code",
   "execution_count": 7,
   "id": "027ca135-a690-4f16-98d5-462dc772bf42",
   "metadata": {
    "tags": []
   },
   "outputs": [],
   "source": [
    "# Engineer dayofweek and hourofday columns we will need\n",
    "pv['dayofweek'] = pv['issued_date'].apply(lambda dt: get_day_of_week(dt))\n",
    "pv['hour'] = pv['issued_date'].apply(lambda dt: get_hour_of_day(dt))"
   ]
  },
  {
   "cell_type": "code",
   "execution_count": 8,
   "id": "f256237f-5253-4ded-8fd3-3eb55446a767",
   "metadata": {
    "tags": []
   },
   "outputs": [
    {
     "data": {
      "text/html": [
       "<div>\n",
       "<style scoped>\n",
       "    .dataframe tbody tr th:only-of-type {\n",
       "        vertical-align: middle;\n",
       "    }\n",
       "\n",
       "    .dataframe tbody tr th {\n",
       "        vertical-align: top;\n",
       "    }\n",
       "\n",
       "    .dataframe thead th {\n",
       "        text-align: right;\n",
       "    }\n",
       "</style>\n",
       "<table border=\"1\" class=\"dataframe\">\n",
       "  <thead>\n",
       "    <tr style=\"text-align: right;\">\n",
       "      <th></th>\n",
       "      <th>X</th>\n",
       "      <th>Y</th>\n",
       "      <th>OBJECTID</th>\n",
       "      <th>ticket_number</th>\n",
       "      <th>issued_date</th>\n",
       "      <th>location</th>\n",
       "      <th>description</th>\n",
       "      <th>status</th>\n",
       "      <th>amount</th>\n",
       "      <th>dayofweek</th>\n",
       "      <th>hour</th>\n",
       "    </tr>\n",
       "  </thead>\n",
       "  <tbody>\n",
       "    <tr>\n",
       "      <th>9716</th>\n",
       "      <td>NaN</td>\n",
       "      <td>NaN</td>\n",
       "      <td>9717</td>\n",
       "      <td>230100612</td>\n",
       "      <td>2023/02/23 09:42:00+00</td>\n",
       "      <td>300 WAVERLY AVE</td>\n",
       "      <td>NO STOPPING ANY TIME CO15-316 (A)14</td>\n",
       "      <td>Adjudication Pending</td>\n",
       "      <td>25</td>\n",
       "      <td>Thursday</td>\n",
       "      <td>09</td>\n",
       "    </tr>\n",
       "    <tr>\n",
       "      <th>6103</th>\n",
       "      <td>NaN</td>\n",
       "      <td>NaN</td>\n",
       "      <td>6104</td>\n",
       "      <td>231300653</td>\n",
       "      <td>2023/02/06 10:27:00+00</td>\n",
       "      <td>1800 BUTTERNUT ST</td>\n",
       "      <td>ODD/EVEN PARKING NOV-MAR CO15-318 (A)2</td>\n",
       "      <td>Issued</td>\n",
       "      <td>60</td>\n",
       "      <td>Monday</td>\n",
       "      <td>10</td>\n",
       "    </tr>\n",
       "    <tr>\n",
       "      <th>8850</th>\n",
       "      <td>NaN</td>\n",
       "      <td>NaN</td>\n",
       "      <td>8851</td>\n",
       "      <td>230100479</td>\n",
       "      <td>2023/02/16 10:21:00+00</td>\n",
       "      <td>200 STATE ST S</td>\n",
       "      <td>PARKED ON SIDEWALK/ALL CO15-316 (A)1</td>\n",
       "      <td>Third Notice</td>\n",
       "      <td>60</td>\n",
       "      <td>Thursday</td>\n",
       "      <td>10</td>\n",
       "    </tr>\n",
       "    <tr>\n",
       "      <th>4273</th>\n",
       "      <td>-8.474522e+06</td>\n",
       "      <td>5.317471e+06</td>\n",
       "      <td>4274</td>\n",
       "      <td>23500454</td>\n",
       "      <td>2023/01/24 12:03:00+00</td>\n",
       "      <td>300 EUCLID AVE</td>\n",
       "      <td>NO PARKING ANY TIME CO15-316 (A)14</td>\n",
       "      <td>Fourth Notice</td>\n",
       "      <td>25</td>\n",
       "      <td>Tuesday</td>\n",
       "      <td>12</td>\n",
       "    </tr>\n",
       "    <tr>\n",
       "      <th>2352</th>\n",
       "      <td>NaN</td>\n",
       "      <td>NaN</td>\n",
       "      <td>2353</td>\n",
       "      <td>231500360</td>\n",
       "      <td>2023/01/14 18:47:00+00</td>\n",
       "      <td>900 MADISON ST</td>\n",
       "      <td>ODD/EVEN PARKING NOV-MAR CO15-318 (A)2</td>\n",
       "      <td>Paid In Full</td>\n",
       "      <td>60</td>\n",
       "      <td>Saturday</td>\n",
       "      <td>18</td>\n",
       "    </tr>\n",
       "    <tr>\n",
       "      <th>13626</th>\n",
       "      <td>-8.477009e+06</td>\n",
       "      <td>5.314101e+06</td>\n",
       "      <td>13627</td>\n",
       "      <td>410684D</td>\n",
       "      <td>2023/03/06 09:26:00+00</td>\n",
       "      <td>400 OSTRANDER AVE E</td>\n",
       "      <td>ODD/EVEN PARKING NOV-MAR CO15-318 (A)2</td>\n",
       "      <td>Second Notice</td>\n",
       "      <td>60</td>\n",
       "      <td>Monday</td>\n",
       "      <td>09</td>\n",
       "    </tr>\n",
       "    <tr>\n",
       "      <th>12717</th>\n",
       "      <td>-8.473267e+06</td>\n",
       "      <td>5.322855e+06</td>\n",
       "      <td>12718</td>\n",
       "      <td>410628D</td>\n",
       "      <td>2023/03/02 11:10:00+00</td>\n",
       "      <td>300 VILLAGE DR</td>\n",
       "      <td>ODD/EVEN PARKING NOV-MAR CO15-318 (A)2</td>\n",
       "      <td>Adjudication Pending</td>\n",
       "      <td>60</td>\n",
       "      <td>Thursday</td>\n",
       "      <td>11</td>\n",
       "    </tr>\n",
       "    <tr>\n",
       "      <th>7697</th>\n",
       "      <td>NaN</td>\n",
       "      <td>NaN</td>\n",
       "      <td>7698</td>\n",
       "      <td>394484D</td>\n",
       "      <td>2023/01/23 22:45:00+00</td>\n",
       "      <td>100 WHITTIER AVE</td>\n",
       "      <td>ODD/EVEN PARKING NOV-MAR CO15-318 (A)2</td>\n",
       "      <td>Paid In Full</td>\n",
       "      <td>60</td>\n",
       "      <td>Monday</td>\n",
       "      <td>22</td>\n",
       "    </tr>\n",
       "    <tr>\n",
       "      <th>4780</th>\n",
       "      <td>NaN</td>\n",
       "      <td>NaN</td>\n",
       "      <td>4781</td>\n",
       "      <td>231500653</td>\n",
       "      <td>2023/01/26 10:56:00+00</td>\n",
       "      <td>200 CLINTON ST N</td>\n",
       "      <td>PARKED IN LOADING ZONE/ALL CO15-329</td>\n",
       "      <td>Paid In Full</td>\n",
       "      <td>25</td>\n",
       "      <td>Thursday</td>\n",
       "      <td>10</td>\n",
       "    </tr>\n",
       "    <tr>\n",
       "      <th>9148</th>\n",
       "      <td>NaN</td>\n",
       "      <td>NaN</td>\n",
       "      <td>9149</td>\n",
       "      <td>387245D</td>\n",
       "      <td>2023/02/13 08:04:00+00</td>\n",
       "      <td>200 BANK ALLEY</td>\n",
       "      <td>NO STOPPING ANY TIME CO15-316 (A)14</td>\n",
       "      <td>Paid In Full</td>\n",
       "      <td>25</td>\n",
       "      <td>Monday</td>\n",
       "      <td>08</td>\n",
       "    </tr>\n",
       "  </tbody>\n",
       "</table>\n",
       "</div>"
      ],
      "text/plain": [
       "                  X             Y  OBJECTID ticket_number  \\\n",
       "9716            NaN           NaN      9717     230100612   \n",
       "6103            NaN           NaN      6104     231300653   \n",
       "8850            NaN           NaN      8851     230100479   \n",
       "4273  -8.474522e+06  5.317471e+06      4274      23500454   \n",
       "2352            NaN           NaN      2353     231500360   \n",
       "13626 -8.477009e+06  5.314101e+06     13627       410684D   \n",
       "12717 -8.473267e+06  5.322855e+06     12718       410628D   \n",
       "7697            NaN           NaN      7698       394484D   \n",
       "4780            NaN           NaN      4781     231500653   \n",
       "9148            NaN           NaN      9149       387245D   \n",
       "\n",
       "                  issued_date             location  \\\n",
       "9716   2023/02/23 09:42:00+00      300 WAVERLY AVE   \n",
       "6103   2023/02/06 10:27:00+00    1800 BUTTERNUT ST   \n",
       "8850   2023/02/16 10:21:00+00       200 STATE ST S   \n",
       "4273   2023/01/24 12:03:00+00       300 EUCLID AVE   \n",
       "2352   2023/01/14 18:47:00+00       900 MADISON ST   \n",
       "13626  2023/03/06 09:26:00+00  400 OSTRANDER AVE E   \n",
       "12717  2023/03/02 11:10:00+00       300 VILLAGE DR   \n",
       "7697   2023/01/23 22:45:00+00     100 WHITTIER AVE   \n",
       "4780   2023/01/26 10:56:00+00     200 CLINTON ST N   \n",
       "9148   2023/02/13 08:04:00+00       200 BANK ALLEY   \n",
       "\n",
       "                                  description                 status  amount  \\\n",
       "9716      NO STOPPING ANY TIME CO15-316 (A)14  Adjudication Pending       25   \n",
       "6103   ODD/EVEN PARKING NOV-MAR CO15-318 (A)2                 Issued      60   \n",
       "8850     PARKED ON SIDEWALK/ALL CO15-316 (A)1           Third Notice      60   \n",
       "4273       NO PARKING ANY TIME CO15-316 (A)14          Fourth Notice      25   \n",
       "2352   ODD/EVEN PARKING NOV-MAR CO15-318 (A)2           Paid In Full      60   \n",
       "13626  ODD/EVEN PARKING NOV-MAR CO15-318 (A)2          Second Notice      60   \n",
       "12717  ODD/EVEN PARKING NOV-MAR CO15-318 (A)2  Adjudication Pending       60   \n",
       "7697   ODD/EVEN PARKING NOV-MAR CO15-318 (A)2           Paid In Full      60   \n",
       "4780      PARKED IN LOADING ZONE/ALL CO15-329           Paid In Full      25   \n",
       "9148      NO STOPPING ANY TIME CO15-316 (A)14           Paid In Full      25   \n",
       "\n",
       "      dayofweek hour  \n",
       "9716   Thursday   09  \n",
       "6103     Monday   10  \n",
       "8850   Thursday   10  \n",
       "4273    Tuesday   12  \n",
       "2352   Saturday   18  \n",
       "13626    Monday   09  \n",
       "12717  Thursday   11  \n",
       "7697     Monday   22  \n",
       "4780   Thursday   10  \n",
       "9148     Monday   08  "
      ]
     },
     "execution_count": 8,
     "metadata": {},
     "output_type": "execute_result"
    }
   ],
   "source": [
    "pv.sample(10)"
   ]
  },
  {
   "cell_type": "code",
   "execution_count": 9,
   "id": "6b5c4a5b-245b-4bde-b3c8-e57856c26b7f",
   "metadata": {
    "tags": []
   },
   "outputs": [],
   "source": [
    "cache = {\n",
    "    '1000 EILEEN COLLINS BLVD SYRACUSE, NY' : (43.113505702811246,-76.11989651004016)\n",
    "}"
   ]
  },
  {
   "cell_type": "code",
   "execution_count": 10,
   "id": "66574676-afb7-4f03-be64-3ee1f979a19c",
   "metadata": {
    "tags": []
   },
   "outputs": [],
   "source": [
    "def geocode_syracuse(location):\n",
    "    '''\n",
    "    This will geocode the location. It uses a caching strategy\n",
    "    so that we don't keep geocoding the same addresses.\n",
    "    '''\n",
    "    global cache\n",
    "    location = f\"{location} SYRACUSE, NY\".upper()\n",
    "    lat, lon = cache.get(location, (0, 0))\n",
    "    if lat == 0 and lon == 0:\n",
    "        sleep(0.5) # to avoid an error when geocoding to quickly\n",
    "        query_string = {'q': location, 'format': 'json'}\n",
    "        headers = {\"user-agent\": \"ist256 example mafudge\"}\n",
    "        url = 'https://nominatim.openstreetmap.org/search'\n",
    "        response = requests.get(url, params=query_string, headers=headers)\n",
    "        response.raise_for_status()\n",
    "        geodata = response.json()\n",
    "        if geodata != []:\n",
    "            lat, lon = geodata[0]['lat'], geodata[0]['lon']\n",
    "            cache[location] = (lat, lon)\n",
    "            return (lat, lon)\n",
    "        else:\n",
    "            return (0, 0)\n",
    "    else:\n",
    "        return (lat, lon)\n",
    "# Testing with 2300 FAYETTE ST E syracuse, NY \n",
    "assert geocode_syracuse('2300 FAYETTE ST E') == ('43.048168', '-76.111425')"
   ]
  },
  {
   "cell_type": "code",
   "execution_count": null,
   "id": "bd43cedd-af61-495c-88f6-07a8287e9119",
   "metadata": {},
   "outputs": [],
   "source": [
    "# do the geocoding... this takes a while, so grab a drink while you wait!\n",
    "pv['coords'] = pv.apply(lambda row: geocode_syracuse(row['location']), axis=1)"
   ]
  },
  {
   "cell_type": "code",
   "execution_count": null,
   "id": "2b4b33ae-9050-4482-807e-cd9e4e7ac6d9",
   "metadata": {},
   "outputs": [],
   "source": [
    "pv.sample(10)"
   ]
  },
  {
   "cell_type": "code",
   "execution_count": null,
   "id": "2169f8e6-54a6-4d41-bb9c-87675e49a20a",
   "metadata": {},
   "outputs": [],
   "source": [
    "# write out the final dataset\n",
    "pv.to_csv(\"X_final_cuse_parking_violations.csv\")"
   ]
  },
  {
   "cell_type": "markdown",
   "id": "eda866ce-4165-4f47-885d-343478667c79",
   "metadata": {
    "tags": []
   },
   "source": [
    "## Calculating the Probabilities\n",
    "\n",
    "In this section I create tables for day of the week and hour of the day based on the probabilitity distributions of getting a ticket."
   ]
  },
  {
   "cell_type": "code",
   "execution_count": 12,
   "id": "9a3ce9ad-fb52-478f-bfe8-1d221dca1b49",
   "metadata": {
    "tags": []
   },
   "outputs": [],
   "source": [
    "# read in the final dataset\n",
    "pv = pd.read_csv(\"final_cuse_parking_violations.csv\")"
   ]
  },
  {
   "cell_type": "code",
   "execution_count": 13,
   "id": "f7168725-8e68-4316-bd34-02cf2617c9ac",
   "metadata": {
    "tags": []
   },
   "outputs": [
    {
     "data": {
      "text/plain": [
       "<Axes: xlabel='dayofweek', ylabel='count'>"
      ]
     },
     "execution_count": 13,
     "metadata": {},
     "output_type": "execute_result"
    },
    {
     "data": {
      "image/png": "[encoded data removed]",
      "text/plain": [
       "<Figure size 640x480 with 1 Axes>"
      ]
     },
     "metadata": {},
     "output_type": "display_data"
    }
   ],
   "source": [
    "# checking out the days of the week. In a perfect scenaio all days would be equal. 1/7\n",
    "# Not a lot of tickets on the weekend.\n",
    "sns.countplot(x='dayofweek', data=pv)"
   ]
  },
  {
   "cell_type": "code",
   "execution_count": 14,
   "id": "604e9279-2fed-400c-a310-bad5ce4dfcc6",
   "metadata": {
    "tags": []
   },
   "outputs": [
    {
     "data": {
      "text/plain": [
       "dayofweek\n",
       "Tuesday      0.198264\n",
       "Thursday     0.197821\n",
       "Wednesday    0.190473\n",
       "Monday       0.174447\n",
       "Friday       0.140369\n",
       "Sunday       0.053968\n",
       "Saturday     0.044657\n",
       "Name: proportion, dtype: float64"
      ]
     },
     "execution_count": 14,
     "metadata": {},
     "output_type": "execute_result"
    }
   ],
   "source": [
    "day_prob_table = pv['dayofweek'].value_counts(normalize=True)\n",
    "day_prob_table"
   ]
  },
  {
   "cell_type": "code",
   "execution_count": 15,
   "id": "0a8f9e3e-e6da-4544-aae0-e7ce3822e15c",
   "metadata": {
    "tags": []
   },
   "outputs": [
    {
     "data": {
      "text/plain": [
       "<Axes: xlabel='hour', ylabel='count'>"
      ]
     },
     "execution_count": 15,
     "metadata": {},
     "output_type": "execute_result"
    },
    {
     "data": {
      "image/png": "[encoded data removed]",
      "text/plain": [
       "<Figure size 640x480 with 1 Axes>"
      ]
     },
     "metadata": {},
     "output_type": "display_data"
    }
   ],
   "source": [
    "sns.countplot(x='hour', data=pv.sort_values(\"hour\")) # Yuck let's sort it\n",
    "# 9 - 11 am is ticket witching hour\n",
    "# in a perfect scenairo all hours would be equal 1/24"
   ]
  },
  {
   "cell_type": "code",
   "execution_count": 16,
   "id": "b473f27a-98b4-476c-9675-f778e92adca8",
   "metadata": {
    "tags": []
   },
   "outputs": [
    {
     "data": {
      "text/plain": [
       "hour\n",
       "0     0.020143\n",
       "1     0.013302\n",
       "2     0.012922\n",
       "3     0.011275\n",
       "4     0.009755\n",
       "5     0.003991\n",
       "6     0.022677\n",
       "7     0.008045\n",
       "8     0.005701\n",
       "9     0.168810\n",
       "10    0.244632\n",
       "11    0.160702\n",
       "12    0.029645\n",
       "13    0.067017\n",
       "14    0.049661\n",
       "15    0.010515\n",
       "16    0.018243\n",
       "17    0.019320\n",
       "18    0.008171\n",
       "19    0.027301\n",
       "20    0.024324\n",
       "21    0.024070\n",
       "22    0.020460\n",
       "23    0.019320\n",
       "Name: proportion, dtype: float64"
      ]
     },
     "execution_count": 16,
     "metadata": {},
     "output_type": "execute_result"
    }
   ],
   "source": [
    "hour_prob_table = pv['hour'].value_counts(normalize=True).sort_index()\n",
    "hour_prob_table"
   ]
  },
  {
   "cell_type": "code",
   "execution_count": 17,
   "id": "9c77d849-5dc4-4b66-8007-d5e5a916e2e6",
   "metadata": {
    "tags": []
   },
   "outputs": [
    {
     "data": {
      "text/plain": [
       "(0.012922024450497244, 0.19826439475517832)"
      ]
     },
     "execution_count": 17,
     "metadata": {},
     "output_type": "execute_result"
    }
   ],
   "source": [
    "# example: retrieving a probability\n",
    "hour = \"02\"\n",
    "day = \"Tuesday\"\n",
    "hour_prob_table[int(hour)], day_prob_table[day]"
   ]
  },
  {
   "cell_type": "markdown",
   "id": "2f5d562c-87d1-4088-b7b1-a73b18cfd840",
   "metadata": {
    "tags": []
   },
   "source": [
    "# Part II - This is the Data Story Telling\n",
    "\n",
    "## Main Program\n",
    "\n",
    "Run the cells below this line to execute the main program. This will execute the code necessary to tell the data story. \n",
    "\n",
    "It assumes the `final_cuse_parking_violations.csv` exists already.\n",
    "\n",
    "This should run on a new kernel provided `haversine` was installed."
   ]
  },
  {
   "cell_type": "code",
   "execution_count": 18,
   "id": "cd164e34-a84e-4eeb-942a-53395570525f",
   "metadata": {
    "tags": []
   },
   "outputs": [],
   "source": [
    "from IPython.display import display, HTML, Image\n",
    "from ipywidgets import interact_manual\n",
    "import folium\n",
    "import pandas as pd\n",
    "import requests\n",
    "from haversine import haversine, Unit"
   ]
  },
  {
   "cell_type": "code",
   "execution_count": 19,
   "id": "60dca47d-bca3-47c5-9cd3-eed3a0f12f7c",
   "metadata": {
    "tags": []
   },
   "outputs": [],
   "source": [
    "def geocode_syracuse_no_cache(location):\n",
    "    '''\n",
    "    This will geocode the location. It does not use a caching strategy\n",
    "    '''\n",
    "    location = f\"{location} SYRACUSE, NY\".upper()\n",
    "    query_string = {'q': location, 'format': 'json'}\n",
    "    headers = {\"user-agent\": \"ist256 example mafudge\"}\n",
    "    url = 'https://nominatim.openstreetmap.org/search'\n",
    "    response = requests.get(url, params=query_string, headers=headers)\n",
    "    response.raise_for_status()\n",
    "    geodata = response.json()\n",
    "    if geodata != []:\n",
    "        lat, lon = geodata[0]['lat'], geodata[0]['lon']\n",
    "        return (lat, lon)\n",
    "    else:\n",
    "        return (0, 0)\n",
    "\n",
    "assert geocode_syracuse_no_cache(\"330 W GENESEE ST\") == ('43.05230228571428', '-76.15564457142858')"
   ]
  },
  {
   "cell_type": "code",
   "execution_count": 20,
   "id": "682067d2-98d5-4193-a6ce-978c397bcc84",
   "metadata": {
    "tags": []
   },
   "outputs": [],
   "source": [
    "def mark_tickets_nearby(center_latlon, day, hour, pv, radius_in_miles):\n",
    "    '''\n",
    "    return a list of markers that are near center_latlon based on \n",
    "    radius_in_miles. was written to simplify the logic in the final program\n",
    "    '''\n",
    "    markers = []\n",
    "    center_lat = float(center_latlon[0])\n",
    "    center_lon = float(center_latlon[1])\n",
    "    for index, row in pv[:].iterrows():\n",
    "        lat = float(row['coords'].split(\",\")[0].replace(\"(\",\"\").replace(\"'\",\"\")) # clean up the lat which was a string\n",
    "        lon = float(row['coords'].split(\",\")[1].replace(\")\",\"\").replace(\"'\",\"\")) # # clean up the lon which was a string\n",
    "        distance = haversine((center_lat, center_lon), (lat, lon), unit = Unit.MILES)\n",
    "        if distance <= radius_in_miles:\n",
    "            if day ==  row['dayofweek'] and hour == row['hour']:\n",
    "                icon = icon=folium.Icon(color=\"red\", icon=\"arrow-up\")\n",
    "            else:\n",
    "                icon = icon=folium.Icon(color=\"orange\", icon=\"arrow-up\")\n",
    "\n",
    "            text = f\"{row['location']} - {row['dayofweek']} @ {row['hour']}:00 - {row['description']}\"\n",
    "            marker = folium.Marker(location=(lat, lon), popup = text, icon = icon)\n",
    "            markers.append(marker)\n",
    "\n",
    "    return markers\n",
    "\n",
    "pv = pd.read_csv(\"final_cuse_parking_violations.csv\")\n",
    "lat, lon = geocode_syracuse_no_cache(\"330 W GENESEE ST\")\n",
    "assert len(mark_tickets_nearby((lat,lon), \"Sunday\", \"09\", pv, 0.05)) == 15"
   ]
  },
  {
   "cell_type": "code",
   "execution_count": 21,
   "id": "43e910cd-785f-4dfa-9ba5-a001c0cae44c",
   "metadata": {
    "tags": []
   },
   "outputs": [
    {
     "data": {
      "text/html": [
       "<h1>Syracuse Parkmagic</h1>"
      ],
      "text/plain": [
       "<IPython.core.display.HTML object>"
      ]
     },
     "metadata": {},
     "output_type": "display_data"
    },
    {
     "data": {
      "text/html": [
       "Let us help you avoid a parking ticket!"
      ],
      "text/plain": [
       "<IPython.core.display.HTML object>"
      ]
     },
     "metadata": {},
     "output_type": "display_data"
    },
    {
     "data": {
      "text/html": [
       "Enter the day, hour and address of where you want to mark and we will do the rest!"
      ],
      "text/plain": [
       "<IPython.core.display.HTML object>"
      ]
     },
     "metadata": {},
     "output_type": "display_data"
    },
    {
     "data": {
      "application/vnd.jupyter.widget-view+json": {
       "model_id": "33a2db9311e34c1c9094f8994e637fae",
       "version_major": 2,
       "version_minor": 0
      },
      "text/plain": [
       "interactive(children=(Dropdown(description='day', options=('Sunday', 'Monday', 'Tuesday', 'Wednesday', 'Thursd…"
      ]
     },
     "metadata": {},
     "output_type": "display_data"
    }
   ],
   "source": [
    "# Main Program\n",
    "pv = pd.read_csv(\"final_cuse_parking_violations.csv\")\n",
    "day_prob_table = pv['dayofweek'].value_counts(normalize=True)\n",
    "hour_prob_table = pv['hour'].value_counts(normalize=True).sort_index()\n",
    "day_average = 1/7\n",
    "hour_average = 1/24\n",
    "days = ['Sunday', 'Monday', 'Tuesday', 'Wednesday', 'Thursday', 'Friday', 'Saturday']\n",
    "hours = hour_prob_table.index.values\n",
    "metered_parking_day_exception = ['Sunday']\n",
    "metered_parking_hour_exception = ['00', '01', '02', '03', '04', '05', '06', '07', '08', '19', '20', '21', '22', '23', '24']\n",
    "\n",
    "display(HTML(\"<h1>Syracuse Parkmagic</h1>\"))\n",
    "display(HTML(\"Let us help you avoid a parking ticket!\"))\n",
    "display(HTML(\"Enter the day, hour and address of where you want to mark and we will do the rest!\"))\n",
    "\n",
    "@interact_manual(day=days, hour=hours, address=\"330 E WASHINGTON ST\")\n",
    "def onclick(day, hour, address):\n",
    "    day_prob = day_prob_table[day]\n",
    "    hour_prob = hour_prob_table[int(hour)]\n",
    "    lat, lon = geocode_syracuse_no_cache(address)\n",
    "    cusemap = folium.Map(location=(lat,lon), zoom_start=18)\n",
    "    marker = folium.Marker(location=(lat, lon), popup=address, icon=folium.Icon(color=\"green\", icon=\"home\"))\n",
    "    cusemap.add_child(marker, name=address)\n",
    "    if day_prob > day_average:\n",
    "        day_interval = \"HIGHER\"\n",
    "    else:\n",
    "        day_interval = \"LOWER\"\n",
    "    if hour_prob > hour_average:\n",
    "        hour_interval = \"HIGHER\"\n",
    "    else:\n",
    "        hour_interval = \"LOWER\"\n",
    "    if hour in metered_parking_hour_exception or day in metered_parking_day_exception:\n",
    "        meter = \"You do NOT need to pay for metered parking.\"\n",
    "    else:\n",
    "        meter = \"You must pay at a parking meter.\"\n",
    "\n",
    "    display(HTML(\"<h3>Parking Analysis</h3>\"))\n",
    "    display(HTML(f\"Report for {address} On {day} at {hour}:00\"))\n",
    "    display(HTML(f\"<li>{100*day_prob:.1f}% of all tickets were issued on this day. This is {day_interval} than the average.\"))\n",
    "    display(HTML(f\"<li>{100*hour_prob:.1f}% of all tickets were issued at your selected hour. This is {hour_interval} than the average.\"))\n",
    "    display(HTML(f\"<li>{meter}\"))\n",
    "\n",
    "    display(HTML(\"<h4>Past Tickets Issued in This Area</h4>\"))\n",
    "    markers = mark_tickets_nearby((lat,lon),day, hour, pv, 0.1)\n",
    "    for marker in markers:\n",
    "        cusemap.add_child(marker)\n",
    "    display(cusemap)\n"
   ]
  },
  {
   "cell_type": "code",
   "execution_count": null,
   "id": "70db7f3e-ec15-4cf4-94a2-98857f84b3e4",
   "metadata": {},
   "outputs": [],
   "source": []
  },
  {
   "cell_type": "markdown",
   "id": "21afac79-e3d3-46f4-bbbb-a5312aeb6cb7",
   "metadata": {},
   "source": [
    "# What makes this an \"A-Level\" grade?\n",
    "\n",
    "- Uses what we learned in units 09-13:\n",
    "    - pandas, \n",
    "    - input and display widgets, \n",
    "    - visualizizations like maps / graphs\n",
    "- Dataset is enriched in several ways:\n",
    "    - geocode address to lat/lon\n",
    "    - haversine distance for nearby tickets\n",
    "    - day of week and time of day extracted from date and time\n",
    "- I used something I had to figure out on my own (haversine)\n",
    "- Code:\n",
    "    - Clearly documented, labeled, \n",
    "    - Modularized into functions like `mark_tickets_nearby()`, and `get_day_of_week()`\n",
    "    - Tests written for functions\n",
    "    - Meets minimum line number requirements.\n",
    "    - Any code that does something questionable is commented for clarity.\n",
    "- Data Exploration\n",
    "    - There is code that explores the data to figure out what kind of story I want to tell and why\n",
    "    - Visuals such as charts, graphs, etc. were used to see what is happening with the data.\n",
    "- Data Product\n",
    "    - There is code that tells the story and allows a user to interact with the data product.\n",
    "    - There is a completed problem analysis with inputs -> process -> output for the data product to explain how the story goes.\n",
    "    - Missing are a video of my telling the data story + a reflection video for what I learned."
   ]
  },
  {
   "cell_type": "code",
   "execution_count": null,
   "id": "e8016b40-3e1e-411a-ac16-0718c94bf951",
   "metadata": {},
   "outputs": [],
   "source": []
  },
  {
   "cell_type": "code",
   "execution_count": null,
   "id": "58eea799-7761-464b-9604-13dd2151b650",
   "metadata": {},
   "outputs": [],
   "source": []
  },
  {
   "cell_type": "code",
   "execution_count": null,
   "id": "05d232b6-d92a-477f-b253-dffe6e3c6354",
   "metadata": {},
   "outputs": [],
   "source": []
  },
  {
   "cell_type": "code",
   "execution_count": null,
   "id": "df27fade-0411-4a5b-a5f4-cf966843647e",
   "metadata": {
    "tags": []
   },
   "outputs": [],
   "source": []
  },
  {
   "cell_type": "code",
   "execution_count": null,
   "id": "b25ae3a8-3e9e-4a61-9075-196545013f45",
   "metadata": {},
   "outputs": [],
   "source": []
  },
  {
   "cell_type": "code",
   "execution_count": null,
   "id": "f588457a-ddbf-466e-bec1-e43551da8bd8",
   "metadata": {},
   "outputs": [],
   "source": []
  },
  {
   "cell_type": "code",
   "execution_count": null,
   "id": "36c325cd-92f4-4d46-a259-483302330f66",
   "metadata": {},
   "outputs": [],
   "source": []
  }
 ],
 "metadata": {
  "kernelspec": {
   "display_name": "Python 3 (ipykernel)",
   "language": "python",
   "name": "python3"
  },
  "language_info": {
   "codemirror_mode": {
    "name": "ipython",
    "version": 3
   },
   "file_extension": ".py",
   "mimetype": "text/x-python",
   "name": "python",
   "nbconvert_exporter": "python",
   "pygments_lexer": "ipython3",
   "version": "3.11.7"
  }
 },
 "nbformat": 4,
 "nbformat_minor": 5
}
