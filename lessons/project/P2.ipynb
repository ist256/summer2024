{
 "cells": [
  {
   "cell_type": "markdown",
   "metadata": {},
   "source": [
    "# IST256 Project Deliverable 2 (P2)\n",
    "\n",
    "## Phase 2: Data Exploration\n",
    "\n",
    "In this step you should begin to explore your dataset in order to figure out what type of data story you want to tell with it. There is no \"magic recipe\" to follow here, you're going to need to understand your data and explore it to find something interesting. \n",
    "\n",
    "Throughout your exploration, you might decide that you need to enhance your dataset using an API or some other dataset. Doing this will raise the complexity of your project and ultimately improve the possible maximum grade. Your small group instructor can help you with ideas to enhance your dataset, but you're going to need to ask specific questions. The only way you can do that is to understand your data first.\n",
    "\n",
    "### The Process\n",
    "\n",
    "Getting to know your data takes time and research. We want you to use Python code to explore your data. Load it into a dataframe and explore and plot it. There is an expectation that you will explain what the code tells you about your data. **One more time, with feeling:** Not what the code DOES but what it tells you about your data. \n",
    "\n",
    "**Example**\n",
    "\n",
    "    #CODE\n",
    "    passengers['Survived'].value_counts()\n",
    "    \n",
    "    #OUTPUT\n",
    "    Survived\n",
    "    0    549\n",
    "    1    342\n",
    "    Name: count, dtype: int64\n",
    "\n",
    "    # TELLS ME\n",
    "    More people died than survivied\n",
    "    \n",
    "    \n",
    "Use the common approaches we learned the after unit 10 to explore your data:\n",
    "\n",
    "    - get `info()` on your columns: time? categorical? numerical measure? text? geographic? the Pandas / Vis readings will help here.\n",
    "    - `descrivbe()` your numerical data to get a sense of the distributions\n",
    "    - use `value_counts()` to get a sense of the categorical data items\n",
    "    - plot the numercial data against the time, categorical data to see patters\n",
    "    - plot the numberical data against each other to see a comparision\n",
    "    - use histograms to get a sense of how numerical data is distributed.\n",
    "    \n",
    "**Advice**\n",
    "\n",
    "This is not a one-size fits all endeavor. Again, there is no magic recipe to follow here, only good, old-fashioned exploration of your dataset of interest. For each snipped of code you write, be sure to explain what it tells you about your data, or what you learned about it. Please note not every code exploration is going to yield a compelling story, just like prospectors don't find gold or strike oil every time. Sometimes what you didn't find is just as important.\n",
    "\n",
    "As you explore, think of what needs to happen to make your data analysis more useful or compeling. That's how you figure out ways to create a better story. For example reviews of Temu products might not be interesting, but \"what they are saying\" (sentiment) and \"what they are saying it about\" (named entities) might be. This gives you ideas for enhancing your data set! You will need these for part 2.2.\n",
    "    "
   ]
  },
  {
   "cell_type": "markdown",
   "metadata": {},
   "source": [
    "### 2.1 Load your dataset(s) into dataframes.\n",
    "\n",
    "In this section load your datasets into dataframes and then `concat()` or `merge()` them into a single dataset.\n",
    "\n",
    "Some of you might have done this already for P1.\n"
   ]
  },
  {
   "cell_type": "code",
   "execution_count": null,
   "metadata": {},
   "outputs": [],
   "source": [
    "# 2.1 Code here\n",
    "\n"
   ]
  },
  {
   "cell_type": "markdown",
   "metadata": {},
   "source": [
    "### 2.2 Data Explorations\n",
    "\n",
    "Explore your data. Start with the basics and work your way to smaller, curated datasets and plots, as outlined in the example above.\n",
    "\n",
    "For each code included here, make sure to write up what the code tells you about your data / what you learned about your data from the output.\n",
    "\n",
    "You can place this in a markdown cell under your code cell where it says: *Tells me:*\n",
    "\n",
    "Feel free to add more cells as needed."
   ]
  },
  {
   "cell_type": "code",
   "execution_count": null,
   "metadata": {},
   "outputs": [],
   "source": [
    "# CODE \n"
   ]
  },
  {
   "cell_type": "markdown",
   "metadata": {},
   "source": [
    "Tells me:\n"
   ]
  },
  {
   "cell_type": "code",
   "execution_count": null,
   "metadata": {},
   "outputs": [],
   "source": [
    "# CODE \n"
   ]
  },
  {
   "cell_type": "markdown",
   "metadata": {},
   "source": [
    "Tells me:\n"
   ]
  },
  {
   "cell_type": "code",
   "execution_count": null,
   "metadata": {},
   "outputs": [],
   "source": [
    "# CODE \n"
   ]
  },
  {
   "cell_type": "markdown",
   "metadata": {},
   "source": [
    "Tells me:\n"
   ]
  },
  {
   "cell_type": "code",
   "execution_count": null,
   "metadata": {},
   "outputs": [],
   "source": [
    "# CODE \n"
   ]
  },
  {
   "cell_type": "markdown",
   "metadata": {},
   "source": [
    "Tells me:\n"
   ]
  },
  {
   "cell_type": "code",
   "execution_count": null,
   "metadata": {},
   "outputs": [],
   "source": [
    "# CODE \n"
   ]
  },
  {
   "cell_type": "markdown",
   "metadata": {},
   "source": [
    "Tells me:\n"
   ]
  },
  {
   "cell_type": "code",
   "execution_count": null,
   "metadata": {},
   "outputs": [],
   "source": [
    "# CODE \n"
   ]
  },
  {
   "cell_type": "markdown",
   "metadata": {},
   "source": [
    "Tells me:\n"
   ]
  },
  {
   "cell_type": "code",
   "execution_count": null,
   "metadata": {},
   "outputs": [],
   "source": [
    "# CODE \n"
   ]
  },
  {
   "cell_type": "markdown",
   "metadata": {},
   "source": [
    "Tells me:\n"
   ]
  },
  {
   "cell_type": "code",
   "execution_count": null,
   "metadata": {},
   "outputs": [],
   "source": [
    "# CODE \n"
   ]
  },
  {
   "cell_type": "markdown",
   "metadata": {},
   "source": [
    "Tells me:\n"
   ]
  },
  {
   "cell_type": "code",
   "execution_count": null,
   "metadata": {},
   "outputs": [],
   "source": [
    "# CODE \n"
   ]
  },
  {
   "cell_type": "markdown",
   "metadata": {},
   "source": [
    "Tells me:\n"
   ]
  },
  {
   "cell_type": "code",
   "execution_count": null,
   "metadata": {},
   "outputs": [],
   "source": [
    "# CODE \n"
   ]
  },
  {
   "cell_type": "markdown",
   "metadata": {},
   "source": [
    "Tells me:\n"
   ]
  },
  {
   "cell_type": "code",
   "execution_count": null,
   "metadata": {},
   "outputs": [],
   "source": [
    "# CODE \n"
   ]
  },
  {
   "cell_type": "markdown",
   "metadata": {},
   "source": [
    "Tells me:\n"
   ]
  },
  {
   "cell_type": "code",
   "execution_count": null,
   "metadata": {},
   "outputs": [],
   "source": [
    "# CODE \n"
   ]
  },
  {
   "cell_type": "markdown",
   "metadata": {},
   "source": [
    "Tells me:\n"
   ]
  },
  {
   "cell_type": "code",
   "execution_count": null,
   "metadata": {},
   "outputs": [],
   "source": [
    "# CODE \n"
   ]
  },
  {
   "cell_type": "markdown",
   "metadata": {},
   "source": [
    "Tells me:\n"
   ]
  },
  {
   "cell_type": "code",
   "execution_count": null,
   "metadata": {},
   "outputs": [],
   "source": [
    "# CODE \n"
   ]
  },
  {
   "cell_type": "markdown",
   "metadata": {},
   "source": [
    "Tells me:\n"
   ]
  },
  {
   "cell_type": "markdown",
   "metadata": {
    "tags": []
   },
   "source": [
    "### 2.3 Prepare for your Data Story\n",
    "\n",
    "In this last step, you will prepare for the actual data story.\n",
    "\n",
    "#### 2.3.1 Your Data Story\n",
    "\n",
    "Based on your explorations, what is the story you plan to tell with this data and why? Make sure to justify your story based on your discoveries in 2.2. Why is it a compelling and interesting story?\n"
   ]
  },
  {
   "cell_type": "markdown",
   "metadata": {
    "tags": []
   },
   "source": []
  },
  {
   "cell_type": "markdown",
   "metadata": {
    "tags": []
   },
   "source": [
    "#### 2.3.2 Enhancements\n",
    "\n",
    "Based on your data story, come up with 1 to 3 ways your data can be enhanced to provide a better story. You might not use any of these enhancements in P3, but its useful to consider them if you are seeking a higher grade on the project and need more complexity.\n"
   ]
  },
  {
   "cell_type": "markdown",
   "metadata": {
    "tags": []
   },
   "source": []
  },
  {
   "cell_type": "markdown",
   "metadata": {},
   "source": [
    "### No Grading at This Point, Only feedback\n",
    "\n",
    "Remember you will not recieve a grade for P2, only feedback. \n",
    "\n",
    "**Specific Feedback Provided:**\n",
    "\n",
    "- Whether or not you completed this milestone to statisfaction.\n",
    "- Approximate level of complexity of your project A, B or C. (Consult Syllabus)\n",
    "- Suggestions / comments on next steps, including what can be done it enhance complexity.\n",
    "\n",
    "**Things that may affect your grade:** \n",
    "\n",
    "- Late or unsatisfactory / inadequate submissions will affect your grade. \n",
    "- P3 projects that do not align with your P2 will affect your grade. \n",
    "- Consult the syllabus for details.\n",
    "\n",
    "When you are ready, turn in your P2 using the submission script."
   ]
  },
  {
   "cell_type": "code",
   "execution_count": null,
   "metadata": {},
   "outputs": [],
   "source": [
    "# run this code to turn in your work!\n",
    "from casstools.assignment import Assignment\n",
    "Assignment().submit()"
   ]
  }
 ],
 "metadata": {
  "kernelspec": {
   "display_name": "Python 3 (ipykernel)",
   "language": "python",
   "name": "python3"
  },
  "language_info": {
   "codemirror_mode": {
    "name": "ipython",
    "version": 3
   },
   "file_extension": ".py",
   "mimetype": "text/x-python",
   "name": "python",
   "nbconvert_exporter": "python",
   "pygments_lexer": "ipython3",
   "version": "3.11.7"
  },
  "varInspector": {
   "cols": {
    "lenName": 16,
    "lenType": 16,
    "lenVar": 40
   },
   "kernels_config": {
    "python": {
     "delete_cmd_postfix": "",
     "delete_cmd_prefix": "del ",
     "library": "var_list.py",
     "varRefreshCmd": "print(var_dic_list())"
    },
    "r": {
     "delete_cmd_postfix": ") ",
     "delete_cmd_prefix": "rm(",
     "library": "var_list.r",
     "varRefreshCmd": "cat(var_dic_list()) "
    }
   },
   "types_to_exclude": [
    "module",
    "function",
    "builtin_function_or_method",
    "instance",
    "_Feature"
   ],
   "window_display": false
  }
 },
 "nbformat": 4,
 "nbformat_minor": 4
}
