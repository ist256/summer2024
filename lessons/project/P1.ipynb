{
 "cells": [
  {
   "cell_type": "markdown",
   "metadata": {},
   "source": [
    "# IST256 Project Deliverable 1 (P1)\n",
    "\n",
    "## FIRST: Read The Syllabus\n",
    "\n",
    "Please read the project section of the syllabus as that explains the the project itself, its phases, and evaluation criteria. \n",
    "\n",
    "[http://ist256.com/syllabus/#project-p1-p4](http://ist256.com/syllabus/#project-p1-p4)\n",
    "\n"
   ]
  },
  {
   "cell_type": "markdown",
   "metadata": {
    "tags": []
   },
   "source": [
    "## Finding your Datasets\n",
    "\n",
    "Datasets are everywhere. There should be little issue finding one. It will, however take some time to figure out if the dataset will work for a data analysis. As you consider datasets, keep the first 5 questions from Phase 1 ready to help you evaluate the dataset.\n",
    "\n",
    "- SU Library: https://researchguides.library.syr.edu/az/databases?t=8828\n",
    "- Data Catalog: https://data.world/datasets/free\n",
    "- Most cities have an open data portal: https://opendata.cityofnewyork.us/\n",
    "- British Film Institute: https://www.bfi.org.uk/industry-data-insights\n",
    "- NASA Data: https://www.earthdata.nasa.gov/\n",
    "- Sports Data: https://www.sports-reference.com/\n",
    "- Federal Government data: https://data.gov/\n",
    "- Google Dataset Search: https://datasetsearch.research.google.com/\n",
    "\n"
   ]
  },
  {
   "cell_type": "markdown",
   "metadata": {},
   "source": [
    "## Phase 1: Data Set Selection\n",
    "\n",
    "Chose a primary and backup dataset of interest for which you will perform your data analysis. You will recieve feedback only.\n"
   ]
  },
  {
   "cell_type": "markdown",
   "metadata": {},
   "source": [
    "### Step 1: Primary Data Set\n",
    "\n",
    "Complete the following for your first choice of dataset.\n"
   ]
  },
  {
   "cell_type": "markdown",
   "metadata": {},
   "source": [
    "#### 1. Url \n",
    "Include a link (URL) to your dataset. If the dataset cannot be obtained via direct link, provide instructions as to how to get it."
   ]
  },
  {
   "cell_type": "markdown",
   "metadata": {},
   "source": []
  },
  {
   "cell_type": "markdown",
   "metadata": {},
   "source": [
    "#### 2. What and Why?\n",
    "\n",
    "What is this dataset and why are you interested in it?\n"
   ]
  },
  {
   "cell_type": "markdown",
   "metadata": {},
   "source": []
  },
  {
   "cell_type": "markdown",
   "metadata": {},
   "source": [
    "#### 3. Issues\n",
    "\n",
    "Are there any security or privacy issues with this dataset? Can you trust the validity of data in this dataset?\n"
   ]
  },
  {
   "cell_type": "markdown",
   "metadata": {},
   "source": []
  },
  {
   "cell_type": "markdown",
   "metadata": {},
   "source": [
    "#### 4. Potential \n",
    "\n",
    "What type of stories do you think you can tell with it? Be specific here... it should be obvious you actually reviewed your dataset."
   ]
  },
  {
   "cell_type": "markdown",
   "metadata": {},
   "source": []
  },
  {
   "cell_type": "markdown",
   "metadata": {},
   "source": [
    "#### 5. Size \n",
    "\n",
    "- How many rows / records in your dataset?  \n",
    "- How many columns / fields / attibutes in your dataset?  \n"
   ]
  },
  {
   "cell_type": "markdown",
   "metadata": {},
   "source": [
    "- rows: \n",
    "- columns: "
   ]
  },
  {
   "cell_type": "markdown",
   "metadata": {},
   "source": [
    "#### 6. Data Dictionary\n",
    "\n",
    "Building a data dictionary will help you gain a better understanding as to the viability of your data... figure out which columns to analyze, engineer, or use with widgets.\n",
    "\n",
    "While Pandas can help you figure this out, as this phase you don't need to show code, only describe your dataset.\n",
    "\n",
    "For each column / field, provide\n",
    "\n",
    "1. a name of the column / field. e.g. `student_year`\n",
    "2. description of column e.g. `the student's academic year`\n",
    "3. example data in the column: `First Year, Senior`\n",
    "4. What kind of data is it?\n",
    "    - numerical? representing a value or quantity ex. `GPA, order total`\n",
    "    - categorical? A set of values ex. `student_year, state`\n",
    "    - date/time? ex. `release date, check-in-time`\n",
    "    - geographic? Can be mapped. ex. `customer_address, landmark name`\n",
    "    - text? Descriptive ex. `customer_review, student_comments, email`\n",
    "    - media? Link to image, audio, or video. \n",
    "\n",
    "\n",
    "You can copy the `col1` below to create additional columns"
   ]
  },
  {
   "cell_type": "markdown",
   "metadata": {},
   "source": [
    "| Name | Description | Examples | Kind |\n",
    "| ----- | ----- | ----- | ----- |\n",
    "| col1 | some col | a,b,c | categorical |\n",
    "| col2 | some col | 14, 56 | numerical |\n",
    "| col3 | some col | 2024-01-02 | datetime |\n"
   ]
  },
  {
   "cell_type": "markdown",
   "metadata": {},
   "source": [
    "### Step 2: Secondary Data Set\n",
    "\n",
    "Complete the following for your second (backup) choice of dataset. This is important to have in case there is an issue with your primary dataset."
   ]
  },
  {
   "cell_type": "markdown",
   "metadata": {},
   "source": [
    "#### 1. Url \n",
    "Include a link (URL) to your dataset. If the dataset cannot be obtained via direct link, provide instructions as to how to get it."
   ]
  },
  {
   "cell_type": "markdown",
   "metadata": {},
   "source": []
  },
  {
   "cell_type": "markdown",
   "metadata": {},
   "source": [
    "#### 2. What and Why?\n",
    "\n",
    "What is this dataset and why are you interested in it?"
   ]
  },
  {
   "cell_type": "markdown",
   "metadata": {},
   "source": []
  },
  {
   "cell_type": "markdown",
   "metadata": {},
   "source": [
    "### No Grading at This Point, Only feedback\n",
    "\n",
    "Remember you will not recieve a grade for P1, only feedback to get you going.  \n",
    "\n",
    "**Specific Feedback Provided:**\n",
    "\n",
    "- Whether or not you completed this milestone to statisfaction.\n",
    "- Approval of your dataset (permission from your instructor to use it.)\n",
    "- Suggestions / comments on next steps (if applicable).\n",
    "\n",
    "**Things that may affect your grade:** \n",
    "\n",
    "- Late or unsatisfactory / inadequate submissions will affect your grade. \n",
    "- Consult the syllabus for details.\n",
    "\n",
    "When you are ready, turn in your P1 using the submission script."
   ]
  },
  {
   "cell_type": "code",
   "execution_count": null,
   "metadata": {},
   "outputs": [
    {
     "name": "stdout",
     "output_type": "stream",
     "text": [
      "✅ TIMESTAMP  : 2024-07-11 15:36\n",
      "✅ COURSE     : ist256\n",
      "✅ TERM       : summer2024\n",
      "✅ USER       : dlnosky@syr.edu\n",
      "✅ STUDENT    : True\n",
      "✅ PATH       : ist256/summer2024/lessons/project/P1.ipynb\n",
      "✅ ASSIGNMENT : P1.ipynb\n",
      "✅ POINTS     : 0\n",
      "✅ DUE DATE   : 2024-07-26 23:59\n",
      "✅ LATE       : False\n",
      "✅ STATUS     : New Submission\n",
      "\n"
     ]
    }
   ],
   "source": [
    "# run this code to turn in your work!\n",
    "from casstools.assignment import Assignment\n",
    "Assignment().submit()"
   ]
  },
  {
   "cell_type": "code",
   "execution_count": null,
   "metadata": {},
   "outputs": [],
   "source": []
  }
 ],
 "metadata": {
  "kernelspec": {
   "display_name": "Python 3 (ipykernel)",
   "language": "python",
   "name": "python3"
  },
  "language_info": {
   "codemirror_mode": {
    "name": "ipython",
    "version": 3
   },
   "file_extension": ".py",
   "mimetype": "text/x-python",
   "name": "python",
   "nbconvert_exporter": "python",
   "pygments_lexer": "ipython3",
   "version": "3.11.7"
  },
  "varInspector": {
   "cols": {
    "lenName": 16,
    "lenType": 16,
    "lenVar": 40
   },
   "kernels_config": {
    "python": {
     "delete_cmd_postfix": "",
     "delete_cmd_prefix": "del ",
     "library": "var_list.py",
     "varRefreshCmd": "print(var_dic_list())"
    },
    "r": {
     "delete_cmd_postfix": ") ",
     "delete_cmd_prefix": "rm(",
     "library": "var_list.r",
     "varRefreshCmd": "cat(var_dic_list()) "
    }
   },
   "types_to_exclude": [
    "module",
    "function",
    "builtin_function_or_method",
    "instance",
    "_Feature"
   ],
   "window_display": false
  }
 },
 "nbformat": 4,
 "nbformat_minor": 4
}
