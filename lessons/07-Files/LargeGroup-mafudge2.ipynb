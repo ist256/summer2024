{
 "cells": [
  {
   "cell_type": "markdown",
   "metadata": {},
   "source": [
    "# Code Samples From Large Group\n",
    "\n",
    "Place your notes and code samples from large group here."
   ]
  },
  {
   "cell_type": "code",
   "execution_count": 8,
   "metadata": {},
   "outputs": [
    {
     "name": "stdout",
     "output_type": "stream",
     "text": [
      "this is a class demo that is used in class\n",
      "mike did this file\n",
      "it was fun\n",
      "and we are done\n"
     ]
    }
   ],
   "source": [
    "# read all at once\n",
    "filename = \"classdemo.txt\"\n",
    "with open(filename, \"r\") as file_handle:\n",
    "    contents_of_file = file_handle.read()\n",
    "\n",
    "print(contents_of_file)"
   ]
  },
  {
   "cell_type": "code",
   "execution_count": 9,
   "metadata": {
    "tags": []
   },
   "outputs": [
    {
     "name": "stdout",
     "output_type": "stream",
     "text": [
      "1: this is a class demo that is used in class\n",
      "\n",
      "2: mike did this file\n",
      "\n",
      "3: it was fun\n",
      "\n",
      "4: and we are done\n"
     ]
    }
   ],
   "source": [
    "# read one line at a time\n",
    "with open(filename, \"r\") as f:\n",
    "    times = 0\n",
    "    for line in f.readlines():\n",
    "        times = times + 1\n",
    "        print(f\"{times}: {line}\")"
   ]
  },
  {
   "cell_type": "code",
   "execution_count": 17,
   "metadata": {
    "tags": []
   },
   "outputs": [
    {
     "name": "stdin",
     "output_type": "stream",
     "text": [
      "Enter some text for me to stuff:  pizza\n"
     ]
    },
    {
     "name": "stdout",
     "output_type": "stream",
     "text": [
      "I stuffed pizza at the end the file stuff.text\n"
     ]
    }
   ],
   "source": [
    "mystuff = \"stuff.text\"\n",
    "with open(mystuff, \"a\") as f:\n",
    "    text = input(\"Enter some text for me to stuff: \")\n",
    "    f.write(text + \"\\n\")\n",
    "    print(f\"I stuffed {text} at the end the file {mystuff}\")\n"
   ]
  },
  {
   "cell_type": "code",
   "execution_count": 19,
   "metadata": {
    "tags": []
   },
   "outputs": [
    {
     "name": "stdout",
     "output_type": "stream",
     "text": [
      "ham\n",
      "\n",
      "cheese\n",
      "\n",
      "pizza\n",
      "\n"
     ]
    },
    {
     "ename": "ValueError",
     "evalue": "I/O operation on closed file.",
     "output_type": "error",
     "traceback": [
      "\u001b[0;31m---------------------------------------------------------------------------\u001b[0m",
      "\u001b[0;31mValueError\u001b[0m                                Traceback (most recent call last)",
      "Cell \u001b[0;32mIn[19], line 4\u001b[0m\n\u001b[1;32m      2\u001b[0m     \u001b[38;5;28;01mfor\u001b[39;00m line \u001b[38;5;129;01min\u001b[39;00m f\u001b[38;5;241m.\u001b[39mreadlines():\n\u001b[1;32m      3\u001b[0m         \u001b[38;5;28mprint\u001b[39m(line)\n\u001b[0;32m----> 4\u001b[0m \u001b[43mf\u001b[49m\u001b[38;5;241;43m.\u001b[39;49m\u001b[43mread\u001b[49m\u001b[43m(\u001b[49m\u001b[43m)\u001b[49m\n",
      "\u001b[0;31mValueError\u001b[0m: I/O operation on closed file."
     ]
    }
   ],
   "source": [
    "with open(\"stuff.text\",\"r\") as f:\n",
    "    for line in f.readlines():\n",
    "        print(line)\n",
    "# f.close() done automatically here\n",
    "f.read() # <= Error"
   ]
  },
  {
   "cell_type": "code",
   "execution_count": 20,
   "metadata": {
    "tags": []
   },
   "outputs": [],
   "source": [
    "file = \"stuff.text\" # In the same folder\n",
    "file = \"../stuff.text\" # up one folder\n",
    "file = \"something/stuff.text\" # in the \"something folder\"\n",
    "\n"
   ]
  },
  {
   "cell_type": "code",
   "execution_count": 21,
   "metadata": {
    "tags": []
   },
   "outputs": [
    {
     "ename": "FileNotFoundError",
     "evalue": "[Errno 2] No such file or directory: 'cheese.txt'",
     "output_type": "error",
     "traceback": [
      "\u001b[0;31m---------------------------------------------------------------------------\u001b[0m",
      "\u001b[0;31mFileNotFoundError\u001b[0m                         Traceback (most recent call last)",
      "Cell \u001b[0;32mIn[21], line 3\u001b[0m\n\u001b[1;32m      1\u001b[0m \u001b[38;5;66;03m# Example of why you need try ... except\u001b[39;00m\n\u001b[1;32m      2\u001b[0m file \u001b[38;5;241m=\u001b[39m \u001b[38;5;124m\"\u001b[39m\u001b[38;5;124mcheese.txt\u001b[39m\u001b[38;5;124m\"\u001b[39m\n\u001b[0;32m----> 3\u001b[0m \u001b[38;5;28;01mwith\u001b[39;00m \u001b[38;5;28;43mopen\u001b[39;49m\u001b[43m(\u001b[49m\u001b[43mfile\u001b[49m\u001b[43m,\u001b[49m\u001b[38;5;124;43m\"\u001b[39;49m\u001b[38;5;124;43mr\u001b[39;49m\u001b[38;5;124;43m\"\u001b[39;49m\u001b[43m)\u001b[49m \u001b[38;5;28;01mas\u001b[39;00m f:\n\u001b[1;32m      4\u001b[0m     contents \u001b[38;5;241m=\u001b[39m f\u001b[38;5;241m.\u001b[39mread()\n",
      "File \u001b[0;32m/opt/conda/lib/python3.11/site-packages/IPython/core/interactiveshell.py:284\u001b[0m, in \u001b[0;36m_modified_open\u001b[0;34m(file, *args, **kwargs)\u001b[0m\n\u001b[1;32m    277\u001b[0m \u001b[38;5;28;01mif\u001b[39;00m file \u001b[38;5;129;01min\u001b[39;00m {\u001b[38;5;241m0\u001b[39m, \u001b[38;5;241m1\u001b[39m, \u001b[38;5;241m2\u001b[39m}:\n\u001b[1;32m    278\u001b[0m     \u001b[38;5;28;01mraise\u001b[39;00m \u001b[38;5;167;01mValueError\u001b[39;00m(\n\u001b[1;32m    279\u001b[0m         \u001b[38;5;124mf\u001b[39m\u001b[38;5;124m\"\u001b[39m\u001b[38;5;124mIPython won\u001b[39m\u001b[38;5;124m'\u001b[39m\u001b[38;5;124mt let you open fd=\u001b[39m\u001b[38;5;132;01m{\u001b[39;00mfile\u001b[38;5;132;01m}\u001b[39;00m\u001b[38;5;124m by default \u001b[39m\u001b[38;5;124m\"\u001b[39m\n\u001b[1;32m    280\u001b[0m         \u001b[38;5;124m\"\u001b[39m\u001b[38;5;124mas it is likely to crash IPython. If you know what you are doing, \u001b[39m\u001b[38;5;124m\"\u001b[39m\n\u001b[1;32m    281\u001b[0m         \u001b[38;5;124m\"\u001b[39m\u001b[38;5;124myou can use builtins\u001b[39m\u001b[38;5;124m'\u001b[39m\u001b[38;5;124m open.\u001b[39m\u001b[38;5;124m\"\u001b[39m\n\u001b[1;32m    282\u001b[0m     )\n\u001b[0;32m--> 284\u001b[0m \u001b[38;5;28;01mreturn\u001b[39;00m \u001b[43mio_open\u001b[49m\u001b[43m(\u001b[49m\u001b[43mfile\u001b[49m\u001b[43m,\u001b[49m\u001b[43m \u001b[49m\u001b[38;5;241;43m*\u001b[39;49m\u001b[43margs\u001b[49m\u001b[43m,\u001b[49m\u001b[43m \u001b[49m\u001b[38;5;241;43m*\u001b[39;49m\u001b[38;5;241;43m*\u001b[39;49m\u001b[43mkwargs\u001b[49m\u001b[43m)\u001b[49m\n",
      "\u001b[0;31mFileNotFoundError\u001b[0m: [Errno 2] No such file or directory: 'cheese.txt'"
     ]
    }
   ],
   "source": [
    "# Example of why you need try ... except\n",
    "file = \"cheese.txt\"\n",
    "with open(file,\"r\") as f:\n",
    "    contents = f.read()"
   ]
  },
  {
   "cell_type": "code",
   "execution_count": 23,
   "metadata": {
    "tags": []
   },
   "outputs": [
    {
     "name": "stdout",
     "output_type": "stream",
     "text": [
      "I could not locate the file cheese.txt\n",
      "Error Details: [Errno 2] No such file or directory: 'cheese.txt'\n"
     ]
    }
   ],
   "source": [
    "try:\n",
    "    file = \"cheese.txt\"\n",
    "    with open(file,\"r\") as f:\n",
    "        contents = f.read()\n",
    "except FileNotFoundError as e:\n",
    "    print(f\"I could not locate the file {file}\")\n",
    "    print(\"Error Details:\", e)"
   ]
  },
  {
   "cell_type": "code",
   "execution_count": null,
   "metadata": {},
   "outputs": [],
   "source": [
    "INPUT:\n",
    "    - Dictionary of correctly spelled words\n",
    "    - input words to check spelling on\n",
    "    \n",
    "OUTPUT:\n",
    "    - incorrectly spelled words, word not in dictionary\n",
    "    \n",
    "EXAMPLES:\n",
    "    - dict: \"i am are you\"\n",
    "    - input_text = \"i love you\"\n",
    "    - output: \"love\"\n",
    "    \n",
    "ALGO:\n",
    "    split input_text\n",
    "    for word in split input_text:\n",
    "        if word in dict:\n",
    "            everythings ok!\n",
    "        else:\n",
    "            print word is not in the dictionary"
   ]
  },
  {
   "cell_type": "code",
   "execution_count": 25,
   "metadata": {
    "tags": []
   },
   "outputs": [
    {
     "name": "stdout",
     "output_type": "stream",
     "text": [
      "'love' might be misspelled!\n"
     ]
    }
   ],
   "source": [
    "dictionary = \"i am are you\"\n",
    "input_text = \"i love you\"\n",
    "dictionary_words = dictionary.split()\n",
    "for word in input_text.split():\n",
    "    if word not in dictionary_words:\n",
    "        print(f\"'{word}' might be misspelled!\")"
   ]
  },
  {
   "cell_type": "code",
   "execution_count": 26,
   "metadata": {
    "tags": []
   },
   "outputs": [],
   "source": [
    "with open('dict.txt', \"r\") as f:\n",
    "    dictionary_words = f.read().split()\n"
   ]
  },
  {
   "cell_type": "code",
   "execution_count": 27,
   "metadata": {
    "tags": []
   },
   "outputs": [
    {
     "name": "stdout",
     "output_type": "stream",
     "text": [
      "i\n"
     ]
    }
   ],
   "source": [
    "for word in dictionary_words:\n",
    "    print(word)\n",
    "    break"
   ]
  },
  {
   "cell_type": "code",
   "execution_count": 29,
   "metadata": {
    "tags": []
   },
   "outputs": [
    {
     "name": "stdout",
     "output_type": "stream",
     "text": [
      "'youze' might be misspelled!\n"
     ]
    }
   ],
   "source": [
    "with open('dict.txt', \"r\") as f:\n",
    "    dictionary_words = f.read().split()\n",
    "\n",
    "input_text = \"i love youze\"\n",
    "for word in input_text.split():\n",
    "    if word not in dictionary_words:\n",
    "        print(f\"'{word}' might be misspelled!\")"
   ]
  },
  {
   "cell_type": "code",
   "execution_count": 32,
   "metadata": {
    "tags": []
   },
   "outputs": [
    {
     "data": {
      "application/vnd.jupyter.widget-view+json": {
       "model_id": "308a923573bf4614bf54fb2ebad1eff7",
       "version_major": 2,
       "version_minor": 0
      },
      "text/plain": [
       "interactive(children=(Textarea(value='', description='input_text'), Button(description='Run Interact', style=B…"
      ]
     },
     "metadata": {},
     "output_type": "display_data"
    }
   ],
   "source": [
    "from IPython.display import display\n",
    "from ipywidgets import interact_manual, widgets\n",
    "\n",
    "with open('dict.txt', \"r\") as f:\n",
    "    dictionary_words = f.read().split()\n",
    "\n",
    "text_input_widget = widgets.Textarea(\"\")\n",
    "@interact_manual(input_text=text_input_widget)\n",
    "def onclick(input_text):\n",
    "    for word in input_text.split():\n",
    "        if word not in dictionary_words:\n",
    "            display(f\"'{word}' might be misspelled!\")"
   ]
  },
  {
   "cell_type": "code",
   "execution_count": null,
   "metadata": {},
   "outputs": [],
   "source": []
  }
 ],
 "metadata": {
  "kernelspec": {
   "display_name": "Python 3 (ipykernel)",
   "language": "python",
   "name": "python3"
  },
  "language_info": {
   "codemirror_mode": {
    "name": "ipython",
    "version": 3
   },
   "file_extension": ".py",
   "mimetype": "text/x-python",
   "name": "python",
   "nbconvert_exporter": "python",
   "pygments_lexer": "ipython3",
   "version": "3.11.7"
  },
  "varInspector": {
   "cols": {
    "lenName": 16,
    "lenType": 16,
    "lenVar": 40
   },
   "kernels_config": {
    "python": {
     "delete_cmd_postfix": "",
     "delete_cmd_prefix": "del ",
     "library": "var_list.py",
     "varRefreshCmd": "print(var_dic_list())"
    },
    "r": {
     "delete_cmd_postfix": ") ",
     "delete_cmd_prefix": "rm(",
     "library": "var_list.r",
     "varRefreshCmd": "cat(var_dic_list()) "
    }
   },
   "types_to_exclude": [
    "module",
    "function",
    "builtin_function_or_method",
    "instance",
    "_Feature"
   ],
   "window_display": false
  }
 },
 "nbformat": 4,
 "nbformat_minor": 4
}
