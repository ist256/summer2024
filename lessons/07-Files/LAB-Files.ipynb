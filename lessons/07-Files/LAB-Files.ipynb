{
 "cells": [
  {
   "cell_type": "markdown",
   "metadata": {},
   "source": [
    "# In-Class Coding Lab: Files\n",
    "\n",
    "The goals of this lab are to help you to understand:\n",
    "\n",
    "- Reading data from a file all at once or one line at a time.\n",
    "- Searching for data in files\n",
    "- Parsing text data to numerical data.\n",
    "- How to build complex programs incrementally.\n",
    "\n",
    "## Parsing Email Headers\n",
    "\n",
    "For this lab, we will write a program to read data from a mailbox file like `mbox-tiny.txt` or `mbox-short.txt`. These files contain raw email data, and in that data are attributes like who the message is To, From, the subject and SPAM confidence number for each message, like this:\n",
    "\n",
    "`X-DSPAM-Confidence:0.8475`\n",
    "\n",
    "Our goal will be to find each of these lines in the file, and extract the confidence number (In this case `0.8475`), with the end-goal of calculating the average SPAM Confidence of all the emails in the file. \n",
    "\n",
    "### Getting the files we need\n",
    "\n",
    "Run this code to fetch the files we need for this lab. This linux code downloads them from the internet and saves them to your folder on jupyterhub.\n"
   ]
  },
  {
   "cell_type": "code",
   "execution_count": null,
   "metadata": {
    "code_cell_type": "run_code"
   },
   "outputs": [],
   "source": [
    "! curl https://raw.githubusercontent.com/mafudge/datasets/master/ist256/07-Files/mbox-tiny.txt -o mbox-tiny.txt\n",
    "! curl https://raw.githubusercontent.com/mafudge/datasets/master/ist256/07-Files/mbox-short.txt -o mbox-short.txt"
   ]
  },
  {
   "cell_type": "markdown",
   "metadata": {},
   "source": [
    "### Reading from the file\n",
    "\n",
    "Let's start with some code to read the lines of text from `CCL-mbox-tiny.txt` this code reads the contents of the file one line at a time and prints those contents back out. \n",
    "\n",
    "- `f.readlines()` reads the file line-by-line. NOTE: We could read this file all at once, but it would be more difficult to process that way.\n",
    "- `line.strip()` is required to remove the end-line character from each line since the `print()` function includes one already."
   ]
  },
  {
   "cell_type": "code",
   "execution_count": null,
   "metadata": {
    "code_cell_type": "run_code"
   },
   "outputs": [],
   "source": [
    "filename = \"mbox-tiny.txt\"\n",
    "with open(filename, 'r') as f:\n",
    "    for line in f.readlines():\n",
    "        print(line.strip())\n"
   ]
  },
  {
   "cell_type": "markdown",
   "metadata": {},
   "source": [
    "### 1.1 You Code: Debug \n",
    "\n",
    "The following code should print the number of lines of text in the file `'mbox-tiny.txt`. There should be **332** lines. Debug this code to get it working. \n",
    "\n",
    "There should be **332** lines.\n"
   ]
  },
  {
   "cell_type": "code",
   "execution_count": null,
   "metadata": {
    "code_cell_type": "debug_code",
    "label": "1.1",
    "solution": [
     "line_count = 0\n",
     "filename = \"mbox-tiny.txt\"\n",
     "with open(filename, 'r') as f:\n",
     "    for line in f.readlines():\n",
     "        line_count = line_count + 1\n",
     "print(f\"there are {line_count} lines in the file\")\n"
    ]
   },
   "outputs": [],
   "source": [
    "# TODO debug this code to print the number of lines in the file\n",
    "line_count = 0\n",
    "filename = \"mbox-tiny.txt\"\n",
    "with open(filename, 'r')\n",
    "    for line in f.readlines():\n",
    "        line_count = 1\n",
    "\n",
    "print(\"there are {line_count} lines in the file\")"
   ]
  },
  {
   "cell_type": "markdown",
   "metadata": {},
   "source": [
    "\n",
    "### Finding the SPAM Confidence lines\n",
    "\n",
    "Next, we'll focus on only getting lines addressing lines in the mailbox file that start with `X-DSPAM-Confidence:`. We do this by including an `if` statement inside  the `for` loop. \n",
    "\n",
    "**This is a very common pattern in computing used to search through massive amouts of data.**\n",
    "\n",
    "\n",
    "\n",
    "Rather than print ALL 332 lines in `mbox-tiny.txt` we only print lines that begin with `X-DSPAM-Confidence:` There are only **5** such rows in this file."
   ]
  },
  {
   "cell_type": "code",
   "execution_count": null,
   "metadata": {
    "code_cell_type": "run_code"
   },
   "outputs": [],
   "source": [
    "filename = \"mbox-tiny.txt\"\n",
    "with open(filename, 'r') as f:\n",
    "    for line in f.readlines():\n",
    "        if line.startswith(\"X-DSPAM-Confidence:\"):\n",
    "            print(line.strip())\n"
   ]
  },
  {
   "cell_type": "markdown",
   "metadata": {},
   "source": [
    "### Parsing out the confidence value\n",
    "\n",
    "The final step is to figure out how to parse out the confidence value from the string.  \n",
    "\n",
    "For example for the given line: `X-DSPAM-Confidence: 0.8475` we need to get the value `0.8475` as a float.\n",
    "\n",
    "The strategy here is to use the string `.replace()` method to replace `X-DSPAM-Confidence:` with an empty string`\"\"`. After we do that we can call the `float()` function to parse the string number to a `float`. \n",
    "\n",
    "### 1.2 You Code\n",
    "Write code to parse the value `0.8475` from the text string `'X-DSPAM-Confidence: 0.8475'`."
   ]
  },
  {
   "cell_type": "code",
   "execution_count": null,
   "metadata": {
    "code_cell_type": "debug_code",
    "label": "1.2",
    "solution": [
     "line = 'X-DSPAM-Confidence: 0.8475'\n",
     "raw = line.replace(\"X-DSPAM-Confidence:\",\"\")\n",
     "number = float(raw)\n",
     "print (number)\n"
    ]
   },
   "outputs": [],
   "source": [
    "# TODO: Write code here\n",
    "line = 'X-DSPAM-Confidence: 0.8475'\n"
   ]
  },
  {
   "cell_type": "markdown",
   "metadata": {},
   "source": [
    "## Putting it all together\n",
    "\n",
    "Now that we have all the working parts, let's put it all together.\n",
    "\n",
    "    0.  use the file named 'mbox-short.txt' \n",
    "    1.  line count is 0\n",
    "    2.  total confidence is 0\n",
    "    3.  open mailbox file\n",
    "    4.  for each line in file\n",
    "    5.  if line starts with `X-DSPAM-Confidence:`\n",
    "    6.     remove `X-DSPAM-Confidence:` from line and convert to float\n",
    "    7.     increment line count\n",
    "    8.     add spam confidence to total confidence\n",
    "    9.  print average confidence (total confidence/line count)\n",
    "    \n",
    "    \n",
    "### 1.3  You Code \n"
   ]
  },
  {
   "cell_type": "code",
   "execution_count": null,
   "metadata": {
    "code_cell_type": "write_code",
    "label": "1.3",
    "solution": [
     "filename  = 'mbox-tiny.txt'\n",
     "line_count = 0\n",
     "total_confidence = 0\n",
     "with open (filename, \"r\") as f:\n",
     "    for line in f:\n",
     "        if line.startswith(\"X-DSPAM-Confidence:\"):\n",
     "            confidence = float(line.replace(\"X-DSPAM-Confidence:\",\"\"))\n",
     "            line_count = line_count + 1 \n",
     "            total_confidence = total_confidence + confidence \n",
     "print(f\"Total lines with X-DSPAM-Confidence: {line_count}\")\n",
     "print(f\"Average spam confidence {total_confidence/line_count}\")\n"
    ]
   },
   "outputs": [],
   "source": [
    "#TODO Write Code here       \n"
   ]
  },
  {
   "cell_type": "markdown",
   "metadata": {},
   "source": [
    "## Who are these emails from?\n",
    "\n",
    "Now that you got it working once, let's repeat the process to discover who sent each email. The approach is similar to the spam confidence example but instead we search for lines that start with `From:`. For example:  \n",
    "\n",
    "`From: stephen.marquard@uct.ac.za`\n",
    "\n",
    "To extact the email we remove the `From: ` portion from the line.\n",
    "\n",
    "\n",
    "    0.  use the file named 'mbox-short.txt' \n",
    "    1.  open mailbox file\n",
    "    2.  for each line in file\n",
    "    3.  if line starts with `From:`\n",
    "    4.     remove `From:` from line and strip out any remaining whitespace\n",
    "    5.     print email\n",
    "\n",
    "\n",
    "### 1.4 You code\n"
   ]
  },
  {
   "cell_type": "code",
   "execution_count": 2,
   "metadata": {
    "code_cell_type": "write_code",
    "label": "1.4",
    "solution": [
     "filename  = 'mbox-tiny.txt'\n",
     "with open (filename, \"r\") as f:\n",
     "    for line in f:\n",
     "        if line.startswith(\"From:\"):\n",
     "            email = line.replace(\"From:\",\"\").strip()\n",
     "            print(email)\n"
    ]
   },
   "outputs": [],
   "source": [
    "#TODO Write Code here \n"
   ]
  },
  {
   "cell_type": "markdown",
   "metadata": {},
   "source": [
    "# Metacognition"
   ]
  },
  {
   "cell_type": "markdown",
   "metadata": {},
   "source": [
    "\n",
    "### Rate your comfort level with this week's material so far.   \n",
    "\n",
    "**1** ==> I don't understand this at all yet and need extra help. If you choose this please try to articulate that which you do not understand to the best of your ability in the questions and comments section below.  \n",
    "**2** ==> I can do this with help or guidance from other people or resources. If you choose this level, please indicate HOW this person helped you in the questions and comments section below.   \n",
    "**3** ==> I can do this on my own without any help.   \n",
    "**4** ==> I can do this on my own and can explain/teach how to do it to others.\n",
    "\n",
    "`ENTER A NUMBER 1-4 IN THE CELL BELOW`"
   ]
  },
  {
   "cell_type": "markdown",
   "metadata": {
    "label": "comfort_cell",
    "tags": []
   },
   "source": []
  },
  {
   "cell_type": "markdown",
   "metadata": {
    "tags": []
   },
   "source": [
    "###  Questions And Comments \n",
    "\n",
    "Record any questions or comments you have about this lab that you would like to discuss in your recitation. It is expected you will have questions if you  complete this assignment.  Learning how to articulate what you do not understand is an important skill of critical thinking. Write your questions below so that you remember to ask them in your recitation. We expect you will take responsilbity for your learning and ask questions in class.\n",
    "\n",
    "`ENTER YOUR QUESTIONS/COMMENTS IN THE CELL BELOW`  \n"
   ]
  },
  {
   "cell_type": "markdown",
   "metadata": {
    "label": "question_cell",
    "tags": []
   },
   "source": []
  },
  {
   "cell_type": "markdown",
   "metadata": {},
   "source": [
    "## Turn it In\n",
    "\n",
    "FIRST AND FOREMOST: **Save Your work!** Yes, it auto-saves, but you should get in the habit of saving before submitting. From the menu, choose File --> Save Notebook. Or you can use the shortcut keys `CTRL+S`\n",
    "\n",
    "### First: Lab Check\n",
    "\n",
    "Check your lab before submitting. Look for errors and incomplete parts which might cost you a better grade"
   ]
  },
  {
   "cell_type": "code",
   "execution_count": null,
   "metadata": {
    "tags": []
   },
   "outputs": [],
   "source": [
    "from casstools.notebook_tools import NotebookFile\n",
    "NotebookFile().check_lab()"
   ]
  },
  {
   "cell_type": "markdown",
   "metadata": {},
   "source": [
    "### Second: Lab Submission\n",
    "\n",
    "Run this code and follow the instructions to turn in your lab. "
   ]
  },
  {
   "cell_type": "code",
   "execution_count": null,
   "metadata": {},
   "outputs": [],
   "source": [
    "from casstools.assignment import Assignment\n",
    "Assignment().submit()"
   ]
  }
 ],
 "metadata": {
  "anaconda-cloud": {},
  "kernelspec": {
   "display_name": "Python 3 (ipykernel)",
   "language": "python",
   "name": "python3"
  },
  "language_info": {
   "codemirror_mode": {
    "name": "ipython",
    "version": 3
   },
   "file_extension": ".py",
   "mimetype": "text/x-python",
   "name": "python",
   "nbconvert_exporter": "python",
   "pygments_lexer": "ipython3",
   "version": "3.11.7"
  },
  "toc": {
   "base_numbering": 1,
   "nav_menu": {},
   "number_sections": false,
   "sideBar": false,
   "skip_h1_title": false,
   "title_cell": "Table of Contents",
   "title_sidebar": "Contents",
   "toc_cell": false,
   "toc_position": {},
   "toc_section_display": false,
   "toc_window_display": false
  }
 },
 "nbformat": 4,
 "nbformat_minor": 4
}
