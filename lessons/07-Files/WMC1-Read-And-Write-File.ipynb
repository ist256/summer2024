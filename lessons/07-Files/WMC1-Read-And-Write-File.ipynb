{
 "cells": [
  {
   "cell_type": "markdown",
   "metadata": {},
   "source": [
    "# Watch Me Code 1: Read and Write Message\n",
    "\n",
    "A simple example of reading and writing to a file.\n"
   ]
  },
  {
   "cell_type": "code",
   "execution_count": 2,
   "metadata": {
    "collapsed": true,
    "jupyter": {
     "outputs_hidden": true
    },
    "tags": []
   },
   "outputs": [],
   "source": [
    "filename = \"WMC1-Message.txt\"    # Always start by looking at the file if you can. Get to know your data. "
   ]
  },
  {
   "cell_type": "code",
   "execution_count": 3,
   "metadata": {
    "collapsed": false,
    "jupyter": {
     "outputs_hidden": false
    },
    "tags": []
   },
   "outputs": [
    {
     "name": "stdin",
     "output_type": "stream",
     "text": [
      "Type a message and I'll write it to WMC1-Message.txt: Writing a test message!\n"
     ]
    },
    {
     "name": "stdout",
     "output_type": "stream",
     "text": [
      "Done!\n"
     ]
    }
   ],
   "source": [
    "# Let's write to the file!\n",
    "message = input(\"Type a message and I'll write it to %s:\" % filename)\n",
    "with open (filename,'w') as file_out:\n",
    "    file_out.write(message)\n",
    "    \n",
    "print(\"Done!\")"
   ]
  },
  {
   "cell_type": "code",
   "execution_count": 4,
   "metadata": {
    "collapsed": false,
    "jupyter": {
     "outputs_hidden": false
    },
    "tags": []
   },
   "outputs": [
    {
     "name": "stdout",
     "output_type": "stream",
     "text": [
      "Here's the message in WMC1-Message.txt:  Writing a test message!\n"
     ]
    }
   ],
   "source": [
    "with open(filename, 'r') as file_in:\n",
    "    message = file_in.read()\n",
    "    \n",
    "print(\"Here's the message in %s:  %s\" % (filename, message))  # oh I much prefer f strings!"
   ]
  },
  {
   "cell_type": "markdown",
   "metadata": {},
   "source": [
    "NOTE: Show this is really persistent. \n",
    "\n",
    "- open wmc1.txt from outside Jupyter.\n",
    "- edit the message. Re-run the 2nd example. "
   ]
  },
  {
   "cell_type": "code",
   "execution_count": 5,
   "metadata": {
    "collapsed": false,
    "jupyter": {
     "outputs_hidden": false
    },
    "tags": []
   },
   "outputs": [
    {
     "name": "stdin",
     "output_type": "stream",
     "text": [
      "Please enter a message (Enter to view all messages) The first function teaches us how to append to a file. That is different than the write mode!\n",
      "Please enter a message (Enter to view all messages) No input is my exit condition.\n",
      "Please enter a message (Enter to view all messages) Then we\n",
      "Please enter a message (Enter to view all messages) 'll read all of the messages back. What is the type of messages?\n",
      "Please enter a message (Enter to view all messages) Then we'll print out all of the messages by using join. Lots to learn.\n",
      "Please enter a message (Enter to view all messages) \n"
     ]
    },
    {
     "name": "stdout",
     "output_type": "stream",
     "text": [
      "Writing a test message!The first function teaches us how to append to a file. That is different than the write mode!, No input is my exit condition., Then we, 'll read all of the messages back. What is the type of messages?, Then we'll print out all of the messages by using join. Lots to learn.\n"
     ]
    }
   ],
   "source": [
    "\n",
    "def put_text_in_file(text):\n",
    "    with open(\"WMC1-Message.txt\", 'a', encoding='utf-8') as dog:\n",
    "        dog.write(text + \"\\n\")\n",
    "    \n",
    "def get_text_out_file():\n",
    "    with open(\"WMC1-Message.txt\", 'r') as file:\n",
    "        contents = []    # There's that pesky list structure we keep seeing. And .append will be a list method we learn next week. \n",
    "        for line in file:                      #this code sucks! It assumes you know that readlines is the default and I doubt that you do!!!!!\n",
    "            contents.append(line.strip())\n",
    "    return contents\n",
    "\n",
    "while True:\n",
    "    user_input = input(\"Please enter a message (Enter to view all messages)\")\n",
    "    if user_input == '':\n",
    "        break\n",
    "    put_text_in_file(user_input)\n",
    "\n",
    "messages = get_text_out_file()\n",
    "print(\", \".join(messages))\n",
    "\n",
    "# Go look at your test-messages.txt file now that you completed the example. \n",
    "    \n"
   ]
  },
  {
   "cell_type": "code",
   "execution_count": null,
   "metadata": {
    "collapsed": true,
    "jupyter": {
     "outputs_hidden": true
    }
   },
   "outputs": [],
   "source": []
  }
 ],
 "metadata": {
  "anaconda-cloud": {},
  "kernelspec": {
   "display_name": "Python 3 (ipykernel)",
   "language": "python",
   "name": "python3"
  },
  "language_info": {
   "codemirror_mode": {
    "name": "ipython",
    "version": 3
   },
   "file_extension": ".py",
   "mimetype": "text/x-python",
   "name": "python",
   "nbconvert_exporter": "python",
   "pygments_lexer": "ipython3",
   "version": "3.11.7"
  }
 },
 "nbformat": 4,
 "nbformat_minor": 4
}
