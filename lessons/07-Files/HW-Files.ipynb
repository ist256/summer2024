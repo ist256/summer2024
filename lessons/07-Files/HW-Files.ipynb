{
 "cells": [
  {
   "cell_type": "markdown",
   "metadata": {},
   "source": [
    "# Homework: Mass Email Marketing\n",
    "\n",
    "## The Problem\n",
    "\n",
    "You have been contracted by former energy company **Enron** to create a database of email addresses for \"mass marketing\" *ahem* ,*cough*: SPAMMING. You will get the emails for this \"mass marketing\" campaign from the email inboxes of the sales team, provided here.\n",
    "\n",
    "- `enron-allen-inbox.txt`\n",
    "- `enron-donohoe-inbox.txt`\n",
    "- `enron-lay-inbox.txt`\n",
    "- `enron-williams-inbox.txt`\n",
    "- `enron-onemail-inbox.txt` ( a sample with just one email in it - helpful for testing)\n",
    "\n",
    "### Run this cell to download the files you need to your computer.\n"
   ]
  },
  {
   "cell_type": "code",
   "execution_count": null,
   "metadata": {
    "tags": []
   },
   "outputs": [],
   "source": [
    "! curl https://raw.githubusercontent.com/mafudge/datasets/master/ist256/07-Files/enron-allen-inbox.txt -o enron-allen-inbox.txt\n",
    "! curl https://raw.githubusercontent.com/mafudge/datasets/master/ist256/07-Files/enron-donohoe-inbox.txt -o enron-donohoe-inbox.txt\n",
    "! curl https://raw.githubusercontent.com/mafudge/datasets/master/ist256/07-Files/enron-lay-inbox.txt -o enron-lay-inbox.txt\n",
    "! curl https://raw.githubusercontent.com/mafudge/datasets/master/ist256/07-Files/enron-williams-inbox.txt -o enron-williams-inbox.txt\n",
    "! curl https://raw.githubusercontent.com/mafudge/datasets/master/ist256/07-Files/enron-small-inbox.txt -o enron-small-inbox.txt"
   ]
  },
  {
   "cell_type": "markdown",
   "metadata": {},
   "source": [
    "Your ultimate task is to provide a drop-down so the user of the program can select one of the 5 mailboxes. Upon running the interaction the program will:\n",
    "\n",
    " - read the selected mailbox file a line at a time\n",
    " - find any lines beginning with `From:`.\n",
    " - extract out the email address from the `From:` line.\n",
    " - use the `isEmail()` function (provided below) to ensure its a valid email address.\n",
    " - check to make sure its not an `enron.com` email address\n",
    " - print the valid non Enron email address\n",
    " - write the same thing you print to a file\n",
    " - If you read in `enron-allen-inbox.txt` you should write out `enron-allen-emails.txt`\n",
    "\n",
    "## Approach:\n",
    "\n",
    "This assignment is broken up into parts. We will use problem simplification to solve this problem.\n",
    "\n",
    "- **You Code 2.1** we search the file a line at a time for lines beginning with `From:`\n",
    "- **You Code 2.2** builds on 2.1. Specifically 1) Remove the `From:` 2) check to see if the remainder is an actual email, and 3) if its an email check to see if its an `enron.com` email. We only display emails not from Enron.\n",
    "- **You Code 2.3** not only `print()` the emails but write them to a file.\n",
    "- **You Code 2.4** final Program. Build an `@interact_manual` to allow the user to select the email inbox to process.\n"
   ]
  },
  {
   "cell_type": "code",
   "execution_count": null,
   "metadata": {
    "tags": []
   },
   "outputs": [],
   "source": [
    "def isemail(text):\n",
    "    import re\n",
    "    '''\n",
    "    returns True if text is a valid email address\n",
    "    '''\n",
    "    return re.fullmatch(\"([A-Za-z0-9]+[.-_])*[A-Za-z0-9]+@[A-Za-z0-9-]+(\\.[A-Z|a-z]{2,})+\", text) is not None"
   ]
  },
  {
   "cell_type": "code",
   "execution_count": null,
   "metadata": {
    "tags": []
   },
   "outputs": [],
   "source": [
    "#Tests\n",
    "assert isemail(\"mafudge@syr.edu\")==True\n",
    "assert isemail(\"mafudge@mail.syr.edu\")==True\n",
    "assert isemail(\"mike.mafudge@syr.edu\")==True\n",
    "assert isemail(\"mike@\")==False\n",
    "assert isemail(\"@syr.edu\")==False\n",
    "assert isemail(\"m@syr\")==False\n",
    "assert isemail(\"msyr\")==False"
   ]
  },
  {
   "cell_type": "markdown",
   "metadata": {
    "label": "problem_analysis_cell"
   },
   "source": [
    "## Part 1: Problem Analysis\n",
    "\n",
    "You will complete a problem analysis for the entire program.\n",
    "\n",
    "\n",
    "### 1.1 Program Outputs\n",
    "\n",
    "Describe your program outputs in the cell below. \n"
   ]
  },
  {
   "cell_type": "markdown",
   "metadata": {
    "editable": true,
    "label": "analysis_output_cell",
    "slideshow": {
     "slide_type": ""
    },
    "tags": []
   },
   "source": []
  },
  {
   "cell_type": "markdown",
   "metadata": {},
   "source": [
    "### 1.2 Program Inputs\n",
    "\n",
    "List out the program inputs in the cell below.\n"
   ]
  },
  {
   "cell_type": "markdown",
   "metadata": {
    "editable": true,
    "label": "analysis_input_cell",
    "slideshow": {
     "slide_type": ""
    },
    "tags": []
   },
   "source": [
    "   "
   ]
  },
  {
   "cell_type": "markdown",
   "metadata": {},
   "source": [
    "### 1.3 The Plan (Algorithm)\n",
    "\n",
    "Explain, as specifically as you can, without writing code, how the program works from input to output. Be detailed with your plan as you will need to turn it into code. \n"
   ]
  },
  {
   "cell_type": "markdown",
   "metadata": {
    "label": "analysis_plan_cell",
    "tags": []
   },
   "source": []
  },
  {
   "cell_type": "markdown",
   "metadata": {},
   "source": [
    "## Part 2: Code Solution\n",
    "\n",
    "You may write your code in several cells, but place the complete, final working copy of your code solution within this single cell below. Only the within this cell will be considered your solution. Any imports or user-defined functions should be copied into this cell. "
   ]
  },
  {
   "cell_type": "code",
   "execution_count": null,
   "metadata": {},
   "outputs": [],
   "source": []
  },
  {
   "cell_type": "code",
   "execution_count": null,
   "metadata": {},
   "outputs": [],
   "source": []
  },
  {
   "cell_type": "code",
   "execution_count": null,
   "metadata": {},
   "outputs": [],
   "source": []
  },
  {
   "cell_type": "markdown",
   "metadata": {},
   "source": [
    "### You Code 2.1 Extract From: lines\n",
    "\n",
    "In this first part, read in the file a line at a time. For now, only use `enron-small-inbox.txt`. In this file and only print the lines which begin with `From:`\n",
    "\n",
    "Here is the expected output from the file `enron-small-inbox.txt`\n",
    "```\n",
    "From: anchordesk_daily@anchordesk.zdlists.com\n",
    "From: subscriptions@intelligencepress.com\n",
    "From: prizemachine@feedback.iwon.com\n",
    "From: louise.kitchen@enron.com\n",
    "From: arsystem@mailman.enron.com\n",
    "From: exclusive_offers@sportsline.com\n",
    "From: Pizza Hut\n",
    "```\n",
    "\n",
    "**NOTE:** For this step just use the `enron-small-inbox.txt`"
   ]
  },
  {
   "cell_type": "code",
   "execution_count": null,
   "metadata": {
    "code_cell_type": "write_code",
    "editable": true,
    "label": "2.1",
    "solution": [],
    "tags": [],
    "tests": [
     {
      "input-stream": "",
      "kind": "runcode",
      "search-output": [
       "From: anchordesk_daily@anchordesk.zdlists.com",
       "From: louise.kitchen@enron.com",
       "From: Pizza Hut"
      ]
     }
    ]
   },
   "outputs": [],
   "source": [
    "# SOLUTION CELL 2.1\n"
   ]
  },
  {
   "cell_type": "markdown",
   "metadata": {},
   "source": [
    "### You Code 2.2 Just Actual Emails and Outside the `enron.com` Domain:\n",
    "\n",
    "In this next part, starting with the code you wrote in 2.1. for each `From:` line:\n",
    " - remove the `From:` from the line\n",
    " - check to see if the rest of the line is an email using `isemail()` \n",
    " - check if the email is an `enron.com` email \n",
    " - Only print if they satisfy those requirements. \n",
    "\n",
    "Here is the expected output from the file `enron-small-inbox.txt`\n",
    "```\n",
    "anchordesk_daily@anchordesk.zdlists.com\n",
    "subscriptions@intelligencepress.com\n",
    "prizemachine@feedback.iwon.com\n",
    "exclusive_offers@sportsline.com\n",
    "```\n",
    "\n",
    "**NOTE:** For this step just use the `enron-small-inbox.txt`"
   ]
  },
  {
   "cell_type": "code",
   "execution_count": null,
   "metadata": {
    "code_cell_type": "write_code",
    "editable": true,
    "label": "2.2",
    "solution": [],
    "tags": [],
    "tests": [
     {
      "input-stream": "",
      "kind": "runcode",
      "search-output": [
       "anchordesk_daily@anchordesk.zdlists.com",
       "subscriptions@intelligencepress.com",
       "prizemachine@feedback.iwon.com",
       "exclusive_offers@sportsline.com"
      ]
     }
    ]
   },
   "outputs": [],
   "source": [
    "# SOLUTION CELL 2.2\n",
    "# NOTE: required for checker to work\n",
    "def isemail(text):\n",
    "    import re\n",
    "    return re.fullmatch(\"([A-Za-z0-9]+[.-_])*[A-Za-z0-9]+@[A-Za-z0-9-]+(\\.[A-Z|a-z]{2,})+\", text) is not None\n",
    "\n",
    "# Your Code Starts here\n"
   ]
  },
  {
   "cell_type": "markdown",
   "metadata": {},
   "source": [
    "### You Code 2.3 Writing the valid emails to a file\n",
    "\n",
    "In this final part, re-write your code so that after you print, you also write the email to a file. The trick here is:\n",
    "- Input the name of the mailbox file: For example: `enron-small-inbox.txt` or `enron-williams-inbox.txt`, etc...\n",
    "- Turning the input file name into the output file name. For example `enron-small-inbox.txt` into `enron-small-emails.txt`.\n",
    "- Where in the code do you open the `enron-small-emails.txt` so it can be written to and also saves every email to the file.\n",
    "- Keeping track of the number of emails it wrote to the file.\n",
    "\n",
    "For example, here is the expected output from the file `enron-small-inbox.txt`\n",
    "\n",
    "The contents of your `enron-small-emails.txt` should be:\n",
    "```\n",
    "anchordesk_daily@anchordesk.zdlists.com\n",
    "subscriptions@intelligencepress.com\n",
    "prizemachine@feedback.iwon.com\n",
    "exclusive_offers@sportsline.com\n",
    "```\n",
    "\n",
    "To the console, we should see:\n",
    "\n",
    "```\n",
    "anchordesk_daily@anchordesk.zdlists.com\n",
    "subscriptions@intelligencepress.com\n",
    "prizemachine@feedback.iwon.com\n",
    "exclusive_offers@sportsline.com\n",
    "\n",
    "Wrote 4 emails to enron-small-emails.txt\n",
    "```\n",
    "\n",
    "\n",
    "**NOTE:** For this step you should `input()` the mailbox file name. That way the code checker can try a different file, such as `enron-lay-inbox.txt`"
   ]
  },
  {
   "cell_type": "code",
   "execution_count": null,
   "metadata": {
    "code_cell_type": "write_code",
    "editable": true,
    "label": "2.3",
    "solution": [],
    "tags": [],
    "tests": [
     {
      "input-stream": "enron-small-inbox.txt",
      "kind": "runcode",
      "search-output": [
       "Wrote 4 emails to enron-small-emails.txt"
      ]
     },
     {
      "input-stream": "enron-lay-inbox.txt",
      "kind": "runcode",
      "search-output": [
       "Wrote 37 emails to enron-lay-emails.txt"
      ]
     },
     {
      "input-stream": "enron-donohoe-inbox.txt",
      "kind": "runcode",
      "search-output": [
       "Wrote 8 emails to enron-donohoe-emails.txt"
      ]
     }
    ]
   },
   "outputs": [],
   "source": [
    "# SOLUTION CELL 2.3\n",
    "# NOTE: required for checker to work.\n",
    "def isemail(text):\n",
    "    import re\n",
    "    return re.fullmatch(\"([A-Za-z0-9]+[.-_])*[A-Za-z0-9]+@[A-Za-z0-9-]+(\\.[A-Z|a-z]{2,})+\", text) is not None\n",
    "\n",
    "# Your code starts here\n"
   ]
  },
  {
   "cell_type": "markdown",
   "metadata": {
    "tags": []
   },
   "source": [
    "### You Code 2.4 Interact Manual\n",
    "\n",
    "Re-write the final program as an `@interact_manual` the input widget should be a drop-down of the 5 available mailboxes from the top\n",
    "\n",
    "**NOTE:** this code will be graded manually"
   ]
  },
  {
   "cell_type": "code",
   "execution_count": null,
   "metadata": {
    "code_cell_type": "write_code",
    "editable": true,
    "label": "2.4",
    "solution": [],
    "tags": [],
    "tests": []
   },
   "outputs": [],
   "source": [
    "# SOLUTION CELL 2.4\n",
    "from ipywidgets import interact_manual\n",
    "mailfiles = [\"enron-allen-inbox.txt\",\"enron-donohoe-inbox.txt\",\"enron-lay-inbox.txt\",\"enron-williams-inbox.txt\", \"enron-small-inbox.txt\"]\n",
    "\n"
   ]
  },
  {
   "cell_type": "markdown",
   "metadata": {},
   "source": [
    "## Part 3: Metacognition\n",
    "\n",
    "These questions are designed to prompt you to reflect on your learning. Reflection is part of the assignment grade so please take time to answer the questions thoughtfully.\n",
    "\n",
    "#### 3.1 List at least 3 things you learned this week and/or throughout the process of completing this assignment?"
   ]
  },
  {
   "cell_type": "markdown",
   "metadata": {
    "label": "learned_cell",
    "tags": []
   },
   "source": []
  },
  {
   "cell_type": "markdown",
   "metadata": {},
   "source": [
    "#### 3.2 What were the challenges or roadblocks (if any) you encountered on the way to completing it?"
   ]
  },
  {
   "cell_type": "markdown",
   "metadata": {
    "label": "challenges_cell",
    "tags": []
   },
   "source": []
  },
  {
   "cell_type": "markdown",
   "metadata": {},
   "source": [
    "#### 3.3 Were you prepared for this assignment? What can you do to be better prepared?"
   ]
  },
  {
   "cell_type": "markdown",
   "metadata": {
    "label": "prepared_cell",
    "tags": []
   },
   "source": []
  },
  {
   "cell_type": "markdown",
   "metadata": {},
   "source": [
    "#### 3.4 Did someone (or something such as AI) help you? Did You help someone? Provide details. "
   ]
  },
  {
   "cell_type": "markdown",
   "metadata": {
    "label": "help_cell",
    "tags": []
   },
   "source": [
    "1"
   ]
  },
  {
   "cell_type": "markdown",
   "metadata": {},
   "source": [
    "#### 3.5  Now that you have completed the assignment rate your comfort level with this week’s material. This should be an honest assessment of your ability: \n",
    "\n",
    "**1** ==> I don't understand this at all yet and need extra help. If you choose this please try to articulate that which you do not understand to the best of your ability in the questions and comments section below.  \n",
    "**2** ==> I can do this with help or guidance from other people or resources. If you choose this level, please indicate HOW this person helped you in the questions and comments section below.   \n",
    "**3** ==> I can do this on my own without any help.   \n",
    "**4** ==> I can do this on my own and can explain/teach how to do it to others.\n",
    "\n",
    "`ENTER A NUMBER 1-4 IN THE CELL BELOW`"
   ]
  },
  {
   "cell_type": "markdown",
   "metadata": {
    "label": "comfort_cell",
    "tags": []
   },
   "source": []
  },
  {
   "cell_type": "markdown",
   "metadata": {},
   "source": [
    "## Part 4: Turning it in\n",
    "\n",
    "FIRST AND FOREMOST: **Save Your work!** Yes, it auto-saves, but you should get in the habit of saving before submitting. From the menu, choose File --> Save Notebook. Or you can use the shortcut keys `CTRL+S`\n",
    "\n",
    "### Homework Check\n",
    "\n",
    "Check your homework before submitting. Look for errors and incomplete parts which might cost you a better grade."
   ]
  },
  {
   "cell_type": "code",
   "execution_count": null,
   "metadata": {
    "tags": []
   },
   "outputs": [],
   "source": [
    "from casstools.notebook_tools import NotebookFile\n",
    "NotebookFile().check_homework()"
   ]
  },
  {
   "cell_type": "markdown",
   "metadata": {},
   "source": [
    "### Homework Submission\n",
    "\n",
    "Run this code and follow the instructions to turn in your homework."
   ]
  },
  {
   "cell_type": "code",
   "execution_count": null,
   "metadata": {},
   "outputs": [],
   "source": [
    "from casstools.assignment import Assignment\n",
    "Assignment().submit()"
   ]
  }
 ],
 "metadata": {
  "anaconda-cloud": {},
  "kernelspec": {
   "display_name": "Python 3 (ipykernel)",
   "language": "python",
   "name": "python3"
  },
  "language_info": {
   "codemirror_mode": {
    "name": "ipython",
    "version": 3
   },
   "file_extension": ".py",
   "mimetype": "text/x-python",
   "name": "python",
   "nbconvert_exporter": "python",
   "pygments_lexer": "ipython3",
   "version": "3.11.7"
  },
  "toc": {
   "base_numbering": 1,
   "nav_menu": {},
   "number_sections": false,
   "sideBar": false,
   "skip_h1_title": false,
   "title_cell": "Table of Contents",
   "title_sidebar": "Contents",
   "toc_cell": false,
   "toc_position": {},
   "toc_section_display": false,
   "toc_window_display": false
  },
  "varInspector": {
   "cols": {
    "lenName": 16,
    "lenType": 16,
    "lenVar": 40
   },
   "kernels_config": {
    "python": {
     "delete_cmd_postfix": "",
     "delete_cmd_prefix": "del ",
     "library": "var_list.py",
     "varRefreshCmd": "print(var_dic_list())"
    },
    "r": {
     "delete_cmd_postfix": ") ",
     "delete_cmd_prefix": "rm(",
     "library": "var_list.r",
     "varRefreshCmd": "cat(var_dic_list()) "
    }
   },
   "types_to_exclude": [
    "module",
    "function",
    "builtin_function_or_method",
    "instance",
    "_Feature"
   ],
   "window_display": false
  }
 },
 "nbformat": 4,
 "nbformat_minor": 4
}
