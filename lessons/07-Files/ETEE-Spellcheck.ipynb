{
 "cells": [
  {
   "cell_type": "markdown",
   "metadata": {},
   "source": [
    "# End-to-End Example: Spellcheck\n",
    "\n",
    "This is an enhancement to the sp0ellcheck from last weeks' smallgroup, reading from files.\n",
    "\n"
   ]
  },
  {
   "cell_type": "code",
   "execution_count": 3,
   "metadata": {},
   "outputs": [
    {
     "name": "stdout",
     "output_type": "stream",
     "text": [
      "  % Total    % Received % Xferd  Average Speed   Time    Time     Time  Current\n",
      "                                 Dload  Upload   Total   Spent    Left  Speed\n",
      "100  859k  100  859k    0     0   794k      0  0:00:01  0:00:01 --:--:--  794k\n"
     ]
    }
   ],
   "source": [
    "!curl https://raw.githubusercontent.com/mafudge/datasets/master/spelling/dict.txt -o dict.txt"
   ]
  },
  {
   "cell_type": "code",
   "execution_count": 14,
   "metadata": {},
   "outputs": [
    {
     "data": {
      "text/html": [
       "<h1>Spellechecker 2.0</h1>"
      ],
      "text/plain": [
       "<IPython.core.display.HTML object>"
      ]
     },
     "metadata": {},
     "output_type": "display_data"
    },
    {
     "data": {
      "application/vnd.jupyter.widget-view+json": {
       "model_id": "33ce15d19d434c7bae2273106b268305",
       "version_major": 2,
       "version_minor": 0
      },
      "text/plain": [
       "interactive(children=(Text(value='', description='file'), Button(description='Run Interact', style=ButtonStyle…"
      ]
     },
     "metadata": {},
     "output_type": "display_data"
    }
   ],
   "source": [
    "from IPython.display import display,HTML\n",
    "from ipywidgets import interact_manual, widgets \n",
    "from string import punctuation \n",
    "\n",
    "def getFileText(file):\n",
    "     with open(file, \"r\") as f:\n",
    "        text = f.read()\n",
    "        return text\n",
    "    \n",
    "def onList(word, dictionary):\n",
    "    for term in dictionary.split():\n",
    "        if word == term:\n",
    "            return True\n",
    "    return False\n",
    "\n",
    "def cleanup(word):\n",
    "    word = word.strip().lower()\n",
    "    for ch in punctuation:\n",
    "        word = word.replace(ch,\"\")\n",
    "    return word\n",
    "\n",
    "\n",
    "display(HTML(\"<h1>Spellechecker 2.0</h1>\"))\n",
    "@interact_manual(file=\"\")\n",
    "def main(file):\n",
    "    count = 0\n",
    "    dictionary = getFileText('dict.txt')\n",
    "    text = getFileText(file)\n",
    "    print(text)\n",
    "    for word in text.split():\n",
    "        word = cleanup(word)\n",
    "        if not onList(word, dictionary):\n",
    "            print(f\"Spelling Error: {word}\")\n",
    "            count +=1\n",
    "    if count==0:\n",
    "        print(\"No Spelling Errors!\")\n",
    "    "
   ]
  },
  {
   "cell_type": "code",
   "execution_count": null,
   "metadata": {},
   "outputs": [],
   "source": []
  }
 ],
 "metadata": {
  "kernelspec": {
   "display_name": "Python 3",
   "language": "python",
   "name": "python3"
  },
  "language_info": {
   "codemirror_mode": {
    "name": "ipython",
    "version": 3
   },
   "file_extension": ".py",
   "mimetype": "text/x-python",
   "name": "python",
   "nbconvert_exporter": "python",
   "pygments_lexer": "ipython3",
   "version": "3.8.6"
  }
 },
 "nbformat": 4,
 "nbformat_minor": 4
}
