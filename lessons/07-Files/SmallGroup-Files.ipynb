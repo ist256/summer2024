{
 "cells": [
  {
   "cell_type": "markdown",
   "id": "f2c5ba13-81b6-4e31-9927-7dc3abc46580",
   "metadata": {},
   "source": [
    "# Venmo!\n",
    "\n",
    "Lets write a program that does keeps track of my venmo contacts and what I've sent them....\n",
    "\n",
    "Files:\n",
    "    - mode = r(read) w(write) a(append) x(create)\n",
    "    - `venmo_contacts.txt` my venmo contacts  fcontacts_read\n",
    "    - `venmo_log.txt` my venmo activity log   flog_append\n",
    "\n",
    "Code:\n",
    "\n",
    "    - You will enter a person\n",
    "    - You will enter the amount you wish to venmo them\n",
    "    - program scans through your venmo contacts `venmo_contacts.txt`\n",
    "    - if the person is in the venmo contacts send them money by appending to the `venmo_log.txt` and printing to the console\n",
    "    - when you scan all the venmo contacts yet don't find anyone say: \"can't send money as they are not a contact\"\n",
    "\n"
   ]
  },
  {
   "cell_type": "code",
   "execution_count": null,
   "id": "19f233c7-2b26-474b-80c2-5fbb3f105145",
   "metadata": {
    "tags": []
   },
   "outputs": [],
   "source": [
    "!printf \"abby\\nbob\\nchris\\ndak\\n\" > venmo_contacts.txt"
   ]
  },
  {
   "cell_type": "code",
   "execution_count": null,
   "id": "cee3ef45-534a-41e4-a073-01f37a902d6d",
   "metadata": {
    "tags": []
   },
   "outputs": [],
   "source": [
    "contacts_file = 'venmo_contacts.txt'\n",
    "venmo_log = \"venmo_log.txt\"\n",
    "\n",
    "person_name = input(\"Who do you want to send money to: \")\n",
    "ven_amt = float(input(\"How much money do you want to send: \"))\n",
    "with open(contacts_file, 'r') as fcontacts_read:\n",
    "    for line in fcontacts_read.readlines():\n",
    "        if line.startswith(person_name):\n",
    "            with open(venmo_log, 'a') as flog_append:\n",
    "                new_line = f'{person_name}  ${ven_amt}\\n'\n",
    "                flog_append.write(new_line)\n",
    "                print(f\"Logged: You sent ${ven_amt} to {person_name}\")\n",
    "                break\n",
    "    else:\n",
    "        print(f\"You can't send money to {person_name} as they are not in your contacts!\")"
   ]
  },
  {
   "cell_type": "markdown",
   "id": "ade868d4-959f-4f90-af74-f5a1e4ee7f82",
   "metadata": {},
   "source": [
    "#Future Features\n",
    "\n",
    "1) We want to add todays date and time to the log entry (all logs are time-stamped)\n",
    "2) We want to add interact_manual because we can!\n",
    "3) Let's look professional, money displays should be 2 digits.\n",
    "4) Let's look professional, displayed names should probably start with a capital letter.\n",
    "5) We want to add a feature to do the following if the person isn't in the contacts:  ask us if we want to add them using interact!!!\n",
    "\n",
    "\n"
   ]
  },
  {
   "cell_type": "code",
   "execution_count": null,
   "id": "38f2bf68-a4b4-4d27-ba3f-f3a922731595",
   "metadata": {
    "tags": []
   },
   "outputs": [],
   "source": [
    "#This cell handles features 2-4\n",
    "\n",
    "from ipywidgets import interact_manual\n",
    "contacts_file = 'venmo_contacts.txt'\n",
    "venmo_log = \"venmo_log.txt\"\n",
    "\n",
    " \n",
    "@interact_manual(person_name='', ven_amt=(100,500,50))\n",
    "def onclick1(person_name, ven_amt):\n",
    "    ven_amt = float(ven_amt)\n",
    "    with open(contacts_file, 'r') as fcon_read:\n",
    "        for line in fcon_read.readlines():\n",
    "            if line.startswith(person_name):\n",
    "                with open(venmo_log, 'a') as flog_append:\n",
    "                    new_line = f'{person_name}  ${ven_amt}\\n'\n",
    "                    flog_append.write(new_line)\n",
    "                    print(f\"Logged: You sent ${ven_amt:.2f} to {person_name.capitalize()}\")\n",
    "                    break\n",
    "        else:\n",
    "            print(f\"You can't send money to {person_name.capitalize()} as they are not in your contacts!\")\n",
    "            "
   ]
  },
  {
   "cell_type": "code",
   "execution_count": null,
   "id": "4ebbb596-7ebf-4587-94fc-c643e3b38e31",
   "metadata": {
    "tags": []
   },
   "outputs": [],
   "source": [
    "#This adds the 5th feature which allows us to add people to the contact list if not found \n",
    "\n",
    "from ipywidgets import interact_manual\n",
    "contacts_file = 'venmo_contacts.txt'\n",
    "venmo_log = \"venmo_log.txt\"\n",
    "\n",
    " \n",
    "@interact_manual(person_name='', ven_amt=(100,500,10))\n",
    "def onclick1(person_name, ven_amt):\n",
    "    ven_amt = float(ven_amt)\n",
    "    with open(contacts_file, 'r') as f_read:\n",
    "        for line in f_read.readlines():\n",
    "            if line.startswith(person_name):\n",
    "                with open(venmo_log, 'a') as f_append:\n",
    "                    new_line = f'{person_name}  ${ven_amt}\\n'\n",
    "                    f_append.write(new_line)\n",
    "                    print(f\"Logged: You sent ${ven_amt} to {person_name}\")\n",
    "                    break\n",
    "        else:\n",
    "            print(f\"You can't send money to {person_name} - they are not in your contacts!\")\n",
    "            @interact_manual(add_person=\"\" )\n",
    "            def onclick2(add_person=''):\n",
    "                if add_person == \"Y\":\n",
    "                    with open(contacts_file, 'a') as fcontact_append:\n",
    "                        new_line = f'{person_name}\\n'\n",
    "                        fcontact_append.write(new_line)\n",
    "                        print(f\"{person_name} has been added to your contacts.\")"
   ]
  },
  {
   "cell_type": "code",
   "execution_count": null,
   "id": "7e7e27e3-7b91-42b6-975a-c1976668708a",
   "metadata": {},
   "outputs": [],
   "source": []
  }
 ],
 "metadata": {
  "kernelspec": {
   "display_name": "Python 3 (ipykernel)",
   "language": "python",
   "name": "python3"
  },
  "language_info": {
   "codemirror_mode": {
    "name": "ipython",
    "version": 3
   },
   "file_extension": ".py",
   "mimetype": "text/x-python",
   "name": "python",
   "nbconvert_exporter": "python",
   "pygments_lexer": "ipython3",
   "version": "3.11.7"
  }
 },
 "nbformat": 4,
 "nbformat_minor": 5
}
