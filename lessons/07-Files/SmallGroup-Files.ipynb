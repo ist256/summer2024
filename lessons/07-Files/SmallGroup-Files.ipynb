{
 "cells": [
  {
   "cell_type": "markdown",
   "id": "f2c5ba13-81b6-4e31-9927-7dc3abc46580",
   "metadata": {},
   "source": [
    "# Venmo!\n",
    "\n",
    "Lets write a program that does keeps track of my venmo contacts and what I've sent them....\n",
    "\n",
    "Files:\n",
    "\n",
    "    - `venmo_contacts.txt` my venmo contacts\n",
    "    - `venmo_log.txt` my venmo activity log\n",
    "\n",
    "Code:\n",
    "\n",
    "    - You will enter a person\n",
    "    - You will enter the amount you wish to venmo them\n",
    "    - program scans through your venmo contacts `venmo_contacts.txt`\n",
    "    - if the person is in the venmo contacts send them money by appending to the `venmo_log.txt` and printing to the console\n",
    "    - when you scan all the venmo contacts yet don't find anyone say: \"can't send money as they are not a contact\"\n",
    "\n"
   ]
  },
  {
   "cell_type": "code",
   "execution_count": null,
   "id": "19f233c7-2b26-474b-80c2-5fbb3f105145",
   "metadata": {
    "tags": []
   },
   "outputs": [],
   "source": [
    "# make the venmo contacts list with these names: abby bob chris and dak\n",
    "# What does the following print statement do? \n",
    "\n",
    "!printf \"abby\\nbob\\nchris\\ndak\\n\" > venmo_contacts.txt"
   ]
  },
  {
   "cell_type": "code",
   "execution_count": null,
   "id": "cee3ef45-534a-41e4-a073-01f37a902d6d",
   "metadata": {
    "tags": []
   },
   "outputs": [],
   "source": [
    "contacts_file = 'venmo_contacts.txt'\n",
    "venmo_log = \"venmo_log.txt\"\n",
    "\n"
   ]
  },
  {
   "cell_type": "code",
   "execution_count": null,
   "id": "f22b689f-4d59-41d0-aa69-5a647093b808",
   "metadata": {},
   "outputs": [],
   "source": []
  }
 ],
 "metadata": {
  "kernelspec": {
   "display_name": "Python 3 (ipykernel)",
   "language": "python",
   "name": "python3"
  },
  "language_info": {
   "codemirror_mode": {
    "name": "ipython",
    "version": 3
   },
   "file_extension": ".py",
   "mimetype": "text/x-python",
   "name": "python",
   "nbconvert_exporter": "python",
   "pygments_lexer": "ipython3",
   "version": "3.11.7"
  }
 },
 "nbformat": 4,
 "nbformat_minor": 5
}
