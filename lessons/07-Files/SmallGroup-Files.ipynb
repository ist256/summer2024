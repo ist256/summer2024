{
 "cells": [
  {
   "cell_type": "markdown",
   "id": "f2c5ba13-81b6-4e31-9927-7dc3abc46580",
   "metadata": {},
   "source": [
    "# Venmo!\n",
    "\n",
    "Lets write a program that does keeps track of my venmo contacts and what I've sent them....\n",
    "\n",
    "Files:\n",
    "\n",
    "    - `venmo_contacts.txt` my venmo contacts\n",
    "    - `venmo_log.txt` my venmo activity log\n",
    "\n",
    "Code:\n",
    "\n",
    "    - You will enter a person\n",
    "    - You will enter the amount you wish to venmo them\n",
    "    - program scans through your venmo contacts `venmo_contacts.txt`\n",
    "    - if the person is in the venmo contacts send them money by appending to the `venmo_log.txt` and printing to the console\n",
    "    - when you scan all the venmo contacts yet don't find anyone say: \"can't send money as they are not a contact\"\n",
    "\n"
   ]
  },
  {
   "cell_type": "markdown",
   "id": "06278f69-5f06-4e14-bd8e-66cd8133cd3b",
   "metadata": {},
   "source": [
    "#Algorithm\n",
    "\n",
    "Inputs:\n",
    "- user-input name and amount to send to them\n",
    "- venmo contacts to verify I can send money to input person\n",
    "\n",
    "Outputs:\n",
    "\n",
    "- print (error message)\n",
    "- print (success of money to whom)\n",
    "- write a log entry\n",
    "\n",
    "Plan/Algorithm:\n",
    "\n",
    "- colletc user name\n",
    "\n",
    "- collect amount to send\n",
    "\n",
    "- open venmo contacts to see if person is in there\n",
    "\n",
    "- if they are in there \n",
    "    enter log entry - open log and add new entry to the log\n",
    "    print the success message\n",
    "    \n",
    "- if not in contact\n",
    "     print the error message\n"
   ]
  },
  {
   "cell_type": "code",
   "execution_count": 1,
   "id": "19f233c7-2b26-474b-80c2-5fbb3f105145",
   "metadata": {
    "tags": []
   },
   "outputs": [],
   "source": [
    "# make the venmo contacts list with these names: abby bob chris and dak\n",
    "# What does the following print statement do? \n",
    "\n",
    "!printf \"reese\\nbob\\nchris\\ndak\\n\" > venmo_contacts.txt"
   ]
  },
  {
   "cell_type": "code",
   "execution_count": 4,
   "id": "cee3ef45-534a-41e4-a073-01f37a902d6d",
   "metadata": {
    "tags": []
   },
   "outputs": [
    {
     "name": "stdin",
     "output_type": "stream",
     "text": [
      "what is their name:  scot\n",
      "What is the amount:  200\n"
     ]
    },
    {
     "name": "stdout",
     "output_type": "stream",
     "text": [
      "not in contact\n"
     ]
    }
   ],
   "source": [
    "contacts_file = 'venmo_contacts.txt'  #(read)\n",
    "venmo_log = \"venmo_log.txt\"   #this the log I am appending to\n",
    "\n",
    "name = input(\"what is their name: \")\n",
    "amt = float(input(\"What is the amount: \"))\n",
    "\n",
    "with open(contacts_file, 'r') as fread_contacts:\n",
    "    for line in fread_contacts.readlines():\n",
    "        if line.startswith(name):\n",
    "            with open(venmo_log, 'a') as fappend_log:\n",
    "                new_line = f'{name} ${amt:.2f} \\n'\n",
    "                fappend_log.write(new_line)\n",
    "                print (\"we added one\")\n",
    "            break\n",
    "    else:\n",
    "        print(\"not in contact\")"
   ]
  },
  {
   "cell_type": "code",
   "execution_count": null,
   "id": "f22b689f-4d59-41d0-aa69-5a647093b808",
   "metadata": {},
   "outputs": [],
   "source": []
  }
 ],
 "metadata": {
  "kernelspec": {
   "display_name": "Python 3 (ipykernel)",
   "language": "python",
   "name": "python3"
  },
  "language_info": {
   "codemirror_mode": {
    "name": "ipython",
    "version": 3
   },
   "file_extension": ".py",
   "mimetype": "text/x-python",
   "name": "python",
   "nbconvert_exporter": "python",
   "pygments_lexer": "ipython3",
   "version": "3.11.7"
  }
 },
 "nbformat": 4,
 "nbformat_minor": 5
}
