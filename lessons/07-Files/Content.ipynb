{
 "cells": [
  {
   "cell_type": "markdown",
   "id": "73240ef3-9669-4ebb-89c5-e4aa69675206",
   "metadata": {},
   "source": [
    "#### Lesson 07: Files\n",
    "\n",
    "### Overview\n",
    "\n",
    "In this lesson we learn:\n",
    "\n",
    "- The importance of a persistence layer in programming.\n",
    "- How to read, write, and append to files.\n",
    "- Techniques for reading a file a line at a time and all at once.\n",
    "- Using exception handling with files.\n",
    "- Text encodings.\n",
    "\n",
    "### Required Before Large Group\n",
    "\n",
    "- READ: [The with statement, Real Python by by Leodanis Pozo Ramos](https://realpython.com/python-with-statement/)\n",
    "- READ: [Severance Ch 7: Persistence](https://books.trinket.io/pfe/07-files.html)\n",
    "- VIDEO: Python for Everybody: [Ch7 Part 1](https://youtu.be/9KJ-XeQ6ZlI) | [Part 2](https://youtu.be/0t4rvnySKR4), by Charles Severance\n",
    "\n",
    "### Additional Resources\n",
    "\n",
    "- READ: [Context Managers the WITH statement in Python, by Arttuir Jalli](https://builtin.com/software-engineering-perspectives/what-is-with-statement-python)\n",
    "- VIDEO: [End to End Example: Files, by Michael Fudge](https://youtu.be/s-1ToO0dJIs)\n",
    "- VIDEO: [Lab Walk Through, by Michael Fudge](https://youtu.be/NiZsQ7GJqlU)\n",
    "- VIDEO: [Homework Advaice, by Michael Fudge](https://youtu.be/WKb5fKDn_Nc)\n"
   ]
  },
  {
   "cell_type": "code",
   "execution_count": null,
   "id": "edac552d-1531-4523-83da-78b5442cb238",
   "metadata": {},
   "outputs": [],
   "source": []
  }
 ],
 "metadata": {
  "kernelspec": {
   "display_name": "Python 3 (ipykernel)",
   "language": "python",
   "name": "python3"
  },
  "language_info": {
   "codemirror_mode": {
    "name": "ipython",
    "version": 3
   },
   "file_extension": ".py",
   "mimetype": "text/x-python",
   "name": "python",
   "nbconvert_exporter": "python",
   "pygments_lexer": "ipython3",
   "version": "3.11.7"
  }
 },
 "nbformat": 4,
 "nbformat_minor": 5
}
