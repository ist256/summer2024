{
 "cells": [
  {
   "cell_type": "markdown",
   "metadata": {
    "slideshow": {
     "slide_type": "slide"
    }
   },
   "source": [
    "# IST256 Lesson 07\n",
    "## Files\n",
    "\n",
    "- P4E Ch7\n",
    "\n"
   ]
  },
  {
   "cell_type": "markdown",
   "metadata": {
    "slideshow": {
     "slide_type": "slide"
    }
   },
   "source": [
    "# Content Highlights\n",
    "\n",
    "### Exam 2: End of class tonight (Lessons 4 - 6)\n",
    "\n",
    "### Files\n",
    "- The importance of a persistence layer in programming.\n",
    "- How to read and write from files.\n",
    "- Techniques for reading a file a line at a time. \n",
    "- Using exception handling with files.\n"
   ]
  },
  {
   "cell_type": "markdown",
   "metadata": {
    "slideshow": {
     "slide_type": "slide"
    }
   },
   "source": [
    "# Files == Persistence\n",
    "\n",
    "- Files add a **Persistence Layer** to our computing environment where we can store our data  **after the program completes**. \n",
    "- **Think: Saving a game's progress or saving your work!**\n",
    "- When our program **Stores** data, we open the file for **writing**.\n",
    "- When our program **Reads** data, we open the file for **reading**.\n",
    "- To read or write a file we must first **open** it, which gives us a special variable called a **file handle**. \n",
    "- We then use the **file handle** to read or write from the file.\n",
    "- The **read()** function reads from, the **write()** function writes to the file through the file handle. "
   ]
  },
  {
   "cell_type": "markdown",
   "metadata": {
    "slideshow": {
     "slide_type": "slide"
    }
   },
   "source": [
    "# Reading From a File\n",
    "\n",
    "Two approaches... that's it!"
   ]
  },
  {
   "cell_type": "code",
   "execution_count": null,
   "metadata": {
    "slideshow": {
     "slide_type": "fragment"
    }
   },
   "outputs": [],
   "source": [
    "#Reading from a file - Two approaches  #mode \"r\"\n",
    "\n",
    "# all at once\n",
    "with open(filename, 'r') as handle:\n",
    "    contents = handle.read()\n",
    "    \n",
    "# a line at a time\n",
    "filename = \"dict.txt\"\n",
    "with open(filename , 'r') as fread_sample:\n",
    "    for line in fread_sample.readlines(): \n",
    "        do_something_with_line"
   ]
  },
  {
   "cell_type": "markdown",
   "metadata": {
    "slideshow": {
     "slide_type": "slide"
    }
   },
   "source": [
    "# Writing To File\n"
   ]
  },
  {
   "cell_type": "code",
   "execution_count": null,
   "metadata": {
    "slideshow": {
     "slide_type": "fragment"
    }
   },
   "outputs": [],
   "source": [
    "#Writing to a File: Two Modes! \n",
    "\n",
    "# write mode\n",
    "with open(filename, 'w') as handle:\n",
    "    handle.write(something)\n",
    "    \n",
    "# append mode\n",
    "with open(filename, 'a') as handle:\n",
    "    handle.write(something)"
   ]
  },
  {
   "cell_type": "markdown",
   "metadata": {
    "slideshow": {
     "slide_type": "slide"
    }
   },
   "source": [
    "# Watch Me Code 1\n",
    "\n",
    "### Let’s Write two programs. \n",
    "- Save a text message to a file.\n",
    "- Retrieve the text message from the file.\n",
    "- This uses WMC1-Read-And-Write-File.ipynb\n"
   ]
  },
  {
   "cell_type": "markdown",
   "metadata": {
    "slideshow": {
     "slide_type": "slide"
    }
   },
   "source": [
    "# Check Yourself: Which line 1\n",
    "\n",
    "- Which line number creates the file handle?\n"
   ]
  },
  {
   "cell_type": "code",
   "execution_count": null,
   "metadata": {
    "slideshow": {
     "slide_type": "fragment"
    }
   },
   "outputs": [],
   "source": [
    "a = \"savename.txt\"\n",
    "with open(a,'w') as b:\n",
    "    c = input(\"Enter your name: \")\n",
    "    b.write(c)"
   ]
  },
  {
   "cell_type": "markdown",
   "metadata": {
    "slideshow": {
     "slide_type": "fragment"
    }
   },
   "source": [
    "A. `1`  \n",
    "B. `2`   \n",
    "C. `3`   \n",
    "D. `4`\n"
   ]
  },
  {
   "cell_type": "markdown",
   "metadata": {
    "slideshow": {
     "slide_type": "slide"
    }
   },
   "source": [
    "# Watch Me Code 2\n",
    "\n",
    "Common patterns for reading and writing more than one item to a file.\n",
    "- Input a series of grades, write them to a file one line at a time.\n",
    "- Read in that file one line at a time, print average.\n"
   ]
  },
  {
   "cell_type": "markdown",
   "metadata": {
    "slideshow": {
     "slide_type": "slide"
    }
   },
   "source": [
    "# Check Yourself: Which line 2\n",
    "\n",
    "- On which line number does the file handle no longer exist?"
   ]
  },
  {
   "cell_type": "code",
   "execution_count": null,
   "metadata": {
    "slideshow": {
     "slide_type": "fragment"
    }
   },
   "outputs": [],
   "source": [
    "with open(\"sample.txt\",\"r\") as f:\n",
    "    for line in f.readlines():\n",
    "        print(line)\n",
    "f.read()"
   ]
  },
  {
   "cell_type": "markdown",
   "metadata": {
    "slideshow": {
     "slide_type": "fragment"
    }
   },
   "source": [
    "A. `1`  \n",
    "B. `2`   \n",
    "C. `3`   \n",
    "D. `4`\n"
   ]
  },
  {
   "cell_type": "markdown",
   "metadata": {
    "slideshow": {
     "slide_type": "slide"
    }
   },
   "source": [
    "# Your Operating System and You\n",
    "\n",
    "- Files are stored in your **secondary memory** in **folders**. \n",
    "- When the python program is in the **same** folder as the file, **no path is required**.\n",
    "- When the file is in a **different** folder, **a path is required**. \n",
    "- **Absolute paths** point to a file starting at the root of the hard disk.\n",
    "- **Relative paths** point to a file starting at the current place on the hard disk.\n"
   ]
  },
  {
   "cell_type": "markdown",
   "metadata": {
    "slideshow": {
     "slide_type": "slide"
    }
   },
   "source": [
    "# Python Path Examples\n",
    "\n",
    "<table style=\"font-size:1.0em;\">\n",
    "    <thead><tr>\n",
    "        <th>What</th>\n",
    "        <th>Windows</th>\n",
    "        <th>Mac/Linux</th>\n",
    "    </tr></thead>\n",
    "    <tbody>\n",
    "    <tr>\n",
    "        <td><code> File in current folder </code></td>\n",
    "        <td> \"file.txt\" </td>\n",
    "        <td> \"file.txt\"</td>\n",
    "    </tr>\n",
    "    <tr>\n",
    "        <td><code> File up one folder from the current folder </code></td>\n",
    "        <td> \"../file.txt\"</td>\n",
    "        <td> \"../file.txt\"</td>\n",
    "    </tr>\n",
    "    <tr>\n",
    "        <td><code> File in a folder from the current folder </code></td>\n",
    "        <td> \"folder1/file.txt\" </td>\n",
    "        <td> \"folder1/file.txt\" </td>\n",
    "    </tr>\n",
    "    <tr>\n",
    "        <td><code> Absolute path to file in a folder</code></td>\n",
    "        <td> \"C:/folder1/file.txt\" </td>\n",
    "        <td> \"/folder1/file.txt\"</td>\n",
    "    </tr>\n",
    "  </tbody>\n",
    "</table>"
   ]
  },
  {
   "cell_type": "markdown",
   "metadata": {
    "slideshow": {
     "slide_type": "slide"
    }
   },
   "source": [
    "# Check Yourself: Path\n",
    "\n",
    "### - Is this path relative or absolute?\n",
    "\n",
    "\n",
    "      \"/path/to/folder/file.txt\"\n",
    "      \n",
    "A. `Relative`  \n",
    "B. `Absolute`  \n",
    "C. `Neither`  \n",
    "D. `Not sure`  \n",
    "\n",
    "\n"
   ]
  },
  {
   "cell_type": "markdown",
   "metadata": {
    "slideshow": {
     "slide_type": "slide"
    }
   },
   "source": [
    "# Handling Errors with Try…Except\n",
    "\n",
    "- I/O is the ideal use case for exception handling.\n",
    "- Don't assume you can read a file!\n",
    "- Use try… except!\n",
    " "
   ]
  },
  {
   "cell_type": "code",
   "execution_count": null,
   "metadata": {
    "slideshow": {
     "slide_type": "fragment"
    }
   },
   "outputs": [],
   "source": [
    "try:\n",
    "    file = 'data.txt'\n",
    "    with open(file,'r') as f:\n",
    "        print( f.read() )\n",
    "except FileNotFoundError:\n",
    "    print(f\"{file} was not found!\")"
   ]
  },
  {
   "cell_type": "markdown",
   "metadata": {
    "slideshow": {
     "slide_type": "slide"
    }
   },
   "source": [
    "#  End-To-End Example (Pre-Recorded)\n",
    "\n",
    "#### How Many Calories in that Beer?\n",
    "\n",
    "Let's write a program to search a data file of 254 popular beers. Given the name of the beer the program will return the number of calories.\n",
    "\n",
    "Watch this here:\n",
    "https://youtu.be/s-1ToO0dJIs\n"
   ]
  },
  {
   "cell_type": "markdown",
   "metadata": {
    "slideshow": {
     "slide_type": "slide"
    }
   },
   "source": [
    "#  End-To-End Example\n",
    "\n",
    "#### A Better Spell Check\n",
    "\n",
    "In this example, we create a better spell checker than the one from small group.\n",
    "\n",
    "- read words from a file\n",
    "- read text to check from a file.\n"
   ]
  },
  {
   "cell_type": "markdown",
   "metadata": {
    "slideshow": {
     "slide_type": "slide"
    }
   },
   "source": [
    "# Conclusion Activity : One Question Challenge\n",
    "\n",
    "What is wrong with the following code:"
   ]
  },
  {
   "cell_type": "code",
   "execution_count": null,
   "metadata": {
    "slideshow": {
     "slide_type": "fragment"
    }
   },
   "outputs": [],
   "source": [
    "file = \"a.txt\"\n",
    "with open(file,'w'):\n",
    "    file.write(\"Hello\")"
   ]
  },
  {
   "cell_type": "markdown",
   "metadata": {
    "slideshow": {
     "slide_type": "fragment"
    }
   },
   "source": [
    "A. `No file handle`  \n",
    "B. `Cannot write - file opened for reading`  \n",
    "C. `File a.txt does not exist`  \n",
    "D. `Nothing is wrong!`  \n",
    "\n"
   ]
  }
 ],
 "metadata": {
  "celltoolbar": "Slideshow",
  "kernelspec": {
   "display_name": "Python 3 (ipykernel)",
   "language": "python",
   "name": "python3"
  },
  "language_info": {
   "codemirror_mode": {
    "name": "ipython",
    "version": 3
   },
   "file_extension": ".py",
   "mimetype": "text/x-python",
   "name": "python",
   "nbconvert_exporter": "python",
   "pygments_lexer": "ipython3",
   "version": "3.11.7"
  },
  "toc": {
   "base_numbering": 1,
   "nav_menu": {},
   "number_sections": false,
   "sideBar": false,
   "skip_h1_title": false,
   "title_cell": "Table of Contents",
   "title_sidebar": "Contents",
   "toc_cell": false,
   "toc_position": {},
   "toc_section_display": false,
   "toc_window_display": false
  },
  "varInspector": {
   "cols": {
    "lenName": 16,
    "lenType": 16,
    "lenVar": 40
   },
   "kernels_config": {
    "python": {
     "delete_cmd_postfix": "",
     "delete_cmd_prefix": "del ",
     "library": "var_list.py",
     "varRefreshCmd": "print(var_dic_list())"
    },
    "r": {
     "delete_cmd_postfix": ") ",
     "delete_cmd_prefix": "rm(",
     "library": "var_list.r",
     "varRefreshCmd": "cat(var_dic_list()) "
    }
   },
   "types_to_exclude": [
    "module",
    "function",
    "builtin_function_or_method",
    "instance",
    "_Feature"
   ],
   "window_display": false
  }
 },
 "nbformat": 4,
 "nbformat_minor": 4
}
