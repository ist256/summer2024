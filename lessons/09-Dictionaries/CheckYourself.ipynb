{
 "cells": [
  {
   "cell_type": "markdown",
   "metadata": {
    "slideshow": {
     "slide_type": "slide"
    }
   },
   "source": [
    "# IST256 Lesson 09\n",
    "## Dictionaries\n",
    "\n",
    "- P4E Ch9\n"
   ]
  },
  {
   "cell_type": "markdown",
   "metadata": {
    "slideshow": {
     "slide_type": "slide"
    }
   },
   "source": [
    "# FEQT (Future Exam Questions Training) 1\n",
    "\n",
    "What is the output of the following code? Place your answer in the chat."
   ]
  },
  {
   "cell_type": "code",
   "execution_count": 1,
   "metadata": {
    "slideshow": {
     "slide_type": "fragment"
    }
   },
   "outputs": [
    {
     "name": "stdout",
     "output_type": "stream",
     "text": [
      "[1, 3, 5, 7]\n",
      "[2, 1, 3, 5, 7]\n",
      "[2, 1, 3, 7]\n"
     ]
    }
   ],
   "source": [
    "x = [1,3,5]\n",
    "x.append(7) \n",
    "print(x)\n",
    "x.insert(0,2)\n",
    "print(x)\n",
    "x.pop(-2) \n",
    "print(x)\n",
    "\n",
    "\n",
    "\n",
    "\n",
    "\n"
   ]
  },
  {
   "cell_type": "markdown",
   "metadata": {
    "slideshow": {
     "slide_type": "slide"
    }
   },
   "source": [
    "# FEQT (Future Exam Questions Training) 2\n",
    "\n",
    "What is the output of the following code? Place your answer in the chat\n"
   ]
  },
  {
   "cell_type": "code",
   "execution_count": 4,
   "metadata": {
    "slideshow": {
     "slide_type": "fragment"
    }
   },
   "outputs": [
    {
     "name": "stdout",
     "output_type": "stream",
     "text": [
      "['5', '3', '1', '2', '30']\n",
      "['1', '2', '3', '30', '5']\n"
     ]
    }
   ],
   "source": [
    "x = ['5','3','1']\n",
    "y = ['2','30']\n",
    "z = x + y\n",
    "print (z)\n",
    "z.sort()\n",
    "print(z)\n",
    "\n",
    " \n"
   ]
  },
  {
   "cell_type": "markdown",
   "metadata": {
    "slideshow": {
     "slide_type": "slide"
    }
   },
   "source": [
    "# Agenda\n",
    "\n",
    "- Previous Homework \n",
    "\n",
    "\n",
    "- Dictionaries as key-value pairs.\n",
    "- Basic dictionary operations such as getting/setting keys and values\n",
    "- Common dictionary use cases, such as representing complex objects.\n",
    "- List of dictionary as an in-memory database of objects.\n",
    "- Using the json library to load and save dictionaries to files. \n"
   ]
  },
  {
   "cell_type": "markdown",
   "metadata": {
    "slideshow": {
     "slide_type": "slide"
    }
   },
   "source": [
    "# Connect Activity\n",
    "\n",
    "Question: A Python Dictionary is a   \n",
    "A. `Immutable Sequence Type`  \n",
    "B. `Mutable Mapping Type`  \n",
    "C. `Mutable Sequence Type`  \n",
    "D. `Immutable Mapping Type`\n",
    "  "
   ]
  },
  {
   "cell_type": "markdown",
   "metadata": {
    "slideshow": {
     "slide_type": "slide"
    }
   },
   "source": [
    "# Dictionaries\n",
    "\n",
    "- The **dict** type is designed to store key-value pairs. In Python this is known as a **mapping type**.  \n",
    "`font={'Name':'Arial','Size': 8}`\n",
    "- Python dictionaries are **mutable** which means you can change the values of the keys after they have been set.\n",
    "- Dictionary values are accessed by **key** not by **index**.  \n",
    "`font['Name'] = 'Courier'`  \n"
   ]
  },
  {
   "cell_type": "markdown",
   "metadata": {
    "slideshow": {
     "slide_type": "slide"
    }
   },
   "source": [
    "# Watch Me Code 1 \n",
    "\n",
    "### Dictionary Basics:\n",
    "- Create a dictionary\n",
    "- Update its value\n",
    "- Print it out\n",
    "- `KeyError`\n"
   ]
  },
  {
   "cell_type": "markdown",
   "metadata": {
    "slideshow": {
     "slide_type": "slide"
    }
   },
   "source": [
    "# Dictionary Methods\n",
    "\n",
    "- Like **str** and **list**, the **dict** type has its own set of built-in functions. \n",
    "- https://docs.python.org/3/library/stdtypes.html#mapping-types-dict \n",
    "- Don't forget our helper functions `dir()` and `help()`\n"
   ]
  },
  {
   "cell_type": "markdown",
   "metadata": {
    "slideshow": {
     "slide_type": "slide"
    }
   },
   "source": [
    "# Watch Me Code 2\n",
    "\n",
    "### Dictionary Methods:\n",
    "- Handling `KeyError`\n",
    "- using `get()`  to avoid `KeyError`\n",
    "- `values()`\n",
    "- `keys()`\n",
    "- delete a key with `del` \n"
   ]
  },
  {
   "cell_type": "markdown",
   "metadata": {
    "slideshow": {
     "slide_type": "slide"
    }
   },
   "source": [
    "# Check Yourself: Dictionaries 1\n",
    "\n",
    "- What is the output on line 2?\n"
   ]
  },
  {
   "cell_type": "code",
   "execution_count": 5,
   "metadata": {
    "slideshow": {
     "slide_type": "fragment"
    }
   },
   "outputs": [
    {
     "data": {
      "text/plain": [
       "2"
      ]
     },
     "execution_count": 5,
     "metadata": {},
     "output_type": "execute_result"
    }
   ],
   "source": [
    "x = { 'a' : 'b', 'b' : 2, '2' : 6}\n",
    "x['b']"
   ]
  },
  {
   "cell_type": "markdown",
   "metadata": {
    "slideshow": {
     "slide_type": "fragment"
    }
   },
   "source": [
    "A. `2`  \n",
    "B.`'2'`  \n",
    "C. `6`   \n",
    "D. `KeyError`  \n"
   ]
  },
  {
   "cell_type": "markdown",
   "metadata": {
    "slideshow": {
     "slide_type": "slide"
    }
   },
   "source": [
    "# Check Yourself: Dictionaries 2\n",
    "\n",
    "- What is the output on line 2?\n"
   ]
  },
  {
   "cell_type": "code",
   "execution_count": 7,
   "metadata": {
    "slideshow": {
     "slide_type": "fragment"
    }
   },
   "outputs": [
    {
     "ename": "KeyError",
     "evalue": "'d'",
     "output_type": "error",
     "traceback": [
      "\u001b[0;31m---------------------------------------------------------------------------\u001b[0m",
      "\u001b[0;31mKeyError\u001b[0m                                  Traceback (most recent call last)",
      "Cell \u001b[0;32mIn[7], line 3\u001b[0m\n\u001b[1;32m      1\u001b[0m x \u001b[38;5;241m=\u001b[39m { \u001b[38;5;124m'\u001b[39m\u001b[38;5;124ma\u001b[39m\u001b[38;5;124m'\u001b[39m : \u001b[38;5;124m'\u001b[39m\u001b[38;5;124mb\u001b[39m\u001b[38;5;124m'\u001b[39m, \u001b[38;5;124m'\u001b[39m\u001b[38;5;124mb\u001b[39m\u001b[38;5;124m'\u001b[39m : \u001b[38;5;241m2\u001b[39m, \u001b[38;5;124m'\u001b[39m\u001b[38;5;124m2\u001b[39m\u001b[38;5;124m'\u001b[39m : \u001b[38;5;241m6\u001b[39m}\n\u001b[1;32m      2\u001b[0m \u001b[38;5;66;03m#x.get('d', 6)\u001b[39;00m\n\u001b[0;32m----> 3\u001b[0m \u001b[43mx\u001b[49m\u001b[43m[\u001b[49m\u001b[38;5;124;43m'\u001b[39;49m\u001b[38;5;124;43md\u001b[39;49m\u001b[38;5;124;43m'\u001b[39;49m\u001b[43m]\u001b[49m \u001b[38;5;66;03m# <= KeyError\u001b[39;00m\n",
      "\u001b[0;31mKeyError\u001b[0m: 'd'"
     ]
    }
   ],
   "source": [
    "x = { 'a' : 'b', 'b' : 2, '2' : 6}\n",
    "#x.get('d', 6)\n",
    "x['d'] # <= KeyError"
   ]
  },
  {
   "cell_type": "markdown",
   "metadata": {
    "slideshow": {
     "slide_type": "fragment"
    }
   },
   "source": [
    "A. `2`  \n",
    "B.`'2'`  \n",
    "C. `6`   \n",
    "D. `KeyError`  \n"
   ]
  },
  {
   "cell_type": "markdown",
   "metadata": {
    "slideshow": {
     "slide_type": "slide"
    }
   },
   "source": [
    "# Dictionaries or Lists?\n",
    "\n",
    "When do you use a Python **list** versus a **dict**?   \n",
    "\n",
    "As a best practice:  \n",
    "\n",
    "- **Lists** are for **multiple versions** or **collections** of the **same type**.   \n",
    "Ex: Student GPA's  \n",
    "`[3.4,2.8,4.0]`\n",
    "- **Dictionaries** are for **single versions** or **records** of **different types**.  \n",
    "Ex: One Student's Name, GPA and Major    \n",
    "`{ 'Name' : 'bob', 'GPA' : 3.4 }`\n"
   ]
  },
  {
   "cell_type": "markdown",
   "metadata": {
    "slideshow": {
     "slide_type": "slide"
    }
   },
   "source": [
    "# Python's List of Dictionary\n",
    "\n",
    "#### For representing complex data structures…\n",
    "\n"
   ]
  },
  {
   "cell_type": "code",
   "execution_count": null,
   "metadata": {
    "slideshow": {
     "slide_type": "fragment"
    }
   },
   "outputs": [],
   "source": [
    "students = [     \n",
    "    { 'Name':'bob','GPA':3.4 },   \n",
    "    { 'Name':'sue','GPA':2.8 },  \n",
    "    { 'Name':'kent','GPA':4.0 }  \n",
    "]\n",
    "\n",
    "#chaining\n",
    "students[0]['Name']"
   ]
  },
  {
   "cell_type": "markdown",
   "metadata": {
    "slideshow": {
     "slide_type": "slide"
    }
   },
   "source": [
    "# Watch Me Code 3 \n",
    "\n",
    "### List of Dictionary:\n",
    "\n",
    "- Using `type()` \n",
    "- chaining methods / operators to access values of complex types\n",
    "- `KeyError` versus `IndexError`\n"
   ]
  },
  {
   "cell_type": "markdown",
   "metadata": {
    "slideshow": {
     "slide_type": "slide"
    }
   },
   "source": [
    "# Check Yourself: List of Dict 1\n",
    "\n",
    "Given the following Python code, match the Python Expression to it's answer:   \n",
    "`s[0]['c']`\n"
   ]
  },
  {
   "cell_type": "code",
   "execution_count": null,
   "metadata": {
    "slideshow": {
     "slide_type": "fragment"
    }
   },
   "outputs": [],
   "source": [
    "s = [ { 'a':'bob','b':3.4 },   \n",
    "      { 'a':'sue','b':2.8 },  \n",
    "      { 'a':'kent','b':4.0 } ]\n",
    "\n",
    "s[0]['c']"
   ]
  },
  {
   "cell_type": "markdown",
   "metadata": {
    "slideshow": {
     "slide_type": "fragment"
    }
   },
   "source": [
    "A. `3.4`  \n",
    "B. `KeyError`  \n",
    "C. `IndexError`  \n",
    "D. `'sue'  \n"
   ]
  },
  {
   "cell_type": "markdown",
   "metadata": {
    "slideshow": {
     "slide_type": "slide"
    }
   },
   "source": [
    "# Check Yourself: List of Dict 2\n",
    "\n",
    "Given the following Python code, match the Python Expression to it's answer\n",
    "\n",
    "`s[3]['a']`"
   ]
  },
  {
   "cell_type": "code",
   "execution_count": null,
   "metadata": {
    "slideshow": {
     "slide_type": "fragment"
    }
   },
   "outputs": [],
   "source": [
    "s = [ { 'a':'bob','b':3.4 },   \n",
    "      { 'a':'sue','b':2.8 },  \n",
    "      { 'a':'kent','b':4.0 } ]\n",
    "\n",
    "s[0]['b']"
   ]
  },
  {
   "cell_type": "markdown",
   "metadata": {
    "slideshow": {
     "slide_type": "fragment"
    }
   },
   "source": [
    "A. `3.4`  \n",
    "B. `KeyError`  \n",
    "C. `IndexError`  \n",
    "D. `'sue'  \n"
   ]
  },
  {
   "cell_type": "markdown",
   "metadata": {
    "slideshow": {
     "slide_type": "slide"
    }
   },
   "source": [
    "# JSON and Python Dictionaries\n",
    "\n",
    "- JSON (**JavaScript Object Notation**) is a standard, human-readable  data format. It's a popular format for data on the web.\n",
    "- JSON Can be easily converted to lists of dictionaries using Python's **json** module.\n",
    "- Transferring a JSON string to Python is known as **de-serializing**. \n",
    "- Transferring Python to a JSON string is known as **serializing**. \n",
    "- **<font color='red'>This is easy to do in Python but challenging to do in most other languages.</font>**\n"
   ]
  },
  {
   "cell_type": "markdown",
   "metadata": {
    "slideshow": {
     "slide_type": "slide"
    }
   },
   "source": [
    "# Watch Me Code 4 \n",
    "\n",
    "- Let's look at JSON Data \n",
    "- `import json`\n",
    "- Decode JSON Data\n",
    "- Load into List of Dictionary\n",
    "- Access data to obtain output\n"
   ]
  },
  {
   "cell_type": "markdown",
   "metadata": {
    "slideshow": {
     "slide_type": "slide"
    }
   },
   "source": [
    "# End-To-End Example\n",
    "\n",
    "### European Country Locator\n",
    "- Load JSON data for Countries in Europe\n",
    "- Input a country\n",
    "- Output \n",
    "    - Region (Southern Europe)\n",
    "    - Neighboring Countries"
   ]
  },
  {
   "cell_type": "markdown",
   "metadata": {
    "slideshow": {
     "slide_type": "slide"
    }
   },
   "source": [
    "# Conclusion Activity : Exit Ticket\n",
    "\n",
    "Assuming `z` is a list, `z['mike']` is a:\n",
    "\n",
    "A. `KeyError`  \n",
    "B. `IndexError`  \n",
    "C. `TypeError`\n"
   ]
  }
 ],
 "metadata": {
  "celltoolbar": "Slideshow",
  "kernelspec": {
   "display_name": "Python 3 (ipykernel)",
   "language": "python",
   "name": "python3"
  },
  "language_info": {
   "codemirror_mode": {
    "name": "ipython",
    "version": 3
   },
   "file_extension": ".py",
   "mimetype": "text/x-python",
   "name": "python",
   "nbconvert_exporter": "python",
   "pygments_lexer": "ipython3",
   "version": "3.11.7"
  },
  "toc": {
   "base_numbering": 1,
   "nav_menu": {},
   "number_sections": false,
   "sideBar": false,
   "skip_h1_title": false,
   "title_cell": "Table of Contents",
   "title_sidebar": "Contents",
   "toc_cell": false,
   "toc_position": {},
   "toc_section_display": false,
   "toc_window_display": false
  },
  "varInspector": {
   "cols": {
    "lenName": 16,
    "lenType": 16,
    "lenVar": 40
   },
   "kernels_config": {
    "python": {
     "delete_cmd_postfix": "",
     "delete_cmd_prefix": "del ",
     "library": "var_list.py",
     "varRefreshCmd": "print(var_dic_list())"
    },
    "r": {
     "delete_cmd_postfix": ") ",
     "delete_cmd_prefix": "rm(",
     "library": "var_list.r",
     "varRefreshCmd": "cat(var_dic_list()) "
    }
   },
   "types_to_exclude": [
    "module",
    "function",
    "builtin_function_or_method",
    "instance",
    "_Feature"
   ],
   "window_display": false
  }
 },
 "nbformat": 4,
 "nbformat_minor": 4
}
