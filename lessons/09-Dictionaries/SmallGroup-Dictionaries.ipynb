{
 "cells": [
  {
   "cell_type": "markdown",
   "metadata": {},
   "source": [
    "# Now You Code In Class : IST256 YouTube Video Explorer\n",
    "\n",
    "In this small group we will write a UI to search YouTube videos associated with this course. Normally we would read this information directly from YouTube in the form of an API (Application Program Interface), but since we have not learned that yet, we will read a JSON file which represents the output from the API itself. \n",
    "\n",
    "- We will start by writing code to deserialize json to a Python object. \n",
    "- Then we will learn how to explore the object loaded into Python as we work to create the final program.\n",
    "- After some exploration, we will write the program.\n"
   ]
  },
  {
   "cell_type": "code",
   "execution_count": 17,
   "metadata": {
    "tags": []
   },
   "outputs": [
    {
     "name": "stdout",
     "output_type": "stream",
     "text": [
      "For file mike.json expect=mike, actual=mike\n",
      "For file usinfo.json expect=Washington, D.C., actual=Washington, D.C.\n"
     ]
    }
   ],
   "source": [
    "# Read Any JSON file:\n",
    "def deserialize_json(jsonfile: str) -> any:\n",
    "    import json\n",
    "    with open(jsonfile, \"r\") as f:\n",
    "        data = json.load(f)\n",
    "        return data\n",
    "\n",
    "\n",
    "#PROMPT Test mike.json\n",
    "file = \"mike.json\"\n",
    "expect_name = \"mike\"\n",
    "actual = deserialize_json(file)\n",
    "print(f\"For file {file} expect={expect_name}, actual={actual['name']}\")\n",
    "assert expect_name == actual['name']\n",
    "\n",
    "#PROMPT Test usinfo.json\n",
    "file = \"usinfo.json\"\n",
    "expect_first_capital = \"Washington, D.C.\"\n",
    "actual = deserialize_json(file)\n",
    "print(f\"For file {file} expect={expect_first_capital}, actual={actual[0]['capital']}\")\n",
    "assert expect_first_capital == actual[0]['capital']"
   ]
  },
  {
   "cell_type": "code",
   "execution_count": 7,
   "metadata": {
    "tags": []
   },
   "outputs": [
    {
     "data": {
      "text/plain": [
       "'UTC+12:00'"
      ]
     },
     "execution_count": 7,
     "metadata": {},
     "output_type": "execute_result"
    }
   ],
   "source": [
    "actual[0]['timezones'][-1]"
   ]
  },
  {
   "cell_type": "code",
   "execution_count": 11,
   "metadata": {
    "tags": []
   },
   "outputs": [],
   "source": [
    "x = [\n",
    "    { \"a\": 1, \"b\": [2,4,6] },\n",
    "    { \"a\": 2, \"b\": [3,7,9] }\n",
    "]"
   ]
  },
  {
   "cell_type": "code",
   "execution_count": 15,
   "metadata": {
    "tags": []
   },
   "outputs": [
    {
     "name": "stdout",
     "output_type": "stream",
     "text": [
      "12\n"
     ]
    }
   ],
   "source": [
    "j = 0\n",
    "for i in x[0]['b']:\n",
    "    j = j + i\n",
    "print(j)\n",
    "  j\n",
    "# 2\n",
    "# 6\n",
    "# 12"
   ]
  },
  {
   "cell_type": "code",
   "execution_count": 16,
   "metadata": {
    "tags": []
   },
   "outputs": [
    {
     "ename": "IndexError",
     "evalue": "list index out of range",
     "output_type": "error",
     "traceback": [
      "\u001b[0;31m---------------------------------------------------------------------------\u001b[0m",
      "\u001b[0;31mIndexError\u001b[0m                                Traceback (most recent call last)",
      "Cell \u001b[0;32mIn[16], line 1\u001b[0m\n\u001b[0;32m----> 1\u001b[0m \u001b[43mx\u001b[49m\u001b[43m[\u001b[49m\u001b[38;5;241;43m0\u001b[39;49m\u001b[43m]\u001b[49m\u001b[43m[\u001b[49m\u001b[38;5;124;43m\"\u001b[39;49m\u001b[38;5;124;43mb\u001b[39;49m\u001b[38;5;124;43m\"\u001b[39;49m\u001b[43m]\u001b[49m\u001b[43m[\u001b[49m\u001b[38;5;241;43m4\u001b[39;49m\u001b[43m]\u001b[49m \u001b[38;5;66;03m# error\u001b[39;00m\n",
      "\u001b[0;31mIndexError\u001b[0m: list index out of range"
     ]
    }
   ],
   "source": [
    "x[0][\"b\"][4] # error"
   ]
  },
  {
   "cell_type": "code",
   "execution_count": 13,
   "metadata": {
    "tags": []
   },
   "outputs": [
    {
     "ename": "TypeError",
     "evalue": "list indices must be integers or slices, not str",
     "output_type": "error",
     "traceback": [
      "\u001b[0;31m---------------------------------------------------------------------------\u001b[0m",
      "\u001b[0;31mTypeError\u001b[0m                                 Traceback (most recent call last)",
      "Cell \u001b[0;32mIn[13], line 1\u001b[0m\n\u001b[0;32m----> 1\u001b[0m \u001b[43mx\u001b[49m\u001b[43m[\u001b[49m\u001b[38;5;124;43m\"\u001b[39;49m\u001b[38;5;124;43ma\u001b[39;49m\u001b[38;5;124;43m\"\u001b[39;49m\u001b[43m]\u001b[49m\n",
      "\u001b[0;31mTypeError\u001b[0m: list indices must be integers or slices, not str"
     ]
    }
   ],
   "source": [
    "x[\"a\"] # error"
   ]
  },
  {
   "cell_type": "code",
   "execution_count": 12,
   "metadata": {
    "tags": []
   },
   "outputs": [
    {
     "data": {
      "text/plain": [
       "6"
      ]
     },
     "execution_count": 12,
     "metadata": {},
     "output_type": "execute_result"
    }
   ],
   "source": [
    "x[0][\"b\"][-1]"
   ]
  },
  {
   "cell_type": "code",
   "execution_count": 10,
   "metadata": {
    "tags": []
   },
   "outputs": [
    {
     "data": {
      "text/plain": [
       "2"
      ]
     },
     "execution_count": 10,
     "metadata": {},
     "output_type": "execute_result"
    }
   ],
   "source": [
    "x[1][\"a\"]"
   ]
  },
  {
   "cell_type": "markdown",
   "metadata": {},
   "source": [
    "## Code Challenges\n",
    "\n",
    "You will be given a minute or two to complete each of these code challenges. The code for each challenge is short and in many cases solving the previous challenge will help with the next one. We will go over each challenge one at a time."
   ]
  },
  {
   "cell_type": "markdown",
   "metadata": {
    "tags": []
   },
   "source": [
    "#### Challenge 1\n",
    "\n",
    "Deserialize the `ist256-youtube-playlist.json` file into the variable `playlist`"
   ]
  },
  {
   "cell_type": "code",
   "execution_count": 19,
   "metadata": {
    "tags": []
   },
   "outputs": [
    {
     "data": {
      "text/plain": [
       "{'kind': 'youtube#playlistItem',\n",
       " 'etag': '5aho-lNBnleu5BqOWvK_X7q6e2s',\n",
       " 'id': 'UEx5UmlSVXNUeVVYZ204NHRVWndLRUh0NGt4QXUyMDJWYi4yODlGNEE0NkRGMEEzMEQy',\n",
       " 'snippet': {'publishedAt': '2021-02-05T02:16:44Z',\n",
       "  'channelId': 'UCqpc8sbuW9-FWglYJic9-aA',\n",
       "  'title': 'IST256 Learn Python Lab 01 Walk Through',\n",
       "  'description': 'This video walks the learner through the You Code sections of Lab 01.\\n\\nTable of Contents: \\r\\n\\r\\n00:00 - Introduction\\r\\n00:14 - Lab 01 You Code 1.1\\r\\n03:08 - Lab 01 You Code 1.2\\r\\n06:16 - Lab 01 You Code 1.3\\r\\n09:03 - Lab 01 You Code 1.4\\r\\n14:24 - Lab 01 You Code 1.5\\n\\nIf you are an IST256 student, you can find your lab in JupyterHub. If you are learning on your own you can find the code for this course at https://github.com/IST256/learn-python',\n",
       "  'thumbnails': {'default': {'url': 'https://i.ytimg.com/vi/jUXoz-rKWEQ/default.jpg',\n",
       "    'width': 120,\n",
       "    'height': 90},\n",
       "   'medium': {'url': 'https://i.ytimg.com/vi/jUXoz-rKWEQ/mqdefault.jpg',\n",
       "    'width': 320,\n",
       "    'height': 180},\n",
       "   'high': {'url': 'https://i.ytimg.com/vi/jUXoz-rKWEQ/hqdefault.jpg',\n",
       "    'width': 480,\n",
       "    'height': 360},\n",
       "   'standard': {'url': 'https://i.ytimg.com/vi/jUXoz-rKWEQ/sddefault.jpg',\n",
       "    'width': 640,\n",
       "    'height': 480},\n",
       "   'maxres': {'url': 'https://i.ytimg.com/vi/jUXoz-rKWEQ/maxresdefault.jpg',\n",
       "    'width': 1280,\n",
       "    'height': 720}},\n",
       "  'channelTitle': 'Michael Fudge',\n",
       "  'playlistId': 'PLyRiRUsTyUXgm84tUZwKEHt4kxAu202Vb',\n",
       "  'position': 0,\n",
       "  'resourceId': {'kind': 'youtube#video', 'videoId': 'jUXoz-rKWEQ'},\n",
       "  'videoOwnerChannelTitle': 'Michael Fudge',\n",
       "  'videoOwnerChannelId': 'UCqpc8sbuW9-FWglYJic9-aA'},\n",
       " 'contentDetails': {'videoId': 'jUXoz-rKWEQ',\n",
       "  'videoPublishedAt': '2022-09-27T11:52:06Z'},\n",
       " 'status': {'privacyStatus': 'public'}}"
      ]
     },
     "execution_count": 19,
     "metadata": {},
     "output_type": "execute_result"
    }
   ],
   "source": [
    "playlist = deserialize_json(\"ist256-youtube-playlist.json\")\n",
    "playlist[0]"
   ]
  },
  {
   "cell_type": "markdown",
   "metadata": {
    "tags": []
   },
   "source": [
    "#### Challenge 2\n",
    "\n",
    "write code to display the data type of `playlist`? Is it list or dict?"
   ]
  },
  {
   "cell_type": "code",
   "execution_count": 20,
   "metadata": {
    "tags": []
   },
   "outputs": [
    {
     "data": {
      "text/plain": [
       "list"
      ]
     },
     "execution_count": 20,
     "metadata": {},
     "output_type": "execute_result"
    }
   ],
   "source": [
    "type(playlist)"
   ]
  },
  {
   "cell_type": "markdown",
   "metadata": {
    "tags": []
   },
   "source": [
    "#### Challenge 3\n",
    "\n",
    "write code to get the data from the first video in `playlist` store the variable `firstvid` and show it to the console. Is it a list or dict?"
   ]
  },
  {
   "cell_type": "code",
   "execution_count": 22,
   "metadata": {
    "tags": []
   },
   "outputs": [
    {
     "data": {
      "text/plain": [
       "{'kind': 'youtube#playlistItem',\n",
       " 'etag': '5aho-lNBnleu5BqOWvK_X7q6e2s',\n",
       " 'id': 'UEx5UmlSVXNUeVVYZ204NHRVWndLRUh0NGt4QXUyMDJWYi4yODlGNEE0NkRGMEEzMEQy',\n",
       " 'snippet': {'publishedAt': '2021-02-05T02:16:44Z',\n",
       "  'channelId': 'UCqpc8sbuW9-FWglYJic9-aA',\n",
       "  'title': 'IST256 Learn Python Lab 01 Walk Through',\n",
       "  'description': 'This video walks the learner through the You Code sections of Lab 01.\\n\\nTable of Contents: \\r\\n\\r\\n00:00 - Introduction\\r\\n00:14 - Lab 01 You Code 1.1\\r\\n03:08 - Lab 01 You Code 1.2\\r\\n06:16 - Lab 01 You Code 1.3\\r\\n09:03 - Lab 01 You Code 1.4\\r\\n14:24 - Lab 01 You Code 1.5\\n\\nIf you are an IST256 student, you can find your lab in JupyterHub. If you are learning on your own you can find the code for this course at https://github.com/IST256/learn-python',\n",
       "  'thumbnails': {'default': {'url': 'https://i.ytimg.com/vi/jUXoz-rKWEQ/default.jpg',\n",
       "    'width': 120,\n",
       "    'height': 90},\n",
       "   'medium': {'url': 'https://i.ytimg.com/vi/jUXoz-rKWEQ/mqdefault.jpg',\n",
       "    'width': 320,\n",
       "    'height': 180},\n",
       "   'high': {'url': 'https://i.ytimg.com/vi/jUXoz-rKWEQ/hqdefault.jpg',\n",
       "    'width': 480,\n",
       "    'height': 360},\n",
       "   'standard': {'url': 'https://i.ytimg.com/vi/jUXoz-rKWEQ/sddefault.jpg',\n",
       "    'width': 640,\n",
       "    'height': 480},\n",
       "   'maxres': {'url': 'https://i.ytimg.com/vi/jUXoz-rKWEQ/maxresdefault.jpg',\n",
       "    'width': 1280,\n",
       "    'height': 720}},\n",
       "  'channelTitle': 'Michael Fudge',\n",
       "  'playlistId': 'PLyRiRUsTyUXgm84tUZwKEHt4kxAu202Vb',\n",
       "  'position': 0,\n",
       "  'resourceId': {'kind': 'youtube#video', 'videoId': 'jUXoz-rKWEQ'},\n",
       "  'videoOwnerChannelTitle': 'Michael Fudge',\n",
       "  'videoOwnerChannelId': 'UCqpc8sbuW9-FWglYJic9-aA'},\n",
       " 'contentDetails': {'videoId': 'jUXoz-rKWEQ',\n",
       "  'videoPublishedAt': '2022-09-27T11:52:06Z'},\n",
       " 'status': {'privacyStatus': 'public'}}"
      ]
     },
     "execution_count": 22,
     "metadata": {},
     "output_type": "execute_result"
    }
   ],
   "source": [
    "firstvid = playlist[0]\n",
    "firstvid"
   ]
  },
  {
   "cell_type": "markdown",
   "metadata": {
    "tags": []
   },
   "source": [
    "#### Challenge 4\n",
    "\n",
    "Write code to retrieve the title of the 4th video. You don't need to store it in a variable. The title should be `'IST256 Learn Python Homework HW 02 Advice'`"
   ]
  },
  {
   "cell_type": "code",
   "execution_count": 25,
   "metadata": {
    "tags": []
   },
   "outputs": [
    {
     "data": {
      "text/plain": [
       "'IST256 Learn Python Lab 03 Walk Through'"
      ]
     },
     "execution_count": 25,
     "metadata": {},
     "output_type": "execute_result"
    }
   ],
   "source": [
    "playlist[4]['snippet']['title']"
   ]
  },
  {
   "cell_type": "markdown",
   "metadata": {
    "tags": []
   },
   "source": [
    "#### Challenge 5\n",
    "\n",
    "Write a loop to print all the video titles in the playlist. Leverage the power of the iterator!!!!"
   ]
  },
  {
   "cell_type": "code",
   "execution_count": 26,
   "metadata": {
    "tags": []
   },
   "outputs": [
    {
     "name": "stdout",
     "output_type": "stream",
     "text": [
      "IST256 Learn Python Lab 01 Walk Through\n",
      "IST256 Learn Python Homework HW 01 Advice\n",
      "IST256 Learn Python Lab 02 Walk Through\n",
      "IST256 Learn Python Homework HW 02 Advice\n",
      "IST256 Learn Python Lab 03 Walk Through\n",
      "IST256 Learn Python Homework HW 03 Advice\n",
      "IST256 Learn Python Lab 04 Walk Through\n",
      "IST256 Learn Python Homework HW 04 Advice\n",
      "IST256 Learn Python Lab 05 Walk Through\n",
      "IST256 Learn Python Homework HW 05 Advice\n",
      "IST256 Learn Python Lab 06 Walk Through\n",
      "IST256 Learn Python Homework HW 06 Advice\n",
      "IST256 Learn Python Lab 07 Walk Through\n",
      "IST256 Learn Python Homework HW 07 Advice\n",
      "IST256 Learn Python Lab 08 Walk Through\n",
      "IST256 Learn Python Homework HW 08 Advice\n",
      "IST256 Learn Python Lab 09 Walk Through\n",
      "IST256 Learn Python Homework HW 09 Advice\n",
      "IST256 Learn Python Lab 10 Walk Through\n",
      "IST256 Learn Python Homework HW 10 Advice\n",
      "IST256 Learn Python Lab 11 Walk Through\n",
      "IST256 Learn Python Homework HW 11 Advice\n",
      "IST256 Learn Python Lab 12 Walk Through\n",
      "IST256 Learn Python Homework HW 12 Advice\n",
      "IST256 Learn Python Lab 13 Walk Through\n",
      "IST256 Learn Python Homework HW 13 Advice\n",
      "Quick introduction to Jupyter Notebook\n"
     ]
    }
   ],
   "source": [
    "for video in playlist:\n",
    "    print(video['snippet']['title'])"
   ]
  },
  {
   "cell_type": "markdown",
   "metadata": {
    "tags": []
   },
   "source": [
    "#### Challenge 6\n",
    "\n",
    "Write a loop to print ONLY the `\"Homework\"` Titles in the playlist"
   ]
  },
  {
   "cell_type": "code",
   "execution_count": 28,
   "metadata": {
    "tags": []
   },
   "outputs": [
    {
     "name": "stdout",
     "output_type": "stream",
     "text": [
      "IST256 Learn Python Homework HW 01 Advice\n",
      "IST256 Learn Python Homework HW 02 Advice\n",
      "IST256 Learn Python Homework HW 03 Advice\n",
      "IST256 Learn Python Homework HW 04 Advice\n",
      "IST256 Learn Python Homework HW 05 Advice\n",
      "IST256 Learn Python Homework HW 06 Advice\n",
      "IST256 Learn Python Homework HW 07 Advice\n",
      "IST256 Learn Python Homework HW 08 Advice\n",
      "IST256 Learn Python Homework HW 09 Advice\n",
      "IST256 Learn Python Homework HW 10 Advice\n",
      "IST256 Learn Python Homework HW 11 Advice\n",
      "IST256 Learn Python Homework HW 12 Advice\n",
      "IST256 Learn Python Homework HW 13 Advice\n"
     ]
    }
   ],
   "source": [
    "for video in playlist:\n",
    "    title = video['snippet']['title']\n",
    "    if \"Homework\" in title:\n",
    "        print(title)"
   ]
  },
  {
   "cell_type": "code",
   "execution_count": 32,
   "metadata": {
    "tags": []
   },
   "outputs": [
    {
     "data": {
      "text/plain": [
       "True"
      ]
     },
     "execution_count": 32,
     "metadata": {},
     "output_type": "execute_result"
    }
   ],
   "source": [
    "\"Homework\" in \"Nobody's Homeworkisdone\""
   ]
  },
  {
   "cell_type": "markdown",
   "metadata": {
    "tags": []
   },
   "source": [
    "#### Challenge 7\n",
    "\n",
    "For the following title `\"IST256 Learn Python Homework HW 13 Advice\"` extract out the unit number: \"13\"  \n",
    "likewise for a lab `\"IST256 Learn Python Lab 04 Walk Through\"` extract out number \"04\""
   ]
  },
  {
   "cell_type": "code",
   "execution_count": 38,
   "metadata": {
    "tags": []
   },
   "outputs": [
    {
     "name": "stdout",
     "output_type": "stream",
     "text": [
      "IST256 Learn Python Homework HW 13 Advice == 13\n",
      "IST256 Learn Python Lab 04 Walk Through == 04\n"
     ]
    }
   ],
   "source": [
    "def extract_unit_number(title):\n",
    "    for work in title.split():\n",
    "        if work.isdigit():\n",
    "            return work\n",
    "    return \"Not Found\"\n",
    "\n",
    "title = \"IST256 Learn Python Homework HW 13 Advice\"\n",
    "unit_number = extract_unit_number(title)\n",
    "print(title,\"==\", unit_number)\n",
    "\n",
    "title = \"IST256 Learn Python Lab 04 Walk Through\"\n",
    "unit_number = extract_unit_number(title)\n",
    "print(title, \"==\", unit_number)"
   ]
  },
  {
   "cell_type": "markdown",
   "metadata": {
    "tags": []
   },
   "source": [
    "#### Challenge 8\n",
    "\n",
    "For any video at index `i`, get the description of the video."
   ]
  },
  {
   "cell_type": "code",
   "execution_count": 41,
   "metadata": {
    "tags": []
   },
   "outputs": [
    {
     "name": "stdout",
     "output_type": "stream",
     "text": [
      "This video provides hints, tips and tricks for completing the lesson 04 homework assignment on iterations.\n",
      "\n",
      "If you are an IST256 student, you can find your lab in JupyterHub. If you are learning on your own you can find the code for this course at https://github.com/IST256/learn-python\n"
     ]
    }
   ],
   "source": [
    "i = 7\n",
    "description = playlist[i]['snippet']['description']\n",
    "print(description)"
   ]
  },
  {
   "cell_type": "markdown",
   "metadata": {
    "tags": []
   },
   "source": [
    "#### Challenge 9\n",
    "\n",
    "For any video at index `i`, get get the url of the medium-sized thumbnail."
   ]
  },
  {
   "cell_type": "code",
   "execution_count": 46,
   "metadata": {
    "tags": []
   },
   "outputs": [
    {
     "name": "stdout",
     "output_type": "stream",
     "text": [
      "https://i.ytimg.com/vi/dTasdLouiak/mqdefault.jpg\n"
     ]
    }
   ],
   "source": [
    "i = 7\n",
    "thumb = playlist[i]['snippet']['thumbnails']['medium']['url']\n",
    "print(thumb)"
   ]
  },
  {
   "cell_type": "markdown",
   "metadata": {
    "tags": []
   },
   "source": [
    "#### Challenge 10\n",
    "\n",
    "Use Ipython display and Image to display the url as an image"
   ]
  },
  {
   "cell_type": "code",
   "execution_count": 47,
   "metadata": {
    "tags": []
   },
   "outputs": [
    {
     "data": {
      "text/html": [
       "<img src=\"https://i.ytimg.com/vi/dTasdLouiak/mqdefault.jpg\"/>"
      ],
      "text/plain": [
       "<IPython.core.display.Image object>"
      ]
     },
     "metadata": {},
     "output_type": "display_data"
    }
   ],
   "source": [
    "from IPython.display import display, Image, YouTubeVideo\n",
    "display(Image(url=thumb))"
   ]
  },
  {
   "cell_type": "markdown",
   "metadata": {
    "tags": []
   },
   "source": [
    "#### Challenge 11\n",
    "\n",
    "Going back to the `firstvid` variable. Extract out the YouTube video Id. In this case, it should be:  `'jUXoz-rKWEQ'`"
   ]
  },
  {
   "cell_type": "code",
   "execution_count": 50,
   "metadata": {
    "tags": []
   },
   "outputs": [
    {
     "name": "stdout",
     "output_type": "stream",
     "text": [
      "dTasdLouiak\n"
     ]
    }
   ],
   "source": [
    "video_id = playlist[i]['contentDetails']['videoId']\n",
    "print(video_id)"
   ]
  },
  {
   "cell_type": "markdown",
   "metadata": {
    "tags": []
   },
   "source": [
    "#### Challenge 12\n",
    "\n",
    "\n",
    "Use Ipython display, YouTubeVideo to show the video!"
   ]
  },
  {
   "cell_type": "code",
   "execution_count": 52,
   "metadata": {
    "tags": []
   },
   "outputs": [
    {
     "data": {
      "image/jpeg": "[encoded data removed]",
      "text/html": [
       "\n",
       "        <iframe\n",
       "            width=\"400\"\n",
       "            height=\"300\"\n",
       "            src=\"https://www.youtube.com/embed/dTasdLouiak\"\n",
       "            frameborder=\"0\"\n",
       "            allowfullscreen\n",
       "            \n",
       "        ></iframe>\n",
       "        "
      ],
      "text/plain": [
       "<IPython.lib.display.YouTubeVideo at 0x7faca54b1450>"
      ]
     },
     "metadata": {},
     "output_type": "display_data"
    }
   ],
   "source": [
    "display(YouTubeVideo(video_id))"
   ]
  },
  {
   "cell_type": "markdown",
   "metadata": {},
   "source": [
    "#### Challenge 13\n",
    "\n",
    "Deserialize the `ist256-exams.json` file into the variable `exams`. What is the type?"
   ]
  },
  {
   "cell_type": "code",
   "execution_count": null,
   "metadata": {
    "tags": []
   },
   "outputs": [],
   "source": []
  },
  {
   "cell_type": "markdown",
   "metadata": {},
   "source": [
    "#### Challenge 14\n",
    "\n",
    "Write code to display the units covered in Exam 2 (E2)."
   ]
  },
  {
   "cell_type": "code",
   "execution_count": null,
   "metadata": {
    "tags": []
   },
   "outputs": [],
   "source": []
  },
  {
   "cell_type": "markdown",
   "metadata": {},
   "source": [
    "#### Challenge 15\n",
    "\n",
    "Start by Copying your solution from Challenge 6. Using The snippet from Challenge 7 and the `exams` variable only display homework video titles for units covered in Exam 2."
   ]
  },
  {
   "cell_type": "code",
   "execution_count": null,
   "metadata": {
    "tags": []
   },
   "outputs": [],
   "source": []
  },
  {
   "cell_type": "markdown",
   "metadata": {},
   "source": [
    "#### Challenge 16\n",
    "\n",
    "Modify your previous challenge to display the title AND the youtube video Id, as you did in challenge 12."
   ]
  },
  {
   "cell_type": "code",
   "execution_count": null,
   "metadata": {
    "tags": []
   },
   "outputs": [],
   "source": []
  },
  {
   "cell_type": "markdown",
   "metadata": {},
   "source": [
    "#### Challenge 17\n",
    "\n",
    "Write an IPython interact with the following input widgets:\n",
    "\n",
    "- dropdown selecting \"Lab\" or \"Homework\"\n",
    "- dropdown of exams keys() + the option \"All Exams\"\n",
    "\n",
    "in the `onclick` just output the values of the widgets"
   ]
  },
  {
   "cell_type": "code",
   "execution_count": null,
   "metadata": {
    "tags": []
   },
   "outputs": [],
   "source": [
    "from IPython.display import display, HTML,Image, YouTubeVideo\n",
    "from ipywidgets import interact_manual\n"
   ]
  },
  {
   "cell_type": "markdown",
   "metadata": {},
   "source": [
    "## You Made it Through the Challenges!\n",
    "\n",
    "You are now ready to write the program but putting it all together.\n",
    "\n",
    "INPUTS:\n",
    "    \n",
    " - deserialize `ist256-exams.json`\n",
    " - deserialize `ist256-youtube-playlist.json`\n",
    " - select video type (Homework or Lab)\n",
    " - select exam coverage (E1, E2, etc... or All Exams)\n",
    " \n",
    "OUTPUTS (For matching videos):\n",
    "\n",
    " - Show the title of the video\n",
    " - Show the video itself (so it can be played with the widget)\n",
    " \n",
    " \n",
    "PROCESS / ALGORITHM (onclick)\n",
    "\n",
    "    Pretty much challenge 16 but with variables\n",
    "    \n",
    "    for video in playlist:\n",
    "        if the title matches the video type (e.g. \"Homework\" or \"Lab\") \n",
    "            extract out the unit number (e.g. \"05\" or \"13\"\n",
    "            if exam equals \"All Exams\"\n",
    "                display video title\n",
    "                display video on YouTube\n",
    "            else if unit is in the list of exam units\n",
    "                display video title\n",
    "                display video on YouTube\n"
   ]
  },
  {
   "cell_type": "code",
   "execution_count": 64,
   "metadata": {
    "tags": []
   },
   "outputs": [
    {
     "data": {
      "application/vnd.jupyter.widget-view+json": {
       "model_id": "19d37fa644ba4a1490865a8c047c702c",
       "version_major": 2,
       "version_minor": 0
      },
      "text/plain": [
       "interactive(children=(Dropdown(description='video_type', options=('Homework', 'Lab'), value='Homework'), Dropd…"
      ]
     },
     "metadata": {},
     "output_type": "display_data"
    }
   ],
   "source": [
    "# FINAL CODE\n",
    "from IPython.display import display, HTML, YouTubeVideo\n",
    "from ipywidgets import interact_manual\n",
    "\n",
    "# inputs\n",
    "playlist = deserialize_json(\"ist256-youtube-playlist.json\")\n",
    "video_types = [\"Homework\", \"Lab\"]\n",
    "units = []\n",
    "for video in playlist:\n",
    "    title = video['snippet']['title']\n",
    "    unit = extract_unit_number(title)\n",
    "    if unit not in units and unit != \"Not Found\":\n",
    "        units.append(unit)\n",
    "units.sort()\n",
    "@interact_manual(video_type=video_types, unit=units)\n",
    "def on_click(video_type, unit):\n",
    "    for video in playlist:\n",
    "        title = video['snippet']['title']\n",
    "        if video_type in title and unit in title:\n",
    "            display(HTML(f\"<h3>{title}<h3>\"))\n",
    "            video_id = video['contentDetails']['videoId']\n",
    "            display(YouTubeVideo(video_id))\n",
    "\n"
   ]
  },
  {
   "cell_type": "code",
   "execution_count": null,
   "metadata": {},
   "outputs": [],
   "source": []
  },
  {
   "cell_type": "code",
   "execution_count": null,
   "metadata": {
    "tags": []
   },
   "outputs": [],
   "source": [
    "from casstools.assignment import Assignment\n",
    "Assignment().submit()"
   ]
  }
 ],
 "metadata": {
  "anaconda-cloud": {},
  "kernelspec": {
   "display_name": "Python 3 (ipykernel)",
   "language": "python",
   "name": "python3"
  },
  "language_info": {
   "codemirror_mode": {
    "name": "ipython",
    "version": 3
   },
   "file_extension": ".py",
   "mimetype": "text/x-python",
   "name": "python",
   "nbconvert_exporter": "python",
   "pygments_lexer": "ipython3",
   "version": "3.11.7"
  },
  "toc": {
   "base_numbering": 1,
   "nav_menu": {},
   "number_sections": false,
   "sideBar": false,
   "skip_h1_title": false,
   "title_cell": "Table of Contents",
   "title_sidebar": "Contents",
   "toc_cell": false,
   "toc_position": {},
   "toc_section_display": false,
   "toc_window_display": false
  },
  "varInspector": {
   "cols": {
    "lenName": 16,
    "lenType": 16,
    "lenVar": 40
   },
   "kernels_config": {
    "python": {
     "delete_cmd_postfix": "",
     "delete_cmd_prefix": "del ",
     "library": "var_list.py",
     "varRefreshCmd": "print(var_dic_list())"
    },
    "r": {
     "delete_cmd_postfix": ") ",
     "delete_cmd_prefix": "rm(",
     "library": "var_list.r",
     "varRefreshCmd": "cat(var_dic_list()) "
    }
   },
   "types_to_exclude": [
    "module",
    "function",
    "builtin_function_or_method",
    "instance",
    "_Feature"
   ],
   "window_display": false
  }
 },
 "nbformat": 4,
 "nbformat_minor": 4
}
