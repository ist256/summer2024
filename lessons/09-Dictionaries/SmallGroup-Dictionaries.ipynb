{
 "cells": [
  {
   "cell_type": "markdown",
   "metadata": {},
   "source": [
    "# Now You Code In Class : IST256 YouTube Video Explorer\n",
    "\n",
    "In this small group we will write a UI to search YouTube videos associated with this course. Normally we would read this information directly from YouTube in the form of an API (Application Program Interface), but since we have not learned that yet, we will read a JSON file which represents the output from the API itself. \n",
    "\n",
    "- We will start by writing code to deserialize json to a Python object. \n",
    "- Then we will learn how to explore the object loaded into Python as we work to create the final program.\n",
    "- After some exploration, we will write the program.\n"
   ]
  },
  {
   "cell_type": "code",
   "execution_count": null,
   "metadata": {
    "tags": []
   },
   "outputs": [],
   "source": [
    "# Read Any JSON file:\n",
    "def deserialize_json(jsonfile: str) -> any:\n",
    "    import json\n",
    "    with open(jsonfile, \"r\") as f:\n",
    "        data = json.load(f)\n",
    "        return data\n",
    "\n",
    "\n",
    "#PROMPT Test mike.json\n",
    "file = \"mike.json\"\n",
    "expect_name = \"mike\"\n",
    "actual = deserialize_json(file)\n",
    "print(f\"For file {file} expect={expect_name}, actual={actual['name']}\")\n",
    "assert expect_name == actual['name']\n",
    "\n",
    "#PROMPT Test usinfo.json\n",
    "file = \"usinfo.json\"\n",
    "expect_first_capital = \"Washington, D.C.\"\n",
    "actual = deserialize_json(file)\n",
    "print(f\"For file {file} expect={expect_first_capital}, actual={actual[0]['capital']}\")\n",
    "assert expect_first_capital == actual[0]['capital']"
   ]
  },
  {
   "cell_type": "markdown",
   "metadata": {},
   "source": [
    "## Code Challenges\n",
    "\n",
    "You will be given a minute or two to complete each of these code challenges. The code for each challenge is short and in many cases solving the previous challenge will help with the next one. We will go over each challenge one at a time."
   ]
  },
  {
   "cell_type": "markdown",
   "metadata": {
    "tags": []
   },
   "source": [
    "#### Challenge 1\n",
    "\n",
    "Deserialize the `ist256-youtube-playlist.json` file into the variable `playlist`"
   ]
  },
  {
   "cell_type": "code",
   "execution_count": null,
   "metadata": {
    "tags": []
   },
   "outputs": [],
   "source": []
  },
  {
   "cell_type": "markdown",
   "metadata": {
    "tags": []
   },
   "source": [
    "#### Challenge 2\n",
    "\n",
    "write code to display the data type of `playlist`? Is it list or dict?"
   ]
  },
  {
   "cell_type": "code",
   "execution_count": null,
   "metadata": {
    "tags": []
   },
   "outputs": [],
   "source": []
  },
  {
   "cell_type": "markdown",
   "metadata": {
    "tags": []
   },
   "source": [
    "#### Challenge 3\n",
    "\n",
    "write code to get the data from the first video in `playlist` store the variable `firstvid` and show it to the console. Is it a list or dict?"
   ]
  },
  {
   "cell_type": "code",
   "execution_count": null,
   "metadata": {
    "tags": []
   },
   "outputs": [],
   "source": []
  },
  {
   "cell_type": "markdown",
   "metadata": {
    "tags": []
   },
   "source": [
    "#### Challenge 4\n",
    "\n",
    "Write code to retrieve the title of the 4th video. You don't need to store it in a variable. The title should be `'IST256 Learn Python Homework HW 02 Advice'`"
   ]
  },
  {
   "cell_type": "code",
   "execution_count": null,
   "metadata": {
    "tags": []
   },
   "outputs": [],
   "source": []
  },
  {
   "cell_type": "markdown",
   "metadata": {
    "tags": []
   },
   "source": [
    "#### Challenge 5\n",
    "\n",
    "Write a loop to print all the video titles in the playlist. Leverage the power of the iterator!!!!"
   ]
  },
  {
   "cell_type": "code",
   "execution_count": null,
   "metadata": {
    "tags": []
   },
   "outputs": [],
   "source": []
  },
  {
   "cell_type": "markdown",
   "metadata": {
    "tags": []
   },
   "source": [
    "#### Challenge 6\n",
    "\n",
    "Write a loop to print ONLY the `\"Homework\"` Titles in the playlist"
   ]
  },
  {
   "cell_type": "code",
   "execution_count": null,
   "metadata": {
    "tags": []
   },
   "outputs": [],
   "source": []
  },
  {
   "cell_type": "code",
   "execution_count": null,
   "metadata": {
    "tags": []
   },
   "outputs": [],
   "source": []
  },
  {
   "cell_type": "markdown",
   "metadata": {
    "tags": []
   },
   "source": [
    "#### Challenge 7\n",
    "\n",
    "For the following title `\"IST256 Learn Python Homework HW 13 Advice\"` extract out the unit number: \"13\"  \n",
    "likewise for a lab `\"IST256 Learn Python Lab 04 Walk Through\"` extract out number \"04\""
   ]
  },
  {
   "cell_type": "code",
   "execution_count": null,
   "metadata": {
    "tags": []
   },
   "outputs": [],
   "source": [
    "def extract_unit_number(title):\n",
    "    for work in title.split():\n",
    "        if work.isdigit():\n",
    "            return work\n",
    "    return \"Not Found\"\n",
    "\n",
    "title = \"IST256 Learn Python Homework HW 13 Advice\"\n",
    "unit_number = extract_unit_number(title)\n",
    "print(title,\"==\", unit_number)\n",
    "\n",
    "title = \"IST256 Learn Python Lab 04 Walk Through\"\n",
    "unit_number = extract_unit_number(title)\n",
    "print(title, \"==\", unit_number)"
   ]
  },
  {
   "cell_type": "markdown",
   "metadata": {
    "tags": []
   },
   "source": [
    "#### Challenge 8\n",
    "\n",
    "For any video at index `i`, get the description of the video."
   ]
  },
  {
   "cell_type": "code",
   "execution_count": null,
   "metadata": {
    "tags": []
   },
   "outputs": [],
   "source": []
  },
  {
   "cell_type": "markdown",
   "metadata": {
    "tags": []
   },
   "source": [
    "#### Challenge 9\n",
    "\n",
    "For any video at index `i`, get get the url of the medium-sized thumbnail."
   ]
  },
  {
   "cell_type": "code",
   "execution_count": null,
   "metadata": {
    "tags": []
   },
   "outputs": [],
   "source": []
  },
  {
   "cell_type": "markdown",
   "metadata": {
    "tags": []
   },
   "source": [
    "#### Challenge 10\n",
    "\n",
    "Use Ipython display and Image to display the url as an image"
   ]
  },
  {
   "cell_type": "code",
   "execution_count": null,
   "metadata": {
    "tags": []
   },
   "outputs": [],
   "source": []
  },
  {
   "cell_type": "markdown",
   "metadata": {
    "tags": []
   },
   "source": [
    "#### Challenge 11\n",
    "\n",
    "Going back to the `firstvid` variable. Extract out the YouTube video Id. In this case, it should be:  `'jUXoz-rKWEQ'`"
   ]
  },
  {
   "cell_type": "code",
   "execution_count": null,
   "metadata": {
    "tags": []
   },
   "outputs": [],
   "source": []
  },
  {
   "cell_type": "markdown",
   "metadata": {
    "tags": []
   },
   "source": [
    "#### Challenge 12\n",
    "\n",
    "\n",
    "Use Ipython display, YouTubeVideo to show the video!"
   ]
  },
  {
   "cell_type": "code",
   "execution_count": null,
   "metadata": {
    "tags": []
   },
   "outputs": [],
   "source": []
  },
  {
   "cell_type": "markdown",
   "metadata": {},
   "source": [
    "#### Challenge 13\n",
    "\n",
    "Deserialize the `ist256-exams.json` file into the variable `exams`. What is the type?"
   ]
  },
  {
   "cell_type": "code",
   "execution_count": null,
   "metadata": {
    "tags": []
   },
   "outputs": [],
   "source": []
  },
  {
   "cell_type": "markdown",
   "metadata": {},
   "source": [
    "#### Challenge 14\n",
    "\n",
    "Write code to display the units covered in Exam 2 (E2)."
   ]
  },
  {
   "cell_type": "code",
   "execution_count": null,
   "metadata": {
    "tags": []
   },
   "outputs": [],
   "source": []
  },
  {
   "cell_type": "markdown",
   "metadata": {},
   "source": [
    "#### Challenge 15\n",
    "\n",
    "Start by Copying your solution from Challenge 6. Using The snippet from Challenge 7 and the `exams` variable only display homework video titles for units covered in Exam 2."
   ]
  },
  {
   "cell_type": "code",
   "execution_count": null,
   "metadata": {
    "tags": []
   },
   "outputs": [],
   "source": []
  },
  {
   "cell_type": "markdown",
   "metadata": {},
   "source": [
    "#### Challenge 16\n",
    "\n",
    "Modify your previous challenge to display the title AND the youtube video Id, as you did in challenge 12."
   ]
  },
  {
   "cell_type": "code",
   "execution_count": null,
   "metadata": {
    "tags": []
   },
   "outputs": [],
   "source": []
  },
  {
   "cell_type": "markdown",
   "metadata": {},
   "source": [
    "#### Challenge 17\n",
    "\n",
    "Write an IPython interact with the following input widgets:\n",
    "\n",
    "- dropdown selecting \"Lab\" or \"Homework\"\n",
    "- dropdown of exams keys() + the option \"All Exams\"\n",
    "\n",
    "in the `onclick` just output the values of the widgets"
   ]
  },
  {
   "cell_type": "code",
   "execution_count": null,
   "metadata": {
    "tags": []
   },
   "outputs": [],
   "source": [
    "from IPython.display import display, HTML,Image, YouTubeVideo\n",
    "from ipywidgets import interact_manual\n"
   ]
  },
  {
   "cell_type": "markdown",
   "metadata": {},
   "source": [
    "## You Made it Through the Challenges!\n",
    "\n",
    "You are now ready to write the program by putting it all together.\n",
    "\n",
    "INPUTS:\n",
    "    \n",
    " - deserialize `ist256-exams.json`\n",
    " - deserialize `ist256-youtube-playlist.json`\n",
    " - select video type (Homework or Lab)\n",
    " - select exam coverage (E1, E2, etc... or All Exams)\n",
    " \n",
    "OUTPUTS (For matching videos):\n",
    "\n",
    " - Show the title of the video\n",
    " - Show the video itself (so it can be played with the widget)\n",
    " \n",
    " \n",
    "PROCESS / ALGORITHM (onclick)\n",
    "\n",
    "    Pretty much challenge 16 but with variables\n",
    "    \n",
    "    for video in playlist:\n",
    "        if the title matches the video type (e.g. \"Homework\" or \"Lab\") \n",
    "            extract out the unit number (e.g. \"05\" or \"13\"\n",
    "            if exam equals \"All Exams\"\n",
    "                display video title\n",
    "                display video on YouTube\n",
    "            else if unit is in the list of exam units\n",
    "                display video title\n",
    "                display video on YouTube\n"
   ]
  },
  {
   "cell_type": "code",
   "execution_count": null,
   "metadata": {
    "tags": []
   },
   "outputs": [],
   "source": [
    "# FINAL CODE\n",
    "from IPython.display import display, HTML, YouTubeVideo\n",
    "from ipywidgets import interact_manual\n",
    "\n",
    "# inputs\n",
    "\n"
   ]
  }
 ],
 "metadata": {
  "anaconda-cloud": {},
  "kernelspec": {
   "display_name": "Python 3 (ipykernel)",
   "language": "python",
   "name": "python3"
  },
  "language_info": {
   "codemirror_mode": {
    "name": "ipython",
    "version": 3
   },
   "file_extension": ".py",
   "mimetype": "text/x-python",
   "name": "python",
   "nbconvert_exporter": "python",
   "pygments_lexer": "ipython3",
   "version": "3.11.7"
  },
  "toc": {
   "base_numbering": 1,
   "nav_menu": {},
   "number_sections": false,
   "sideBar": false,
   "skip_h1_title": false,
   "title_cell": "Table of Contents",
   "title_sidebar": "Contents",
   "toc_cell": false,
   "toc_position": {},
   "toc_section_display": false,
   "toc_window_display": false
  },
  "varInspector": {
   "cols": {
    "lenName": 16,
    "lenType": 16,
    "lenVar": 40
   },
   "kernels_config": {
    "python": {
     "delete_cmd_postfix": "",
     "delete_cmd_prefix": "del ",
     "library": "var_list.py",
     "varRefreshCmd": "print(var_dic_list())"
    },
    "r": {
     "delete_cmd_postfix": ") ",
     "delete_cmd_prefix": "rm(",
     "library": "var_list.r",
     "varRefreshCmd": "cat(var_dic_list()) "
    }
   },
   "types_to_exclude": [
    "module",
    "function",
    "builtin_function_or_method",
    "instance",
    "_Feature"
   ],
   "window_display": false
  }
 },
 "nbformat": 4,
 "nbformat_minor": 4
}
