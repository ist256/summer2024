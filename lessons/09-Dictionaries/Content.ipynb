{
 "cells": [
  {
   "cell_type": "markdown",
   "id": "5804ee10-44cd-44d4-84b2-9002be8b030e",
   "metadata": {},
   "source": [
    "## Lesson 09: Dictionaries\n",
    "\n",
    "### Overview\n",
    "\n",
    "In this lesson we learn:\n",
    "\n",
    "- Dictionaries as key-value pairs.\n",
    "- Basic dictionary operations such as getting/setting keys and values\n",
    "- Common dictionary use cases, such as representing complex objects.\n",
    "- List of dictionary as an in-memory database of objects.\n",
    "- Using the json library to serialize / de-serialize json data. \n",
    "\n",
    "### Required Before Large Group\n",
    "\n",
    "- READ: [Severance Ch 9: Dictionaries](https://books.trinket.io/pfe/09-dictionaries.html)\n",
    "- VIDEO: Python for Everybody: [Ch9 Part 1](https://youtu.be/yDDRMb-1cxI) | [Part 2](https://youtu.be/LRSIuH94XM4) | [Part 3](https://youtu.be/ZDjiFB1Ib84), by Charles Severance\n",
    "\n",
    "### Additional Resources\n",
    "\n",
    "- VIDEO: [Python Tutorial: Working with JSON Data, by Corey Schafer](https://youtu.be/9N6a-VLBa2I?si=cBq380-8oZuUelJs)\n",
    "- VIDEO: [End to End Example: Dictionaries, by Michael Fudge](https://youtu.be/l-2_Cq60trE)\n",
    "- VIDEO: [Lab Walk Through, by Michael Fudge](https://youtu.be/WIw7oXCtir0)\n",
    "- VIDEO: [Homework Advice, by Michael Fudge](https://youtu.be/rvSZhsvNQZk)\n",
    "\n",
    "\n"
   ]
  },
  {
   "cell_type": "code",
   "execution_count": null,
   "id": "5683117e-c578-4219-b696-8fff1d5d9b73",
   "metadata": {},
   "outputs": [],
   "source": []
  }
 ],
 "metadata": {
  "kernelspec": {
   "display_name": "Python 3 (ipykernel)",
   "language": "python",
   "name": "python3"
  },
  "language_info": {
   "codemirror_mode": {
    "name": "ipython",
    "version": 3
   },
   "file_extension": ".py",
   "mimetype": "text/x-python",
   "name": "python",
   "nbconvert_exporter": "python",
   "pygments_lexer": "ipython3",
   "version": "3.11.7"
  }
 },
 "nbformat": 4,
 "nbformat_minor": 5
}
