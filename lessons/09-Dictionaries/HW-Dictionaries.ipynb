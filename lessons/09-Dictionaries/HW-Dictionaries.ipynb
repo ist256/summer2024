{
 "cells": [
  {
   "cell_type": "markdown",
   "metadata": {},
   "source": [
    "# Homework: US Senator Lookup\n",
    "\n",
    "## The Problem\n",
    "\n",
    "Let's write a program similar to this unit's End-To-End Example. Instead of European countries this program will provide a drop-down of US states. When a state is selected, the program should display the US senators for that state.\n",
    "\n",
    "What information Should you display? Here is a sample of the 2 senators from the State of `NY`:\n",
    "\n",
    "## Sen. Charles “Chuck” Schumer [D-NY]\n",
    "\n",
    "    Senior Senator for New York\n",
    "    PARTY: Democrat\n",
    "    PHONE: 202-224-6542\n",
    "    WEBSITE: https://www.schumer.senate.gov\n",
    "    CONTACT: https://www.schumer.senate.gov/contact/email-chuck\n",
    "    \n",
    " ## Sen. Kirsten Gillibrand [D-NY]\n",
    "\n",
    "    Junior Senator for New York\n",
    "    PARTY: Democrat\n",
    "    PHONE: 202-224-4451\n",
    "    WEBSITE: https://www.gillibrand.senate.gov\n",
    "    CONTACT: https://www.gillibrand.senate.gov/contact/email-me\n",
    "\n",
    "\n",
    "## Approach:\n",
    "\n",
    "This assignment is broken up into parts. We will use problem simplification to solve this problem and take a bottom up approach, making the components, then assembling them together.\n",
    "\n",
    "- **You Code 2.1** Copy the `deserialize_json(0` function from small group. In this part you will write tests.\n",
    "- **You Code 2.2** Write a `dedupe_states()` function deduplicate states from the deserialized JSON. \n",
    "- **You Code 2.3** Write a text-only version of the program. input a state, show senators form that state.\n",
    "- **You Code 2.4** Write an interact versio of the program: dropdown list to select a state, then display senator. \n",
    "\n",
    "Since we are taking a bottom up approach, **hold off on completing part 1, until you are on step 2.3**\n",
    "\n",
    "### This Code will fetch the current US Senators from the web and save the results to a `US-Senators.json` file.\n",
    "\n",
    "Run this code to get the \"latest\" information about US Senators."
   ]
  },
  {
   "cell_type": "code",
   "execution_count": null,
   "metadata": {
    "tags": []
   },
   "outputs": [],
   "source": [
    "import requests\n",
    "import json \n",
    "file='US-Senators.json'\n",
    "senators = requests.get('https://www.govtrack.us/api/v2/role?current=true&role_type=senator').json()['objects']\n",
    "with open(file,'w') as f:\n",
    "    f.write(json.dumps(senators))\n",
    "    print(f\"Saved: {file}\")"
   ]
  },
  {
   "cell_type": "markdown",
   "metadata": {
    "label": "problem_analysis_cell"
   },
   "source": [
    "## Part 1: Problem Analysis\n",
    "\n",
    "You will complete a problem analysis for the entire program. **Since we are using the bottom-up approach, do not attempt until step 2.3**\n",
    "\n",
    "\n",
    "### 1.1 Program Outputs\n",
    "\n",
    "Describe your program outputs in the cell below. \n"
   ]
  },
  {
   "cell_type": "markdown",
   "metadata": {
    "editable": true,
    "label": "analysis_output_cell",
    "slideshow": {
     "slide_type": ""
    },
    "tags": []
   },
   "source": []
  },
  {
   "cell_type": "markdown",
   "metadata": {},
   "source": [
    "### 1.2 Program Inputs\n",
    "\n",
    "List out the program inputs in the cell below.\n"
   ]
  },
  {
   "cell_type": "markdown",
   "metadata": {
    "editable": true,
    "label": "analysis_input_cell",
    "slideshow": {
     "slide_type": ""
    },
    "tags": []
   },
   "source": []
  },
  {
   "cell_type": "markdown",
   "metadata": {},
   "source": [
    "### 1.3 The Plan (Algorithm)\n",
    "\n",
    "Explain, as specifically as you can, without writing code, how the program works from input to output. Be detailed with your plan as you will need to turn it into code. \n"
   ]
  },
  {
   "cell_type": "markdown",
   "metadata": {
    "label": "analysis_plan_cell",
    "tags": []
   },
   "source": []
  },
  {
   "cell_type": "markdown",
   "metadata": {},
   "source": [
    "## Part 2: Code Solution\n",
    "\n",
    "You may write your code in several cells, but place the complete, final working copy of your code solution within this single cell below. Only the within this cell will be considered your solution. Any imports or user-defined functions should be copied into this cell. "
   ]
  },
  {
   "cell_type": "code",
   "execution_count": null,
   "metadata": {
    "label": "code_solution_cell"
   },
   "outputs": [],
   "source": []
  },
  {
   "cell_type": "code",
   "execution_count": null,
   "metadata": {},
   "outputs": [],
   "source": []
  },
  {
   "cell_type": "code",
   "execution_count": null,
   "metadata": {},
   "outputs": [],
   "source": []
  },
  {
   "cell_type": "markdown",
   "metadata": {},
   "source": [
    "### You Code 2.1: Write tests for `deserialize_json()` function.\n",
    "\n",
    "We wrote the `deserialize_json()` function in Small Group. So in this section you will write tests specific to the `US-Senators.json` file. NOTE: these tests will help you to extract the information you need later to write the program.\n",
    "\n",
    "Specifics you must test for:\n",
    "\n",
    "- Senator's party: example=Republican\n",
    "- Senator's state: example=NY\n",
    "- Senatory's birthday: example=1954-05-29\n",
    "- Senator's contact_form: example= https://www.lankford.senate.gov/contact/email\n",
    "\n",
    "I suggest opening the `US-Senators.json` in the Jupyterhub file preview and picking on a senator for your tests. Know the index of your senator. \n",
    "\n",
    "For each test, print the expected and actual tested value. To pass the automated code checks, your variable name must be `senators`.\n",
    "\n",
    "\n",
    "Also you should `assert` the value under test, comparing expected to actual. See examples from small group for details.\n"
   ]
  },
  {
   "cell_type": "code",
   "execution_count": null,
   "metadata": {
    "code_cell_type": "write_code",
    "editable": true,
    "label": "2.1",
    "slideshow": {
     "slide_type": ""
    },
    "solution": [],
    "tags": [],
    "tests": [
     {
      "code": "assert True",
      "include-code": true,
      "kind": "assertion"
     }
    ]
   },
   "outputs": [],
   "source": [
    "# SOLUTION CELL 2.1\n",
    "def deserialize_json(jsonfile: str) -> any:\n",
    "    import json\n",
    "    with open(jsonfile, \"r\") as f:\n",
    "        data = json.load(f)\n",
    "        return data\n",
    "\n",
    "\n",
    "# Write Test Code Below Here\n"
   ]
  },
  {
   "cell_type": "markdown",
   "metadata": {},
   "source": [
    "### You Code 2.2: Write a `dedupe_states()` function deduplicate states from the deserialized JSON. \n",
    "\n",
    "Next we need to write a function to dedupe the states. Algorithmically, this will be similar to the `dedupe()` function we wrote previously, only we must retrieve the state from the each senator's 'state' key (which you figured out how to do in 2.1).\n",
    "\n",
    "The input will be the list of `senators` the output will be a list of state codes, like `[\"NY\",\"OH\"]` in alphabetical order.\n",
    "\n",
    "Here's the docstring:  \n",
    "\n",
    "`dedupe_states(senators: list[dict]) -> list[str]`\n",
    "\n",
    "\n",
    "The test has been written for you. If you're not getting 50 states back from `dedupe_states` something is not correct. "
   ]
  },
  {
   "cell_type": "code",
   "execution_count": null,
   "metadata": {
    "code_cell_type": "write_code",
    "editable": true,
    "label": "2.2",
    "slideshow": {
     "slide_type": ""
    },
    "solution": [],
    "tags": [],
    "tests": [
     {
      "code": "import json\nwith open('US-Senators.json', 'r') as f:\n    senators = json.load(f)\nstates = dedupe_states(senators)\nassert len(states)==50\nassert states.count('NY')==1\n",
      "include-code": true,
      "kind": "assertion"
     }
    ]
   },
   "outputs": [],
   "source": [
    "# SOLUTION CELL 2.2\n",
    "\n"
   ]
  },
  {
   "cell_type": "code",
   "execution_count": null,
   "metadata": {
    "tags": []
   },
   "outputs": [],
   "source": [
    "# Tests for 2.2\n",
    "deduped_states = dedupe_states(senators)\n",
    "expect_state_count = 50 # There are 50 states in the US\n",
    "actual_state_count = len(deduped_states)\n",
    "print(f\"For deduped senator states, expect={expect_state_count} actual={actual_state_count}\")\n",
    "assert expect_state_count == actual_state_count\n",
    "expect_ny_count = 1\n",
    "actual_ny_count = deduped_states.count(\"NY\")\n",
    "print(f\"For deduped senator states NY, expect={expect_ny_count} actual={actual_ny_count}\")\n",
    "assert expect_state_count == actual_state_count"
   ]
  },
  {
   "cell_type": "markdown",
   "metadata": {},
   "source": [
    "### You Code 2.3 Write final program\n",
    "\n",
    "Now that we have the components, its time to USE them to solve the original problem, assembing our components through a bottom-up appoach.\n",
    "\n",
    "The Program should:\n",
    "\n",
    " - Read in and deserialize `US-Senators.json`\n",
    " - For a user input state in 2-character format, e.g \"PA\", display the following for each matching senator \n",
    "   - Name\n",
    "   - Description\n",
    "   - Party\n",
    "   - Phone\n",
    "   - Website\n",
    "   - Contact Form\n",
    " - If the user enters an invalid state code like \"XY\" print out an error message.\n",
    "\n",
    "Before you Write 2.3, go back to **Part 1: Problem Analysis** and complete your INPUT, OUTPUT, and STEPS sections!"
   ]
  },
  {
   "cell_type": "code",
   "execution_count": null,
   "metadata": {
    "code_cell_type": "write_code",
    "editable": true,
    "label": "2.3",
    "slideshow": {
     "slide_type": ""
    },
    "solution": [],
    "tags": [],
    "tests": [
     {
      "input-stream": "NY\n",
      "kind": "runcode",
      "search-output": [
       "Democrat",
       "Schumer",
       "202-224-6542"
      ]
     }
    ]
   },
   "outputs": [],
   "source": [
    "# SOLUTION CELL 2.3\n",
    "# Copy your deserialize_json() function here\n",
    "\n",
    "\n",
    "# Copy your dedupe_states() function here\n",
    "\n",
    "\n",
    "# On with the MAIN PROGRAM - no functions needed here. Just calls to your user-def functions. \n",
    "\n"
   ]
  },
  {
   "cell_type": "markdown",
   "metadata": {},
   "source": [
    "### You Code 2.4 Ipywidgets\n",
    "\n",
    "Let's re-write the code as an `@interact_manual` You will need one input widget your list of deduplicated states. \n",
    "\n",
    "This solution will be checked manually by your instructor"
   ]
  },
  {
   "cell_type": "code",
   "execution_count": null,
   "metadata": {
    "tags": []
   },
   "outputs": [],
   "source": [
    "# SOLUTION CELL 2.4\n",
    "\n"
   ]
  },
  {
   "cell_type": "markdown",
   "metadata": {
    "label": "homework_questions_cell"
   },
   "source": [
    "## Part 3: Metacognition\n",
    "\n",
    "These questions are designed to prompt you to reflect on your learning. Reflection is part of the assignment grade so please take time to answer the questions thoughtfully.\n",
    "\n",
    "#### 3.1 List at least 3 things you learned this week and/or throughout the process of completing this assignment?"
   ]
  },
  {
   "cell_type": "markdown",
   "metadata": {
    "label": "learned_cell"
   },
   "source": []
  },
  {
   "cell_type": "markdown",
   "metadata": {},
   "source": [
    "#### 3.2 What were the challenges or roadblocks (if any) you encountered on the way to completing it?"
   ]
  },
  {
   "cell_type": "markdown",
   "metadata": {
    "label": "challenges_cell"
   },
   "source": []
  },
  {
   "cell_type": "markdown",
   "metadata": {},
   "source": [
    "#### 3.3 Were you prepared for this assignment? What can you do to be better prepared?"
   ]
  },
  {
   "cell_type": "markdown",
   "metadata": {
    "label": "prepared_cell"
   },
   "source": []
  },
  {
   "cell_type": "markdown",
   "metadata": {},
   "source": [
    "#### 3.4 Did someone (or something such as AI) help you? Did You help someone? Provide details. "
   ]
  },
  {
   "cell_type": "markdown",
   "metadata": {
    "label": "help_cell"
   },
   "source": []
  },
  {
   "cell_type": "markdown",
   "metadata": {},
   "source": [
    "#### 3.5  Now that you have completed the assignment rate your comfort level with this week’s material. This should be an honest assessment of your ability: \n",
    "\n",
    "**1** ==> I don't understand this at all yet and need extra help. If you choose this please try to articulate that which you do not understand to the best of your ability in the questions and comments section below.  \n",
    "**2** ==> I can do this with help or guidance from other people or resources. If you choose this level, please indicate HOW this person helped you in the questions and comments section below.   \n",
    "**3** ==> I can do this on my own without any help.   \n",
    "**4** ==> I can do this on my own and can explain/teach how to do it to others.\n",
    "\n",
    "`ENTER A NUMBER 1-4 IN THE CELL BELOW`"
   ]
  },
  {
   "cell_type": "markdown",
   "metadata": {
    "label": "comfort_cell"
   },
   "source": []
  },
  {
   "cell_type": "markdown",
   "metadata": {
    "label": ""
   },
   "source": [
    "## Part 4: Turning it in\n",
    "\n",
    "FIRST AND FOREMOST: **Save Your work!** Yes, it auto-saves, but you should get in the habit of saving before submitting. From the menu, choose File --> Save Notebook. Or you can use the shortcut keys `CTRL+S`\n",
    "\n",
    "### Homework Check\n",
    "\n",
    "Check your homework before submitting. Look for errors and incomplete parts which might cost you a better grade."
   ]
  },
  {
   "cell_type": "code",
   "execution_count": null,
   "metadata": {
    "tags": []
   },
   "outputs": [],
   "source": [
    "from casstools.notebook_tools import NotebookFile\n",
    "NotebookFile().check_homework()"
   ]
  },
  {
   "cell_type": "markdown",
   "metadata": {
    "label": ""
   },
   "source": [
    "### Homework Submission\n",
    "\n",
    "Run this code and follow the instructions to turn in your homework."
   ]
  },
  {
   "cell_type": "code",
   "execution_count": null,
   "metadata": {},
   "outputs": [],
   "source": [
    "from casstools.assignment import Assignment\n",
    "Assignment().submit()"
   ]
  },
  {
   "cell_type": "code",
   "execution_count": null,
   "metadata": {},
   "outputs": [],
   "source": []
  }
 ],
 "metadata": {
  "anaconda-cloud": {},
  "celltoolbar": "Edit Metadata",
  "kernelspec": {
   "display_name": "Python 3 (ipykernel)",
   "language": "python",
   "name": "python3"
  },
  "language_info": {
   "codemirror_mode": {
    "name": "ipython",
    "version": 3
   },
   "file_extension": ".py",
   "mimetype": "text/x-python",
   "name": "python",
   "nbconvert_exporter": "python",
   "pygments_lexer": "ipython3",
   "version": "3.11.7"
  },
  "toc": {
   "base_numbering": 1,
   "nav_menu": {},
   "number_sections": false,
   "sideBar": false,
   "skip_h1_title": false,
   "title_cell": "Table of Contents",
   "title_sidebar": "Contents",
   "toc_cell": false,
   "toc_position": {},
   "toc_section_display": false,
   "toc_window_display": false
  },
  "varInspector": {
   "cols": {
    "lenName": 16,
    "lenType": 16,
    "lenVar": 40
   },
   "kernels_config": {
    "python": {
     "delete_cmd_postfix": "",
     "delete_cmd_prefix": "del ",
     "library": "var_list.py",
     "varRefreshCmd": "print(var_dic_list())"
    },
    "r": {
     "delete_cmd_postfix": ") ",
     "delete_cmd_prefix": "rm(",
     "library": "var_list.r",
     "varRefreshCmd": "cat(var_dic_list()) "
    }
   },
   "types_to_exclude": [
    "module",
    "function",
    "builtin_function_or_method",
    "instance",
    "_Feature"
   ],
   "window_display": false
  }
 },
 "nbformat": 4,
 "nbformat_minor": 4
}
