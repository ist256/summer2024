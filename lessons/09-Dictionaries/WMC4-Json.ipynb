{
 "cells": [
  {
   "cell_type": "markdown",
   "metadata": {},
   "source": [
    "# Watch Me Code 4: JSON"
   ]
  },
  {
   "cell_type": "code",
   "execution_count": 1,
   "metadata": {},
   "outputs": [
    {
     "name": "stdout",
     "output_type": "stream",
     "text": [
      "  % Total    % Received % Xferd  Average Speed   Time    Time     Time  Current\n",
      "                                 Dload  Upload   Total   Spent    Left  Speed\n",
      "100   782  100   782    0     0   2956      0 --:--:-- --:--:-- --:--:--  2950\n",
      "  % Total    % Received % Xferd  Average Speed   Time    Time     Time  Current\n",
      "                                 Dload  Upload   Total   Spent    Left  Speed\n",
      "100 11240  100 11240    0     0  62023      0 --:--:-- --:--:-- --:--:-- 62099\n"
     ]
    }
   ],
   "source": [
    "!curl https://raw.githubusercontent.com/mafudge/datasets/master/ist256/09-Dictionaries/usinfo.json -o usinfo.json\n",
    "!curl https://raw.githubusercontent.com/mafudge/datasets/master/ist256/09-Dictionaries/fudgemart-products.json -o fudgemart-products.json"
   ]
  },
  {
   "cell_type": "code",
   "execution_count": 2,
   "metadata": {},
   "outputs": [
    {
     "data": {
      "text/plain": [
       "'[{\"name\":\"United States\",\"topLevelDomain\":[\".us\"],\"alpha2Code\":\"US\",\"alpha3Code\":\"USA\",\"callingCodes\":[\"1\"],\"capital\":\"Washington, D.C.\",\"altSpellings\":[\"US\",\"USA\",\"United States of America\"],\"relevance\":\"3.5\",\"region\":\"Americas\",\"subregion\":\"Northern America\",\"translations\":{\"de\":\"Vereinigte Staaten von Amerika\",\"es\":\"Estados Unidos\",\"fr\":\"États-Unis\",\"ja\":\"アメリカ合衆国\",\"it\":\"Stati Uniti D\\'America\"},\"population\":321645000,\"latlng\":[38.0,-97.0],\"demonym\":\"American\",\"area\":9629091.0,\"gini\":48.0,\"timezones\":[\"UTC-12:00\",\"UTC-11:00\",\"UTC-10:00\",\"UTC-09:00\",\"UTC-08:00\",\"UTC-07:00\",\"UTC-06:00\",\"UTC-05:00\",\"UTC-04:00\",\"UTC+10:00\",\"UTC+12:00\"],\"borders\":[\"CAN\",\"MEX\"],\"nativeName\":\"United States\",\"numericCode\":\"840\",\"currencies\":[\"USD\",\"USN\",\"USS\"],\"languages\":[\"en\"]}]'"
      ]
     },
     "execution_count": 2,
     "metadata": {},
     "output_type": "execute_result"
    }
   ],
   "source": [
    "import json\n",
    "\n",
    "with open('usinfo.json', encoding='utf8') as inf:\n",
    "    data = inf.read()\n",
    "    \n",
    "data"
   ]
  },
  {
   "cell_type": "code",
   "execution_count": 3,
   "metadata": {},
   "outputs": [
    {
     "data": {
      "text/plain": [
       "str"
      ]
     },
     "execution_count": 3,
     "metadata": {},
     "output_type": "execute_result"
    }
   ],
   "source": [
    "type(data)"
   ]
  },
  {
   "cell_type": "code",
   "execution_count": 6,
   "metadata": {},
   "outputs": [
    {
     "data": {
      "text/plain": [
       "'Washington, D.C.'"
      ]
     },
     "execution_count": 6,
     "metadata": {},
     "output_type": "execute_result"
    }
   ],
   "source": [
    "# let's decode the string to a Python object\n",
    "us = json.loads(data) #loads takes in string and returns a python object\n",
    "us[0]['capital']"
   ]
  },
  {
   "cell_type": "code",
   "execution_count": null,
   "metadata": {},
   "outputs": [],
   "source": [
    "type(us)"
   ]
  },
  {
   "cell_type": "code",
   "execution_count": 7,
   "metadata": {},
   "outputs": [],
   "source": [
    "jsonfile = 'fudgemart-products.json'\n",
    "with open(jsonfile, \"r\") as f:  #load works at the file level\n",
    "    data = json.load(f)\n",
    "    "
   ]
  },
  {
   "cell_type": "code",
   "execution_count": 8,
   "metadata": {
    "tags": []
   },
   "outputs": [
    {
     "data": {
      "text/plain": [
       "[{'product_id': 1,\n",
       "  'product_category': 'Hardware',\n",
       "  'product_name': 'Straight Claw Hammer',\n",
       "  'product_retail_price': 15.95,\n",
       "  'vendor_name': 'Stanlee',\n",
       "  'vendor_website': None},\n",
       " {'product_id': 2,\n",
       "  'product_category': 'Hardware',\n",
       "  'product_name': 'Sledge Hammer',\n",
       "  'product_retail_price': 21.95,\n",
       "  'vendor_name': 'Stanlee',\n",
       "  'vendor_website': None},\n",
       " {'product_id': 3,\n",
       "  'product_category': 'Hardware',\n",
       "  'product_name': 'Rip Claw Hammer',\n",
       "  'product_retail_price': 19.95,\n",
       "  'vendor_name': 'Stanlee',\n",
       "  'vendor_website': None},\n",
       " {'product_id': 4,\n",
       "  'product_category': 'Clothing',\n",
       "  'product_name': 'Dri-Fit Tee',\n",
       "  'product_retail_price': 20.0,\n",
       "  'vendor_name': 'Mikey',\n",
       "  'vendor_website': 'http://mikee.com'},\n",
       " {'product_id': 5,\n",
       "  'product_category': 'Clothing',\n",
       "  'product_name': 'Running Pants',\n",
       "  'product_retail_price': 35.0,\n",
       "  'vendor_name': 'Mikey',\n",
       "  'vendor_website': 'http://mikee.com'},\n",
       " {'product_id': 6,\n",
       "  'product_category': 'Clothing',\n",
       "  'product_name': 'Wool Socks',\n",
       "  'product_retail_price': 8.0,\n",
       "  'vendor_name': 'Mikey',\n",
       "  'vendor_website': 'http://mikee.com'},\n",
       " {'product_id': 7,\n",
       "  'product_category': 'Clothing',\n",
       "  'product_name': 'Squeaky Sneaks',\n",
       "  'product_retail_price': 65.0,\n",
       "  'vendor_name': 'Mikey',\n",
       "  'vendor_website': 'http://mikee.com'},\n",
       " {'product_id': 8,\n",
       "  'product_category': 'Clothing',\n",
       "  'product_name': 'Cool Jeans',\n",
       "  'product_retail_price': 45.0,\n",
       "  'vendor_name': 'Leaveeyes',\n",
       "  'vendor_website': None},\n",
       " {'product_id': 9,\n",
       "  'product_category': 'Clothing',\n",
       "  'product_name': 'Denim Jacket',\n",
       "  'product_retail_price': 60.0,\n",
       "  'vendor_name': 'Leaveeyes',\n",
       "  'vendor_website': None},\n",
       " {'product_id': 10,\n",
       "  'product_category': 'Clothing',\n",
       "  'product_name': 'Leather Jacket',\n",
       "  'product_retail_price': 95.0,\n",
       "  'vendor_name': 'Leaveeyes',\n",
       "  'vendor_website': None},\n",
       " {'product_id': 11,\n",
       "  'product_category': 'Clothing',\n",
       "  'product_name': 'Courdory Pants',\n",
       "  'product_retail_price': 24.0,\n",
       "  'vendor_name': 'Leaveeyes',\n",
       "  'vendor_website': None},\n",
       " {'product_id': 12,\n",
       "  'product_category': 'Clothing',\n",
       "  'product_name': 'Work Pants',\n",
       "  'product_retail_price': 38.0,\n",
       "  'vendor_name': 'Stanlee',\n",
       "  'vendor_website': None},\n",
       " {'product_id': 13,\n",
       "  'product_category': 'Clothing',\n",
       "  'product_name': 'Work Gloves',\n",
       "  'product_retail_price': 8.0,\n",
       "  'vendor_name': 'Stanlee',\n",
       "  'vendor_website': None},\n",
       " {'product_id': 14,\n",
       "  'product_category': 'Clothing',\n",
       "  'product_name': 'Comfor-fit Tee',\n",
       "  'product_retail_price': 12.0,\n",
       "  'vendor_name': 'Weebock',\n",
       "  'vendor_website': 'http://www.weebock.com'},\n",
       " {'product_id': 15,\n",
       "  'product_category': 'Clothing',\n",
       "  'product_name': 'Running Shorts',\n",
       "  'product_retail_price': 20.0,\n",
       "  'vendor_name': 'Weebock',\n",
       "  'vendor_website': 'http://www.weebock.com'},\n",
       " {'product_id': 16,\n",
       "  'product_category': 'Clothing',\n",
       "  'product_name': 'X-Train Shoes',\n",
       "  'product_retail_price': 75.0,\n",
       "  'vendor_name': 'Weebock',\n",
       "  'vendor_website': 'http://www.weebock.com'},\n",
       " {'product_id': 17,\n",
       "  'product_category': 'Clothing',\n",
       "  'product_name': 'Baseball Cap',\n",
       "  'product_retail_price': 10.0,\n",
       "  'vendor_name': 'Weebock',\n",
       "  'vendor_website': 'http://www.weebock.com'},\n",
       " {'product_id': 18,\n",
       "  'product_category': 'Electronics',\n",
       "  'product_name': 'DVD Player',\n",
       "  'product_retail_price': 45.0,\n",
       "  'vendor_name': 'Soney',\n",
       "  'vendor_website': 'http://www.soney.com'},\n",
       " {'product_id': 19,\n",
       "  'product_category': 'Electronics',\n",
       "  'product_name': 'HD-DVD Player',\n",
       "  'product_retail_price': 150.0,\n",
       "  'vendor_name': 'Soney',\n",
       "  'vendor_website': 'http://www.soney.com'},\n",
       " {'product_id': 20,\n",
       "  'product_category': 'Electronics',\n",
       "  'product_name': 'Blu-Ray DVD Player',\n",
       "  'product_retail_price': 150.0,\n",
       "  'vendor_name': 'Soney',\n",
       "  'vendor_website': 'http://www.soney.com'},\n",
       " {'product_id': 21,\n",
       "  'product_category': 'Electronics',\n",
       "  'product_name': '40\" LCD HD TV',\n",
       "  'product_retail_price': 1000.0,\n",
       "  'vendor_name': 'Soney',\n",
       "  'vendor_website': 'http://www.soney.com'},\n",
       " {'product_id': 22,\n",
       "  'product_category': 'Electronics',\n",
       "  'product_name': '50\" LCD HD TV',\n",
       "  'product_retail_price': 1300.0,\n",
       "  'vendor_name': 'Soney',\n",
       "  'vendor_website': 'http://www.soney.com'},\n",
       " {'product_id': 23,\n",
       "  'product_category': 'Electronics',\n",
       "  'product_name': '65\" LCD HD TV',\n",
       "  'product_retail_price': 1900.0,\n",
       "  'vendor_name': 'Soney',\n",
       "  'vendor_website': 'http://www.soney.com'},\n",
       " {'product_id': 24,\n",
       "  'product_category': 'Electronics',\n",
       "  'product_name': 'PC Webcam',\n",
       "  'product_retail_price': 20.0,\n",
       "  'vendor_name': 'Mikerosoft',\n",
       "  'vendor_website': 'http://www.mikerosoft.com'},\n",
       " {'product_id': 25,\n",
       "  'product_category': 'Electronics',\n",
       "  'product_name': 'Computer Mouse',\n",
       "  'product_retail_price': 10.0,\n",
       "  'vendor_name': 'Mikerosoft',\n",
       "  'vendor_website': 'http://www.mikerosoft.com'},\n",
       " {'product_id': 26,\n",
       "  'product_category': 'Electronics',\n",
       "  'product_name': 'Ergonomic Keyboard',\n",
       "  'product_retail_price': 22.0,\n",
       "  'vendor_name': 'Mikerosoft',\n",
       "  'vendor_website': 'http://www.mikerosoft.com'},\n",
       " {'product_id': 27,\n",
       "  'product_category': 'Electronics',\n",
       "  'product_name': '20\" LCD Monitor',\n",
       "  'product_retail_price': 300.0,\n",
       "  'vendor_name': 'Mikerosoft',\n",
       "  'vendor_website': 'http://www.mikerosoft.com'},\n",
       " {'product_id': 28,\n",
       "  'product_category': 'Electronics',\n",
       "  'product_name': '17\" LCD Monitor',\n",
       "  'product_retail_price': 150.0,\n",
       "  'vendor_name': 'Mikerosoft',\n",
       "  'vendor_website': 'http://www.mikerosoft.com'},\n",
       " {'product_id': 29,\n",
       "  'product_category': 'Hardware',\n",
       "  'product_name': '18v Drill Driver Set',\n",
       "  'product_retail_price': 90.0,\n",
       "  'vendor_name': 'Stanlee',\n",
       "  'vendor_website': None},\n",
       " {'product_id': 30,\n",
       "  'product_category': 'Hardware',\n",
       "  'product_name': '19.2v Drill Driver Set',\n",
       "  'product_retail_price': 90.0,\n",
       "  'vendor_name': 'Blackened-Deckhand',\n",
       "  'vendor_website': None},\n",
       " {'product_id': 31,\n",
       "  'product_category': 'Hardware',\n",
       "  'product_name': '10\" Miter Saw',\n",
       "  'product_retail_price': 200.0,\n",
       "  'vendor_name': 'Blackened-Deckhand',\n",
       "  'vendor_website': None},\n",
       " {'product_id': 32,\n",
       "  'product_category': 'Hardware',\n",
       "  'product_name': 'Lazer Level',\n",
       "  'product_retail_price': 45.0,\n",
       "  'vendor_name': 'Blackened-Deckhand',\n",
       "  'vendor_website': None},\n",
       " {'product_id': 33,\n",
       "  'product_category': 'Hardware',\n",
       "  'product_name': 'Table Saw',\n",
       "  'product_retail_price': 290.0,\n",
       "  'vendor_name': 'Blackened-Deckhand',\n",
       "  'vendor_website': None},\n",
       " {'product_id': 34,\n",
       "  'product_category': 'Hardware',\n",
       "  'product_name': 'Power Washer',\n",
       "  'product_retail_price': 290.0,\n",
       "  'vendor_name': 'Blackened-Deckhand',\n",
       "  'vendor_website': None},\n",
       " {'product_id': 35,\n",
       "  'product_category': 'Hardware',\n",
       "  'product_name': 'Cold Chisel Set',\n",
       "  'product_retail_price': 10.0,\n",
       "  'vendor_name': 'Stanlee',\n",
       "  'vendor_website': None},\n",
       " {'product_id': 36,\n",
       "  'product_category': 'Hardware',\n",
       "  'product_name': 'Screwdriver Set',\n",
       "  'product_retail_price': 10.0,\n",
       "  'vendor_name': 'Stanlee',\n",
       "  'vendor_website': None},\n",
       " {'product_id': 37,\n",
       "  'product_category': 'Hardware',\n",
       "  'product_name': 'Drill Bit Set',\n",
       "  'product_retail_price': 25.0,\n",
       "  'vendor_name': 'Stanlee',\n",
       "  'vendor_website': None},\n",
       " {'product_id': 38,\n",
       "  'product_category': 'Hardware',\n",
       "  'product_name': 'Belt Sander',\n",
       "  'product_retail_price': 250.0,\n",
       "  'vendor_name': 'Blackened-Deckhand',\n",
       "  'vendor_website': None},\n",
       " {'product_id': 39,\n",
       "  'product_category': 'Housewares',\n",
       "  'product_name': 'Crock Pot',\n",
       "  'product_retail_price': 25.0,\n",
       "  'vendor_name': 'Blackened-Deckhand',\n",
       "  'vendor_website': None},\n",
       " {'product_id': 40,\n",
       "  'product_category': 'Housewares',\n",
       "  'product_name': 'Monsignor Coffee',\n",
       "  'product_retail_price': 20.0,\n",
       "  'vendor_name': 'Blackened-Deckhand',\n",
       "  'vendor_website': None},\n",
       " {'product_id': 41,\n",
       "  'product_category': 'Housewares',\n",
       "  'product_name': 'Electric Griddle',\n",
       "  'product_retail_price': 20.0,\n",
       "  'vendor_name': 'Blackened-Deckhand',\n",
       "  'vendor_website': None},\n",
       " {'product_id': 42,\n",
       "  'product_category': 'Sporting Goods',\n",
       "  'product_name': 'Tennis Racket',\n",
       "  'product_retail_price': 50.0,\n",
       "  'vendor_name': 'Mikey',\n",
       "  'vendor_website': 'http://mikee.com'},\n",
       " {'product_id': 43,\n",
       "  'product_category': 'Sporting Goods',\n",
       "  'product_name': 'Tennis Balls',\n",
       "  'product_retail_price': 8.0,\n",
       "  'vendor_name': 'Mikey',\n",
       "  'vendor_website': 'http://mikee.com'},\n",
       " {'product_id': 44,\n",
       "  'product_category': 'Sporting Goods',\n",
       "  'product_name': 'Basketball',\n",
       "  'product_retail_price': 35.0,\n",
       "  'vendor_name': 'Mikey',\n",
       "  'vendor_website': 'http://mikee.com'},\n",
       " {'product_id': 45,\n",
       "  'product_category': 'Sporting Goods',\n",
       "  'product_name': '12 Pack Golf Balls',\n",
       "  'product_retail_price': 20.0,\n",
       "  'vendor_name': 'Mikey',\n",
       "  'vendor_website': 'http://mikee.com'},\n",
       " {'product_id': 46,\n",
       "  'product_category': 'Sporting Goods',\n",
       "  'product_name': 'Pro. Football',\n",
       "  'product_retail_price': 65.0,\n",
       "  'vendor_name': 'Mikey',\n",
       "  'vendor_website': 'http://mikee.com'},\n",
       " {'product_id': 47,\n",
       "  'product_category': 'Sporting Goods',\n",
       "  'product_name': 'Baseball Glove',\n",
       "  'product_retail_price': 75.0,\n",
       "  'vendor_name': 'Mikey',\n",
       "  'vendor_website': 'http://mikee.com'},\n",
       " {'product_id': 48,\n",
       "  'product_category': 'Sporting Goods',\n",
       "  'product_name': 'Heart Monitor',\n",
       "  'product_retail_price': 20.0,\n",
       "  'vendor_name': 'Weebock',\n",
       "  'vendor_website': 'http://www.weebock.com'},\n",
       " {'product_id': 49,\n",
       "  'product_category': 'Sporting Goods',\n",
       "  'product_name': 'Pedometer',\n",
       "  'product_retail_price': 10.0,\n",
       "  'vendor_name': 'Weebock',\n",
       "  'vendor_website': 'http://www.weebock.com'},\n",
       " {'product_id': 50,\n",
       "  'product_category': 'Sporting Goods',\n",
       "  'product_name': 'Sport Cycle',\n",
       "  'product_retail_price': 255.0,\n",
       "  'vendor_name': 'Weebock',\n",
       "  'vendor_website': 'http://www.weebock.com'},\n",
       " {'product_id': 51,\n",
       "  'product_category': 'Sporting Goods',\n",
       "  'product_name': 'Soccer Ball',\n",
       "  'product_retail_price': 45.0,\n",
       "  'vendor_name': 'Mikey',\n",
       "  'vendor_website': 'http://mikee.com'},\n",
       " {'product_id': 52,\n",
       "  'product_category': 'Housewares',\n",
       "  'product_name': 'Steam Iron',\n",
       "  'product_retail_price': 15.0,\n",
       "  'vendor_name': 'Blackened-Deckhand',\n",
       "  'vendor_website': None},\n",
       " {'product_id': 53,\n",
       "  'product_category': 'Housewares',\n",
       "  'product_name': 'Blender',\n",
       "  'product_retail_price': 45.0,\n",
       "  'vendor_name': 'Blackened-Deckhand',\n",
       "  'vendor_website': None}]"
      ]
     },
     "execution_count": 8,
     "metadata": {},
     "output_type": "execute_result"
    }
   ],
   "source": [
    "data\n"
   ]
  },
  {
   "cell_type": "code",
   "execution_count": null,
   "metadata": {},
   "outputs": [],
   "source": [
    "population = us[0][\"population\"]\n",
    "print(population)"
   ]
  },
  {
   "cell_type": "code",
   "execution_count": null,
   "metadata": {},
   "outputs": [],
   "source": [
    "borders = us[0]['borders']\n",
    "print(borders)\n"
   ]
  },
  {
   "cell_type": "code",
   "execution_count": null,
   "metadata": {
    "tags": []
   },
   "outputs": [],
   "source": [
    "dir(json)\n",
    "# readup - you need to know the difference between load and loads\n",
    "# and the same for dump and dumps"
   ]
  },
  {
   "cell_type": "code",
   "execution_count": null,
   "metadata": {},
   "outputs": [],
   "source": []
  }
 ],
 "metadata": {
  "anaconda-cloud": {},
  "kernelspec": {
   "display_name": "Python 3 (ipykernel)",
   "language": "python",
   "name": "python3"
  },
  "language_info": {
   "codemirror_mode": {
    "name": "ipython",
    "version": 3
   },
   "file_extension": ".py",
   "mimetype": "text/x-python",
   "name": "python",
   "nbconvert_exporter": "python",
   "pygments_lexer": "ipython3",
   "version": "3.11.7"
  },
  "varInspector": {
   "cols": {
    "lenName": 16,
    "lenType": 16,
    "lenVar": 40
   },
   "kernels_config": {
    "python": {
     "delete_cmd_postfix": "",
     "delete_cmd_prefix": "del ",
     "library": "var_list.py",
     "varRefreshCmd": "print(var_dic_list())"
    },
    "r": {
     "delete_cmd_postfix": ") ",
     "delete_cmd_prefix": "rm(",
     "library": "var_list.r",
     "varRefreshCmd": "cat(var_dic_list()) "
    }
   },
   "types_to_exclude": [
    "module",
    "function",
    "builtin_function_or_method",
    "instance",
    "_Feature"
   ],
   "window_display": false
  }
 },
 "nbformat": 4,
 "nbformat_minor": 4
}
