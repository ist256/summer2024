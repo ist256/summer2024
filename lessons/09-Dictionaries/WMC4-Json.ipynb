{
 "cells": [
  {
   "cell_type": "markdown",
   "metadata": {},
   "source": [
    "# Watch Me Code 1: JSON\n",
    "\n"
   ]
  },
  {
   "cell_type": "code",
   "execution_count": 1,
   "metadata": {},
   "outputs": [
    {
     "name": "stdout",
     "output_type": "stream",
     "text": [
      "  % Total    % Received % Xferd  Average Speed   Time    Time     Time  Current\n",
      "                                 Dload  Upload   Total   Spent    Left  Speed\n",
      "100   782  100   782    0     0   4447      0 --:--:-- --:--:-- --:--:--  4468\n",
      "  % Total    % Received % Xferd  Average Speed   Time    Time     Time  Current\n",
      "                                 Dload  Upload   Total   Spent    Left  Speed\n",
      "100 11240  100 11240    0     0  93717      0 --:--:-- --:--:-- --:--:-- 94453\n"
     ]
    }
   ],
   "source": [
    "!curl https://raw.githubusercontent.com/mafudge/datasets/master/ist256/09-Dictionaries/usinfo.json -o usinfo.json\n",
    "!curl https://raw.githubusercontent.com/mafudge/datasets/master/ist256/09-Dictionaries/fudgemart-products.json -o fudgemart-products.json"
   ]
  },
  {
   "cell_type": "code",
   "execution_count": 1,
   "metadata": {},
   "outputs": [
    {
     "data": {
      "text/plain": [
       "'[{\"name\":\"United States\",\"topLevelDomain\":[\".us\"],\"alpha2Code\":\"US\",\"alpha3Code\":\"USA\",\"callingCodes\":[\"1\"],\"capital\":\"Washington, D.C.\",\"altSpellings\":[\"US\",\"USA\",\"United States of America\"],\"relevance\":\"3.5\",\"region\":\"Americas\",\"subregion\":\"Northern America\",\"translations\":{\"de\":\"Vereinigte Staaten von Amerika\",\"es\":\"Estados Unidos\",\"fr\":\"États-Unis\",\"ja\":\"アメリカ合衆国\",\"it\":\"Stati Uniti D\\'America\"},\"population\":321645000,\"latlng\":[38.0,-97.0],\"demonym\":\"American\",\"area\":9629091.0,\"gini\":48.0,\"timezones\":[\"UTC-12:00\",\"UTC-11:00\",\"UTC-10:00\",\"UTC-09:00\",\"UTC-08:00\",\"UTC-07:00\",\"UTC-06:00\",\"UTC-05:00\",\"UTC-04:00\",\"UTC+10:00\",\"UTC+12:00\"],\"borders\":[\"CAN\",\"MEX\"],\"nativeName\":\"United States\",\"numericCode\":\"840\",\"currencies\":[\"USD\",\"USN\",\"USS\"],\"languages\":[\"en\"]}]'"
      ]
     },
     "execution_count": 1,
     "metadata": {},
     "output_type": "execute_result"
    }
   ],
   "source": [
    "import json\n",
    "\n",
    "with open('usinfo.json', encoding='utf8') as inf:\n",
    "    data = inf.read()\n",
    "    \n",
    "data\n"
   ]
  },
  {
   "cell_type": "code",
   "execution_count": 20,
   "metadata": {},
   "outputs": [
    {
     "data": {
      "text/plain": [
       "str"
      ]
     },
     "execution_count": 20,
     "metadata": {},
     "output_type": "execute_result"
    }
   ],
   "source": [
    "type(data)"
   ]
  },
  {
   "cell_type": "code",
   "execution_count": 2,
   "metadata": {},
   "outputs": [
    {
     "data": {
      "text/plain": [
       "[{'alpha2Code': 'US',\n",
       "  'alpha3Code': 'USA',\n",
       "  'altSpellings': ['US', 'USA', 'United States of America'],\n",
       "  'area': 9629091.0,\n",
       "  'borders': ['CAN', 'MEX'],\n",
       "  'callingCodes': ['1'],\n",
       "  'capital': 'Washington, D.C.',\n",
       "  'currencies': ['USD', 'USN', 'USS'],\n",
       "  'demonym': 'American',\n",
       "  'gini': 48.0,\n",
       "  'languages': ['en'],\n",
       "  'latlng': [38.0, -97.0],\n",
       "  'name': 'United States',\n",
       "  'nativeName': 'United States',\n",
       "  'numericCode': '840',\n",
       "  'population': 321645000,\n",
       "  'region': 'Americas',\n",
       "  'relevance': '3.5',\n",
       "  'subregion': 'Northern America',\n",
       "  'timezones': ['UTC-12:00',\n",
       "   'UTC-11:00',\n",
       "   'UTC-10:00',\n",
       "   'UTC-09:00',\n",
       "   'UTC-08:00',\n",
       "   'UTC-07:00',\n",
       "   'UTC-06:00',\n",
       "   'UTC-05:00',\n",
       "   'UTC-04:00',\n",
       "   'UTC+10:00',\n",
       "   'UTC+12:00'],\n",
       "  'topLevelDomain': ['.us'],\n",
       "  'translations': {'de': 'Vereinigte Staaten von Amerika',\n",
       "   'es': 'Estados Unidos',\n",
       "   'fr': 'États-Unis',\n",
       "   'it': \"Stati Uniti D'America\",\n",
       "   'ja': 'アメリカ合衆国'}}]"
      ]
     },
     "execution_count": 2,
     "metadata": {},
     "output_type": "execute_result"
    }
   ],
   "source": [
    "# let's decode the string to a Python object\n",
    "us = json.loads(data)\n",
    "\n",
    "us"
   ]
  },
  {
   "cell_type": "code",
   "execution_count": 2,
   "metadata": {},
   "outputs": [
    {
     "ename": "NameError",
     "evalue": "name 'us' is not defined",
     "output_type": "error",
     "traceback": [
      "\u001b[0;31m---------------------------------------------------------------------------\u001b[0m",
      "\u001b[0;31mNameError\u001b[0m                                 Traceback (most recent call last)",
      "Input \u001b[0;32mIn [2]\u001b[0m, in \u001b[0;36m<module>\u001b[0;34m\u001b[0m\n\u001b[0;32m----> 1\u001b[0m \u001b[38;5;28mtype\u001b[39m(\u001b[43mus\u001b[49m)\n",
      "\u001b[0;31mNameError\u001b[0m: name 'us' is not defined"
     ]
    }
   ],
   "source": [
    "type(us)"
   ]
  },
  {
   "cell_type": "code",
   "execution_count": 9,
   "metadata": {},
   "outputs": [
    {
     "name": "stdout",
     "output_type": "stream",
     "text": [
      "321645000\n"
     ]
    }
   ],
   "source": [
    "population = us[0][\"population\"]\n",
    "print(population)"
   ]
  },
  {
   "cell_type": "code",
   "execution_count": 17,
   "metadata": {},
   "outputs": [
    {
     "name": "stdout",
     "output_type": "stream",
     "text": [
      "['CAN', 'MEX']\n"
     ]
    }
   ],
   "source": [
    "borders = us[0]['borders']\n",
    "print(borders)\n"
   ]
  },
  {
   "cell_type": "code",
   "execution_count": null,
   "metadata": {
    "collapsed": true,
    "jupyter": {
     "outputs_hidden": true
    }
   },
   "outputs": [],
   "source": []
  }
 ],
 "metadata": {
  "anaconda-cloud": {},
  "kernelspec": {
   "display_name": "Python 3 (ipykernel)",
   "language": "python",
   "name": "python3"
  },
  "language_info": {
   "codemirror_mode": {
    "name": "ipython",
    "version": 3
   },
   "file_extension": ".py",
   "mimetype": "text/x-python",
   "name": "python",
   "nbconvert_exporter": "python",
   "pygments_lexer": "ipython3",
   "version": "3.9.7"
  },
  "varInspector": {
   "cols": {
    "lenName": 16,
    "lenType": 16,
    "lenVar": 40
   },
   "kernels_config": {
    "python": {
     "delete_cmd_postfix": "",
     "delete_cmd_prefix": "del ",
     "library": "var_list.py",
     "varRefreshCmd": "print(var_dic_list())"
    },
    "r": {
     "delete_cmd_postfix": ") ",
     "delete_cmd_prefix": "rm(",
     "library": "var_list.r",
     "varRefreshCmd": "cat(var_dic_list()) "
    }
   },
   "types_to_exclude": [
    "module",
    "function",
    "builtin_function_or_method",
    "instance",
    "_Feature"
   ],
   "window_display": false
  }
 },
 "nbformat": 4,
 "nbformat_minor": 4
}
