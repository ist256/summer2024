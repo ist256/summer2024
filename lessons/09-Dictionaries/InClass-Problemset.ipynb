{
 "cells": [
  {
   "cell_type": "markdown",
   "metadata": {},
   "source": [
    "# In-Class Problem Set: Getting Song Lyrics\n",
    "\n",
    "## The Problem\n",
    "\n",
    "We're going to learn more about dictionaries by using one that has content we are familiar with. And instead of a JSON file which you loaded in the lab, we'll get our data in real-time but using an \"API\" (Lesson 13) to get the data. And then we'll \"walk\" through that structure to \"extract\" the info we want. In this case, we are looking for song titles.\n",
    "\n",
    "What's in it for you:\n",
    "\n",
    "    1. A glance at how to use APIs. We'll use the Musicmatch API to find the song given a title and artist\n",
    "    2. Once we have all of the info from the API we need to hunt down the lyrics because it sends is more than just that. \n",
    "    \n",
    "For examples:\n",
    "\n",
    "    Song: Cardigan\n",
    "    Artist: Taylor Swift\n",
    "    \n",
    "    API (Output we want): \"Vintage tee, brand new phone\\nHigh heels on cobblestones\\nWhen you are young, they assume you know nothing\\nSequin smile, black lipstick\\nSensual politics\"\n",
    "    \n",
    "    \n",
    "HINTS and ADVICE:\n",
    "\n",
    "- You need to use the Musixmatch API https://developer.musixmatch.com/ to search for songs and retrieve the lyrics. \n",
    "- The free version of the API provides access to 30% of the lyrics. This should be sufficient. \n",
    "- We won't worry about coding around API errors until we get to that lesson. And we won't build a function to do the request until that lesson.  This is all about how to extract the info that is returned and it is the same whether we are reading a json file or getting it from the web. \n",
    "\n",
    "This problem set mirrors what you will do in HW. In HW you will read a json file that has US senators info and you will have to extract information related to that senator. If you can do lyrics, you can do senators. \n"
   ]
  },
  {
   "cell_type": "markdown",
   "metadata": {
    "label": "problem_analysis_cell"
   },
   "source": [
    "## Part 1: Problem Analysis\n",
    "\n",
    "Inputs:\n",
    "\n",
    "```\n",
    "Prompt1: \n",
    "```\n",
    "\n",
    "Outputs:\n",
    "\n",
    "```\n",
    "Prompt2: \n",
    " -  \n",
    "\n",
    "```\n",
    "\n",
    "Algorithm (Steps in Program):  \n",
    "\n",
    "```\n",
    "TODO:Steps Here\n",
    "\n",
    "    input title and artist\n",
    "    call the music match api to get the lyrics for the title and artist\n",
    "    extract what is needed from the larger data structure\n",
    "    output the lyrics (note: I only want to see song lyrics. THINK!)\n",
    "\n",
    "```"
   ]
  },
  {
   "cell_type": "markdown",
   "metadata": {},
   "source": [
    "## Part 1: Code Solution Part 1 - no changes needed\n"
   ]
  },
  {
   "cell_type": "code",
   "execution_count": 1,
   "metadata": {
    "tags": []
   },
   "outputs": [],
   "source": [
    "import requests   # note this is used for our API call. \n",
    "\n",
    "mykey ='1e14ccfa7dd803369fd09b3a1cdfaabf'\n",
    "song = \"Cardigan\"\n",
    "artist = \"Taylor Swift\"\n",
    "\n",
    "url = \"https://api.musixmatch.com/ws/1.1/matcher.lyrics.get\"\n",
    "queryString = { 'format': 'json', 'apikey': key, 'q_track' : track, 'q_artist' : artist }\n",
    "response = requests.get(url, params=queryString)\n",
    "response.raise_for_status()\n",
    "data = response.json()\n"
   ]
  },
  {
   "cell_type": "code",
   "execution_count": null,
   "metadata": {},
   "outputs": [],
   "source": [
    "# Part 2: Your time to code!\n",
    "\n",
    "# Your job is to use the returned data to \n",
    "# extract only the song lyrics. Nothing else!!!! \n",
    "\n",
    "\n"
   ]
  }
 ],
 "metadata": {
  "anaconda-cloud": {},
  "celltoolbar": "Edit Metadata",
  "kernelspec": {
   "display_name": "Python 3 (ipykernel)",
   "language": "python",
   "name": "python3"
  },
  "language_info": {
   "codemirror_mode": {
    "name": "ipython",
    "version": 3
   },
   "file_extension": ".py",
   "mimetype": "text/x-python",
   "name": "python",
   "nbconvert_exporter": "python",
   "pygments_lexer": "ipython3",
   "version": "3.11.7"
  },
  "toc": {
   "base_numbering": 1,
   "nav_menu": {},
   "number_sections": false,
   "sideBar": false,
   "skip_h1_title": false,
   "title_cell": "Table of Contents",
   "title_sidebar": "Contents",
   "toc_cell": false,
   "toc_position": {},
   "toc_section_display": false,
   "toc_window_display": false
  },
  "varInspector": {
   "cols": {
    "lenName": 16,
    "lenType": 16,
    "lenVar": 40
   },
   "kernels_config": {
    "python": {
     "delete_cmd_postfix": "",
     "delete_cmd_prefix": "del ",
     "library": "var_list.py",
     "varRefreshCmd": "print(var_dic_list())"
    },
    "r": {
     "delete_cmd_postfix": ") ",
     "delete_cmd_prefix": "rm(",
     "library": "var_list.r",
     "varRefreshCmd": "cat(var_dic_list()) "
    }
   },
   "types_to_exclude": [
    "module",
    "function",
    "builtin_function_or_method",
    "instance",
    "_Feature"
   ],
   "window_display": false
  }
 },
 "nbformat": 4,
 "nbformat_minor": 4
}
