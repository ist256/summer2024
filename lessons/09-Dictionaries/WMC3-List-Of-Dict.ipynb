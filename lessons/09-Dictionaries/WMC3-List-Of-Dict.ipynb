{
 "cells": [
  {
   "cell_type": "markdown",
   "metadata": {},
   "source": [
    "# Watch Me Code 3: List of Dictionary\n"
   ]
  },
  {
   "cell_type": "code",
   "execution_count": null,
   "metadata": {},
   "outputs": [],
   "source": [
    "students = [ \n",
    " { 'Name':'bob','GPA':3.4, 'Ischool' : True },\n",
    " { 'Name':'sue','GPA':3.8, 'Ischool' : True },\n",
    " { 'Name':'kent','GPA':4.0, 'Ischool' : False }\n",
    "]\n",
    "print(students)"
   ]
  },
  {
   "cell_type": "code",
   "execution_count": null,
   "metadata": {},
   "outputs": [],
   "source": [
    "type(students)"
   ]
  },
  {
   "cell_type": "code",
   "execution_count": null,
   "metadata": {},
   "outputs": [],
   "source": [
    "students[-1]"
   ]
  },
  {
   "cell_type": "code",
   "execution_count": null,
   "metadata": {},
   "outputs": [],
   "source": [
    "type(students[-1])"
   ]
  },
  {
   "cell_type": "code",
   "execution_count": null,
   "metadata": {},
   "outputs": [],
   "source": [
    "print(students[-1])"
   ]
  },
  {
   "cell_type": "code",
   "execution_count": null,
   "metadata": {},
   "outputs": [],
   "source": [
    "# print names and GPA's of just ischool students:\n",
    "for student in students:    # list \n",
    "    if student['Ischool']:  # == True is not necessary\n",
    "        print(student['Name'], student['GPA'])"
   ]
  },
  {
   "cell_type": "code",
   "execution_count": null,
   "metadata": {},
   "outputs": [],
   "source": [
    "students = [\n",
    "    {\"Name\": \"bob\", \"age\": 18, \"grades\": [70, 80, 30]},\n",
    "    {\"Name\": \"Tom\", \"age\": 20, \"grades\": [70, 80, 30]},\n",
    "    {\"Name\": \"Jerry\", \"age\": 19, \"grades\": [70, 80, 30]}\n",
    "]\n",
    "\n",
    "for student in students:\n",
    "    print(\"Grades for: \" + student[\"Name\"])\n",
    "    for grade in student[\"grades\"]:\n",
    "        print(grade)\n",
    "        \n",
    "\n",
    "\n",
    "\n"
   ]
  },
  {
   "cell_type": "code",
   "execution_count": null,
   "metadata": {},
   "outputs": [],
   "source": []
  }
 ],
 "metadata": {
  "anaconda-cloud": {},
  "kernelspec": {
   "display_name": "Python 3 (ipykernel)",
   "language": "python",
   "name": "python3"
  },
  "language_info": {
   "codemirror_mode": {
    "name": "ipython",
    "version": 3
   },
   "file_extension": ".py",
   "mimetype": "text/x-python",
   "name": "python",
   "nbconvert_exporter": "python",
   "pygments_lexer": "ipython3",
   "version": "3.11.7"
  }
 },
 "nbformat": 4,
 "nbformat_minor": 4
}
