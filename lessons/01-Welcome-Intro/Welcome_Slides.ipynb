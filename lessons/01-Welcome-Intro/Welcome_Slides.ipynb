{
 "cells": [
  {
   "cell_type": "markdown",
   "metadata": {
    "editable": true,
    "slideshow": {
     "slide_type": "slide"
    },
    "tags": []
   },
   "source": [
    "# IST256 Introduction to Python for the Information Profession\n",
    "## Small Group Summer 2024\n",
    "\n",
    "Professor:\n",
    "\n",
    "- Deborah Nosky\n",
    "- Michael Fudge (originator and Professor of Record)\n"
   ]
  },
  {
   "cell_type": "markdown",
   "metadata": {
    "editable": true,
    "slideshow": {
     "slide_type": "slide"
    },
    "tags": []
   },
   "source": [
    "# About This Course\n",
    "\n",
    "- The course is for people new to programming.\n",
    "- No Experience Required!\n",
    "- We will Learn Python, the most Popular programming language.\n",
    "- Very suited for data-oriented tasks.\n",
    "- Course focuses on how to do it + why you should care.\n",
    "- Learning to code is a valuable skill. Makes you a better problem solver.\n",
    "- Practice makes perfect. We learn through struggle. This course will impose a lot of practice on you.\n",
    "- Summer requires that we take all of the Spr/Fall content usually covered over 15 weeks and compress it into 12 weeks time. Having a weekly plan helps. \n"
   ]
  },
  {
   "cell_type": "markdown",
   "metadata": {
    "editable": true,
    "jp-MarkdownHeadingCollapsed": true,
    "slideshow": {
     "slide_type": "slide"
    },
    "tags": []
   },
   "source": [
    "# Agenda\n",
    "\n",
    "1. Meet and Greet\n",
    "2. Syllabus [https://ist256.com/syllabus](https://ist256.com/syllabus)\n",
    "3. Jupyterhub [https://v2hub.ischool.syr.edu](https://v2hub.ischool.syr.edu)\n",
    "4. Jupyter and lab practice. We'll go through the rest of the info in Lesson 1 and set you up for Lesson 2 which you will need\n",
    "   to complete before this wednesday!!! \n",
    "5. Your TODO's before Wednesday at 6:30\n",
    "    :Review All Content in 01-Welcome - you do not have to turn in ANYTHING from this unit\n",
    "    :Open lesson 02-Variables\n",
    "        - the content folder guides you through what needs to be done\n",
    "        - Lab-02 is due no later than Tuesday night\n",
    "    "
   ]
  },
  {
   "cell_type": "markdown",
   "metadata": {
    "editable": true,
    "slideshow": {
     "slide_type": "slide"
    },
    "tags": []
   },
   "source": [
    "# 1. Meet and Greet\n",
    "\n",
    "- Your Name\n",
    "- Major\n",
    "- What you are hoping to learn from the course\n"
   ]
  },
  {
   "cell_type": "markdown",
   "metadata": {
    "editable": true,
    "slideshow": {
     "slide_type": "slide"
    },
    "tags": []
   },
   "source": [
    "# 2. Syllabus https://blackboard.syr.edu\n",
    "\n",
    "1. Understanding the learning model in this course\n",
    "   - What is due each week, what we will do in class versus what is done independently\n",
    "2. Methods of Evaluation\n",
    "3. Course Specific Policies (Honor Code, AI, Getting Help)\n",
    "4. Course Schedule"
   ]
  },
  {
   "cell_type": "markdown",
   "metadata": {
    "editable": true,
    "slideshow": {
     "slide_type": "slide"
    },
    "tags": []
   },
   "source": [
    "# 3. Jupyterhub  https://v2hub.ischool.syr.edu\n",
    "\n",
    "1. The main Screen and Progress Bar\n",
    "2. `README.ipynb`\n",
    "3. Files in a Typical Lesson"
   ]
  },
  {
   "cell_type": "markdown",
   "metadata": {
    "editable": true,
    "slideshow": {
     "slide_type": "slide"
    },
    "tags": []
   },
   "source": [
    "# Let's try some things in Jupyterhub\n",
    "\n",
    "\n",
    "- Opening up an assignment file... how do we know its an assignment?\n",
    "- Run code\n",
    "- Cell Types (code, markdown)\n",
    "- Stop Kernel\n",
    "- Turning in lab and homework"
   ]
  },
  {
   "cell_type": "markdown",
   "metadata": {
    "editable": true,
    "slideshow": {
     "slide_type": "slide"
    },
    "tags": []
   },
   "source": [
    "# Learn More about Jupyterhub\n",
    "\n",
    " Quick Introduction to Jupyter Notebook, by Michael Fudge\n",
    "\n",
    " https://www.youtube.com/watch?v=jZ952vChhuI\n"
   ]
  },
  {
   "cell_type": "markdown",
   "metadata": {
    "editable": true,
    "slideshow": {
     "slide_type": "slide"
    },
    "tags": []
   },
   "source": [
    "# We will jump over to Slides.ipynb for a demo \n",
    "\n",
    " "
   ]
  },
  {
   "cell_type": "code",
   "execution_count": null,
   "metadata": {
    "editable": true,
    "slideshow": {
     "slide_type": "slide"
    },
    "tags": []
   },
   "outputs": [],
   "source": []
  }
 ],
 "metadata": {
  "kernelspec": {
   "display_name": "Python 3 (ipykernel)",
   "language": "python",
   "name": "python3"
  },
  "language_info": {
   "codemirror_mode": {
    "name": "ipython",
    "version": 3
   },
   "file_extension": ".py",
   "mimetype": "text/x-python",
   "name": "python",
   "nbconvert_exporter": "python",
   "pygments_lexer": "ipython3",
   "version": "3.11.7"
  }
 },
 "nbformat": 4,
 "nbformat_minor": 4
}
