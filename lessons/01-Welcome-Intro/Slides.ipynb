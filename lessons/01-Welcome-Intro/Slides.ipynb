{
 "cells": [
  {
   "cell_type": "markdown",
   "metadata": {},
   "source": [
    "# IST256 Introduction to Python for the Information Profession\n",
    "## Small Group Summer 2024\n",
    "\n",
    "Professor:\n",
    "\n",
    "- Deborah Nosky\n",
    "- Michael Fudge (originator and Professor of Record) "
   ]
  },
  {
   "cell_type": "markdown",
   "metadata": {
    "slideshow": {
     "slide_type": "slide"
    }
   },
   "source": [
    "# Connect Activity\n",
    "\n",
    "Have you programmed a computer before?\n",
    "\n",
    "A. YES  \n",
    "B. NO  \n",
    "C. No Sure  \n",
    "D. Rather Not Say  \n",
    "\n"
   ]
  },
  {
   "cell_type": "markdown",
   "metadata": {
    "editable": true,
    "slideshow": {
     "slide_type": "slide"
    },
    "tags": []
   },
   "source": [
    "# What is programming (a.k.a. Coding)?\n",
    "\n",
    "- **Programming** is the act of you telling the computer to perform a series of tasks.\n",
    "- You must tell the computer **exactly** what you want it to do, and must do so in a way that it can understand.\n",
    "- The instructions we give the computer is called **code** or **program**.\n",
    "- Code which follows an sequence of steps is known as an **algorithm**.\n",
    "- Algorithms do not need to be written in code."
   ]
  },
  {
   "cell_type": "markdown",
   "metadata": {
    "editable": true,
    "slideshow": {
     "slide_type": "slide"
    },
    "tags": []
   },
   "source": [
    "# How Mike Eats M&M's ++\n",
    "\n",
    "```\n",
    "1. Open bag\n",
    "2. While bag is not empty:\n",
    "3.   Pour out handful of M&M's\n",
    "4.   Toss into mouth\n",
    "5.   Chew and Swallow Euphorically\n",
    "6. Pout now that the bag is empty.\n",
    "```\n",
    "\n",
    "++ Example of an algorithm not written in code\n"
   ]
  },
  {
   "cell_type": "markdown",
   "metadata": {
    "editable": true,
    "slideshow": {
     "slide_type": ""
    },
    "tags": []
   },
   "source": [
    "# Thinking Like a Top-Notch Problem Solver\n",
    "\n",
    "- **Understand** what is being asked. You cannot solve what you don't understand!\n",
    "- **Plan**. This can be as simple as given inputs X how do I achieve output Y?\n",
    "- **Simplify**. If the problem is too complex divide it up into a smaller one.\n",
    "- **Re-Assess/Research** problems too complex to solve. What about it is complex or unsolvable?\n",
    "- **Practice** the path to success is littered with failure. Embrace the fail. It makes you better. "
   ]
  },
  {
   "cell_type": "markdown",
   "metadata": {
    "editable": true,
    "slideshow": {
     "slide_type": "slide"
    },
    "tags": []
   },
   "source": [
    "# Why Learn the Python Programming Language?\n",
    "\n",
    "- Easy to learn with simple syntax.\n",
    "- Has a wealth of existing code you can leverage in your programs.\n",
    "- You can do complex things with very little typing.\n",
    "- Very popular with information professionals (Data Science, Analytics, Information Security).\n",
    "- Consistently one of the top 5 programming languages on the TIOBE Index [https://www.tiobe.com/tiobe-index/](https://www.tiobe.com/tiobe-index/)"
   ]
  },
  {
   "cell_type": "markdown",
   "metadata": {
    "slideshow": {
     "slide_type": "slide"
    }
   },
   "source": [
    "# Programming\n",
    "\n",
    "- **Is**\n",
    "  - Difficult\n",
    "  - Time Consuming\n",
    "  - Frustrating\n",
    "  - Rewarding\n",
    "- **Requires**\n",
    "  - Patience\n",
    "  - Precision\n",
    "  - Persistence\n",
    "  - Practice (Lots of it)"
   ]
  },
  {
   "cell_type": "markdown",
   "metadata": {
    "slideshow": {
     "slide_type": "slide"
    }
   },
   "source": [
    "# Your First Problem Solving Approach:\n",
    "\n",
    "## Input => Process => Output\n",
    "\n",
    "1. Identify the problem inputs (requirements)\n",
    "2. Identify the problem outputs (results)\n",
    "3. Write an algorithm to transform inputs to outputs.\n",
    "4. If you don't know how to do a step... research it!\n",
    "\n",
    "[![](https://mermaid.ink/img/pako:eNpFjs0KwjAQhF8l7Ll9gRwEWz0Iakt_To2HpdnaQtNITBAJeXdjK7iHYWf4GMZDryUBh2HWr35EY9m5EguLt-9O17JtbpvLuqJt_jb3vqyK_FjXIfxwlqY7lq-aQQKKjMJJxmr_BQTYkRQJ4PGVNKCbrQCxhIiis7p-Lz1waxwl4B4SLR0mvBtUwAecnzElOVltLtvcdXX4AFVJO2c?type=png)](https://mermaid.live/edit#pako:eNpFjs0KwjAQhF8l7Ll9gRwEWz0Iakt_To2HpdnaQtNITBAJeXdjK7iHYWf4GMZDryUBh2HWr35EY9m5EguLt-9O17JtbpvLuqJt_jb3vqyK_FjXIfxwlqY7lq-aQQKKjMJJxmr_BQTYkRQJ4PGVNKCbrQCxhIiis7p-Lz1waxwl4B4SLR0mvBtUwAecnzElOVltLtvcdXX4AFVJO2c)\n"
   ]
  },
  {
   "cell_type": "markdown",
   "metadata": {
    "slideshow": {
     "slide_type": "slide"
    }
   },
   "source": [
    "# Output In Python\n",
    "\n",
    "- The built in function `print()` is used to display output in Python.\n",
    "- It takes one argument in single or double quotes known as a string literal. \n",
    "- The string literal is enclosed in single or double quotes. `'hi'` or `\"hi\"`\n",
    "- Multiple string literals may be separated by a comma.\n"
   ]
  },
  {
   "cell_type": "markdown",
   "metadata": {
    "slideshow": {
     "slide_type": "skip"
    },
    "tags": []
   },
   "source": [
    "# Watch Me Code 1\n",
    "\n",
    "Demonstrating Python's built in `print()` function:\n",
    "\n",
    "- String literals\n",
    "- Single and double quotes\n",
    "- More than one argument to the function\n"
   ]
  },
  {
   "cell_type": "markdown",
   "metadata": {
    "slideshow": {
     "slide_type": "skip"
    },
    "tags": []
   },
   "source": [
    "# Check Yourself 1\n",
    "\n",
    "Which Python statement will output `welcome` ?\n",
    "\n",
    "A. `print(welcome)`  \n",
    "B. `print(\"welcome\")`  \n",
    "C. `print \"welcome\"`  \n",
    "D. `print welcome` \n",
    "\n",
    "\n",
    "\n"
   ]
  },
  {
   "cell_type": "markdown",
   "metadata": {
    "slideshow": {
     "slide_type": "slide"
    }
   },
   "source": [
    "# Input In Python\n",
    "\n",
    "- The built in function `input()` accepts input from the user. \n",
    "- It takes one argument a **string literal** which prompts (provides instructions to the user).\n",
    "- Input is commonly assigned to a **variable** so that the input can be used later on. \n"
   ]
  },
  {
   "cell_type": "markdown",
   "metadata": {
    "slideshow": {
     "slide_type": "slide"
    },
    "tags": []
   },
   "source": [
    "# Variables\n",
    "\n",
    "- **Variables** are named areas of computer memory for storing data. \n",
    "- The **name** can be anything but should make symbolic sense to the programmer.\n",
    "- We **write** to the variable’s memory location with the assignment statement (=)\n",
    "- We **read** from the variable by calling its name. \n",
    "- Variable names must begin with a letter or _ and must only contain letters, numbers or _."
   ]
  },
  {
   "cell_type": "markdown",
   "metadata": {
    "slideshow": {
     "slide_type": "slide"
    },
    "tags": []
   },
   "source": [
    "![](https://i.imgur.com/TtTNDFx.png)\n"
   ]
  },
  {
   "cell_type": "markdown",
   "metadata": {
    "slideshow": {
     "slide_type": "slide"
    }
   },
   "source": [
    "# Watch Me Code 2\n",
    "\n",
    "- The built in `input()` function\n",
    "- Using a prompt\n",
    "- Storing the output from `input()` into a variable\n",
    "- Printing the variable"
   ]
  },
  {
   "cell_type": "markdown",
   "metadata": {
    "slideshow": {
     "slide_type": "slide"
    }
   },
   "source": [
    "# Check Yourself 2\n",
    "\n",
    "For the following code, which is the prompt?  \n",
    "`x = input('y')`\n",
    "\n",
    "A. `input`  \n",
    "B. `'y'`  \n",
    "C. `=`  \n",
    "D. `x`  \n",
    "\n"
   ]
  },
  {
   "cell_type": "markdown",
   "metadata": {
    "slideshow": {
     "slide_type": "slide"
    }
   },
   "source": [
    "# F-Strings\n",
    "\n",
    "- F-Strings are Python's answer to **string interpolation**.\n",
    "- This replaces the variable name with its value within a string.\n",
    "- Called an F-string because the `f` tells Python to interpolate the string.\n"
   ]
  },
  {
   "cell_type": "code",
   "execution_count": null,
   "metadata": {
    "slideshow": {
     "slide_type": "fragment"
    }
   },
   "outputs": [],
   "source": [
    "name = 'George'\n",
    "print(\"{name} was curious.\")\n",
    "print(f\"{name} was curious.\")"
   ]
  },
  {
   "cell_type": "markdown",
   "metadata": {
    "slideshow": {
     "slide_type": "slide"
    }
   },
   "source": [
    "# Watch Me Code 3\n",
    "\n",
    "Put the `input()` and `print()` statements together.\n",
    "\n",
    "- Inputs and outputs into a program\n",
    "- Prompts that change based on input\n",
    "- Demonstrate use of `sep` and `end` arguments to `print()`\n",
    "- F-Strings for formatting variables through interpolation.\n"
   ]
  },
  {
   "cell_type": "markdown",
   "metadata": {
    "editable": true,
    "slideshow": {
     "slide_type": ""
    },
    "tags": []
   },
   "source": [
    "# End To End Example\n",
    "### Limerick Generator!\n",
    "\n",
    "- Write a program to prompt to create a custom limerick poem based on the inputs.\n",
    "\n",
    "Here's the story I want to make:\n",
    "\n",
    "- There once was a man named `[mans-name]`. He liked to eat `[food-rhymes-with-name]`. One day he ate so much `[food-rhymes-with-name]`, that he got the `[ailment]`, and had to run to the `[place-rhymes-with-name]`.\n",
    "- Input? Output? The Plan / Process?\n",
    "\n",
    "## See the answer in Lessons/01-Welcome-Intro/ETEE-Limerick-Generator.ipynb"
   ]
  },
  {
   "cell_type": "code",
   "execution_count": null,
   "metadata": {
    "editable": true,
    "slideshow": {
     "slide_type": ""
    },
    "tags": []
   },
   "outputs": [],
   "source": []
  }
 ],
 "metadata": {
  "celltoolbar": "Slideshow",
  "kernelspec": {
   "display_name": "Python 3 (ipykernel)",
   "language": "python",
   "name": "python3"
  },
  "language_info": {
   "codemirror_mode": {
    "name": "ipython",
    "version": 3
   },
   "file_extension": ".py",
   "mimetype": "text/x-python",
   "name": "python",
   "nbconvert_exporter": "python",
   "pygments_lexer": "ipython3",
   "version": "3.11.7"
  },
  "toc": {
   "base_numbering": 1,
   "nav_menu": {},
   "number_sections": false,
   "sideBar": false,
   "skip_h1_title": false,
   "title_cell": "Table of Contents",
   "title_sidebar": "Contents",
   "toc_cell": false,
   "toc_position": {},
   "toc_section_display": false,
   "toc_window_display": false
  },
  "varInspector": {
   "cols": {
    "lenName": 16,
    "lenType": 16,
    "lenVar": 40
   },
   "kernels_config": {
    "python": {
     "delete_cmd_postfix": "",
     "delete_cmd_prefix": "del ",
     "library": "var_list.py",
     "varRefreshCmd": "print(var_dic_list())"
    },
    "r": {
     "delete_cmd_postfix": ") ",
     "delete_cmd_prefix": "rm(",
     "library": "var_list.r",
     "varRefreshCmd": "cat(var_dic_list()) "
    }
   },
   "types_to_exclude": [
    "module",
    "function",
    "builtin_function_or_method",
    "instance",
    "_Feature"
   ],
   "window_display": false
  }
 },
 "nbformat": 4,
 "nbformat_minor": 4
}
