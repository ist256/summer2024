{
 "cells": [
  {
   "cell_type": "markdown",
   "metadata": {
    "editable": true,
    "slideshow": {
     "slide_type": ""
    },
    "tags": []
   },
   "source": [
    "# WMC4: Student Profile Card\n",
    "\n",
    "## Input\n",
    "\n",
    "Write a program which gathers student data such as name, email, gpa and major fromt the user\n",
    "\n",
    "## Output:\n",
    "\n",
    "A sample student card using all of the input given in the exact following format\n",
    "\n",
    "```\n",
    "===== STUDENT PROFILE =====\n",
    "NAME  : Michael Fudge\n",
    "EMAIL : mafudge@syr.edu\n",
    "GPA   : 4.0\n",
    "MAJOR : Information Studies\n",
    "```\n",
    "\n",
    "## Analysis (Algorithm)\n",
    "\n",
    "1.  Collect all input needed for the card from the user\n",
    "2.  Format the input given into the desired output format using 5 print statements\n",
    "3.  Format the input given into the desired output format using only 1 print statement "
   ]
  },
  {
   "cell_type": "code",
   "execution_count": 8,
   "metadata": {
    "tags": []
   },
   "outputs": [
    {
     "name": "stdout",
     "output_type": "stream",
     "text": [
      "Card Builder 2025 Program\n"
     ]
    },
    {
     "name": "stdin",
     "output_type": "stream",
     "text": [
      "What name do you want on the card:  Deb\n",
      "What is your Email Address:  deb\n",
      "Please enter Current GPA:  4.0\n",
      "What is your Major:  art\n"
     ]
    },
    {
     "name": "stdout",
     "output_type": "stream",
     "text": [
      "===== STUDENT PROFILE =====\n",
      "NAME  : Deb\n",
      "EMAIL : deb\n",
      "GPA   : 4.0\n",
      "MAJOR : art\n",
      "\n",
      "===== STUDENT PROFILE =====\n",
      "NAME  : Deb\n",
      "EMAIL : deb\n",
      "GPA   : 4.0\n",
      "MAJOR : art\n",
      "\n"
     ]
    }
   ],
   "source": [
    "# Collect User Input\n",
    "print(\"Card Builder 2025 Program\")\n",
    "name = input(\"What name do you want on the card: \")\n",
    "email = input(\"What is your Email Address: \")\n",
    "gpa = input(\"Please enter Current GPA: \")\n",
    "major = input(\"What is your Major: \")\n",
    "\n",
    "# Format Output\n",
    "print(f\"===== STUDENT PROFILE =====\")\n",
    "print (f\"NAME  : {name}\")\n",
    "print (f\"EMAIL : {email}\")\n",
    "print (f\"GPA   : {gpa}\")\n",
    "print (f\"MAJOR : {major}\")\n",
    "\n",
    "#New way to code a multi-line print statement using the f\"\"\" to start and end your print statement\n",
    "\n",
    "print(f\"\"\"\n",
    "===== STUDENT PROFILE =====\n",
    "NAME  : {name}\n",
    "EMAIL : {email}\n",
    "GPA   : {gpa}\n",
    "MAJOR : {major}\n",
    "\"\"\")"
   ]
  },
  {
   "cell_type": "code",
   "execution_count": null,
   "metadata": {},
   "outputs": [],
   "source": []
  }
 ],
 "metadata": {
  "anaconda-cloud": {},
  "kernelspec": {
   "display_name": "Python 3 (ipykernel)",
   "language": "python",
   "name": "python3"
  },
  "language_info": {
   "codemirror_mode": {
    "name": "ipython",
    "version": 3
   },
   "file_extension": ".py",
   "mimetype": "text/x-python",
   "name": "python",
   "nbconvert_exporter": "python",
   "pygments_lexer": "ipython3",
   "version": "3.11.7"
  },
  "toc": {
   "base_numbering": 1,
   "nav_menu": {},
   "number_sections": false,
   "sideBar": false,
   "skip_h1_title": false,
   "title_cell": "Table of Contents",
   "title_sidebar": "Contents",
   "toc_cell": false,
   "toc_position": {},
   "toc_section_display": false,
   "toc_window_display": false
  },
  "varInspector": {
   "cols": {
    "lenName": 16,
    "lenType": 16,
    "lenVar": 40
   },
   "kernels_config": {
    "python": {
     "delete_cmd_postfix": "",
     "delete_cmd_prefix": "del ",
     "library": "var_list.py",
     "varRefreshCmd": "print(var_dic_list())"
    },
    "r": {
     "delete_cmd_postfix": ") ",
     "delete_cmd_prefix": "rm(",
     "library": "var_list.r",
     "varRefreshCmd": "cat(var_dic_list()) "
    }
   },
   "position": {
    "height": "144.854px",
    "left": "2077.43px",
    "right": "20px",
    "top": "100px",
    "width": "350px"
   },
   "types_to_exclude": [
    "module",
    "function",
    "builtin_function_or_method",
    "instance",
    "_Feature"
   ],
   "window_display": true
  }
 },
 "nbformat": 4,
 "nbformat_minor": 4
}
