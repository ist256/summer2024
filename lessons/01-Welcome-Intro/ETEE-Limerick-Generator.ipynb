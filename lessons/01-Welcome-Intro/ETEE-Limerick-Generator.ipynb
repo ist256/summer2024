{
 "cells": [
  {
   "cell_type": "markdown",
   "id": "91f2533a-5405-4d90-ba13-2ccadafd398c",
   "metadata": {
    "editable": true,
    "slideshow": {
     "slide_type": ""
    },
    "tags": []
   },
   "source": [
    "# Limerick Generator\n",
    "\n",
    "Input:\n",
    "\n",
    "- man's name\n",
    "- food that rhymes with man's name\n",
    "- an aliment\n",
    "- place that rhymes with man's name\n",
    "\n",
    "Output:\n",
    "\n",
    "a limerick based on this template:\n",
    "\n",
    "There once was a man named [mans-name]. He liked to eat [food-rhymes-with-name]. One day he ate so much [food-rhymes-with-name], that he got the [ailment], and had to run to the [place-rhymes-with-name].\n",
    "\n",
    "Plan / Process / Strategy:\n",
    "\n",
    "using this template, replace the bracketed values with the inputs:"
   ]
  },
  {
   "cell_type": "code",
   "execution_count": 1,
   "id": "8344ca6c-ab57-4835-a0a2-e1c2b35c2562",
   "metadata": {
    "editable": true,
    "slideshow": {
     "slide_type": ""
    },
    "tags": []
   },
   "outputs": [
    {
     "name": "stdin",
     "output_type": "stream",
     "text": [
      "Enter a Man's name:  Bronn\n",
      "Enter a food that rhymes with Bronn: Flan\n",
      "Enter an aliment: chills\n",
      "Enter a place that rhymes with Bronn Jon\n"
     ]
    },
    {
     "name": "stdout",
     "output_type": "stream",
     "text": [
      "There once was a man named Bronn.\n",
      "He liked to eat Flan.\n",
      "One day he ate so much Flan,\n",
      "that he got the chills,\n",
      "and had to run to the Jon.\n"
     ]
    }
   ],
   "source": [
    "name = input(\"Enter a Man's name: \")\n",
    "food = input(f\"Enter a food that rhymes with {name}:\")\n",
    "ails = input(\"Enter an aliment:\")\n",
    "place = input(f\"Enter a place that rhymes with {name}\")\n",
    "\n",
    "print(f\"There once was a man named {name}.\")\n",
    "print(f\"He liked to eat {food}.\") \n",
    "print(f\"One day he ate so much {food},\")\n",
    "print(f\"that he got the {ails},\")\n",
    "print(f\"and had to run to the {place}.\")"
   ]
  },
  {
   "cell_type": "code",
   "execution_count": null,
   "id": "17a12242-9100-4e90-a8a7-5ec53eef03cc",
   "metadata": {
    "editable": true,
    "slideshow": {
     "slide_type": ""
    },
    "tags": []
   },
   "outputs": [],
   "source": []
  }
 ],
 "metadata": {
  "kernelspec": {
   "display_name": "Python 3 (ipykernel)",
   "language": "python",
   "name": "python3"
  },
  "language_info": {
   "codemirror_mode": {
    "name": "ipython",
    "version": 3
   },
   "file_extension": ".py",
   "mimetype": "text/x-python",
   "name": "python",
   "nbconvert_exporter": "python",
   "pygments_lexer": "ipython3",
   "version": "3.11.7"
  }
 },
 "nbformat": 4,
 "nbformat_minor": 5
}
