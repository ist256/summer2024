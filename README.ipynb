{
 "cells": [
  {
   "cell_type": "markdown",
   "id": "e93aab5c-6ef8-44fd-af37-06123f63eb63",
   "metadata": {},
   "source": [
    "# IST256 Spring 2024 README\n",
    "\n",
    "## What is this?\n",
    "\n",
    "- **This repository contains content we need to share with you pertinent to the course:** code samples, homework, labs, assignments, reading assignments, videos and anything else!\n",
    "- Posted grades, office hours, syllabus: [https://blackboard.syracuse.edu](https://blackboard.syracuse.edu)\n",
    "- You will work on the lab, in class problem sets and homework assignments here, and turn them in by running code provided at the bottom of each assignment.\n",
    "- Each time you start jupyterhub and see the progress bar, new content is copied into your folder (provided there is new content, of course).\n",
    "\n",
    "## The Weekly Lessons\n",
    "\n",
    "- Each lesson has its own folder. \n",
    "- There are several files in the lesson folder: \n",
    "  - `Content.ipynb` - Content for this lesson: assigned readings and video, help and advice. I suggest completing the readings before Large Group.\n",
    "  - `Slides.ipynb` - The slide deck presented in large group.\n",
    "  - `LargeGroup.ipynb` - An empty notebook where you can write your own code / notes during large group\n",
    "  - `LargeGroup-mafudge.ipynb` - Any code I write in large group goes here. You will get this file after class is over on the next jupyterhub progress bar.\n",
    "  - `LAB-xxx.ipynb` - The lab assignment for this lesson. Complete by Tuesday.\n",
    "  - `SmallGroup-xxx.ipynb` - The in-class small group problem sets. You will complete this in class.\n",
    "  - `HW-xxx.ipynb` - The homework assignment for this lesson. Complete by Friday.\n",
    "  - You will see other files, too. These are code examples, walk throughs and other supplemental materials. These provide examples and are worth exploring to gain a better understanding of the concepts."
   ]
  },
  {
   "cell_type": "code",
   "execution_count": null,
   "id": "1b6ee6e2-e7b4-4103-878b-1672103c7c2f",
   "metadata": {},
   "outputs": [],
   "source": []
  }
 ],
 "metadata": {
  "kernelspec": {
   "display_name": "Python 3 (ipykernel)",
   "language": "python",
   "name": "python3"
  },
  "language_info": {
   "codemirror_mode": {
    "name": "ipython",
    "version": 3
   },
   "file_extension": ".py",
   "mimetype": "text/x-python",
   "name": "python",
   "nbconvert_exporter": "python",
   "pygments_lexer": "ipython3",
   "version": "3.11.7"
  }
 },
 "nbformat": 4,
 "nbformat_minor": 5
}
